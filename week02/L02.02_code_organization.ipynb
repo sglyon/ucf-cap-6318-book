{
 "cells": [
  {
   "cell_type": "markdown",
   "id": "ec83c84c",
   "metadata": {
    "slideshow": {
     "slide_type": "slide"
    }
   },
   "source": [
    "# Julia Code Organization\n",
    "\n",
    "> Computational Analysis of Social Complexity\n",
    ">\n",
    "> Fall 2025, Spencer Lyon\n",
    "\n",
    "**Prerequisites**\n",
    "\n",
    "- Laptop or personal computer with internet connection\n",
    "- Julia intro lecture\n",
    "\n",
    "**Outcomes**\n",
    "\n",
    "- Creating julia modules\n",
    "- Importing Julia source fode files with the `include` function\n",
    "- Exporting types and functions to create \n",
    "\n",
    "**References**\n",
    "\n",
    "- Lecture notes\n",
    "- Julia documentation on [modules](https://docs.julialang.org/en/v1/manual/modules/)\n"
   ]
  },
  {
   "cell_type": "markdown",
   "id": "a8ba0a0c",
   "metadata": {
    "slideshow": {
     "slide_type": "slide"
    }
   },
   "source": [
    "## Introduction\n",
    "\n",
    "* Julia can be succesfully used for exploratory analysis and one-off scripts\n",
    "* As projects grow, it is often useful to add structure and organization to the code\n",
    "* In Julia, the main building blocks for code organization and re-use include\n",
    "    * Types/structs\n",
    "    * Functions/methods\n",
    "    * `.jl` source code files\n",
    "    * Modules\n",
    "    * Packages\n",
    "* In this not we'll learn how to manage .`jl` files and Modules\n",
    "* We'll pick up with Packages in another lecture"
   ]
  },
  {
   "cell_type": "markdown",
   "id": "4b535a4c",
   "metadata": {
    "slideshow": {
     "slide_type": "slide"
    }
   },
   "source": [
    "## .jl files\n",
    "\n",
    "* Julia source code typically lives in a plain text file with a `.jl` extension\n",
    "* While the extension is optional and not enforced by the Julia REPL or runtime, it is a strong convention followed by the community and by 3rd party tools like code editors and GitHub\n",
    "* Suppose we have the following code for simulating Markov Chains in Julia"
   ]
  },
  {
   "cell_type": "code",
   "execution_count": 8,
   "id": "eb0bcf68",
   "metadata": {},
   "outputs": [
    {
     "data": {
      "text/plain": [
       "simulate_values (generic function with 1 method)"
      ]
     },
     "metadata": {},
     "output_type": "display_data"
    }
   ],
   "source": [
    "# Markov Chain code\n",
    "\n",
    "struct MarkovChain{T}\n",
    "    P::Matrix{Float64}\n",
    "    initial_state::Vector{Float64}\n",
    "    state_values::Vector{T}\n",
    "\n",
    "    P_dists::Vector{Vector{Float64}}\n",
    "end\n",
    "\n",
    "function MarkovChain(P::Matrix{Float64}, initial_state::Vector{Float64}, state_values::Vector{T}) where T\n",
    "    P_dists = [cumsum(row) for row in eachrow(P)]\n",
    "    return MarkovChain{T}(P, initial_state, state_values, P_dists)\n",
    "end\n",
    "\n",
    "function simulate_indices(mc::MarkovChain, n_steps::Int)\n",
    "    init_dist = cumsum(mc.initial_state)\n",
    "    states = Vector{Int}(undef, n_steps)\n",
    "    states[1] = searchsortedfirst(init_dist, rand())\n",
    "    for i in 2:n_steps\n",
    "        states[i] = searchsortedfirst(mc.P_dists[states[i-1]], rand())\n",
    "    end\n",
    "    return states\n",
    "end\n",
    "\n",
    "function simulate_values(mc::MarkovChain{T}, n_steps::Int)::Vector{T} where T\n",
    "    states = simulate_indices(mc, n_steps)\n",
    "    return mc.state_values[states]\n",
    "end"
   ]
  },
  {
   "cell_type": "code",
   "execution_count": 9,
   "id": "edefc030",
   "metadata": {
    "slideshow": {
     "slide_type": "subslide"
    }
   },
   "outputs": [
    {
     "data": {
      "text/plain": [
       "MarkovChain{String}"
      ]
     },
     "metadata": {},
     "output_type": "display_data"
    }
   ],
   "source": [
    "P1 = [0.5 0.5; 0.5 0.5]\n",
    "mc1 = MarkovChain(P1, [1.0, 0.0], [\"A\", \"B\"])\n",
    "\n",
    "typeof(mc1)"
   ]
  },
  {
   "cell_type": "code",
   "execution_count": 10,
   "id": "ba31cb75",
   "metadata": {},
   "outputs": [
    {
     "data": {
      "text/plain": [
       "2-element Vector{Vector{Float64}}:\n",
       " [0.5, 1.0]\n",
       " [0.5, 1.0]"
      ]
     },
     "metadata": {},
     "output_type": "display_data"
    }
   ],
   "source": [
    "mc1.P_dists"
   ]
  },
  {
   "cell_type": "code",
   "execution_count": 11,
   "id": "009e9bd5",
   "metadata": {},
   "outputs": [
    {
     "data": {
      "text/plain": [
       "10-element Vector{Int64}:\n",
       " 1\n",
       " 1\n",
       " 2\n",
       " 2\n",
       " 1\n",
       " 1\n",
       " 1\n",
       " 2\n",
       " 1\n",
       " 1"
      ]
     },
     "metadata": {},
     "output_type": "display_data"
    }
   ],
   "source": [
    "inds = simulate_indices(mc1, 10)"
   ]
  },
  {
   "cell_type": "code",
   "execution_count": 13,
   "id": "3b96e4df",
   "metadata": {},
   "outputs": [
    {
     "data": {
      "text/plain": [
       "10-element Vector{String}:\n",
       " \"A\"\n",
       " \"A\"\n",
       " \"A\"\n",
       " \"A\"\n",
       " \"A\"\n",
       " \"B\"\n",
       " \"A\"\n",
       " \"A\"\n",
       " \"B\"\n",
       " \"A\""
      ]
     },
     "metadata": {},
     "output_type": "display_data"
    }
   ],
   "source": [
    "vals = simulate_values(mc1, 10)\n",
    "vals"
   ]
  },
  {
   "cell_type": "markdown",
   "id": "aee0029a",
   "metadata": {
    "slideshow": {
     "slide_type": "subslide"
    }
   },
   "source": [
    "* As you can see, we can use this code from inside a Jupyter notebook by running the defining cell and then calling the routines\n",
    "* However, what if we wanted to reuse the code for another notebook\n",
    "* We have two options:\n",
    "    1. Copy/paste it to the new notebook\n",
    "    2. Store the code in a `.jl` file and import it from both places\n",
    "* Let's pick the latter"
   ]
  },
  {
   "cell_type": "markdown",
   "id": "8158f2af",
   "metadata": {
    "slideshow": {
     "slide_type": "slide"
    }
   },
   "source": [
    "## `include`\n",
    "\n",
    "* I have created `markov.jl` with that code:"
   ]
  },
  {
   "cell_type": "code",
   "execution_count": 18,
   "id": "a28a4027",
   "metadata": {},
   "outputs": [
    {
     "name": "stdout",
     "output_type": "stream",
     "text": [
      "# Markov Chain code\n",
      "\n",
      "struct MarkovChain{T}\n",
      "    P::Matrix{Float64}\n",
      "    initial_state::Vector{Float64}\n",
      "    state_values::Vector{T}\n",
      "\n",
      "    P_dists::Vector{Vector{Float64}}\n",
      "end\n",
      "\n",
      "function MarkovChain(P::Matrix{Float64}, initial_state::Vector{Float64}, state_values::Vector{T}) where T\n",
      "    P_dists = [cumsum(row) for row in eachrow(P)]\n",
      "    return MarkovChain{T}(P, initial_state, state_values, P_dists)\n",
      "end\n",
      "\n",
      "function simulate_indices(mc::MarkovChain, n_steps::Int)\n",
      "    init_dist = cumsum(mc.initial_state)\n",
      "    states = Vector{Int}(undef, n_steps)\n",
      "    states[1] = searchsortedfirst(init_dist, rand())\n",
      "    for i in 2:n_steps\n",
      "        states[i] = searchsortedfirst(mc.P_dists[states[i-1]], rand())\n",
      "    end\n",
      "    return states\n",
      "end\n",
      "\n",
      "function simulate_values(mc::MarkovChain{T}, n_steps::Int)::Vector{T} where T\n",
      "    states = simulate_indices(mc, n_steps)\n",
      "    return mc.state_values[states]\n",
      "end\n",
      "\n",
      "function Base.rand(mc::MarkovChain{T}, n_steps::Int)::Vector{T} where T\n",
      "    simulate_values(mc, n_steps)\n",
      "end\n",
      "\n",
      "function stationary_distributions(mc::MarkovChain)\n",
      "    eig = eigen(mc.P')\n",
      "    out = Vector{Float64}[]\n",
      "    for i in 1:size(mc.P, 1)\n",
      "        if eig.values[i] == 1\n",
      "            vec = eig.vectors[:, i]\n",
      "            vec = vec ./ sum(vec)\n",
      "            push!(out, vec)\n",
      "        end\n",
      "    end\n",
      "    return out\n",
      "end\n",
      "\n"
     ]
    }
   ],
   "source": [
    "println(String(read(\"markov.jl\")))"
   ]
  },
  {
   "cell_type": "markdown",
   "id": "8ebaf758",
   "metadata": {
    "slideshow": {
     "slide_type": "subslide"
    }
   },
   "source": [
    "* To make use of this code in julia I can run `include(\"markov.jl\")`\n",
    "* You can think of the `include` function as copy/pasting AND evaluating the code from a file in whatever setting you are in"
   ]
  },
  {
   "cell_type": "code",
   "execution_count": 24,
   "id": "763dfef3",
   "metadata": {},
   "outputs": [
    {
     "data": {
      "text/plain": [
       "stationary_distributions (generic function with 1 method)"
      ]
     },
     "metadata": {},
     "output_type": "display_data"
    }
   ],
   "source": [
    "include(\"markov.jl\")"
   ]
  },
  {
   "cell_type": "markdown",
   "id": "9f168492",
   "metadata": {
    "slideshow": {
     "slide_type": "subslide"
    }
   },
   "source": [
    "* Notice that in the `markov.jl` file I added two extra functions (`rand` and `stationary_ditributions`)\n",
    "* We can verify that these were defined for us when we ran `include` by calling them:"
   ]
  },
  {
   "cell_type": "code",
   "execution_count": 20,
   "id": "29e33237",
   "metadata": {},
   "outputs": [
    {
     "data": {
      "text/plain": [
       "4-element Vector{String}:\n",
       " \"A\"\n",
       " \"B\"\n",
       " \"B\"\n",
       " \"A\""
      ]
     },
     "metadata": {},
     "output_type": "display_data"
    }
   ],
   "source": [
    "rand(mc1, 4)"
   ]
  },
  {
   "cell_type": "code",
   "execution_count": 25,
   "id": "a43382e8",
   "metadata": {},
   "outputs": [
    {
     "data": {
      "text/plain": [
       "1-element Vector{Vector{Float64}}:\n",
       " [0.5, 0.5]"
      ]
     },
     "metadata": {},
     "output_type": "display_data"
    }
   ],
   "source": [
    "stationary_distributions(mc1)"
   ]
  },
  {
   "cell_type": "markdown",
   "id": "7cbf70a7",
   "metadata": {
    "slideshow": {
     "slide_type": "slide"
    }
   },
   "source": [
    "## Modules\n",
    "\n",
    "* Being able to define code in a `.jl` file and load it in a notebook (or other `.jl` file!) is already a huge win for organization and reusability\n",
    "* But we can do better!\n",
    "* One issue with our approach here is that all types, functions, and methods we define in our `include`d files will become part of our working Julia session.\n",
    "* This is not always wanted\n",
    "* Suppose instead we really only wanted to make the `MarkovChain`, `rand`, and `stationary_distributions` code part of our session when loading our file\n",
    "* To do this, we will need to organize our code into a *Module*"
   ]
  },
  {
   "cell_type": "markdown",
   "id": "869eb220",
   "metadata": {},
   "source": [
    "* To create module we use the syntax \n",
    "\n",
    "```julia\n",
    "module NAME\n",
    "\n",
    "# code here\n",
    "\n",
    "end\n",
    "```\n",
    "* Here we use the `module` keyword, followed by the name of the module\n",
    "* Between the module name and `end` we insert any code we want to include in the module\n",
    "* By convention, the contents of a module are not indented (this is a rare exception to indenting code that comes before `end`)\n",
    "* I've created a module for our Markov chain code in `module.jl`:"
   ]
  },
  {
   "cell_type": "code",
   "execution_count": 27,
   "id": "75392f37",
   "metadata": {
    "slideshow": {
     "slide_type": "subslide"
    }
   },
   "outputs": [
    {
     "name": "stdout",
     "output_type": "stream",
     "text": [
      "module Markov\n",
      "\n",
      "export MarkovChain, rand, stationary_distributions\n",
      "\n",
      "include(\"markov.jl\")\n",
      "\n",
      "end\n",
      "\n"
     ]
    }
   ],
   "source": [
    "println(String(read(\"module.jl\")))"
   ]
  },
  {
   "cell_type": "markdown",
   "id": "8d0fef29",
   "metadata": {},
   "source": [
    "* Notice a few things:\n",
    "    1. I used the `export` keyword to list types/functions I want to be added to the caller's namespace when someone runs `using Markov`\n",
    "    2. I used `include` to add the actual source code in the module\n",
    "* This is a *very* common pattern in Julia and is one we will see throughout our course"
   ]
  },
  {
   "cell_type": "markdown",
   "id": "b1e3a479",
   "metadata": {
    "slideshow": {
     "slide_type": "subslide"
    }
   },
   "source": [
    "### Using Modules\n",
    "\n",
    "* To use a module we first have to evaluate the code defining it\n",
    "* To do that we can `include(\"module.jl\")`\n",
    "\n",
    "```{warning}\n",
    "I restarted my kernel here!!!!\n",
    "```"
   ]
  },
  {
   "cell_type": "code",
   "execution_count": 1,
   "id": "e2e62985",
   "metadata": {},
   "outputs": [
    {
     "data": {
      "text/plain": [
       "Main.Markov"
      ]
     },
     "metadata": {},
     "output_type": "display_data"
    }
   ],
   "source": [
    "include(\"module.jl\")\n"
   ]
  },
  {
   "cell_type": "markdown",
   "id": "a98b19e2",
   "metadata": {},
   "source": [
    "* Notice the printout shows that we now have a `Main.Markov` object\n",
    "    * NOTE: `Main` is the name of the default module the user executed code is evaluated in to\n",
    "* We can now access `Markov.<NAME>` where `<NAME>` is any type or function in the module"
   ]
  },
  {
   "cell_type": "code",
   "execution_count": 2,
   "id": "194bd5b0",
   "metadata": {},
   "outputs": [
    {
     "data": {
      "text/plain": [
       "Main.Markov.MarkovChain{Int64}([0.2 0.8; 0.5 0.5], [1.0, 0.0], [10, 20], [[0.2, 1.0], [0.5, 1.0]])"
      ]
     },
     "metadata": {},
     "output_type": "display_data"
    }
   ],
   "source": [
    "P2 = [0.2 0.8; 0.5 0.5]\n",
    "mc2 = Markov.MarkovChain(P2, [1.0, 0.0], [10, 20])"
   ]
  },
  {
   "cell_type": "code",
   "execution_count": 3,
   "id": "480fee0f",
   "metadata": {},
   "outputs": [
    {
     "data": {
      "text/plain": [
       "2-element Vector{Int64}:\n",
       " 10\n",
       " 10"
      ]
     },
     "metadata": {},
     "output_type": "display_data"
    }
   ],
   "source": [
    "Markov.rand(mc2, 2)"
   ]
  },
  {
   "cell_type": "markdown",
   "id": "0fae84ef",
   "metadata": {
    "slideshow": {
     "slide_type": "subslide"
    }
   },
   "source": [
    "* Notice that I had to use `Markov.` to access members of the module\n",
    "* Now taht the module is defined I can call `using Markov` to make it possible to use any `export`ed function without the `Markov.` prefix"
   ]
  },
  {
   "cell_type": "code",
   "execution_count": 4,
   "id": "16422fd0",
   "metadata": {},
   "outputs": [
    {
     "data": {
      "text/plain": [
       "1-element Vector{Vector{Float64}}:\n",
       " [0.38461538461538464, 0.6153846153846153]"
      ]
     },
     "metadata": {},
     "output_type": "display_data"
    }
   ],
   "source": [
    "using Main.Markov\n",
    "stationary_distributions(mc2)"
   ]
  },
  {
   "cell_type": "markdown",
   "id": "d2cffcfb",
   "metadata": {
    "slideshow": {
     "slide_type": "slide"
    }
   },
   "source": [
    "## Exercise\n",
    "\n",
    "* Now it is your turn\n",
    "* Let's create a module for working with geometric shapes\n",
    "* Create two new `.jl` files\n",
    "    1. One called `shapes.jl`: here define the following:\n",
    "        * An abstract type `Shape2D`\n",
    "        * Concrete types `Circle`, `Rectangle`, and `Triangle` that are subtypes of `Shape2D`\n",
    "        * Methods for `area` and `perimeter` for each shape type\n",
    "        * A function `is_inside(shape, x, y)` that checks if a point (x, y) is inside the shape\n",
    "    2. One called `GeometricShapes.jl`: here wrap the code from `shapes.jl` in a module named `GeometricShapes`\n",
    "        * Export the types: `Shape2D`, `Circle`, `Rectangle`, `Triangle`\n",
    "        * Export the functions: `area`, `perimeter`, `is_inside`\n",
    "* `include` your new module and test it by:\n",
    "  * Creating instances of each shape\n",
    "  * Computing their areas and perimeters\n",
    "  * Testing if various points are inside or outside the shapes"
   ]
  }
 ],
 "metadata": {
  "kernelspec": {
   "display_name": "Julia 1.11.6",
   "language": "julia",
   "name": "julia-1.11"
  },
  "language_info": {
   "file_extension": ".jl",
   "mimetype": "application/julia",
   "name": "julia",
   "version": "1.11.6"
  }
 },
 "nbformat": 4,
 "nbformat_minor": 5
}

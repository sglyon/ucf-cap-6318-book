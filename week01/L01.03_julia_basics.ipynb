{
 "cells": [
  {
   "cell_type": "markdown",
   "id": "14651e99-895e-423e-a55a-7a634e70719a",
   "metadata": {
    "slideshow": {
     "slide_type": "slide"
    },
    "tags": []
   },
   "source": [
    "# Julia Foundations\n",
    "\n",
    "> Computational Analysis of Social Complexity\n",
    ">\n",
    "> Fall 2024, Spencer Lyon\n",
    "\n",
    "**Prerequisites**\n",
    "\n",
    "- Laptop or personal computer with internet connection\n",
    "\n",
    "**Outcomes**\n",
    "\n",
    "- Understand the main benefits and features of Julia\n",
    "- See how to define variables, functions, and types in Julia\n",
    "- Install commonly used packages for Graphs, DataFrames, Plotting and more\n",
    "\n",
    "**References**\n",
    "\n",
    "- [Packages and Software Engineering](https://julia.quantecon.org/more_julia/index.html) section of QuantEcon julia lectures\n",
    "- Julia [documentation](https://docs.julialang.org/en/v1/)\n",
    "- Documentation for packages: [Graphs](https://juliagraphs.org/Graphs.jl/dev/), [DataFrames](https://dataframes.juliadata.org/stable/), [Plots](https://docs.juliaplots.org/stable/)"
   ]
  },
  {
   "cell_type": "markdown",
   "id": "bd515b59-d0e2-440c-86df-1bd2a3f1aa42",
   "metadata": {
    "slideshow": {
     "slide_type": "slide"
    },
    "tags": []
   },
   "source": [
    "## What is Julia?\n",
    "\n",
    "- Julia is a relatively new programming language (first public release in 2012, 1.0 release in 2018)\n",
    "- General purpose, but specializes in numerical computation\n",
    "- Leverages advanced compiler technology to generate very efficient code\n",
    "- It can be as clear to read and write as Python, and as quick to evaluate as C!"
   ]
  },
  {
   "cell_type": "markdown",
   "id": "ed66e162-74c8-4fc1-9e87-baae1747bd3d",
   "metadata": {
    "slideshow": {
     "slide_type": "slide"
    },
    "tags": []
   },
   "source": [
    "## Core Types\n",
    "\n",
    "- We'll start by learning about the core datatypes built in to Julia\n",
    "- Along the way we'll pick up some of the key syntax elements\n",
    "- We will move quickly, so some prior programming experience would be helpful"
   ]
  },
  {
   "cell_type": "markdown",
   "id": "f5094d23-167f-4874-8e43-2d8fb19b075e",
   "metadata": {
    "slideshow": {
     "slide_type": "subslide"
    },
    "tags": []
   },
   "source": [
    "### Numbers\n",
    "\n",
    "- Let's start with numbers\n",
    "- To work with a number, just type it!"
   ]
  },
  {
   "cell_type": "code",
   "execution_count": null,
   "id": "eb50679e-88b7-45b0-9414-2e19b19fd2c2",
   "metadata": {},
   "outputs": [],
   "source": [
    "42"
   ]
  },
  {
   "cell_type": "markdown",
   "id": "b06ba52c-656a-4888-a709-7fd4d18cd6f8",
   "metadata": {
    "slideshow": {
     "slide_type": "subslide"
    },
    "tags": []
   },
   "source": [
    "- We can also do basic arithmetic in the way you would expect"
   ]
  },
  {
   "cell_type": "code",
   "execution_count": null,
   "id": "d508b619-8db5-4de5-99f0-292c1caf8b95",
   "metadata": {},
   "outputs": [],
   "source": [
    "10 * 3"
   ]
  },
  {
   "cell_type": "code",
   "execution_count": null,
   "id": "18fcac50-7f64-4ba1-9569-c2b7e79862ca",
   "metadata": {},
   "outputs": [],
   "source": [
    "1 + 2"
   ]
  },
  {
   "cell_type": "markdown",
   "id": "cec7cfea-1bc0-410f-b03f-5217a84a1686",
   "metadata": {
    "slideshow": {
     "slide_type": "subslide"
    },
    "tags": []
   },
   "source": [
    "- So far we've worked with integers (whole numbers)\n",
    "- Julia can also work with numbers containing a decimal\n",
    "- In Julia these are called floating point numbers"
   ]
  },
  {
   "cell_type": "code",
   "execution_count": null,
   "id": "a5d7adc3-838d-489e-88d9-5265c4bf851d",
   "metadata": {},
   "outputs": [],
   "source": [
    "1.234 ^ 2.2"
   ]
  },
  {
   "cell_type": "code",
   "execution_count": null,
   "id": "a2b6e1fc-6bc6-4ad7-90e9-5c6e0e0ef9e1",
   "metadata": {},
   "outputs": [],
   "source": [
    "553.34 / 12.9"
   ]
  },
  {
   "cell_type": "markdown",
   "id": "b455b73b-41c0-4106-be57-a253eab8bb12",
   "metadata": {
    "slideshow": {
     "slide_type": "subslide"
    },
    "tags": []
   },
   "source": [
    "- We can mix and match integers and floats"
   ]
  },
  {
   "cell_type": "code",
   "execution_count": null,
   "id": "50e4d50f-2651-4ca2-89c1-dac2f0058696",
   "metadata": {},
   "outputs": [],
   "source": [
    "25 / 2.5"
   ]
  },
  {
   "cell_type": "code",
   "execution_count": null,
   "id": "67fe8602-722d-4c12-ba1c-13769c26ff67",
   "metadata": {},
   "outputs": [],
   "source": [
    "25 / 2  # dividing integers returns a float (notice the `.`)"
   ]
  },
  {
   "cell_type": "markdown",
   "id": "f57c5516-6cfe-4613-b065-63f2d56ebe58",
   "metadata": {},
   "source": [
    "- notice we used `#` to define a comment"
   ]
  },
  {
   "cell_type": "markdown",
   "id": "885b2ecd-2cc6-4fe8-983a-63726ff7901c",
   "metadata": {
    "slideshow": {
     "slide_type": "slide"
    },
    "tags": []
   },
   "source": [
    "## Text Data\n",
    "\n",
    "- Not all data is numerical\n",
    "- Some is textual\n",
    "- To represent text in Julia we use a `String`\n",
    "- To define a String we use quotation marks (`\"`) as below"
   ]
  },
  {
   "cell_type": "code",
   "execution_count": null,
   "id": "47d5705f-dcd5-4166-a9b6-92d70a081959",
   "metadata": {},
   "outputs": [],
   "source": [
    "\"My name is Spencer\""
   ]
  },
  {
   "cell_type": "code",
   "execution_count": null,
   "id": "4958af76-58aa-4710-9775-2e6cb7dc561e",
   "metadata": {},
   "outputs": [],
   "source": [
    "\"1\"  # an integer in a string"
   ]
  },
  {
   "cell_type": "markdown",
   "id": "2d6d0305-e65a-4385-895e-491e87ca6caf",
   "metadata": {
    "slideshow": {
     "slide_type": "subslide"
    },
    "tags": []
   },
   "source": [
    "- You cannot use single quotes for strings as in other languages (like Python or Javascript)\n",
    "- Go ahead... try it by removing the `#` and excuting the cell below"
   ]
  },
  {
   "cell_type": "code",
   "execution_count": null,
   "id": "7182119f-f651-4c39-8bfe-8b498bb644cf",
   "metadata": {},
   "outputs": [],
   "source": [
    "# 'hello'"
   ]
  },
  {
   "cell_type": "markdown",
   "id": "19a2751e-69f1-4274-b149-93e3e9157371",
   "metadata": {
    "slideshow": {
     "slide_type": "slide"
    },
    "tags": []
   },
   "source": [
    "## Arrays\n",
    "\n",
    "- When doing numerical work, we often need to deal with multiple pieces of data at the same time\n",
    "- In Julia the default way of doing this is to use an array\n",
    "- Arrays are defined with `[` and `]` as below"
   ]
  },
  {
   "cell_type": "code",
   "execution_count": null,
   "id": "8cdc80f1-69f9-4035-b4ba-e8c01458471f",
   "metadata": {},
   "outputs": [],
   "source": [
    "[1, 2, 3]  # a 3 element array "
   ]
  },
  {
   "cell_type": "code",
   "execution_count": null,
   "id": "5a3dc322-cb4f-4cd0-84bf-d876907a1b27",
   "metadata": {},
   "outputs": [],
   "source": [
    "[1 2 3]  # a 1x3 matrix"
   ]
  },
  {
   "cell_type": "code",
   "execution_count": null,
   "id": "7760ee94-d76e-4851-ad42-82b0bbc2a5f9",
   "metadata": {},
   "outputs": [],
   "source": [
    "[1 2; 3 4]  # a 2x2 matrix"
   ]
  },
  {
   "cell_type": "code",
   "execution_count": null,
   "id": "a13fd079-d414-473e-9e70-e0973fe433df",
   "metadata": {},
   "outputs": [],
   "source": [
    "[1 2\n",
    " 3 4]  # another way to write a 2x2 matrix"
   ]
  },
  {
   "cell_type": "code",
   "execution_count": null,
   "id": "fafcc270-f229-4c81-8f41-2fd57af9a0fe",
   "metadata": {},
   "outputs": [],
   "source": [
    "[1 \"hello\"; 2 \"world\"]  # a 2x2 matrix with int and string"
   ]
  },
  {
   "cell_type": "markdown",
   "id": "d453e695-6e42-4436-909c-e4291e125bb5",
   "metadata": {
    "slideshow": {
     "slide_type": "subslide"
    },
    "tags": []
   },
   "source": [
    "### Accessing array items\n",
    "\n",
    "- We can use `[N]` to access the Nth element\n",
    "- We can also use `[i:j]` to access items `i` through `j`\n",
    "- Finally we can use `[[n1, n2]]` to access the n1th and n2th elements"
   ]
  },
  {
   "cell_type": "code",
   "execution_count": null,
   "id": "2e6a30fb-1f8c-4f7c-9aa9-fb772d72f63e",
   "metadata": {},
   "outputs": [],
   "source": [
    "[100, 101, 102, 103][2]"
   ]
  },
  {
   "cell_type": "code",
   "execution_count": null,
   "id": "3d0c2b11-444f-451c-a443-a49f9155066b",
   "metadata": {},
   "outputs": [],
   "source": [
    "[100, 101, 102, 103][2:4]"
   ]
  },
  {
   "cell_type": "code",
   "execution_count": null,
   "id": "30d62f8d-04f5-470c-ad07-61fe568d0756",
   "metadata": {},
   "outputs": [],
   "source": [
    "[100, 101, 102, 103][[1, 3]]"
   ]
  },
  {
   "cell_type": "markdown",
   "id": "2e6b3d65-712e-4028-b8f2-37d9dd1c7fe3",
   "metadata": {},
   "source": [
    "- Note that unlike Python, Julia starts counting at 1"
   ]
  },
  {
   "cell_type": "markdown",
   "id": "14f7bd92-7dac-411c-b214-ee155bc27d2a",
   "metadata": {
    "slideshow": {
     "slide_type": "slide"
    },
    "tags": []
   },
   "source": [
    "## Tuples\n",
    "\n",
    "- There is another data type for holding \"lists\" of data called a tuple\n",
    "- Tuples are create using parenthesis instead of square brackets as follows\n"
   ]
  },
  {
   "cell_type": "code",
   "execution_count": null,
   "id": "9aeb474f-ca87-42ec-a677-881f9fd83635",
   "metadata": {},
   "outputs": [],
   "source": [
    "(1, 2, 3) "
   ]
  },
  {
   "cell_type": "code",
   "execution_count": null,
   "id": "1e28c5ae-8644-403d-83c0-16074862b527",
   "metadata": {},
   "outputs": [],
   "source": [
    "(\"hello\", 5)"
   ]
  },
  {
   "cell_type": "code",
   "execution_count": null,
   "id": "580fe9a4-ddb5-4932-b1b5-e97e171a0306",
   "metadata": {},
   "outputs": [],
   "source": [
    "(\"hello\", 5)[2]"
   ]
  },
  {
   "cell_type": "markdown",
   "id": "6a3a7af3-1286-43b3-82af-08aa9874e76c",
   "metadata": {},
   "source": [
    "- The main differences between tuples and arrays are\n",
    "    1. Tuples are meant to hold immutable or non-changing data\n",
    "    2. Tuples aren't usually meant for computation or linear algebra\n",
    "   "
   ]
  },
  {
   "cell_type": "markdown",
   "id": "6f89e53b-3cea-4eba-bd51-c44d2a480f49",
   "metadata": {
    "slideshow": {
     "slide_type": "subslide"
    },
    "tags": []
   },
   "source": [
    "## Dictionary\n",
    "\n",
    "- Very often in programming we want to be able to associate a key or name to a specific value\n",
    "- One data type for doing that is a Dict\n",
    "- Dicts are created with the somewhat inconvenient syntax `Dict(name => value, ...)` where the `...` means we can repeat the pattern multiple times\n",
    "- They keys and values can be of any type"
   ]
  },
  {
   "cell_type": "code",
   "execution_count": null,
   "id": "a09937b1-ecee-4d72-97d0-2e3e69b0879c",
   "metadata": {},
   "outputs": [],
   "source": [
    "Dict(\"x\" => 1, 2 => \"y\", [\"w\", \"z\"] => [1, 2, 3])"
   ]
  },
  {
   "cell_type": "code",
   "execution_count": null,
   "id": "511e6b9d-e5cd-441e-b019-86fabbb35f38",
   "metadata": {},
   "outputs": [],
   "source": [
    "# use `[name]` to acces element with `name`\n",
    "Dict(\"x\" => 1, 2 => \"y\", [\"w\", \"z\"] => [1, 2, 3])[2]"
   ]
  },
  {
   "cell_type": "markdown",
   "id": "a5a7f986-7d40-4d87-ac91-5dd9e571bf7b",
   "metadata": {},
   "source": [
    "- Dictionaries are often used for passing around groups of parameters\n",
    "- We'll see examples later on"
   ]
  },
  {
   "cell_type": "markdown",
   "id": "d11908cd-2112-4db7-861e-2ceedb8ac05f",
   "metadata": {
    "slideshow": {
     "slide_type": "subslide"
    },
    "tags": []
   },
   "source": [
    "## Named Tuples\n",
    "\n",
    "- The final \"collection\" we'll talk about is the named tuple\n",
    "- It is a hybrid between a tuple and a dictionary\n",
    "- To create them we use the synax `(name = value, ...)`\n",
    "- They names or keys need to be just names (not numbers or arrays). The values can be anything"
   ]
  },
  {
   "cell_type": "code",
   "execution_count": null,
   "id": "0bc89c2f-5238-4e7e-8472-d205ad5b6966",
   "metadata": {},
   "outputs": [],
   "source": [
    "(x = 1, y = 2, z=\"hello\")"
   ]
  },
  {
   "cell_type": "code",
   "execution_count": null,
   "id": "69d19f2e-de67-439b-a6af-c28d547e563a",
   "metadata": {},
   "outputs": [],
   "source": [
    "(x = 1, y = 2, z=\"hello\").z # use `.name` to access item"
   ]
  },
  {
   "cell_type": "markdown",
   "id": "9dbd00ed-8fce-4871-896b-a10432a31097",
   "metadata": {},
   "source": [
    "- Named tuples are a newer feature of Julia\n",
    "- They are often used for the same purpsoes as dictionaries because the syntax is much cleaner"
   ]
  },
  {
   "cell_type": "markdown",
   "id": "c1e9598a-2541-4fb2-9bf7-fbe0c59630cd",
   "metadata": {
    "slideshow": {
     "slide_type": "subslide"
    },
    "tags": []
   },
   "source": [
    "## Variables\n",
    "\n",
    "- Often when programming, we need to refer to the same piece of data more than once\n",
    "- To do this we use a variable\n",
    "- Variables are defined using an `=`, as in `name = value`"
   ]
  },
  {
   "cell_type": "code",
   "execution_count": null,
   "id": "13d8fed8-b704-4bb1-8a6a-7ffd88ae1d39",
   "metadata": {},
   "outputs": [],
   "source": [
    "x = 1"
   ]
  },
  {
   "cell_type": "code",
   "execution_count": null,
   "id": "14308512-e1a0-4903-bd80-f3c92f7c749e",
   "metadata": {},
   "outputs": [],
   "source": [
    "y = 42"
   ]
  },
  {
   "cell_type": "code",
   "execution_count": null,
   "id": "3c91ab54-6b06-40ff-baee-50a3aa096ad2",
   "metadata": {},
   "outputs": [],
   "source": [
    "x + y  # 'use' or 'refer to' x and y"
   ]
  },
  {
   "cell_type": "code",
   "execution_count": null,
   "id": "82bf0713-ea41-4e7c-986a-337be1b78bd0",
   "metadata": {},
   "outputs": [],
   "source": [
    "m1 = [1 0; 0 1]"
   ]
  },
  {
   "cell_type": "code",
   "execution_count": null,
   "id": "fec9642d-6dc5-4046-bf03-a662078880a9",
   "metadata": {},
   "outputs": [],
   "source": [
    "m2 = [1 2; 3 4]"
   ]
  },
  {
   "cell_type": "code",
   "execution_count": null,
   "id": "3823a2f3-f4a6-47c4-9230-dac1b492b9e0",
   "metadata": {},
   "outputs": [],
   "source": [
    "m1 * m2  # matrix multiplication"
   ]
  },
  {
   "cell_type": "code",
   "execution_count": null,
   "id": "e12d3f3f-4789-472c-91a5-b91ca29b5b11",
   "metadata": {},
   "outputs": [],
   "source": [
    "m2 * m2  # again -- but with something besides identity matrix!"
   ]
  },
  {
   "cell_type": "code",
   "execution_count": null,
   "id": "7fb8aa93-37c6-49a7-b4d9-2514882b6fc1",
   "metadata": {},
   "outputs": [],
   "source": [
    "d = Dict(\"X\" => 1, \"Y\" => 2)"
   ]
  },
  {
   "cell_type": "code",
   "execution_count": null,
   "id": "e4360400-82f9-4c14-a3ff-94a3331b9b55",
   "metadata": {},
   "outputs": [],
   "source": [
    "d[\"X\"]"
   ]
  },
  {
   "cell_type": "markdown",
   "id": "da292806-1dee-4228-afd3-522b5834a5a5",
   "metadata": {
    "slideshow": {
     "slide_type": "slide"
    },
    "tags": []
   },
   "source": [
    "## Functions\n",
    "\n",
    "- Most Julia programs do more than basic arithmetic operations on data\n",
    "- To apply an operation to a piece of data, we call a function\n",
    "- To call a function we use the `function_name(data1, data2)`\n",
    "- A very handy function is the `typeof` function"
   ]
  },
  {
   "cell_type": "code",
   "execution_count": null,
   "id": "cdbf7898-90c4-4e66-8d6b-45911ad7f241",
   "metadata": {},
   "outputs": [],
   "source": [
    "typeof(1)"
   ]
  },
  {
   "cell_type": "code",
   "execution_count": null,
   "id": "6bbb4b90-f863-4b6a-8925-340e49b3cd6a",
   "metadata": {},
   "outputs": [],
   "source": [
    "typeof(2.0)"
   ]
  },
  {
   "cell_type": "code",
   "execution_count": null,
   "id": "e8c8e407-17b4-4744-87b7-41ae25a2f439",
   "metadata": {},
   "outputs": [],
   "source": [
    "typeof([1,2,3])"
   ]
  },
  {
   "cell_type": "code",
   "execution_count": null,
   "id": "293f0b05-5c86-47a4-8065-0725e925afc1",
   "metadata": {},
   "outputs": [],
   "source": [
    "typeof([1 2; 3 4.0])"
   ]
  },
  {
   "cell_type": "markdown",
   "id": "3df176b3-9ab3-49fd-9622-ec9f90255607",
   "metadata": {
    "slideshow": {
     "slide_type": "subslide"
    },
    "tags": []
   },
   "source": [
    "- Many standard operations are built in to Julia as functions"
   ]
  },
  {
   "cell_type": "code",
   "execution_count": null,
   "id": "2c485955-5cfb-4ffe-8887-251ffdb1bf53",
   "metadata": {},
   "outputs": [],
   "source": [
    "sum([1, 2, 3])  # compute sum of array of numbers"
   ]
  },
  {
   "cell_type": "code",
   "execution_count": null,
   "id": "0cd63b9a-4d20-40be-b237-b255eb40aab5",
   "metadata": {},
   "outputs": [],
   "source": [
    "inv([1 2; 3 4])  # matrix inverse"
   ]
  },
  {
   "cell_type": "code",
   "execution_count": null,
   "id": "462f90ed-a1e1-4501-a741-7a73eba09f2d",
   "metadata": {},
   "outputs": [],
   "source": [
    "size([1 2; 3 4])  # number of (rows, columns)  in matrix"
   ]
  },
  {
   "cell_type": "code",
   "execution_count": null,
   "id": "39623d6d-e3f6-422f-963f-00def7932cce",
   "metadata": {},
   "outputs": [],
   "source": [
    "length([1, 2, 3])  # number of elements in array"
   ]
  },
  {
   "cell_type": "code",
   "execution_count": null,
   "id": "c4001078-aeef-4e72-bf82-69056c589300",
   "metadata": {},
   "outputs": [],
   "source": [
    "length([1 2; 3 4])  # returns total number of elements in a Matrix"
   ]
  },
  {
   "cell_type": "code",
   "execution_count": null,
   "id": "23ce980b-d246-4515-9875-6e2c7f6df6b2",
   "metadata": {},
   "outputs": [],
   "source": [
    "rand(2, 2, 2)  # a 2x2x2 array of random numbers, sampled from uniform[0,1] dist"
   ]
  },
  {
   "cell_type": "markdown",
   "id": "0bdffc2d-5bf5-4303-9254-4b4d0b4f672c",
   "metadata": {
    "slideshow": {
     "slide_type": "subslide"
    },
    "tags": []
   },
   "source": [
    "- Julia has 1000s of functions\n",
    "- We'll learn more as we go along...\n",
    "- Just watch for the pattern with parentisis: `name(args)`"
   ]
  },
  {
   "cell_type": "markdown",
   "id": "ae67977d-a06f-4c5a-91e6-9f1412ee7961",
   "metadata": {
    "slideshow": {
     "slide_type": "slide"
    },
    "tags": []
   },
   "source": [
    "### Defining Functions\n",
    "\n",
    "- Functions are used to execute a predefined set of operations\n",
    "- Defining our own funcitons allows us to break programs into small, easily written an understood components\n",
    "- We define functions using the syntax\n",
    "```julia\n",
    "function name(arg1, arg2)\n",
    "    # steps\n",
    "end\n",
    "```"
   ]
  },
  {
   "cell_type": "code",
   "execution_count": null,
   "id": "243d59cf-b203-4af8-9af0-06967254241a",
   "metadata": {},
   "outputs": [],
   "source": [
    "function mean(x)\n",
    "\ttotal = sum(x)\n",
    "\tN = length(x)\n",
    "\ttotal / N\n",
    "end"
   ]
  },
  {
   "cell_type": "code",
   "execution_count": null,
   "id": "9a6a001d-45a2-400d-a506-3071e400634a",
   "metadata": {
    "slideshow": {
     "slide_type": "fragment"
    },
    "tags": []
   },
   "outputs": [],
   "source": [
    "mean([1, 2, 3])"
   ]
  },
  {
   "cell_type": "code",
   "execution_count": null,
   "id": "576f2360-bdc6-46cd-92ca-aaf4b4d453f9",
   "metadata": {
    "slideshow": {
     "slide_type": "fragment"
    },
    "tags": []
   },
   "outputs": [],
   "source": [
    "# mean of 1000 random samples from U[0,1] -- should be ~ 0.5\n",
    "mean(rand(1000))  "
   ]
  },
  {
   "cell_type": "markdown",
   "id": "389d675e-a804-4649-8c22-678c7cddbb4b",
   "metadata": {
    "slideshow": {
     "slide_type": "subslide"
    },
    "tags": []
   },
   "source": [
    "- If a function only contains one line of code, you can also use a shorthand notation:\n",
    "```julia\n",
    "function_name(arg1, arg2) = # step\n",
    "```"
   ]
  },
  {
   "cell_type": "code",
   "execution_count": null,
   "id": "df2adcdb-bd8f-4af8-856e-338e7106d32d",
   "metadata": {},
   "outputs": [],
   "source": [
    "add_two(x) = x + 2"
   ]
  },
  {
   "cell_type": "code",
   "execution_count": null,
   "id": "f6a5da11-42c9-48a0-a46a-e9d3a7a51390",
   "metadata": {},
   "outputs": [],
   "source": [
    "add_two(40)"
   ]
  },
  {
   "cell_type": "markdown",
   "id": "9054e181-6667-49c0-905e-e26fefee647e",
   "metadata": {},
   "source": [
    "## Getting help for functions\n",
    "\n",
    "- Given that there are so many functions, sometimes it is hard to remember exactly what a function does\n",
    "- Thankfully we can get help from Julia\n",
    "- If we type `?function_name`, Julia will present us with documentation about the function"
   ]
  },
  {
   "cell_type": "code",
   "execution_count": null,
   "id": "a0bea66f-5e99-47ac-967f-8de9c9e7eafc",
   "metadata": {},
   "outputs": [],
   "source": [
    "?map"
   ]
  },
  {
   "cell_type": "code",
   "execution_count": null,
   "id": "53b77851-8ca3-4414-aa99-8d2cad9815de",
   "metadata": {},
   "outputs": [],
   "source": [
    "?extrema"
   ]
  },
  {
   "cell_type": "markdown",
   "id": "72ad6abd-9742-42df-a813-8f85ff1f78b2",
   "metadata": {},
   "source": [
    "## Control Flow\n",
    "\n",
    "- Julia has the basic elements of control flow:\n",
    "    - `if`-`else` statements\n",
    "    - `for` loops\n",
    "    "
   ]
  },
  {
   "cell_type": "code",
   "execution_count": null,
   "id": "70244fe0-8cac-4ba5-8f3b-1d638f3878e8",
   "metadata": {},
   "outputs": [],
   "source": [
    "if 1 > 2 # no parenthesis needed\n",
    "    println(\"what???\")\n",
    "else     # else is optional\n",
    "    print(\"phew\")\n",
    "end      # all \"blocks\" terminate with word `end`"
   ]
  },
  {
   "cell_type": "code",
   "execution_count": null,
   "id": "382fc4ca-2581-4799-b951-4b8768cec766",
   "metadata": {},
   "outputs": [],
   "source": [
    "for i in 1:5 # range of numbers 1 to 5\n",
    "    println(i, \" \", i^2)\n",
    "end"
   ]
  },
  {
   "cell_type": "markdown",
   "id": "e3ae3155-5365-4ad0-9b72-0742c7212b1e",
   "metadata": {},
   "source": [
    "- We will see many more examples as we go forward"
   ]
  },
  {
   "cell_type": "markdown",
   "id": "210f8bf3-b472-4c17-a885-b7a15b0ffeed",
   "metadata": {
    "slideshow": {
     "slide_type": "slide"
    },
    "tags": []
   },
   "source": [
    "## Packages\n",
    "\n",
    "- Julia comes ready to go with many powerful functions and data types\n",
    "- However, there is a very active community of Julia programmers who are experts in different subfields of science and engineering\n",
    "- This has led to the development of vibrant and exciting ecosystem of packages or toolboxes for performing specific tasks\n",
    "- We can access these routines by using Julia packages"
   ]
  },
  {
   "cell_type": "markdown",
   "id": "7b697605-9fda-44ba-b5dc-779573a7bd98",
   "metadata": {},
   "source": [
    "### Loading packages\n",
    "\n",
    "- By default Julia ships with a \"standard library\"\n",
    "- These are packages that come bundled with Julia itself and are pre-installed\n",
    "- To load a package and all of its types/functions use the `using` keyword\n",
    "- For example, we can load the `Dates` package and start using it"
   ]
  },
  {
   "cell_type": "code",
   "execution_count": null,
   "id": "358c3c7d-05e9-4f0f-82bf-82bec1cd5e8d",
   "metadata": {},
   "outputs": [],
   "source": [
    "using Dates"
   ]
  },
  {
   "cell_type": "code",
   "execution_count": null,
   "id": "7016070f-5b4a-403e-b5de-2cee762130da",
   "metadata": {},
   "outputs": [],
   "source": [
    "t1 = Dates.now()"
   ]
  },
  {
   "cell_type": "code",
   "execution_count": null,
   "id": "04b43e23-33e6-4f45-a464-6b5df3bb8bee",
   "metadata": {},
   "outputs": [],
   "source": [
    "Dates.format(t1, \"yyyy-mm-dd\")"
   ]
  },
  {
   "cell_type": "code",
   "execution_count": null,
   "id": "bd277d60-0490-46e9-8da2-831d2acd0a81",
   "metadata": {},
   "outputs": [],
   "source": [
    "t2 = Dates.now()"
   ]
  },
  {
   "cell_type": "code",
   "execution_count": null,
   "id": "0d58c145-18fe-4c78-8337-ea4ea51b2c7f",
   "metadata": {},
   "outputs": [],
   "source": [
    "t2 > t1"
   ]
  },
  {
   "cell_type": "code",
   "execution_count": null,
   "id": "47f0d7fb-c5b3-4d38-a159-c27b5c456987",
   "metadata": {},
   "outputs": [],
   "source": [
    "t3 = DateTime(1776, 7, 4)"
   ]
  },
  {
   "cell_type": "code",
   "execution_count": null,
   "id": "2235c67c-c1f7-479b-a8d7-e2897d2db3bd",
   "metadata": {},
   "outputs": [],
   "source": [
    "\"America is $(t1 - t3) ($(floor(t1 - t3, Dates.Day))) old\""
   ]
  },
  {
   "cell_type": "markdown",
   "id": "e743ffee-f631-45ce-bedb-077fa706381a",
   "metadata": {},
   "source": [
    "### Installing Packages\n",
    "\n",
    "- In addition to the standard library, we can also use packages created by other Julia users\n",
    "- To use a 3rd party package, we first need to install it\n",
    "- There are two ways to do this\n",
    "\n",
    "**1**\n",
    "\n",
    "```julia\n",
    "]add PackageName\n",
    "```\n",
    "\n",
    "**2**\n",
    "```julia\n",
    "using Pkg  # a standard library package\n",
    "Pkg.add(\"PackageName\")\n",
    "```\n",
    "\n",
    "Let's try them both"
   ]
  },
  {
   "cell_type": "code",
   "execution_count": null,
   "id": "62b20e23-8f61-49ab-8929-08de2af0a608",
   "metadata": {},
   "outputs": [],
   "source": [
    "]add Plots"
   ]
  },
  {
   "cell_type": "code",
   "execution_count": null,
   "id": "07806431-6d9d-4fa5-a4f1-a888c7b32ed4",
   "metadata": {},
   "outputs": [],
   "source": [
    "using Pkg\n",
    "Pkg.add(\"DataFrames\")"
   ]
  },
  {
   "cell_type": "markdown",
   "id": "f0b11a8e-d9f4-42ef-b7ec-5c8558d34a8a",
   "metadata": {},
   "source": [
    "- After installing packages, we can load and use them just as we did the standard library packages"
   ]
  },
  {
   "cell_type": "code",
   "execution_count": null,
   "id": "d38d8097-ac04-4389-8f3d-411dad096860",
   "metadata": {},
   "outputs": [],
   "source": [
    "using Plots"
   ]
  },
  {
   "cell_type": "code",
   "execution_count": null,
   "id": "b0871a83-3b57-47d3-b307-dc8566670448",
   "metadata": {},
   "outputs": [],
   "source": [
    "plot([sin, cos], -2pi, 2pi)"
   ]
  },
  {
   "cell_type": "code",
   "execution_count": null,
   "id": "8b394138-2afa-4b14-9671-d3939c7e0886",
   "metadata": {},
   "outputs": [],
   "source": [
    "using DataFrames\n",
    "df = DataFrame(c1=1:10, c2=(1:10).^2)"
   ]
  },
  {
   "cell_type": "markdown",
   "id": "96ebb1bc-273f-4c04-bf59-d0888b9b318f",
   "metadata": {},
   "source": [
    "### Package Composability\n",
    "\n",
    "- One unique feature sof Julia is that most of the language itself, in addition to packages, are written in Julia\n",
    "- For other languages like Python or R the \"built in\" part of the language is often written in another language like C\n",
    "- This difference has a large impact for Julia users\n",
    "    - Built in code and user code (including packages) are given the same \"treatment\"\n",
    "    - Anything the language creators can do, so can you\n",
    "- A practical implication of this is that packages can operate on built in types (like we saw in our examples above) as well as types from other packages\n",
    "- Let's see what this looks like by plotting a DataFrame\n"
   ]
  },
  {
   "cell_type": "code",
   "execution_count": null,
   "id": "c5029296-b618-4e31-b3cf-1c642e20718e",
   "metadata": {},
   "outputs": [],
   "source": [
    "# install \"StatsPlots\", which links Plots and DataFrames\n",
    "Pkg.add(\"StatsPlots\")\n",
    "\n",
    "using StatsPlots"
   ]
  },
  {
   "cell_type": "code",
   "execution_count": null,
   "id": "59dd05a4-0100-49e4-b19e-bd74a0aefb88",
   "metadata": {},
   "outputs": [],
   "source": [
    "@df df scatter(:c1, :c2)"
   ]
  },
  {
   "cell_type": "code",
   "execution_count": null,
   "id": "6a1941c0-9775-4cbb-8dea-5dba2afea6c4",
   "metadata": {},
   "outputs": [],
   "source": [
    "Pkg.add(\"RDatasets\") # common datasets from R programming language\n",
    "using RDatasets\n",
    "school = RDatasets.dataset(\"mlmRev\",\"Hsb82\")\n",
    "@df school density(:MAch, group = :Sx)"
   ]
  },
  {
   "cell_type": "code",
   "execution_count": null,
   "id": "4fd61886-a783-4029-8662-1acabbd980ca",
   "metadata": {},
   "outputs": [],
   "source": [
    "@df school density(:MAch, group = (:Sx, :Sector))"
   ]
  },
  {
   "cell_type": "code",
   "execution_count": null,
   "id": "57aea2d0-cf33-494a-b7f7-61eb17b23dd0",
   "metadata": {},
   "outputs": [],
   "source": []
  }
 ],
 "metadata": {
  "kernelspec": {
   "display_name": "Julia 1.10.4",
   "language": "julia",
   "name": "julia-1.10"
  },
  "language_info": {
   "file_extension": ".jl",
   "mimetype": "application/julia",
   "name": "julia",
   "version": "1.10.4"
  }
 },
 "nbformat": 4,
 "nbformat_minor": 5
}

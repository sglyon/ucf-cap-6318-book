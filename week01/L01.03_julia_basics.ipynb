{
 "cells": [
  {
   "cell_type": "markdown",
   "id": "14651e99-895e-423e-a55a-7a634e70719a",
   "metadata": {
    "slideshow": {
     "slide_type": "slide"
    },
    "tags": []
   },
   "source": [
    "# Julia Foundations\n",
    "\n",
    "> Computational Analysis of Social Complexity\n",
    ">\n",
    "> Fall 2024, Spencer Lyon\n",
    "\n",
    "**Prerequisites**\n",
    "\n",
    "- Laptop or personal computer with internet connection\n",
    "\n",
    "**Outcomes**\n",
    "\n",
    "- Understand the main benefits and features of Julia\n",
    "- See how to define variables, functions, and types in Julia\n",
    "- Install commonly used packages for Graphs, DataFrames, Plotting and more\n",
    "\n",
    "**References**\n",
    "\n",
    "- [Packages and Software Engineering](https://julia.quantecon.org/more_julia/index.html) section of QuantEcon julia lectures\n",
    "- Julia [documentation](https://docs.julialang.org/en/v1/)\n",
    "- Documentation for packages: [Graphs](https://juliagraphs.org/Graphs.jl/dev/), [DataFrames](https://dataframes.juliadata.org/stable/), [Plots](https://docs.juliaplots.org/stable/)"
   ]
  },
  {
   "cell_type": "markdown",
   "id": "bd515b59-d0e2-440c-86df-1bd2a3f1aa42",
   "metadata": {
    "slideshow": {
     "slide_type": "slide"
    },
    "tags": []
   },
   "source": [
    "## What is Julia?\n",
    "\n",
    "- Julia is a relatively new programming language (first public release in 2012, 1.0 release in 2018)\n",
    "- General purpose, but specializes in numerical computation\n",
    "- Leverages advanced compiler technology to generate very efficient code\n",
    "- It can be as clear to read and write as Python, and as quick to evaluate as C!"
   ]
  },
  {
   "cell_type": "code",
   "execution_count": 1,
   "id": "d03d379f-10f2-4ed3-834c-56a02b7add65",
   "metadata": {},
   "outputs": [
    {
     "data": {
      "text/plain": [
       "dumb_loop (generic function with 1 method)"
      ]
     },
     "execution_count": 1,
     "metadata": {},
     "output_type": "execute_result"
    }
   ],
   "source": [
    "function dumb_loop(n)\n",
    "    out = 0\n",
    "    for i in 1:n\n",
    "        out += 1\n",
    "    end\n",
    "    return out\n",
    "end"
   ]
  },
  {
   "cell_type": "code",
   "execution_count": 7,
   "id": "15c37044-28e1-45ff-b40e-44e7f23ed3cc",
   "metadata": {},
   "outputs": [],
   "source": [
    "using BenchmarkTools"
   ]
  },
  {
   "cell_type": "code",
   "execution_count": 9,
   "id": "973cfb54-f494-4e88-a22b-d1d6be3d3f2a",
   "metadata": {},
   "outputs": [
    {
     "name": "stdout",
     "output_type": "stream",
     "text": [
      "  1.291 ns (0 allocations: 0 bytes)\n"
     ]
    },
    {
     "data": {
      "text/plain": [
       "1000000000000000"
      ]
     },
     "execution_count": 9,
     "metadata": {},
     "output_type": "execute_result"
    }
   ],
   "source": [
    "@btime dumb_loop(100_000_000_0000000)"
   ]
  },
  {
   "cell_type": "code",
   "execution_count": 13,
   "id": "e4422345-a195-443e-bca5-f2b100515760",
   "metadata": {},
   "outputs": [
    {
     "name": "stdout",
     "output_type": "stream",
     "text": [
      "\u001b[90m;  @ In[1]:1 within `dumb_loop`\u001b[39m\n",
      "\u001b[95mdefine\u001b[39m \u001b[36mi64\u001b[39m \u001b[93m@julia_dumb_loop_1851\u001b[39m\u001b[33m(\u001b[39m\u001b[36mi64\u001b[39m \u001b[95msignext\u001b[39m \u001b[0m%0\u001b[33m)\u001b[39m \u001b[0m#0 \u001b[33m{\u001b[39m\n",
      "\u001b[91mtop:\u001b[39m\n",
      "\u001b[90m;  @ In[1]:3 within `dumb_loop`\u001b[39m\n",
      "  \u001b[0m%1 \u001b[0m= \u001b[96m\u001b[1mcall\u001b[22m\u001b[39m \u001b[36mi64\u001b[39m \u001b[93m@llvm.smax.i64\u001b[39m\u001b[33m(\u001b[39m\u001b[36mi64\u001b[39m \u001b[0m%0\u001b[0m, \u001b[36mi64\u001b[39m \u001b[33m0\u001b[39m\u001b[33m)\u001b[39m\n",
      "\u001b[90m;  @ In[1]:6 within `dumb_loop`\u001b[39m\n",
      "  \u001b[96m\u001b[1mret\u001b[22m\u001b[39m \u001b[36mi64\u001b[39m \u001b[0m%1\n",
      "\u001b[33m}\u001b[39m\n"
     ]
    }
   ],
   "source": [
    "@code_llvm dumb_loop(2100000)"
   ]
  },
  {
   "cell_type": "code",
   "execution_count": null,
   "id": "2f2baeae-19cd-46c9-b01d-def66261de89",
   "metadata": {},
   "outputs": [],
   "source": []
  },
  {
   "cell_type": "markdown",
   "id": "ed66e162-74c8-4fc1-9e87-baae1747bd3d",
   "metadata": {
    "slideshow": {
     "slide_type": "slide"
    },
    "tags": []
   },
   "source": [
    "## Core Types\n",
    "\n",
    "- We'll start by learning about the core datatypes built in to Julia\n",
    "- Along the way we'll pick up some of the key syntax elements\n",
    "- We will move quickly, so some prior programming experience would be helpful"
   ]
  },
  {
   "cell_type": "markdown",
   "id": "f5094d23-167f-4874-8e43-2d8fb19b075e",
   "metadata": {
    "slideshow": {
     "slide_type": "subslide"
    },
    "tags": []
   },
   "source": [
    "### Numbers\n",
    "\n",
    "- Let's start with numbers\n",
    "- To work with a number, just type it!"
   ]
  },
  {
   "cell_type": "code",
   "execution_count": 14,
   "id": "eb50679e-88b7-45b0-9414-2e19b19fd2c2",
   "metadata": {},
   "outputs": [
    {
     "data": {
      "text/plain": [
       "42"
      ]
     },
     "execution_count": 14,
     "metadata": {},
     "output_type": "execute_result"
    }
   ],
   "source": [
    "42"
   ]
  },
  {
   "cell_type": "markdown",
   "id": "b06ba52c-656a-4888-a709-7fd4d18cd6f8",
   "metadata": {
    "slideshow": {
     "slide_type": "subslide"
    },
    "tags": []
   },
   "source": [
    "- We can also do basic arithmetic in the way you would expect"
   ]
  },
  {
   "cell_type": "code",
   "execution_count": 15,
   "id": "d508b619-8db5-4de5-99f0-292c1caf8b95",
   "metadata": {},
   "outputs": [
    {
     "data": {
      "text/plain": [
       "30"
      ]
     },
     "execution_count": 15,
     "metadata": {},
     "output_type": "execute_result"
    }
   ],
   "source": [
    "10 * 3"
   ]
  },
  {
   "cell_type": "code",
   "execution_count": 16,
   "id": "18fcac50-7f64-4ba1-9569-c2b7e79862ca",
   "metadata": {},
   "outputs": [
    {
     "data": {
      "text/plain": [
       "3"
      ]
     },
     "execution_count": 16,
     "metadata": {},
     "output_type": "execute_result"
    }
   ],
   "source": [
    "1 + 2"
   ]
  },
  {
   "cell_type": "markdown",
   "id": "cec7cfea-1bc0-410f-b03f-5217a84a1686",
   "metadata": {
    "slideshow": {
     "slide_type": "subslide"
    },
    "tags": []
   },
   "source": [
    "- So far we've worked with integers (whole numbers)\n",
    "- Julia can also work with numbers containing a decimal\n",
    "- In Julia these are called floating point numbers"
   ]
  },
  {
   "cell_type": "code",
   "execution_count": 19,
   "id": "a5d7adc3-838d-489e-88d9-5265c4bf851d",
   "metadata": {},
   "outputs": [
    {
     "data": {
      "text/plain": [
       "1.5881567008330448"
      ]
     },
     "execution_count": 19,
     "metadata": {},
     "output_type": "execute_result"
    }
   ],
   "source": [
    "1.234 ^ 2.2"
   ]
  },
  {
   "cell_type": "code",
   "execution_count": 20,
   "id": "a2b6e1fc-6bc6-4ad7-90e9-5c6e0e0ef9e1",
   "metadata": {},
   "outputs": [
    {
     "data": {
      "text/plain": [
       "42.89457364341085"
      ]
     },
     "execution_count": 20,
     "metadata": {},
     "output_type": "execute_result"
    }
   ],
   "source": [
    "553.34 / 12.9"
   ]
  },
  {
   "cell_type": "markdown",
   "id": "b455b73b-41c0-4106-be57-a253eab8bb12",
   "metadata": {
    "slideshow": {
     "slide_type": "subslide"
    },
    "tags": []
   },
   "source": [
    "- We can mix and match integers and floats"
   ]
  },
  {
   "cell_type": "code",
   "execution_count": 21,
   "id": "50e4d50f-2651-4ca2-89c1-dac2f0058696",
   "metadata": {},
   "outputs": [
    {
     "data": {
      "text/plain": [
       "10.0"
      ]
     },
     "execution_count": 21,
     "metadata": {},
     "output_type": "execute_result"
    }
   ],
   "source": [
    "25 / 2.5"
   ]
  },
  {
   "cell_type": "code",
   "execution_count": 22,
   "id": "67fe8602-722d-4c12-ba1c-13769c26ff67",
   "metadata": {},
   "outputs": [
    {
     "data": {
      "text/plain": [
       "12.5"
      ]
     },
     "execution_count": 22,
     "metadata": {},
     "output_type": "execute_result"
    }
   ],
   "source": [
    "25 / 2  # dividing integers returns a float (notice the `.`)"
   ]
  },
  {
   "cell_type": "markdown",
   "id": "f57c5516-6cfe-4613-b065-63f2d56ebe58",
   "metadata": {},
   "source": [
    "- notice we used `#` to define a comment"
   ]
  },
  {
   "cell_type": "markdown",
   "id": "885b2ecd-2cc6-4fe8-983a-63726ff7901c",
   "metadata": {
    "slideshow": {
     "slide_type": "slide"
    },
    "tags": []
   },
   "source": [
    "## Text Data\n",
    "\n",
    "- Not all data is numerical\n",
    "- Some is textual\n",
    "- To represent text in Julia we use a `String`\n",
    "- To define a String we use quotation marks (`\"`) as below"
   ]
  },
  {
   "cell_type": "code",
   "execution_count": 23,
   "id": "47d5705f-dcd5-4166-a9b6-92d70a081959",
   "metadata": {},
   "outputs": [
    {
     "data": {
      "text/plain": [
       "\"My name is Spencer\""
      ]
     },
     "execution_count": 23,
     "metadata": {},
     "output_type": "execute_result"
    }
   ],
   "source": [
    "\"My name is Spencer\""
   ]
  },
  {
   "cell_type": "code",
   "execution_count": 24,
   "id": "4958af76-58aa-4710-9775-2e6cb7dc561e",
   "metadata": {},
   "outputs": [
    {
     "data": {
      "text/plain": [
       "\"1\""
      ]
     },
     "execution_count": 24,
     "metadata": {},
     "output_type": "execute_result"
    }
   ],
   "source": [
    "\"1\"  # an integer in a string"
   ]
  },
  {
   "cell_type": "markdown",
   "id": "2d6d0305-e65a-4385-895e-491e87ca6caf",
   "metadata": {
    "slideshow": {
     "slide_type": "subslide"
    },
    "tags": []
   },
   "source": [
    "- You cannot use single quotes for strings as in other languages (like Python or Javascript)\n",
    "- Go ahead... try it by removing the `#` and excuting the cell below"
   ]
  },
  {
   "cell_type": "code",
   "execution_count": 27,
   "id": "7182119f-f651-4c39-8bfe-8b498bb644cf",
   "metadata": {},
   "outputs": [],
   "source": [
    "# 'hello'"
   ]
  },
  {
   "cell_type": "code",
   "execution_count": 32,
   "id": "95757b4d-822a-4a26-8298-2d8cd391fa9c",
   "metadata": {},
   "outputs": [
    {
     "data": {
      "text/plain": [
       "\"This\\n\\nis\\n\\nalso\\n\\na\\n\\nstring\\n\""
      ]
     },
     "execution_count": 32,
     "metadata": {},
     "output_type": "execute_result"
    }
   ],
   "source": [
    "\"\"\"\n",
    "This\n",
    "\n",
    "is\n",
    "\n",
    "also\n",
    "\n",
    "a\n",
    "\n",
    "string\n",
    "\"\"\""
   ]
  },
  {
   "cell_type": "markdown",
   "id": "19a2751e-69f1-4274-b149-93e3e9157371",
   "metadata": {
    "slideshow": {
     "slide_type": "slide"
    },
    "tags": []
   },
   "source": [
    "## Arrays\n",
    "\n",
    "- When doing numerical work, we often need to deal with multiple pieces of data at the same time\n",
    "- In Julia the default way of doing this is to use an array\n",
    "- Arrays are defined with `[` and `]` as below"
   ]
  },
  {
   "cell_type": "code",
   "execution_count": 36,
   "id": "8cdc80f1-69f9-4035-b4ba-e8c01458471f",
   "metadata": {},
   "outputs": [
    {
     "data": {
      "text/plain": [
       "3-element Vector{Float64}:\n",
       " 1.0\n",
       " 2.0\n",
       " 3.14"
      ]
     },
     "execution_count": 36,
     "metadata": {},
     "output_type": "execute_result"
    }
   ],
   "source": [
    "[1, 2, 3.14]  # a 3 element array "
   ]
  },
  {
   "cell_type": "code",
   "execution_count": 37,
   "id": "5a3dc322-cb4f-4cd0-84bf-d876907a1b27",
   "metadata": {},
   "outputs": [
    {
     "data": {
      "text/plain": [
       "1×3 Matrix{Int64}:\n",
       " 1  2  3"
      ]
     },
     "execution_count": 37,
     "metadata": {},
     "output_type": "execute_result"
    }
   ],
   "source": [
    "[1 2 3]  # a 1x3 matrix"
   ]
  },
  {
   "cell_type": "code",
   "execution_count": 39,
   "id": "7760ee94-d76e-4851-ad42-82b0bbc2a5f9",
   "metadata": {},
   "outputs": [
    {
     "data": {
      "text/plain": [
       "2×2 Matrix{Int64}:\n",
       " 1  2\n",
       " 3  4"
      ]
     },
     "execution_count": 39,
     "metadata": {},
     "output_type": "execute_result"
    }
   ],
   "source": [
    "[1 2; 3 4]  # a 2x2 matrix"
   ]
  },
  {
   "cell_type": "code",
   "execution_count": 38,
   "id": "a13fd079-d414-473e-9e70-e0973fe433df",
   "metadata": {},
   "outputs": [
    {
     "data": {
      "text/plain": [
       "2×2 Matrix{Int64}:\n",
       " 1  2\n",
       " 3  4"
      ]
     },
     "execution_count": 38,
     "metadata": {},
     "output_type": "execute_result"
    }
   ],
   "source": [
    "[1 2\n",
    " 3 4]  # another way to write a 2x2 matrix"
   ]
  },
  {
   "cell_type": "code",
   "execution_count": 40,
   "id": "fafcc270-f229-4c81-8f41-2fd57af9a0fe",
   "metadata": {},
   "outputs": [
    {
     "data": {
      "text/plain": [
       "2×2 Matrix{Any}:\n",
       " 1  \"hello\"\n",
       " 2  \"world\""
      ]
     },
     "execution_count": 40,
     "metadata": {},
     "output_type": "execute_result"
    }
   ],
   "source": [
    "[1 \"hello\"; 2 \"world\"]  # a 2x2 matrix with int and string"
   ]
  },
  {
   "cell_type": "markdown",
   "id": "d453e695-6e42-4436-909c-e4291e125bb5",
   "metadata": {
    "slideshow": {
     "slide_type": "subslide"
    },
    "tags": []
   },
   "source": [
    "### Accessing array items\n",
    "\n",
    "- We can use `[N]` to access the Nth element\n",
    "- We can also use `[i:j]` to access items `i` through `j`\n",
    "- Finally we can use `[[n1, n2]]` to access the n1th and n2th elements"
   ]
  },
  {
   "cell_type": "code",
   "execution_count": 41,
   "id": "2e6a30fb-1f8c-4f7c-9aa9-fb772d72f63e",
   "metadata": {},
   "outputs": [
    {
     "data": {
      "text/plain": [
       "101"
      ]
     },
     "execution_count": 41,
     "metadata": {},
     "output_type": "execute_result"
    }
   ],
   "source": [
    "[100, 101, 102, 103][2]"
   ]
  },
  {
   "cell_type": "code",
   "execution_count": 42,
   "id": "3d0c2b11-444f-451c-a443-a49f9155066b",
   "metadata": {},
   "outputs": [
    {
     "data": {
      "text/plain": [
       "3-element Vector{Int64}:\n",
       " 101\n",
       " 102\n",
       " 103"
      ]
     },
     "execution_count": 42,
     "metadata": {},
     "output_type": "execute_result"
    }
   ],
   "source": [
    "[100, 101, 102, 103][2:4]"
   ]
  },
  {
   "cell_type": "code",
   "execution_count": 43,
   "id": "30d62f8d-04f5-470c-ad07-61fe568d0756",
   "metadata": {},
   "outputs": [
    {
     "data": {
      "text/plain": [
       "2-element Vector{Int64}:\n",
       " 100\n",
       " 102"
      ]
     },
     "execution_count": 43,
     "metadata": {},
     "output_type": "execute_result"
    }
   ],
   "source": [
    "[100, 101, 102, 103][[1, 3]]"
   ]
  },
  {
   "cell_type": "markdown",
   "id": "2e6b3d65-712e-4028-b8f2-37d9dd1c7fe3",
   "metadata": {},
   "source": [
    "- Note that unlike Python, Julia starts counting at 1"
   ]
  },
  {
   "cell_type": "markdown",
   "id": "14f7bd92-7dac-411c-b214-ee155bc27d2a",
   "metadata": {
    "slideshow": {
     "slide_type": "slide"
    },
    "tags": []
   },
   "source": [
    "## Tuples\n",
    "\n",
    "- There is another data type for holding \"lists\" of data called a tuple\n",
    "- Tuples are create using parenthesis instead of square brackets as follows\n"
   ]
  },
  {
   "cell_type": "code",
   "execution_count": 48,
   "id": "9aeb474f-ca87-42ec-a677-881f9fd83635",
   "metadata": {},
   "outputs": [
    {
     "data": {
      "text/plain": [
       "(1, 2, 3, \"hello\")"
      ]
     },
     "execution_count": 48,
     "metadata": {},
     "output_type": "execute_result"
    }
   ],
   "source": [
    "(1, 2, 3, \"hello\")"
   ]
  },
  {
   "cell_type": "code",
   "execution_count": 49,
   "id": "1e28c5ae-8644-403d-83c0-16074862b527",
   "metadata": {},
   "outputs": [
    {
     "data": {
      "text/plain": [
       "(\"hello\", 5)"
      ]
     },
     "execution_count": 49,
     "metadata": {},
     "output_type": "execute_result"
    }
   ],
   "source": [
    "(\"hello\", 5)"
   ]
  },
  {
   "cell_type": "code",
   "execution_count": 50,
   "id": "580fe9a4-ddb5-4932-b1b5-e97e171a0306",
   "metadata": {},
   "outputs": [
    {
     "data": {
      "text/plain": [
       "5"
      ]
     },
     "execution_count": 50,
     "metadata": {},
     "output_type": "execute_result"
    }
   ],
   "source": [
    "(\"hello\", 5)[2]"
   ]
  },
  {
   "cell_type": "markdown",
   "id": "6a3a7af3-1286-43b3-82af-08aa9874e76c",
   "metadata": {},
   "source": [
    "- The main differences between tuples and arrays are\n",
    "    1. Tuples are meant to hold immutable or non-changing data\n",
    "    2. Tuples aren't usually meant for computation or linear algebra\n",
    "   "
   ]
  },
  {
   "cell_type": "markdown",
   "id": "6f89e53b-3cea-4eba-bd51-c44d2a480f49",
   "metadata": {
    "slideshow": {
     "slide_type": "subslide"
    },
    "tags": []
   },
   "source": [
    "## Dictionary\n",
    "\n",
    "- Very often in programming we want to be able to associate a key or name to a specific value\n",
    "- One data type for doing that is a Dict\n",
    "- Dicts are created with the somewhat inconvenient syntax `Dict(name => value, ...)` where the `...` means we can repeat the pattern multiple times\n",
    "- They keys and values can be of any type"
   ]
  },
  {
   "cell_type": "code",
   "execution_count": 52,
   "id": "a09937b1-ecee-4d72-97d0-2e3e69b0879c",
   "metadata": {},
   "outputs": [
    {
     "data": {
      "text/plain": [
       "Dict{Any, Any} with 3 entries:\n",
       "  2          => \"y\"\n",
       "  [\"w\", \"z\"] => [1, 2, 3]\n",
       "  \"x\"        => 1"
      ]
     },
     "execution_count": 52,
     "metadata": {},
     "output_type": "execute_result"
    }
   ],
   "source": [
    "Dict(\"x\" => 1, 2 => \"y\", [\"w\", \"z\"] => [1, 2, 3])"
   ]
  },
  {
   "cell_type": "code",
   "execution_count": 55,
   "id": "511e6b9d-e5cd-441e-b019-86fabbb35f38",
   "metadata": {},
   "outputs": [
    {
     "data": {
      "text/plain": [
       "\"y\""
      ]
     },
     "execution_count": 55,
     "metadata": {},
     "output_type": "execute_result"
    }
   ],
   "source": [
    "# use `[name]` to acces element with `name`\n",
    "Dict(\"x\" => 1, 2 => \"y\", [\"w\", \"z\"] => [1, 2, 3])[2]"
   ]
  },
  {
   "cell_type": "code",
   "execution_count": 60,
   "id": "5270de85-e2d7-44f4-b472-e1b94baf0f4e",
   "metadata": {},
   "outputs": [
    {
     "data": {
      "text/plain": [
       "Dict{String, Int64} with 2 entries:\n",
       "  \"x\" => 1\n",
       "  \"y\" => 2"
      ]
     },
     "execution_count": 60,
     "metadata": {},
     "output_type": "execute_result"
    }
   ],
   "source": [
    "Dict(\"x\" => 1, \"y\" =>2)"
   ]
  },
  {
   "cell_type": "markdown",
   "id": "a5a7f986-7d40-4d87-ac91-5dd9e571bf7b",
   "metadata": {},
   "source": [
    "- Dictionaries are often used for passing around groups of parameters\n",
    "- We'll see examples later on"
   ]
  },
  {
   "cell_type": "markdown",
   "id": "d11908cd-2112-4db7-861e-2ceedb8ac05f",
   "metadata": {
    "slideshow": {
     "slide_type": "subslide"
    },
    "tags": []
   },
   "source": [
    "## Named Tuples\n",
    "\n",
    "- The final \"collection\" we'll talk about is the named tuple\n",
    "- It is a hybrid between a tuple and a dictionary\n",
    "- To create them we use the synax `(name = value, ...)`\n",
    "\n",
    "- They names or keys need to be just names (not numbers or arrays). The values can be anything"
   ]
  },
  {
   "cell_type": "code",
   "execution_count": 69,
   "id": "0bc89c2f-5238-4e7e-8472-d205ad5b6966",
   "metadata": {},
   "outputs": [
    {
     "data": {
      "text/plain": [
       "(x = 1, y = 2, z = \"hello\")"
      ]
     },
     "execution_count": 69,
     "metadata": {},
     "output_type": "execute_result"
    }
   ],
   "source": [
    "(x = 1, y = 2, z=\"hello\")"
   ]
  },
  {
   "cell_type": "code",
   "execution_count": 70,
   "id": "69d19f2e-de67-439b-a6af-c28d547e563a",
   "metadata": {},
   "outputs": [
    {
     "data": {
      "text/plain": [
       "\"hello\""
      ]
     },
     "execution_count": 70,
     "metadata": {},
     "output_type": "execute_result"
    }
   ],
   "source": [
    "(x = 1, y = 2, z=\"hello\").z # use `.name` to access item"
   ]
  },
  {
   "cell_type": "markdown",
   "id": "9dbd00ed-8fce-4871-896b-a10432a31097",
   "metadata": {},
   "source": [
    "- Named tuples are a newer feature of Julia\n",
    "- They are often used for the same purpsoes as dictionaries because the syntax is much cleaner"
   ]
  },
  {
   "cell_type": "markdown",
   "id": "c1e9598a-2541-4fb2-9bf7-fbe0c59630cd",
   "metadata": {
    "slideshow": {
     "slide_type": "subslide"
    },
    "tags": []
   },
   "source": [
    "## Variables\n",
    "\n",
    "- Often when programming, we need to refer to the same piece of data more than once\n",
    "- To do this we use a variable\n",
    "- Variables are defined using an `=`, as in `name = value`"
   ]
  },
  {
   "cell_type": "code",
   "execution_count": 71,
   "id": "13d8fed8-b704-4bb1-8a6a-7ffd88ae1d39",
   "metadata": {},
   "outputs": [
    {
     "data": {
      "text/plain": [
       "1"
      ]
     },
     "execution_count": 71,
     "metadata": {},
     "output_type": "execute_result"
    }
   ],
   "source": [
    "x = 1"
   ]
  },
  {
   "cell_type": "code",
   "execution_count": 72,
   "id": "14308512-e1a0-4903-bd80-f3c92f7c749e",
   "metadata": {},
   "outputs": [
    {
     "data": {
      "text/plain": [
       "42"
      ]
     },
     "execution_count": 72,
     "metadata": {},
     "output_type": "execute_result"
    }
   ],
   "source": [
    "y = 42"
   ]
  },
  {
   "cell_type": "code",
   "execution_count": 74,
   "id": "3c91ab54-6b06-40ff-baee-50a3aa096ad2",
   "metadata": {},
   "outputs": [
    {
     "data": {
      "text/plain": [
       "43"
      ]
     },
     "execution_count": 74,
     "metadata": {},
     "output_type": "execute_result"
    }
   ],
   "source": [
    "x + y  # 'use' or 'refer to' x and y"
   ]
  },
  {
   "cell_type": "code",
   "execution_count": 75,
   "id": "82bf0713-ea41-4e7c-986a-337be1b78bd0",
   "metadata": {},
   "outputs": [
    {
     "data": {
      "text/plain": [
       "2×2 Matrix{Int64}:\n",
       " 1  0\n",
       " 0  1"
      ]
     },
     "execution_count": 75,
     "metadata": {},
     "output_type": "execute_result"
    }
   ],
   "source": [
    "m1 = [1 0; 0 1]"
   ]
  },
  {
   "cell_type": "code",
   "execution_count": 76,
   "id": "fec9642d-6dc5-4046-bf03-a662078880a9",
   "metadata": {},
   "outputs": [
    {
     "data": {
      "text/plain": [
       "2×2 Matrix{Int64}:\n",
       " 1  2\n",
       " 3  4"
      ]
     },
     "execution_count": 76,
     "metadata": {},
     "output_type": "execute_result"
    }
   ],
   "source": [
    "m2 = [1 2; 3 4]"
   ]
  },
  {
   "cell_type": "code",
   "execution_count": 77,
   "id": "3823a2f3-f4a6-47c4-9230-dac1b492b9e0",
   "metadata": {},
   "outputs": [
    {
     "data": {
      "text/plain": [
       "2×2 Matrix{Int64}:\n",
       " 1  2\n",
       " 3  4"
      ]
     },
     "execution_count": 77,
     "metadata": {},
     "output_type": "execute_result"
    }
   ],
   "source": [
    "m1 * m2  # matrix multiplication"
   ]
  },
  {
   "cell_type": "code",
   "execution_count": 79,
   "id": "e12d3f3f-4789-472c-91a5-b91ca29b5b11",
   "metadata": {},
   "outputs": [
    {
     "data": {
      "text/plain": [
       "2×2 Matrix{Int64}:\n",
       "  7  10\n",
       " 15  22"
      ]
     },
     "execution_count": 79,
     "metadata": {},
     "output_type": "execute_result"
    }
   ],
   "source": [
    "m2 * m2  # again -- but with something besides identity matrix!"
   ]
  },
  {
   "cell_type": "code",
   "execution_count": 80,
   "id": "7fb8aa93-37c6-49a7-b4d9-2514882b6fc1",
   "metadata": {},
   "outputs": [
    {
     "data": {
      "text/plain": [
       "Dict{String, Int64} with 2 entries:\n",
       "  \"Y\" => 2\n",
       "  \"X\" => 1"
      ]
     },
     "execution_count": 80,
     "metadata": {},
     "output_type": "execute_result"
    }
   ],
   "source": [
    "d = Dict(\"X\" => 1, \"Y\" => 2)"
   ]
  },
  {
   "cell_type": "code",
   "execution_count": 81,
   "id": "e4360400-82f9-4c14-a3ff-94a3331b9b55",
   "metadata": {},
   "outputs": [
    {
     "data": {
      "text/plain": [
       "1"
      ]
     },
     "execution_count": 81,
     "metadata": {},
     "output_type": "execute_result"
    }
   ],
   "source": [
    "d[\"X\"]"
   ]
  },
  {
   "cell_type": "markdown",
   "id": "da292806-1dee-4228-afd3-522b5834a5a5",
   "metadata": {
    "slideshow": {
     "slide_type": "slide"
    },
    "tags": []
   },
   "source": [
    "## Functions\n",
    "\n",
    "- Most Julia programs do more than basic arithmetic operations on data\n",
    "- To apply an operation to a piece of data, we call a function\n",
    "- To call a function we use the `function_name(data1, data2)`\n",
    "- A very handy function is the `typeof` function"
   ]
  },
  {
   "cell_type": "code",
   "execution_count": 88,
   "id": "cdbf7898-90c4-4e66-8d6b-45911ad7f241",
   "metadata": {},
   "outputs": [
    {
     "data": {
      "text/plain": [
       "Int64"
      ]
     },
     "execution_count": 88,
     "metadata": {},
     "output_type": "execute_result"
    }
   ],
   "source": [
    "typeof(1)"
   ]
  },
  {
   "cell_type": "code",
   "execution_count": 89,
   "id": "6bbb4b90-f863-4b6a-8925-340e49b3cd6a",
   "metadata": {},
   "outputs": [
    {
     "data": {
      "text/plain": [
       "Float64"
      ]
     },
     "execution_count": 89,
     "metadata": {},
     "output_type": "execute_result"
    }
   ],
   "source": [
    "typeof(2.0)"
   ]
  },
  {
   "cell_type": "code",
   "execution_count": 84,
   "id": "e8c8e407-17b4-4744-87b7-41ae25a2f439",
   "metadata": {},
   "outputs": [
    {
     "data": {
      "text/plain": [
       "Vector{Int64}\u001b[90m (alias for \u001b[39m\u001b[90mArray{Int64, 1}\u001b[39m\u001b[90m)\u001b[39m"
      ]
     },
     "execution_count": 84,
     "metadata": {},
     "output_type": "execute_result"
    }
   ],
   "source": [
    "typeof([1,2,3])"
   ]
  },
  {
   "cell_type": "code",
   "execution_count": 85,
   "id": "293f0b05-5c86-47a4-8065-0725e925afc1",
   "metadata": {},
   "outputs": [
    {
     "data": {
      "text/plain": [
       "Matrix{Float64}\u001b[90m (alias for \u001b[39m\u001b[90mArray{Float64, 2}\u001b[39m\u001b[90m)\u001b[39m"
      ]
     },
     "execution_count": 85,
     "metadata": {},
     "output_type": "execute_result"
    }
   ],
   "source": [
    "typeof([1 2; 3 4.0])"
   ]
  },
  {
   "cell_type": "markdown",
   "id": "3df176b3-9ab3-49fd-9622-ec9f90255607",
   "metadata": {
    "slideshow": {
     "slide_type": "subslide"
    },
    "tags": []
   },
   "source": [
    "- Many standard operations are built in to Julia as functions"
   ]
  },
  {
   "cell_type": "code",
   "execution_count": 92,
   "id": "2c485955-5cfb-4ffe-8887-251ffdb1bf53",
   "metadata": {},
   "outputs": [
    {
     "data": {
      "text/plain": [
       "6"
      ]
     },
     "execution_count": 92,
     "metadata": {},
     "output_type": "execute_result"
    }
   ],
   "source": [
    "sum([1, 2, 3])  # compute sum of array of numbers"
   ]
  },
  {
   "cell_type": "code",
   "execution_count": 93,
   "id": "0cd63b9a-4d20-40be-b237-b255eb40aab5",
   "metadata": {},
   "outputs": [
    {
     "data": {
      "text/plain": [
       "2×2 Matrix{Float64}:\n",
       " -2.0   1.0\n",
       "  1.5  -0.5"
      ]
     },
     "execution_count": 93,
     "metadata": {},
     "output_type": "execute_result"
    }
   ],
   "source": [
    "inv([1 2; 3 4])  # matrix inverse"
   ]
  },
  {
   "cell_type": "code",
   "execution_count": 94,
   "id": "462f90ed-a1e1-4501-a741-7a73eba09f2d",
   "metadata": {},
   "outputs": [
    {
     "data": {
      "text/plain": [
       "(2, 2)"
      ]
     },
     "execution_count": 94,
     "metadata": {},
     "output_type": "execute_result"
    }
   ],
   "source": [
    "size([1 2; 3 4])  # number of (rows, columns)  in matrix"
   ]
  },
  {
   "cell_type": "code",
   "execution_count": 96,
   "id": "39623d6d-e3f6-422f-963f-00def7932cce",
   "metadata": {},
   "outputs": [
    {
     "data": {
      "text/plain": [
       "3"
      ]
     },
     "execution_count": 96,
     "metadata": {},
     "output_type": "execute_result"
    }
   ],
   "source": [
    "length([1, 2, 3])  # number of elements in array"
   ]
  },
  {
   "cell_type": "code",
   "execution_count": 95,
   "id": "c4001078-aeef-4e72-bf82-69056c589300",
   "metadata": {},
   "outputs": [
    {
     "data": {
      "text/plain": [
       "4"
      ]
     },
     "execution_count": 95,
     "metadata": {},
     "output_type": "execute_result"
    }
   ],
   "source": [
    "length([1 2; 3 4])  # returns total number of elements in a Matrix"
   ]
  },
  {
   "cell_type": "code",
   "execution_count": 103,
   "id": "23ce980b-d246-4515-9875-6e2c7f6df6b2",
   "metadata": {},
   "outputs": [
    {
     "data": {
      "text/plain": [
       "2×2×2 Array{Float64, 3}:\n",
       "[:, :, 1] =\n",
       " 0.362076  0.860015\n",
       " 0.297667  0.572139\n",
       "\n",
       "[:, :, 2] =\n",
       " 0.775214  0.145788\n",
       " 0.815195  0.820176"
      ]
     },
     "execution_count": 103,
     "metadata": {},
     "output_type": "execute_result"
    }
   ],
   "source": [
    "rand(2, 2, 2)  # a 2x2x2 array of random numbers, sampled from uniform[0,1] dist"
   ]
  },
  {
   "cell_type": "markdown",
   "id": "0bdffc2d-5bf5-4303-9254-4b4d0b4f672c",
   "metadata": {
    "slideshow": {
     "slide_type": "subslide"
    },
    "tags": []
   },
   "source": [
    "- Julia has 1000s of functions\n",
    "- We'll learn more as we go along...\n",
    "- Just watch for the pattern with parentisis: `name(args)`"
   ]
  },
  {
   "cell_type": "markdown",
   "id": "ae67977d-a06f-4c5a-91e6-9f1412ee7961",
   "metadata": {
    "slideshow": {
     "slide_type": "slide"
    },
    "tags": []
   },
   "source": [
    "### Defining Functions\n",
    "\n",
    "- Functions are used to execute a predefined set of operations\n",
    "- Defining our own funcitons allows us to break programs into small, easily written an understood components\n",
    "- We define functions using the syntax\n",
    "```julia\n",
    "function name(arg1, arg2)\n",
    "    # steps\n",
    "end\n",
    "```"
   ]
  },
  {
   "cell_type": "code",
   "execution_count": 113,
   "id": "243d59cf-b203-4af8-9af0-06967254241a",
   "metadata": {},
   "outputs": [
    {
     "data": {
      "text/plain": [
       "mean (generic function with 1 method)"
      ]
     },
     "execution_count": 113,
     "metadata": {},
     "output_type": "execute_result"
    }
   ],
   "source": [
    "function mean(x)\n",
    "    total = sum(x)\n",
    "    N = length(x)\n",
    "    total / N\n",
    "end"
   ]
  },
  {
   "cell_type": "code",
   "execution_count": 114,
   "id": "9a6a001d-45a2-400d-a506-3071e400634a",
   "metadata": {
    "slideshow": {
     "slide_type": "fragment"
    },
    "tags": []
   },
   "outputs": [
    {
     "data": {
      "text/plain": [
       "2.0"
      ]
     },
     "execution_count": 114,
     "metadata": {},
     "output_type": "execute_result"
    }
   ],
   "source": [
    "mean([1, 2, 3])"
   ]
  },
  {
   "cell_type": "code",
   "execution_count": 115,
   "id": "576f2360-bdc6-46cd-92ca-aaf4b4d453f9",
   "metadata": {
    "slideshow": {
     "slide_type": "fragment"
    },
    "tags": []
   },
   "outputs": [
    {
     "data": {
      "text/plain": [
       "0.48944092617754337"
      ]
     },
     "execution_count": 115,
     "metadata": {},
     "output_type": "execute_result"
    }
   ],
   "source": [
    "# mean of 1000 random samples from U[0,1] -- should be ~ 0.5\n",
    "mean(rand(1000))"
   ]
  },
  {
   "cell_type": "markdown",
   "id": "389d675e-a804-4649-8c22-678c7cddbb4b",
   "metadata": {
    "slideshow": {
     "slide_type": "subslide"
    },
    "tags": []
   },
   "source": [
    "- If a function only contains one line of code, you can also use a shorthand notation:\n",
    "```julia\n",
    "function_name(arg1, arg2) = # step\n",
    "```"
   ]
  },
  {
   "cell_type": "code",
   "execution_count": 116,
   "id": "df2adcdb-bd8f-4af8-856e-338e7106d32d",
   "metadata": {},
   "outputs": [
    {
     "data": {
      "text/plain": [
       "add_two (generic function with 1 method)"
      ]
     },
     "execution_count": 116,
     "metadata": {},
     "output_type": "execute_result"
    }
   ],
   "source": [
    "add_two(x) = x + 2"
   ]
  },
  {
   "cell_type": "code",
   "execution_count": 117,
   "id": "f6a5da11-42c9-48a0-a46a-e9d3a7a51390",
   "metadata": {},
   "outputs": [
    {
     "data": {
      "text/plain": [
       "42"
      ]
     },
     "execution_count": 117,
     "metadata": {},
     "output_type": "execute_result"
    }
   ],
   "source": [
    "add_two(40)"
   ]
  },
  {
   "cell_type": "markdown",
   "id": "9054e181-6667-49c0-905e-e26fefee647e",
   "metadata": {},
   "source": [
    "## Getting help for functions\n",
    "\n",
    "- Given that there are so many functions, sometimes it is hard to remember exactly what a function does\n",
    "- Thankfully we can get help from Julia\n",
    "- If we type `?function_name`, Julia will present us with documentation about the function"
   ]
  },
  {
   "cell_type": "code",
   "execution_count": 120,
   "id": "a0bea66f-5e99-47ac-967f-8de9c9e7eafc",
   "metadata": {},
   "outputs": [
    {
     "name": "stdout",
     "output_type": "stream",
     "text": [
      "search: \u001b[0m\u001b[1mm\u001b[22m\u001b[0m\u001b[1ma\u001b[22m\u001b[0m\u001b[1mp\u001b[22m \u001b[0m\u001b[1mm\u001b[22m\u001b[0m\u001b[1ma\u001b[22m\u001b[0m\u001b[1mp\u001b[22m! \u001b[0m\u001b[1mm\u001b[22m\u001b[0m\u001b[1ma\u001b[22m\u001b[0m\u001b[1mp\u001b[22mfoldr \u001b[0m\u001b[1mm\u001b[22m\u001b[0m\u001b[1ma\u001b[22m\u001b[0m\u001b[1mp\u001b[22mfoldl \u001b[0m\u001b[1mm\u001b[22m\u001b[0m\u001b[1ma\u001b[22m\u001b[0m\u001b[1mp\u001b[22mslices \u001b[0m\u001b[1mm\u001b[22m\u001b[0m\u001b[1ma\u001b[22m\u001b[0m\u001b[1mp\u001b[22mreduce async\u001b[0m\u001b[1mm\u001b[22m\u001b[0m\u001b[1ma\u001b[22m\u001b[0m\u001b[1mp\u001b[22m async\u001b[0m\u001b[1mm\u001b[22m\u001b[0m\u001b[1ma\u001b[22m\u001b[0m\u001b[1mp\u001b[22m!\n",
      "\n"
     ]
    },
    {
     "data": {
      "text/latex": [
       "\\begin{verbatim}\n",
       "map(f, c...) -> collection\n",
       "\\end{verbatim}\n",
       "Transform collection \\texttt{c} by applying \\texttt{f} to each element. For multiple collection arguments, apply \\texttt{f} elementwise, and stop when any of them is exhausted.\n",
       "\n",
       "See also \\href{@ref}{\\texttt{map!}}, \\href{@ref}{\\texttt{foreach}}, \\href{@ref}{\\texttt{mapreduce}}, \\href{@ref}{\\texttt{mapslices}}, \\href{@ref}{\\texttt{zip}}, \\href{@ref}{\\texttt{Iterators.map}}.\n",
       "\n",
       "\\section{Examples}\n",
       "\\begin{verbatim}\n",
       "julia> map(x -> x * 2, [1, 2, 3])\n",
       "3-element Vector{Int64}:\n",
       " 2\n",
       " 4\n",
       " 6\n",
       "\n",
       "julia> map(+, [1, 2, 3], [10, 20, 30, 400, 5000])\n",
       "3-element Vector{Int64}:\n",
       " 11\n",
       " 22\n",
       " 33\n",
       "\\end{verbatim}\n",
       "\\rule{\\textwidth}{1pt}\n",
       "\\begin{verbatim}\n",
       "map(f, A::AbstractArray...) -> N-array\n",
       "\\end{verbatim}\n",
       "When acting on multi-dimensional arrays of the same \\href{@ref}{\\texttt{ndims}}, they must all have the same \\href{@ref}{\\texttt{axes}}, and the answer will too.\n",
       "\n",
       "See also \\href{@ref}{\\texttt{broadcast}}, which allows mismatched sizes.\n",
       "\n",
       "\\section{Examples}\n",
       "\\begin{verbatim}\n",
       "julia> map(//, [1 2; 3 4], [4 3; 2 1])\n",
       "2×2 Matrix{Rational{Int64}}:\n",
       " 1//4  2//3\n",
       " 3//2  4//1\n",
       "\n",
       "julia> map(+, [1 2; 3 4], zeros(2,1))\n",
       "ERROR: DimensionMismatch\n",
       "\n",
       "julia> map(+, [1 2; 3 4], [1,10,100,1000], zeros(3,1))  # iterates until 3rd is exhausted\n",
       "3-element Vector{Float64}:\n",
       "   2.0\n",
       "  13.0\n",
       " 102.0\n",
       "\\end{verbatim}\n"
      ],
      "text/markdown": [
       "```\n",
       "map(f, c...) -> collection\n",
       "```\n",
       "\n",
       "Transform collection `c` by applying `f` to each element. For multiple collection arguments, apply `f` elementwise, and stop when any of them is exhausted.\n",
       "\n",
       "See also [`map!`](@ref), [`foreach`](@ref), [`mapreduce`](@ref), [`mapslices`](@ref), [`zip`](@ref), [`Iterators.map`](@ref).\n",
       "\n",
       "# Examples\n",
       "\n",
       "```jldoctest\n",
       "julia> map(x -> x * 2, [1, 2, 3])\n",
       "3-element Vector{Int64}:\n",
       " 2\n",
       " 4\n",
       " 6\n",
       "\n",
       "julia> map(+, [1, 2, 3], [10, 20, 30, 400, 5000])\n",
       "3-element Vector{Int64}:\n",
       " 11\n",
       " 22\n",
       " 33\n",
       "```\n",
       "\n",
       "---\n",
       "\n",
       "```\n",
       "map(f, A::AbstractArray...) -> N-array\n",
       "```\n",
       "\n",
       "When acting on multi-dimensional arrays of the same [`ndims`](@ref), they must all have the same [`axes`](@ref), and the answer will too.\n",
       "\n",
       "See also [`broadcast`](@ref), which allows mismatched sizes.\n",
       "\n",
       "# Examples\n",
       "\n",
       "```\n",
       "julia> map(//, [1 2; 3 4], [4 3; 2 1])\n",
       "2×2 Matrix{Rational{Int64}}:\n",
       " 1//4  2//3\n",
       " 3//2  4//1\n",
       "\n",
       "julia> map(+, [1 2; 3 4], zeros(2,1))\n",
       "ERROR: DimensionMismatch\n",
       "\n",
       "julia> map(+, [1 2; 3 4], [1,10,100,1000], zeros(3,1))  # iterates until 3rd is exhausted\n",
       "3-element Vector{Float64}:\n",
       "   2.0\n",
       "  13.0\n",
       " 102.0\n",
       "```\n"
      ],
      "text/plain": [
       "\u001b[36m  map(f, c...) -> collection\u001b[39m\n",
       "\n",
       "  Transform collection \u001b[36mc\u001b[39m by applying \u001b[36mf\u001b[39m to each element. For multiple\n",
       "  collection arguments, apply \u001b[36mf\u001b[39m elementwise, and stop when any of them is\n",
       "  exhausted.\n",
       "\n",
       "  See also \u001b[36mmap!\u001b[39m, \u001b[36mforeach\u001b[39m, \u001b[36mmapreduce\u001b[39m, \u001b[36mmapslices\u001b[39m, \u001b[36mzip\u001b[39m, \u001b[36mIterators.map\u001b[39m.\n",
       "\n",
       "\u001b[1m  Examples\u001b[22m\n",
       "\u001b[1m  ≡≡≡≡≡≡≡≡\u001b[22m\n",
       "\n",
       "\u001b[36m  julia> map(x -> x * 2, [1, 2, 3])\u001b[39m\n",
       "\u001b[36m  3-element Vector{Int64}:\u001b[39m\n",
       "\u001b[36m   2\u001b[39m\n",
       "\u001b[36m   4\u001b[39m\n",
       "\u001b[36m   6\u001b[39m\n",
       "\u001b[36m  \u001b[39m\n",
       "\u001b[36m  julia> map(+, [1, 2, 3], [10, 20, 30, 400, 5000])\u001b[39m\n",
       "\u001b[36m  3-element Vector{Int64}:\u001b[39m\n",
       "\u001b[36m   11\u001b[39m\n",
       "\u001b[36m   22\u001b[39m\n",
       "\u001b[36m   33\u001b[39m\n",
       "\n",
       "  ────────────────────────────────────────────────────────────────────────────\n",
       "\n",
       "\u001b[36m  map(f, A::AbstractArray...) -> N-array\u001b[39m\n",
       "\n",
       "  When acting on multi-dimensional arrays of the same \u001b[36mndims\u001b[39m, they must all\n",
       "  have the same \u001b[36maxes\u001b[39m, and the answer will too.\n",
       "\n",
       "  See also \u001b[36mbroadcast\u001b[39m, which allows mismatched sizes.\n",
       "\n",
       "\u001b[1m  Examples\u001b[22m\n",
       "\u001b[1m  ≡≡≡≡≡≡≡≡\u001b[22m\n",
       "\n",
       "\u001b[36m  julia> map(//, [1 2; 3 4], [4 3; 2 1])\u001b[39m\n",
       "\u001b[36m  2×2 Matrix{Rational{Int64}}:\u001b[39m\n",
       "\u001b[36m   1//4  2//3\u001b[39m\n",
       "\u001b[36m   3//2  4//1\u001b[39m\n",
       "\u001b[36m  \u001b[39m\n",
       "\u001b[36m  julia> map(+, [1 2; 3 4], zeros(2,1))\u001b[39m\n",
       "\u001b[36m  ERROR: DimensionMismatch\u001b[39m\n",
       "\u001b[36m  \u001b[39m\n",
       "\u001b[36m  julia> map(+, [1 2; 3 4], [1,10,100,1000], zeros(3,1))  # iterates until 3rd is exhausted\u001b[39m\n",
       "\u001b[36m  3-element Vector{Float64}:\u001b[39m\n",
       "\u001b[36m     2.0\u001b[39m\n",
       "\u001b[36m    13.0\u001b[39m\n",
       "\u001b[36m   102.0\u001b[39m"
      ]
     },
     "execution_count": 120,
     "metadata": {},
     "output_type": "execute_result"
    }
   ],
   "source": [
    "?map"
   ]
  },
  {
   "cell_type": "code",
   "execution_count": 121,
   "id": "53b77851-8ca3-4414-aa99-8d2cad9815de",
   "metadata": {},
   "outputs": [
    {
     "name": "stdout",
     "output_type": "stream",
     "text": [
      "search: \u001b[0m\u001b[1me\u001b[22m\u001b[0m\u001b[1mx\u001b[22m\u001b[0m\u001b[1mt\u001b[22m\u001b[0m\u001b[1mr\u001b[22m\u001b[0m\u001b[1me\u001b[22m\u001b[0m\u001b[1mm\u001b[22m\u001b[0m\u001b[1ma\u001b[22m \u001b[0m\u001b[1me\u001b[22m\u001b[0m\u001b[1mx\u001b[22m\u001b[0m\u001b[1mt\u001b[22m\u001b[0m\u001b[1mr\u001b[22m\u001b[0m\u001b[1me\u001b[22m\u001b[0m\u001b[1mm\u001b[22m\u001b[0m\u001b[1ma\u001b[22m!\n",
      "\n"
     ]
    },
    {
     "data": {
      "text/latex": [
       "\\begin{verbatim}\n",
       "extrema(itr; [init]) -> (mn, mx)\n",
       "\\end{verbatim}\n",
       "Compute both the minimum \\texttt{mn} and maximum \\texttt{mx} element in a single pass, and return them as a 2-tuple.\n",
       "\n",
       "The value returned for empty \\texttt{itr} can be specified by \\texttt{init}. It must be a 2-tuple whose first and second elements are neutral elements for \\texttt{min} and \\texttt{max} respectively (i.e. which are greater/less than or equal to any other element). As a consequence, when \\texttt{itr} is empty the returned \\texttt{(mn, mx)} tuple will satisfy \\texttt{mn ≥ mx}. When \\texttt{init} is specified it may be used even for non-empty \\texttt{itr}.\n",
       "\n",
       "\\begin{quote}\n",
       "\\textbf{compat}\n",
       "\n",
       "Julia 1.8\n",
       "\n",
       "Keyword argument \\texttt{init} requires Julia 1.8 or later.\n",
       "\n",
       "\\end{quote}\n",
       "\\section{Examples}\n",
       "\\begin{verbatim}\n",
       "julia> extrema(2:10)\n",
       "(2, 10)\n",
       "\n",
       "julia> extrema([9,pi,4.5])\n",
       "(3.141592653589793, 9.0)\n",
       "\n",
       "julia> extrema([]; init = (Inf, -Inf))\n",
       "(Inf, -Inf)\n",
       "\\end{verbatim}\n",
       "\\rule{\\textwidth}{1pt}\n",
       "\\begin{verbatim}\n",
       "extrema(f, itr; [init]) -> (mn, mx)\n",
       "\\end{verbatim}\n",
       "Compute both the minimum \\texttt{mn} and maximum \\texttt{mx} of \\texttt{f} applied to each element in \\texttt{itr} and return them as a 2-tuple. Only one pass is made over \\texttt{itr}.\n",
       "\n",
       "The value returned for empty \\texttt{itr} can be specified by \\texttt{init}. It must be a 2-tuple whose first and second elements are neutral elements for \\texttt{min} and \\texttt{max} respectively (i.e. which are greater/less than or equal to any other element). It is used for non-empty collections. Note: it implies that, for empty \\texttt{itr}, the returned value \\texttt{(mn, mx)} satisfies \\texttt{mn ≥ mx} even though for non-empty \\texttt{itr} it  satisfies \\texttt{mn ≤ mx}.  This is a \"paradoxical\" but yet expected result.\n",
       "\n",
       "\\begin{quote}\n",
       "\\textbf{compat}\n",
       "\n",
       "Julia 1.2\n",
       "\n",
       "This method requires Julia 1.2 or later.\n",
       "\n",
       "\\end{quote}\n",
       "\\begin{quote}\n",
       "\\textbf{compat}\n",
       "\n",
       "Julia 1.8\n",
       "\n",
       "Keyword argument \\texttt{init} requires Julia 1.8 or later.\n",
       "\n",
       "\\end{quote}\n",
       "\\section{Examples}\n",
       "\\begin{verbatim}\n",
       "julia> extrema(sin, 0:π)\n",
       "(0.0, 0.9092974268256817)\n",
       "\n",
       "julia> extrema(sin, Real[]; init = (1.0, -1.0))  # good, since -1 ≤ sin(::Real) ≤ 1\n",
       "(1.0, -1.0)\n",
       "\\end{verbatim}\n",
       "\\rule{\\textwidth}{1pt}\n",
       "\\begin{verbatim}\n",
       "extrema(A::AbstractArray; dims) -> Array{Tuple}\n",
       "\\end{verbatim}\n",
       "Compute the minimum and maximum elements of an array over the given dimensions.\n",
       "\n",
       "See also: \\href{@ref}{\\texttt{minimum}}, \\href{@ref}{\\texttt{maximum}}, \\href{@ref}{\\texttt{extrema!}}.\n",
       "\n",
       "\\section{Examples}\n",
       "\\begin{verbatim}\n",
       "julia> A = reshape(Vector(1:2:16), (2,2,2))\n",
       "2×2×2 Array{Int64, 3}:\n",
       "[:, :, 1] =\n",
       " 1  5\n",
       " 3  7\n",
       "\n",
       "[:, :, 2] =\n",
       "  9  13\n",
       " 11  15\n",
       "\n",
       "julia> extrema(A, dims = (1,2))\n",
       "1×1×2 Array{Tuple{Int64, Int64}, 3}:\n",
       "[:, :, 1] =\n",
       " (1, 7)\n",
       "\n",
       "[:, :, 2] =\n",
       " (9, 15)\n",
       "\\end{verbatim}\n",
       "\\rule{\\textwidth}{1pt}\n",
       "\\begin{verbatim}\n",
       "extrema(f, A::AbstractArray; dims) -> Array{Tuple}\n",
       "\\end{verbatim}\n",
       "Compute the minimum and maximum of \\texttt{f} applied to each element in the given dimensions of \\texttt{A}.\n",
       "\n",
       "\\begin{quote}\n",
       "\\textbf{compat}\n",
       "\n",
       "Julia 1.2\n",
       "\n",
       "This method requires Julia 1.2 or later.\n",
       "\n",
       "\\end{quote}\n"
      ],
      "text/markdown": [
       "```\n",
       "extrema(itr; [init]) -> (mn, mx)\n",
       "```\n",
       "\n",
       "Compute both the minimum `mn` and maximum `mx` element in a single pass, and return them as a 2-tuple.\n",
       "\n",
       "The value returned for empty `itr` can be specified by `init`. It must be a 2-tuple whose first and second elements are neutral elements for `min` and `max` respectively (i.e. which are greater/less than or equal to any other element). As a consequence, when `itr` is empty the returned `(mn, mx)` tuple will satisfy `mn ≥ mx`. When `init` is specified it may be used even for non-empty `itr`.\n",
       "\n",
       "!!! compat \"Julia 1.8\"\n",
       "    Keyword argument `init` requires Julia 1.8 or later.\n",
       "\n",
       "\n",
       "# Examples\n",
       "\n",
       "```jldoctest\n",
       "julia> extrema(2:10)\n",
       "(2, 10)\n",
       "\n",
       "julia> extrema([9,pi,4.5])\n",
       "(3.141592653589793, 9.0)\n",
       "\n",
       "julia> extrema([]; init = (Inf, -Inf))\n",
       "(Inf, -Inf)\n",
       "```\n",
       "\n",
       "---\n",
       "\n",
       "```\n",
       "extrema(f, itr; [init]) -> (mn, mx)\n",
       "```\n",
       "\n",
       "Compute both the minimum `mn` and maximum `mx` of `f` applied to each element in `itr` and return them as a 2-tuple. Only one pass is made over `itr`.\n",
       "\n",
       "The value returned for empty `itr` can be specified by `init`. It must be a 2-tuple whose first and second elements are neutral elements for `min` and `max` respectively (i.e. which are greater/less than or equal to any other element). It is used for non-empty collections. Note: it implies that, for empty `itr`, the returned value `(mn, mx)` satisfies `mn ≥ mx` even though for non-empty `itr` it  satisfies `mn ≤ mx`.  This is a \"paradoxical\" but yet expected result.\n",
       "\n",
       "!!! compat \"Julia 1.2\"\n",
       "    This method requires Julia 1.2 or later.\n",
       "\n",
       "\n",
       "!!! compat \"Julia 1.8\"\n",
       "    Keyword argument `init` requires Julia 1.8 or later.\n",
       "\n",
       "\n",
       "# Examples\n",
       "\n",
       "```jldoctest\n",
       "julia> extrema(sin, 0:π)\n",
       "(0.0, 0.9092974268256817)\n",
       "\n",
       "julia> extrema(sin, Real[]; init = (1.0, -1.0))  # good, since -1 ≤ sin(::Real) ≤ 1\n",
       "(1.0, -1.0)\n",
       "```\n",
       "\n",
       "---\n",
       "\n",
       "```\n",
       "extrema(A::AbstractArray; dims) -> Array{Tuple}\n",
       "```\n",
       "\n",
       "Compute the minimum and maximum elements of an array over the given dimensions.\n",
       "\n",
       "See also: [`minimum`](@ref), [`maximum`](@ref), [`extrema!`](@ref).\n",
       "\n",
       "# Examples\n",
       "\n",
       "```jldoctest\n",
       "julia> A = reshape(Vector(1:2:16), (2,2,2))\n",
       "2×2×2 Array{Int64, 3}:\n",
       "[:, :, 1] =\n",
       " 1  5\n",
       " 3  7\n",
       "\n",
       "[:, :, 2] =\n",
       "  9  13\n",
       " 11  15\n",
       "\n",
       "julia> extrema(A, dims = (1,2))\n",
       "1×1×2 Array{Tuple{Int64, Int64}, 3}:\n",
       "[:, :, 1] =\n",
       " (1, 7)\n",
       "\n",
       "[:, :, 2] =\n",
       " (9, 15)\n",
       "```\n",
       "\n",
       "---\n",
       "\n",
       "```\n",
       "extrema(f, A::AbstractArray; dims) -> Array{Tuple}\n",
       "```\n",
       "\n",
       "Compute the minimum and maximum of `f` applied to each element in the given dimensions of `A`.\n",
       "\n",
       "!!! compat \"Julia 1.2\"\n",
       "    This method requires Julia 1.2 or later.\n",
       "\n"
      ],
      "text/plain": [
       "\u001b[36m  extrema(itr; [init]) -> (mn, mx)\u001b[39m\n",
       "\n",
       "  Compute both the minimum \u001b[36mmn\u001b[39m and maximum \u001b[36mmx\u001b[39m element in a single pass, and\n",
       "  return them as a 2-tuple.\n",
       "\n",
       "  The value returned for empty \u001b[36mitr\u001b[39m can be specified by \u001b[36minit\u001b[39m. It must be a\n",
       "  2-tuple whose first and second elements are neutral elements for \u001b[36mmin\u001b[39m and \u001b[36mmax\u001b[39m\n",
       "  respectively (i.e. which are greater/less than or equal to any other\n",
       "  element). As a consequence, when \u001b[36mitr\u001b[39m is empty the returned \u001b[36m(mn, mx)\u001b[39m tuple\n",
       "  will satisfy \u001b[36mmn ≥ mx\u001b[39m. When \u001b[36minit\u001b[39m is specified it may be used even for\n",
       "  non-empty \u001b[36mitr\u001b[39m.\n",
       "\n",
       "\u001b[39m\u001b[1m  │ \u001b[22m\u001b[39m\u001b[1mJulia 1.8\u001b[22m\n",
       "\u001b[39m\u001b[1m  │\u001b[22m\n",
       "\u001b[39m\u001b[1m  │\u001b[22m  Keyword argument \u001b[36minit\u001b[39m requires Julia 1.8 or later.\n",
       "\n",
       "\u001b[1m  Examples\u001b[22m\n",
       "\u001b[1m  ≡≡≡≡≡≡≡≡\u001b[22m\n",
       "\n",
       "\u001b[36m  julia> extrema(2:10)\u001b[39m\n",
       "\u001b[36m  (2, 10)\u001b[39m\n",
       "\u001b[36m  \u001b[39m\n",
       "\u001b[36m  julia> extrema([9,pi,4.5])\u001b[39m\n",
       "\u001b[36m  (3.141592653589793, 9.0)\u001b[39m\n",
       "\u001b[36m  \u001b[39m\n",
       "\u001b[36m  julia> extrema([]; init = (Inf, -Inf))\u001b[39m\n",
       "\u001b[36m  (Inf, -Inf)\u001b[39m\n",
       "\n",
       "  ────────────────────────────────────────────────────────────────────────────\n",
       "\n",
       "\u001b[36m  extrema(f, itr; [init]) -> (mn, mx)\u001b[39m\n",
       "\n",
       "  Compute both the minimum \u001b[36mmn\u001b[39m and maximum \u001b[36mmx\u001b[39m of \u001b[36mf\u001b[39m applied to each element in\n",
       "  \u001b[36mitr\u001b[39m and return them as a 2-tuple. Only one pass is made over \u001b[36mitr\u001b[39m.\n",
       "\n",
       "  The value returned for empty \u001b[36mitr\u001b[39m can be specified by \u001b[36minit\u001b[39m. It must be a\n",
       "  2-tuple whose first and second elements are neutral elements for \u001b[36mmin\u001b[39m and \u001b[36mmax\u001b[39m\n",
       "  respectively (i.e. which are greater/less than or equal to any other\n",
       "  element). It is used for non-empty collections. Note: it implies that, for\n",
       "  empty \u001b[36mitr\u001b[39m, the returned value \u001b[36m(mn, mx)\u001b[39m satisfies \u001b[36mmn ≥ mx\u001b[39m even though for\n",
       "  non-empty \u001b[36mitr\u001b[39m it satisfies \u001b[36mmn ≤ mx\u001b[39m. This is a \"paradoxical\" but yet expected\n",
       "  result.\n",
       "\n",
       "\u001b[39m\u001b[1m  │ \u001b[22m\u001b[39m\u001b[1mJulia 1.2\u001b[22m\n",
       "\u001b[39m\u001b[1m  │\u001b[22m\n",
       "\u001b[39m\u001b[1m  │\u001b[22m  This method requires Julia 1.2 or later.\n",
       "\n",
       "\u001b[39m\u001b[1m  │ \u001b[22m\u001b[39m\u001b[1mJulia 1.8\u001b[22m\n",
       "\u001b[39m\u001b[1m  │\u001b[22m\n",
       "\u001b[39m\u001b[1m  │\u001b[22m  Keyword argument \u001b[36minit\u001b[39m requires Julia 1.8 or later.\n",
       "\n",
       "\u001b[1m  Examples\u001b[22m\n",
       "\u001b[1m  ≡≡≡≡≡≡≡≡\u001b[22m\n",
       "\n",
       "\u001b[36m  julia> extrema(sin, 0:π)\u001b[39m\n",
       "\u001b[36m  (0.0, 0.9092974268256817)\u001b[39m\n",
       "\u001b[36m  \u001b[39m\n",
       "\u001b[36m  julia> extrema(sin, Real[]; init = (1.0, -1.0))  # good, since -1 ≤ sin(::Real) ≤ 1\u001b[39m\n",
       "\u001b[36m  (1.0, -1.0)\u001b[39m\n",
       "\n",
       "  ────────────────────────────────────────────────────────────────────────────\n",
       "\n",
       "\u001b[36m  extrema(A::AbstractArray; dims) -> Array{Tuple}\u001b[39m\n",
       "\n",
       "  Compute the minimum and maximum elements of an array over the given\n",
       "  dimensions.\n",
       "\n",
       "  See also: \u001b[36mminimum\u001b[39m, \u001b[36mmaximum\u001b[39m, \u001b[36mextrema!\u001b[39m.\n",
       "\n",
       "\u001b[1m  Examples\u001b[22m\n",
       "\u001b[1m  ≡≡≡≡≡≡≡≡\u001b[22m\n",
       "\n",
       "\u001b[36m  julia> A = reshape(Vector(1:2:16), (2,2,2))\u001b[39m\n",
       "\u001b[36m  2×2×2 Array{Int64, 3}:\u001b[39m\n",
       "\u001b[36m  [:, :, 1] =\u001b[39m\n",
       "\u001b[36m   1  5\u001b[39m\n",
       "\u001b[36m   3  7\u001b[39m\n",
       "\u001b[36m  \u001b[39m\n",
       "\u001b[36m  [:, :, 2] =\u001b[39m\n",
       "\u001b[36m    9  13\u001b[39m\n",
       "\u001b[36m   11  15\u001b[39m\n",
       "\u001b[36m  \u001b[39m\n",
       "\u001b[36m  julia> extrema(A, dims = (1,2))\u001b[39m\n",
       "\u001b[36m  1×1×2 Array{Tuple{Int64, Int64}, 3}:\u001b[39m\n",
       "\u001b[36m  [:, :, 1] =\u001b[39m\n",
       "\u001b[36m   (1, 7)\u001b[39m\n",
       "\u001b[36m  \u001b[39m\n",
       "\u001b[36m  [:, :, 2] =\u001b[39m\n",
       "\u001b[36m   (9, 15)\u001b[39m\n",
       "\n",
       "  ────────────────────────────────────────────────────────────────────────────\n",
       "\n",
       "\u001b[36m  extrema(f, A::AbstractArray; dims) -> Array{Tuple}\u001b[39m\n",
       "\n",
       "  Compute the minimum and maximum of \u001b[36mf\u001b[39m applied to each element in the given\n",
       "  dimensions of \u001b[36mA\u001b[39m.\n",
       "\n",
       "\u001b[39m\u001b[1m  │ \u001b[22m\u001b[39m\u001b[1mJulia 1.2\u001b[22m\n",
       "\u001b[39m\u001b[1m  │\u001b[22m\n",
       "\u001b[39m\u001b[1m  │\u001b[22m  This method requires Julia 1.2 or later."
      ]
     },
     "execution_count": 121,
     "metadata": {},
     "output_type": "execute_result"
    }
   ],
   "source": [
    "?extrema"
   ]
  },
  {
   "cell_type": "markdown",
   "id": "72ad6abd-9742-42df-a813-8f85ff1f78b2",
   "metadata": {},
   "source": [
    "## Control Flow\n",
    "\n",
    "- Julia has the basic elements of control flow:\n",
    "    - `if`-`else` statements\n",
    "    - `for` loops\n",
    "    "
   ]
  },
  {
   "cell_type": "code",
   "execution_count": 129,
   "id": "70244fe0-8cac-4ba5-8f3b-1d638f3878e8",
   "metadata": {},
   "outputs": [
    {
     "data": {
      "text/plain": [
       "2.0"
      ]
     },
     "execution_count": 129,
     "metadata": {},
     "output_type": "execute_result"
    }
   ],
   "source": [
    "if 1 > 2 # no parenthesis needed\n",
    "    println(\"what???\")\n",
    "else     # else is optional\n",
    "    return mean([1, 2, 3])\n",
    "    print(\"phew\")\n",
    "end      # all \"blocks\" terminate with word `end`"
   ]
  },
  {
   "cell_type": "code",
   "execution_count": 146,
   "id": "382fc4ca-2581-4799-b951-4b8768cec766",
   "metadata": {},
   "outputs": [
    {
     "name": "stdout",
     "output_type": "stream",
     "text": [
      "1 1\n",
      "2 4\n",
      "3 9\n",
      "4 16\n",
      "5 25\n"
     ]
    }
   ],
   "source": [
    "for i in 1:5 # range of numbers 1 to 5\n",
    "    println(i, \" \", i^2)\n",
    "end"
   ]
  },
  {
   "cell_type": "markdown",
   "id": "e3ae3155-5365-4ad0-9b72-0742c7212b1e",
   "metadata": {},
   "source": [
    "- We will see many more examples as we go forward"
   ]
  },
  {
   "cell_type": "markdown",
   "id": "210f8bf3-b472-4c17-a885-b7a15b0ffeed",
   "metadata": {
    "slideshow": {
     "slide_type": "slide"
    },
    "tags": []
   },
   "source": [
    "## Packages\n",
    "\n",
    "- Julia comes ready to go with many powerful functions and data types\n",
    "- However, there is a very active community of Julia programmers who are experts in different subfields of science and engineering\n",
    "- This has led to the development of vibrant and exciting ecosystem of packages or toolboxes for performing specific tasks\n",
    "- We can access these routines by using Julia packages"
   ]
  },
  {
   "cell_type": "markdown",
   "id": "7b697605-9fda-44ba-b5dc-779573a7bd98",
   "metadata": {},
   "source": [
    "### Loading packages\n",
    "\n",
    "- By default Julia ships with a \"standard library\"\n",
    "- These are packages that come bundled with Julia itself and are pre-installed\n",
    "- To load a package and all of its types/functions use the `using` keyword\n",
    "- For example, we can load the `Dates` package and start using it"
   ]
  },
  {
   "cell_type": "code",
   "execution_count": 150,
   "id": "358c3c7d-05e9-4f0f-82bf-82bec1cd5e8d",
   "metadata": {},
   "outputs": [],
   "source": [
    "using Dates"
   ]
  },
  {
   "cell_type": "code",
   "execution_count": 151,
   "id": "7016070f-5b4a-403e-b5de-2cee762130da",
   "metadata": {},
   "outputs": [
    {
     "data": {
      "text/plain": [
       "2024-08-19T20:39:10.885"
      ]
     },
     "execution_count": 151,
     "metadata": {},
     "output_type": "execute_result"
    }
   ],
   "source": [
    "t1 = Dates.now()"
   ]
  },
  {
   "cell_type": "code",
   "execution_count": 152,
   "id": "04b43e23-33e6-4f45-a464-6b5df3bb8bee",
   "metadata": {},
   "outputs": [
    {
     "data": {
      "text/plain": [
       "\"2024-08-19\""
      ]
     },
     "execution_count": 152,
     "metadata": {},
     "output_type": "execute_result"
    }
   ],
   "source": [
    "Dates.format(t1, \"yyyy-mm-dd\")"
   ]
  },
  {
   "cell_type": "code",
   "execution_count": 153,
   "id": "bd277d60-0490-46e9-8da2-831d2acd0a81",
   "metadata": {},
   "outputs": [
    {
     "data": {
      "text/plain": [
       "2024-08-19T20:39:11.197"
      ]
     },
     "execution_count": 153,
     "metadata": {},
     "output_type": "execute_result"
    }
   ],
   "source": [
    "t2 = Dates.now()"
   ]
  },
  {
   "cell_type": "code",
   "execution_count": 154,
   "id": "0d58c145-18fe-4c78-8337-ea4ea51b2c7f",
   "metadata": {},
   "outputs": [
    {
     "data": {
      "text/plain": [
       "true"
      ]
     },
     "execution_count": 154,
     "metadata": {},
     "output_type": "execute_result"
    }
   ],
   "source": [
    "t2 > t1"
   ]
  },
  {
   "cell_type": "code",
   "execution_count": 155,
   "id": "47f0d7fb-c5b3-4d38-a159-c27b5c456987",
   "metadata": {},
   "outputs": [
    {
     "data": {
      "text/plain": [
       "1776-07-04T00:00:00"
      ]
     },
     "execution_count": 155,
     "metadata": {},
     "output_type": "execute_result"
    }
   ],
   "source": [
    "t3 = DateTime(1776, 7, 4)"
   ]
  },
  {
   "cell_type": "code",
   "execution_count": 156,
   "id": "2235c67c-c1f7-479b-a8d7-e2897d2db3bd",
   "metadata": {},
   "outputs": [
    {
     "data": {
      "text/plain": [
       "\"America is 7830160750885 milliseconds (90626 days) old\""
      ]
     },
     "execution_count": 156,
     "metadata": {},
     "output_type": "execute_result"
    }
   ],
   "source": [
    "\"America is $(t1 - t3) ($(floor(t1 - t3, Dates.Day))) old\""
   ]
  },
  {
   "cell_type": "markdown",
   "id": "e743ffee-f631-45ce-bedb-077fa706381a",
   "metadata": {},
   "source": [
    "### Installing Packages\n",
    "\n",
    "- In addition to the standard library, we can also use packages created by other Julia users\n",
    "- To use a 3rd party package, we first need to install it\n",
    "- There are two ways to do this\n",
    "\n",
    "**1**\n",
    "\n",
    "```julia\n",
    "]add PackageName\n",
    "```\n",
    "\n",
    "**2**\n",
    "```julia\n",
    "using Pkg  # a standard library package\n",
    "Pkg.add(\"PackageName\")\n",
    "```\n",
    "\n",
    "Let's try them both"
   ]
  },
  {
   "cell_type": "code",
   "execution_count": 158,
   "id": "62b20e23-8f61-49ab-8929-08de2af0a608",
   "metadata": {},
   "outputs": [
    {
     "name": "stderr",
     "output_type": "stream",
     "text": [
      "\u001b[32m\u001b[1m   Resolving\u001b[22m\u001b[39m package versions...\n",
      "\u001b[32m\u001b[1m  No Changes\u001b[22m\u001b[39m to `~/.julia/environments/v1.10/Project.toml`\n",
      "\u001b[32m\u001b[1m  No Changes\u001b[22m\u001b[39m to `~/.julia/environments/v1.10/Manifest.toml`\n"
     ]
    }
   ],
   "source": [
    "]add Plots"
   ]
  },
  {
   "cell_type": "code",
   "execution_count": 159,
   "id": "07806431-6d9d-4fa5-a4f1-a888c7b32ed4",
   "metadata": {},
   "outputs": [
    {
     "name": "stderr",
     "output_type": "stream",
     "text": [
      "\u001b[32m\u001b[1m   Resolving\u001b[22m\u001b[39m package versions...\n",
      "\u001b[32m\u001b[1m  No Changes\u001b[22m\u001b[39m to `~/.julia/environments/v1.10/Project.toml`\n",
      "\u001b[32m\u001b[1m  No Changes\u001b[22m\u001b[39m to `~/.julia/environments/v1.10/Manifest.toml`\n"
     ]
    }
   ],
   "source": [
    "using Pkg\n",
    "Pkg.add(\"DataFrames\")"
   ]
  },
  {
   "cell_type": "markdown",
   "id": "f0b11a8e-d9f4-42ef-b7ec-5c8558d34a8a",
   "metadata": {},
   "source": [
    "- After installing packages, we can load and use them just as we did the standard library packages"
   ]
  },
  {
   "cell_type": "code",
   "execution_count": 160,
   "id": "d38d8097-ac04-4389-8f3d-411dad096860",
   "metadata": {},
   "outputs": [],
   "source": [
    "using Plots  # Python: from Plots import *"
   ]
  },
  {
   "cell_type": "code",
   "execution_count": 163,
   "id": "b0871a83-3b57-47d3-b307-dc8566670448",
   "metadata": {},
   "outputs": [
    {
     "data": {
      "image/png": "[encoded data removed]",
      "image/svg+xml": [
       "<?xml version=\"1.0\" encoding=\"utf-8\"?>\n",
       "<svg xmlns=\"http://www.w3.org/2000/svg\" xmlns:xlink=\"http://www.w3.org/1999/xlink\" width=\"600\" height=\"400\" viewBox=\"0 0 2400 1600\">\n",
       "<defs>\n",
       "  <clipPath id=\"clip530\">\n",
       "    <rect x=\"0\" y=\"0\" width=\"2400\" height=\"1600\"/>\n",
       "  </clipPath>\n",
       "</defs>\n",
       "<path clip-path=\"url(#clip530)\" d=\"M0 1600 L2400 1600 L2400 8.88178e-14 L0 8.88178e-14  Z\" fill=\"#ffffff\" fill-rule=\"evenodd\" fill-opacity=\"1\"/>\n",
       "<defs>\n",
       "  <clipPath id=\"clip531\">\n",
       "    <rect x=\"480\" y=\"0\" width=\"1681\" height=\"1600\"/>\n",
       "  </clipPath>\n",
       "</defs>\n",
       "<path clip-path=\"url(#clip530)\" d=\"M193.936 1486.45 L2352.76 1486.45 L2352.76 47.2441 L193.936 47.2441  Z\" fill=\"#ffffff\" fill-rule=\"evenodd\" fill-opacity=\"1\"/>\n",
       "<defs>\n",
       "  <clipPath id=\"clip532\">\n",
       "    <rect x=\"193\" y=\"47\" width=\"2160\" height=\"1440\"/>\n",
       "  </clipPath>\n",
       "</defs>\n",
       "<polyline clip-path=\"url(#clip532)\" style=\"stroke:#000000; stroke-linecap:round; stroke-linejoin:round; stroke-width:2; stroke-opacity:0.1; fill:none\" points=\"463,1486.45 463,47.2441 \"/>\n",
       "<polyline clip-path=\"url(#clip532)\" style=\"stroke:#000000; stroke-linecap:round; stroke-linejoin:round; stroke-width:2; stroke-opacity:0.1; fill:none\" points=\"868.173,1486.45 868.173,47.2441 \"/>\n",
       "<polyline clip-path=\"url(#clip532)\" style=\"stroke:#000000; stroke-linecap:round; stroke-linejoin:round; stroke-width:2; stroke-opacity:0.1; fill:none\" points=\"1273.35,1486.45 1273.35,47.2441 \"/>\n",
       "<polyline clip-path=\"url(#clip532)\" style=\"stroke:#000000; stroke-linecap:round; stroke-linejoin:round; stroke-width:2; stroke-opacity:0.1; fill:none\" points=\"1678.52,1486.45 1678.52,47.2441 \"/>\n",
       "<polyline clip-path=\"url(#clip532)\" style=\"stroke:#000000; stroke-linecap:round; stroke-linejoin:round; stroke-width:2; stroke-opacity:0.1; fill:none\" points=\"2083.69,1486.45 2083.69,47.2441 \"/>\n",
       "<polyline clip-path=\"url(#clip530)\" style=\"stroke:#000000; stroke-linecap:round; stroke-linejoin:round; stroke-width:4; stroke-opacity:1; fill:none\" points=\"193.936,1486.45 2352.76,1486.45 \"/>\n",
       "<polyline clip-path=\"url(#clip530)\" style=\"stroke:#000000; stroke-linecap:round; stroke-linejoin:round; stroke-width:4; stroke-opacity:1; fill:none\" points=\"463,1486.45 463,1467.55 \"/>\n",
       "<polyline clip-path=\"url(#clip530)\" style=\"stroke:#000000; stroke-linecap:round; stroke-linejoin:round; stroke-width:4; stroke-opacity:1; fill:none\" points=\"868.173,1486.45 868.173,1467.55 \"/>\n",
       "<polyline clip-path=\"url(#clip530)\" style=\"stroke:#000000; stroke-linecap:round; stroke-linejoin:round; stroke-width:4; stroke-opacity:1; fill:none\" points=\"1273.35,1486.45 1273.35,1467.55 \"/>\n",
       "<polyline clip-path=\"url(#clip530)\" style=\"stroke:#000000; stroke-linecap:round; stroke-linejoin:round; stroke-width:4; stroke-opacity:1; fill:none\" points=\"1678.52,1486.45 1678.52,1467.55 \"/>\n",
       "<polyline clip-path=\"url(#clip530)\" style=\"stroke:#000000; stroke-linecap:round; stroke-linejoin:round; stroke-width:4; stroke-opacity:1; fill:none\" points=\"2083.69,1486.45 2083.69,1467.55 \"/>\n",
       "<path clip-path=\"url(#clip530)\" d=\"M409.528 1532.02 L439.203 1532.02 L439.203 1535.95 L409.528 1535.95 L409.528 1532.02 Z\" fill=\"#000000\" fill-rule=\"nonzero\" fill-opacity=\"1\" /><path clip-path=\"url(#clip530)\" d=\"M449.342 1514.29 L467.699 1514.29 L467.699 1518.22 L453.625 1518.22 L453.625 1526.7 Q454.643 1526.35 455.662 1526.19 Q456.68 1526 457.699 1526 Q463.486 1526 466.865 1529.17 Q470.245 1532.34 470.245 1537.76 Q470.245 1543.34 466.773 1546.44 Q463.301 1549.52 456.981 1549.52 Q454.805 1549.52 452.537 1549.15 Q450.291 1548.78 447.884 1548.04 L447.884 1543.34 Q449.967 1544.47 452.189 1545.03 Q454.412 1545.58 456.889 1545.58 Q460.893 1545.58 463.231 1543.48 Q465.569 1541.37 465.569 1537.76 Q465.569 1534.15 463.231 1532.04 Q460.893 1529.94 456.889 1529.94 Q455.014 1529.94 453.139 1530.35 Q451.287 1530.77 449.342 1531.65 L449.342 1514.29 Z\" fill=\"#000000\" fill-rule=\"nonzero\" fill-opacity=\"1\" /><path clip-path=\"url(#clip530)\" d=\"M479.458 1542.97 L484.342 1542.97 L484.342 1548.85 L479.458 1548.85 L479.458 1542.97 Z\" fill=\"#000000\" fill-rule=\"nonzero\" fill-opacity=\"1\" /><path clip-path=\"url(#clip530)\" d=\"M504.527 1517.37 Q500.916 1517.37 499.087 1520.93 Q497.282 1524.47 497.282 1531.6 Q497.282 1538.71 499.087 1542.27 Q500.916 1545.82 504.527 1545.82 Q508.161 1545.82 509.967 1542.27 Q511.796 1538.71 511.796 1531.6 Q511.796 1524.47 509.967 1520.93 Q508.161 1517.37 504.527 1517.37 M504.527 1513.66 Q510.337 1513.66 513.393 1518.27 Q516.472 1522.85 516.472 1531.6 Q516.472 1540.33 513.393 1544.94 Q510.337 1549.52 504.527 1549.52 Q498.717 1549.52 495.638 1544.94 Q492.583 1540.33 492.583 1531.6 Q492.583 1522.85 495.638 1518.27 Q498.717 1513.66 504.527 1513.66 Z\" fill=\"#000000\" fill-rule=\"nonzero\" fill-opacity=\"1\" /><path clip-path=\"url(#clip530)\" d=\"M815.199 1532.02 L844.874 1532.02 L844.874 1535.95 L815.199 1535.95 L815.199 1532.02 Z\" fill=\"#000000\" fill-rule=\"nonzero\" fill-opacity=\"1\" /><path clip-path=\"url(#clip530)\" d=\"M858.995 1544.91 L875.314 1544.91 L875.314 1548.85 L853.37 1548.85 L853.37 1544.91 Q856.032 1542.16 860.615 1537.53 Q865.221 1532.88 866.402 1531.53 Q868.647 1529.01 869.527 1527.27 Q870.43 1525.51 870.43 1523.82 Q870.43 1521.07 868.485 1519.33 Q866.564 1517.6 863.462 1517.6 Q861.263 1517.6 858.809 1518.36 Q856.379 1519.13 853.601 1520.68 L853.601 1515.95 Q856.425 1514.82 858.879 1514.24 Q861.333 1513.66 863.37 1513.66 Q868.74 1513.66 871.934 1516.35 Q875.129 1519.03 875.129 1523.52 Q875.129 1525.65 874.319 1527.57 Q873.532 1529.47 871.425 1532.07 Q870.846 1532.74 867.745 1535.95 Q864.643 1539.15 858.995 1544.91 Z\" fill=\"#000000\" fill-rule=\"nonzero\" fill-opacity=\"1\" /><path clip-path=\"url(#clip530)\" d=\"M885.129 1542.97 L890.013 1542.97 L890.013 1548.85 L885.129 1548.85 L885.129 1542.97 Z\" fill=\"#000000\" fill-rule=\"nonzero\" fill-opacity=\"1\" /><path clip-path=\"url(#clip530)\" d=\"M900.244 1514.29 L918.601 1514.29 L918.601 1518.22 L904.527 1518.22 L904.527 1526.7 Q905.545 1526.35 906.564 1526.19 Q907.582 1526 908.601 1526 Q914.388 1526 917.767 1529.17 Q921.147 1532.34 921.147 1537.76 Q921.147 1543.34 917.675 1546.44 Q914.203 1549.52 907.883 1549.52 Q905.707 1549.52 903.439 1549.15 Q901.193 1548.78 898.786 1548.04 L898.786 1543.34 Q900.869 1544.47 903.092 1545.03 Q905.314 1545.58 907.791 1545.58 Q911.795 1545.58 914.133 1543.48 Q916.471 1541.37 916.471 1537.76 Q916.471 1534.15 914.133 1532.04 Q911.795 1529.94 907.791 1529.94 Q905.916 1529.94 904.041 1530.35 Q902.189 1530.77 900.244 1531.65 L900.244 1514.29 Z\" fill=\"#000000\" fill-rule=\"nonzero\" fill-opacity=\"1\" /><path clip-path=\"url(#clip530)\" d=\"M1250.73 1517.37 Q1247.12 1517.37 1245.29 1520.93 Q1243.49 1524.47 1243.49 1531.6 Q1243.49 1538.71 1245.29 1542.27 Q1247.12 1545.82 1250.73 1545.82 Q1254.36 1545.82 1256.17 1542.27 Q1258 1538.71 1258 1531.6 Q1258 1524.47 1256.17 1520.93 Q1254.36 1517.37 1250.73 1517.37 M1250.73 1513.66 Q1256.54 1513.66 1259.6 1518.27 Q1262.67 1522.85 1262.67 1531.6 Q1262.67 1540.33 1259.6 1544.94 Q1256.54 1549.52 1250.73 1549.52 Q1244.92 1549.52 1241.84 1544.94 Q1238.79 1540.33 1238.79 1531.6 Q1238.79 1522.85 1241.84 1518.27 Q1244.92 1513.66 1250.73 1513.66 Z\" fill=\"#000000\" fill-rule=\"nonzero\" fill-opacity=\"1\" /><path clip-path=\"url(#clip530)\" d=\"M1270.89 1542.97 L1275.78 1542.97 L1275.78 1548.85 L1270.89 1548.85 L1270.89 1542.97 Z\" fill=\"#000000\" fill-rule=\"nonzero\" fill-opacity=\"1\" /><path clip-path=\"url(#clip530)\" d=\"M1295.96 1517.37 Q1292.35 1517.37 1290.52 1520.93 Q1288.72 1524.47 1288.72 1531.6 Q1288.72 1538.71 1290.52 1542.27 Q1292.35 1545.82 1295.96 1545.82 Q1299.6 1545.82 1301.4 1542.27 Q1303.23 1538.71 1303.23 1531.6 Q1303.23 1524.47 1301.4 1520.93 Q1299.6 1517.37 1295.96 1517.37 M1295.96 1513.66 Q1301.77 1513.66 1304.83 1518.27 Q1307.91 1522.85 1307.91 1531.6 Q1307.91 1540.33 1304.83 1544.94 Q1301.77 1549.52 1295.96 1549.52 Q1290.15 1549.52 1287.07 1544.94 Q1284.02 1540.33 1284.02 1531.6 Q1284.02 1522.85 1287.07 1518.27 Q1290.15 1513.66 1295.96 1513.66 Z\" fill=\"#000000\" fill-rule=\"nonzero\" fill-opacity=\"1\" /><path clip-path=\"url(#clip530)\" d=\"M1650.26 1544.91 L1666.57 1544.91 L1666.57 1548.85 L1644.63 1548.85 L1644.63 1544.91 Q1647.29 1542.16 1651.88 1537.53 Q1656.48 1532.88 1657.66 1531.53 Q1659.91 1529.01 1660.79 1527.27 Q1661.69 1525.51 1661.69 1523.82 Q1661.69 1521.07 1659.75 1519.33 Q1657.82 1517.6 1654.72 1517.6 Q1652.52 1517.6 1650.07 1518.36 Q1647.64 1519.13 1644.86 1520.68 L1644.86 1515.95 Q1647.69 1514.82 1650.14 1514.24 Q1652.59 1513.66 1654.63 1513.66 Q1660 1513.66 1663.2 1516.35 Q1666.39 1519.03 1666.39 1523.52 Q1666.39 1525.65 1665.58 1527.57 Q1664.79 1529.47 1662.69 1532.07 Q1662.11 1532.74 1659.01 1535.95 Q1655.9 1539.15 1650.26 1544.91 Z\" fill=\"#000000\" fill-rule=\"nonzero\" fill-opacity=\"1\" /><path clip-path=\"url(#clip530)\" d=\"M1676.39 1542.97 L1681.27 1542.97 L1681.27 1548.85 L1676.39 1548.85 L1676.39 1542.97 Z\" fill=\"#000000\" fill-rule=\"nonzero\" fill-opacity=\"1\" /><path clip-path=\"url(#clip530)\" d=\"M1691.51 1514.29 L1709.86 1514.29 L1709.86 1518.22 L1695.79 1518.22 L1695.79 1526.7 Q1696.81 1526.35 1697.82 1526.19 Q1698.84 1526 1699.86 1526 Q1705.65 1526 1709.03 1529.17 Q1712.41 1532.34 1712.41 1537.76 Q1712.41 1543.34 1708.94 1546.44 Q1705.46 1549.52 1699.14 1549.52 Q1696.97 1549.52 1694.7 1549.15 Q1692.45 1548.78 1690.05 1548.04 L1690.05 1543.34 Q1692.13 1544.47 1694.35 1545.03 Q1696.57 1545.58 1699.05 1545.58 Q1703.06 1545.58 1705.39 1543.48 Q1707.73 1541.37 1707.73 1537.76 Q1707.73 1534.15 1705.39 1532.04 Q1703.06 1529.94 1699.05 1529.94 Q1697.18 1529.94 1695.3 1530.35 Q1693.45 1530.77 1691.51 1531.65 L1691.51 1514.29 Z\" fill=\"#000000\" fill-rule=\"nonzero\" fill-opacity=\"1\" /><path clip-path=\"url(#clip530)\" d=\"M2050.86 1514.29 L2069.21 1514.29 L2069.21 1518.22 L2055.14 1518.22 L2055.14 1526.7 Q2056.16 1526.35 2057.18 1526.19 Q2058.19 1526 2059.21 1526 Q2065 1526 2068.38 1529.17 Q2071.76 1532.34 2071.76 1537.76 Q2071.76 1543.34 2068.29 1546.44 Q2064.82 1549.52 2058.5 1549.52 Q2056.32 1549.52 2054.05 1549.15 Q2051.81 1548.78 2049.4 1548.04 L2049.4 1543.34 Q2051.48 1544.47 2053.7 1545.03 Q2055.93 1545.58 2058.4 1545.58 Q2062.41 1545.58 2064.75 1543.48 Q2067.08 1541.37 2067.08 1537.76 Q2067.08 1534.15 2064.75 1532.04 Q2062.41 1529.94 2058.4 1529.94 Q2056.53 1529.94 2054.65 1530.35 Q2052.8 1530.77 2050.86 1531.65 L2050.86 1514.29 Z\" fill=\"#000000\" fill-rule=\"nonzero\" fill-opacity=\"1\" /><path clip-path=\"url(#clip530)\" d=\"M2080.97 1542.97 L2085.86 1542.97 L2085.86 1548.85 L2080.97 1548.85 L2080.97 1542.97 Z\" fill=\"#000000\" fill-rule=\"nonzero\" fill-opacity=\"1\" /><path clip-path=\"url(#clip530)\" d=\"M2106.04 1517.37 Q2102.43 1517.37 2100.6 1520.93 Q2098.8 1524.47 2098.8 1531.6 Q2098.8 1538.71 2100.6 1542.27 Q2102.43 1545.82 2106.04 1545.82 Q2109.68 1545.82 2111.48 1542.27 Q2113.31 1538.71 2113.31 1531.6 Q2113.31 1524.47 2111.48 1520.93 Q2109.68 1517.37 2106.04 1517.37 M2106.04 1513.66 Q2111.85 1513.66 2114.91 1518.27 Q2117.99 1522.85 2117.99 1531.6 Q2117.99 1540.33 2114.91 1544.94 Q2111.85 1549.52 2106.04 1549.52 Q2100.23 1549.52 2097.15 1544.94 Q2094.1 1540.33 2094.1 1531.6 Q2094.1 1522.85 2097.15 1518.27 Q2100.23 1513.66 2106.04 1513.66 Z\" fill=\"#000000\" fill-rule=\"nonzero\" fill-opacity=\"1\" /><polyline clip-path=\"url(#clip532)\" style=\"stroke:#000000; stroke-linecap:round; stroke-linejoin:round; stroke-width:2; stroke-opacity:0.1; fill:none\" points=\"193.936,1445.72 2352.76,1445.72 \"/>\n",
       "<polyline clip-path=\"url(#clip532)\" style=\"stroke:#000000; stroke-linecap:round; stroke-linejoin:round; stroke-width:2; stroke-opacity:0.1; fill:none\" points=\"193.936,1106.29 2352.76,1106.29 \"/>\n",
       "<polyline clip-path=\"url(#clip532)\" style=\"stroke:#000000; stroke-linecap:round; stroke-linejoin:round; stroke-width:2; stroke-opacity:0.1; fill:none\" points=\"193.936,766.849 2352.76,766.849 \"/>\n",
       "<polyline clip-path=\"url(#clip532)\" style=\"stroke:#000000; stroke-linecap:round; stroke-linejoin:round; stroke-width:2; stroke-opacity:0.1; fill:none\" points=\"193.936,427.413 2352.76,427.413 \"/>\n",
       "<polyline clip-path=\"url(#clip532)\" style=\"stroke:#000000; stroke-linecap:round; stroke-linejoin:round; stroke-width:2; stroke-opacity:0.1; fill:none\" points=\"193.936,87.9763 2352.76,87.9763 \"/>\n",
       "<polyline clip-path=\"url(#clip530)\" style=\"stroke:#000000; stroke-linecap:round; stroke-linejoin:round; stroke-width:4; stroke-opacity:1; fill:none\" points=\"193.936,1486.45 193.936,47.2441 \"/>\n",
       "<polyline clip-path=\"url(#clip530)\" style=\"stroke:#000000; stroke-linecap:round; stroke-linejoin:round; stroke-width:4; stroke-opacity:1; fill:none\" points=\"193.936,1445.72 212.834,1445.72 \"/>\n",
       "<polyline clip-path=\"url(#clip530)\" style=\"stroke:#000000; stroke-linecap:round; stroke-linejoin:round; stroke-width:4; stroke-opacity:1; fill:none\" points=\"193.936,1106.29 212.834,1106.29 \"/>\n",
       "<polyline clip-path=\"url(#clip530)\" style=\"stroke:#000000; stroke-linecap:round; stroke-linejoin:round; stroke-width:4; stroke-opacity:1; fill:none\" points=\"193.936,766.849 212.834,766.849 \"/>\n",
       "<polyline clip-path=\"url(#clip530)\" style=\"stroke:#000000; stroke-linecap:round; stroke-linejoin:round; stroke-width:4; stroke-opacity:1; fill:none\" points=\"193.936,427.413 212.834,427.413 \"/>\n",
       "<polyline clip-path=\"url(#clip530)\" style=\"stroke:#000000; stroke-linecap:round; stroke-linejoin:round; stroke-width:4; stroke-opacity:1; fill:none\" points=\"193.936,87.9763 212.834,87.9763 \"/>\n",
       "<path clip-path=\"url(#clip530)\" d=\"M50.9921 1446.17 L80.6679 1446.17 L80.6679 1450.11 L50.9921 1450.11 L50.9921 1446.17 Z\" fill=\"#000000\" fill-rule=\"nonzero\" fill-opacity=\"1\" /><path clip-path=\"url(#clip530)\" d=\"M91.5706 1459.07 L99.2095 1459.07 L99.2095 1432.7 L90.8993 1434.37 L90.8993 1430.11 L99.1632 1428.44 L103.839 1428.44 L103.839 1459.07 L111.478 1459.07 L111.478 1463 L91.5706 1463 L91.5706 1459.07 Z\" fill=\"#000000\" fill-rule=\"nonzero\" fill-opacity=\"1\" /><path clip-path=\"url(#clip530)\" d=\"M120.922 1457.12 L125.807 1457.12 L125.807 1463 L120.922 1463 L120.922 1457.12 Z\" fill=\"#000000\" fill-rule=\"nonzero\" fill-opacity=\"1\" /><path clip-path=\"url(#clip530)\" d=\"M145.992 1431.52 Q142.381 1431.52 140.552 1435.09 Q138.746 1438.63 138.746 1445.76 Q138.746 1452.86 140.552 1456.43 Q142.381 1459.97 145.992 1459.97 Q149.626 1459.97 151.431 1456.43 Q153.26 1452.86 153.26 1445.76 Q153.26 1438.63 151.431 1435.09 Q149.626 1431.52 145.992 1431.52 M145.992 1427.82 Q151.802 1427.82 154.857 1432.42 Q157.936 1437.01 157.936 1445.76 Q157.936 1454.48 154.857 1459.09 Q151.802 1463.67 145.992 1463.67 Q140.181 1463.67 137.103 1459.09 Q134.047 1454.48 134.047 1445.76 Q134.047 1437.01 137.103 1432.42 Q140.181 1427.82 145.992 1427.82 Z\" fill=\"#000000\" fill-rule=\"nonzero\" fill-opacity=\"1\" /><path clip-path=\"url(#clip530)\" d=\"M51.9875 1106.74 L81.6633 1106.74 L81.6633 1110.67 L51.9875 1110.67 L51.9875 1106.74 Z\" fill=\"#000000\" fill-rule=\"nonzero\" fill-opacity=\"1\" /><path clip-path=\"url(#clip530)\" d=\"M101.756 1092.08 Q98.1447 1092.08 96.316 1095.65 Q94.5104 1099.19 94.5104 1106.32 Q94.5104 1113.43 96.316 1116.99 Q98.1447 1120.53 101.756 1120.53 Q105.39 1120.53 107.196 1116.99 Q109.024 1113.43 109.024 1106.32 Q109.024 1099.19 107.196 1095.65 Q105.39 1092.08 101.756 1092.08 M101.756 1088.38 Q107.566 1088.38 110.621 1092.99 Q113.7 1097.57 113.7 1106.32 Q113.7 1115.05 110.621 1119.65 Q107.566 1124.24 101.756 1124.24 Q95.9456 1124.24 92.8669 1119.65 Q89.8114 1115.05 89.8114 1106.32 Q89.8114 1097.57 92.8669 1092.99 Q95.9456 1088.38 101.756 1088.38 Z\" fill=\"#000000\" fill-rule=\"nonzero\" fill-opacity=\"1\" /><path clip-path=\"url(#clip530)\" d=\"M121.918 1117.69 L126.802 1117.69 L126.802 1123.57 L121.918 1123.57 L121.918 1117.69 Z\" fill=\"#000000\" fill-rule=\"nonzero\" fill-opacity=\"1\" /><path clip-path=\"url(#clip530)\" d=\"M137.033 1089.01 L155.39 1089.01 L155.39 1092.94 L141.316 1092.94 L141.316 1101.41 Q142.334 1101.07 143.353 1100.9 Q144.371 1100.72 145.39 1100.72 Q151.177 1100.72 154.556 1103.89 Q157.936 1107.06 157.936 1112.48 Q157.936 1118.06 154.464 1121.16 Q150.992 1124.24 144.672 1124.24 Q142.496 1124.24 140.228 1123.87 Q137.982 1123.5 135.575 1122.76 L135.575 1118.06 Q137.658 1119.19 139.881 1119.75 Q142.103 1120.3 144.58 1120.3 Q148.584 1120.3 150.922 1118.19 Q153.26 1116.09 153.26 1112.48 Q153.26 1108.87 150.922 1106.76 Q148.584 1104.65 144.58 1104.65 Q142.705 1104.65 140.83 1105.07 Q138.978 1105.49 137.033 1106.37 L137.033 1089.01 Z\" fill=\"#000000\" fill-rule=\"nonzero\" fill-opacity=\"1\" /><path clip-path=\"url(#clip530)\" d=\"M100.76 752.648 Q97.1493 752.648 95.3206 756.212 Q93.515 759.754 93.515 766.884 Q93.515 773.99 95.3206 777.555 Q97.1493 781.097 100.76 781.097 Q104.395 781.097 106.2 777.555 Q108.029 773.99 108.029 766.884 Q108.029 759.754 106.2 756.212 Q104.395 752.648 100.76 752.648 M100.76 748.944 Q106.571 748.944 109.626 753.55 Q112.705 758.134 112.705 766.884 Q112.705 775.61 109.626 780.217 Q106.571 784.8 100.76 784.8 Q94.9502 784.8 91.8715 780.217 Q88.816 775.61 88.816 766.884 Q88.816 758.134 91.8715 753.55 Q94.9502 748.944 100.76 748.944 Z\" fill=\"#000000\" fill-rule=\"nonzero\" fill-opacity=\"1\" /><path clip-path=\"url(#clip530)\" d=\"M120.922 778.249 L125.807 778.249 L125.807 784.129 L120.922 784.129 L120.922 778.249 Z\" fill=\"#000000\" fill-rule=\"nonzero\" fill-opacity=\"1\" /><path clip-path=\"url(#clip530)\" d=\"M145.992 752.648 Q142.381 752.648 140.552 756.212 Q138.746 759.754 138.746 766.884 Q138.746 773.99 140.552 777.555 Q142.381 781.097 145.992 781.097 Q149.626 781.097 151.431 777.555 Q153.26 773.99 153.26 766.884 Q153.26 759.754 151.431 756.212 Q149.626 752.648 145.992 752.648 M145.992 748.944 Q151.802 748.944 154.857 753.55 Q157.936 758.134 157.936 766.884 Q157.936 775.61 154.857 780.217 Q151.802 784.8 145.992 784.8 Q140.181 784.8 137.103 780.217 Q134.047 775.61 134.047 766.884 Q134.047 758.134 137.103 753.55 Q140.181 748.944 145.992 748.944 Z\" fill=\"#000000\" fill-rule=\"nonzero\" fill-opacity=\"1\" /><path clip-path=\"url(#clip530)\" d=\"M101.756 413.211 Q98.1447 413.211 96.316 416.776 Q94.5104 420.318 94.5104 427.447 Q94.5104 434.554 96.316 438.119 Q98.1447 441.66 101.756 441.66 Q105.39 441.66 107.196 438.119 Q109.024 434.554 109.024 427.447 Q109.024 420.318 107.196 416.776 Q105.39 413.211 101.756 413.211 M101.756 409.508 Q107.566 409.508 110.621 414.114 Q113.7 418.697 113.7 427.447 Q113.7 436.174 110.621 440.781 Q107.566 445.364 101.756 445.364 Q95.9456 445.364 92.8669 440.781 Q89.8114 436.174 89.8114 427.447 Q89.8114 418.697 92.8669 414.114 Q95.9456 409.508 101.756 409.508 Z\" fill=\"#000000\" fill-rule=\"nonzero\" fill-opacity=\"1\" /><path clip-path=\"url(#clip530)\" d=\"M121.918 438.813 L126.802 438.813 L126.802 444.693 L121.918 444.693 L121.918 438.813 Z\" fill=\"#000000\" fill-rule=\"nonzero\" fill-opacity=\"1\" /><path clip-path=\"url(#clip530)\" d=\"M137.033 410.133 L155.39 410.133 L155.39 414.068 L141.316 414.068 L141.316 422.54 Q142.334 422.193 143.353 422.031 Q144.371 421.846 145.39 421.846 Q151.177 421.846 154.556 425.017 Q157.936 428.188 157.936 433.605 Q157.936 439.183 154.464 442.285 Q150.992 445.364 144.672 445.364 Q142.496 445.364 140.228 444.994 Q137.982 444.623 135.575 443.882 L135.575 439.183 Q137.658 440.318 139.881 440.873 Q142.103 441.429 144.58 441.429 Q148.584 441.429 150.922 439.322 Q153.26 437.216 153.26 433.605 Q153.26 429.994 150.922 427.887 Q148.584 425.781 144.58 425.781 Q142.705 425.781 140.83 426.197 Q138.978 426.614 137.033 427.494 L137.033 410.133 Z\" fill=\"#000000\" fill-rule=\"nonzero\" fill-opacity=\"1\" /><path clip-path=\"url(#clip530)\" d=\"M91.5706 101.321 L99.2095 101.321 L99.2095 74.9555 L90.8993 76.6222 L90.8993 72.3629 L99.1632 70.6963 L103.839 70.6963 L103.839 101.321 L111.478 101.321 L111.478 105.256 L91.5706 105.256 L91.5706 101.321 Z\" fill=\"#000000\" fill-rule=\"nonzero\" fill-opacity=\"1\" /><path clip-path=\"url(#clip530)\" d=\"M120.922 99.3767 L125.807 99.3767 L125.807 105.256 L120.922 105.256 L120.922 99.3767 Z\" fill=\"#000000\" fill-rule=\"nonzero\" fill-opacity=\"1\" /><path clip-path=\"url(#clip530)\" d=\"M145.992 73.775 Q142.381 73.775 140.552 77.3398 Q138.746 80.8814 138.746 88.011 Q138.746 95.1174 140.552 98.6822 Q142.381 102.224 145.992 102.224 Q149.626 102.224 151.431 98.6822 Q153.26 95.1174 153.26 88.011 Q153.26 80.8814 151.431 77.3398 Q149.626 73.775 145.992 73.775 M145.992 70.0713 Q151.802 70.0713 154.857 74.6777 Q157.936 79.261 157.936 88.011 Q157.936 96.7378 154.857 101.344 Q151.802 105.928 145.992 105.928 Q140.181 105.928 137.103 101.344 Q134.047 96.7378 134.047 88.011 Q134.047 79.261 137.103 74.6777 Q140.181 70.0713 145.992 70.0713 Z\" fill=\"#000000\" fill-rule=\"nonzero\" fill-opacity=\"1\" /><polyline clip-path=\"url(#clip532)\" style=\"stroke:#009af9; stroke-linecap:round; stroke-linejoin:round; stroke-width:4; stroke-opacity:1; fill:none\" points=\"255.035,766.849 258.35,752.965 261.664,739.086 264.979,725.219 268.294,711.37 283.62,647.733 298.945,585.16 314.27,524.211 329.596,465.429 337.259,437.017 344.921,409.341 352.584,382.465 360.247,356.448 367.91,331.348 375.572,307.221 383.235,284.122 390.898,262.101 400.108,237.132 409.318,213.872 418.527,192.398 427.737,172.778 436.947,155.076 446.157,139.349 455.367,125.649 464.577,114.018 472.364,105.827 480.151,99.1622 487.938,94.0382 495.725,90.4672 503.512,88.4572 511.299,88.013 519.085,89.1356 526.872,91.8224 535.331,96.5061 543.79,103.015 552.249,111.333 560.707,121.435 569.166,133.295 577.625,146.881 586.084,162.155 594.542,179.076 602.341,196.095 610.139,214.435 617.937,234.053 625.735,254.905 633.533,276.942 641.332,300.113 649.13,324.365 656.928,349.64 665.289,377.809 673.649,407.014 682.01,437.175 690.37,468.214 707.091,532.59 723.812,599.458 762.558,760.012 801.304,920.955 818.52,990.187 835.737,1056.9 844.345,1089.08 852.953,1120.35 861.561,1150.62 870.17,1179.8 877.718,1204.44 885.267,1228.14 892.815,1250.83 900.364,1272.47 907.913,1293.01 915.461,1312.41 923.01,1330.63 930.558,1347.63 938.788,1364.72 947.018,1380.27 955.248,1394.25 963.478,1406.6 971.708,1417.3 979.938,1426.33 988.168,1433.66 996.398,1439.27 1004.68,1443.16 1012.96,1445.29 1021.24,1445.64 1029.51,1444.23 1037.79,1441.05 1046.07,1436.11 1054.35,1429.43 1062.63,1421.01 1071.78,1409.72 1080.94,1396.39 1090.09,1381.04 1099.24,1363.74 1108.4,1344.53 1117.55,1323.48 1126.7,1300.65 1135.86,1276.13 1144.57,1251.28 1153.28,1225.03 1161.98,1197.47 1170.69,1168.66 1179.4,1138.69 1188.11,1107.64 1196.82,1075.61 1205.53,1042.69 1223.64,971.798 1241.75,898.347 1259.86,823.254 1277.98,747.458 1293.22,683.803 1308.47,620.882 1323.71,559.252 1338.96,499.457 1348.27,464.086 1357.57,429.712 1366.88,396.449 1376.19,364.408 1385.49,333.693 1394.8,304.407 1404.11,276.645 1413.41,250.498 1421.94,228.039 1430.46,207.07 1438.99,187.649 1447.51,169.831 1456.04,153.665 1464.57,139.195 1473.09,126.462 1481.62,115.5 1489.49,106.976 1497.36,100.009 1505.24,94.6161 1513.11,90.8094 1520.99,88.5982 1528.86,87.9876 1536.73,88.9791 1544.61,91.5702 1552.58,95.8197 1560.56,101.694 1568.54,109.179 1576.51,118.257 1584.49,128.905 1592.46,141.098 1600.44,154.806 1608.42,169.997 1617.36,188.737 1626.29,209.235 1635.23,231.429 1644.17,255.251 1653.11,280.629 1662.05,307.486 1670.99,335.74 1679.93,365.305 1688.03,393.153 1696.13,421.935 1704.23,451.577 1712.33,482.007 1728.53,544.924 1744.73,610.056 1781.83,764.016 1818.92,918.123 1836.1,987.273 1853.27,1053.95 1861.86,1086.13 1870.44,1117.41 1879.03,1147.7 1887.62,1176.93 1896.08,1204.62 1904.55,1231.11 1913.01,1256.34 1921.48,1280.23 1929.95,1302.72 1938.41,1323.75 1946.88,1343.26 1955.34,1361.2 1963.56,1377.07 1971.78,1391.36 1980,1404.05 1988.22,1415.11 1996.44,1424.49 2004.66,1432.19 2012.88,1438.17 2021.1,1442.42 2029.53,1444.98 2037.95,1445.71 2046.38,1444.6 2054.8,1441.67 2063.23,1436.9 2071.66,1430.33 2080.08,1421.96 2088.51,1411.83 2097.74,1398.72 2106.97,1383.57 2116.2,1366.41 2125.44,1347.31 2134.67,1326.33 2143.9,1303.53 2153.13,1278.99 2162.36,1252.79 2175.77,1211.94 2189.18,1168.05 2202.59,1121.42 2216,1072.36 2229.42,1021.2 2242.83,968.311 2256.24,914.039 2269.65,858.76 2275.15,835.875 2280.65,812.911 2286.15,789.893 2291.66,766.849 \"/>\n",
       "<polyline clip-path=\"url(#clip532)\" style=\"stroke:#e26f46; stroke-linecap:round; stroke-linejoin:round; stroke-width:4; stroke-opacity:1; fill:none\" points=\"255.035,87.9763 258.35,88.1183 261.664,88.5442 264.979,89.2539 268.294,90.247 275.957,93.6253 283.62,98.5082 291.282,104.885 298.945,112.741 306.608,122.059 314.27,132.818 321.933,144.995 329.596,158.561 337.259,173.487 344.921,189.738 352.584,207.28 360.247,226.073 367.91,246.074 375.572,267.239 383.235,289.52 390.898,312.869 400.108,342.27 409.318,373.041 418.527,405.084 427.737,438.295 436.947,472.567 446.157,507.788 455.367,543.846 464.577,580.624 495.725,708.748 526.872,839.01 543.79,908.952 560.707,977.346 577.625,1043.45 594.542,1106.54 602.341,1134.42 610.139,1161.45 617.937,1187.56 625.735,1212.7 633.533,1236.81 641.332,1259.83 649.13,1281.7 656.928,1302.39 665.289,1323.19 673.649,1342.51 682.01,1360.3 690.37,1376.51 698.731,1391.1 707.091,1404.02 715.452,1415.25 723.812,1424.76 733.499,1433.58 743.185,1440.03 752.872,1444.07 762.558,1445.69 772.245,1444.88 781.931,1441.66 791.617,1436.02 801.304,1428 809.912,1418.89 818.52,1407.93 827.129,1395.17 835.737,1380.64 844.345,1364.37 852.953,1346.42 861.561,1326.84 870.17,1305.68 877.718,1285.87 885.267,1264.93 892.815,1242.91 900.364,1219.86 907.913,1195.83 915.461,1170.86 923.01,1145.03 930.558,1118.37 947.018,1057.67 963.478,993.979 979.938,927.946 996.398,860.253 1029.51,721.869 1062.63,585.356 1071.78,548.719 1080.94,512.778 1090.09,477.647 1099.24,443.438 1108.4,410.26 1117.55,378.22 1126.7,347.419 1135.86,317.955 1144.57,291.249 1153.28,265.916 1161.98,242.029 1170.69,219.657 1179.4,198.865 1188.11,179.713 1196.82,162.256 1205.53,146.544 1214.59,132.108 1223.64,119.652 1232.7,109.217 1241.75,100.834 1250.81,94.5294 1259.86,90.3236 1268.92,88.2294 1277.98,88.2533 1285.6,89.9154 1293.22,93.0749 1300.84,97.7246 1308.47,103.854 1316.09,111.451 1323.71,120.496 1331.34,130.972 1338.96,142.854 1348.27,159.229 1357.57,177.607 1366.88,197.927 1376.19,220.123 1385.49,244.121 1394.8,269.843 1404.11,297.202 1413.41,326.111 1421.94,353.87 1430.46,382.772 1438.99,412.736 1447.51,443.68 1464.57,508.162 1481.62,575.505 1513.11,704.892 1544.61,836.611 1560.56,902.632 1576.51,967.339 1592.46,1030.11 1608.42,1090.32 1617.36,1122.73 1626.29,1154.06 1635.23,1184.21 1644.17,1213.09 1653.11,1240.62 1662.05,1266.7 1670.99,1291.27 1679.93,1314.23 1688.03,1333.61 1696.13,1351.57 1704.23,1368.07 1712.33,1383.07 1720.43,1396.53 1728.53,1408.42 1736.63,1418.71 1744.73,1427.37 1754,1435.25 1763.28,1440.95 1772.55,1444.44 1781.83,1445.72 1791.1,1444.77 1800.37,1441.6 1809.65,1436.22 1818.92,1428.65 1827.51,1419.71 1836.1,1408.94 1844.68,1396.37 1853.27,1382.02 1861.86,1365.96 1870.44,1348.21 1879.03,1328.83 1887.62,1307.87 1896.08,1285.72 1904.55,1262.16 1913.01,1237.24 1921.48,1211.04 1929.95,1183.63 1938.41,1155.08 1946.88,1125.48 1955.34,1094.89 1971.78,1033.02 1988.22,968.418 2004.66,901.741 2021.1,833.676 2054.8,692.753 2088.51,555.022 2097.74,518.646 2106.97,483.075 2116.2,448.425 2125.44,414.808 2134.67,382.333 2143.9,351.105 2153.13,321.226 2162.36,292.792 2169.07,273.098 2175.77,254.25 2182.48,236.279 2189.18,219.216 2195.89,203.09 2202.59,187.929 2209.3,173.759 2216,160.604 2222.71,148.486 2229.42,137.427 2236.12,127.446 2242.83,118.558 2249.53,110.78 2256.24,104.125 2262.94,98.604 2269.65,94.2269 2275.15,91.4946 2280.65,89.5407 2286.15,88.3675 2291.66,87.9763 \"/>\n",
       "<path clip-path=\"url(#clip530)\" d=\"M265.897 1438.47 L534.209 1438.47 L534.209 1282.95 L265.897 1282.95  Z\" fill=\"#ffffff\" fill-rule=\"evenodd\" fill-opacity=\"1\"/>\n",
       "<polyline clip-path=\"url(#clip530)\" style=\"stroke:#000000; stroke-linecap:round; stroke-linejoin:round; stroke-width:4; stroke-opacity:1; fill:none\" points=\"265.897,1438.47 534.209,1438.47 534.209,1282.95 265.897,1282.95 265.897,1438.47 \"/>\n",
       "<polyline clip-path=\"url(#clip530)\" style=\"stroke:#009af9; stroke-linecap:round; stroke-linejoin:round; stroke-width:4; stroke-opacity:1; fill:none\" points=\"289.884,1334.79 433.805,1334.79 \"/>\n",
       "<path clip-path=\"url(#clip530)\" d=\"M471.634 1354.48 Q469.829 1359.11 468.116 1360.52 Q466.403 1361.94 463.532 1361.94 L460.13 1361.94 L460.13 1358.37 L462.63 1358.37 Q464.389 1358.37 465.361 1357.54 Q466.333 1356.7 467.514 1353.6 L468.278 1351.66 L457.792 1326.15 L462.306 1326.15 L470.407 1346.43 L478.509 1326.15 L483.023 1326.15 L471.634 1354.48 Z\" fill=\"#000000\" fill-rule=\"nonzero\" fill-opacity=\"1\" /><path clip-path=\"url(#clip530)\" d=\"M490.315 1348.14 L497.954 1348.14 L497.954 1321.77 L489.643 1323.44 L489.643 1319.18 L497.907 1317.51 L502.583 1317.51 L502.583 1348.14 L510.222 1348.14 L510.222 1352.07 L490.315 1352.07 L490.315 1348.14 Z\" fill=\"#000000\" fill-rule=\"nonzero\" fill-opacity=\"1\" /><polyline clip-path=\"url(#clip530)\" style=\"stroke:#e26f46; stroke-linecap:round; stroke-linejoin:round; stroke-width:4; stroke-opacity:1; fill:none\" points=\"289.884,1386.63 433.805,1386.63 \"/>\n",
       "<path clip-path=\"url(#clip530)\" d=\"M471.634 1406.32 Q469.829 1410.95 468.116 1412.36 Q466.403 1413.78 463.532 1413.78 L460.13 1413.78 L460.13 1410.21 L462.63 1410.21 Q464.389 1410.21 465.361 1409.38 Q466.333 1408.54 467.514 1405.44 L468.278 1403.5 L457.792 1377.99 L462.306 1377.99 L470.407 1398.27 L478.509 1377.99 L483.023 1377.99 L471.634 1406.32 Z\" fill=\"#000000\" fill-rule=\"nonzero\" fill-opacity=\"1\" /><path clip-path=\"url(#clip530)\" d=\"M493.532 1399.98 L509.852 1399.98 L509.852 1403.91 L487.907 1403.91 L487.907 1399.98 Q490.569 1397.22 495.153 1392.6 Q499.759 1387.94 500.94 1386.6 Q503.185 1384.08 504.065 1382.34 Q504.967 1380.58 504.967 1378.89 Q504.967 1376.14 503.023 1374.4 Q501.102 1372.66 498 1372.66 Q495.801 1372.66 493.347 1373.43 Q490.917 1374.19 488.139 1375.74 L488.139 1371.02 Q490.963 1369.89 493.417 1369.31 Q495.87 1368.73 497.907 1368.73 Q503.278 1368.73 506.472 1371.41 Q509.666 1374.1 509.666 1378.59 Q509.666 1380.72 508.856 1382.64 Q508.069 1384.54 505.963 1387.13 Q505.384 1387.8 502.282 1391.02 Q499.18 1394.22 493.532 1399.98 Z\" fill=\"#000000\" fill-rule=\"nonzero\" fill-opacity=\"1\" /></svg>\n"
      ],
      "text/html": [
       "<?xml version=\"1.0\" encoding=\"utf-8\"?>\n",
       "<svg xmlns=\"http://www.w3.org/2000/svg\" xmlns:xlink=\"http://www.w3.org/1999/xlink\" width=\"600\" height=\"400\" viewBox=\"0 0 2400 1600\">\n",
       "<defs>\n",
       "  <clipPath id=\"clip580\">\n",
       "    <rect x=\"0\" y=\"0\" width=\"2400\" height=\"1600\"/>\n",
       "  </clipPath>\n",
       "</defs>\n",
       "<path clip-path=\"url(#clip580)\" d=\"M0 1600 L2400 1600 L2400 8.88178e-14 L0 8.88178e-14  Z\" fill=\"#ffffff\" fill-rule=\"evenodd\" fill-opacity=\"1\"/>\n",
       "<defs>\n",
       "  <clipPath id=\"clip581\">\n",
       "    <rect x=\"480\" y=\"0\" width=\"1681\" height=\"1600\"/>\n",
       "  </clipPath>\n",
       "</defs>\n",
       "<path clip-path=\"url(#clip580)\" d=\"M193.936 1486.45 L2352.76 1486.45 L2352.76 47.2441 L193.936 47.2441  Z\" fill=\"#ffffff\" fill-rule=\"evenodd\" fill-opacity=\"1\"/>\n",
       "<defs>\n",
       "  <clipPath id=\"clip582\">\n",
       "    <rect x=\"193\" y=\"47\" width=\"2160\" height=\"1440\"/>\n",
       "  </clipPath>\n",
       "</defs>\n",
       "<polyline clip-path=\"url(#clip582)\" style=\"stroke:#000000; stroke-linecap:round; stroke-linejoin:round; stroke-width:2; stroke-opacity:0.1; fill:none\" points=\"463,1486.45 463,47.2441 \"/>\n",
       "<polyline clip-path=\"url(#clip582)\" style=\"stroke:#000000; stroke-linecap:round; stroke-linejoin:round; stroke-width:2; stroke-opacity:0.1; fill:none\" points=\"868.173,1486.45 868.173,47.2441 \"/>\n",
       "<polyline clip-path=\"url(#clip582)\" style=\"stroke:#000000; stroke-linecap:round; stroke-linejoin:round; stroke-width:2; stroke-opacity:0.1; fill:none\" points=\"1273.35,1486.45 1273.35,47.2441 \"/>\n",
       "<polyline clip-path=\"url(#clip582)\" style=\"stroke:#000000; stroke-linecap:round; stroke-linejoin:round; stroke-width:2; stroke-opacity:0.1; fill:none\" points=\"1678.52,1486.45 1678.52,47.2441 \"/>\n",
       "<polyline clip-path=\"url(#clip582)\" style=\"stroke:#000000; stroke-linecap:round; stroke-linejoin:round; stroke-width:2; stroke-opacity:0.1; fill:none\" points=\"2083.69,1486.45 2083.69,47.2441 \"/>\n",
       "<polyline clip-path=\"url(#clip580)\" style=\"stroke:#000000; stroke-linecap:round; stroke-linejoin:round; stroke-width:4; stroke-opacity:1; fill:none\" points=\"193.936,1486.45 2352.76,1486.45 \"/>\n",
       "<polyline clip-path=\"url(#clip580)\" style=\"stroke:#000000; stroke-linecap:round; stroke-linejoin:round; stroke-width:4; stroke-opacity:1; fill:none\" points=\"463,1486.45 463,1467.55 \"/>\n",
       "<polyline clip-path=\"url(#clip580)\" style=\"stroke:#000000; stroke-linecap:round; stroke-linejoin:round; stroke-width:4; stroke-opacity:1; fill:none\" points=\"868.173,1486.45 868.173,1467.55 \"/>\n",
       "<polyline clip-path=\"url(#clip580)\" style=\"stroke:#000000; stroke-linecap:round; stroke-linejoin:round; stroke-width:4; stroke-opacity:1; fill:none\" points=\"1273.35,1486.45 1273.35,1467.55 \"/>\n",
       "<polyline clip-path=\"url(#clip580)\" style=\"stroke:#000000; stroke-linecap:round; stroke-linejoin:round; stroke-width:4; stroke-opacity:1; fill:none\" points=\"1678.52,1486.45 1678.52,1467.55 \"/>\n",
       "<polyline clip-path=\"url(#clip580)\" style=\"stroke:#000000; stroke-linecap:round; stroke-linejoin:round; stroke-width:4; stroke-opacity:1; fill:none\" points=\"2083.69,1486.45 2083.69,1467.55 \"/>\n",
       "<path clip-path=\"url(#clip580)\" d=\"M409.528 1532.02 L439.203 1532.02 L439.203 1535.95 L409.528 1535.95 L409.528 1532.02 Z\" fill=\"#000000\" fill-rule=\"nonzero\" fill-opacity=\"1\" /><path clip-path=\"url(#clip580)\" d=\"M449.342 1514.29 L467.699 1514.29 L467.699 1518.22 L453.625 1518.22 L453.625 1526.7 Q454.643 1526.35 455.662 1526.19 Q456.68 1526 457.699 1526 Q463.486 1526 466.865 1529.17 Q470.245 1532.34 470.245 1537.76 Q470.245 1543.34 466.773 1546.44 Q463.301 1549.52 456.981 1549.52 Q454.805 1549.52 452.537 1549.15 Q450.291 1548.78 447.884 1548.04 L447.884 1543.34 Q449.967 1544.47 452.189 1545.03 Q454.412 1545.58 456.889 1545.58 Q460.893 1545.58 463.231 1543.48 Q465.569 1541.37 465.569 1537.76 Q465.569 1534.15 463.231 1532.04 Q460.893 1529.94 456.889 1529.94 Q455.014 1529.94 453.139 1530.35 Q451.287 1530.77 449.342 1531.65 L449.342 1514.29 Z\" fill=\"#000000\" fill-rule=\"nonzero\" fill-opacity=\"1\" /><path clip-path=\"url(#clip580)\" d=\"M479.458 1542.97 L484.342 1542.97 L484.342 1548.85 L479.458 1548.85 L479.458 1542.97 Z\" fill=\"#000000\" fill-rule=\"nonzero\" fill-opacity=\"1\" /><path clip-path=\"url(#clip580)\" d=\"M504.527 1517.37 Q500.916 1517.37 499.087 1520.93 Q497.282 1524.47 497.282 1531.6 Q497.282 1538.71 499.087 1542.27 Q500.916 1545.82 504.527 1545.82 Q508.161 1545.82 509.967 1542.27 Q511.796 1538.71 511.796 1531.6 Q511.796 1524.47 509.967 1520.93 Q508.161 1517.37 504.527 1517.37 M504.527 1513.66 Q510.337 1513.66 513.393 1518.27 Q516.472 1522.85 516.472 1531.6 Q516.472 1540.33 513.393 1544.94 Q510.337 1549.52 504.527 1549.52 Q498.717 1549.52 495.638 1544.94 Q492.583 1540.33 492.583 1531.6 Q492.583 1522.85 495.638 1518.27 Q498.717 1513.66 504.527 1513.66 Z\" fill=\"#000000\" fill-rule=\"nonzero\" fill-opacity=\"1\" /><path clip-path=\"url(#clip580)\" d=\"M815.199 1532.02 L844.874 1532.02 L844.874 1535.95 L815.199 1535.95 L815.199 1532.02 Z\" fill=\"#000000\" fill-rule=\"nonzero\" fill-opacity=\"1\" /><path clip-path=\"url(#clip580)\" d=\"M858.995 1544.91 L875.314 1544.91 L875.314 1548.85 L853.37 1548.85 L853.37 1544.91 Q856.032 1542.16 860.615 1537.53 Q865.221 1532.88 866.402 1531.53 Q868.647 1529.01 869.527 1527.27 Q870.43 1525.51 870.43 1523.82 Q870.43 1521.07 868.485 1519.33 Q866.564 1517.6 863.462 1517.6 Q861.263 1517.6 858.809 1518.36 Q856.379 1519.13 853.601 1520.68 L853.601 1515.95 Q856.425 1514.82 858.879 1514.24 Q861.333 1513.66 863.37 1513.66 Q868.74 1513.66 871.934 1516.35 Q875.129 1519.03 875.129 1523.52 Q875.129 1525.65 874.319 1527.57 Q873.532 1529.47 871.425 1532.07 Q870.846 1532.74 867.745 1535.95 Q864.643 1539.15 858.995 1544.91 Z\" fill=\"#000000\" fill-rule=\"nonzero\" fill-opacity=\"1\" /><path clip-path=\"url(#clip580)\" d=\"M885.129 1542.97 L890.013 1542.97 L890.013 1548.85 L885.129 1548.85 L885.129 1542.97 Z\" fill=\"#000000\" fill-rule=\"nonzero\" fill-opacity=\"1\" /><path clip-path=\"url(#clip580)\" d=\"M900.244 1514.29 L918.601 1514.29 L918.601 1518.22 L904.527 1518.22 L904.527 1526.7 Q905.545 1526.35 906.564 1526.19 Q907.582 1526 908.601 1526 Q914.388 1526 917.767 1529.17 Q921.147 1532.34 921.147 1537.76 Q921.147 1543.34 917.675 1546.44 Q914.203 1549.52 907.883 1549.52 Q905.707 1549.52 903.439 1549.15 Q901.193 1548.78 898.786 1548.04 L898.786 1543.34 Q900.869 1544.47 903.092 1545.03 Q905.314 1545.58 907.791 1545.58 Q911.795 1545.58 914.133 1543.48 Q916.471 1541.37 916.471 1537.76 Q916.471 1534.15 914.133 1532.04 Q911.795 1529.94 907.791 1529.94 Q905.916 1529.94 904.041 1530.35 Q902.189 1530.77 900.244 1531.65 L900.244 1514.29 Z\" fill=\"#000000\" fill-rule=\"nonzero\" fill-opacity=\"1\" /><path clip-path=\"url(#clip580)\" d=\"M1250.73 1517.37 Q1247.12 1517.37 1245.29 1520.93 Q1243.49 1524.47 1243.49 1531.6 Q1243.49 1538.71 1245.29 1542.27 Q1247.12 1545.82 1250.73 1545.82 Q1254.36 1545.82 1256.17 1542.27 Q1258 1538.71 1258 1531.6 Q1258 1524.47 1256.17 1520.93 Q1254.36 1517.37 1250.73 1517.37 M1250.73 1513.66 Q1256.54 1513.66 1259.6 1518.27 Q1262.67 1522.85 1262.67 1531.6 Q1262.67 1540.33 1259.6 1544.94 Q1256.54 1549.52 1250.73 1549.52 Q1244.92 1549.52 1241.84 1544.94 Q1238.79 1540.33 1238.79 1531.6 Q1238.79 1522.85 1241.84 1518.27 Q1244.92 1513.66 1250.73 1513.66 Z\" fill=\"#000000\" fill-rule=\"nonzero\" fill-opacity=\"1\" /><path clip-path=\"url(#clip580)\" d=\"M1270.89 1542.97 L1275.78 1542.97 L1275.78 1548.85 L1270.89 1548.85 L1270.89 1542.97 Z\" fill=\"#000000\" fill-rule=\"nonzero\" fill-opacity=\"1\" /><path clip-path=\"url(#clip580)\" d=\"M1295.96 1517.37 Q1292.35 1517.37 1290.52 1520.93 Q1288.72 1524.47 1288.72 1531.6 Q1288.72 1538.71 1290.52 1542.27 Q1292.35 1545.82 1295.96 1545.82 Q1299.6 1545.82 1301.4 1542.27 Q1303.23 1538.71 1303.23 1531.6 Q1303.23 1524.47 1301.4 1520.93 Q1299.6 1517.37 1295.96 1517.37 M1295.96 1513.66 Q1301.77 1513.66 1304.83 1518.27 Q1307.91 1522.85 1307.91 1531.6 Q1307.91 1540.33 1304.83 1544.94 Q1301.77 1549.52 1295.96 1549.52 Q1290.15 1549.52 1287.07 1544.94 Q1284.02 1540.33 1284.02 1531.6 Q1284.02 1522.85 1287.07 1518.27 Q1290.15 1513.66 1295.96 1513.66 Z\" fill=\"#000000\" fill-rule=\"nonzero\" fill-opacity=\"1\" /><path clip-path=\"url(#clip580)\" d=\"M1650.26 1544.91 L1666.57 1544.91 L1666.57 1548.85 L1644.63 1548.85 L1644.63 1544.91 Q1647.29 1542.16 1651.88 1537.53 Q1656.48 1532.88 1657.66 1531.53 Q1659.91 1529.01 1660.79 1527.27 Q1661.69 1525.51 1661.69 1523.82 Q1661.69 1521.07 1659.75 1519.33 Q1657.82 1517.6 1654.72 1517.6 Q1652.52 1517.6 1650.07 1518.36 Q1647.64 1519.13 1644.86 1520.68 L1644.86 1515.95 Q1647.69 1514.82 1650.14 1514.24 Q1652.59 1513.66 1654.63 1513.66 Q1660 1513.66 1663.2 1516.35 Q1666.39 1519.03 1666.39 1523.52 Q1666.39 1525.65 1665.58 1527.57 Q1664.79 1529.47 1662.69 1532.07 Q1662.11 1532.74 1659.01 1535.95 Q1655.9 1539.15 1650.26 1544.91 Z\" fill=\"#000000\" fill-rule=\"nonzero\" fill-opacity=\"1\" /><path clip-path=\"url(#clip580)\" d=\"M1676.39 1542.97 L1681.27 1542.97 L1681.27 1548.85 L1676.39 1548.85 L1676.39 1542.97 Z\" fill=\"#000000\" fill-rule=\"nonzero\" fill-opacity=\"1\" /><path clip-path=\"url(#clip580)\" d=\"M1691.51 1514.29 L1709.86 1514.29 L1709.86 1518.22 L1695.79 1518.22 L1695.79 1526.7 Q1696.81 1526.35 1697.82 1526.19 Q1698.84 1526 1699.86 1526 Q1705.65 1526 1709.03 1529.17 Q1712.41 1532.34 1712.41 1537.76 Q1712.41 1543.34 1708.94 1546.44 Q1705.46 1549.52 1699.14 1549.52 Q1696.97 1549.52 1694.7 1549.15 Q1692.45 1548.78 1690.05 1548.04 L1690.05 1543.34 Q1692.13 1544.47 1694.35 1545.03 Q1696.57 1545.58 1699.05 1545.58 Q1703.06 1545.58 1705.39 1543.48 Q1707.73 1541.37 1707.73 1537.76 Q1707.73 1534.15 1705.39 1532.04 Q1703.06 1529.94 1699.05 1529.94 Q1697.18 1529.94 1695.3 1530.35 Q1693.45 1530.77 1691.51 1531.65 L1691.51 1514.29 Z\" fill=\"#000000\" fill-rule=\"nonzero\" fill-opacity=\"1\" /><path clip-path=\"url(#clip580)\" d=\"M2050.86 1514.29 L2069.21 1514.29 L2069.21 1518.22 L2055.14 1518.22 L2055.14 1526.7 Q2056.16 1526.35 2057.18 1526.19 Q2058.19 1526 2059.21 1526 Q2065 1526 2068.38 1529.17 Q2071.76 1532.34 2071.76 1537.76 Q2071.76 1543.34 2068.29 1546.44 Q2064.82 1549.52 2058.5 1549.52 Q2056.32 1549.52 2054.05 1549.15 Q2051.81 1548.78 2049.4 1548.04 L2049.4 1543.34 Q2051.48 1544.47 2053.7 1545.03 Q2055.93 1545.58 2058.4 1545.58 Q2062.41 1545.58 2064.75 1543.48 Q2067.08 1541.37 2067.08 1537.76 Q2067.08 1534.15 2064.75 1532.04 Q2062.41 1529.94 2058.4 1529.94 Q2056.53 1529.94 2054.65 1530.35 Q2052.8 1530.77 2050.86 1531.65 L2050.86 1514.29 Z\" fill=\"#000000\" fill-rule=\"nonzero\" fill-opacity=\"1\" /><path clip-path=\"url(#clip580)\" d=\"M2080.97 1542.97 L2085.86 1542.97 L2085.86 1548.85 L2080.97 1548.85 L2080.97 1542.97 Z\" fill=\"#000000\" fill-rule=\"nonzero\" fill-opacity=\"1\" /><path clip-path=\"url(#clip580)\" d=\"M2106.04 1517.37 Q2102.43 1517.37 2100.6 1520.93 Q2098.8 1524.47 2098.8 1531.6 Q2098.8 1538.71 2100.6 1542.27 Q2102.43 1545.82 2106.04 1545.82 Q2109.68 1545.82 2111.48 1542.27 Q2113.31 1538.71 2113.31 1531.6 Q2113.31 1524.47 2111.48 1520.93 Q2109.68 1517.37 2106.04 1517.37 M2106.04 1513.66 Q2111.85 1513.66 2114.91 1518.27 Q2117.99 1522.85 2117.99 1531.6 Q2117.99 1540.33 2114.91 1544.94 Q2111.85 1549.52 2106.04 1549.52 Q2100.23 1549.52 2097.15 1544.94 Q2094.1 1540.33 2094.1 1531.6 Q2094.1 1522.85 2097.15 1518.27 Q2100.23 1513.66 2106.04 1513.66 Z\" fill=\"#000000\" fill-rule=\"nonzero\" fill-opacity=\"1\" /><polyline clip-path=\"url(#clip582)\" style=\"stroke:#000000; stroke-linecap:round; stroke-linejoin:round; stroke-width:2; stroke-opacity:0.1; fill:none\" points=\"193.936,1445.72 2352.76,1445.72 \"/>\n",
       "<polyline clip-path=\"url(#clip582)\" style=\"stroke:#000000; stroke-linecap:round; stroke-linejoin:round; stroke-width:2; stroke-opacity:0.1; fill:none\" points=\"193.936,1106.29 2352.76,1106.29 \"/>\n",
       "<polyline clip-path=\"url(#clip582)\" style=\"stroke:#000000; stroke-linecap:round; stroke-linejoin:round; stroke-width:2; stroke-opacity:0.1; fill:none\" points=\"193.936,766.849 2352.76,766.849 \"/>\n",
       "<polyline clip-path=\"url(#clip582)\" style=\"stroke:#000000; stroke-linecap:round; stroke-linejoin:round; stroke-width:2; stroke-opacity:0.1; fill:none\" points=\"193.936,427.413 2352.76,427.413 \"/>\n",
       "<polyline clip-path=\"url(#clip582)\" style=\"stroke:#000000; stroke-linecap:round; stroke-linejoin:round; stroke-width:2; stroke-opacity:0.1; fill:none\" points=\"193.936,87.9763 2352.76,87.9763 \"/>\n",
       "<polyline clip-path=\"url(#clip580)\" style=\"stroke:#000000; stroke-linecap:round; stroke-linejoin:round; stroke-width:4; stroke-opacity:1; fill:none\" points=\"193.936,1486.45 193.936,47.2441 \"/>\n",
       "<polyline clip-path=\"url(#clip580)\" style=\"stroke:#000000; stroke-linecap:round; stroke-linejoin:round; stroke-width:4; stroke-opacity:1; fill:none\" points=\"193.936,1445.72 212.834,1445.72 \"/>\n",
       "<polyline clip-path=\"url(#clip580)\" style=\"stroke:#000000; stroke-linecap:round; stroke-linejoin:round; stroke-width:4; stroke-opacity:1; fill:none\" points=\"193.936,1106.29 212.834,1106.29 \"/>\n",
       "<polyline clip-path=\"url(#clip580)\" style=\"stroke:#000000; stroke-linecap:round; stroke-linejoin:round; stroke-width:4; stroke-opacity:1; fill:none\" points=\"193.936,766.849 212.834,766.849 \"/>\n",
       "<polyline clip-path=\"url(#clip580)\" style=\"stroke:#000000; stroke-linecap:round; stroke-linejoin:round; stroke-width:4; stroke-opacity:1; fill:none\" points=\"193.936,427.413 212.834,427.413 \"/>\n",
       "<polyline clip-path=\"url(#clip580)\" style=\"stroke:#000000; stroke-linecap:round; stroke-linejoin:round; stroke-width:4; stroke-opacity:1; fill:none\" points=\"193.936,87.9763 212.834,87.9763 \"/>\n",
       "<path clip-path=\"url(#clip580)\" d=\"M50.9921 1446.17 L80.6679 1446.17 L80.6679 1450.11 L50.9921 1450.11 L50.9921 1446.17 Z\" fill=\"#000000\" fill-rule=\"nonzero\" fill-opacity=\"1\" /><path clip-path=\"url(#clip580)\" d=\"M91.5706 1459.07 L99.2095 1459.07 L99.2095 1432.7 L90.8993 1434.37 L90.8993 1430.11 L99.1632 1428.44 L103.839 1428.44 L103.839 1459.07 L111.478 1459.07 L111.478 1463 L91.5706 1463 L91.5706 1459.07 Z\" fill=\"#000000\" fill-rule=\"nonzero\" fill-opacity=\"1\" /><path clip-path=\"url(#clip580)\" d=\"M120.922 1457.12 L125.807 1457.12 L125.807 1463 L120.922 1463 L120.922 1457.12 Z\" fill=\"#000000\" fill-rule=\"nonzero\" fill-opacity=\"1\" /><path clip-path=\"url(#clip580)\" d=\"M145.992 1431.52 Q142.381 1431.52 140.552 1435.09 Q138.746 1438.63 138.746 1445.76 Q138.746 1452.86 140.552 1456.43 Q142.381 1459.97 145.992 1459.97 Q149.626 1459.97 151.431 1456.43 Q153.26 1452.86 153.26 1445.76 Q153.26 1438.63 151.431 1435.09 Q149.626 1431.52 145.992 1431.52 M145.992 1427.82 Q151.802 1427.82 154.857 1432.42 Q157.936 1437.01 157.936 1445.76 Q157.936 1454.48 154.857 1459.09 Q151.802 1463.67 145.992 1463.67 Q140.181 1463.67 137.103 1459.09 Q134.047 1454.48 134.047 1445.76 Q134.047 1437.01 137.103 1432.42 Q140.181 1427.82 145.992 1427.82 Z\" fill=\"#000000\" fill-rule=\"nonzero\" fill-opacity=\"1\" /><path clip-path=\"url(#clip580)\" d=\"M51.9875 1106.74 L81.6633 1106.74 L81.6633 1110.67 L51.9875 1110.67 L51.9875 1106.74 Z\" fill=\"#000000\" fill-rule=\"nonzero\" fill-opacity=\"1\" /><path clip-path=\"url(#clip580)\" d=\"M101.756 1092.08 Q98.1447 1092.08 96.316 1095.65 Q94.5104 1099.19 94.5104 1106.32 Q94.5104 1113.43 96.316 1116.99 Q98.1447 1120.53 101.756 1120.53 Q105.39 1120.53 107.196 1116.99 Q109.024 1113.43 109.024 1106.32 Q109.024 1099.19 107.196 1095.65 Q105.39 1092.08 101.756 1092.08 M101.756 1088.38 Q107.566 1088.38 110.621 1092.99 Q113.7 1097.57 113.7 1106.32 Q113.7 1115.05 110.621 1119.65 Q107.566 1124.24 101.756 1124.24 Q95.9456 1124.24 92.8669 1119.65 Q89.8114 1115.05 89.8114 1106.32 Q89.8114 1097.57 92.8669 1092.99 Q95.9456 1088.38 101.756 1088.38 Z\" fill=\"#000000\" fill-rule=\"nonzero\" fill-opacity=\"1\" /><path clip-path=\"url(#clip580)\" d=\"M121.918 1117.69 L126.802 1117.69 L126.802 1123.57 L121.918 1123.57 L121.918 1117.69 Z\" fill=\"#000000\" fill-rule=\"nonzero\" fill-opacity=\"1\" /><path clip-path=\"url(#clip580)\" d=\"M137.033 1089.01 L155.39 1089.01 L155.39 1092.94 L141.316 1092.94 L141.316 1101.41 Q142.334 1101.07 143.353 1100.9 Q144.371 1100.72 145.39 1100.72 Q151.177 1100.72 154.556 1103.89 Q157.936 1107.06 157.936 1112.48 Q157.936 1118.06 154.464 1121.16 Q150.992 1124.24 144.672 1124.24 Q142.496 1124.24 140.228 1123.87 Q137.982 1123.5 135.575 1122.76 L135.575 1118.06 Q137.658 1119.19 139.881 1119.75 Q142.103 1120.3 144.58 1120.3 Q148.584 1120.3 150.922 1118.19 Q153.26 1116.09 153.26 1112.48 Q153.26 1108.87 150.922 1106.76 Q148.584 1104.65 144.58 1104.65 Q142.705 1104.65 140.83 1105.07 Q138.978 1105.49 137.033 1106.37 L137.033 1089.01 Z\" fill=\"#000000\" fill-rule=\"nonzero\" fill-opacity=\"1\" /><path clip-path=\"url(#clip580)\" d=\"M100.76 752.648 Q97.1493 752.648 95.3206 756.212 Q93.515 759.754 93.515 766.884 Q93.515 773.99 95.3206 777.555 Q97.1493 781.097 100.76 781.097 Q104.395 781.097 106.2 777.555 Q108.029 773.99 108.029 766.884 Q108.029 759.754 106.2 756.212 Q104.395 752.648 100.76 752.648 M100.76 748.944 Q106.571 748.944 109.626 753.55 Q112.705 758.134 112.705 766.884 Q112.705 775.61 109.626 780.217 Q106.571 784.8 100.76 784.8 Q94.9502 784.8 91.8715 780.217 Q88.816 775.61 88.816 766.884 Q88.816 758.134 91.8715 753.55 Q94.9502 748.944 100.76 748.944 Z\" fill=\"#000000\" fill-rule=\"nonzero\" fill-opacity=\"1\" /><path clip-path=\"url(#clip580)\" d=\"M120.922 778.249 L125.807 778.249 L125.807 784.129 L120.922 784.129 L120.922 778.249 Z\" fill=\"#000000\" fill-rule=\"nonzero\" fill-opacity=\"1\" /><path clip-path=\"url(#clip580)\" d=\"M145.992 752.648 Q142.381 752.648 140.552 756.212 Q138.746 759.754 138.746 766.884 Q138.746 773.99 140.552 777.555 Q142.381 781.097 145.992 781.097 Q149.626 781.097 151.431 777.555 Q153.26 773.99 153.26 766.884 Q153.26 759.754 151.431 756.212 Q149.626 752.648 145.992 752.648 M145.992 748.944 Q151.802 748.944 154.857 753.55 Q157.936 758.134 157.936 766.884 Q157.936 775.61 154.857 780.217 Q151.802 784.8 145.992 784.8 Q140.181 784.8 137.103 780.217 Q134.047 775.61 134.047 766.884 Q134.047 758.134 137.103 753.55 Q140.181 748.944 145.992 748.944 Z\" fill=\"#000000\" fill-rule=\"nonzero\" fill-opacity=\"1\" /><path clip-path=\"url(#clip580)\" d=\"M101.756 413.211 Q98.1447 413.211 96.316 416.776 Q94.5104 420.318 94.5104 427.447 Q94.5104 434.554 96.316 438.119 Q98.1447 441.66 101.756 441.66 Q105.39 441.66 107.196 438.119 Q109.024 434.554 109.024 427.447 Q109.024 420.318 107.196 416.776 Q105.39 413.211 101.756 413.211 M101.756 409.508 Q107.566 409.508 110.621 414.114 Q113.7 418.697 113.7 427.447 Q113.7 436.174 110.621 440.781 Q107.566 445.364 101.756 445.364 Q95.9456 445.364 92.8669 440.781 Q89.8114 436.174 89.8114 427.447 Q89.8114 418.697 92.8669 414.114 Q95.9456 409.508 101.756 409.508 Z\" fill=\"#000000\" fill-rule=\"nonzero\" fill-opacity=\"1\" /><path clip-path=\"url(#clip580)\" d=\"M121.918 438.813 L126.802 438.813 L126.802 444.693 L121.918 444.693 L121.918 438.813 Z\" fill=\"#000000\" fill-rule=\"nonzero\" fill-opacity=\"1\" /><path clip-path=\"url(#clip580)\" d=\"M137.033 410.133 L155.39 410.133 L155.39 414.068 L141.316 414.068 L141.316 422.54 Q142.334 422.193 143.353 422.031 Q144.371 421.846 145.39 421.846 Q151.177 421.846 154.556 425.017 Q157.936 428.188 157.936 433.605 Q157.936 439.183 154.464 442.285 Q150.992 445.364 144.672 445.364 Q142.496 445.364 140.228 444.994 Q137.982 444.623 135.575 443.882 L135.575 439.183 Q137.658 440.318 139.881 440.873 Q142.103 441.429 144.58 441.429 Q148.584 441.429 150.922 439.322 Q153.26 437.216 153.26 433.605 Q153.26 429.994 150.922 427.887 Q148.584 425.781 144.58 425.781 Q142.705 425.781 140.83 426.197 Q138.978 426.614 137.033 427.494 L137.033 410.133 Z\" fill=\"#000000\" fill-rule=\"nonzero\" fill-opacity=\"1\" /><path clip-path=\"url(#clip580)\" d=\"M91.5706 101.321 L99.2095 101.321 L99.2095 74.9555 L90.8993 76.6222 L90.8993 72.3629 L99.1632 70.6963 L103.839 70.6963 L103.839 101.321 L111.478 101.321 L111.478 105.256 L91.5706 105.256 L91.5706 101.321 Z\" fill=\"#000000\" fill-rule=\"nonzero\" fill-opacity=\"1\" /><path clip-path=\"url(#clip580)\" d=\"M120.922 99.3767 L125.807 99.3767 L125.807 105.256 L120.922 105.256 L120.922 99.3767 Z\" fill=\"#000000\" fill-rule=\"nonzero\" fill-opacity=\"1\" /><path clip-path=\"url(#clip580)\" d=\"M145.992 73.775 Q142.381 73.775 140.552 77.3398 Q138.746 80.8814 138.746 88.011 Q138.746 95.1174 140.552 98.6822 Q142.381 102.224 145.992 102.224 Q149.626 102.224 151.431 98.6822 Q153.26 95.1174 153.26 88.011 Q153.26 80.8814 151.431 77.3398 Q149.626 73.775 145.992 73.775 M145.992 70.0713 Q151.802 70.0713 154.857 74.6777 Q157.936 79.261 157.936 88.011 Q157.936 96.7378 154.857 101.344 Q151.802 105.928 145.992 105.928 Q140.181 105.928 137.103 101.344 Q134.047 96.7378 134.047 88.011 Q134.047 79.261 137.103 74.6777 Q140.181 70.0713 145.992 70.0713 Z\" fill=\"#000000\" fill-rule=\"nonzero\" fill-opacity=\"1\" /><polyline clip-path=\"url(#clip582)\" style=\"stroke:#009af9; stroke-linecap:round; stroke-linejoin:round; stroke-width:4; stroke-opacity:1; fill:none\" points=\"255.035,766.849 258.35,752.965 261.664,739.086 264.979,725.219 268.294,711.37 283.62,647.733 298.945,585.16 314.27,524.211 329.596,465.429 337.259,437.017 344.921,409.341 352.584,382.465 360.247,356.448 367.91,331.348 375.572,307.221 383.235,284.122 390.898,262.101 400.108,237.132 409.318,213.872 418.527,192.398 427.737,172.778 436.947,155.076 446.157,139.349 455.367,125.649 464.577,114.018 472.364,105.827 480.151,99.1622 487.938,94.0382 495.725,90.4672 503.512,88.4572 511.299,88.013 519.085,89.1356 526.872,91.8224 535.331,96.5061 543.79,103.015 552.249,111.333 560.707,121.435 569.166,133.295 577.625,146.881 586.084,162.155 594.542,179.076 602.341,196.095 610.139,214.435 617.937,234.053 625.735,254.905 633.533,276.942 641.332,300.113 649.13,324.365 656.928,349.64 665.289,377.809 673.649,407.014 682.01,437.175 690.37,468.214 707.091,532.59 723.812,599.458 762.558,760.012 801.304,920.955 818.52,990.187 835.737,1056.9 844.345,1089.08 852.953,1120.35 861.561,1150.62 870.17,1179.8 877.718,1204.44 885.267,1228.14 892.815,1250.83 900.364,1272.47 907.913,1293.01 915.461,1312.41 923.01,1330.63 930.558,1347.63 938.788,1364.72 947.018,1380.27 955.248,1394.25 963.478,1406.6 971.708,1417.3 979.938,1426.33 988.168,1433.66 996.398,1439.27 1004.68,1443.16 1012.96,1445.29 1021.24,1445.64 1029.51,1444.23 1037.79,1441.05 1046.07,1436.11 1054.35,1429.43 1062.63,1421.01 1071.78,1409.72 1080.94,1396.39 1090.09,1381.04 1099.24,1363.74 1108.4,1344.53 1117.55,1323.48 1126.7,1300.65 1135.86,1276.13 1144.57,1251.28 1153.28,1225.03 1161.98,1197.47 1170.69,1168.66 1179.4,1138.69 1188.11,1107.64 1196.82,1075.61 1205.53,1042.69 1223.64,971.798 1241.75,898.347 1259.86,823.254 1277.98,747.458 1293.22,683.803 1308.47,620.882 1323.71,559.252 1338.96,499.457 1348.27,464.086 1357.57,429.712 1366.88,396.449 1376.19,364.408 1385.49,333.693 1394.8,304.407 1404.11,276.645 1413.41,250.498 1421.94,228.039 1430.46,207.07 1438.99,187.649 1447.51,169.831 1456.04,153.665 1464.57,139.195 1473.09,126.462 1481.62,115.5 1489.49,106.976 1497.36,100.009 1505.24,94.6161 1513.11,90.8094 1520.99,88.5982 1528.86,87.9876 1536.73,88.9791 1544.61,91.5702 1552.58,95.8197 1560.56,101.694 1568.54,109.179 1576.51,118.257 1584.49,128.905 1592.46,141.098 1600.44,154.806 1608.42,169.997 1617.36,188.737 1626.29,209.235 1635.23,231.429 1644.17,255.251 1653.11,280.629 1662.05,307.486 1670.99,335.74 1679.93,365.305 1688.03,393.153 1696.13,421.935 1704.23,451.577 1712.33,482.007 1728.53,544.924 1744.73,610.056 1781.83,764.016 1818.92,918.123 1836.1,987.273 1853.27,1053.95 1861.86,1086.13 1870.44,1117.41 1879.03,1147.7 1887.62,1176.93 1896.08,1204.62 1904.55,1231.11 1913.01,1256.34 1921.48,1280.23 1929.95,1302.72 1938.41,1323.75 1946.88,1343.26 1955.34,1361.2 1963.56,1377.07 1971.78,1391.36 1980,1404.05 1988.22,1415.11 1996.44,1424.49 2004.66,1432.19 2012.88,1438.17 2021.1,1442.42 2029.53,1444.98 2037.95,1445.71 2046.38,1444.6 2054.8,1441.67 2063.23,1436.9 2071.66,1430.33 2080.08,1421.96 2088.51,1411.83 2097.74,1398.72 2106.97,1383.57 2116.2,1366.41 2125.44,1347.31 2134.67,1326.33 2143.9,1303.53 2153.13,1278.99 2162.36,1252.79 2175.77,1211.94 2189.18,1168.05 2202.59,1121.42 2216,1072.36 2229.42,1021.2 2242.83,968.311 2256.24,914.039 2269.65,858.76 2275.15,835.875 2280.65,812.911 2286.15,789.893 2291.66,766.849 \"/>\n",
       "<polyline clip-path=\"url(#clip582)\" style=\"stroke:#e26f46; stroke-linecap:round; stroke-linejoin:round; stroke-width:4; stroke-opacity:1; fill:none\" points=\"255.035,87.9763 258.35,88.1183 261.664,88.5442 264.979,89.2539 268.294,90.247 275.957,93.6253 283.62,98.5082 291.282,104.885 298.945,112.741 306.608,122.059 314.27,132.818 321.933,144.995 329.596,158.561 337.259,173.487 344.921,189.738 352.584,207.28 360.247,226.073 367.91,246.074 375.572,267.239 383.235,289.52 390.898,312.869 400.108,342.27 409.318,373.041 418.527,405.084 427.737,438.295 436.947,472.567 446.157,507.788 455.367,543.846 464.577,580.624 495.725,708.748 526.872,839.01 543.79,908.952 560.707,977.346 577.625,1043.45 594.542,1106.54 602.341,1134.42 610.139,1161.45 617.937,1187.56 625.735,1212.7 633.533,1236.81 641.332,1259.83 649.13,1281.7 656.928,1302.39 665.289,1323.19 673.649,1342.51 682.01,1360.3 690.37,1376.51 698.731,1391.1 707.091,1404.02 715.452,1415.25 723.812,1424.76 733.499,1433.58 743.185,1440.03 752.872,1444.07 762.558,1445.69 772.245,1444.88 781.931,1441.66 791.617,1436.02 801.304,1428 809.912,1418.89 818.52,1407.93 827.129,1395.17 835.737,1380.64 844.345,1364.37 852.953,1346.42 861.561,1326.84 870.17,1305.68 877.718,1285.87 885.267,1264.93 892.815,1242.91 900.364,1219.86 907.913,1195.83 915.461,1170.86 923.01,1145.03 930.558,1118.37 947.018,1057.67 963.478,993.979 979.938,927.946 996.398,860.253 1029.51,721.869 1062.63,585.356 1071.78,548.719 1080.94,512.778 1090.09,477.647 1099.24,443.438 1108.4,410.26 1117.55,378.22 1126.7,347.419 1135.86,317.955 1144.57,291.249 1153.28,265.916 1161.98,242.029 1170.69,219.657 1179.4,198.865 1188.11,179.713 1196.82,162.256 1205.53,146.544 1214.59,132.108 1223.64,119.652 1232.7,109.217 1241.75,100.834 1250.81,94.5294 1259.86,90.3236 1268.92,88.2294 1277.98,88.2533 1285.6,89.9154 1293.22,93.0749 1300.84,97.7246 1308.47,103.854 1316.09,111.451 1323.71,120.496 1331.34,130.972 1338.96,142.854 1348.27,159.229 1357.57,177.607 1366.88,197.927 1376.19,220.123 1385.49,244.121 1394.8,269.843 1404.11,297.202 1413.41,326.111 1421.94,353.87 1430.46,382.772 1438.99,412.736 1447.51,443.68 1464.57,508.162 1481.62,575.505 1513.11,704.892 1544.61,836.611 1560.56,902.632 1576.51,967.339 1592.46,1030.11 1608.42,1090.32 1617.36,1122.73 1626.29,1154.06 1635.23,1184.21 1644.17,1213.09 1653.11,1240.62 1662.05,1266.7 1670.99,1291.27 1679.93,1314.23 1688.03,1333.61 1696.13,1351.57 1704.23,1368.07 1712.33,1383.07 1720.43,1396.53 1728.53,1408.42 1736.63,1418.71 1744.73,1427.37 1754,1435.25 1763.28,1440.95 1772.55,1444.44 1781.83,1445.72 1791.1,1444.77 1800.37,1441.6 1809.65,1436.22 1818.92,1428.65 1827.51,1419.71 1836.1,1408.94 1844.68,1396.37 1853.27,1382.02 1861.86,1365.96 1870.44,1348.21 1879.03,1328.83 1887.62,1307.87 1896.08,1285.72 1904.55,1262.16 1913.01,1237.24 1921.48,1211.04 1929.95,1183.63 1938.41,1155.08 1946.88,1125.48 1955.34,1094.89 1971.78,1033.02 1988.22,968.418 2004.66,901.741 2021.1,833.676 2054.8,692.753 2088.51,555.022 2097.74,518.646 2106.97,483.075 2116.2,448.425 2125.44,414.808 2134.67,382.333 2143.9,351.105 2153.13,321.226 2162.36,292.792 2169.07,273.098 2175.77,254.25 2182.48,236.279 2189.18,219.216 2195.89,203.09 2202.59,187.929 2209.3,173.759 2216,160.604 2222.71,148.486 2229.42,137.427 2236.12,127.446 2242.83,118.558 2249.53,110.78 2256.24,104.125 2262.94,98.604 2269.65,94.2269 2275.15,91.4946 2280.65,89.5407 2286.15,88.3675 2291.66,87.9763 \"/>\n",
       "<path clip-path=\"url(#clip580)\" d=\"M265.897 1438.47 L534.209 1438.47 L534.209 1282.95 L265.897 1282.95  Z\" fill=\"#ffffff\" fill-rule=\"evenodd\" fill-opacity=\"1\"/>\n",
       "<polyline clip-path=\"url(#clip580)\" style=\"stroke:#000000; stroke-linecap:round; stroke-linejoin:round; stroke-width:4; stroke-opacity:1; fill:none\" points=\"265.897,1438.47 534.209,1438.47 534.209,1282.95 265.897,1282.95 265.897,1438.47 \"/>\n",
       "<polyline clip-path=\"url(#clip580)\" style=\"stroke:#009af9; stroke-linecap:round; stroke-linejoin:round; stroke-width:4; stroke-opacity:1; fill:none\" points=\"289.884,1334.79 433.805,1334.79 \"/>\n",
       "<path clip-path=\"url(#clip580)\" d=\"M471.634 1354.48 Q469.829 1359.11 468.116 1360.52 Q466.403 1361.94 463.532 1361.94 L460.13 1361.94 L460.13 1358.37 L462.63 1358.37 Q464.389 1358.37 465.361 1357.54 Q466.333 1356.7 467.514 1353.6 L468.278 1351.66 L457.792 1326.15 L462.306 1326.15 L470.407 1346.43 L478.509 1326.15 L483.023 1326.15 L471.634 1354.48 Z\" fill=\"#000000\" fill-rule=\"nonzero\" fill-opacity=\"1\" /><path clip-path=\"url(#clip580)\" d=\"M490.315 1348.14 L497.954 1348.14 L497.954 1321.77 L489.643 1323.44 L489.643 1319.18 L497.907 1317.51 L502.583 1317.51 L502.583 1348.14 L510.222 1348.14 L510.222 1352.07 L490.315 1352.07 L490.315 1348.14 Z\" fill=\"#000000\" fill-rule=\"nonzero\" fill-opacity=\"1\" /><polyline clip-path=\"url(#clip580)\" style=\"stroke:#e26f46; stroke-linecap:round; stroke-linejoin:round; stroke-width:4; stroke-opacity:1; fill:none\" points=\"289.884,1386.63 433.805,1386.63 \"/>\n",
       "<path clip-path=\"url(#clip580)\" d=\"M471.634 1406.32 Q469.829 1410.95 468.116 1412.36 Q466.403 1413.78 463.532 1413.78 L460.13 1413.78 L460.13 1410.21 L462.63 1410.21 Q464.389 1410.21 465.361 1409.38 Q466.333 1408.54 467.514 1405.44 L468.278 1403.5 L457.792 1377.99 L462.306 1377.99 L470.407 1398.27 L478.509 1377.99 L483.023 1377.99 L471.634 1406.32 Z\" fill=\"#000000\" fill-rule=\"nonzero\" fill-opacity=\"1\" /><path clip-path=\"url(#clip580)\" d=\"M493.532 1399.98 L509.852 1399.98 L509.852 1403.91 L487.907 1403.91 L487.907 1399.98 Q490.569 1397.22 495.153 1392.6 Q499.759 1387.94 500.94 1386.6 Q503.185 1384.08 504.065 1382.34 Q504.967 1380.58 504.967 1378.89 Q504.967 1376.14 503.023 1374.4 Q501.102 1372.66 498 1372.66 Q495.801 1372.66 493.347 1373.43 Q490.917 1374.19 488.139 1375.74 L488.139 1371.02 Q490.963 1369.89 493.417 1369.31 Q495.87 1368.73 497.907 1368.73 Q503.278 1368.73 506.472 1371.41 Q509.666 1374.1 509.666 1378.59 Q509.666 1380.72 508.856 1382.64 Q508.069 1384.54 505.963 1387.13 Q505.384 1387.8 502.282 1391.02 Q499.18 1394.22 493.532 1399.98 Z\" fill=\"#000000\" fill-rule=\"nonzero\" fill-opacity=\"1\" /></svg>\n"
      ]
     },
     "execution_count": 163,
     "metadata": {},
     "output_type": "execute_result"
    }
   ],
   "source": [
    "plot([sin, cos], -2pi, 2pi)"
   ]
  },
  {
   "cell_type": "code",
   "execution_count": 162,
   "id": "8b394138-2afa-4b14-9671-d3939c7e0886",
   "metadata": {},
   "outputs": [
    {
     "data": {
      "text/html": [
       "<div><div style = \"float: left;\"><span>10×2 DataFrame</span></div><div style = \"clear: both;\"></div></div><div class = \"data-frame\" style = \"overflow-x: scroll;\"><table class = \"data-frame\" style = \"margin-bottom: 6px;\"><thead><tr class = \"header\"><th class = \"rowNumber\" style = \"font-weight: bold; text-align: right;\">Row</th><th style = \"text-align: left;\">c1</th><th style = \"text-align: left;\">c2</th></tr><tr class = \"subheader headerLastRow\"><th class = \"rowNumber\" style = \"font-weight: bold; text-align: right;\"></th><th title = \"Int64\" style = \"text-align: left;\">Int64</th><th title = \"Int64\" style = \"text-align: left;\">Int64</th></tr></thead><tbody><tr><td class = \"rowNumber\" style = \"font-weight: bold; text-align: right;\">1</td><td style = \"text-align: right;\">1</td><td style = \"text-align: right;\">1</td></tr><tr><td class = \"rowNumber\" style = \"font-weight: bold; text-align: right;\">2</td><td style = \"text-align: right;\">2</td><td style = \"text-align: right;\">4</td></tr><tr><td class = \"rowNumber\" style = \"font-weight: bold; text-align: right;\">3</td><td style = \"text-align: right;\">3</td><td style = \"text-align: right;\">9</td></tr><tr><td class = \"rowNumber\" style = \"font-weight: bold; text-align: right;\">4</td><td style = \"text-align: right;\">4</td><td style = \"text-align: right;\">16</td></tr><tr><td class = \"rowNumber\" style = \"font-weight: bold; text-align: right;\">5</td><td style = \"text-align: right;\">5</td><td style = \"text-align: right;\">25</td></tr><tr><td class = \"rowNumber\" style = \"font-weight: bold; text-align: right;\">6</td><td style = \"text-align: right;\">6</td><td style = \"text-align: right;\">36</td></tr><tr><td class = \"rowNumber\" style = \"font-weight: bold; text-align: right;\">7</td><td style = \"text-align: right;\">7</td><td style = \"text-align: right;\">49</td></tr><tr><td class = \"rowNumber\" style = \"font-weight: bold; text-align: right;\">8</td><td style = \"text-align: right;\">8</td><td style = \"text-align: right;\">64</td></tr><tr><td class = \"rowNumber\" style = \"font-weight: bold; text-align: right;\">9</td><td style = \"text-align: right;\">9</td><td style = \"text-align: right;\">81</td></tr><tr><td class = \"rowNumber\" style = \"font-weight: bold; text-align: right;\">10</td><td style = \"text-align: right;\">10</td><td style = \"text-align: right;\">100</td></tr></tbody></table></div>"
      ],
      "text/latex": [
       "\\begin{tabular}{r|cc}\n",
       "\t& c1 & c2\\\\\n",
       "\t\\hline\n",
       "\t& Int64 & Int64\\\\\n",
       "\t\\hline\n",
       "\t1 & 1 & 1 \\\\\n",
       "\t2 & 2 & 4 \\\\\n",
       "\t3 & 3 & 9 \\\\\n",
       "\t4 & 4 & 16 \\\\\n",
       "\t5 & 5 & 25 \\\\\n",
       "\t6 & 6 & 36 \\\\\n",
       "\t7 & 7 & 49 \\\\\n",
       "\t8 & 8 & 64 \\\\\n",
       "\t9 & 9 & 81 \\\\\n",
       "\t10 & 10 & 100 \\\\\n",
       "\\end{tabular}\n"
      ],
      "text/plain": [
       "\u001b[1m10×2 DataFrame\u001b[0m\n",
       "\u001b[1m Row \u001b[0m│\u001b[1m c1    \u001b[0m\u001b[1m c2    \u001b[0m\n",
       "     │\u001b[90m Int64 \u001b[0m\u001b[90m Int64 \u001b[0m\n",
       "─────┼──────────────\n",
       "   1 │     1      1\n",
       "   2 │     2      4\n",
       "   3 │     3      9\n",
       "   4 │     4     16\n",
       "   5 │     5     25\n",
       "   6 │     6     36\n",
       "   7 │     7     49\n",
       "   8 │     8     64\n",
       "   9 │     9     81\n",
       "  10 │    10    100"
      ]
     },
     "execution_count": 162,
     "metadata": {},
     "output_type": "execute_result"
    }
   ],
   "source": [
    "using DataFrames\n",
    "df = DataFrame(c1=1:10, c2=(1:10).^2)"
   ]
  },
  {
   "cell_type": "markdown",
   "id": "96ebb1bc-273f-4c04-bf59-d0888b9b318f",
   "metadata": {},
   "source": [
    "### Package Composability\n",
    "\n",
    "- One unique feature sof Julia is that most of the language itself, in addition to packages, are written in Julia\n",
    "- For other languages like Python or R the \"built in\" part of the language is often written in another language like C\n",
    "- This difference has a large impact for Julia users\n",
    "    - Built in code and user code (including packages) are given the same \"treatment\"\n",
    "    - Anything the language creators can do, so can you\n",
    "- A practical implication of this is that packages can operate on built in types (like we saw in our examples above) as well as types from other packages\n",
    "- Let's see what this looks like by plotting a DataFrame\n"
   ]
  },
  {
   "cell_type": "code",
   "execution_count": 164,
   "id": "c5029296-b618-4e31-b3cf-1c642e20718e",
   "metadata": {},
   "outputs": [
    {
     "name": "stderr",
     "output_type": "stream",
     "text": [
      "\u001b[32m\u001b[1m   Resolving\u001b[22m\u001b[39m package versions...\n",
      "\u001b[32m\u001b[1m  No Changes\u001b[22m\u001b[39m to `~/.julia/environments/v1.10/Project.toml`\n",
      "\u001b[32m\u001b[1m  No Changes\u001b[22m\u001b[39m to `~/.julia/environments/v1.10/Manifest.toml`\n"
     ]
    }
   ],
   "source": [
    "# install \"StatsPlots\", which links Plots and DataFrames\n",
    "Pkg.add(\"StatsPlots\")\n",
    "\n",
    "using StatsPlots"
   ]
  },
  {
   "cell_type": "code",
   "execution_count": 165,
   "id": "59dd05a4-0100-49e4-b19e-bd74a0aefb88",
   "metadata": {},
   "outputs": [
    {
     "data": {
      "image/png": "[encoded data removed]",
      "image/svg+xml": [
       "<?xml version=\"1.0\" encoding=\"utf-8\"?>\n",
       "<svg xmlns=\"http://www.w3.org/2000/svg\" xmlns:xlink=\"http://www.w3.org/1999/xlink\" width=\"600\" height=\"400\" viewBox=\"0 0 2400 1600\">\n",
       "<defs>\n",
       "  <clipPath id=\"clip620\">\n",
       "    <rect x=\"0\" y=\"0\" width=\"2400\" height=\"1600\"/>\n",
       "  </clipPath>\n",
       "</defs>\n",
       "<path clip-path=\"url(#clip620)\" d=\"M0 1600 L2400 1600 L2400 8.88178e-14 L0 8.88178e-14  Z\" fill=\"#ffffff\" fill-rule=\"evenodd\" fill-opacity=\"1\"/>\n",
       "<defs>\n",
       "  <clipPath id=\"clip621\">\n",
       "    <rect x=\"480\" y=\"0\" width=\"1681\" height=\"1600\"/>\n",
       "  </clipPath>\n",
       "</defs>\n",
       "<path clip-path=\"url(#clip620)\" d=\"M169.121 1486.45 L2352.76 1486.45 L2352.76 47.2441 L169.121 47.2441  Z\" fill=\"#ffffff\" fill-rule=\"evenodd\" fill-opacity=\"1\"/>\n",
       "<defs>\n",
       "  <clipPath id=\"clip622\">\n",
       "    <rect x=\"169\" y=\"47\" width=\"2185\" height=\"1440\"/>\n",
       "  </clipPath>\n",
       "</defs>\n",
       "<polyline clip-path=\"url(#clip622)\" style=\"stroke:#000000; stroke-linecap:round; stroke-linejoin:round; stroke-width:2; stroke-opacity:0.1; fill:none\" points=\"459.815,1486.45 459.815,47.2441 \"/>\n",
       "<polyline clip-path=\"url(#clip622)\" style=\"stroke:#000000; stroke-linecap:round; stroke-linejoin:round; stroke-width:2; stroke-opacity:0.1; fill:none\" points=\"917.6,1486.45 917.6,47.2441 \"/>\n",
       "<polyline clip-path=\"url(#clip622)\" style=\"stroke:#000000; stroke-linecap:round; stroke-linejoin:round; stroke-width:2; stroke-opacity:0.1; fill:none\" points=\"1375.38,1486.45 1375.38,47.2441 \"/>\n",
       "<polyline clip-path=\"url(#clip622)\" style=\"stroke:#000000; stroke-linecap:round; stroke-linejoin:round; stroke-width:2; stroke-opacity:0.1; fill:none\" points=\"1833.17,1486.45 1833.17,47.2441 \"/>\n",
       "<polyline clip-path=\"url(#clip622)\" style=\"stroke:#000000; stroke-linecap:round; stroke-linejoin:round; stroke-width:2; stroke-opacity:0.1; fill:none\" points=\"2290.95,1486.45 2290.95,47.2441 \"/>\n",
       "<polyline clip-path=\"url(#clip620)\" style=\"stroke:#000000; stroke-linecap:round; stroke-linejoin:round; stroke-width:4; stroke-opacity:1; fill:none\" points=\"169.121,1486.45 2352.76,1486.45 \"/>\n",
       "<polyline clip-path=\"url(#clip620)\" style=\"stroke:#000000; stroke-linecap:round; stroke-linejoin:round; stroke-width:4; stroke-opacity:1; fill:none\" points=\"459.815,1486.45 459.815,1467.55 \"/>\n",
       "<polyline clip-path=\"url(#clip620)\" style=\"stroke:#000000; stroke-linecap:round; stroke-linejoin:round; stroke-width:4; stroke-opacity:1; fill:none\" points=\"917.6,1486.45 917.6,1467.55 \"/>\n",
       "<polyline clip-path=\"url(#clip620)\" style=\"stroke:#000000; stroke-linecap:round; stroke-linejoin:round; stroke-width:4; stroke-opacity:1; fill:none\" points=\"1375.38,1486.45 1375.38,1467.55 \"/>\n",
       "<polyline clip-path=\"url(#clip620)\" style=\"stroke:#000000; stroke-linecap:round; stroke-linejoin:round; stroke-width:4; stroke-opacity:1; fill:none\" points=\"1833.17,1486.45 1833.17,1467.55 \"/>\n",
       "<polyline clip-path=\"url(#clip620)\" style=\"stroke:#000000; stroke-linecap:round; stroke-linejoin:round; stroke-width:4; stroke-opacity:1; fill:none\" points=\"2290.95,1486.45 2290.95,1467.55 \"/>\n",
       "<path clip-path=\"url(#clip620)\" d=\"M454.468 1544.91 L470.787 1544.91 L470.787 1548.85 L448.843 1548.85 L448.843 1544.91 Q451.505 1542.16 456.088 1537.53 Q460.694 1532.88 461.875 1531.53 Q464.12 1529.01 465 1527.27 Q465.903 1525.51 465.903 1523.82 Q465.903 1521.07 463.958 1519.33 Q462.037 1517.6 458.935 1517.6 Q456.736 1517.6 454.282 1518.36 Q451.852 1519.13 449.074 1520.68 L449.074 1515.95 Q451.898 1514.82 454.352 1514.24 Q456.806 1513.66 458.843 1513.66 Q464.213 1513.66 467.407 1516.35 Q470.602 1519.03 470.602 1523.52 Q470.602 1525.65 469.792 1527.57 Q469.005 1529.47 466.898 1532.07 Q466.319 1532.74 463.218 1535.95 Q460.116 1539.15 454.468 1544.91 Z\" fill=\"#000000\" fill-rule=\"nonzero\" fill-opacity=\"1\" /><path clip-path=\"url(#clip620)\" d=\"M920.609 1518.36 L908.804 1536.81 L920.609 1536.81 L920.609 1518.36 M919.382 1514.29 L925.262 1514.29 L925.262 1536.81 L930.192 1536.81 L930.192 1540.7 L925.262 1540.7 L925.262 1548.85 L920.609 1548.85 L920.609 1540.7 L905.007 1540.7 L905.007 1536.19 L919.382 1514.29 Z\" fill=\"#000000\" fill-rule=\"nonzero\" fill-opacity=\"1\" /><path clip-path=\"url(#clip620)\" d=\"M1375.79 1529.7 Q1372.64 1529.7 1370.79 1531.86 Q1368.96 1534.01 1368.96 1537.76 Q1368.96 1541.49 1370.79 1543.66 Q1372.64 1545.82 1375.79 1545.82 Q1378.94 1545.82 1380.77 1543.66 Q1382.62 1541.49 1382.62 1537.76 Q1382.62 1534.01 1380.77 1531.86 Q1378.94 1529.7 1375.79 1529.7 M1385.07 1515.05 L1385.07 1519.31 Q1383.31 1518.48 1381.51 1518.04 Q1379.73 1517.6 1377.97 1517.6 Q1373.34 1517.6 1370.88 1520.72 Q1368.45 1523.85 1368.1 1530.17 Q1369.47 1528.15 1371.53 1527.09 Q1373.59 1526 1376.07 1526 Q1381.28 1526 1384.29 1529.17 Q1387.32 1532.32 1387.32 1537.76 Q1387.32 1543.08 1384.17 1546.3 Q1381.02 1549.52 1375.79 1549.52 Q1369.79 1549.52 1366.62 1544.94 Q1363.45 1540.33 1363.45 1531.6 Q1363.45 1523.41 1367.34 1518.55 Q1371.23 1513.66 1377.78 1513.66 Q1379.54 1513.66 1381.32 1514.01 Q1383.13 1514.36 1385.07 1515.05 Z\" fill=\"#000000\" fill-rule=\"nonzero\" fill-opacity=\"1\" /><path clip-path=\"url(#clip620)\" d=\"M1833.17 1532.44 Q1829.84 1532.44 1827.92 1534.22 Q1826.02 1536 1826.02 1539.13 Q1826.02 1542.25 1827.92 1544.03 Q1829.84 1545.82 1833.17 1545.82 Q1836.5 1545.82 1838.42 1544.03 Q1840.35 1542.23 1840.35 1539.13 Q1840.35 1536 1838.42 1534.22 Q1836.53 1532.44 1833.17 1532.44 M1828.49 1530.45 Q1825.48 1529.7 1823.79 1527.64 Q1822.13 1525.58 1822.13 1522.62 Q1822.13 1518.48 1825.07 1516.07 Q1828.03 1513.66 1833.17 1513.66 Q1838.33 1513.66 1841.27 1516.07 Q1844.21 1518.48 1844.21 1522.62 Q1844.21 1525.58 1842.52 1527.64 Q1840.86 1529.7 1837.87 1530.45 Q1841.25 1531.23 1843.12 1533.52 Q1845.02 1535.82 1845.02 1539.13 Q1845.02 1544.15 1841.94 1546.83 Q1838.89 1549.52 1833.17 1549.52 Q1827.45 1549.52 1824.37 1546.83 Q1821.32 1544.15 1821.32 1539.13 Q1821.32 1535.82 1823.22 1533.52 Q1825.11 1531.23 1828.49 1530.45 M1826.78 1523.06 Q1826.78 1525.75 1828.45 1527.25 Q1830.14 1528.76 1833.17 1528.76 Q1836.18 1528.76 1837.87 1527.25 Q1839.58 1525.75 1839.58 1523.06 Q1839.58 1520.38 1837.87 1518.87 Q1836.18 1517.37 1833.17 1517.37 Q1830.14 1517.37 1828.45 1518.87 Q1826.78 1520.38 1826.78 1523.06 Z\" fill=\"#000000\" fill-rule=\"nonzero\" fill-opacity=\"1\" /><path clip-path=\"url(#clip620)\" d=\"M2265.64 1544.91 L2273.28 1544.91 L2273.28 1518.55 L2264.97 1520.21 L2264.97 1515.95 L2273.24 1514.29 L2277.91 1514.29 L2277.91 1544.91 L2285.55 1544.91 L2285.55 1548.85 L2265.64 1548.85 L2265.64 1544.91 Z\" fill=\"#000000\" fill-rule=\"nonzero\" fill-opacity=\"1\" /><path clip-path=\"url(#clip620)\" d=\"M2304.99 1517.37 Q2301.38 1517.37 2299.55 1520.93 Q2297.75 1524.47 2297.75 1531.6 Q2297.75 1538.71 2299.55 1542.27 Q2301.38 1545.82 2304.99 1545.82 Q2308.63 1545.82 2310.43 1542.27 Q2312.26 1538.71 2312.26 1531.6 Q2312.26 1524.47 2310.43 1520.93 Q2308.63 1517.37 2304.99 1517.37 M2304.99 1513.66 Q2310.8 1513.66 2313.86 1518.27 Q2316.94 1522.85 2316.94 1531.6 Q2316.94 1540.33 2313.86 1544.94 Q2310.8 1549.52 2304.99 1549.52 Q2299.18 1549.52 2296.11 1544.94 Q2293.05 1540.33 2293.05 1531.6 Q2293.05 1522.85 2296.11 1518.27 Q2299.18 1513.66 2304.99 1513.66 Z\" fill=\"#000000\" fill-rule=\"nonzero\" fill-opacity=\"1\" /><polyline clip-path=\"url(#clip622)\" style=\"stroke:#000000; stroke-linecap:round; stroke-linejoin:round; stroke-width:2; stroke-opacity:0.1; fill:none\" points=\"169.121,1459.43 2352.76,1459.43 \"/>\n",
       "<polyline clip-path=\"url(#clip622)\" style=\"stroke:#000000; stroke-linecap:round; stroke-linejoin:round; stroke-width:2; stroke-opacity:0.1; fill:none\" points=\"169.121,1116.57 2352.76,1116.57 \"/>\n",
       "<polyline clip-path=\"url(#clip622)\" style=\"stroke:#000000; stroke-linecap:round; stroke-linejoin:round; stroke-width:2; stroke-opacity:0.1; fill:none\" points=\"169.121,773.703 2352.76,773.703 \"/>\n",
       "<polyline clip-path=\"url(#clip622)\" style=\"stroke:#000000; stroke-linecap:round; stroke-linejoin:round; stroke-width:2; stroke-opacity:0.1; fill:none\" points=\"169.121,430.84 2352.76,430.84 \"/>\n",
       "<polyline clip-path=\"url(#clip622)\" style=\"stroke:#000000; stroke-linecap:round; stroke-linejoin:round; stroke-width:2; stroke-opacity:0.1; fill:none\" points=\"169.121,87.9763 2352.76,87.9763 \"/>\n",
       "<polyline clip-path=\"url(#clip620)\" style=\"stroke:#000000; stroke-linecap:round; stroke-linejoin:round; stroke-width:4; stroke-opacity:1; fill:none\" points=\"169.121,1486.45 169.121,47.2441 \"/>\n",
       "<polyline clip-path=\"url(#clip620)\" style=\"stroke:#000000; stroke-linecap:round; stroke-linejoin:round; stroke-width:4; stroke-opacity:1; fill:none\" points=\"169.121,1459.43 188.019,1459.43 \"/>\n",
       "<polyline clip-path=\"url(#clip620)\" style=\"stroke:#000000; stroke-linecap:round; stroke-linejoin:round; stroke-width:4; stroke-opacity:1; fill:none\" points=\"169.121,1116.57 188.019,1116.57 \"/>\n",
       "<polyline clip-path=\"url(#clip620)\" style=\"stroke:#000000; stroke-linecap:round; stroke-linejoin:round; stroke-width:4; stroke-opacity:1; fill:none\" points=\"169.121,773.703 188.019,773.703 \"/>\n",
       "<polyline clip-path=\"url(#clip620)\" style=\"stroke:#000000; stroke-linecap:round; stroke-linejoin:round; stroke-width:4; stroke-opacity:1; fill:none\" points=\"169.121,430.84 188.019,430.84 \"/>\n",
       "<polyline clip-path=\"url(#clip620)\" style=\"stroke:#000000; stroke-linecap:round; stroke-linejoin:round; stroke-width:4; stroke-opacity:1; fill:none\" points=\"169.121,87.9763 188.019,87.9763 \"/>\n",
       "<path clip-path=\"url(#clip620)\" d=\"M121.177 1445.23 Q117.566 1445.23 115.737 1448.79 Q113.932 1452.34 113.932 1459.46 Q113.932 1466.57 115.737 1470.14 Q117.566 1473.68 121.177 1473.68 Q124.811 1473.68 126.617 1470.14 Q128.445 1466.57 128.445 1459.46 Q128.445 1452.34 126.617 1448.79 Q124.811 1445.23 121.177 1445.23 M121.177 1441.53 Q126.987 1441.53 130.043 1446.13 Q133.121 1450.72 133.121 1459.46 Q133.121 1468.19 130.043 1472.8 Q126.987 1477.38 121.177 1477.38 Q115.367 1477.38 112.288 1472.8 Q109.233 1468.19 109.233 1459.46 Q109.233 1450.72 112.288 1446.13 Q115.367 1441.53 121.177 1441.53 Z\" fill=\"#000000\" fill-rule=\"nonzero\" fill-opacity=\"1\" /><path clip-path=\"url(#clip620)\" d=\"M86.0382 1129.91 L102.358 1129.91 L102.358 1133.85 L80.4133 1133.85 L80.4133 1129.91 Q83.0753 1127.16 87.6586 1122.53 Q92.2651 1117.87 93.4456 1116.53 Q95.691 1114.01 96.5706 1112.27 Q97.4734 1110.51 97.4734 1108.82 Q97.4734 1106.07 95.5289 1104.33 Q93.6076 1102.6 90.5058 1102.6 Q88.3067 1102.6 85.8531 1103.36 Q83.4225 1104.12 80.6447 1105.68 L80.6447 1100.95 Q83.4688 1099.82 85.9225 1099.24 Q88.3762 1098.66 90.4132 1098.66 Q95.7836 1098.66 98.978 1101.35 Q102.172 1104.03 102.172 1108.52 Q102.172 1110.65 101.362 1112.57 Q100.575 1114.47 98.4687 1117.06 Q97.89 1117.74 94.7882 1120.95 Q91.6864 1124.15 86.0382 1129.91 Z\" fill=\"#000000\" fill-rule=\"nonzero\" fill-opacity=\"1\" /><path clip-path=\"url(#clip620)\" d=\"M112.219 1099.29 L130.575 1099.29 L130.575 1103.22 L116.501 1103.22 L116.501 1111.69 Q117.52 1111.35 118.538 1111.18 Q119.557 1111 120.575 1111 Q126.362 1111 129.742 1114.17 Q133.121 1117.34 133.121 1122.76 Q133.121 1128.34 129.649 1131.44 Q126.177 1134.52 119.857 1134.52 Q117.682 1134.52 115.413 1134.15 Q113.168 1133.78 110.76 1133.04 L110.76 1128.34 Q112.844 1129.47 115.066 1130.03 Q117.288 1130.58 119.765 1130.58 Q123.77 1130.58 126.107 1128.48 Q128.445 1126.37 128.445 1122.76 Q128.445 1119.15 126.107 1117.04 Q123.77 1114.93 119.765 1114.93 Q117.89 1114.93 116.015 1115.35 Q114.163 1115.77 112.219 1116.65 L112.219 1099.29 Z\" fill=\"#000000\" fill-rule=\"nonzero\" fill-opacity=\"1\" /><path clip-path=\"url(#clip620)\" d=\"M81.0614 756.423 L99.4178 756.423 L99.4178 760.358 L85.3438 760.358 L85.3438 768.831 Q86.3623 768.483 87.3808 768.321 Q88.3993 768.136 89.4178 768.136 Q95.2049 768.136 98.5845 771.307 Q101.964 774.479 101.964 779.895 Q101.964 785.474 98.4919 788.576 Q95.0197 791.655 88.7003 791.655 Q86.5243 791.655 84.2558 791.284 Q82.0105 790.914 79.6031 790.173 L79.6031 785.474 Q81.6864 786.608 83.9086 787.164 Q86.1308 787.719 88.6077 787.719 Q92.6123 787.719 94.9502 785.613 Q97.2882 783.506 97.2882 779.895 Q97.2882 776.284 94.9502 774.178 Q92.6123 772.071 88.6077 772.071 Q86.7327 772.071 84.8577 772.488 Q83.0058 772.905 81.0614 773.784 L81.0614 756.423 Z\" fill=\"#000000\" fill-rule=\"nonzero\" fill-opacity=\"1\" /><path clip-path=\"url(#clip620)\" d=\"M121.177 759.502 Q117.566 759.502 115.737 763.067 Q113.932 766.608 113.932 773.738 Q113.932 780.844 115.737 784.409 Q117.566 787.951 121.177 787.951 Q124.811 787.951 126.617 784.409 Q128.445 780.844 128.445 773.738 Q128.445 766.608 126.617 763.067 Q124.811 759.502 121.177 759.502 M121.177 755.798 Q126.987 755.798 130.043 760.405 Q133.121 764.988 133.121 773.738 Q133.121 782.465 130.043 787.071 Q126.987 791.655 121.177 791.655 Q115.367 791.655 112.288 787.071 Q109.233 782.465 109.233 773.738 Q109.233 764.988 112.288 760.405 Q115.367 755.798 121.177 755.798 Z\" fill=\"#000000\" fill-rule=\"nonzero\" fill-opacity=\"1\" /><path clip-path=\"url(#clip620)\" d=\"M80.8299 413.56 L103.052 413.56 L103.052 415.55 L90.5058 448.12 L85.6216 448.12 L97.4271 417.495 L80.8299 417.495 L80.8299 413.56 Z\" fill=\"#000000\" fill-rule=\"nonzero\" fill-opacity=\"1\" /><path clip-path=\"url(#clip620)\" d=\"M112.219 413.56 L130.575 413.56 L130.575 417.495 L116.501 417.495 L116.501 425.967 Q117.52 425.62 118.538 425.458 Q119.557 425.273 120.575 425.273 Q126.362 425.273 129.742 428.444 Q133.121 431.615 133.121 437.032 Q133.121 442.611 129.649 445.712 Q126.177 448.791 119.857 448.791 Q117.682 448.791 115.413 448.421 Q113.168 448.05 110.76 447.31 L110.76 442.611 Q112.844 443.745 115.066 444.3 Q117.288 444.856 119.765 444.856 Q123.77 444.856 126.107 442.749 Q128.445 440.643 128.445 437.032 Q128.445 433.421 126.107 431.314 Q123.77 429.208 119.765 429.208 Q117.89 429.208 116.015 429.624 Q114.163 430.041 112.219 430.921 L112.219 413.56 Z\" fill=\"#000000\" fill-rule=\"nonzero\" fill-opacity=\"1\" /><path clip-path=\"url(#clip620)\" d=\"M51.6634 101.321 L59.3023 101.321 L59.3023 74.9555 L50.9921 76.6222 L50.9921 72.3629 L59.256 70.6963 L63.9319 70.6963 L63.9319 101.321 L71.5707 101.321 L71.5707 105.256 L51.6634 105.256 L51.6634 101.321 Z\" fill=\"#000000\" fill-rule=\"nonzero\" fill-opacity=\"1\" /><path clip-path=\"url(#clip620)\" d=\"M91.0151 73.775 Q87.404 73.775 85.5753 77.3398 Q83.7697 80.8814 83.7697 88.011 Q83.7697 95.1174 85.5753 98.6822 Q87.404 102.224 91.0151 102.224 Q94.6493 102.224 96.4548 98.6822 Q98.2835 95.1174 98.2835 88.011 Q98.2835 80.8814 96.4548 77.3398 Q94.6493 73.775 91.0151 73.775 M91.0151 70.0713 Q96.8252 70.0713 99.8808 74.6777 Q102.959 79.261 102.959 88.011 Q102.959 96.7378 99.8808 101.344 Q96.8252 105.928 91.0151 105.928 Q85.2049 105.928 82.1262 101.344 Q79.0707 96.7378 79.0707 88.011 Q79.0707 79.261 82.1262 74.6777 Q85.2049 70.0713 91.0151 70.0713 Z\" fill=\"#000000\" fill-rule=\"nonzero\" fill-opacity=\"1\" /><path clip-path=\"url(#clip620)\" d=\"M121.177 73.775 Q117.566 73.775 115.737 77.3398 Q113.932 80.8814 113.932 88.011 Q113.932 95.1174 115.737 98.6822 Q117.566 102.224 121.177 102.224 Q124.811 102.224 126.617 98.6822 Q128.445 95.1174 128.445 88.011 Q128.445 80.8814 126.617 77.3398 Q124.811 73.775 121.177 73.775 M121.177 70.0713 Q126.987 70.0713 130.043 74.6777 Q133.121 79.261 133.121 88.011 Q133.121 96.7378 130.043 101.344 Q126.987 105.928 121.177 105.928 Q115.367 105.928 112.288 101.344 Q109.233 96.7378 109.233 88.011 Q109.233 79.261 112.288 74.6777 Q115.367 70.0713 121.177 70.0713 Z\" fill=\"#000000\" fill-rule=\"nonzero\" fill-opacity=\"1\" /><circle clip-path=\"url(#clip622)\" cx=\"230.922\" cy=\"1445.72\" r=\"14.4\" fill=\"#009af9\" fill-rule=\"evenodd\" fill-opacity=\"1\" stroke=\"#000000\" stroke-opacity=\"1\" stroke-width=\"3.2\"/>\n",
       "<circle clip-path=\"url(#clip622)\" cx=\"459.815\" cy=\"1404.57\" r=\"14.4\" fill=\"#009af9\" fill-rule=\"evenodd\" fill-opacity=\"1\" stroke=\"#000000\" stroke-opacity=\"1\" stroke-width=\"3.2\"/>\n",
       "<circle clip-path=\"url(#clip622)\" cx=\"688.707\" cy=\"1336\" r=\"14.4\" fill=\"#009af9\" fill-rule=\"evenodd\" fill-opacity=\"1\" stroke=\"#000000\" stroke-opacity=\"1\" stroke-width=\"3.2\"/>\n",
       "<circle clip-path=\"url(#clip622)\" cx=\"917.6\" cy=\"1240\" r=\"14.4\" fill=\"#009af9\" fill-rule=\"evenodd\" fill-opacity=\"1\" stroke=\"#000000\" stroke-opacity=\"1\" stroke-width=\"3.2\"/>\n",
       "<circle clip-path=\"url(#clip622)\" cx=\"1146.49\" cy=\"1116.57\" r=\"14.4\" fill=\"#009af9\" fill-rule=\"evenodd\" fill-opacity=\"1\" stroke=\"#000000\" stroke-opacity=\"1\" stroke-width=\"3.2\"/>\n",
       "<circle clip-path=\"url(#clip622)\" cx=\"1375.38\" cy=\"965.707\" r=\"14.4\" fill=\"#009af9\" fill-rule=\"evenodd\" fill-opacity=\"1\" stroke=\"#000000\" stroke-opacity=\"1\" stroke-width=\"3.2\"/>\n",
       "<circle clip-path=\"url(#clip622)\" cx=\"1604.28\" cy=\"787.418\" r=\"14.4\" fill=\"#009af9\" fill-rule=\"evenodd\" fill-opacity=\"1\" stroke=\"#000000\" stroke-opacity=\"1\" stroke-width=\"3.2\"/>\n",
       "<circle clip-path=\"url(#clip622)\" cx=\"1833.17\" cy=\"581.7\" r=\"14.4\" fill=\"#009af9\" fill-rule=\"evenodd\" fill-opacity=\"1\" stroke=\"#000000\" stroke-opacity=\"1\" stroke-width=\"3.2\"/>\n",
       "<circle clip-path=\"url(#clip622)\" cx=\"2062.06\" cy=\"348.553\" r=\"14.4\" fill=\"#009af9\" fill-rule=\"evenodd\" fill-opacity=\"1\" stroke=\"#000000\" stroke-opacity=\"1\" stroke-width=\"3.2\"/>\n",
       "<circle clip-path=\"url(#clip622)\" cx=\"2290.95\" cy=\"87.9763\" r=\"14.4\" fill=\"#009af9\" fill-rule=\"evenodd\" fill-opacity=\"1\" stroke=\"#000000\" stroke-opacity=\"1\" stroke-width=\"3.2\"/>\n",
       "<path clip-path=\"url(#clip620)\" d=\"M241.909 198.898 L512.703 198.898 L512.703 95.2176 L241.909 95.2176  Z\" fill=\"#ffffff\" fill-rule=\"evenodd\" fill-opacity=\"1\"/>\n",
       "<polyline clip-path=\"url(#clip620)\" style=\"stroke:#000000; stroke-linecap:round; stroke-linejoin:round; stroke-width:4; stroke-opacity:1; fill:none\" points=\"241.909,198.898 512.703,198.898 512.703,95.2176 241.909,95.2176 241.909,198.898 \"/>\n",
       "<circle clip-path=\"url(#clip620)\" cx=\"338.96\" cy=\"147.058\" r=\"20.48\" fill=\"#009af9\" fill-rule=\"evenodd\" fill-opacity=\"1\" stroke=\"#000000\" stroke-opacity=\"1\" stroke-width=\"4.55111\"/>\n",
       "<path clip-path=\"url(#clip620)\" d=\"M449.853 166.745 Q448.047 171.375 446.334 172.787 Q444.621 174.199 441.751 174.199 L438.348 174.199 L438.348 170.634 L440.848 170.634 Q442.607 170.634 443.579 169.8 Q444.552 168.967 445.732 165.865 L446.496 163.921 L436.01 138.412 L440.524 138.412 L448.626 158.689 L456.727 138.412 L461.241 138.412 L449.853 166.745 Z\" fill=\"#000000\" fill-rule=\"nonzero\" fill-opacity=\"1\" /><path clip-path=\"url(#clip620)\" d=\"M468.533 160.402 L476.172 160.402 L476.172 134.037 L467.862 135.703 L467.862 131.444 L476.126 129.778 L480.801 129.778 L480.801 160.402 L488.44 160.402 L488.44 164.338 L468.533 164.338 L468.533 160.402 Z\" fill=\"#000000\" fill-rule=\"nonzero\" fill-opacity=\"1\" /></svg>\n"
      ],
      "text/html": [
       "<?xml version=\"1.0\" encoding=\"utf-8\"?>\n",
       "<svg xmlns=\"http://www.w3.org/2000/svg\" xmlns:xlink=\"http://www.w3.org/1999/xlink\" width=\"600\" height=\"400\" viewBox=\"0 0 2400 1600\">\n",
       "<defs>\n",
       "  <clipPath id=\"clip670\">\n",
       "    <rect x=\"0\" y=\"0\" width=\"2400\" height=\"1600\"/>\n",
       "  </clipPath>\n",
       "</defs>\n",
       "<path clip-path=\"url(#clip670)\" d=\"M0 1600 L2400 1600 L2400 8.88178e-14 L0 8.88178e-14  Z\" fill=\"#ffffff\" fill-rule=\"evenodd\" fill-opacity=\"1\"/>\n",
       "<defs>\n",
       "  <clipPath id=\"clip671\">\n",
       "    <rect x=\"480\" y=\"0\" width=\"1681\" height=\"1600\"/>\n",
       "  </clipPath>\n",
       "</defs>\n",
       "<path clip-path=\"url(#clip670)\" d=\"M169.121 1486.45 L2352.76 1486.45 L2352.76 47.2441 L169.121 47.2441  Z\" fill=\"#ffffff\" fill-rule=\"evenodd\" fill-opacity=\"1\"/>\n",
       "<defs>\n",
       "  <clipPath id=\"clip672\">\n",
       "    <rect x=\"169\" y=\"47\" width=\"2185\" height=\"1440\"/>\n",
       "  </clipPath>\n",
       "</defs>\n",
       "<polyline clip-path=\"url(#clip672)\" style=\"stroke:#000000; stroke-linecap:round; stroke-linejoin:round; stroke-width:2; stroke-opacity:0.1; fill:none\" points=\"459.815,1486.45 459.815,47.2441 \"/>\n",
       "<polyline clip-path=\"url(#clip672)\" style=\"stroke:#000000; stroke-linecap:round; stroke-linejoin:round; stroke-width:2; stroke-opacity:0.1; fill:none\" points=\"917.6,1486.45 917.6,47.2441 \"/>\n",
       "<polyline clip-path=\"url(#clip672)\" style=\"stroke:#000000; stroke-linecap:round; stroke-linejoin:round; stroke-width:2; stroke-opacity:0.1; fill:none\" points=\"1375.38,1486.45 1375.38,47.2441 \"/>\n",
       "<polyline clip-path=\"url(#clip672)\" style=\"stroke:#000000; stroke-linecap:round; stroke-linejoin:round; stroke-width:2; stroke-opacity:0.1; fill:none\" points=\"1833.17,1486.45 1833.17,47.2441 \"/>\n",
       "<polyline clip-path=\"url(#clip672)\" style=\"stroke:#000000; stroke-linecap:round; stroke-linejoin:round; stroke-width:2; stroke-opacity:0.1; fill:none\" points=\"2290.95,1486.45 2290.95,47.2441 \"/>\n",
       "<polyline clip-path=\"url(#clip670)\" style=\"stroke:#000000; stroke-linecap:round; stroke-linejoin:round; stroke-width:4; stroke-opacity:1; fill:none\" points=\"169.121,1486.45 2352.76,1486.45 \"/>\n",
       "<polyline clip-path=\"url(#clip670)\" style=\"stroke:#000000; stroke-linecap:round; stroke-linejoin:round; stroke-width:4; stroke-opacity:1; fill:none\" points=\"459.815,1486.45 459.815,1467.55 \"/>\n",
       "<polyline clip-path=\"url(#clip670)\" style=\"stroke:#000000; stroke-linecap:round; stroke-linejoin:round; stroke-width:4; stroke-opacity:1; fill:none\" points=\"917.6,1486.45 917.6,1467.55 \"/>\n",
       "<polyline clip-path=\"url(#clip670)\" style=\"stroke:#000000; stroke-linecap:round; stroke-linejoin:round; stroke-width:4; stroke-opacity:1; fill:none\" points=\"1375.38,1486.45 1375.38,1467.55 \"/>\n",
       "<polyline clip-path=\"url(#clip670)\" style=\"stroke:#000000; stroke-linecap:round; stroke-linejoin:round; stroke-width:4; stroke-opacity:1; fill:none\" points=\"1833.17,1486.45 1833.17,1467.55 \"/>\n",
       "<polyline clip-path=\"url(#clip670)\" style=\"stroke:#000000; stroke-linecap:round; stroke-linejoin:round; stroke-width:4; stroke-opacity:1; fill:none\" points=\"2290.95,1486.45 2290.95,1467.55 \"/>\n",
       "<path clip-path=\"url(#clip670)\" d=\"M454.468 1544.91 L470.787 1544.91 L470.787 1548.85 L448.843 1548.85 L448.843 1544.91 Q451.505 1542.16 456.088 1537.53 Q460.694 1532.88 461.875 1531.53 Q464.12 1529.01 465 1527.27 Q465.903 1525.51 465.903 1523.82 Q465.903 1521.07 463.958 1519.33 Q462.037 1517.6 458.935 1517.6 Q456.736 1517.6 454.282 1518.36 Q451.852 1519.13 449.074 1520.68 L449.074 1515.95 Q451.898 1514.82 454.352 1514.24 Q456.806 1513.66 458.843 1513.66 Q464.213 1513.66 467.407 1516.35 Q470.602 1519.03 470.602 1523.52 Q470.602 1525.65 469.792 1527.57 Q469.005 1529.47 466.898 1532.07 Q466.319 1532.74 463.218 1535.95 Q460.116 1539.15 454.468 1544.91 Z\" fill=\"#000000\" fill-rule=\"nonzero\" fill-opacity=\"1\" /><path clip-path=\"url(#clip670)\" d=\"M920.609 1518.36 L908.804 1536.81 L920.609 1536.81 L920.609 1518.36 M919.382 1514.29 L925.262 1514.29 L925.262 1536.81 L930.192 1536.81 L930.192 1540.7 L925.262 1540.7 L925.262 1548.85 L920.609 1548.85 L920.609 1540.7 L905.007 1540.7 L905.007 1536.19 L919.382 1514.29 Z\" fill=\"#000000\" fill-rule=\"nonzero\" fill-opacity=\"1\" /><path clip-path=\"url(#clip670)\" d=\"M1375.79 1529.7 Q1372.64 1529.7 1370.79 1531.86 Q1368.96 1534.01 1368.96 1537.76 Q1368.96 1541.49 1370.79 1543.66 Q1372.64 1545.82 1375.79 1545.82 Q1378.94 1545.82 1380.77 1543.66 Q1382.62 1541.49 1382.62 1537.76 Q1382.62 1534.01 1380.77 1531.86 Q1378.94 1529.7 1375.79 1529.7 M1385.07 1515.05 L1385.07 1519.31 Q1383.31 1518.48 1381.51 1518.04 Q1379.73 1517.6 1377.97 1517.6 Q1373.34 1517.6 1370.88 1520.72 Q1368.45 1523.85 1368.1 1530.17 Q1369.47 1528.15 1371.53 1527.09 Q1373.59 1526 1376.07 1526 Q1381.28 1526 1384.29 1529.17 Q1387.32 1532.32 1387.32 1537.76 Q1387.32 1543.08 1384.17 1546.3 Q1381.02 1549.52 1375.79 1549.52 Q1369.79 1549.52 1366.62 1544.94 Q1363.45 1540.33 1363.45 1531.6 Q1363.45 1523.41 1367.34 1518.55 Q1371.23 1513.66 1377.78 1513.66 Q1379.54 1513.66 1381.32 1514.01 Q1383.13 1514.36 1385.07 1515.05 Z\" fill=\"#000000\" fill-rule=\"nonzero\" fill-opacity=\"1\" /><path clip-path=\"url(#clip670)\" d=\"M1833.17 1532.44 Q1829.84 1532.44 1827.92 1534.22 Q1826.02 1536 1826.02 1539.13 Q1826.02 1542.25 1827.92 1544.03 Q1829.84 1545.82 1833.17 1545.82 Q1836.5 1545.82 1838.42 1544.03 Q1840.35 1542.23 1840.35 1539.13 Q1840.35 1536 1838.42 1534.22 Q1836.53 1532.44 1833.17 1532.44 M1828.49 1530.45 Q1825.48 1529.7 1823.79 1527.64 Q1822.13 1525.58 1822.13 1522.62 Q1822.13 1518.48 1825.07 1516.07 Q1828.03 1513.66 1833.17 1513.66 Q1838.33 1513.66 1841.27 1516.07 Q1844.21 1518.48 1844.21 1522.62 Q1844.21 1525.58 1842.52 1527.64 Q1840.86 1529.7 1837.87 1530.45 Q1841.25 1531.23 1843.12 1533.52 Q1845.02 1535.82 1845.02 1539.13 Q1845.02 1544.15 1841.94 1546.83 Q1838.89 1549.52 1833.17 1549.52 Q1827.45 1549.52 1824.37 1546.83 Q1821.32 1544.15 1821.32 1539.13 Q1821.32 1535.82 1823.22 1533.52 Q1825.11 1531.23 1828.49 1530.45 M1826.78 1523.06 Q1826.78 1525.75 1828.45 1527.25 Q1830.14 1528.76 1833.17 1528.76 Q1836.18 1528.76 1837.87 1527.25 Q1839.58 1525.75 1839.58 1523.06 Q1839.58 1520.38 1837.87 1518.87 Q1836.18 1517.37 1833.17 1517.37 Q1830.14 1517.37 1828.45 1518.87 Q1826.78 1520.38 1826.78 1523.06 Z\" fill=\"#000000\" fill-rule=\"nonzero\" fill-opacity=\"1\" /><path clip-path=\"url(#clip670)\" d=\"M2265.64 1544.91 L2273.28 1544.91 L2273.28 1518.55 L2264.97 1520.21 L2264.97 1515.95 L2273.24 1514.29 L2277.91 1514.29 L2277.91 1544.91 L2285.55 1544.91 L2285.55 1548.85 L2265.64 1548.85 L2265.64 1544.91 Z\" fill=\"#000000\" fill-rule=\"nonzero\" fill-opacity=\"1\" /><path clip-path=\"url(#clip670)\" d=\"M2304.99 1517.37 Q2301.38 1517.37 2299.55 1520.93 Q2297.75 1524.47 2297.75 1531.6 Q2297.75 1538.71 2299.55 1542.27 Q2301.38 1545.82 2304.99 1545.82 Q2308.63 1545.82 2310.43 1542.27 Q2312.26 1538.71 2312.26 1531.6 Q2312.26 1524.47 2310.43 1520.93 Q2308.63 1517.37 2304.99 1517.37 M2304.99 1513.66 Q2310.8 1513.66 2313.86 1518.27 Q2316.94 1522.85 2316.94 1531.6 Q2316.94 1540.33 2313.86 1544.94 Q2310.8 1549.52 2304.99 1549.52 Q2299.18 1549.52 2296.11 1544.94 Q2293.05 1540.33 2293.05 1531.6 Q2293.05 1522.85 2296.11 1518.27 Q2299.18 1513.66 2304.99 1513.66 Z\" fill=\"#000000\" fill-rule=\"nonzero\" fill-opacity=\"1\" /><polyline clip-path=\"url(#clip672)\" style=\"stroke:#000000; stroke-linecap:round; stroke-linejoin:round; stroke-width:2; stroke-opacity:0.1; fill:none\" points=\"169.121,1459.43 2352.76,1459.43 \"/>\n",
       "<polyline clip-path=\"url(#clip672)\" style=\"stroke:#000000; stroke-linecap:round; stroke-linejoin:round; stroke-width:2; stroke-opacity:0.1; fill:none\" points=\"169.121,1116.57 2352.76,1116.57 \"/>\n",
       "<polyline clip-path=\"url(#clip672)\" style=\"stroke:#000000; stroke-linecap:round; stroke-linejoin:round; stroke-width:2; stroke-opacity:0.1; fill:none\" points=\"169.121,773.703 2352.76,773.703 \"/>\n",
       "<polyline clip-path=\"url(#clip672)\" style=\"stroke:#000000; stroke-linecap:round; stroke-linejoin:round; stroke-width:2; stroke-opacity:0.1; fill:none\" points=\"169.121,430.84 2352.76,430.84 \"/>\n",
       "<polyline clip-path=\"url(#clip672)\" style=\"stroke:#000000; stroke-linecap:round; stroke-linejoin:round; stroke-width:2; stroke-opacity:0.1; fill:none\" points=\"169.121,87.9763 2352.76,87.9763 \"/>\n",
       "<polyline clip-path=\"url(#clip670)\" style=\"stroke:#000000; stroke-linecap:round; stroke-linejoin:round; stroke-width:4; stroke-opacity:1; fill:none\" points=\"169.121,1486.45 169.121,47.2441 \"/>\n",
       "<polyline clip-path=\"url(#clip670)\" style=\"stroke:#000000; stroke-linecap:round; stroke-linejoin:round; stroke-width:4; stroke-opacity:1; fill:none\" points=\"169.121,1459.43 188.019,1459.43 \"/>\n",
       "<polyline clip-path=\"url(#clip670)\" style=\"stroke:#000000; stroke-linecap:round; stroke-linejoin:round; stroke-width:4; stroke-opacity:1; fill:none\" points=\"169.121,1116.57 188.019,1116.57 \"/>\n",
       "<polyline clip-path=\"url(#clip670)\" style=\"stroke:#000000; stroke-linecap:round; stroke-linejoin:round; stroke-width:4; stroke-opacity:1; fill:none\" points=\"169.121,773.703 188.019,773.703 \"/>\n",
       "<polyline clip-path=\"url(#clip670)\" style=\"stroke:#000000; stroke-linecap:round; stroke-linejoin:round; stroke-width:4; stroke-opacity:1; fill:none\" points=\"169.121,430.84 188.019,430.84 \"/>\n",
       "<polyline clip-path=\"url(#clip670)\" style=\"stroke:#000000; stroke-linecap:round; stroke-linejoin:round; stroke-width:4; stroke-opacity:1; fill:none\" points=\"169.121,87.9763 188.019,87.9763 \"/>\n",
       "<path clip-path=\"url(#clip670)\" d=\"M121.177 1445.23 Q117.566 1445.23 115.737 1448.79 Q113.932 1452.34 113.932 1459.46 Q113.932 1466.57 115.737 1470.14 Q117.566 1473.68 121.177 1473.68 Q124.811 1473.68 126.617 1470.14 Q128.445 1466.57 128.445 1459.46 Q128.445 1452.34 126.617 1448.79 Q124.811 1445.23 121.177 1445.23 M121.177 1441.53 Q126.987 1441.53 130.043 1446.13 Q133.121 1450.72 133.121 1459.46 Q133.121 1468.19 130.043 1472.8 Q126.987 1477.38 121.177 1477.38 Q115.367 1477.38 112.288 1472.8 Q109.233 1468.19 109.233 1459.46 Q109.233 1450.72 112.288 1446.13 Q115.367 1441.53 121.177 1441.53 Z\" fill=\"#000000\" fill-rule=\"nonzero\" fill-opacity=\"1\" /><path clip-path=\"url(#clip670)\" d=\"M86.0382 1129.91 L102.358 1129.91 L102.358 1133.85 L80.4133 1133.85 L80.4133 1129.91 Q83.0753 1127.16 87.6586 1122.53 Q92.2651 1117.87 93.4456 1116.53 Q95.691 1114.01 96.5706 1112.27 Q97.4734 1110.51 97.4734 1108.82 Q97.4734 1106.07 95.5289 1104.33 Q93.6076 1102.6 90.5058 1102.6 Q88.3067 1102.6 85.8531 1103.36 Q83.4225 1104.12 80.6447 1105.68 L80.6447 1100.95 Q83.4688 1099.82 85.9225 1099.24 Q88.3762 1098.66 90.4132 1098.66 Q95.7836 1098.66 98.978 1101.35 Q102.172 1104.03 102.172 1108.52 Q102.172 1110.65 101.362 1112.57 Q100.575 1114.47 98.4687 1117.06 Q97.89 1117.74 94.7882 1120.95 Q91.6864 1124.15 86.0382 1129.91 Z\" fill=\"#000000\" fill-rule=\"nonzero\" fill-opacity=\"1\" /><path clip-path=\"url(#clip670)\" d=\"M112.219 1099.29 L130.575 1099.29 L130.575 1103.22 L116.501 1103.22 L116.501 1111.69 Q117.52 1111.35 118.538 1111.18 Q119.557 1111 120.575 1111 Q126.362 1111 129.742 1114.17 Q133.121 1117.34 133.121 1122.76 Q133.121 1128.34 129.649 1131.44 Q126.177 1134.52 119.857 1134.52 Q117.682 1134.52 115.413 1134.15 Q113.168 1133.78 110.76 1133.04 L110.76 1128.34 Q112.844 1129.47 115.066 1130.03 Q117.288 1130.58 119.765 1130.58 Q123.77 1130.58 126.107 1128.48 Q128.445 1126.37 128.445 1122.76 Q128.445 1119.15 126.107 1117.04 Q123.77 1114.93 119.765 1114.93 Q117.89 1114.93 116.015 1115.35 Q114.163 1115.77 112.219 1116.65 L112.219 1099.29 Z\" fill=\"#000000\" fill-rule=\"nonzero\" fill-opacity=\"1\" /><path clip-path=\"url(#clip670)\" d=\"M81.0614 756.423 L99.4178 756.423 L99.4178 760.358 L85.3438 760.358 L85.3438 768.831 Q86.3623 768.483 87.3808 768.321 Q88.3993 768.136 89.4178 768.136 Q95.2049 768.136 98.5845 771.307 Q101.964 774.479 101.964 779.895 Q101.964 785.474 98.4919 788.576 Q95.0197 791.655 88.7003 791.655 Q86.5243 791.655 84.2558 791.284 Q82.0105 790.914 79.6031 790.173 L79.6031 785.474 Q81.6864 786.608 83.9086 787.164 Q86.1308 787.719 88.6077 787.719 Q92.6123 787.719 94.9502 785.613 Q97.2882 783.506 97.2882 779.895 Q97.2882 776.284 94.9502 774.178 Q92.6123 772.071 88.6077 772.071 Q86.7327 772.071 84.8577 772.488 Q83.0058 772.905 81.0614 773.784 L81.0614 756.423 Z\" fill=\"#000000\" fill-rule=\"nonzero\" fill-opacity=\"1\" /><path clip-path=\"url(#clip670)\" d=\"M121.177 759.502 Q117.566 759.502 115.737 763.067 Q113.932 766.608 113.932 773.738 Q113.932 780.844 115.737 784.409 Q117.566 787.951 121.177 787.951 Q124.811 787.951 126.617 784.409 Q128.445 780.844 128.445 773.738 Q128.445 766.608 126.617 763.067 Q124.811 759.502 121.177 759.502 M121.177 755.798 Q126.987 755.798 130.043 760.405 Q133.121 764.988 133.121 773.738 Q133.121 782.465 130.043 787.071 Q126.987 791.655 121.177 791.655 Q115.367 791.655 112.288 787.071 Q109.233 782.465 109.233 773.738 Q109.233 764.988 112.288 760.405 Q115.367 755.798 121.177 755.798 Z\" fill=\"#000000\" fill-rule=\"nonzero\" fill-opacity=\"1\" /><path clip-path=\"url(#clip670)\" d=\"M80.8299 413.56 L103.052 413.56 L103.052 415.55 L90.5058 448.12 L85.6216 448.12 L97.4271 417.495 L80.8299 417.495 L80.8299 413.56 Z\" fill=\"#000000\" fill-rule=\"nonzero\" fill-opacity=\"1\" /><path clip-path=\"url(#clip670)\" d=\"M112.219 413.56 L130.575 413.56 L130.575 417.495 L116.501 417.495 L116.501 425.967 Q117.52 425.62 118.538 425.458 Q119.557 425.273 120.575 425.273 Q126.362 425.273 129.742 428.444 Q133.121 431.615 133.121 437.032 Q133.121 442.611 129.649 445.712 Q126.177 448.791 119.857 448.791 Q117.682 448.791 115.413 448.421 Q113.168 448.05 110.76 447.31 L110.76 442.611 Q112.844 443.745 115.066 444.3 Q117.288 444.856 119.765 444.856 Q123.77 444.856 126.107 442.749 Q128.445 440.643 128.445 437.032 Q128.445 433.421 126.107 431.314 Q123.77 429.208 119.765 429.208 Q117.89 429.208 116.015 429.624 Q114.163 430.041 112.219 430.921 L112.219 413.56 Z\" fill=\"#000000\" fill-rule=\"nonzero\" fill-opacity=\"1\" /><path clip-path=\"url(#clip670)\" d=\"M51.6634 101.321 L59.3023 101.321 L59.3023 74.9555 L50.9921 76.6222 L50.9921 72.3629 L59.256 70.6963 L63.9319 70.6963 L63.9319 101.321 L71.5707 101.321 L71.5707 105.256 L51.6634 105.256 L51.6634 101.321 Z\" fill=\"#000000\" fill-rule=\"nonzero\" fill-opacity=\"1\" /><path clip-path=\"url(#clip670)\" d=\"M91.0151 73.775 Q87.404 73.775 85.5753 77.3398 Q83.7697 80.8814 83.7697 88.011 Q83.7697 95.1174 85.5753 98.6822 Q87.404 102.224 91.0151 102.224 Q94.6493 102.224 96.4548 98.6822 Q98.2835 95.1174 98.2835 88.011 Q98.2835 80.8814 96.4548 77.3398 Q94.6493 73.775 91.0151 73.775 M91.0151 70.0713 Q96.8252 70.0713 99.8808 74.6777 Q102.959 79.261 102.959 88.011 Q102.959 96.7378 99.8808 101.344 Q96.8252 105.928 91.0151 105.928 Q85.2049 105.928 82.1262 101.344 Q79.0707 96.7378 79.0707 88.011 Q79.0707 79.261 82.1262 74.6777 Q85.2049 70.0713 91.0151 70.0713 Z\" fill=\"#000000\" fill-rule=\"nonzero\" fill-opacity=\"1\" /><path clip-path=\"url(#clip670)\" d=\"M121.177 73.775 Q117.566 73.775 115.737 77.3398 Q113.932 80.8814 113.932 88.011 Q113.932 95.1174 115.737 98.6822 Q117.566 102.224 121.177 102.224 Q124.811 102.224 126.617 98.6822 Q128.445 95.1174 128.445 88.011 Q128.445 80.8814 126.617 77.3398 Q124.811 73.775 121.177 73.775 M121.177 70.0713 Q126.987 70.0713 130.043 74.6777 Q133.121 79.261 133.121 88.011 Q133.121 96.7378 130.043 101.344 Q126.987 105.928 121.177 105.928 Q115.367 105.928 112.288 101.344 Q109.233 96.7378 109.233 88.011 Q109.233 79.261 112.288 74.6777 Q115.367 70.0713 121.177 70.0713 Z\" fill=\"#000000\" fill-rule=\"nonzero\" fill-opacity=\"1\" /><circle clip-path=\"url(#clip672)\" cx=\"230.922\" cy=\"1445.72\" r=\"14.4\" fill=\"#009af9\" fill-rule=\"evenodd\" fill-opacity=\"1\" stroke=\"#000000\" stroke-opacity=\"1\" stroke-width=\"3.2\"/>\n",
       "<circle clip-path=\"url(#clip672)\" cx=\"459.815\" cy=\"1404.57\" r=\"14.4\" fill=\"#009af9\" fill-rule=\"evenodd\" fill-opacity=\"1\" stroke=\"#000000\" stroke-opacity=\"1\" stroke-width=\"3.2\"/>\n",
       "<circle clip-path=\"url(#clip672)\" cx=\"688.707\" cy=\"1336\" r=\"14.4\" fill=\"#009af9\" fill-rule=\"evenodd\" fill-opacity=\"1\" stroke=\"#000000\" stroke-opacity=\"1\" stroke-width=\"3.2\"/>\n",
       "<circle clip-path=\"url(#clip672)\" cx=\"917.6\" cy=\"1240\" r=\"14.4\" fill=\"#009af9\" fill-rule=\"evenodd\" fill-opacity=\"1\" stroke=\"#000000\" stroke-opacity=\"1\" stroke-width=\"3.2\"/>\n",
       "<circle clip-path=\"url(#clip672)\" cx=\"1146.49\" cy=\"1116.57\" r=\"14.4\" fill=\"#009af9\" fill-rule=\"evenodd\" fill-opacity=\"1\" stroke=\"#000000\" stroke-opacity=\"1\" stroke-width=\"3.2\"/>\n",
       "<circle clip-path=\"url(#clip672)\" cx=\"1375.38\" cy=\"965.707\" r=\"14.4\" fill=\"#009af9\" fill-rule=\"evenodd\" fill-opacity=\"1\" stroke=\"#000000\" stroke-opacity=\"1\" stroke-width=\"3.2\"/>\n",
       "<circle clip-path=\"url(#clip672)\" cx=\"1604.28\" cy=\"787.418\" r=\"14.4\" fill=\"#009af9\" fill-rule=\"evenodd\" fill-opacity=\"1\" stroke=\"#000000\" stroke-opacity=\"1\" stroke-width=\"3.2\"/>\n",
       "<circle clip-path=\"url(#clip672)\" cx=\"1833.17\" cy=\"581.7\" r=\"14.4\" fill=\"#009af9\" fill-rule=\"evenodd\" fill-opacity=\"1\" stroke=\"#000000\" stroke-opacity=\"1\" stroke-width=\"3.2\"/>\n",
       "<circle clip-path=\"url(#clip672)\" cx=\"2062.06\" cy=\"348.553\" r=\"14.4\" fill=\"#009af9\" fill-rule=\"evenodd\" fill-opacity=\"1\" stroke=\"#000000\" stroke-opacity=\"1\" stroke-width=\"3.2\"/>\n",
       "<circle clip-path=\"url(#clip672)\" cx=\"2290.95\" cy=\"87.9763\" r=\"14.4\" fill=\"#009af9\" fill-rule=\"evenodd\" fill-opacity=\"1\" stroke=\"#000000\" stroke-opacity=\"1\" stroke-width=\"3.2\"/>\n",
       "<path clip-path=\"url(#clip670)\" d=\"M241.909 198.898 L512.703 198.898 L512.703 95.2176 L241.909 95.2176  Z\" fill=\"#ffffff\" fill-rule=\"evenodd\" fill-opacity=\"1\"/>\n",
       "<polyline clip-path=\"url(#clip670)\" style=\"stroke:#000000; stroke-linecap:round; stroke-linejoin:round; stroke-width:4; stroke-opacity:1; fill:none\" points=\"241.909,198.898 512.703,198.898 512.703,95.2176 241.909,95.2176 241.909,198.898 \"/>\n",
       "<circle clip-path=\"url(#clip670)\" cx=\"338.96\" cy=\"147.058\" r=\"20.48\" fill=\"#009af9\" fill-rule=\"evenodd\" fill-opacity=\"1\" stroke=\"#000000\" stroke-opacity=\"1\" stroke-width=\"4.55111\"/>\n",
       "<path clip-path=\"url(#clip670)\" d=\"M449.853 166.745 Q448.047 171.375 446.334 172.787 Q444.621 174.199 441.751 174.199 L438.348 174.199 L438.348 170.634 L440.848 170.634 Q442.607 170.634 443.579 169.8 Q444.552 168.967 445.732 165.865 L446.496 163.921 L436.01 138.412 L440.524 138.412 L448.626 158.689 L456.727 138.412 L461.241 138.412 L449.853 166.745 Z\" fill=\"#000000\" fill-rule=\"nonzero\" fill-opacity=\"1\" /><path clip-path=\"url(#clip670)\" d=\"M468.533 160.402 L476.172 160.402 L476.172 134.037 L467.862 135.703 L467.862 131.444 L476.126 129.778 L480.801 129.778 L480.801 160.402 L488.44 160.402 L488.44 164.338 L468.533 164.338 L468.533 160.402 Z\" fill=\"#000000\" fill-rule=\"nonzero\" fill-opacity=\"1\" /></svg>\n"
      ]
     },
     "execution_count": 165,
     "metadata": {},
     "output_type": "execute_result"
    }
   ],
   "source": [
    "@df df scatter(:c1, :c2)"
   ]
  },
  {
   "cell_type": "code",
   "execution_count": 167,
   "id": "6a1941c0-9775-4cbb-8dea-5dba2afea6c4",
   "metadata": {},
   "outputs": [
    {
     "name": "stderr",
     "output_type": "stream",
     "text": [
      "\u001b[32m\u001b[1m   Resolving\u001b[22m\u001b[39m package versions...\n",
      "\u001b[32m\u001b[1m  No Changes\u001b[22m\u001b[39m to `~/.julia/environments/v1.10/Project.toml`\n",
      "\u001b[32m\u001b[1m  No Changes\u001b[22m\u001b[39m to `~/.julia/environments/v1.10/Manifest.toml`\n"
     ]
    },
    {
     "data": {
      "image/png": "[encoded data removed]",
      "image/svg+xml": [
       "<?xml version=\"1.0\" encoding=\"utf-8\"?>\n",
       "<svg xmlns=\"http://www.w3.org/2000/svg\" xmlns:xlink=\"http://www.w3.org/1999/xlink\" width=\"600\" height=\"400\" viewBox=\"0 0 2400 1600\">\n",
       "<defs>\n",
       "  <clipPath id=\"clip800\">\n",
       "    <rect x=\"0\" y=\"0\" width=\"2400\" height=\"1600\"/>\n",
       "  </clipPath>\n",
       "</defs>\n",
       "<path clip-path=\"url(#clip800)\" d=\"M0 1600 L2400 1600 L2400 8.88178e-14 L0 8.88178e-14  Z\" fill=\"#ffffff\" fill-rule=\"evenodd\" fill-opacity=\"1\"/>\n",
       "<defs>\n",
       "  <clipPath id=\"clip801\">\n",
       "    <rect x=\"480\" y=\"0\" width=\"1681\" height=\"1600\"/>\n",
       "  </clipPath>\n",
       "</defs>\n",
       "<path clip-path=\"url(#clip800)\" d=\"M186.76 1486.45 L2352.76 1486.45 L2352.76 47.2441 L186.76 47.2441  Z\" fill=\"#ffffff\" fill-rule=\"evenodd\" fill-opacity=\"1\"/>\n",
       "<defs>\n",
       "  <clipPath id=\"clip802\">\n",
       "    <rect x=\"186\" y=\"47\" width=\"2167\" height=\"1440\"/>\n",
       "  </clipPath>\n",
       "</defs>\n",
       "<polyline clip-path=\"url(#clip802)\" style=\"stroke:#000000; stroke-linecap:round; stroke-linejoin:round; stroke-width:2; stroke-opacity:0.1; fill:none\" points=\"670.176,1486.45 670.176,47.2441 \"/>\n",
       "<polyline clip-path=\"url(#clip802)\" style=\"stroke:#000000; stroke-linecap:round; stroke-linejoin:round; stroke-width:2; stroke-opacity:0.1; fill:none\" points=\"1211.29,1486.45 1211.29,47.2441 \"/>\n",
       "<polyline clip-path=\"url(#clip802)\" style=\"stroke:#000000; stroke-linecap:round; stroke-linejoin:round; stroke-width:2; stroke-opacity:0.1; fill:none\" points=\"1752.41,1486.45 1752.41,47.2441 \"/>\n",
       "<polyline clip-path=\"url(#clip802)\" style=\"stroke:#000000; stroke-linecap:round; stroke-linejoin:round; stroke-width:2; stroke-opacity:0.1; fill:none\" points=\"2293.52,1486.45 2293.52,47.2441 \"/>\n",
       "<polyline clip-path=\"url(#clip800)\" style=\"stroke:#000000; stroke-linecap:round; stroke-linejoin:round; stroke-width:4; stroke-opacity:1; fill:none\" points=\"186.76,1486.45 2352.76,1486.45 \"/>\n",
       "<polyline clip-path=\"url(#clip800)\" style=\"stroke:#000000; stroke-linecap:round; stroke-linejoin:round; stroke-width:4; stroke-opacity:1; fill:none\" points=\"670.176,1486.45 670.176,1467.55 \"/>\n",
       "<polyline clip-path=\"url(#clip800)\" style=\"stroke:#000000; stroke-linecap:round; stroke-linejoin:round; stroke-width:4; stroke-opacity:1; fill:none\" points=\"1211.29,1486.45 1211.29,1467.55 \"/>\n",
       "<polyline clip-path=\"url(#clip800)\" style=\"stroke:#000000; stroke-linecap:round; stroke-linejoin:round; stroke-width:4; stroke-opacity:1; fill:none\" points=\"1752.41,1486.45 1752.41,1467.55 \"/>\n",
       "<polyline clip-path=\"url(#clip800)\" style=\"stroke:#000000; stroke-linecap:round; stroke-linejoin:round; stroke-width:4; stroke-opacity:1; fill:none\" points=\"2293.52,1486.45 2293.52,1467.55 \"/>\n",
       "<path clip-path=\"url(#clip800)\" d=\"M670.176 1517.37 Q666.564 1517.37 664.736 1520.93 Q662.93 1524.47 662.93 1531.6 Q662.93 1538.71 664.736 1542.27 Q666.564 1545.82 670.176 1545.82 Q673.81 1545.82 675.615 1542.27 Q677.444 1538.71 677.444 1531.6 Q677.444 1524.47 675.615 1520.93 Q673.81 1517.37 670.176 1517.37 M670.176 1513.66 Q675.986 1513.66 679.041 1518.27 Q682.12 1522.85 682.12 1531.6 Q682.12 1540.33 679.041 1544.94 Q675.986 1549.52 670.176 1549.52 Q664.365 1549.52 661.287 1544.94 Q658.231 1540.33 658.231 1531.6 Q658.231 1522.85 661.287 1518.27 Q664.365 1513.66 670.176 1513.66 Z\" fill=\"#000000\" fill-rule=\"nonzero\" fill-opacity=\"1\" /><path clip-path=\"url(#clip800)\" d=\"M1185.98 1544.91 L1193.62 1544.91 L1193.62 1518.55 L1185.31 1520.21 L1185.31 1515.95 L1193.57 1514.29 L1198.25 1514.29 L1198.25 1544.91 L1205.89 1544.91 L1205.89 1548.85 L1185.98 1548.85 L1185.98 1544.91 Z\" fill=\"#000000\" fill-rule=\"nonzero\" fill-opacity=\"1\" /><path clip-path=\"url(#clip800)\" d=\"M1225.33 1517.37 Q1221.72 1517.37 1219.89 1520.93 Q1218.08 1524.47 1218.08 1531.6 Q1218.08 1538.71 1219.89 1542.27 Q1221.72 1545.82 1225.33 1545.82 Q1228.96 1545.82 1230.77 1542.27 Q1232.6 1538.71 1232.6 1531.6 Q1232.6 1524.47 1230.77 1520.93 Q1228.96 1517.37 1225.33 1517.37 M1225.33 1513.66 Q1231.14 1513.66 1234.2 1518.27 Q1237.27 1522.85 1237.27 1531.6 Q1237.27 1540.33 1234.2 1544.94 Q1231.14 1549.52 1225.33 1549.52 Q1219.52 1549.52 1216.44 1544.94 Q1213.39 1540.33 1213.39 1531.6 Q1213.39 1522.85 1216.44 1518.27 Q1219.52 1513.66 1225.33 1513.66 Z\" fill=\"#000000\" fill-rule=\"nonzero\" fill-opacity=\"1\" /><path clip-path=\"url(#clip800)\" d=\"M1731.18 1544.91 L1747.5 1544.91 L1747.5 1548.85 L1725.55 1548.85 L1725.55 1544.91 Q1728.22 1542.16 1732.8 1537.53 Q1737.41 1532.88 1738.59 1531.53 Q1740.83 1529.01 1741.71 1527.27 Q1742.61 1525.51 1742.61 1523.82 Q1742.61 1521.07 1740.67 1519.33 Q1738.75 1517.6 1735.65 1517.6 Q1733.45 1517.6 1730.99 1518.36 Q1728.56 1519.13 1725.79 1520.68 L1725.79 1515.95 Q1728.61 1514.82 1731.06 1514.24 Q1733.52 1513.66 1735.55 1513.66 Q1740.92 1513.66 1744.12 1516.35 Q1747.31 1519.03 1747.31 1523.52 Q1747.31 1525.65 1746.5 1527.57 Q1745.72 1529.47 1743.61 1532.07 Q1743.03 1532.74 1739.93 1535.95 Q1736.83 1539.15 1731.18 1544.91 Z\" fill=\"#000000\" fill-rule=\"nonzero\" fill-opacity=\"1\" /><path clip-path=\"url(#clip800)\" d=\"M1767.31 1517.37 Q1763.7 1517.37 1761.87 1520.93 Q1760.07 1524.47 1760.07 1531.6 Q1760.07 1538.71 1761.87 1542.27 Q1763.7 1545.82 1767.31 1545.82 Q1770.95 1545.82 1772.75 1542.27 Q1774.58 1538.71 1774.58 1531.6 Q1774.58 1524.47 1772.75 1520.93 Q1770.95 1517.37 1767.31 1517.37 M1767.31 1513.66 Q1773.12 1513.66 1776.18 1518.27 Q1779.26 1522.85 1779.26 1531.6 Q1779.26 1540.33 1776.18 1544.94 Q1773.12 1549.52 1767.31 1549.52 Q1761.5 1549.52 1758.42 1544.94 Q1755.37 1540.33 1755.37 1531.6 Q1755.37 1522.85 1758.42 1518.27 Q1761.5 1513.66 1767.31 1513.66 Z\" fill=\"#000000\" fill-rule=\"nonzero\" fill-opacity=\"1\" /><path clip-path=\"url(#clip800)\" d=\"M2282.36 1530.21 Q2285.72 1530.93 2287.59 1533.2 Q2289.49 1535.47 2289.49 1538.8 Q2289.49 1543.92 2285.97 1546.72 Q2282.46 1549.52 2275.97 1549.52 Q2273.8 1549.52 2271.48 1549.08 Q2269.19 1548.66 2266.74 1547.81 L2266.74 1543.29 Q2268.68 1544.43 2271 1545.01 Q2273.31 1545.58 2275.84 1545.58 Q2280.23 1545.58 2282.53 1543.85 Q2284.84 1542.11 2284.84 1538.8 Q2284.84 1535.75 2282.69 1534.03 Q2280.56 1532.3 2276.74 1532.3 L2272.71 1532.3 L2272.71 1528.45 L2276.92 1528.45 Q2280.37 1528.45 2282.2 1527.09 Q2284.03 1525.7 2284.03 1523.11 Q2284.03 1520.45 2282.13 1519.03 Q2280.26 1517.6 2276.74 1517.6 Q2274.82 1517.6 2272.62 1518.01 Q2270.42 1518.43 2267.78 1519.31 L2267.78 1515.14 Q2270.44 1514.4 2272.76 1514.03 Q2275.09 1513.66 2277.15 1513.66 Q2282.48 1513.66 2285.58 1516.09 Q2288.68 1518.5 2288.68 1522.62 Q2288.68 1525.49 2287.04 1527.48 Q2285.4 1529.45 2282.36 1530.21 Z\" fill=\"#000000\" fill-rule=\"nonzero\" fill-opacity=\"1\" /><path clip-path=\"url(#clip800)\" d=\"M2308.36 1517.37 Q2304.75 1517.37 2302.92 1520.93 Q2301.11 1524.47 2301.11 1531.6 Q2301.11 1538.71 2302.92 1542.27 Q2304.75 1545.82 2308.36 1545.82 Q2311.99 1545.82 2313.8 1542.27 Q2315.63 1538.71 2315.63 1531.6 Q2315.63 1524.47 2313.8 1520.93 Q2311.99 1517.37 2308.36 1517.37 M2308.36 1513.66 Q2314.17 1513.66 2317.22 1518.27 Q2320.3 1522.85 2320.3 1531.6 Q2320.3 1540.33 2317.22 1544.94 Q2314.17 1549.52 2308.36 1549.52 Q2302.55 1549.52 2299.47 1544.94 Q2296.41 1540.33 2296.41 1531.6 Q2296.41 1522.85 2299.47 1518.27 Q2302.55 1513.66 2308.36 1513.66 Z\" fill=\"#000000\" fill-rule=\"nonzero\" fill-opacity=\"1\" /><polyline clip-path=\"url(#clip802)\" style=\"stroke:#000000; stroke-linecap:round; stroke-linejoin:round; stroke-width:2; stroke-opacity:0.1; fill:none\" points=\"186.76,1445.74 2352.76,1445.74 \"/>\n",
       "<polyline clip-path=\"url(#clip802)\" style=\"stroke:#000000; stroke-linecap:round; stroke-linejoin:round; stroke-width:2; stroke-opacity:0.1; fill:none\" points=\"186.76,1170.51 2352.76,1170.51 \"/>\n",
       "<polyline clip-path=\"url(#clip802)\" style=\"stroke:#000000; stroke-linecap:round; stroke-linejoin:round; stroke-width:2; stroke-opacity:0.1; fill:none\" points=\"186.76,895.286 2352.76,895.286 \"/>\n",
       "<polyline clip-path=\"url(#clip802)\" style=\"stroke:#000000; stroke-linecap:round; stroke-linejoin:round; stroke-width:2; stroke-opacity:0.1; fill:none\" points=\"186.76,620.06 2352.76,620.06 \"/>\n",
       "<polyline clip-path=\"url(#clip802)\" style=\"stroke:#000000; stroke-linecap:round; stroke-linejoin:round; stroke-width:2; stroke-opacity:0.1; fill:none\" points=\"186.76,344.834 2352.76,344.834 \"/>\n",
       "<polyline clip-path=\"url(#clip802)\" style=\"stroke:#000000; stroke-linecap:round; stroke-linejoin:round; stroke-width:2; stroke-opacity:0.1; fill:none\" points=\"186.76,69.6078 2352.76,69.6078 \"/>\n",
       "<polyline clip-path=\"url(#clip800)\" style=\"stroke:#000000; stroke-linecap:round; stroke-linejoin:round; stroke-width:4; stroke-opacity:1; fill:none\" points=\"186.76,1486.45 186.76,47.2441 \"/>\n",
       "<polyline clip-path=\"url(#clip800)\" style=\"stroke:#000000; stroke-linecap:round; stroke-linejoin:round; stroke-width:4; stroke-opacity:1; fill:none\" points=\"186.76,1445.74 205.658,1445.74 \"/>\n",
       "<polyline clip-path=\"url(#clip800)\" style=\"stroke:#000000; stroke-linecap:round; stroke-linejoin:round; stroke-width:4; stroke-opacity:1; fill:none\" points=\"186.76,1170.51 205.658,1170.51 \"/>\n",
       "<polyline clip-path=\"url(#clip800)\" style=\"stroke:#000000; stroke-linecap:round; stroke-linejoin:round; stroke-width:4; stroke-opacity:1; fill:none\" points=\"186.76,895.286 205.658,895.286 \"/>\n",
       "<polyline clip-path=\"url(#clip800)\" style=\"stroke:#000000; stroke-linecap:round; stroke-linejoin:round; stroke-width:4; stroke-opacity:1; fill:none\" points=\"186.76,620.06 205.658,620.06 \"/>\n",
       "<polyline clip-path=\"url(#clip800)\" style=\"stroke:#000000; stroke-linecap:round; stroke-linejoin:round; stroke-width:4; stroke-opacity:1; fill:none\" points=\"186.76,344.834 205.658,344.834 \"/>\n",
       "<polyline clip-path=\"url(#clip800)\" style=\"stroke:#000000; stroke-linecap:round; stroke-linejoin:round; stroke-width:4; stroke-opacity:1; fill:none\" points=\"186.76,69.6078 205.658,69.6078 \"/>\n",
       "<path clip-path=\"url(#clip800)\" d=\"M63.4226 1431.54 Q59.8115 1431.54 57.9828 1435.1 Q56.1773 1438.64 56.1773 1445.77 Q56.1773 1452.88 57.9828 1456.44 Q59.8115 1459.99 63.4226 1459.99 Q67.0569 1459.99 68.8624 1456.44 Q70.6911 1452.88 70.6911 1445.77 Q70.6911 1438.64 68.8624 1435.1 Q67.0569 1431.54 63.4226 1431.54 M63.4226 1427.83 Q69.2328 1427.83 72.2883 1432.44 Q75.367 1437.02 75.367 1445.77 Q75.367 1454.5 72.2883 1459.11 Q69.2328 1463.69 63.4226 1463.69 Q57.6125 1463.69 54.5338 1459.11 Q51.4782 1454.5 51.4782 1445.77 Q51.4782 1437.02 54.5338 1432.44 Q57.6125 1427.83 63.4226 1427.83 Z\" fill=\"#000000\" fill-rule=\"nonzero\" fill-opacity=\"1\" /><path clip-path=\"url(#clip800)\" d=\"M83.5845 1457.14 L88.4688 1457.14 L88.4688 1463.02 L83.5845 1463.02 L83.5845 1457.14 Z\" fill=\"#000000\" fill-rule=\"nonzero\" fill-opacity=\"1\" /><path clip-path=\"url(#clip800)\" d=\"M108.654 1431.54 Q105.043 1431.54 103.214 1435.1 Q101.409 1438.64 101.409 1445.77 Q101.409 1452.88 103.214 1456.44 Q105.043 1459.99 108.654 1459.99 Q112.288 1459.99 114.094 1456.44 Q115.922 1452.88 115.922 1445.77 Q115.922 1438.64 114.094 1435.1 Q112.288 1431.54 108.654 1431.54 M108.654 1427.83 Q114.464 1427.83 117.52 1432.44 Q120.598 1437.02 120.598 1445.77 Q120.598 1454.5 117.52 1459.11 Q114.464 1463.69 108.654 1463.69 Q102.844 1463.69 99.765 1459.11 Q96.7095 1454.5 96.7095 1445.77 Q96.7095 1437.02 99.765 1432.44 Q102.844 1427.83 108.654 1427.83 Z\" fill=\"#000000\" fill-rule=\"nonzero\" fill-opacity=\"1\" /><path clip-path=\"url(#clip800)\" d=\"M138.816 1431.54 Q135.205 1431.54 133.376 1435.1 Q131.57 1438.64 131.57 1445.77 Q131.57 1452.88 133.376 1456.44 Q135.205 1459.99 138.816 1459.99 Q142.45 1459.99 144.256 1456.44 Q146.084 1452.88 146.084 1445.77 Q146.084 1438.64 144.256 1435.1 Q142.45 1431.54 138.816 1431.54 M138.816 1427.83 Q144.626 1427.83 147.681 1432.44 Q150.76 1437.02 150.76 1445.77 Q150.76 1454.5 147.681 1459.11 Q144.626 1463.69 138.816 1463.69 Q133.006 1463.69 129.927 1459.11 Q126.871 1454.5 126.871 1445.77 Q126.871 1437.02 129.927 1432.44 Q133.006 1427.83 138.816 1427.83 Z\" fill=\"#000000\" fill-rule=\"nonzero\" fill-opacity=\"1\" /><path clip-path=\"url(#clip800)\" d=\"M64.6495 1156.31 Q61.0384 1156.31 59.2097 1159.88 Q57.4041 1163.42 57.4041 1170.55 Q57.4041 1177.65 59.2097 1181.22 Q61.0384 1184.76 64.6495 1184.76 Q68.2837 1184.76 70.0892 1181.22 Q71.9179 1177.65 71.9179 1170.55 Q71.9179 1163.42 70.0892 1159.88 Q68.2837 1156.31 64.6495 1156.31 M64.6495 1152.61 Q70.4596 1152.61 73.5152 1157.21 Q76.5938 1161.8 76.5938 1170.55 Q76.5938 1179.27 73.5152 1183.88 Q70.4596 1188.46 64.6495 1188.46 Q58.8393 1188.46 55.7606 1183.88 Q52.7051 1179.27 52.7051 1170.55 Q52.7051 1161.8 55.7606 1157.21 Q58.8393 1152.61 64.6495 1152.61 Z\" fill=\"#000000\" fill-rule=\"nonzero\" fill-opacity=\"1\" /><path clip-path=\"url(#clip800)\" d=\"M84.8114 1181.91 L89.6956 1181.91 L89.6956 1187.79 L84.8114 1187.79 L84.8114 1181.91 Z\" fill=\"#000000\" fill-rule=\"nonzero\" fill-opacity=\"1\" /><path clip-path=\"url(#clip800)\" d=\"M109.881 1156.31 Q106.27 1156.31 104.441 1159.88 Q102.635 1163.42 102.635 1170.55 Q102.635 1177.65 104.441 1181.22 Q106.27 1184.76 109.881 1184.76 Q113.515 1184.76 115.32 1181.22 Q117.149 1177.65 117.149 1170.55 Q117.149 1163.42 115.32 1159.88 Q113.515 1156.31 109.881 1156.31 M109.881 1152.61 Q115.691 1152.61 118.746 1157.21 Q121.825 1161.8 121.825 1170.55 Q121.825 1179.27 118.746 1183.88 Q115.691 1188.46 109.881 1188.46 Q104.071 1188.46 100.992 1183.88 Q97.9363 1179.27 97.9363 1170.55 Q97.9363 1161.8 100.992 1157.21 Q104.071 1152.61 109.881 1152.61 Z\" fill=\"#000000\" fill-rule=\"nonzero\" fill-opacity=\"1\" /><path clip-path=\"url(#clip800)\" d=\"M130.853 1183.86 L138.492 1183.86 L138.492 1157.49 L130.182 1159.16 L130.182 1154.9 L138.445 1153.23 L143.121 1153.23 L143.121 1183.86 L150.76 1183.86 L150.76 1187.79 L130.853 1187.79 L130.853 1183.86 Z\" fill=\"#000000\" fill-rule=\"nonzero\" fill-opacity=\"1\" /><path clip-path=\"url(#clip800)\" d=\"M65.0198 881.085 Q61.4087 881.085 59.58 884.65 Q57.7745 888.192 57.7745 895.321 Q57.7745 902.428 59.58 905.992 Q61.4087 909.534 65.0198 909.534 Q68.6541 909.534 70.4596 905.992 Q72.2883 902.428 72.2883 895.321 Q72.2883 888.192 70.4596 884.65 Q68.6541 881.085 65.0198 881.085 M65.0198 877.381 Q70.83 877.381 73.8855 881.988 Q76.9642 886.571 76.9642 895.321 Q76.9642 904.048 73.8855 908.654 Q70.83 913.238 65.0198 913.238 Q59.2097 913.238 56.131 908.654 Q53.0754 904.048 53.0754 895.321 Q53.0754 886.571 56.131 881.988 Q59.2097 877.381 65.0198 877.381 Z\" fill=\"#000000\" fill-rule=\"nonzero\" fill-opacity=\"1\" /><path clip-path=\"url(#clip800)\" d=\"M85.1818 906.687 L90.066 906.687 L90.066 912.566 L85.1818 912.566 L85.1818 906.687 Z\" fill=\"#000000\" fill-rule=\"nonzero\" fill-opacity=\"1\" /><path clip-path=\"url(#clip800)\" d=\"M110.251 881.085 Q106.64 881.085 104.811 884.65 Q103.006 888.192 103.006 895.321 Q103.006 902.428 104.811 905.992 Q106.64 909.534 110.251 909.534 Q113.885 909.534 115.691 905.992 Q117.52 902.428 117.52 895.321 Q117.52 888.192 115.691 884.65 Q113.885 881.085 110.251 881.085 M110.251 877.381 Q116.061 877.381 119.117 881.988 Q122.195 886.571 122.195 895.321 Q122.195 904.048 119.117 908.654 Q116.061 913.238 110.251 913.238 Q104.441 913.238 101.362 908.654 Q98.3067 904.048 98.3067 895.321 Q98.3067 886.571 101.362 881.988 Q104.441 877.381 110.251 877.381 Z\" fill=\"#000000\" fill-rule=\"nonzero\" fill-opacity=\"1\" /><path clip-path=\"url(#clip800)\" d=\"M134.441 908.631 L150.76 908.631 L150.76 912.566 L128.816 912.566 L128.816 908.631 Q131.478 905.877 136.061 901.247 Q140.668 896.594 141.848 895.252 Q144.093 892.729 144.973 890.993 Q145.876 889.233 145.876 887.543 Q145.876 884.789 143.931 883.053 Q142.01 881.317 138.908 881.317 Q136.709 881.317 134.256 882.081 Q131.825 882.844 129.047 884.395 L129.047 879.673 Q131.871 878.539 134.325 877.96 Q136.779 877.381 138.816 877.381 Q144.186 877.381 147.38 880.067 Q150.575 882.752 150.575 887.243 Q150.575 889.372 149.765 891.293 Q148.978 893.192 146.871 895.784 Q146.293 896.455 143.191 899.673 Q140.089 902.867 134.441 908.631 Z\" fill=\"#000000\" fill-rule=\"nonzero\" fill-opacity=\"1\" /><path clip-path=\"url(#clip800)\" d=\"M64.0708 605.859 Q60.4597 605.859 58.631 609.424 Q56.8254 612.965 56.8254 620.095 Q56.8254 627.201 58.631 630.766 Q60.4597 634.308 64.0708 634.308 Q67.705 634.308 69.5105 630.766 Q71.3392 627.201 71.3392 620.095 Q71.3392 612.965 69.5105 609.424 Q67.705 605.859 64.0708 605.859 M64.0708 602.155 Q69.8809 602.155 72.9365 606.762 Q76.0151 611.345 76.0151 620.095 Q76.0151 628.822 72.9365 633.428 Q69.8809 638.012 64.0708 638.012 Q58.2606 638.012 55.1819 633.428 Q52.1264 628.822 52.1264 620.095 Q52.1264 611.345 55.1819 606.762 Q58.2606 602.155 64.0708 602.155 Z\" fill=\"#000000\" fill-rule=\"nonzero\" fill-opacity=\"1\" /><path clip-path=\"url(#clip800)\" d=\"M84.2327 631.461 L89.1169 631.461 L89.1169 637.34 L84.2327 637.34 L84.2327 631.461 Z\" fill=\"#000000\" fill-rule=\"nonzero\" fill-opacity=\"1\" /><path clip-path=\"url(#clip800)\" d=\"M109.302 605.859 Q105.691 605.859 103.862 609.424 Q102.057 612.965 102.057 620.095 Q102.057 627.201 103.862 630.766 Q105.691 634.308 109.302 634.308 Q112.936 634.308 114.742 630.766 Q116.57 627.201 116.57 620.095 Q116.57 612.965 114.742 609.424 Q112.936 605.859 109.302 605.859 M109.302 602.155 Q115.112 602.155 118.168 606.762 Q121.246 611.345 121.246 620.095 Q121.246 628.822 118.168 633.428 Q115.112 638.012 109.302 638.012 Q103.492 638.012 100.413 633.428 Q97.3576 628.822 97.3576 620.095 Q97.3576 611.345 100.413 606.762 Q103.492 602.155 109.302 602.155 Z\" fill=\"#000000\" fill-rule=\"nonzero\" fill-opacity=\"1\" /><path clip-path=\"url(#clip800)\" d=\"M143.631 618.706 Q146.987 619.424 148.862 621.692 Q150.76 623.961 150.76 627.294 Q150.76 632.41 147.242 635.211 Q143.723 638.012 137.242 638.012 Q135.066 638.012 132.751 637.572 Q130.459 637.155 128.006 636.299 L128.006 631.785 Q129.95 632.919 132.265 633.498 Q134.58 634.076 137.103 634.076 Q141.501 634.076 143.793 632.34 Q146.107 630.604 146.107 627.294 Q146.107 624.238 143.955 622.526 Q141.825 620.789 138.006 620.789 L133.978 620.789 L133.978 616.947 L138.191 616.947 Q141.64 616.947 143.468 615.581 Q145.297 614.192 145.297 611.6 Q145.297 608.938 143.399 607.526 Q141.524 606.09 138.006 606.09 Q136.084 606.09 133.885 606.507 Q131.686 606.924 129.047 607.803 L129.047 603.637 Q131.709 602.896 134.024 602.526 Q136.362 602.155 138.422 602.155 Q143.746 602.155 146.848 604.586 Q149.95 606.993 149.95 611.114 Q149.95 613.984 148.306 615.975 Q146.663 617.942 143.631 618.706 Z\" fill=\"#000000\" fill-rule=\"nonzero\" fill-opacity=\"1\" /><path clip-path=\"url(#clip800)\" d=\"M62.9365 330.633 Q59.3254 330.633 57.4967 334.198 Q55.6912 337.739 55.6912 344.869 Q55.6912 351.975 57.4967 355.54 Q59.3254 359.082 62.9365 359.082 Q66.5707 359.082 68.3763 355.54 Q70.205 351.975 70.205 344.869 Q70.205 337.739 68.3763 334.198 Q66.5707 330.633 62.9365 330.633 M62.9365 326.929 Q68.7467 326.929 71.8022 331.535 Q74.8809 336.119 74.8809 344.869 Q74.8809 353.596 71.8022 358.202 Q68.7467 362.785 62.9365 362.785 Q57.1264 362.785 54.0477 358.202 Q50.9921 353.596 50.9921 344.869 Q50.9921 336.119 54.0477 331.535 Q57.1264 326.929 62.9365 326.929 Z\" fill=\"#000000\" fill-rule=\"nonzero\" fill-opacity=\"1\" /><path clip-path=\"url(#clip800)\" d=\"M83.0984 356.234 L87.9827 356.234 L87.9827 362.114 L83.0984 362.114 L83.0984 356.234 Z\" fill=\"#000000\" fill-rule=\"nonzero\" fill-opacity=\"1\" /><path clip-path=\"url(#clip800)\" d=\"M108.168 330.633 Q104.557 330.633 102.728 334.198 Q100.922 337.739 100.922 344.869 Q100.922 351.975 102.728 355.54 Q104.557 359.082 108.168 359.082 Q111.802 359.082 113.608 355.54 Q115.436 351.975 115.436 344.869 Q115.436 337.739 113.608 334.198 Q111.802 330.633 108.168 330.633 M108.168 326.929 Q113.978 326.929 117.033 331.535 Q120.112 336.119 120.112 344.869 Q120.112 353.596 117.033 358.202 Q113.978 362.785 108.168 362.785 Q102.358 362.785 99.2789 358.202 Q96.2234 353.596 96.2234 344.869 Q96.2234 336.119 99.2789 331.535 Q102.358 326.929 108.168 326.929 Z\" fill=\"#000000\" fill-rule=\"nonzero\" fill-opacity=\"1\" /><path clip-path=\"url(#clip800)\" d=\"M141.177 331.628 L129.371 350.077 L141.177 350.077 L141.177 331.628 M139.95 327.554 L145.83 327.554 L145.83 350.077 L150.76 350.077 L150.76 353.966 L145.83 353.966 L145.83 362.114 L141.177 362.114 L141.177 353.966 L125.575 353.966 L125.575 349.452 L139.95 327.554 Z\" fill=\"#000000\" fill-rule=\"nonzero\" fill-opacity=\"1\" /><path clip-path=\"url(#clip800)\" d=\"M64.418 55.4065 Q60.8069 55.4065 58.9782 58.9713 Q57.1726 62.5129 57.1726 69.6425 Q57.1726 76.749 58.9782 80.3138 Q60.8069 83.8554 64.418 83.8554 Q68.0522 83.8554 69.8578 80.3138 Q71.6865 76.749 71.6865 69.6425 Q71.6865 62.5129 69.8578 58.9713 Q68.0522 55.4065 64.418 55.4065 M64.418 51.7028 Q70.2281 51.7028 73.2837 56.3093 Q76.3624 60.8926 76.3624 69.6425 Q76.3624 78.3693 73.2837 82.9758 Q70.2281 87.5591 64.418 87.5591 Q58.6078 87.5591 55.5291 82.9758 Q52.4736 78.3693 52.4736 69.6425 Q52.4736 60.8926 55.5291 56.3093 Q58.6078 51.7028 64.418 51.7028 Z\" fill=\"#000000\" fill-rule=\"nonzero\" fill-opacity=\"1\" /><path clip-path=\"url(#clip800)\" d=\"M84.5799 81.0082 L89.4641 81.0082 L89.4641 86.8878 L84.5799 86.8878 L84.5799 81.0082 Z\" fill=\"#000000\" fill-rule=\"nonzero\" fill-opacity=\"1\" /><path clip-path=\"url(#clip800)\" d=\"M109.649 55.4065 Q106.038 55.4065 104.209 58.9713 Q102.404 62.5129 102.404 69.6425 Q102.404 76.749 104.209 80.3138 Q106.038 83.8554 109.649 83.8554 Q113.283 83.8554 115.089 80.3138 Q116.918 76.749 116.918 69.6425 Q116.918 62.5129 115.089 58.9713 Q113.283 55.4065 109.649 55.4065 M109.649 51.7028 Q115.459 51.7028 118.515 56.3093 Q121.594 60.8926 121.594 69.6425 Q121.594 78.3693 118.515 82.9758 Q115.459 87.5591 109.649 87.5591 Q103.839 87.5591 100.76 82.9758 Q97.7048 78.3693 97.7048 69.6425 Q97.7048 60.8926 100.76 56.3093 Q103.839 51.7028 109.649 51.7028 Z\" fill=\"#000000\" fill-rule=\"nonzero\" fill-opacity=\"1\" /><path clip-path=\"url(#clip800)\" d=\"M129.857 52.3278 L148.214 52.3278 L148.214 56.263 L134.14 56.263 L134.14 64.7352 Q135.158 64.3879 136.177 64.2259 Q137.195 64.0407 138.214 64.0407 Q144.001 64.0407 147.38 67.212 Q150.76 70.3833 150.76 75.7999 Q150.76 81.3786 147.288 84.4804 Q143.816 87.5591 137.496 87.5591 Q135.32 87.5591 133.052 87.1887 Q130.807 86.8184 128.399 86.0776 L128.399 81.3786 Q130.482 82.5128 132.705 83.0684 Q134.927 83.6239 137.404 83.6239 Q141.408 83.6239 143.746 81.5175 Q146.084 79.411 146.084 75.7999 Q146.084 72.1888 143.746 70.0824 Q141.408 67.9759 137.404 67.9759 Q135.529 67.9759 133.654 68.3925 Q131.802 68.8092 129.857 69.6888 L129.857 52.3278 Z\" fill=\"#000000\" fill-rule=\"nonzero\" fill-opacity=\"1\" /><polyline clip-path=\"url(#clip802)\" style=\"stroke:#009af9; stroke-linecap:round; stroke-linejoin:round; stroke-width:4; stroke-opacity:1; fill:none\" points=\"248.062,1445.7 258.33,1445.7 268.598,1445.68 278.867,1445.64 289.135,1445.57 299.403,1445.45 309.672,1445.27 319.94,1444.98 330.208,1444.54 340.477,1443.89 350.745,1442.94 361.013,1441.6 371.282,1439.74 381.55,1437.23 391.818,1433.93 402.086,1429.67 412.355,1424.32 422.623,1417.76 432.891,1409.88 443.16,1400.65 453.428,1390.09 463.696,1378.29 473.965,1365.4 484.233,1351.62 494.501,1337.22 504.769,1322.48 515.038,1307.68 525.306,1293.08 535.574,1278.9 545.843,1265.29 556.111,1252.31 566.379,1239.94 576.648,1228.11 586.916,1216.64 597.184,1205.34 607.452,1193.96 617.721,1182.27 627.989,1170.05 638.257,1157.1 648.526,1143.29 658.794,1128.49 669.062,1112.66 679.331,1095.76 689.599,1077.79 699.867,1058.74 710.136,1038.61 720.404,1017.41 730.672,995.106 740.94,971.705 751.209,947.208 761.477,921.659 771.745,895.151 782.014,867.848 792.282,839.987 802.55,811.884 812.819,783.92 823.087,756.524 833.355,730.143 843.623,705.216 853.892,682.136 864.16,661.227 874.428,642.717 884.697,626.728 894.965,613.266 905.233,602.231 915.502,593.424 925.77,586.568 936.038,581.33 946.306,577.34 956.575,574.217 966.843,571.587 977.111,569.097 987.38,566.431 997.648,563.315 1007.92,559.523 1018.18,554.882 1028.45,549.271 1038.72,542.62 1048.99,534.912 1059.26,526.178 1069.53,516.498 1079.79,505.99 1090.06,494.811 1100.33,483.141 1110.6,471.175 1120.87,459.113 1131.14,447.145 1141.4,435.439 1151.67,424.137 1161.94,413.342 1172.21,403.12 1182.48,393.5 1192.75,384.473 1203.01,375.997 1213.28,368.001 1223.55,360.388 1233.82,353.037 1244.09,345.811 1254.36,338.557 1264.62,331.114 1274.89,323.327 1285.16,315.059 1295.43,306.204 1305.7,296.703 1315.97,286.555 1326.23,275.825 1336.5,264.642 1346.77,253.191 1357.04,241.696 1367.31,230.398 1377.58,219.532 1387.84,209.301 1398.11,199.859 1408.38,191.303 1418.65,183.661 1428.92,176.901 1439.19,170.944 1449.45,165.673 1459.72,160.952 1469.99,156.643 1480.26,152.616 1490.53,148.758 1500.79,144.986 1511.06,141.244 1521.33,137.51 1531.6,133.802 1541.87,130.172 1552.14,126.717 1562.4,123.575 1572.67,120.918 1582.94,118.953 1593.21,117.898 1603.48,117.969 1613.75,119.352 1624.01,122.175 1634.28,126.485 1644.55,132.224 1654.82,139.219 1665.09,147.178 1675.36,155.705 1685.62,164.317 1695.89,172.484 1706.16,179.661 1716.43,185.331 1726.7,189.04 1736.97,190.428 1747.23,189.259 1757.5,185.432 1767.77,178.995 1778.04,170.156 1788.31,159.278 1798.58,146.887 1808.84,133.664 1819.11,120.438 1829.38,108.166 1839.65,97.912 1849.92,90.801 1860.19,87.9763 1870.45,90.5399 1880.72,99.4915 1890.99,115.669 1901.26,139.692 1911.53,171.925 1921.8,212.446 1932.06,261.042 1942.33,317.214 1952.6,380.2 1962.87,449.01 1973.14,522.471 1983.41,599.271 1993.67,678.013 2003.94,757.269 2014.21,835.63 2024.48,911.759 2034.75,984.441 2045.01,1052.63 2055.28,1115.47 2065.55,1172.35 2075.82,1222.9 2086.09,1266.98 2096.36,1304.7 2106.62,1336.34 2116.89,1362.36 2127.16,1383.32 2137.43,1399.87 2147.7,1412.66 2157.97,1422.33 2168.23,1429.5 2178.5,1434.7 2188.77,1438.38 2199.04,1440.93 2209.31,1442.66 2219.58,1443.81 2229.84,1444.56 2240.11,1445.03 2250.38,1445.32 2260.65,1445.5 2270.92,1445.6 2281.19,1445.66 2291.45,1445.69 \"/>\n",
       "<polyline clip-path=\"url(#clip802)\" style=\"stroke:#e26f46; stroke-linecap:round; stroke-linejoin:round; stroke-width:4; stroke-opacity:1; fill:none\" points=\"267.57,1445.71 277.642,1445.7 287.714,1445.68 297.786,1445.63 307.859,1445.55 317.931,1445.41 328.003,1445.19 338.075,1444.84 348.148,1444.29 358.22,1443.46 368.292,1442.25 378.364,1440.52 388.437,1438.12 398.509,1434.85 408.581,1430.54 418.653,1424.99 428.726,1418.03 438.798,1409.51 448.87,1399.34 458.942,1387.5 469.015,1374.04 479.087,1359.1 489.159,1342.88 499.231,1325.64 509.304,1307.68 519.376,1289.3 529.448,1270.77 539.52,1252.33 549.593,1234.13 559.665,1216.27 569.737,1198.74 579.809,1181.48 589.882,1164.37 599.954,1147.22 610.026,1129.85 620.098,1112.08 630.171,1093.73 640.243,1074.67 650.315,1054.79 660.387,1034.04 670.459,1012.39 680.532,989.861 690.604,966.469 700.676,942.252 710.748,917.238 720.821,891.444 730.893,864.872 740.965,837.515 751.037,809.365 761.11,780.425 771.182,750.725 781.254,720.334 791.326,689.366 801.399,657.983 811.471,626.398 821.543,594.864 831.615,563.662 841.688,533.093 851.76,503.462 861.832,475.06 871.904,448.156 881.977,422.975 892.049,399.688 902.121,378.397 912.193,359.126 922.266,341.816 932.338,326.333 942.41,312.472 952.482,299.988 962.555,288.622 972.627,278.132 982.699,268.332 992.771,259.12 1002.84,250.491 1012.92,242.546 1022.99,235.473 1033.06,229.52 1043.13,224.949 1053.2,221.987 1063.28,220.775 1073.35,221.324 1083.42,223.487 1093.49,226.949 1103.57,231.244 1113.64,235.781 1123.71,239.905 1133.78,242.951 1143.85,244.317 1153.93,243.526 1164,240.272 1174.07,234.46 1184.14,226.209 1194.22,215.842 1204.29,203.847 1214.36,190.826 1224.43,177.433 1234.51,164.308 1244.58,152.023 1254.65,141.032 1264.72,131.646 1274.79,124.023 1284.87,118.171 1294.94,113.97 1305.01,111.199 1315.08,109.566 1325.16,108.75 1335.23,108.43 1345.3,108.322 1355.37,108.203 1365.44,107.94 1375.52,107.494 1385.59,106.931 1395.66,106.405 1405.73,106.139 1415.81,106.38 1425.88,107.363 1435.95,109.258 1446.02,112.131 1456.09,115.915 1466.17,120.405 1476.24,125.27 1486.31,130.094 1496.38,134.428 1506.46,137.859 1516.53,140.074 1526.6,140.917 1536.67,140.426 1546.74,138.844 1556.82,136.604 1566.89,134.289 1576.96,132.571 1587.03,132.145 1597.11,133.651 1607.18,137.61 1617.25,144.379 1627.32,154.116 1637.39,166.779 1647.47,182.139 1657.54,199.819 1667.61,219.343 1677.68,240.193 1687.76,261.858 1697.83,283.891 1707.9,305.935 1717.97,327.747 1728.05,349.197 1738.12,370.261 1748.19,390.991 1758.26,411.495 1768.33,431.9 1778.41,452.333 1788.48,472.902 1798.55,493.688 1808.62,514.757 1818.7,536.167 1828.77,557.991 1838.84,580.333 1848.91,603.348 1858.98,627.243 1869.06,652.272 1879.13,678.717 1889.2,706.861 1899.27,736.953 1909.35,769.17 1919.42,803.593 1929.49,840.181 1939.56,878.763 1949.63,919.045 1959.71,960.624 1969.78,1003.01 1979.85,1045.64 1989.92,1087.94 2000,1129.33 2010.07,1169.22 2020.14,1207.11 2030.21,1242.53 2040.28,1275.12 2050.36,1304.6 2060.43,1330.8 2070.5,1353.66 2080.57,1373.23 2090.65,1389.65 2100.72,1403.15 2110.79,1414.02 2120.86,1422.57 2130.93,1429.16 2141.01,1434.12 2151.08,1437.76 2161.15,1440.38 2171.22,1442.22 2181.3,1443.48 2191.37,1444.32 2201.44,1444.87 2211.51,1445.22 2221.59,1445.43 2231.66,1445.56 2241.73,1445.64 2251.8,1445.68 2261.87,1445.71 2271.95,1445.72 \"/>\n",
       "<path clip-path=\"url(#clip800)\" d=\"M258.96 250.738 L639.795 250.738 L639.795 95.2176 L258.96 95.2176  Z\" fill=\"#ffffff\" fill-rule=\"evenodd\" fill-opacity=\"1\"/>\n",
       "<polyline clip-path=\"url(#clip800)\" style=\"stroke:#000000; stroke-linecap:round; stroke-linejoin:round; stroke-width:4; stroke-opacity:1; fill:none\" points=\"258.96,250.738 639.795,250.738 639.795,95.2176 258.96,95.2176 258.96,250.738 \"/>\n",
       "<polyline clip-path=\"url(#clip800)\" style=\"stroke:#009af9; stroke-linecap:round; stroke-linejoin:round; stroke-width:4; stroke-opacity:1; fill:none\" points=\"283.027,147.058 427.426,147.058 \"/>\n",
       "<path clip-path=\"url(#clip800)\" d=\"M451.493 129.778 L458.46 129.778 L467.28 153.296 L476.146 129.778 L483.113 129.778 L483.113 164.338 L478.553 164.338 L478.553 133.99 L469.641 157.694 L464.942 157.694 L456.03 133.99 L456.03 164.338 L451.493 164.338 L451.493 129.778 Z\" fill=\"#000000\" fill-rule=\"nonzero\" fill-opacity=\"1\" /><path clip-path=\"url(#clip800)\" d=\"M503.993 151.305 Q498.831 151.305 496.84 152.486 Q494.849 153.666 494.849 156.514 Q494.849 158.782 496.331 160.125 Q497.835 161.444 500.405 161.444 Q503.946 161.444 506.076 158.944 Q508.229 156.421 508.229 152.254 L508.229 151.305 L503.993 151.305 M512.488 149.546 L512.488 164.338 L508.229 164.338 L508.229 160.402 Q506.77 162.763 504.594 163.898 Q502.419 165.009 499.27 165.009 Q495.289 165.009 492.928 162.787 Q490.59 160.541 490.59 156.791 Q490.59 152.416 493.507 150.194 Q496.446 147.972 502.257 147.972 L508.229 147.972 L508.229 147.555 Q508.229 144.615 506.284 143.018 Q504.363 141.398 500.868 141.398 Q498.645 141.398 496.539 141.93 Q494.433 142.463 492.488 143.527 L492.488 139.592 Q494.826 138.69 497.025 138.25 Q499.224 137.787 501.307 137.787 Q506.932 137.787 509.71 140.703 Q512.488 143.62 512.488 149.546 Z\" fill=\"#000000\" fill-rule=\"nonzero\" fill-opacity=\"1\" /><path clip-path=\"url(#clip800)\" d=\"M521.261 128.319 L525.52 128.319 L525.52 164.338 L521.261 164.338 L521.261 128.319 Z\" fill=\"#000000\" fill-rule=\"nonzero\" fill-opacity=\"1\" /><path clip-path=\"url(#clip800)\" d=\"M556.608 150.31 L556.608 152.393 L537.025 152.393 Q537.303 156.791 539.664 159.106 Q542.048 161.398 546.284 161.398 Q548.738 161.398 551.029 160.796 Q553.344 160.194 555.613 158.99 L555.613 163.018 Q553.321 163.99 550.914 164.5 Q548.506 165.009 546.029 165.009 Q539.826 165.009 536.192 161.398 Q532.58 157.787 532.58 151.629 Q532.58 145.264 536.006 141.537 Q539.455 137.787 545.289 137.787 Q550.52 137.787 553.553 141.166 Q556.608 144.523 556.608 150.31 M552.349 149.06 Q552.303 145.565 550.381 143.481 Q548.483 141.398 545.335 141.398 Q541.77 141.398 539.617 143.412 Q537.488 145.426 537.164 149.083 L552.349 149.06 Z\" fill=\"#000000\" fill-rule=\"nonzero\" fill-opacity=\"1\" /><polyline clip-path=\"url(#clip800)\" style=\"stroke:#e26f46; stroke-linecap:round; stroke-linejoin:round; stroke-width:4; stroke-opacity:1; fill:none\" points=\"283.027,198.898 427.426,198.898 \"/>\n",
       "<path clip-path=\"url(#clip800)\" d=\"M451.493 181.618 L471.354 181.618 L471.354 185.553 L456.169 185.553 L456.169 195.738 L469.872 195.738 L469.872 199.673 L456.169 199.673 L456.169 216.178 L451.493 216.178 L451.493 181.618 Z\" fill=\"#000000\" fill-rule=\"nonzero\" fill-opacity=\"1\" /><path clip-path=\"url(#clip800)\" d=\"M498.159 202.15 L498.159 204.233 L478.576 204.233 Q478.854 208.631 481.215 210.946 Q483.599 213.238 487.835 213.238 Q490.289 213.238 492.581 212.636 Q494.895 212.034 497.164 210.83 L497.164 214.858 Q494.872 215.83 492.465 216.34 Q490.058 216.849 487.581 216.849 Q481.377 216.849 477.743 213.238 Q474.132 209.627 474.132 203.469 Q474.132 197.104 477.558 193.377 Q481.007 189.627 486.84 189.627 Q492.071 189.627 495.104 193.006 Q498.159 196.363 498.159 202.15 M493.9 200.9 Q493.854 197.405 491.933 195.321 Q490.034 193.238 486.886 193.238 Q483.321 193.238 481.169 195.252 Q479.039 197.266 478.715 200.923 L493.9 200.9 Z\" fill=\"#000000\" fill-rule=\"nonzero\" fill-opacity=\"1\" /><path clip-path=\"url(#clip800)\" d=\"M525.335 195.229 Q526.932 192.358 529.155 190.993 Q531.377 189.627 534.386 189.627 Q538.437 189.627 540.636 192.474 Q542.835 195.298 542.835 200.529 L542.835 216.178 L538.553 216.178 L538.553 200.668 Q538.553 196.942 537.233 195.136 Q535.914 193.33 533.205 193.33 Q529.895 193.33 527.974 195.53 Q526.053 197.729 526.053 201.525 L526.053 216.178 L521.77 216.178 L521.77 200.668 Q521.77 196.918 520.451 195.136 Q519.131 193.33 516.377 193.33 Q513.113 193.33 511.192 195.553 Q509.27 197.752 509.27 201.525 L509.27 216.178 L504.988 216.178 L504.988 190.252 L509.27 190.252 L509.27 194.28 Q510.729 191.895 512.766 190.761 Q514.803 189.627 517.604 189.627 Q520.428 189.627 522.395 191.062 Q524.386 192.497 525.335 195.229 Z\" fill=\"#000000\" fill-rule=\"nonzero\" fill-opacity=\"1\" /><path clip-path=\"url(#clip800)\" d=\"M563.113 203.145 Q557.951 203.145 555.96 204.326 Q553.969 205.506 553.969 208.354 Q553.969 210.622 555.451 211.965 Q556.955 213.284 559.525 213.284 Q563.066 213.284 565.196 210.784 Q567.349 208.261 567.349 204.094 L567.349 203.145 L563.113 203.145 M571.608 201.386 L571.608 216.178 L567.349 216.178 L567.349 212.242 Q565.89 214.603 563.715 215.738 Q561.539 216.849 558.391 216.849 Q554.409 216.849 552.048 214.627 Q549.71 212.381 549.71 208.631 Q549.71 204.256 552.627 202.034 Q555.566 199.812 561.377 199.812 L567.349 199.812 L567.349 199.395 Q567.349 196.455 565.404 194.858 Q563.483 193.238 559.988 193.238 Q557.766 193.238 555.659 193.77 Q553.553 194.303 551.608 195.367 L551.608 191.432 Q553.946 190.53 556.145 190.09 Q558.344 189.627 560.428 189.627 Q566.053 189.627 568.83 192.543 Q571.608 195.46 571.608 201.386 Z\" fill=\"#000000\" fill-rule=\"nonzero\" fill-opacity=\"1\" /><path clip-path=\"url(#clip800)\" d=\"M580.381 180.159 L584.64 180.159 L584.64 216.178 L580.381 216.178 L580.381 180.159 Z\" fill=\"#000000\" fill-rule=\"nonzero\" fill-opacity=\"1\" /><path clip-path=\"url(#clip800)\" d=\"M615.728 202.15 L615.728 204.233 L596.145 204.233 Q596.423 208.631 598.784 210.946 Q601.168 213.238 605.404 213.238 Q607.858 213.238 610.149 212.636 Q612.464 212.034 614.733 210.83 L614.733 214.858 Q612.441 215.83 610.034 216.34 Q607.626 216.849 605.15 216.849 Q598.946 216.849 595.312 213.238 Q591.701 209.627 591.701 203.469 Q591.701 197.104 595.126 193.377 Q598.575 189.627 604.409 189.627 Q609.64 189.627 612.673 193.006 Q615.728 196.363 615.728 202.15 M611.469 200.9 Q611.423 197.405 609.501 195.321 Q607.603 193.238 604.455 193.238 Q600.89 193.238 598.738 195.252 Q596.608 197.266 596.284 200.923 L611.469 200.9 Z\" fill=\"#000000\" fill-rule=\"nonzero\" fill-opacity=\"1\" /></svg>\n"
      ],
      "text/html": [
       "<?xml version=\"1.0\" encoding=\"utf-8\"?>\n",
       "<svg xmlns=\"http://www.w3.org/2000/svg\" xmlns:xlink=\"http://www.w3.org/1999/xlink\" width=\"600\" height=\"400\" viewBox=\"0 0 2400 1600\">\n",
       "<defs>\n",
       "  <clipPath id=\"clip850\">\n",
       "    <rect x=\"0\" y=\"0\" width=\"2400\" height=\"1600\"/>\n",
       "  </clipPath>\n",
       "</defs>\n",
       "<path clip-path=\"url(#clip850)\" d=\"M0 1600 L2400 1600 L2400 8.88178e-14 L0 8.88178e-14  Z\" fill=\"#ffffff\" fill-rule=\"evenodd\" fill-opacity=\"1\"/>\n",
       "<defs>\n",
       "  <clipPath id=\"clip851\">\n",
       "    <rect x=\"480\" y=\"0\" width=\"1681\" height=\"1600\"/>\n",
       "  </clipPath>\n",
       "</defs>\n",
       "<path clip-path=\"url(#clip850)\" d=\"M186.76 1486.45 L2352.76 1486.45 L2352.76 47.2441 L186.76 47.2441  Z\" fill=\"#ffffff\" fill-rule=\"evenodd\" fill-opacity=\"1\"/>\n",
       "<defs>\n",
       "  <clipPath id=\"clip852\">\n",
       "    <rect x=\"186\" y=\"47\" width=\"2167\" height=\"1440\"/>\n",
       "  </clipPath>\n",
       "</defs>\n",
       "<polyline clip-path=\"url(#clip852)\" style=\"stroke:#000000; stroke-linecap:round; stroke-linejoin:round; stroke-width:2; stroke-opacity:0.1; fill:none\" points=\"670.176,1486.45 670.176,47.2441 \"/>\n",
       "<polyline clip-path=\"url(#clip852)\" style=\"stroke:#000000; stroke-linecap:round; stroke-linejoin:round; stroke-width:2; stroke-opacity:0.1; fill:none\" points=\"1211.29,1486.45 1211.29,47.2441 \"/>\n",
       "<polyline clip-path=\"url(#clip852)\" style=\"stroke:#000000; stroke-linecap:round; stroke-linejoin:round; stroke-width:2; stroke-opacity:0.1; fill:none\" points=\"1752.41,1486.45 1752.41,47.2441 \"/>\n",
       "<polyline clip-path=\"url(#clip852)\" style=\"stroke:#000000; stroke-linecap:round; stroke-linejoin:round; stroke-width:2; stroke-opacity:0.1; fill:none\" points=\"2293.52,1486.45 2293.52,47.2441 \"/>\n",
       "<polyline clip-path=\"url(#clip850)\" style=\"stroke:#000000; stroke-linecap:round; stroke-linejoin:round; stroke-width:4; stroke-opacity:1; fill:none\" points=\"186.76,1486.45 2352.76,1486.45 \"/>\n",
       "<polyline clip-path=\"url(#clip850)\" style=\"stroke:#000000; stroke-linecap:round; stroke-linejoin:round; stroke-width:4; stroke-opacity:1; fill:none\" points=\"670.176,1486.45 670.176,1467.55 \"/>\n",
       "<polyline clip-path=\"url(#clip850)\" style=\"stroke:#000000; stroke-linecap:round; stroke-linejoin:round; stroke-width:4; stroke-opacity:1; fill:none\" points=\"1211.29,1486.45 1211.29,1467.55 \"/>\n",
       "<polyline clip-path=\"url(#clip850)\" style=\"stroke:#000000; stroke-linecap:round; stroke-linejoin:round; stroke-width:4; stroke-opacity:1; fill:none\" points=\"1752.41,1486.45 1752.41,1467.55 \"/>\n",
       "<polyline clip-path=\"url(#clip850)\" style=\"stroke:#000000; stroke-linecap:round; stroke-linejoin:round; stroke-width:4; stroke-opacity:1; fill:none\" points=\"2293.52,1486.45 2293.52,1467.55 \"/>\n",
       "<path clip-path=\"url(#clip850)\" d=\"M670.176 1517.37 Q666.564 1517.37 664.736 1520.93 Q662.93 1524.47 662.93 1531.6 Q662.93 1538.71 664.736 1542.27 Q666.564 1545.82 670.176 1545.82 Q673.81 1545.82 675.615 1542.27 Q677.444 1538.71 677.444 1531.6 Q677.444 1524.47 675.615 1520.93 Q673.81 1517.37 670.176 1517.37 M670.176 1513.66 Q675.986 1513.66 679.041 1518.27 Q682.12 1522.85 682.12 1531.6 Q682.12 1540.33 679.041 1544.94 Q675.986 1549.52 670.176 1549.52 Q664.365 1549.52 661.287 1544.94 Q658.231 1540.33 658.231 1531.6 Q658.231 1522.85 661.287 1518.27 Q664.365 1513.66 670.176 1513.66 Z\" fill=\"#000000\" fill-rule=\"nonzero\" fill-opacity=\"1\" /><path clip-path=\"url(#clip850)\" d=\"M1185.98 1544.91 L1193.62 1544.91 L1193.62 1518.55 L1185.31 1520.21 L1185.31 1515.95 L1193.57 1514.29 L1198.25 1514.29 L1198.25 1544.91 L1205.89 1544.91 L1205.89 1548.85 L1185.98 1548.85 L1185.98 1544.91 Z\" fill=\"#000000\" fill-rule=\"nonzero\" fill-opacity=\"1\" /><path clip-path=\"url(#clip850)\" d=\"M1225.33 1517.37 Q1221.72 1517.37 1219.89 1520.93 Q1218.08 1524.47 1218.08 1531.6 Q1218.08 1538.71 1219.89 1542.27 Q1221.72 1545.82 1225.33 1545.82 Q1228.96 1545.82 1230.77 1542.27 Q1232.6 1538.71 1232.6 1531.6 Q1232.6 1524.47 1230.77 1520.93 Q1228.96 1517.37 1225.33 1517.37 M1225.33 1513.66 Q1231.14 1513.66 1234.2 1518.27 Q1237.27 1522.85 1237.27 1531.6 Q1237.27 1540.33 1234.2 1544.94 Q1231.14 1549.52 1225.33 1549.52 Q1219.52 1549.52 1216.44 1544.94 Q1213.39 1540.33 1213.39 1531.6 Q1213.39 1522.85 1216.44 1518.27 Q1219.52 1513.66 1225.33 1513.66 Z\" fill=\"#000000\" fill-rule=\"nonzero\" fill-opacity=\"1\" /><path clip-path=\"url(#clip850)\" d=\"M1731.18 1544.91 L1747.5 1544.91 L1747.5 1548.85 L1725.55 1548.85 L1725.55 1544.91 Q1728.22 1542.16 1732.8 1537.53 Q1737.41 1532.88 1738.59 1531.53 Q1740.83 1529.01 1741.71 1527.27 Q1742.61 1525.51 1742.61 1523.82 Q1742.61 1521.07 1740.67 1519.33 Q1738.75 1517.6 1735.65 1517.6 Q1733.45 1517.6 1730.99 1518.36 Q1728.56 1519.13 1725.79 1520.68 L1725.79 1515.95 Q1728.61 1514.82 1731.06 1514.24 Q1733.52 1513.66 1735.55 1513.66 Q1740.92 1513.66 1744.12 1516.35 Q1747.31 1519.03 1747.31 1523.52 Q1747.31 1525.65 1746.5 1527.57 Q1745.72 1529.47 1743.61 1532.07 Q1743.03 1532.74 1739.93 1535.95 Q1736.83 1539.15 1731.18 1544.91 Z\" fill=\"#000000\" fill-rule=\"nonzero\" fill-opacity=\"1\" /><path clip-path=\"url(#clip850)\" d=\"M1767.31 1517.37 Q1763.7 1517.37 1761.87 1520.93 Q1760.07 1524.47 1760.07 1531.6 Q1760.07 1538.71 1761.87 1542.27 Q1763.7 1545.82 1767.31 1545.82 Q1770.95 1545.82 1772.75 1542.27 Q1774.58 1538.71 1774.58 1531.6 Q1774.58 1524.47 1772.75 1520.93 Q1770.95 1517.37 1767.31 1517.37 M1767.31 1513.66 Q1773.12 1513.66 1776.18 1518.27 Q1779.26 1522.85 1779.26 1531.6 Q1779.26 1540.33 1776.18 1544.94 Q1773.12 1549.52 1767.31 1549.52 Q1761.5 1549.52 1758.42 1544.94 Q1755.37 1540.33 1755.37 1531.6 Q1755.37 1522.85 1758.42 1518.27 Q1761.5 1513.66 1767.31 1513.66 Z\" fill=\"#000000\" fill-rule=\"nonzero\" fill-opacity=\"1\" /><path clip-path=\"url(#clip850)\" d=\"M2282.36 1530.21 Q2285.72 1530.93 2287.59 1533.2 Q2289.49 1535.47 2289.49 1538.8 Q2289.49 1543.92 2285.97 1546.72 Q2282.46 1549.52 2275.97 1549.52 Q2273.8 1549.52 2271.48 1549.08 Q2269.19 1548.66 2266.74 1547.81 L2266.74 1543.29 Q2268.68 1544.43 2271 1545.01 Q2273.31 1545.58 2275.84 1545.58 Q2280.23 1545.58 2282.53 1543.85 Q2284.84 1542.11 2284.84 1538.8 Q2284.84 1535.75 2282.69 1534.03 Q2280.56 1532.3 2276.74 1532.3 L2272.71 1532.3 L2272.71 1528.45 L2276.92 1528.45 Q2280.37 1528.45 2282.2 1527.09 Q2284.03 1525.7 2284.03 1523.11 Q2284.03 1520.45 2282.13 1519.03 Q2280.26 1517.6 2276.74 1517.6 Q2274.82 1517.6 2272.62 1518.01 Q2270.42 1518.43 2267.78 1519.31 L2267.78 1515.14 Q2270.44 1514.4 2272.76 1514.03 Q2275.09 1513.66 2277.15 1513.66 Q2282.48 1513.66 2285.58 1516.09 Q2288.68 1518.5 2288.68 1522.62 Q2288.68 1525.49 2287.04 1527.48 Q2285.4 1529.45 2282.36 1530.21 Z\" fill=\"#000000\" fill-rule=\"nonzero\" fill-opacity=\"1\" /><path clip-path=\"url(#clip850)\" d=\"M2308.36 1517.37 Q2304.75 1517.37 2302.92 1520.93 Q2301.11 1524.47 2301.11 1531.6 Q2301.11 1538.71 2302.92 1542.27 Q2304.75 1545.82 2308.36 1545.82 Q2311.99 1545.82 2313.8 1542.27 Q2315.63 1538.71 2315.63 1531.6 Q2315.63 1524.47 2313.8 1520.93 Q2311.99 1517.37 2308.36 1517.37 M2308.36 1513.66 Q2314.17 1513.66 2317.22 1518.27 Q2320.3 1522.85 2320.3 1531.6 Q2320.3 1540.33 2317.22 1544.94 Q2314.17 1549.52 2308.36 1549.52 Q2302.55 1549.52 2299.47 1544.94 Q2296.41 1540.33 2296.41 1531.6 Q2296.41 1522.85 2299.47 1518.27 Q2302.55 1513.66 2308.36 1513.66 Z\" fill=\"#000000\" fill-rule=\"nonzero\" fill-opacity=\"1\" /><polyline clip-path=\"url(#clip852)\" style=\"stroke:#000000; stroke-linecap:round; stroke-linejoin:round; stroke-width:2; stroke-opacity:0.1; fill:none\" points=\"186.76,1445.74 2352.76,1445.74 \"/>\n",
       "<polyline clip-path=\"url(#clip852)\" style=\"stroke:#000000; stroke-linecap:round; stroke-linejoin:round; stroke-width:2; stroke-opacity:0.1; fill:none\" points=\"186.76,1170.51 2352.76,1170.51 \"/>\n",
       "<polyline clip-path=\"url(#clip852)\" style=\"stroke:#000000; stroke-linecap:round; stroke-linejoin:round; stroke-width:2; stroke-opacity:0.1; fill:none\" points=\"186.76,895.286 2352.76,895.286 \"/>\n",
       "<polyline clip-path=\"url(#clip852)\" style=\"stroke:#000000; stroke-linecap:round; stroke-linejoin:round; stroke-width:2; stroke-opacity:0.1; fill:none\" points=\"186.76,620.06 2352.76,620.06 \"/>\n",
       "<polyline clip-path=\"url(#clip852)\" style=\"stroke:#000000; stroke-linecap:round; stroke-linejoin:round; stroke-width:2; stroke-opacity:0.1; fill:none\" points=\"186.76,344.834 2352.76,344.834 \"/>\n",
       "<polyline clip-path=\"url(#clip852)\" style=\"stroke:#000000; stroke-linecap:round; stroke-linejoin:round; stroke-width:2; stroke-opacity:0.1; fill:none\" points=\"186.76,69.6078 2352.76,69.6078 \"/>\n",
       "<polyline clip-path=\"url(#clip850)\" style=\"stroke:#000000; stroke-linecap:round; stroke-linejoin:round; stroke-width:4; stroke-opacity:1; fill:none\" points=\"186.76,1486.45 186.76,47.2441 \"/>\n",
       "<polyline clip-path=\"url(#clip850)\" style=\"stroke:#000000; stroke-linecap:round; stroke-linejoin:round; stroke-width:4; stroke-opacity:1; fill:none\" points=\"186.76,1445.74 205.658,1445.74 \"/>\n",
       "<polyline clip-path=\"url(#clip850)\" style=\"stroke:#000000; stroke-linecap:round; stroke-linejoin:round; stroke-width:4; stroke-opacity:1; fill:none\" points=\"186.76,1170.51 205.658,1170.51 \"/>\n",
       "<polyline clip-path=\"url(#clip850)\" style=\"stroke:#000000; stroke-linecap:round; stroke-linejoin:round; stroke-width:4; stroke-opacity:1; fill:none\" points=\"186.76,895.286 205.658,895.286 \"/>\n",
       "<polyline clip-path=\"url(#clip850)\" style=\"stroke:#000000; stroke-linecap:round; stroke-linejoin:round; stroke-width:4; stroke-opacity:1; fill:none\" points=\"186.76,620.06 205.658,620.06 \"/>\n",
       "<polyline clip-path=\"url(#clip850)\" style=\"stroke:#000000; stroke-linecap:round; stroke-linejoin:round; stroke-width:4; stroke-opacity:1; fill:none\" points=\"186.76,344.834 205.658,344.834 \"/>\n",
       "<polyline clip-path=\"url(#clip850)\" style=\"stroke:#000000; stroke-linecap:round; stroke-linejoin:round; stroke-width:4; stroke-opacity:1; fill:none\" points=\"186.76,69.6078 205.658,69.6078 \"/>\n",
       "<path clip-path=\"url(#clip850)\" d=\"M63.4226 1431.54 Q59.8115 1431.54 57.9828 1435.1 Q56.1773 1438.64 56.1773 1445.77 Q56.1773 1452.88 57.9828 1456.44 Q59.8115 1459.99 63.4226 1459.99 Q67.0569 1459.99 68.8624 1456.44 Q70.6911 1452.88 70.6911 1445.77 Q70.6911 1438.64 68.8624 1435.1 Q67.0569 1431.54 63.4226 1431.54 M63.4226 1427.83 Q69.2328 1427.83 72.2883 1432.44 Q75.367 1437.02 75.367 1445.77 Q75.367 1454.5 72.2883 1459.11 Q69.2328 1463.69 63.4226 1463.69 Q57.6125 1463.69 54.5338 1459.11 Q51.4782 1454.5 51.4782 1445.77 Q51.4782 1437.02 54.5338 1432.44 Q57.6125 1427.83 63.4226 1427.83 Z\" fill=\"#000000\" fill-rule=\"nonzero\" fill-opacity=\"1\" /><path clip-path=\"url(#clip850)\" d=\"M83.5845 1457.14 L88.4688 1457.14 L88.4688 1463.02 L83.5845 1463.02 L83.5845 1457.14 Z\" fill=\"#000000\" fill-rule=\"nonzero\" fill-opacity=\"1\" /><path clip-path=\"url(#clip850)\" d=\"M108.654 1431.54 Q105.043 1431.54 103.214 1435.1 Q101.409 1438.64 101.409 1445.77 Q101.409 1452.88 103.214 1456.44 Q105.043 1459.99 108.654 1459.99 Q112.288 1459.99 114.094 1456.44 Q115.922 1452.88 115.922 1445.77 Q115.922 1438.64 114.094 1435.1 Q112.288 1431.54 108.654 1431.54 M108.654 1427.83 Q114.464 1427.83 117.52 1432.44 Q120.598 1437.02 120.598 1445.77 Q120.598 1454.5 117.52 1459.11 Q114.464 1463.69 108.654 1463.69 Q102.844 1463.69 99.765 1459.11 Q96.7095 1454.5 96.7095 1445.77 Q96.7095 1437.02 99.765 1432.44 Q102.844 1427.83 108.654 1427.83 Z\" fill=\"#000000\" fill-rule=\"nonzero\" fill-opacity=\"1\" /><path clip-path=\"url(#clip850)\" d=\"M138.816 1431.54 Q135.205 1431.54 133.376 1435.1 Q131.57 1438.64 131.57 1445.77 Q131.57 1452.88 133.376 1456.44 Q135.205 1459.99 138.816 1459.99 Q142.45 1459.99 144.256 1456.44 Q146.084 1452.88 146.084 1445.77 Q146.084 1438.64 144.256 1435.1 Q142.45 1431.54 138.816 1431.54 M138.816 1427.83 Q144.626 1427.83 147.681 1432.44 Q150.76 1437.02 150.76 1445.77 Q150.76 1454.5 147.681 1459.11 Q144.626 1463.69 138.816 1463.69 Q133.006 1463.69 129.927 1459.11 Q126.871 1454.5 126.871 1445.77 Q126.871 1437.02 129.927 1432.44 Q133.006 1427.83 138.816 1427.83 Z\" fill=\"#000000\" fill-rule=\"nonzero\" fill-opacity=\"1\" /><path clip-path=\"url(#clip850)\" d=\"M64.6495 1156.31 Q61.0384 1156.31 59.2097 1159.88 Q57.4041 1163.42 57.4041 1170.55 Q57.4041 1177.65 59.2097 1181.22 Q61.0384 1184.76 64.6495 1184.76 Q68.2837 1184.76 70.0892 1181.22 Q71.9179 1177.65 71.9179 1170.55 Q71.9179 1163.42 70.0892 1159.88 Q68.2837 1156.31 64.6495 1156.31 M64.6495 1152.61 Q70.4596 1152.61 73.5152 1157.21 Q76.5938 1161.8 76.5938 1170.55 Q76.5938 1179.27 73.5152 1183.88 Q70.4596 1188.46 64.6495 1188.46 Q58.8393 1188.46 55.7606 1183.88 Q52.7051 1179.27 52.7051 1170.55 Q52.7051 1161.8 55.7606 1157.21 Q58.8393 1152.61 64.6495 1152.61 Z\" fill=\"#000000\" fill-rule=\"nonzero\" fill-opacity=\"1\" /><path clip-path=\"url(#clip850)\" d=\"M84.8114 1181.91 L89.6956 1181.91 L89.6956 1187.79 L84.8114 1187.79 L84.8114 1181.91 Z\" fill=\"#000000\" fill-rule=\"nonzero\" fill-opacity=\"1\" /><path clip-path=\"url(#clip850)\" d=\"M109.881 1156.31 Q106.27 1156.31 104.441 1159.88 Q102.635 1163.42 102.635 1170.55 Q102.635 1177.65 104.441 1181.22 Q106.27 1184.76 109.881 1184.76 Q113.515 1184.76 115.32 1181.22 Q117.149 1177.65 117.149 1170.55 Q117.149 1163.42 115.32 1159.88 Q113.515 1156.31 109.881 1156.31 M109.881 1152.61 Q115.691 1152.61 118.746 1157.21 Q121.825 1161.8 121.825 1170.55 Q121.825 1179.27 118.746 1183.88 Q115.691 1188.46 109.881 1188.46 Q104.071 1188.46 100.992 1183.88 Q97.9363 1179.27 97.9363 1170.55 Q97.9363 1161.8 100.992 1157.21 Q104.071 1152.61 109.881 1152.61 Z\" fill=\"#000000\" fill-rule=\"nonzero\" fill-opacity=\"1\" /><path clip-path=\"url(#clip850)\" d=\"M130.853 1183.86 L138.492 1183.86 L138.492 1157.49 L130.182 1159.16 L130.182 1154.9 L138.445 1153.23 L143.121 1153.23 L143.121 1183.86 L150.76 1183.86 L150.76 1187.79 L130.853 1187.79 L130.853 1183.86 Z\" fill=\"#000000\" fill-rule=\"nonzero\" fill-opacity=\"1\" /><path clip-path=\"url(#clip850)\" d=\"M65.0198 881.085 Q61.4087 881.085 59.58 884.65 Q57.7745 888.192 57.7745 895.321 Q57.7745 902.428 59.58 905.992 Q61.4087 909.534 65.0198 909.534 Q68.6541 909.534 70.4596 905.992 Q72.2883 902.428 72.2883 895.321 Q72.2883 888.192 70.4596 884.65 Q68.6541 881.085 65.0198 881.085 M65.0198 877.381 Q70.83 877.381 73.8855 881.988 Q76.9642 886.571 76.9642 895.321 Q76.9642 904.048 73.8855 908.654 Q70.83 913.238 65.0198 913.238 Q59.2097 913.238 56.131 908.654 Q53.0754 904.048 53.0754 895.321 Q53.0754 886.571 56.131 881.988 Q59.2097 877.381 65.0198 877.381 Z\" fill=\"#000000\" fill-rule=\"nonzero\" fill-opacity=\"1\" /><path clip-path=\"url(#clip850)\" d=\"M85.1818 906.687 L90.066 906.687 L90.066 912.566 L85.1818 912.566 L85.1818 906.687 Z\" fill=\"#000000\" fill-rule=\"nonzero\" fill-opacity=\"1\" /><path clip-path=\"url(#clip850)\" d=\"M110.251 881.085 Q106.64 881.085 104.811 884.65 Q103.006 888.192 103.006 895.321 Q103.006 902.428 104.811 905.992 Q106.64 909.534 110.251 909.534 Q113.885 909.534 115.691 905.992 Q117.52 902.428 117.52 895.321 Q117.52 888.192 115.691 884.65 Q113.885 881.085 110.251 881.085 M110.251 877.381 Q116.061 877.381 119.117 881.988 Q122.195 886.571 122.195 895.321 Q122.195 904.048 119.117 908.654 Q116.061 913.238 110.251 913.238 Q104.441 913.238 101.362 908.654 Q98.3067 904.048 98.3067 895.321 Q98.3067 886.571 101.362 881.988 Q104.441 877.381 110.251 877.381 Z\" fill=\"#000000\" fill-rule=\"nonzero\" fill-opacity=\"1\" /><path clip-path=\"url(#clip850)\" d=\"M134.441 908.631 L150.76 908.631 L150.76 912.566 L128.816 912.566 L128.816 908.631 Q131.478 905.877 136.061 901.247 Q140.668 896.594 141.848 895.252 Q144.093 892.729 144.973 890.993 Q145.876 889.233 145.876 887.543 Q145.876 884.789 143.931 883.053 Q142.01 881.317 138.908 881.317 Q136.709 881.317 134.256 882.081 Q131.825 882.844 129.047 884.395 L129.047 879.673 Q131.871 878.539 134.325 877.96 Q136.779 877.381 138.816 877.381 Q144.186 877.381 147.38 880.067 Q150.575 882.752 150.575 887.243 Q150.575 889.372 149.765 891.293 Q148.978 893.192 146.871 895.784 Q146.293 896.455 143.191 899.673 Q140.089 902.867 134.441 908.631 Z\" fill=\"#000000\" fill-rule=\"nonzero\" fill-opacity=\"1\" /><path clip-path=\"url(#clip850)\" d=\"M64.0708 605.859 Q60.4597 605.859 58.631 609.424 Q56.8254 612.965 56.8254 620.095 Q56.8254 627.201 58.631 630.766 Q60.4597 634.308 64.0708 634.308 Q67.705 634.308 69.5105 630.766 Q71.3392 627.201 71.3392 620.095 Q71.3392 612.965 69.5105 609.424 Q67.705 605.859 64.0708 605.859 M64.0708 602.155 Q69.8809 602.155 72.9365 606.762 Q76.0151 611.345 76.0151 620.095 Q76.0151 628.822 72.9365 633.428 Q69.8809 638.012 64.0708 638.012 Q58.2606 638.012 55.1819 633.428 Q52.1264 628.822 52.1264 620.095 Q52.1264 611.345 55.1819 606.762 Q58.2606 602.155 64.0708 602.155 Z\" fill=\"#000000\" fill-rule=\"nonzero\" fill-opacity=\"1\" /><path clip-path=\"url(#clip850)\" d=\"M84.2327 631.461 L89.1169 631.461 L89.1169 637.34 L84.2327 637.34 L84.2327 631.461 Z\" fill=\"#000000\" fill-rule=\"nonzero\" fill-opacity=\"1\" /><path clip-path=\"url(#clip850)\" d=\"M109.302 605.859 Q105.691 605.859 103.862 609.424 Q102.057 612.965 102.057 620.095 Q102.057 627.201 103.862 630.766 Q105.691 634.308 109.302 634.308 Q112.936 634.308 114.742 630.766 Q116.57 627.201 116.57 620.095 Q116.57 612.965 114.742 609.424 Q112.936 605.859 109.302 605.859 M109.302 602.155 Q115.112 602.155 118.168 606.762 Q121.246 611.345 121.246 620.095 Q121.246 628.822 118.168 633.428 Q115.112 638.012 109.302 638.012 Q103.492 638.012 100.413 633.428 Q97.3576 628.822 97.3576 620.095 Q97.3576 611.345 100.413 606.762 Q103.492 602.155 109.302 602.155 Z\" fill=\"#000000\" fill-rule=\"nonzero\" fill-opacity=\"1\" /><path clip-path=\"url(#clip850)\" d=\"M143.631 618.706 Q146.987 619.424 148.862 621.692 Q150.76 623.961 150.76 627.294 Q150.76 632.41 147.242 635.211 Q143.723 638.012 137.242 638.012 Q135.066 638.012 132.751 637.572 Q130.459 637.155 128.006 636.299 L128.006 631.785 Q129.95 632.919 132.265 633.498 Q134.58 634.076 137.103 634.076 Q141.501 634.076 143.793 632.34 Q146.107 630.604 146.107 627.294 Q146.107 624.238 143.955 622.526 Q141.825 620.789 138.006 620.789 L133.978 620.789 L133.978 616.947 L138.191 616.947 Q141.64 616.947 143.468 615.581 Q145.297 614.192 145.297 611.6 Q145.297 608.938 143.399 607.526 Q141.524 606.09 138.006 606.09 Q136.084 606.09 133.885 606.507 Q131.686 606.924 129.047 607.803 L129.047 603.637 Q131.709 602.896 134.024 602.526 Q136.362 602.155 138.422 602.155 Q143.746 602.155 146.848 604.586 Q149.95 606.993 149.95 611.114 Q149.95 613.984 148.306 615.975 Q146.663 617.942 143.631 618.706 Z\" fill=\"#000000\" fill-rule=\"nonzero\" fill-opacity=\"1\" /><path clip-path=\"url(#clip850)\" d=\"M62.9365 330.633 Q59.3254 330.633 57.4967 334.198 Q55.6912 337.739 55.6912 344.869 Q55.6912 351.975 57.4967 355.54 Q59.3254 359.082 62.9365 359.082 Q66.5707 359.082 68.3763 355.54 Q70.205 351.975 70.205 344.869 Q70.205 337.739 68.3763 334.198 Q66.5707 330.633 62.9365 330.633 M62.9365 326.929 Q68.7467 326.929 71.8022 331.535 Q74.8809 336.119 74.8809 344.869 Q74.8809 353.596 71.8022 358.202 Q68.7467 362.785 62.9365 362.785 Q57.1264 362.785 54.0477 358.202 Q50.9921 353.596 50.9921 344.869 Q50.9921 336.119 54.0477 331.535 Q57.1264 326.929 62.9365 326.929 Z\" fill=\"#000000\" fill-rule=\"nonzero\" fill-opacity=\"1\" /><path clip-path=\"url(#clip850)\" d=\"M83.0984 356.234 L87.9827 356.234 L87.9827 362.114 L83.0984 362.114 L83.0984 356.234 Z\" fill=\"#000000\" fill-rule=\"nonzero\" fill-opacity=\"1\" /><path clip-path=\"url(#clip850)\" d=\"M108.168 330.633 Q104.557 330.633 102.728 334.198 Q100.922 337.739 100.922 344.869 Q100.922 351.975 102.728 355.54 Q104.557 359.082 108.168 359.082 Q111.802 359.082 113.608 355.54 Q115.436 351.975 115.436 344.869 Q115.436 337.739 113.608 334.198 Q111.802 330.633 108.168 330.633 M108.168 326.929 Q113.978 326.929 117.033 331.535 Q120.112 336.119 120.112 344.869 Q120.112 353.596 117.033 358.202 Q113.978 362.785 108.168 362.785 Q102.358 362.785 99.2789 358.202 Q96.2234 353.596 96.2234 344.869 Q96.2234 336.119 99.2789 331.535 Q102.358 326.929 108.168 326.929 Z\" fill=\"#000000\" fill-rule=\"nonzero\" fill-opacity=\"1\" /><path clip-path=\"url(#clip850)\" d=\"M141.177 331.628 L129.371 350.077 L141.177 350.077 L141.177 331.628 M139.95 327.554 L145.83 327.554 L145.83 350.077 L150.76 350.077 L150.76 353.966 L145.83 353.966 L145.83 362.114 L141.177 362.114 L141.177 353.966 L125.575 353.966 L125.575 349.452 L139.95 327.554 Z\" fill=\"#000000\" fill-rule=\"nonzero\" fill-opacity=\"1\" /><path clip-path=\"url(#clip850)\" d=\"M64.418 55.4065 Q60.8069 55.4065 58.9782 58.9713 Q57.1726 62.5129 57.1726 69.6425 Q57.1726 76.749 58.9782 80.3138 Q60.8069 83.8554 64.418 83.8554 Q68.0522 83.8554 69.8578 80.3138 Q71.6865 76.749 71.6865 69.6425 Q71.6865 62.5129 69.8578 58.9713 Q68.0522 55.4065 64.418 55.4065 M64.418 51.7028 Q70.2281 51.7028 73.2837 56.3093 Q76.3624 60.8926 76.3624 69.6425 Q76.3624 78.3693 73.2837 82.9758 Q70.2281 87.5591 64.418 87.5591 Q58.6078 87.5591 55.5291 82.9758 Q52.4736 78.3693 52.4736 69.6425 Q52.4736 60.8926 55.5291 56.3093 Q58.6078 51.7028 64.418 51.7028 Z\" fill=\"#000000\" fill-rule=\"nonzero\" fill-opacity=\"1\" /><path clip-path=\"url(#clip850)\" d=\"M84.5799 81.0082 L89.4641 81.0082 L89.4641 86.8878 L84.5799 86.8878 L84.5799 81.0082 Z\" fill=\"#000000\" fill-rule=\"nonzero\" fill-opacity=\"1\" /><path clip-path=\"url(#clip850)\" d=\"M109.649 55.4065 Q106.038 55.4065 104.209 58.9713 Q102.404 62.5129 102.404 69.6425 Q102.404 76.749 104.209 80.3138 Q106.038 83.8554 109.649 83.8554 Q113.283 83.8554 115.089 80.3138 Q116.918 76.749 116.918 69.6425 Q116.918 62.5129 115.089 58.9713 Q113.283 55.4065 109.649 55.4065 M109.649 51.7028 Q115.459 51.7028 118.515 56.3093 Q121.594 60.8926 121.594 69.6425 Q121.594 78.3693 118.515 82.9758 Q115.459 87.5591 109.649 87.5591 Q103.839 87.5591 100.76 82.9758 Q97.7048 78.3693 97.7048 69.6425 Q97.7048 60.8926 100.76 56.3093 Q103.839 51.7028 109.649 51.7028 Z\" fill=\"#000000\" fill-rule=\"nonzero\" fill-opacity=\"1\" /><path clip-path=\"url(#clip850)\" d=\"M129.857 52.3278 L148.214 52.3278 L148.214 56.263 L134.14 56.263 L134.14 64.7352 Q135.158 64.3879 136.177 64.2259 Q137.195 64.0407 138.214 64.0407 Q144.001 64.0407 147.38 67.212 Q150.76 70.3833 150.76 75.7999 Q150.76 81.3786 147.288 84.4804 Q143.816 87.5591 137.496 87.5591 Q135.32 87.5591 133.052 87.1887 Q130.807 86.8184 128.399 86.0776 L128.399 81.3786 Q130.482 82.5128 132.705 83.0684 Q134.927 83.6239 137.404 83.6239 Q141.408 83.6239 143.746 81.5175 Q146.084 79.411 146.084 75.7999 Q146.084 72.1888 143.746 70.0824 Q141.408 67.9759 137.404 67.9759 Q135.529 67.9759 133.654 68.3925 Q131.802 68.8092 129.857 69.6888 L129.857 52.3278 Z\" fill=\"#000000\" fill-rule=\"nonzero\" fill-opacity=\"1\" /><polyline clip-path=\"url(#clip852)\" style=\"stroke:#009af9; stroke-linecap:round; stroke-linejoin:round; stroke-width:4; stroke-opacity:1; fill:none\" points=\"248.062,1445.7 258.33,1445.7 268.598,1445.68 278.867,1445.64 289.135,1445.57 299.403,1445.45 309.672,1445.27 319.94,1444.98 330.208,1444.54 340.477,1443.89 350.745,1442.94 361.013,1441.6 371.282,1439.74 381.55,1437.23 391.818,1433.93 402.086,1429.67 412.355,1424.32 422.623,1417.76 432.891,1409.88 443.16,1400.65 453.428,1390.09 463.696,1378.29 473.965,1365.4 484.233,1351.62 494.501,1337.22 504.769,1322.48 515.038,1307.68 525.306,1293.08 535.574,1278.9 545.843,1265.29 556.111,1252.31 566.379,1239.94 576.648,1228.11 586.916,1216.64 597.184,1205.34 607.452,1193.96 617.721,1182.27 627.989,1170.05 638.257,1157.1 648.526,1143.29 658.794,1128.49 669.062,1112.66 679.331,1095.76 689.599,1077.79 699.867,1058.74 710.136,1038.61 720.404,1017.41 730.672,995.106 740.94,971.705 751.209,947.208 761.477,921.659 771.745,895.151 782.014,867.848 792.282,839.987 802.55,811.884 812.819,783.92 823.087,756.524 833.355,730.143 843.623,705.216 853.892,682.136 864.16,661.227 874.428,642.717 884.697,626.728 894.965,613.266 905.233,602.231 915.502,593.424 925.77,586.568 936.038,581.33 946.306,577.34 956.575,574.217 966.843,571.587 977.111,569.097 987.38,566.431 997.648,563.315 1007.92,559.523 1018.18,554.882 1028.45,549.271 1038.72,542.62 1048.99,534.912 1059.26,526.178 1069.53,516.498 1079.79,505.99 1090.06,494.811 1100.33,483.141 1110.6,471.175 1120.87,459.113 1131.14,447.145 1141.4,435.439 1151.67,424.137 1161.94,413.342 1172.21,403.12 1182.48,393.5 1192.75,384.473 1203.01,375.997 1213.28,368.001 1223.55,360.388 1233.82,353.037 1244.09,345.811 1254.36,338.557 1264.62,331.114 1274.89,323.327 1285.16,315.059 1295.43,306.204 1305.7,296.703 1315.97,286.555 1326.23,275.825 1336.5,264.642 1346.77,253.191 1357.04,241.696 1367.31,230.398 1377.58,219.532 1387.84,209.301 1398.11,199.859 1408.38,191.303 1418.65,183.661 1428.92,176.901 1439.19,170.944 1449.45,165.673 1459.72,160.952 1469.99,156.643 1480.26,152.616 1490.53,148.758 1500.79,144.986 1511.06,141.244 1521.33,137.51 1531.6,133.802 1541.87,130.172 1552.14,126.717 1562.4,123.575 1572.67,120.918 1582.94,118.953 1593.21,117.898 1603.48,117.969 1613.75,119.352 1624.01,122.175 1634.28,126.485 1644.55,132.224 1654.82,139.219 1665.09,147.178 1675.36,155.705 1685.62,164.317 1695.89,172.484 1706.16,179.661 1716.43,185.331 1726.7,189.04 1736.97,190.428 1747.23,189.259 1757.5,185.432 1767.77,178.995 1778.04,170.156 1788.31,159.278 1798.58,146.887 1808.84,133.664 1819.11,120.438 1829.38,108.166 1839.65,97.912 1849.92,90.801 1860.19,87.9763 1870.45,90.5399 1880.72,99.4915 1890.99,115.669 1901.26,139.692 1911.53,171.925 1921.8,212.446 1932.06,261.042 1942.33,317.214 1952.6,380.2 1962.87,449.01 1973.14,522.471 1983.41,599.271 1993.67,678.013 2003.94,757.269 2014.21,835.63 2024.48,911.759 2034.75,984.441 2045.01,1052.63 2055.28,1115.47 2065.55,1172.35 2075.82,1222.9 2086.09,1266.98 2096.36,1304.7 2106.62,1336.34 2116.89,1362.36 2127.16,1383.32 2137.43,1399.87 2147.7,1412.66 2157.97,1422.33 2168.23,1429.5 2178.5,1434.7 2188.77,1438.38 2199.04,1440.93 2209.31,1442.66 2219.58,1443.81 2229.84,1444.56 2240.11,1445.03 2250.38,1445.32 2260.65,1445.5 2270.92,1445.6 2281.19,1445.66 2291.45,1445.69 \"/>\n",
       "<polyline clip-path=\"url(#clip852)\" style=\"stroke:#e26f46; stroke-linecap:round; stroke-linejoin:round; stroke-width:4; stroke-opacity:1; fill:none\" points=\"267.57,1445.71 277.642,1445.7 287.714,1445.68 297.786,1445.63 307.859,1445.55 317.931,1445.41 328.003,1445.19 338.075,1444.84 348.148,1444.29 358.22,1443.46 368.292,1442.25 378.364,1440.52 388.437,1438.12 398.509,1434.85 408.581,1430.54 418.653,1424.99 428.726,1418.03 438.798,1409.51 448.87,1399.34 458.942,1387.5 469.015,1374.04 479.087,1359.1 489.159,1342.88 499.231,1325.64 509.304,1307.68 519.376,1289.3 529.448,1270.77 539.52,1252.33 549.593,1234.13 559.665,1216.27 569.737,1198.74 579.809,1181.48 589.882,1164.37 599.954,1147.22 610.026,1129.85 620.098,1112.08 630.171,1093.73 640.243,1074.67 650.315,1054.79 660.387,1034.04 670.459,1012.39 680.532,989.861 690.604,966.469 700.676,942.252 710.748,917.238 720.821,891.444 730.893,864.872 740.965,837.515 751.037,809.365 761.11,780.425 771.182,750.725 781.254,720.334 791.326,689.366 801.399,657.983 811.471,626.398 821.543,594.864 831.615,563.662 841.688,533.093 851.76,503.462 861.832,475.06 871.904,448.156 881.977,422.975 892.049,399.688 902.121,378.397 912.193,359.126 922.266,341.816 932.338,326.333 942.41,312.472 952.482,299.988 962.555,288.622 972.627,278.132 982.699,268.332 992.771,259.12 1002.84,250.491 1012.92,242.546 1022.99,235.473 1033.06,229.52 1043.13,224.949 1053.2,221.987 1063.28,220.775 1073.35,221.324 1083.42,223.487 1093.49,226.949 1103.57,231.244 1113.64,235.781 1123.71,239.905 1133.78,242.951 1143.85,244.317 1153.93,243.526 1164,240.272 1174.07,234.46 1184.14,226.209 1194.22,215.842 1204.29,203.847 1214.36,190.826 1224.43,177.433 1234.51,164.308 1244.58,152.023 1254.65,141.032 1264.72,131.646 1274.79,124.023 1284.87,118.171 1294.94,113.97 1305.01,111.199 1315.08,109.566 1325.16,108.75 1335.23,108.43 1345.3,108.322 1355.37,108.203 1365.44,107.94 1375.52,107.494 1385.59,106.931 1395.66,106.405 1405.73,106.139 1415.81,106.38 1425.88,107.363 1435.95,109.258 1446.02,112.131 1456.09,115.915 1466.17,120.405 1476.24,125.27 1486.31,130.094 1496.38,134.428 1506.46,137.859 1516.53,140.074 1526.6,140.917 1536.67,140.426 1546.74,138.844 1556.82,136.604 1566.89,134.289 1576.96,132.571 1587.03,132.145 1597.11,133.651 1607.18,137.61 1617.25,144.379 1627.32,154.116 1637.39,166.779 1647.47,182.139 1657.54,199.819 1667.61,219.343 1677.68,240.193 1687.76,261.858 1697.83,283.891 1707.9,305.935 1717.97,327.747 1728.05,349.197 1738.12,370.261 1748.19,390.991 1758.26,411.495 1768.33,431.9 1778.41,452.333 1788.48,472.902 1798.55,493.688 1808.62,514.757 1818.7,536.167 1828.77,557.991 1838.84,580.333 1848.91,603.348 1858.98,627.243 1869.06,652.272 1879.13,678.717 1889.2,706.861 1899.27,736.953 1909.35,769.17 1919.42,803.593 1929.49,840.181 1939.56,878.763 1949.63,919.045 1959.71,960.624 1969.78,1003.01 1979.85,1045.64 1989.92,1087.94 2000,1129.33 2010.07,1169.22 2020.14,1207.11 2030.21,1242.53 2040.28,1275.12 2050.36,1304.6 2060.43,1330.8 2070.5,1353.66 2080.57,1373.23 2090.65,1389.65 2100.72,1403.15 2110.79,1414.02 2120.86,1422.57 2130.93,1429.16 2141.01,1434.12 2151.08,1437.76 2161.15,1440.38 2171.22,1442.22 2181.3,1443.48 2191.37,1444.32 2201.44,1444.87 2211.51,1445.22 2221.59,1445.43 2231.66,1445.56 2241.73,1445.64 2251.8,1445.68 2261.87,1445.71 2271.95,1445.72 \"/>\n",
       "<path clip-path=\"url(#clip850)\" d=\"M258.96 250.738 L639.795 250.738 L639.795 95.2176 L258.96 95.2176  Z\" fill=\"#ffffff\" fill-rule=\"evenodd\" fill-opacity=\"1\"/>\n",
       "<polyline clip-path=\"url(#clip850)\" style=\"stroke:#000000; stroke-linecap:round; stroke-linejoin:round; stroke-width:4; stroke-opacity:1; fill:none\" points=\"258.96,250.738 639.795,250.738 639.795,95.2176 258.96,95.2176 258.96,250.738 \"/>\n",
       "<polyline clip-path=\"url(#clip850)\" style=\"stroke:#009af9; stroke-linecap:round; stroke-linejoin:round; stroke-width:4; stroke-opacity:1; fill:none\" points=\"283.027,147.058 427.426,147.058 \"/>\n",
       "<path clip-path=\"url(#clip850)\" d=\"M451.493 129.778 L458.46 129.778 L467.28 153.296 L476.146 129.778 L483.113 129.778 L483.113 164.338 L478.553 164.338 L478.553 133.99 L469.641 157.694 L464.942 157.694 L456.03 133.99 L456.03 164.338 L451.493 164.338 L451.493 129.778 Z\" fill=\"#000000\" fill-rule=\"nonzero\" fill-opacity=\"1\" /><path clip-path=\"url(#clip850)\" d=\"M503.993 151.305 Q498.831 151.305 496.84 152.486 Q494.849 153.666 494.849 156.514 Q494.849 158.782 496.331 160.125 Q497.835 161.444 500.405 161.444 Q503.946 161.444 506.076 158.944 Q508.229 156.421 508.229 152.254 L508.229 151.305 L503.993 151.305 M512.488 149.546 L512.488 164.338 L508.229 164.338 L508.229 160.402 Q506.77 162.763 504.594 163.898 Q502.419 165.009 499.27 165.009 Q495.289 165.009 492.928 162.787 Q490.59 160.541 490.59 156.791 Q490.59 152.416 493.507 150.194 Q496.446 147.972 502.257 147.972 L508.229 147.972 L508.229 147.555 Q508.229 144.615 506.284 143.018 Q504.363 141.398 500.868 141.398 Q498.645 141.398 496.539 141.93 Q494.433 142.463 492.488 143.527 L492.488 139.592 Q494.826 138.69 497.025 138.25 Q499.224 137.787 501.307 137.787 Q506.932 137.787 509.71 140.703 Q512.488 143.62 512.488 149.546 Z\" fill=\"#000000\" fill-rule=\"nonzero\" fill-opacity=\"1\" /><path clip-path=\"url(#clip850)\" d=\"M521.261 128.319 L525.52 128.319 L525.52 164.338 L521.261 164.338 L521.261 128.319 Z\" fill=\"#000000\" fill-rule=\"nonzero\" fill-opacity=\"1\" /><path clip-path=\"url(#clip850)\" d=\"M556.608 150.31 L556.608 152.393 L537.025 152.393 Q537.303 156.791 539.664 159.106 Q542.048 161.398 546.284 161.398 Q548.738 161.398 551.029 160.796 Q553.344 160.194 555.613 158.99 L555.613 163.018 Q553.321 163.99 550.914 164.5 Q548.506 165.009 546.029 165.009 Q539.826 165.009 536.192 161.398 Q532.58 157.787 532.58 151.629 Q532.58 145.264 536.006 141.537 Q539.455 137.787 545.289 137.787 Q550.52 137.787 553.553 141.166 Q556.608 144.523 556.608 150.31 M552.349 149.06 Q552.303 145.565 550.381 143.481 Q548.483 141.398 545.335 141.398 Q541.77 141.398 539.617 143.412 Q537.488 145.426 537.164 149.083 L552.349 149.06 Z\" fill=\"#000000\" fill-rule=\"nonzero\" fill-opacity=\"1\" /><polyline clip-path=\"url(#clip850)\" style=\"stroke:#e26f46; stroke-linecap:round; stroke-linejoin:round; stroke-width:4; stroke-opacity:1; fill:none\" points=\"283.027,198.898 427.426,198.898 \"/>\n",
       "<path clip-path=\"url(#clip850)\" d=\"M451.493 181.618 L471.354 181.618 L471.354 185.553 L456.169 185.553 L456.169 195.738 L469.872 195.738 L469.872 199.673 L456.169 199.673 L456.169 216.178 L451.493 216.178 L451.493 181.618 Z\" fill=\"#000000\" fill-rule=\"nonzero\" fill-opacity=\"1\" /><path clip-path=\"url(#clip850)\" d=\"M498.159 202.15 L498.159 204.233 L478.576 204.233 Q478.854 208.631 481.215 210.946 Q483.599 213.238 487.835 213.238 Q490.289 213.238 492.581 212.636 Q494.895 212.034 497.164 210.83 L497.164 214.858 Q494.872 215.83 492.465 216.34 Q490.058 216.849 487.581 216.849 Q481.377 216.849 477.743 213.238 Q474.132 209.627 474.132 203.469 Q474.132 197.104 477.558 193.377 Q481.007 189.627 486.84 189.627 Q492.071 189.627 495.104 193.006 Q498.159 196.363 498.159 202.15 M493.9 200.9 Q493.854 197.405 491.933 195.321 Q490.034 193.238 486.886 193.238 Q483.321 193.238 481.169 195.252 Q479.039 197.266 478.715 200.923 L493.9 200.9 Z\" fill=\"#000000\" fill-rule=\"nonzero\" fill-opacity=\"1\" /><path clip-path=\"url(#clip850)\" d=\"M525.335 195.229 Q526.932 192.358 529.155 190.993 Q531.377 189.627 534.386 189.627 Q538.437 189.627 540.636 192.474 Q542.835 195.298 542.835 200.529 L542.835 216.178 L538.553 216.178 L538.553 200.668 Q538.553 196.942 537.233 195.136 Q535.914 193.33 533.205 193.33 Q529.895 193.33 527.974 195.53 Q526.053 197.729 526.053 201.525 L526.053 216.178 L521.77 216.178 L521.77 200.668 Q521.77 196.918 520.451 195.136 Q519.131 193.33 516.377 193.33 Q513.113 193.33 511.192 195.553 Q509.27 197.752 509.27 201.525 L509.27 216.178 L504.988 216.178 L504.988 190.252 L509.27 190.252 L509.27 194.28 Q510.729 191.895 512.766 190.761 Q514.803 189.627 517.604 189.627 Q520.428 189.627 522.395 191.062 Q524.386 192.497 525.335 195.229 Z\" fill=\"#000000\" fill-rule=\"nonzero\" fill-opacity=\"1\" /><path clip-path=\"url(#clip850)\" d=\"M563.113 203.145 Q557.951 203.145 555.96 204.326 Q553.969 205.506 553.969 208.354 Q553.969 210.622 555.451 211.965 Q556.955 213.284 559.525 213.284 Q563.066 213.284 565.196 210.784 Q567.349 208.261 567.349 204.094 L567.349 203.145 L563.113 203.145 M571.608 201.386 L571.608 216.178 L567.349 216.178 L567.349 212.242 Q565.89 214.603 563.715 215.738 Q561.539 216.849 558.391 216.849 Q554.409 216.849 552.048 214.627 Q549.71 212.381 549.71 208.631 Q549.71 204.256 552.627 202.034 Q555.566 199.812 561.377 199.812 L567.349 199.812 L567.349 199.395 Q567.349 196.455 565.404 194.858 Q563.483 193.238 559.988 193.238 Q557.766 193.238 555.659 193.77 Q553.553 194.303 551.608 195.367 L551.608 191.432 Q553.946 190.53 556.145 190.09 Q558.344 189.627 560.428 189.627 Q566.053 189.627 568.83 192.543 Q571.608 195.46 571.608 201.386 Z\" fill=\"#000000\" fill-rule=\"nonzero\" fill-opacity=\"1\" /><path clip-path=\"url(#clip850)\" d=\"M580.381 180.159 L584.64 180.159 L584.64 216.178 L580.381 216.178 L580.381 180.159 Z\" fill=\"#000000\" fill-rule=\"nonzero\" fill-opacity=\"1\" /><path clip-path=\"url(#clip850)\" d=\"M615.728 202.15 L615.728 204.233 L596.145 204.233 Q596.423 208.631 598.784 210.946 Q601.168 213.238 605.404 213.238 Q607.858 213.238 610.149 212.636 Q612.464 212.034 614.733 210.83 L614.733 214.858 Q612.441 215.83 610.034 216.34 Q607.626 216.849 605.15 216.849 Q598.946 216.849 595.312 213.238 Q591.701 209.627 591.701 203.469 Q591.701 197.104 595.126 193.377 Q598.575 189.627 604.409 189.627 Q609.64 189.627 612.673 193.006 Q615.728 196.363 615.728 202.15 M611.469 200.9 Q611.423 197.405 609.501 195.321 Q607.603 193.238 604.455 193.238 Q600.89 193.238 598.738 195.252 Q596.608 197.266 596.284 200.923 L611.469 200.9 Z\" fill=\"#000000\" fill-rule=\"nonzero\" fill-opacity=\"1\" /></svg>\n"
      ]
     },
     "execution_count": 167,
     "metadata": {},
     "output_type": "execute_result"
    }
   ],
   "source": [
    "Pkg.add(\"RDatasets\") # common datasets from R programming language\n",
    "using RDatasets\n",
    "school = RDatasets.dataset(\"mlmRev\",\"Hsb82\")\n",
    "@df school density(:MAch, group = :Sx)"
   ]
  },
  {
   "cell_type": "code",
   "execution_count": 168,
   "id": "4fd61886-a783-4029-8662-1acabbd980ca",
   "metadata": {},
   "outputs": [
    {
     "data": {
      "image/png": "[encoded data removed]",
      "image/svg+xml": [
       "<?xml version=\"1.0\" encoding=\"utf-8\"?>\n",
       "<svg xmlns=\"http://www.w3.org/2000/svg\" xmlns:xlink=\"http://www.w3.org/1999/xlink\" width=\"600\" height=\"400\" viewBox=\"0 0 2400 1600\">\n",
       "<defs>\n",
       "  <clipPath id=\"clip890\">\n",
       "    <rect x=\"0\" y=\"0\" width=\"2400\" height=\"1600\"/>\n",
       "  </clipPath>\n",
       "</defs>\n",
       "<path clip-path=\"url(#clip890)\" d=\"M0 1600 L2400 1600 L2400 8.88178e-14 L0 8.88178e-14  Z\" fill=\"#ffffff\" fill-rule=\"evenodd\" fill-opacity=\"1\"/>\n",
       "<defs>\n",
       "  <clipPath id=\"clip891\">\n",
       "    <rect x=\"480\" y=\"0\" width=\"1681\" height=\"1600\"/>\n",
       "  </clipPath>\n",
       "</defs>\n",
       "<path clip-path=\"url(#clip890)\" d=\"M186.76 1486.45 L2352.76 1486.45 L2352.76 47.2441 L186.76 47.2441  Z\" fill=\"#ffffff\" fill-rule=\"evenodd\" fill-opacity=\"1\"/>\n",
       "<defs>\n",
       "  <clipPath id=\"clip892\">\n",
       "    <rect x=\"186\" y=\"47\" width=\"2167\" height=\"1440\"/>\n",
       "  </clipPath>\n",
       "</defs>\n",
       "<polyline clip-path=\"url(#clip892)\" style=\"stroke:#000000; stroke-linecap:round; stroke-linejoin:round; stroke-width:2; stroke-opacity:0.1; fill:none\" points=\"699.911,1486.45 699.911,47.2441 \"/>\n",
       "<polyline clip-path=\"url(#clip892)\" style=\"stroke:#000000; stroke-linecap:round; stroke-linejoin:round; stroke-width:2; stroke-opacity:0.1; fill:none\" points=\"1214.19,1486.45 1214.19,47.2441 \"/>\n",
       "<polyline clip-path=\"url(#clip892)\" style=\"stroke:#000000; stroke-linecap:round; stroke-linejoin:round; stroke-width:2; stroke-opacity:0.1; fill:none\" points=\"1728.47,1486.45 1728.47,47.2441 \"/>\n",
       "<polyline clip-path=\"url(#clip892)\" style=\"stroke:#000000; stroke-linecap:round; stroke-linejoin:round; stroke-width:2; stroke-opacity:0.1; fill:none\" points=\"2242.75,1486.45 2242.75,47.2441 \"/>\n",
       "<polyline clip-path=\"url(#clip890)\" style=\"stroke:#000000; stroke-linecap:round; stroke-linejoin:round; stroke-width:4; stroke-opacity:1; fill:none\" points=\"186.76,1486.45 2352.76,1486.45 \"/>\n",
       "<polyline clip-path=\"url(#clip890)\" style=\"stroke:#000000; stroke-linecap:round; stroke-linejoin:round; stroke-width:4; stroke-opacity:1; fill:none\" points=\"699.911,1486.45 699.911,1467.55 \"/>\n",
       "<polyline clip-path=\"url(#clip890)\" style=\"stroke:#000000; stroke-linecap:round; stroke-linejoin:round; stroke-width:4; stroke-opacity:1; fill:none\" points=\"1214.19,1486.45 1214.19,1467.55 \"/>\n",
       "<polyline clip-path=\"url(#clip890)\" style=\"stroke:#000000; stroke-linecap:round; stroke-linejoin:round; stroke-width:4; stroke-opacity:1; fill:none\" points=\"1728.47,1486.45 1728.47,1467.55 \"/>\n",
       "<polyline clip-path=\"url(#clip890)\" style=\"stroke:#000000; stroke-linecap:round; stroke-linejoin:round; stroke-width:4; stroke-opacity:1; fill:none\" points=\"2242.75,1486.45 2242.75,1467.55 \"/>\n",
       "<path clip-path=\"url(#clip890)\" d=\"M699.911 1517.37 Q696.3 1517.37 694.471 1520.93 Q692.665 1524.47 692.665 1531.6 Q692.665 1538.71 694.471 1542.27 Q696.3 1545.82 699.911 1545.82 Q703.545 1545.82 705.351 1542.27 Q707.179 1538.71 707.179 1531.6 Q707.179 1524.47 705.351 1520.93 Q703.545 1517.37 699.911 1517.37 M699.911 1513.66 Q705.721 1513.66 708.776 1518.27 Q711.855 1522.85 711.855 1531.6 Q711.855 1540.33 708.776 1544.94 Q705.721 1549.52 699.911 1549.52 Q694.101 1549.52 691.022 1544.94 Q687.966 1540.33 687.966 1531.6 Q687.966 1522.85 691.022 1518.27 Q694.101 1513.66 699.911 1513.66 Z\" fill=\"#000000\" fill-rule=\"nonzero\" fill-opacity=\"1\" /><path clip-path=\"url(#clip890)\" d=\"M1188.88 1544.91 L1196.52 1544.91 L1196.52 1518.55 L1188.21 1520.21 L1188.21 1515.95 L1196.47 1514.29 L1201.15 1514.29 L1201.15 1544.91 L1208.79 1544.91 L1208.79 1548.85 L1188.88 1548.85 L1188.88 1544.91 Z\" fill=\"#000000\" fill-rule=\"nonzero\" fill-opacity=\"1\" /><path clip-path=\"url(#clip890)\" d=\"M1228.23 1517.37 Q1224.62 1517.37 1222.79 1520.93 Q1220.98 1524.47 1220.98 1531.6 Q1220.98 1538.71 1222.79 1542.27 Q1224.62 1545.82 1228.23 1545.82 Q1231.86 1545.82 1233.67 1542.27 Q1235.5 1538.71 1235.5 1531.6 Q1235.5 1524.47 1233.67 1520.93 Q1231.86 1517.37 1228.23 1517.37 M1228.23 1513.66 Q1234.04 1513.66 1237.1 1518.27 Q1240.17 1522.85 1240.17 1531.6 Q1240.17 1540.33 1237.1 1544.94 Q1234.04 1549.52 1228.23 1549.52 Q1222.42 1549.52 1219.34 1544.94 Q1216.29 1540.33 1216.29 1531.6 Q1216.29 1522.85 1219.34 1518.27 Q1222.42 1513.66 1228.23 1513.66 Z\" fill=\"#000000\" fill-rule=\"nonzero\" fill-opacity=\"1\" /><path clip-path=\"url(#clip890)\" d=\"M1707.24 1544.91 L1723.56 1544.91 L1723.56 1548.85 L1701.62 1548.85 L1701.62 1544.91 Q1704.28 1542.16 1708.86 1537.53 Q1713.47 1532.88 1714.65 1531.53 Q1716.9 1529.01 1717.78 1527.27 Q1718.68 1525.51 1718.68 1523.82 Q1718.68 1521.07 1716.73 1519.33 Q1714.81 1517.6 1711.71 1517.6 Q1709.51 1517.6 1707.06 1518.36 Q1704.63 1519.13 1701.85 1520.68 L1701.85 1515.95 Q1704.67 1514.82 1707.13 1514.24 Q1709.58 1513.66 1711.62 1513.66 Q1716.99 1513.66 1720.18 1516.35 Q1723.38 1519.03 1723.38 1523.52 Q1723.38 1525.65 1722.57 1527.57 Q1721.78 1529.47 1719.67 1532.07 Q1719.09 1532.74 1715.99 1535.95 Q1712.89 1539.15 1707.24 1544.91 Z\" fill=\"#000000\" fill-rule=\"nonzero\" fill-opacity=\"1\" /><path clip-path=\"url(#clip890)\" d=\"M1743.38 1517.37 Q1739.77 1517.37 1737.94 1520.93 Q1736.13 1524.47 1736.13 1531.6 Q1736.13 1538.71 1737.94 1542.27 Q1739.77 1545.82 1743.38 1545.82 Q1747.01 1545.82 1748.82 1542.27 Q1750.65 1538.71 1750.65 1531.6 Q1750.65 1524.47 1748.82 1520.93 Q1747.01 1517.37 1743.38 1517.37 M1743.38 1513.66 Q1749.19 1513.66 1752.24 1518.27 Q1755.32 1522.85 1755.32 1531.6 Q1755.32 1540.33 1752.24 1544.94 Q1749.19 1549.52 1743.38 1549.52 Q1737.57 1549.52 1734.49 1544.94 Q1731.43 1540.33 1731.43 1531.6 Q1731.43 1522.85 1734.49 1518.27 Q1737.57 1513.66 1743.38 1513.66 Z\" fill=\"#000000\" fill-rule=\"nonzero\" fill-opacity=\"1\" /><path clip-path=\"url(#clip890)\" d=\"M2231.59 1530.21 Q2234.95 1530.93 2236.82 1533.2 Q2238.72 1535.47 2238.72 1538.8 Q2238.72 1543.92 2235.2 1546.72 Q2231.68 1549.52 2225.2 1549.52 Q2223.03 1549.52 2220.71 1549.08 Q2218.42 1548.66 2215.97 1547.81 L2215.97 1543.29 Q2217.91 1544.43 2220.23 1545.01 Q2222.54 1545.58 2225.06 1545.58 Q2229.46 1545.58 2231.75 1543.85 Q2234.07 1542.11 2234.07 1538.8 Q2234.07 1535.75 2231.92 1534.03 Q2229.79 1532.3 2225.97 1532.3 L2221.94 1532.3 L2221.94 1528.45 L2226.15 1528.45 Q2229.6 1528.45 2231.43 1527.09 Q2233.26 1525.7 2233.26 1523.11 Q2233.26 1520.45 2231.36 1519.03 Q2229.49 1517.6 2225.97 1517.6 Q2224.05 1517.6 2221.85 1518.01 Q2219.65 1518.43 2217.01 1519.31 L2217.01 1515.14 Q2219.67 1514.4 2221.99 1514.03 Q2224.32 1513.66 2226.38 1513.66 Q2231.71 1513.66 2234.81 1516.09 Q2237.91 1518.5 2237.91 1522.62 Q2237.91 1525.49 2236.27 1527.48 Q2234.62 1529.45 2231.59 1530.21 Z\" fill=\"#000000\" fill-rule=\"nonzero\" fill-opacity=\"1\" /><path clip-path=\"url(#clip890)\" d=\"M2257.59 1517.37 Q2253.98 1517.37 2252.15 1520.93 Q2250.34 1524.47 2250.34 1531.6 Q2250.34 1538.71 2252.15 1542.27 Q2253.98 1545.82 2257.59 1545.82 Q2261.22 1545.82 2263.03 1542.27 Q2264.86 1538.71 2264.86 1531.6 Q2264.86 1524.47 2263.03 1520.93 Q2261.22 1517.37 2257.59 1517.37 M2257.59 1513.66 Q2263.4 1513.66 2266.45 1518.27 Q2269.53 1522.85 2269.53 1531.6 Q2269.53 1540.33 2266.45 1544.94 Q2263.4 1549.52 2257.59 1549.52 Q2251.78 1549.52 2248.7 1544.94 Q2245.64 1540.33 2245.64 1531.6 Q2245.64 1522.85 2248.7 1518.27 Q2251.78 1513.66 2257.59 1513.66 Z\" fill=\"#000000\" fill-rule=\"nonzero\" fill-opacity=\"1\" /><polyline clip-path=\"url(#clip892)\" style=\"stroke:#000000; stroke-linecap:round; stroke-linejoin:round; stroke-width:2; stroke-opacity:0.1; fill:none\" points=\"186.76,1445.73 2352.76,1445.73 \"/>\n",
       "<polyline clip-path=\"url(#clip892)\" style=\"stroke:#000000; stroke-linecap:round; stroke-linejoin:round; stroke-width:2; stroke-opacity:0.1; fill:none\" points=\"186.76,1212.39 2352.76,1212.39 \"/>\n",
       "<polyline clip-path=\"url(#clip892)\" style=\"stroke:#000000; stroke-linecap:round; stroke-linejoin:round; stroke-width:2; stroke-opacity:0.1; fill:none\" points=\"186.76,979.056 2352.76,979.056 \"/>\n",
       "<polyline clip-path=\"url(#clip892)\" style=\"stroke:#000000; stroke-linecap:round; stroke-linejoin:round; stroke-width:2; stroke-opacity:0.1; fill:none\" points=\"186.76,745.719 2352.76,745.719 \"/>\n",
       "<polyline clip-path=\"url(#clip892)\" style=\"stroke:#000000; stroke-linecap:round; stroke-linejoin:round; stroke-width:2; stroke-opacity:0.1; fill:none\" points=\"186.76,512.383 2352.76,512.383 \"/>\n",
       "<polyline clip-path=\"url(#clip892)\" style=\"stroke:#000000; stroke-linecap:round; stroke-linejoin:round; stroke-width:2; stroke-opacity:0.1; fill:none\" points=\"186.76,279.047 2352.76,279.047 \"/>\n",
       "<polyline clip-path=\"url(#clip890)\" style=\"stroke:#000000; stroke-linecap:round; stroke-linejoin:round; stroke-width:4; stroke-opacity:1; fill:none\" points=\"186.76,1486.45 186.76,47.2441 \"/>\n",
       "<polyline clip-path=\"url(#clip890)\" style=\"stroke:#000000; stroke-linecap:round; stroke-linejoin:round; stroke-width:4; stroke-opacity:1; fill:none\" points=\"186.76,1445.73 205.658,1445.73 \"/>\n",
       "<polyline clip-path=\"url(#clip890)\" style=\"stroke:#000000; stroke-linecap:round; stroke-linejoin:round; stroke-width:4; stroke-opacity:1; fill:none\" points=\"186.76,1212.39 205.658,1212.39 \"/>\n",
       "<polyline clip-path=\"url(#clip890)\" style=\"stroke:#000000; stroke-linecap:round; stroke-linejoin:round; stroke-width:4; stroke-opacity:1; fill:none\" points=\"186.76,979.056 205.658,979.056 \"/>\n",
       "<polyline clip-path=\"url(#clip890)\" style=\"stroke:#000000; stroke-linecap:round; stroke-linejoin:round; stroke-width:4; stroke-opacity:1; fill:none\" points=\"186.76,745.719 205.658,745.719 \"/>\n",
       "<polyline clip-path=\"url(#clip890)\" style=\"stroke:#000000; stroke-linecap:round; stroke-linejoin:round; stroke-width:4; stroke-opacity:1; fill:none\" points=\"186.76,512.383 205.658,512.383 \"/>\n",
       "<polyline clip-path=\"url(#clip890)\" style=\"stroke:#000000; stroke-linecap:round; stroke-linejoin:round; stroke-width:4; stroke-opacity:1; fill:none\" points=\"186.76,279.047 205.658,279.047 \"/>\n",
       "<path clip-path=\"url(#clip890)\" d=\"M63.4226 1431.53 Q59.8115 1431.53 57.9828 1435.09 Q56.1773 1438.63 56.1773 1445.76 Q56.1773 1452.87 57.9828 1456.43 Q59.8115 1459.98 63.4226 1459.98 Q67.0569 1459.98 68.8624 1456.43 Q70.6911 1452.87 70.6911 1445.76 Q70.6911 1438.63 68.8624 1435.09 Q67.0569 1431.53 63.4226 1431.53 M63.4226 1427.82 Q69.2328 1427.82 72.2883 1432.43 Q75.367 1437.01 75.367 1445.76 Q75.367 1454.49 72.2883 1459.1 Q69.2328 1463.68 63.4226 1463.68 Q57.6125 1463.68 54.5338 1459.1 Q51.4782 1454.49 51.4782 1445.76 Q51.4782 1437.01 54.5338 1432.43 Q57.6125 1427.82 63.4226 1427.82 Z\" fill=\"#000000\" fill-rule=\"nonzero\" fill-opacity=\"1\" /><path clip-path=\"url(#clip890)\" d=\"M83.5845 1457.13 L88.4688 1457.13 L88.4688 1463.01 L83.5845 1463.01 L83.5845 1457.13 Z\" fill=\"#000000\" fill-rule=\"nonzero\" fill-opacity=\"1\" /><path clip-path=\"url(#clip890)\" d=\"M108.654 1431.53 Q105.043 1431.53 103.214 1435.09 Q101.409 1438.63 101.409 1445.76 Q101.409 1452.87 103.214 1456.43 Q105.043 1459.98 108.654 1459.98 Q112.288 1459.98 114.094 1456.43 Q115.922 1452.87 115.922 1445.76 Q115.922 1438.63 114.094 1435.09 Q112.288 1431.53 108.654 1431.53 M108.654 1427.82 Q114.464 1427.82 117.52 1432.43 Q120.598 1437.01 120.598 1445.76 Q120.598 1454.49 117.52 1459.1 Q114.464 1463.68 108.654 1463.68 Q102.844 1463.68 99.765 1459.1 Q96.7095 1454.49 96.7095 1445.76 Q96.7095 1437.01 99.765 1432.43 Q102.844 1427.82 108.654 1427.82 Z\" fill=\"#000000\" fill-rule=\"nonzero\" fill-opacity=\"1\" /><path clip-path=\"url(#clip890)\" d=\"M138.816 1431.53 Q135.205 1431.53 133.376 1435.09 Q131.57 1438.63 131.57 1445.76 Q131.57 1452.87 133.376 1456.43 Q135.205 1459.98 138.816 1459.98 Q142.45 1459.98 144.256 1456.43 Q146.084 1452.87 146.084 1445.76 Q146.084 1438.63 144.256 1435.09 Q142.45 1431.53 138.816 1431.53 M138.816 1427.82 Q144.626 1427.82 147.681 1432.43 Q150.76 1437.01 150.76 1445.76 Q150.76 1454.49 147.681 1459.1 Q144.626 1463.68 138.816 1463.68 Q133.006 1463.68 129.927 1459.1 Q126.871 1454.49 126.871 1445.76 Q126.871 1437.01 129.927 1432.43 Q133.006 1427.82 138.816 1427.82 Z\" fill=\"#000000\" fill-rule=\"nonzero\" fill-opacity=\"1\" /><path clip-path=\"url(#clip890)\" d=\"M64.6495 1198.19 Q61.0384 1198.19 59.2097 1201.76 Q57.4041 1205.3 57.4041 1212.43 Q57.4041 1219.53 59.2097 1223.1 Q61.0384 1226.64 64.6495 1226.64 Q68.2837 1226.64 70.0892 1223.1 Q71.9179 1219.53 71.9179 1212.43 Q71.9179 1205.3 70.0892 1201.76 Q68.2837 1198.19 64.6495 1198.19 M64.6495 1194.49 Q70.4596 1194.49 73.5152 1199.09 Q76.5938 1203.68 76.5938 1212.43 Q76.5938 1221.15 73.5152 1225.76 Q70.4596 1230.34 64.6495 1230.34 Q58.8393 1230.34 55.7606 1225.76 Q52.7051 1221.15 52.7051 1212.43 Q52.7051 1203.68 55.7606 1199.09 Q58.8393 1194.49 64.6495 1194.49 Z\" fill=\"#000000\" fill-rule=\"nonzero\" fill-opacity=\"1\" /><path clip-path=\"url(#clip890)\" d=\"M84.8114 1223.79 L89.6956 1223.79 L89.6956 1229.67 L84.8114 1229.67 L84.8114 1223.79 Z\" fill=\"#000000\" fill-rule=\"nonzero\" fill-opacity=\"1\" /><path clip-path=\"url(#clip890)\" d=\"M109.881 1198.19 Q106.27 1198.19 104.441 1201.76 Q102.635 1205.3 102.635 1212.43 Q102.635 1219.53 104.441 1223.1 Q106.27 1226.64 109.881 1226.64 Q113.515 1226.64 115.32 1223.1 Q117.149 1219.53 117.149 1212.43 Q117.149 1205.3 115.32 1201.76 Q113.515 1198.19 109.881 1198.19 M109.881 1194.49 Q115.691 1194.49 118.746 1199.09 Q121.825 1203.68 121.825 1212.43 Q121.825 1221.15 118.746 1225.76 Q115.691 1230.34 109.881 1230.34 Q104.071 1230.34 100.992 1225.76 Q97.9363 1221.15 97.9363 1212.43 Q97.9363 1203.68 100.992 1199.09 Q104.071 1194.49 109.881 1194.49 Z\" fill=\"#000000\" fill-rule=\"nonzero\" fill-opacity=\"1\" /><path clip-path=\"url(#clip890)\" d=\"M130.853 1225.74 L138.492 1225.74 L138.492 1199.37 L130.182 1201.04 L130.182 1196.78 L138.445 1195.11 L143.121 1195.11 L143.121 1225.74 L150.76 1225.74 L150.76 1229.67 L130.853 1229.67 L130.853 1225.74 Z\" fill=\"#000000\" fill-rule=\"nonzero\" fill-opacity=\"1\" /><path clip-path=\"url(#clip890)\" d=\"M65.0198 964.854 Q61.4087 964.854 59.58 968.419 Q57.7745 971.961 57.7745 979.09 Q57.7745 986.197 59.58 989.762 Q61.4087 993.303 65.0198 993.303 Q68.6541 993.303 70.4596 989.762 Q72.2883 986.197 72.2883 979.09 Q72.2883 971.961 70.4596 968.419 Q68.6541 964.854 65.0198 964.854 M65.0198 961.151 Q70.83 961.151 73.8855 965.757 Q76.9642 970.34 76.9642 979.09 Q76.9642 987.817 73.8855 992.424 Q70.83 997.007 65.0198 997.007 Q59.2097 997.007 56.131 992.424 Q53.0754 987.817 53.0754 979.09 Q53.0754 970.34 56.131 965.757 Q59.2097 961.151 65.0198 961.151 Z\" fill=\"#000000\" fill-rule=\"nonzero\" fill-opacity=\"1\" /><path clip-path=\"url(#clip890)\" d=\"M85.1818 990.456 L90.066 990.456 L90.066 996.336 L85.1818 996.336 L85.1818 990.456 Z\" fill=\"#000000\" fill-rule=\"nonzero\" fill-opacity=\"1\" /><path clip-path=\"url(#clip890)\" d=\"M110.251 964.854 Q106.64 964.854 104.811 968.419 Q103.006 971.961 103.006 979.09 Q103.006 986.197 104.811 989.762 Q106.64 993.303 110.251 993.303 Q113.885 993.303 115.691 989.762 Q117.52 986.197 117.52 979.09 Q117.52 971.961 115.691 968.419 Q113.885 964.854 110.251 964.854 M110.251 961.151 Q116.061 961.151 119.117 965.757 Q122.195 970.34 122.195 979.09 Q122.195 987.817 119.117 992.424 Q116.061 997.007 110.251 997.007 Q104.441 997.007 101.362 992.424 Q98.3067 987.817 98.3067 979.09 Q98.3067 970.34 101.362 965.757 Q104.441 961.151 110.251 961.151 Z\" fill=\"#000000\" fill-rule=\"nonzero\" fill-opacity=\"1\" /><path clip-path=\"url(#clip890)\" d=\"M134.441 992.401 L150.76 992.401 L150.76 996.336 L128.816 996.336 L128.816 992.401 Q131.478 989.646 136.061 985.016 Q140.668 980.364 141.848 979.021 Q144.093 976.498 144.973 974.762 Q145.876 973.002 145.876 971.313 Q145.876 968.558 143.931 966.822 Q142.01 965.086 138.908 965.086 Q136.709 965.086 134.256 965.85 Q131.825 966.614 129.047 968.165 L129.047 963.442 Q131.871 962.308 134.325 961.729 Q136.779 961.151 138.816 961.151 Q144.186 961.151 147.38 963.836 Q150.575 966.521 150.575 971.012 Q150.575 973.141 149.765 975.063 Q148.978 976.961 146.871 979.553 Q146.293 980.225 143.191 983.442 Q140.089 986.637 134.441 992.401 Z\" fill=\"#000000\" fill-rule=\"nonzero\" fill-opacity=\"1\" /><path clip-path=\"url(#clip890)\" d=\"M64.0708 731.518 Q60.4597 731.518 58.631 735.083 Q56.8254 738.625 56.8254 745.754 Q56.8254 752.861 58.631 756.425 Q60.4597 759.967 64.0708 759.967 Q67.705 759.967 69.5105 756.425 Q71.3392 752.861 71.3392 745.754 Q71.3392 738.625 69.5105 735.083 Q67.705 731.518 64.0708 731.518 M64.0708 727.814 Q69.8809 727.814 72.9365 732.421 Q76.0151 737.004 76.0151 745.754 Q76.0151 754.481 72.9365 759.087 Q69.8809 763.671 64.0708 763.671 Q58.2606 763.671 55.1819 759.087 Q52.1264 754.481 52.1264 745.754 Q52.1264 737.004 55.1819 732.421 Q58.2606 727.814 64.0708 727.814 Z\" fill=\"#000000\" fill-rule=\"nonzero\" fill-opacity=\"1\" /><path clip-path=\"url(#clip890)\" d=\"M84.2327 757.12 L89.1169 757.12 L89.1169 762.999 L84.2327 762.999 L84.2327 757.12 Z\" fill=\"#000000\" fill-rule=\"nonzero\" fill-opacity=\"1\" /><path clip-path=\"url(#clip890)\" d=\"M109.302 731.518 Q105.691 731.518 103.862 735.083 Q102.057 738.625 102.057 745.754 Q102.057 752.861 103.862 756.425 Q105.691 759.967 109.302 759.967 Q112.936 759.967 114.742 756.425 Q116.57 752.861 116.57 745.754 Q116.57 738.625 114.742 735.083 Q112.936 731.518 109.302 731.518 M109.302 727.814 Q115.112 727.814 118.168 732.421 Q121.246 737.004 121.246 745.754 Q121.246 754.481 118.168 759.087 Q115.112 763.671 109.302 763.671 Q103.492 763.671 100.413 759.087 Q97.3576 754.481 97.3576 745.754 Q97.3576 737.004 100.413 732.421 Q103.492 727.814 109.302 727.814 Z\" fill=\"#000000\" fill-rule=\"nonzero\" fill-opacity=\"1\" /><path clip-path=\"url(#clip890)\" d=\"M143.631 744.365 Q146.987 745.083 148.862 747.351 Q150.76 749.62 150.76 752.953 Q150.76 758.069 147.242 760.87 Q143.723 763.671 137.242 763.671 Q135.066 763.671 132.751 763.231 Q130.459 762.814 128.006 761.958 L128.006 757.444 Q129.95 758.578 132.265 759.157 Q134.58 759.736 137.103 759.736 Q141.501 759.736 143.793 757.999 Q146.107 756.263 146.107 752.953 Q146.107 749.898 143.955 748.185 Q141.825 746.449 138.006 746.449 L133.978 746.449 L133.978 742.606 L138.191 742.606 Q141.64 742.606 143.468 741.24 Q145.297 739.851 145.297 737.259 Q145.297 734.597 143.399 733.185 Q141.524 731.75 138.006 731.75 Q136.084 731.75 133.885 732.166 Q131.686 732.583 129.047 733.463 L129.047 729.296 Q131.709 728.555 134.024 728.185 Q136.362 727.814 138.422 727.814 Q143.746 727.814 146.848 730.245 Q149.95 732.652 149.95 736.773 Q149.95 739.643 148.306 741.634 Q146.663 743.601 143.631 744.365 Z\" fill=\"#000000\" fill-rule=\"nonzero\" fill-opacity=\"1\" /><path clip-path=\"url(#clip890)\" d=\"M62.9365 498.182 Q59.3254 498.182 57.4967 501.747 Q55.6912 505.288 55.6912 512.418 Q55.6912 519.524 57.4967 523.089 Q59.3254 526.631 62.9365 526.631 Q66.5707 526.631 68.3763 523.089 Q70.205 519.524 70.205 512.418 Q70.205 505.288 68.3763 501.747 Q66.5707 498.182 62.9365 498.182 M62.9365 494.478 Q68.7467 494.478 71.8022 499.085 Q74.8809 503.668 74.8809 512.418 Q74.8809 521.145 71.8022 525.751 Q68.7467 530.334 62.9365 530.334 Q57.1264 530.334 54.0477 525.751 Q50.9921 521.145 50.9921 512.418 Q50.9921 503.668 54.0477 499.085 Q57.1264 494.478 62.9365 494.478 Z\" fill=\"#000000\" fill-rule=\"nonzero\" fill-opacity=\"1\" /><path clip-path=\"url(#clip890)\" d=\"M83.0984 523.784 L87.9827 523.784 L87.9827 529.663 L83.0984 529.663 L83.0984 523.784 Z\" fill=\"#000000\" fill-rule=\"nonzero\" fill-opacity=\"1\" /><path clip-path=\"url(#clip890)\" d=\"M108.168 498.182 Q104.557 498.182 102.728 501.747 Q100.922 505.288 100.922 512.418 Q100.922 519.524 102.728 523.089 Q104.557 526.631 108.168 526.631 Q111.802 526.631 113.608 523.089 Q115.436 519.524 115.436 512.418 Q115.436 505.288 113.608 501.747 Q111.802 498.182 108.168 498.182 M108.168 494.478 Q113.978 494.478 117.033 499.085 Q120.112 503.668 120.112 512.418 Q120.112 521.145 117.033 525.751 Q113.978 530.334 108.168 530.334 Q102.358 530.334 99.2789 525.751 Q96.2234 521.145 96.2234 512.418 Q96.2234 503.668 99.2789 499.085 Q102.358 494.478 108.168 494.478 Z\" fill=\"#000000\" fill-rule=\"nonzero\" fill-opacity=\"1\" /><path clip-path=\"url(#clip890)\" d=\"M141.177 499.177 L129.371 517.626 L141.177 517.626 L141.177 499.177 M139.95 495.103 L145.83 495.103 L145.83 517.626 L150.76 517.626 L150.76 521.515 L145.83 521.515 L145.83 529.663 L141.177 529.663 L141.177 521.515 L125.575 521.515 L125.575 517.001 L139.95 495.103 Z\" fill=\"#000000\" fill-rule=\"nonzero\" fill-opacity=\"1\" /><path clip-path=\"url(#clip890)\" d=\"M64.418 264.846 Q60.8069 264.846 58.9782 268.41 Q57.1726 271.952 57.1726 279.082 Q57.1726 286.188 58.9782 289.753 Q60.8069 293.295 64.418 293.295 Q68.0522 293.295 69.8578 289.753 Q71.6865 286.188 71.6865 279.082 Q71.6865 271.952 69.8578 268.41 Q68.0522 264.846 64.418 264.846 M64.418 261.142 Q70.2281 261.142 73.2837 265.748 Q76.3624 270.332 76.3624 279.082 Q76.3624 287.808 73.2837 292.415 Q70.2281 296.998 64.418 296.998 Q58.6078 296.998 55.5291 292.415 Q52.4736 287.808 52.4736 279.082 Q52.4736 270.332 55.5291 265.748 Q58.6078 261.142 64.418 261.142 Z\" fill=\"#000000\" fill-rule=\"nonzero\" fill-opacity=\"1\" /><path clip-path=\"url(#clip890)\" d=\"M84.5799 290.447 L89.4641 290.447 L89.4641 296.327 L84.5799 296.327 L84.5799 290.447 Z\" fill=\"#000000\" fill-rule=\"nonzero\" fill-opacity=\"1\" /><path clip-path=\"url(#clip890)\" d=\"M109.649 264.846 Q106.038 264.846 104.209 268.41 Q102.404 271.952 102.404 279.082 Q102.404 286.188 104.209 289.753 Q106.038 293.295 109.649 293.295 Q113.283 293.295 115.089 289.753 Q116.918 286.188 116.918 279.082 Q116.918 271.952 115.089 268.41 Q113.283 264.846 109.649 264.846 M109.649 261.142 Q115.459 261.142 118.515 265.748 Q121.594 270.332 121.594 279.082 Q121.594 287.808 118.515 292.415 Q115.459 296.998 109.649 296.998 Q103.839 296.998 100.76 292.415 Q97.7048 287.808 97.7048 279.082 Q97.7048 270.332 100.76 265.748 Q103.839 261.142 109.649 261.142 Z\" fill=\"#000000\" fill-rule=\"nonzero\" fill-opacity=\"1\" /><path clip-path=\"url(#clip890)\" d=\"M129.857 261.767 L148.214 261.767 L148.214 265.702 L134.14 265.702 L134.14 274.174 Q135.158 273.827 136.177 273.665 Q137.195 273.48 138.214 273.48 Q144.001 273.48 147.38 276.651 Q150.76 279.822 150.76 285.239 Q150.76 290.818 147.288 293.92 Q143.816 296.998 137.496 296.998 Q135.32 296.998 133.052 296.628 Q130.807 296.258 128.399 295.517 L128.399 290.818 Q130.482 291.952 132.705 292.508 Q134.927 293.063 137.404 293.063 Q141.408 293.063 143.746 290.957 Q146.084 288.85 146.084 285.239 Q146.084 281.628 143.746 279.521 Q141.408 277.415 137.404 277.415 Q135.529 277.415 133.654 277.832 Q131.802 278.248 129.857 279.128 L129.857 261.767 Z\" fill=\"#000000\" fill-rule=\"nonzero\" fill-opacity=\"1\" /><polyline clip-path=\"url(#clip892)\" style=\"stroke:#009af9; stroke-linecap:round; stroke-linejoin:round; stroke-width:4; stroke-opacity:1; fill:none\" points=\"248.062,1445.69 258.33,1445.68 268.598,1445.66 278.867,1445.62 289.135,1445.56 299.403,1445.46 309.672,1445.31 319.94,1445.08 330.208,1444.74 340.477,1444.24 350.745,1443.54 361.013,1442.56 371.282,1441.22 381.55,1439.41 391.818,1437.02 402.086,1433.91 412.355,1429.96 422.623,1425.01 432.891,1418.94 443.16,1411.63 453.428,1402.98 463.696,1392.93 473.965,1381.48 484.233,1368.66 494.501,1354.57 504.769,1339.35 515.038,1323.2 525.306,1306.36 535.574,1289.08 545.843,1271.62 556.111,1254.21 566.379,1237.07 576.648,1220.34 586.916,1204.13 597.184,1188.44 607.452,1173.23 617.721,1158.38 627.989,1143.72 638.257,1129.03 648.526,1114.07 658.794,1098.59 669.062,1082.36 679.331,1065.17 689.599,1046.84 699.867,1027.25 710.136,1006.31 720.404,983.985 730.672,960.289 740.94,935.282 751.209,909.062 761.477,881.77 771.745,853.581 782.014,824.707 792.282,795.391 802.55,765.91 812.819,736.562 823.087,707.668 833.355,679.557 843.623,652.557 853.892,626.98 864.16,603.11 874.428,581.186 884.697,561.393 894.965,543.852 905.233,528.617 915.502,515.673 925.77,504.941 936.038,496.288 946.306,489.539 956.575,484.488 966.843,480.917 977.111,478.604 987.38,477.335 997.648,476.917 1007.92,477.176 1018.18,477.967 1028.45,479.171 1038.72,480.69 1048.99,482.451 1059.26,484.392 1069.53,486.465 1079.79,488.628 1090.06,490.839 1100.33,493.055 1110.6,495.23 1120.87,497.312 1131.14,499.243 1141.4,500.966 1151.67,502.426 1161.94,503.573 1172.21,504.373 1182.48,504.805 1192.75,504.872 1203.01,504.595 1213.28,504.014 1223.55,503.185 1233.82,502.171 1244.09,501.034 1254.36,499.832 1264.62,498.609 1274.89,497.395 1285.16,496.204 1295.43,495.038 1305.7,493.891 1315.97,492.758 1326.23,491.636 1336.5,490.536 1346.77,489.48 1357.04,488.503 1367.31,487.647 1377.58,486.961 1387.84,486.491 1398.11,486.27 1408.38,486.322 1418.65,486.651 1428.92,487.243 1439.19,488.069 1449.45,489.088 1459.72,490.259 1469.99,491.54 1480.26,492.903 1490.53,494.34 1500.79,495.862 1511.06,497.509 1521.33,499.345 1531.6,501.451 1541.87,503.926 1552.14,506.866 1562.4,510.358 1572.67,514.465 1582.94,519.214 1593.21,524.58 1603.48,530.485 1613.75,536.791 1624.01,543.305 1634.28,549.788 1644.55,555.967 1654.82,561.556 1665.09,566.275 1675.36,569.873 1685.62,572.148 1695.89,572.963 1706.16,572.262 1716.43,570.073 1726.7,566.517 1736.97,561.8 1747.23,556.209 1757.5,550.103 1767.77,543.898 1778.04,538.056 1788.31,533.071 1798.58,529.453 1808.84,527.71 1819.11,528.341 1829.38,531.813 1839.65,538.552 1849.92,548.926 1860.19,563.233 1870.45,581.69 1880.72,604.416 1890.99,631.431 1901.26,662.641 1911.53,697.839 1921.8,736.702 1932.06,778.794 1942.33,823.578 1952.6,870.428 1962.87,918.646 1973.14,967.489 1983.41,1016.2 1993.67,1064.02 2003.94,1110.24 2014.21,1154.24 2024.48,1195.45 2034.75,1233.46 2045.01,1267.96 2055.28,1298.77 2065.55,1325.85 2075.82,1349.27 2086.09,1369.18 2096.36,1385.84 2106.62,1399.55 2116.89,1410.64 2127.16,1419.46 2137.43,1426.35 2147.7,1431.66 2157.97,1435.67 2168.23,1438.64 2178.5,1440.82 2188.77,1442.38 2199.04,1443.48 2209.31,1444.24 2219.58,1444.76 2229.84,1445.11 2240.11,1445.34 2250.38,1445.49 2260.65,1445.58 2270.92,1445.64 2281.19,1445.67 2291.45,1445.69 \"/>\n",
       "<polyline clip-path=\"url(#clip892)\" style=\"stroke:#e26f46; stroke-linecap:round; stroke-linejoin:round; stroke-width:4; stroke-opacity:1; fill:none\" points=\"288.91,1445.7 298.768,1445.71 308.626,1445.71 318.483,1445.7 328.341,1445.68 338.199,1445.66 348.057,1445.61 357.914,1445.55 367.772,1445.45 377.63,1445.3 387.488,1445.09 397.346,1444.79 407.203,1444.37 417.061,1443.82 426.919,1443.08 436.777,1442.12 446.634,1440.91 456.492,1439.39 466.35,1437.53 476.208,1435.3 486.065,1432.65 495.923,1429.57 505.781,1426.04 515.639,1422.05 525.497,1417.61 535.354,1412.72 545.212,1407.41 555.07,1401.7 564.928,1395.61 574.785,1389.19 584.643,1382.45 594.501,1375.42 604.359,1368.13 614.216,1360.61 624.074,1352.87 633.932,1344.93 643.79,1336.81 653.648,1328.53 663.505,1320.12 673.363,1311.58 683.221,1302.94 693.079,1294.18 702.936,1285.29 712.794,1276.24 722.652,1266.96 732.51,1257.36 742.367,1247.33 752.225,1236.74 762.083,1225.46 771.941,1213.38 781.798,1200.4 791.656,1186.49 801.514,1171.64 811.372,1155.92 821.23,1139.48 831.087,1122.52 840.945,1105.27 850.803,1088.01 860.661,1071.06 870.518,1054.7 880.376,1039.19 890.234,1024.79 900.092,1011.64 909.949,999.866 919.807,989.49 929.665,980.465 939.523,972.668 949.381,965.903 959.238,959.913 969.096,954.392 978.954,948.999 988.812,943.377 998.669,937.169 1008.53,930.036 1018.38,921.676 1028.24,911.836 1038.1,900.328 1047.96,887.034 1057.82,871.913 1067.67,855 1077.53,836.41 1087.39,816.327 1097.25,795.003 1107.1,772.745 1116.96,749.903 1126.82,726.858 1136.68,704.001 1146.54,681.715 1156.39,660.346 1166.25,640.186 1176.11,621.446 1185.97,604.24 1195.82,588.572 1205.68,574.337 1215.54,561.324 1225.4,549.236 1235.26,537.721 1245.11,526.395 1254.97,514.884 1264.83,502.858 1274.69,490.051 1284.54,476.289 1294.4,461.499 1304.26,445.704 1314.12,429.02 1323.98,411.638 1333.83,393.798 1343.69,375.772 1353.55,357.834 1363.41,340.242 1373.26,323.219 1383.12,306.942 1392.98,291.535 1402.84,277.07 1412.7,263.568 1422.55,251.008 1432.41,239.338 1442.27,228.481 1452.13,218.351 1461.98,208.856 1471.84,199.905 1481.7,191.416 1491.56,183.313 1501.42,175.531 1511.27,168.019 1521.13,160.74 1530.99,153.676 1540.85,146.84 1550.7,140.277 1560.56,134.075 1570.42,128.367 1580.28,123.328 1590.14,119.164 1599.99,116.103 1609.85,114.361 1619.71,114.12 1629.57,115.493 1639.42,118.501 1649.28,123.044 1659.14,128.896 1669,135.702 1678.86,142.998 1688.71,150.233 1698.57,156.811 1708.43,162.138 1718.29,165.666 1728.14,166.942 1738,165.654 1747.86,161.667 1757.72,155.051 1767.58,146.105 1777.43,135.36 1787.29,123.578 1797.15,111.735 1807.01,100.986 1816.86,92.6152 1826.72,87.9763 1836.58,88.4139 1846.44,95.1828 1856.3,109.365 1866.15,131.793 1876.01,162.987 1885.87,203.116 1895.73,251.978 1905.58,309.008 1915.44,373.312 1925.3,443.724 1935.16,518.864 1945.02,597.226 1954.87,677.245 1964.73,757.372 1974.59,836.143 1984.45,912.227 1994.3,984.472 2004.16,1051.93 2014.02,1113.89 2023.88,1169.85 2033.74,1219.57 2043.59,1263 2053.45,1300.28 2063.31,1331.73 2073.17,1357.79 2083.02,1379 2092.88,1395.94 2102.74,1409.21 2112.6,1419.41 2122.45,1427.1 2132.31,1432.78 2142.17,1436.9 2152.03,1439.82 2161.89,1441.85 2171.74,1443.23 2181.6,1444.15 2191.46,1444.75 2201.32,1445.14 2211.17,1445.38 2221.03,1445.52 2230.89,1445.61 2240.75,1445.66 2250.61,1445.69 \"/>\n",
       "<polyline clip-path=\"url(#clip892)\" style=\"stroke:#3da44d; stroke-linecap:round; stroke-linejoin:round; stroke-width:4; stroke-opacity:1; fill:none\" points=\"278.929,1445.7 288.887,1445.69 298.845,1445.66 308.803,1445.62 318.761,1445.55 328.719,1445.43 338.677,1445.24 348.635,1444.96 358.594,1444.53 368.552,1443.91 378.51,1443 388.468,1441.72 398.426,1439.95 408.384,1437.56 418.342,1434.38 428.3,1430.26 438.258,1425.01 448.216,1418.46 458.174,1410.46 468.132,1400.88 478.091,1389.63 488.049,1376.7 498.007,1362.1 507.965,1345.93 517.923,1328.35 527.881,1309.56 537.839,1289.83 547.797,1269.4 557.755,1248.54 567.713,1227.48 577.671,1206.42 587.629,1185.47 597.587,1164.67 607.546,1143.99 617.504,1123.33 627.462,1102.52 637.42,1081.35 647.378,1059.59 657.336,1037.03 667.294,1013.46 677.252,988.735 687.21,962.765 697.168,935.521 707.126,907.045 717.084,877.434 727.043,846.839 737.001,815.446 746.959,783.465 756.917,751.119 766.875,718.63 776.833,686.214 786.791,654.076 796.749,622.409 806.707,591.388 816.665,561.176 826.623,531.917 836.581,503.74 846.54,476.753 856.498,451.045 866.456,426.684 876.414,403.719 886.372,382.175 896.33,362.062 906.288,343.374 916.246,326.094 926.204,310.196 936.162,295.654 946.12,282.444 956.078,270.549 966.037,259.971 975.995,250.729 985.953,242.872 995.911,236.478 1005.87,231.66 1015.83,228.558 1025.79,227.333 1035.74,228.152 1045.7,231.168 1055.66,236.499 1065.62,244.198 1075.58,254.233 1085.53,266.466 1095.49,280.646 1105.45,296.405 1115.41,313.271 1125.37,330.695 1135.32,348.076 1145.28,364.808 1155.24,380.317 1165.2,394.106 1175.16,405.783 1185.11,415.094 1195.07,421.93 1205.03,426.331 1214.99,428.476 1224.95,428.657 1234.9,427.248 1244.86,424.672 1254.82,421.357 1264.78,417.707 1274.74,414.065 1284.7,410.69 1294.65,407.751 1304.61,405.317 1314.57,403.377 1324.53,401.852 1334.49,400.633 1344.44,399.606 1354.4,398.689 1364.36,397.854 1374.32,397.148 1384.28,396.697 1394.23,396.692 1404.19,397.369 1414.15,398.979 1424.11,401.747 1434.07,405.837 1444.02,411.328 1453.98,418.19 1463.94,426.291 1473.9,435.404 1483.86,445.238 1493.81,455.474 1503.77,465.801 1513.73,475.958 1523.69,485.761 1533.65,495.119 1543.61,504.04 1553.56,512.623 1563.52,521.041 1573.48,529.511 1583.44,538.268 1593.4,547.541 1603.35,557.526 1613.31,568.377 1623.27,580.195 1633.23,593.027 1643.19,606.879 1653.14,621.714 1663.1,637.471 1673.06,654.071 1683.02,671.421 1692.98,689.423 1702.93,707.971 1712.89,726.952 1722.85,746.244 1732.81,765.716 1742.77,785.228 1752.72,804.638 1762.68,823.804 1772.64,842.603 1782.6,860.933 1792.56,878.735 1802.52,895.998 1812.47,912.771 1822.43,929.165 1832.39,945.35 1842.35,961.544 1852.31,978.002 1862.26,994.99 1872.22,1012.76 1882.18,1031.54 1892.14,1051.49 1902.1,1072.69 1912.05,1095.13 1922.01,1118.73 1931.97,1143.27 1941.93,1168.51 1951.89,1194.1 1961.84,1219.67 1971.8,1244.83 1981.76,1269.21 1991.72,1292.44 2001.68,1314.24 2011.64,1334.35 2021.59,1352.6 2031.55,1368.9 2041.51,1383.21 2051.47,1395.57 2061.43,1406.06 2071.38,1414.82 2081.34,1422.01 2091.3,1427.81 2101.26,1432.4 2111.22,1435.98 2121.17,1438.71 2131.13,1440.76 2141.09,1442.27 2151.05,1443.36 2161.01,1444.14 2170.96,1444.68 2180.92,1445.05 2190.88,1445.3 2200.84,1445.46 2210.8,1445.56 2220.75,1445.63 2230.71,1445.67 2240.67,1445.69 2250.63,1445.7 2260.59,1445.71 \"/>\n",
       "<polyline clip-path=\"url(#clip892)\" style=\"stroke:#c271d2; stroke-linecap:round; stroke-linejoin:round; stroke-width:4; stroke-opacity:1; fill:none\" points=\"297.058,1445.72 306.834,1445.71 316.61,1445.71 326.386,1445.69 336.162,1445.67 345.938,1445.63 355.713,1445.56 365.489,1445.46 375.265,1445.3 385.041,1445.07 394.817,1444.72 404.593,1444.22 414.369,1443.52 424.145,1442.56 433.92,1441.28 443.696,1439.59 453.472,1437.43 463.248,1434.71 473.024,1431.38 482.8,1427.37 492.576,1422.65 502.352,1417.19 512.127,1410.99 521.903,1404.07 531.679,1396.48 541.455,1388.27 551.231,1379.5 561.007,1370.25 570.783,1360.59 580.559,1350.59 590.334,1340.3 600.11,1329.81 609.886,1319.17 619.662,1308.44 629.438,1297.69 639.214,1286.98 648.99,1276.36 658.766,1265.87 668.542,1255.55 678.317,1245.38 688.093,1235.33 697.869,1225.33 707.645,1215.26 717.421,1204.97 727.197,1194.27 736.973,1182.95 746.749,1170.79 756.524,1157.56 766.3,1143.07 776.076,1127.14 785.852,1109.63 795.628,1090.47 805.404,1069.66 815.18,1047.27 824.956,1023.43 834.731,998.367 844.507,972.376 854.283,945.805 864.059,919.05 873.835,892.527 883.611,866.652 893.387,841.812 903.163,818.337 912.938,796.482 922.714,776.4 932.49,758.14 942.266,741.643 952.042,726.75 961.818,713.228 971.594,700.787 981.37,689.12 991.145,677.928 1000.92,666.953 1010.7,655.99 1020.47,644.903 1030.25,633.62 1040.02,622.12 1049.8,610.416 1059.58,598.528 1069.35,586.46 1079.13,574.18 1088.9,561.609 1098.68,548.617 1108.46,535.034 1118.23,520.666 1128.01,505.327 1137.78,488.865 1147.56,471.195 1157.34,452.328 1167.11,432.384 1176.89,411.601 1186.66,390.324 1196.44,368.985 1206.21,348.062 1215.99,328.045 1225.77,309.383 1235.54,292.452 1245.32,277.514 1255.09,264.709 1264.87,254.047 1274.65,245.423 1284.42,238.647 1294.2,233.469 1303.97,229.624 1313.75,226.856 1323.53,224.946 1333.3,223.722 1343.08,223.062 1352.85,222.887 1362.63,223.143 1372.4,223.783 1382.18,224.75 1391.96,225.963 1401.73,227.303 1411.51,228.616 1421.28,229.71 1431.06,230.367 1440.84,230.358 1450.61,229.451 1460.39,227.44 1470.16,224.157 1479.94,219.497 1489.72,213.436 1499.49,206.05 1509.27,197.526 1519.04,188.169 1528.82,178.393 1538.59,168.711 1548.37,159.703 1558.15,151.982 1567.92,146.145 1577.7,142.731 1587.47,142.172 1597.25,144.754 1607.03,150.592 1616.8,159.619 1626.58,171.593 1636.35,186.122 1646.13,202.701 1655.91,220.76 1665.68,239.721 1675.46,259.047 1685.23,278.284 1695.01,297.1 1704.78,315.298 1714.56,332.82 1724.34,349.739 1734.11,366.233 1743.89,382.56 1753.66,399.027 1763.44,415.965 1773.22,433.702 1782.99,452.55 1792.77,472.795 1802.54,494.693 1812.32,518.466 1822.1,544.303 1831.87,572.355 1841.65,602.73 1851.42,635.485 1861.2,670.612 1870.97,708.032 1880.75,747.587 1890.53,789.037 1900.3,832.064 1910.08,876.282 1919.85,921.253 1929.63,966.5 1939.41,1011.53 1949.18,1055.84 1958.96,1098.95 1968.73,1140.4 1978.51,1179.78 1988.29,1216.72 1998.06,1250.9 2007.84,1282.1 2017.61,1310.15 2027.39,1334.99 2037.16,1356.62 2046.94,1375.13 2056.72,1390.7 2066.49,1403.55 2076.27,1413.95 2086.04,1422.21 2095.82,1428.64 2105.6,1433.54 2115.37,1437.2 2125.15,1439.87 2134.92,1441.79 2144.7,1443.13 2154.47,1444.05 2164.25,1444.66 2174.03,1445.07 2183.8,1445.33 2193.58,1445.49 2203.35,1445.59 2213.13,1445.65 2222.91,1445.68 2232.68,1445.7 2242.46,1445.71 \"/>\n",
       "<path clip-path=\"url(#clip890)\" d=\"M258.96 354.418 L846.646 354.418 L846.646 95.2176 L258.96 95.2176  Z\" fill=\"#ffffff\" fill-rule=\"evenodd\" fill-opacity=\"1\"/>\n",
       "<polyline clip-path=\"url(#clip890)\" style=\"stroke:#000000; stroke-linecap:round; stroke-linejoin:round; stroke-width:4; stroke-opacity:1; fill:none\" points=\"258.96,354.418 846.646,354.418 846.646,95.2176 258.96,95.2176 258.96,354.418 \"/>\n",
       "<polyline clip-path=\"url(#clip890)\" style=\"stroke:#009af9; stroke-linecap:round; stroke-linejoin:round; stroke-width:4; stroke-opacity:1; fill:none\" points=\"283.027,147.058 427.426,147.058 \"/>\n",
       "<path clip-path=\"url(#clip890)\" d=\"M451.493 129.778 L458.46 129.778 L467.28 153.296 L476.146 129.778 L483.113 129.778 L483.113 164.338 L478.553 164.338 L478.553 133.99 L469.641 157.694 L464.942 157.694 L456.03 133.99 L456.03 164.338 L451.493 164.338 L451.493 129.778 Z\" fill=\"#000000\" fill-rule=\"nonzero\" fill-opacity=\"1\" /><path clip-path=\"url(#clip890)\" d=\"M503.993 151.305 Q498.831 151.305 496.84 152.486 Q494.849 153.666 494.849 156.514 Q494.849 158.782 496.331 160.125 Q497.835 161.444 500.405 161.444 Q503.946 161.444 506.076 158.944 Q508.229 156.421 508.229 152.254 L508.229 151.305 L503.993 151.305 M512.488 149.546 L512.488 164.338 L508.229 164.338 L508.229 160.402 Q506.77 162.763 504.594 163.898 Q502.419 165.009 499.27 165.009 Q495.289 165.009 492.928 162.787 Q490.59 160.541 490.59 156.791 Q490.59 152.416 493.507 150.194 Q496.446 147.972 502.257 147.972 L508.229 147.972 L508.229 147.555 Q508.229 144.615 506.284 143.018 Q504.363 141.398 500.868 141.398 Q498.645 141.398 496.539 141.93 Q494.433 142.463 492.488 143.527 L492.488 139.592 Q494.826 138.69 497.025 138.25 Q499.224 137.787 501.307 137.787 Q506.932 137.787 509.71 140.703 Q512.488 143.62 512.488 149.546 Z\" fill=\"#000000\" fill-rule=\"nonzero\" fill-opacity=\"1\" /><path clip-path=\"url(#clip890)\" d=\"M521.261 128.319 L525.52 128.319 L525.52 164.338 L521.261 164.338 L521.261 128.319 Z\" fill=\"#000000\" fill-rule=\"nonzero\" fill-opacity=\"1\" /><path clip-path=\"url(#clip890)\" d=\"M556.608 150.31 L556.608 152.393 L537.025 152.393 Q537.303 156.791 539.664 159.106 Q542.048 161.398 546.284 161.398 Q548.738 161.398 551.029 160.796 Q553.344 160.194 555.613 158.99 L555.613 163.018 Q553.321 163.99 550.914 164.5 Q548.506 165.009 546.029 165.009 Q539.826 165.009 536.192 161.398 Q532.58 157.787 532.58 151.629 Q532.58 145.264 536.006 141.537 Q539.455 137.787 545.289 137.787 Q550.52 137.787 553.553 141.166 Q556.608 144.523 556.608 150.31 M552.349 149.06 Q552.303 145.565 550.381 143.481 Q548.483 141.398 545.335 141.398 Q541.77 141.398 539.617 143.412 Q537.488 145.426 537.164 149.083 L552.349 149.06 Z\" fill=\"#000000\" fill-rule=\"nonzero\" fill-opacity=\"1\" /><path clip-path=\"url(#clip890)\" d=\"M583.529 133.62 L583.529 146.606 L589.409 146.606 Q592.673 146.606 594.455 144.916 Q596.238 143.227 596.238 140.102 Q596.238 137 594.455 135.31 Q592.673 133.62 589.409 133.62 L583.529 133.62 M578.853 129.778 L589.409 129.778 Q595.219 129.778 598.182 132.416 Q601.168 135.032 601.168 140.102 Q601.168 145.217 598.182 147.833 Q595.219 150.449 589.409 150.449 L583.529 150.449 L583.529 164.338 L578.853 164.338 L578.853 129.778 Z\" fill=\"#000000\" fill-rule=\"nonzero\" fill-opacity=\"1\" /><path clip-path=\"url(#clip890)\" d=\"M605.983 154.106 L605.983 138.412 L610.242 138.412 L610.242 153.944 Q610.242 157.625 611.677 159.476 Q613.112 161.305 615.983 161.305 Q619.432 161.305 621.423 159.106 Q623.436 156.907 623.436 153.111 L623.436 138.412 L627.696 138.412 L627.696 164.338 L623.436 164.338 L623.436 160.356 Q621.886 162.717 619.825 163.875 Q617.788 165.009 615.08 165.009 Q610.612 165.009 608.298 162.231 Q605.983 159.453 605.983 154.106 M616.7 137.787 L616.7 137.787 Z\" fill=\"#000000\" fill-rule=\"nonzero\" fill-opacity=\"1\" /><path clip-path=\"url(#clip890)\" d=\"M655.08 151.398 Q655.08 146.699 653.135 144.037 Q651.214 141.352 647.834 141.352 Q644.455 141.352 642.51 144.037 Q640.589 146.699 640.589 151.398 Q640.589 156.097 642.51 158.782 Q644.455 161.444 647.834 161.444 Q651.214 161.444 653.135 158.782 Q655.08 156.097 655.08 151.398 M640.589 142.347 Q641.932 140.032 643.969 138.921 Q646.029 137.787 648.876 137.787 Q653.598 137.787 656.538 141.537 Q659.501 145.287 659.501 151.398 Q659.501 157.509 656.538 161.259 Q653.598 165.009 648.876 165.009 Q646.029 165.009 643.969 163.898 Q641.932 162.763 640.589 160.449 L640.589 164.338 L636.307 164.338 L636.307 128.319 L640.589 128.319 L640.589 142.347 Z\" fill=\"#000000\" fill-rule=\"nonzero\" fill-opacity=\"1\" /><path clip-path=\"url(#clip890)\" d=\"M666.561 128.319 L670.82 128.319 L670.82 164.338 L666.561 164.338 L666.561 128.319 Z\" fill=\"#000000\" fill-rule=\"nonzero\" fill-opacity=\"1\" /><path clip-path=\"url(#clip890)\" d=\"M679.732 138.412 L683.992 138.412 L683.992 164.338 L679.732 164.338 L679.732 138.412 M679.732 128.319 L683.992 128.319 L683.992 133.713 L679.732 133.713 L679.732 128.319 Z\" fill=\"#000000\" fill-rule=\"nonzero\" fill-opacity=\"1\" /><path clip-path=\"url(#clip890)\" d=\"M711.561 139.407 L711.561 143.389 Q709.755 142.393 707.927 141.907 Q706.121 141.398 704.269 141.398 Q700.126 141.398 697.834 144.037 Q695.543 146.652 695.543 151.398 Q695.543 156.143 697.834 158.782 Q700.126 161.398 704.269 161.398 Q706.121 161.398 707.927 160.912 Q709.755 160.402 711.561 159.407 L711.561 163.342 Q709.779 164.176 707.857 164.592 Q705.959 165.009 703.806 165.009 Q697.95 165.009 694.501 161.328 Q691.052 157.648 691.052 151.398 Q691.052 145.055 694.524 141.421 Q698.019 137.787 704.084 137.787 Q706.052 137.787 707.927 138.203 Q709.802 138.597 711.561 139.407 Z\" fill=\"#000000\" fill-rule=\"nonzero\" fill-opacity=\"1\" /><polyline clip-path=\"url(#clip890)\" style=\"stroke:#e26f46; stroke-linecap:round; stroke-linejoin:round; stroke-width:4; stroke-opacity:1; fill:none\" points=\"283.027,198.898 427.426,198.898 \"/>\n",
       "<path clip-path=\"url(#clip890)\" d=\"M451.493 181.618 L458.46 181.618 L467.28 205.136 L476.146 181.618 L483.113 181.618 L483.113 216.178 L478.553 216.178 L478.553 185.83 L469.641 209.534 L464.942 209.534 L456.03 185.83 L456.03 216.178 L451.493 216.178 L451.493 181.618 Z\" fill=\"#000000\" fill-rule=\"nonzero\" fill-opacity=\"1\" /><path clip-path=\"url(#clip890)\" d=\"M503.993 203.145 Q498.831 203.145 496.84 204.326 Q494.849 205.506 494.849 208.354 Q494.849 210.622 496.331 211.965 Q497.835 213.284 500.405 213.284 Q503.946 213.284 506.076 210.784 Q508.229 208.261 508.229 204.094 L508.229 203.145 L503.993 203.145 M512.488 201.386 L512.488 216.178 L508.229 216.178 L508.229 212.242 Q506.77 214.603 504.594 215.738 Q502.419 216.849 499.27 216.849 Q495.289 216.849 492.928 214.627 Q490.59 212.381 490.59 208.631 Q490.59 204.256 493.507 202.034 Q496.446 199.812 502.257 199.812 L508.229 199.812 L508.229 199.395 Q508.229 196.455 506.284 194.858 Q504.363 193.238 500.868 193.238 Q498.645 193.238 496.539 193.77 Q494.433 194.303 492.488 195.367 L492.488 191.432 Q494.826 190.53 497.025 190.09 Q499.224 189.627 501.307 189.627 Q506.932 189.627 509.71 192.543 Q512.488 195.46 512.488 201.386 Z\" fill=\"#000000\" fill-rule=\"nonzero\" fill-opacity=\"1\" /><path clip-path=\"url(#clip890)\" d=\"M521.261 180.159 L525.52 180.159 L525.52 216.178 L521.261 216.178 L521.261 180.159 Z\" fill=\"#000000\" fill-rule=\"nonzero\" fill-opacity=\"1\" /><path clip-path=\"url(#clip890)\" d=\"M556.608 202.15 L556.608 204.233 L537.025 204.233 Q537.303 208.631 539.664 210.946 Q542.048 213.238 546.284 213.238 Q548.738 213.238 551.029 212.636 Q553.344 212.034 555.613 210.83 L555.613 214.858 Q553.321 215.83 550.914 216.34 Q548.506 216.849 546.029 216.849 Q539.826 216.849 536.192 213.238 Q532.58 209.627 532.58 203.469 Q532.58 197.104 536.006 193.377 Q539.455 189.627 545.289 189.627 Q550.52 189.627 553.553 193.006 Q556.608 196.363 556.608 202.15 M552.349 200.9 Q552.303 197.405 550.381 195.321 Q548.483 193.238 545.335 193.238 Q541.77 193.238 539.617 195.252 Q537.488 197.266 537.164 200.923 L552.349 200.9 Z\" fill=\"#000000\" fill-rule=\"nonzero\" fill-opacity=\"1\" /><path clip-path=\"url(#clip890)\" d=\"M604.733 184.28 L604.733 189.21 Q602.372 187.011 599.687 185.923 Q597.025 184.835 594.015 184.835 Q588.089 184.835 584.941 188.469 Q581.793 192.08 581.793 198.932 Q581.793 205.761 584.941 209.395 Q588.089 213.006 594.015 213.006 Q597.025 213.006 599.687 211.918 Q602.372 210.83 604.733 208.631 L604.733 213.516 Q602.279 215.182 599.525 216.016 Q596.793 216.849 593.738 216.849 Q585.89 216.849 581.376 212.057 Q576.863 207.242 576.863 198.932 Q576.863 190.599 581.376 185.807 Q585.89 180.993 593.738 180.993 Q596.839 180.993 599.571 181.826 Q602.325 182.636 604.733 184.28 Z\" fill=\"#000000\" fill-rule=\"nonzero\" fill-opacity=\"1\" /><path clip-path=\"url(#clip890)\" d=\"M623.552 203.145 Q618.39 203.145 616.399 204.326 Q614.409 205.506 614.409 208.354 Q614.409 210.622 615.89 211.965 Q617.395 213.284 619.964 213.284 Q623.506 213.284 625.636 210.784 Q627.788 208.261 627.788 204.094 L627.788 203.145 L623.552 203.145 M632.048 201.386 L632.048 216.178 L627.788 216.178 L627.788 212.242 Q626.33 214.603 624.154 215.738 Q621.978 216.849 618.83 216.849 Q614.849 216.849 612.487 214.627 Q610.149 212.381 610.149 208.631 Q610.149 204.256 613.066 202.034 Q616.006 199.812 621.816 199.812 L627.788 199.812 L627.788 199.395 Q627.788 196.455 625.844 194.858 Q623.923 193.238 620.427 193.238 Q618.205 193.238 616.099 193.77 Q613.992 194.303 612.048 195.367 L612.048 191.432 Q614.386 190.53 616.585 190.09 Q618.784 189.627 620.867 189.627 Q626.492 189.627 629.27 192.543 Q632.048 195.46 632.048 201.386 Z\" fill=\"#000000\" fill-rule=\"nonzero\" fill-opacity=\"1\" /><path clip-path=\"url(#clip890)\" d=\"M645.034 182.891 L645.034 190.252 L653.807 190.252 L653.807 193.562 L645.034 193.562 L645.034 207.636 Q645.034 210.807 645.89 211.71 Q646.77 212.613 649.432 212.613 L653.807 212.613 L653.807 216.178 L649.432 216.178 Q644.501 216.178 642.626 214.349 Q640.751 212.497 640.751 207.636 L640.751 193.562 L637.626 193.562 L637.626 190.252 L640.751 190.252 L640.751 182.891 L645.034 182.891 Z\" fill=\"#000000\" fill-rule=\"nonzero\" fill-opacity=\"1\" /><path clip-path=\"url(#clip890)\" d=\"M680.959 200.529 L680.959 216.178 L676.7 216.178 L676.7 200.668 Q676.7 196.988 675.265 195.159 Q673.83 193.33 670.959 193.33 Q667.51 193.33 665.52 195.53 Q663.529 197.729 663.529 201.525 L663.529 216.178 L659.246 216.178 L659.246 180.159 L663.529 180.159 L663.529 194.28 Q665.057 191.942 667.117 190.784 Q669.2 189.627 671.908 189.627 Q676.376 189.627 678.668 192.405 Q680.959 195.159 680.959 200.529 Z\" fill=\"#000000\" fill-rule=\"nonzero\" fill-opacity=\"1\" /><path clip-path=\"url(#clip890)\" d=\"M699.501 193.238 Q696.075 193.238 694.084 195.923 Q692.093 198.585 692.093 203.238 Q692.093 207.891 694.061 210.576 Q696.052 213.238 699.501 213.238 Q702.904 213.238 704.894 210.553 Q706.885 207.867 706.885 203.238 Q706.885 198.631 704.894 195.946 Q702.904 193.238 699.501 193.238 M699.501 189.627 Q705.056 189.627 708.228 193.238 Q711.399 196.849 711.399 203.238 Q711.399 209.604 708.228 213.238 Q705.056 216.849 699.501 216.849 Q693.922 216.849 690.751 213.238 Q687.603 209.604 687.603 203.238 Q687.603 196.849 690.751 193.238 Q693.922 189.627 699.501 189.627 Z\" fill=\"#000000\" fill-rule=\"nonzero\" fill-opacity=\"1\" /><path clip-path=\"url(#clip890)\" d=\"M718.459 180.159 L722.718 180.159 L722.718 216.178 L718.459 216.178 L718.459 180.159 Z\" fill=\"#000000\" fill-rule=\"nonzero\" fill-opacity=\"1\" /><path clip-path=\"url(#clip890)\" d=\"M731.63 190.252 L735.89 190.252 L735.89 216.178 L731.63 216.178 L731.63 190.252 M731.63 180.159 L735.89 180.159 L735.89 185.553 L731.63 185.553 L731.63 180.159 Z\" fill=\"#000000\" fill-rule=\"nonzero\" fill-opacity=\"1\" /><path clip-path=\"url(#clip890)\" d=\"M763.459 191.247 L763.459 195.229 Q761.653 194.233 759.825 193.747 Q758.019 193.238 756.167 193.238 Q752.024 193.238 749.732 195.877 Q747.44 198.492 747.44 203.238 Q747.44 207.983 749.732 210.622 Q752.024 213.238 756.167 213.238 Q758.019 213.238 759.825 212.752 Q761.653 212.242 763.459 211.247 L763.459 215.182 Q761.676 216.016 759.755 216.432 Q757.857 216.849 755.704 216.849 Q749.848 216.849 746.399 213.168 Q742.95 209.488 742.95 203.238 Q742.95 196.895 746.422 193.261 Q749.917 189.627 755.982 189.627 Q757.95 189.627 759.825 190.043 Q761.7 190.437 763.459 191.247 Z\" fill=\"#000000\" fill-rule=\"nonzero\" fill-opacity=\"1\" /><polyline clip-path=\"url(#clip890)\" style=\"stroke:#3da44d; stroke-linecap:round; stroke-linejoin:round; stroke-width:4; stroke-opacity:1; fill:none\" points=\"283.027,250.738 427.426,250.738 \"/>\n",
       "<path clip-path=\"url(#clip890)\" d=\"M451.493 233.458 L471.354 233.458 L471.354 237.393 L456.169 237.393 L456.169 247.578 L469.872 247.578 L469.872 251.513 L456.169 251.513 L456.169 268.018 L451.493 268.018 L451.493 233.458 Z\" fill=\"#000000\" fill-rule=\"nonzero\" fill-opacity=\"1\" /><path clip-path=\"url(#clip890)\" d=\"M498.159 253.99 L498.159 256.073 L478.576 256.073 Q478.854 260.471 481.215 262.786 Q483.599 265.078 487.835 265.078 Q490.289 265.078 492.581 264.476 Q494.895 263.874 497.164 262.67 L497.164 266.698 Q494.872 267.67 492.465 268.18 Q490.058 268.689 487.581 268.689 Q481.377 268.689 477.743 265.078 Q474.132 261.467 474.132 255.309 Q474.132 248.944 477.558 245.217 Q481.007 241.467 486.84 241.467 Q492.071 241.467 495.104 244.846 Q498.159 248.203 498.159 253.99 M493.9 252.74 Q493.854 249.245 491.933 247.161 Q490.034 245.078 486.886 245.078 Q483.321 245.078 481.169 247.092 Q479.039 249.106 478.715 252.763 L493.9 252.74 Z\" fill=\"#000000\" fill-rule=\"nonzero\" fill-opacity=\"1\" /><path clip-path=\"url(#clip890)\" d=\"M525.335 247.069 Q526.932 244.198 529.155 242.833 Q531.377 241.467 534.386 241.467 Q538.437 241.467 540.636 244.314 Q542.835 247.138 542.835 252.369 L542.835 268.018 L538.553 268.018 L538.553 252.508 Q538.553 248.782 537.233 246.976 Q535.914 245.17 533.205 245.17 Q529.895 245.17 527.974 247.37 Q526.053 249.569 526.053 253.365 L526.053 268.018 L521.77 268.018 L521.77 252.508 Q521.77 248.758 520.451 246.976 Q519.131 245.17 516.377 245.17 Q513.113 245.17 511.192 247.393 Q509.27 249.592 509.27 253.365 L509.27 268.018 L504.988 268.018 L504.988 242.092 L509.27 242.092 L509.27 246.12 Q510.729 243.735 512.766 242.601 Q514.803 241.467 517.604 241.467 Q520.428 241.467 522.395 242.902 Q524.386 244.337 525.335 247.069 Z\" fill=\"#000000\" fill-rule=\"nonzero\" fill-opacity=\"1\" /><path clip-path=\"url(#clip890)\" d=\"M563.113 254.985 Q557.951 254.985 555.96 256.166 Q553.969 257.346 553.969 260.194 Q553.969 262.462 555.451 263.805 Q556.955 265.124 559.525 265.124 Q563.066 265.124 565.196 262.624 Q567.349 260.101 567.349 255.934 L567.349 254.985 L563.113 254.985 M571.608 253.226 L571.608 268.018 L567.349 268.018 L567.349 264.082 Q565.89 266.443 563.715 267.578 Q561.539 268.689 558.391 268.689 Q554.409 268.689 552.048 266.467 Q549.71 264.221 549.71 260.471 Q549.71 256.096 552.627 253.874 Q555.566 251.652 561.377 251.652 L567.349 251.652 L567.349 251.235 Q567.349 248.295 565.404 246.698 Q563.483 245.078 559.988 245.078 Q557.766 245.078 555.659 245.61 Q553.553 246.143 551.608 247.207 L551.608 243.272 Q553.946 242.37 556.145 241.93 Q558.344 241.467 560.428 241.467 Q566.053 241.467 568.83 244.383 Q571.608 247.3 571.608 253.226 Z\" fill=\"#000000\" fill-rule=\"nonzero\" fill-opacity=\"1\" /><path clip-path=\"url(#clip890)\" d=\"M580.381 231.999 L584.64 231.999 L584.64 268.018 L580.381 268.018 L580.381 231.999 Z\" fill=\"#000000\" fill-rule=\"nonzero\" fill-opacity=\"1\" /><path clip-path=\"url(#clip890)\" d=\"M615.728 253.99 L615.728 256.073 L596.145 256.073 Q596.423 260.471 598.784 262.786 Q601.168 265.078 605.404 265.078 Q607.858 265.078 610.149 264.476 Q612.464 263.874 614.733 262.67 L614.733 266.698 Q612.441 267.67 610.034 268.18 Q607.626 268.689 605.15 268.689 Q598.946 268.689 595.312 265.078 Q591.701 261.467 591.701 255.309 Q591.701 248.944 595.126 245.217 Q598.575 241.467 604.409 241.467 Q609.64 241.467 612.673 244.846 Q615.728 248.203 615.728 253.99 M611.469 252.74 Q611.423 249.245 609.501 247.161 Q607.603 245.078 604.455 245.078 Q600.89 245.078 598.738 247.092 Q596.608 249.106 596.284 252.763 L611.469 252.74 Z\" fill=\"#000000\" fill-rule=\"nonzero\" fill-opacity=\"1\" /><path clip-path=\"url(#clip890)\" d=\"M642.649 237.3 L642.649 250.286 L648.529 250.286 Q651.793 250.286 653.575 248.596 Q655.358 246.907 655.358 243.782 Q655.358 240.68 653.575 238.99 Q651.793 237.3 648.529 237.3 L642.649 237.3 M637.973 233.458 L648.529 233.458 Q654.339 233.458 657.302 236.096 Q660.288 238.712 660.288 243.782 Q660.288 248.897 657.302 251.513 Q654.339 254.129 648.529 254.129 L642.649 254.129 L642.649 268.018 L637.973 268.018 L637.973 233.458 Z\" fill=\"#000000\" fill-rule=\"nonzero\" fill-opacity=\"1\" /><path clip-path=\"url(#clip890)\" d=\"M665.103 257.786 L665.103 242.092 L669.362 242.092 L669.362 257.624 Q669.362 261.305 670.797 263.156 Q672.232 264.985 675.103 264.985 Q678.552 264.985 680.543 262.786 Q682.557 260.587 682.557 256.791 L682.557 242.092 L686.816 242.092 L686.816 268.018 L682.557 268.018 L682.557 264.036 Q681.006 266.397 678.945 267.555 Q676.908 268.689 674.2 268.689 Q669.733 268.689 667.418 265.911 Q665.103 263.133 665.103 257.786 M675.82 241.467 L675.82 241.467 Z\" fill=\"#000000\" fill-rule=\"nonzero\" fill-opacity=\"1\" /><path clip-path=\"url(#clip890)\" d=\"M714.2 255.078 Q714.2 250.379 712.255 247.717 Q710.334 245.032 706.955 245.032 Q703.575 245.032 701.63 247.717 Q699.709 250.379 699.709 255.078 Q699.709 259.777 701.63 262.462 Q703.575 265.124 706.955 265.124 Q710.334 265.124 712.255 262.462 Q714.2 259.777 714.2 255.078 M699.709 246.027 Q701.052 243.712 703.089 242.601 Q705.149 241.467 707.996 241.467 Q712.718 241.467 715.658 245.217 Q718.621 248.967 718.621 255.078 Q718.621 261.189 715.658 264.939 Q712.718 268.689 707.996 268.689 Q705.149 268.689 703.089 267.578 Q701.052 266.443 699.709 264.129 L699.709 268.018 L695.427 268.018 L695.427 231.999 L699.709 231.999 L699.709 246.027 Z\" fill=\"#000000\" fill-rule=\"nonzero\" fill-opacity=\"1\" /><path clip-path=\"url(#clip890)\" d=\"M725.681 231.999 L729.941 231.999 L729.941 268.018 L725.681 268.018 L725.681 231.999 Z\" fill=\"#000000\" fill-rule=\"nonzero\" fill-opacity=\"1\" /><path clip-path=\"url(#clip890)\" d=\"M738.853 242.092 L743.112 242.092 L743.112 268.018 L738.853 268.018 L738.853 242.092 M738.853 231.999 L743.112 231.999 L743.112 237.393 L738.853 237.393 L738.853 231.999 Z\" fill=\"#000000\" fill-rule=\"nonzero\" fill-opacity=\"1\" /><path clip-path=\"url(#clip890)\" d=\"M770.681 243.087 L770.681 247.069 Q768.875 246.073 767.047 245.587 Q765.241 245.078 763.389 245.078 Q759.246 245.078 756.954 247.717 Q754.663 250.332 754.663 255.078 Q754.663 259.823 756.954 262.462 Q759.246 265.078 763.389 265.078 Q765.241 265.078 767.047 264.592 Q768.875 264.082 770.681 263.087 L770.681 267.022 Q768.899 267.856 766.977 268.272 Q765.079 268.689 762.926 268.689 Q757.07 268.689 753.621 265.008 Q750.172 261.328 750.172 255.078 Q750.172 248.735 753.644 245.101 Q757.139 241.467 763.204 241.467 Q765.172 241.467 767.047 241.883 Q768.922 242.277 770.681 243.087 Z\" fill=\"#000000\" fill-rule=\"nonzero\" fill-opacity=\"1\" /><polyline clip-path=\"url(#clip890)\" style=\"stroke:#c271d2; stroke-linecap:round; stroke-linejoin:round; stroke-width:4; stroke-opacity:1; fill:none\" points=\"283.027,302.578 427.426,302.578 \"/>\n",
       "<path clip-path=\"url(#clip890)\" d=\"M451.493 285.298 L471.354 285.298 L471.354 289.233 L456.169 289.233 L456.169 299.418 L469.872 299.418 L469.872 303.353 L456.169 303.353 L456.169 319.858 L451.493 319.858 L451.493 285.298 Z\" fill=\"#000000\" fill-rule=\"nonzero\" fill-opacity=\"1\" /><path clip-path=\"url(#clip890)\" d=\"M498.159 305.83 L498.159 307.913 L478.576 307.913 Q478.854 312.311 481.215 314.626 Q483.599 316.918 487.835 316.918 Q490.289 316.918 492.581 316.316 Q494.895 315.714 497.164 314.51 L497.164 318.538 Q494.872 319.51 492.465 320.02 Q490.058 320.529 487.581 320.529 Q481.377 320.529 477.743 316.918 Q474.132 313.307 474.132 307.149 Q474.132 300.784 477.558 297.057 Q481.007 293.307 486.84 293.307 Q492.071 293.307 495.104 296.686 Q498.159 300.043 498.159 305.83 M493.9 304.58 Q493.854 301.085 491.933 299.001 Q490.034 296.918 486.886 296.918 Q483.321 296.918 481.169 298.932 Q479.039 300.946 478.715 304.603 L493.9 304.58 Z\" fill=\"#000000\" fill-rule=\"nonzero\" fill-opacity=\"1\" /><path clip-path=\"url(#clip890)\" d=\"M525.335 298.909 Q526.932 296.038 529.155 294.673 Q531.377 293.307 534.386 293.307 Q538.437 293.307 540.636 296.154 Q542.835 298.978 542.835 304.209 L542.835 319.858 L538.553 319.858 L538.553 304.348 Q538.553 300.622 537.233 298.816 Q535.914 297.01 533.205 297.01 Q529.895 297.01 527.974 299.21 Q526.053 301.409 526.053 305.205 L526.053 319.858 L521.77 319.858 L521.77 304.348 Q521.77 300.598 520.451 298.816 Q519.131 297.01 516.377 297.01 Q513.113 297.01 511.192 299.233 Q509.27 301.432 509.27 305.205 L509.27 319.858 L504.988 319.858 L504.988 293.932 L509.27 293.932 L509.27 297.96 Q510.729 295.575 512.766 294.441 Q514.803 293.307 517.604 293.307 Q520.428 293.307 522.395 294.742 Q524.386 296.177 525.335 298.909 Z\" fill=\"#000000\" fill-rule=\"nonzero\" fill-opacity=\"1\" /><path clip-path=\"url(#clip890)\" d=\"M563.113 306.825 Q557.951 306.825 555.96 308.006 Q553.969 309.186 553.969 312.034 Q553.969 314.302 555.451 315.645 Q556.955 316.964 559.525 316.964 Q563.066 316.964 565.196 314.464 Q567.349 311.941 567.349 307.774 L567.349 306.825 L563.113 306.825 M571.608 305.066 L571.608 319.858 L567.349 319.858 L567.349 315.922 Q565.89 318.283 563.715 319.418 Q561.539 320.529 558.391 320.529 Q554.409 320.529 552.048 318.307 Q549.71 316.061 549.71 312.311 Q549.71 307.936 552.627 305.714 Q555.566 303.492 561.377 303.492 L567.349 303.492 L567.349 303.075 Q567.349 300.135 565.404 298.538 Q563.483 296.918 559.988 296.918 Q557.766 296.918 555.659 297.45 Q553.553 297.983 551.608 299.047 L551.608 295.112 Q553.946 294.21 556.145 293.77 Q558.344 293.307 560.428 293.307 Q566.053 293.307 568.83 296.223 Q571.608 299.14 571.608 305.066 Z\" fill=\"#000000\" fill-rule=\"nonzero\" fill-opacity=\"1\" /><path clip-path=\"url(#clip890)\" d=\"M580.381 283.839 L584.64 283.839 L584.64 319.858 L580.381 319.858 L580.381 283.839 Z\" fill=\"#000000\" fill-rule=\"nonzero\" fill-opacity=\"1\" /><path clip-path=\"url(#clip890)\" d=\"M615.728 305.83 L615.728 307.913 L596.145 307.913 Q596.423 312.311 598.784 314.626 Q601.168 316.918 605.404 316.918 Q607.858 316.918 610.149 316.316 Q612.464 315.714 614.733 314.51 L614.733 318.538 Q612.441 319.51 610.034 320.02 Q607.626 320.529 605.15 320.529 Q598.946 320.529 595.312 316.918 Q591.701 313.307 591.701 307.149 Q591.701 300.784 595.126 297.057 Q598.575 293.307 604.409 293.307 Q609.64 293.307 612.673 296.686 Q615.728 300.043 615.728 305.83 M611.469 304.58 Q611.423 301.085 609.501 299.001 Q607.603 296.918 604.455 296.918 Q600.89 296.918 598.738 298.932 Q596.608 300.946 596.284 304.603 L611.469 304.58 Z\" fill=\"#000000\" fill-rule=\"nonzero\" fill-opacity=\"1\" /><path clip-path=\"url(#clip890)\" d=\"M663.853 287.96 L663.853 292.89 Q661.492 290.691 658.807 289.603 Q656.145 288.515 653.135 288.515 Q647.209 288.515 644.061 292.149 Q640.913 295.76 640.913 302.612 Q640.913 309.441 644.061 313.075 Q647.209 316.686 653.135 316.686 Q656.145 316.686 658.807 315.598 Q661.492 314.51 663.853 312.311 L663.853 317.196 Q661.399 318.862 658.645 319.696 Q655.913 320.529 652.858 320.529 Q645.01 320.529 640.497 315.737 Q635.983 310.922 635.983 302.612 Q635.983 294.279 640.497 289.487 Q645.01 284.673 652.858 284.673 Q655.959 284.673 658.691 285.506 Q661.446 286.316 663.853 287.96 Z\" fill=\"#000000\" fill-rule=\"nonzero\" fill-opacity=\"1\" /><path clip-path=\"url(#clip890)\" d=\"M682.672 306.825 Q677.51 306.825 675.52 308.006 Q673.529 309.186 673.529 312.034 Q673.529 314.302 675.01 315.645 Q676.515 316.964 679.084 316.964 Q682.626 316.964 684.756 314.464 Q686.908 311.941 686.908 307.774 L686.908 306.825 L682.672 306.825 M691.168 305.066 L691.168 319.858 L686.908 319.858 L686.908 315.922 Q685.45 318.283 683.274 319.418 Q681.098 320.529 677.95 320.529 Q673.969 320.529 671.607 318.307 Q669.27 316.061 669.27 312.311 Q669.27 307.936 672.186 305.714 Q675.126 303.492 680.936 303.492 L686.908 303.492 L686.908 303.075 Q686.908 300.135 684.964 298.538 Q683.043 296.918 679.547 296.918 Q677.325 296.918 675.219 297.45 Q673.112 297.983 671.168 299.047 L671.168 295.112 Q673.506 294.21 675.705 293.77 Q677.904 293.307 679.987 293.307 Q685.612 293.307 688.39 296.223 Q691.168 299.14 691.168 305.066 Z\" fill=\"#000000\" fill-rule=\"nonzero\" fill-opacity=\"1\" /><path clip-path=\"url(#clip890)\" d=\"M704.154 286.571 L704.154 293.932 L712.927 293.932 L712.927 297.242 L704.154 297.242 L704.154 311.316 Q704.154 314.487 705.01 315.39 Q705.89 316.293 708.552 316.293 L712.927 316.293 L712.927 319.858 L708.552 319.858 Q703.621 319.858 701.746 318.029 Q699.871 316.177 699.871 311.316 L699.871 297.242 L696.746 297.242 L696.746 293.932 L699.871 293.932 L699.871 286.571 L704.154 286.571 Z\" fill=\"#000000\" fill-rule=\"nonzero\" fill-opacity=\"1\" /><path clip-path=\"url(#clip890)\" d=\"M740.079 304.209 L740.079 319.858 L735.82 319.858 L735.82 304.348 Q735.82 300.668 734.385 298.839 Q732.95 297.01 730.079 297.01 Q726.63 297.01 724.64 299.21 Q722.649 301.409 722.649 305.205 L722.649 319.858 L718.366 319.858 L718.366 283.839 L722.649 283.839 L722.649 297.96 Q724.177 295.622 726.237 294.464 Q728.32 293.307 731.028 293.307 Q735.496 293.307 737.788 296.085 Q740.079 298.839 740.079 304.209 Z\" fill=\"#000000\" fill-rule=\"nonzero\" fill-opacity=\"1\" /><path clip-path=\"url(#clip890)\" d=\"M758.621 296.918 Q755.195 296.918 753.204 299.603 Q751.214 302.265 751.214 306.918 Q751.214 311.571 753.181 314.256 Q755.172 316.918 758.621 316.918 Q762.024 316.918 764.014 314.233 Q766.005 311.547 766.005 306.918 Q766.005 302.311 764.014 299.626 Q762.024 296.918 758.621 296.918 M758.621 293.307 Q764.176 293.307 767.348 296.918 Q770.519 300.529 770.519 306.918 Q770.519 313.284 767.348 316.918 Q764.176 320.529 758.621 320.529 Q753.042 320.529 749.871 316.918 Q746.723 313.284 746.723 306.918 Q746.723 300.529 749.871 296.918 Q753.042 293.307 758.621 293.307 Z\" fill=\"#000000\" fill-rule=\"nonzero\" fill-opacity=\"1\" /><path clip-path=\"url(#clip890)\" d=\"M777.579 283.839 L781.838 283.839 L781.838 319.858 L777.579 319.858 L777.579 283.839 Z\" fill=\"#000000\" fill-rule=\"nonzero\" fill-opacity=\"1\" /><path clip-path=\"url(#clip890)\" d=\"M790.75 293.932 L795.01 293.932 L795.01 319.858 L790.75 319.858 L790.75 293.932 M790.75 283.839 L795.01 283.839 L795.01 289.233 L790.75 289.233 L790.75 283.839 Z\" fill=\"#000000\" fill-rule=\"nonzero\" fill-opacity=\"1\" /><path clip-path=\"url(#clip890)\" d=\"M822.579 294.927 L822.579 298.909 Q820.773 297.913 818.945 297.427 Q817.139 296.918 815.287 296.918 Q811.144 296.918 808.852 299.557 Q806.56 302.172 806.56 306.918 Q806.56 311.663 808.852 314.302 Q811.144 316.918 815.287 316.918 Q817.139 316.918 818.945 316.432 Q820.773 315.922 822.579 314.927 L822.579 318.862 Q820.797 319.696 818.875 320.112 Q816.977 320.529 814.824 320.529 Q808.968 320.529 805.519 316.848 Q802.07 313.168 802.07 306.918 Q802.07 300.575 805.542 296.941 Q809.037 293.307 815.102 293.307 Q817.07 293.307 818.945 293.723 Q820.82 294.117 822.579 294.927 Z\" fill=\"#000000\" fill-rule=\"nonzero\" fill-opacity=\"1\" /></svg>\n"
      ],
      "text/html": [
       "<?xml version=\"1.0\" encoding=\"utf-8\"?>\n",
       "<svg xmlns=\"http://www.w3.org/2000/svg\" xmlns:xlink=\"http://www.w3.org/1999/xlink\" width=\"600\" height=\"400\" viewBox=\"0 0 2400 1600\">\n",
       "<defs>\n",
       "  <clipPath id=\"clip940\">\n",
       "    <rect x=\"0\" y=\"0\" width=\"2400\" height=\"1600\"/>\n",
       "  </clipPath>\n",
       "</defs>\n",
       "<path clip-path=\"url(#clip940)\" d=\"M0 1600 L2400 1600 L2400 8.88178e-14 L0 8.88178e-14  Z\" fill=\"#ffffff\" fill-rule=\"evenodd\" fill-opacity=\"1\"/>\n",
       "<defs>\n",
       "  <clipPath id=\"clip941\">\n",
       "    <rect x=\"480\" y=\"0\" width=\"1681\" height=\"1600\"/>\n",
       "  </clipPath>\n",
       "</defs>\n",
       "<path clip-path=\"url(#clip940)\" d=\"M186.76 1486.45 L2352.76 1486.45 L2352.76 47.2441 L186.76 47.2441  Z\" fill=\"#ffffff\" fill-rule=\"evenodd\" fill-opacity=\"1\"/>\n",
       "<defs>\n",
       "  <clipPath id=\"clip942\">\n",
       "    <rect x=\"186\" y=\"47\" width=\"2167\" height=\"1440\"/>\n",
       "  </clipPath>\n",
       "</defs>\n",
       "<polyline clip-path=\"url(#clip942)\" style=\"stroke:#000000; stroke-linecap:round; stroke-linejoin:round; stroke-width:2; stroke-opacity:0.1; fill:none\" points=\"699.911,1486.45 699.911,47.2441 \"/>\n",
       "<polyline clip-path=\"url(#clip942)\" style=\"stroke:#000000; stroke-linecap:round; stroke-linejoin:round; stroke-width:2; stroke-opacity:0.1; fill:none\" points=\"1214.19,1486.45 1214.19,47.2441 \"/>\n",
       "<polyline clip-path=\"url(#clip942)\" style=\"stroke:#000000; stroke-linecap:round; stroke-linejoin:round; stroke-width:2; stroke-opacity:0.1; fill:none\" points=\"1728.47,1486.45 1728.47,47.2441 \"/>\n",
       "<polyline clip-path=\"url(#clip942)\" style=\"stroke:#000000; stroke-linecap:round; stroke-linejoin:round; stroke-width:2; stroke-opacity:0.1; fill:none\" points=\"2242.75,1486.45 2242.75,47.2441 \"/>\n",
       "<polyline clip-path=\"url(#clip940)\" style=\"stroke:#000000; stroke-linecap:round; stroke-linejoin:round; stroke-width:4; stroke-opacity:1; fill:none\" points=\"186.76,1486.45 2352.76,1486.45 \"/>\n",
       "<polyline clip-path=\"url(#clip940)\" style=\"stroke:#000000; stroke-linecap:round; stroke-linejoin:round; stroke-width:4; stroke-opacity:1; fill:none\" points=\"699.911,1486.45 699.911,1467.55 \"/>\n",
       "<polyline clip-path=\"url(#clip940)\" style=\"stroke:#000000; stroke-linecap:round; stroke-linejoin:round; stroke-width:4; stroke-opacity:1; fill:none\" points=\"1214.19,1486.45 1214.19,1467.55 \"/>\n",
       "<polyline clip-path=\"url(#clip940)\" style=\"stroke:#000000; stroke-linecap:round; stroke-linejoin:round; stroke-width:4; stroke-opacity:1; fill:none\" points=\"1728.47,1486.45 1728.47,1467.55 \"/>\n",
       "<polyline clip-path=\"url(#clip940)\" style=\"stroke:#000000; stroke-linecap:round; stroke-linejoin:round; stroke-width:4; stroke-opacity:1; fill:none\" points=\"2242.75,1486.45 2242.75,1467.55 \"/>\n",
       "<path clip-path=\"url(#clip940)\" d=\"M699.911 1517.37 Q696.3 1517.37 694.471 1520.93 Q692.665 1524.47 692.665 1531.6 Q692.665 1538.71 694.471 1542.27 Q696.3 1545.82 699.911 1545.82 Q703.545 1545.82 705.351 1542.27 Q707.179 1538.71 707.179 1531.6 Q707.179 1524.47 705.351 1520.93 Q703.545 1517.37 699.911 1517.37 M699.911 1513.66 Q705.721 1513.66 708.776 1518.27 Q711.855 1522.85 711.855 1531.6 Q711.855 1540.33 708.776 1544.94 Q705.721 1549.52 699.911 1549.52 Q694.101 1549.52 691.022 1544.94 Q687.966 1540.33 687.966 1531.6 Q687.966 1522.85 691.022 1518.27 Q694.101 1513.66 699.911 1513.66 Z\" fill=\"#000000\" fill-rule=\"nonzero\" fill-opacity=\"1\" /><path clip-path=\"url(#clip940)\" d=\"M1188.88 1544.91 L1196.52 1544.91 L1196.52 1518.55 L1188.21 1520.21 L1188.21 1515.95 L1196.47 1514.29 L1201.15 1514.29 L1201.15 1544.91 L1208.79 1544.91 L1208.79 1548.85 L1188.88 1548.85 L1188.88 1544.91 Z\" fill=\"#000000\" fill-rule=\"nonzero\" fill-opacity=\"1\" /><path clip-path=\"url(#clip940)\" d=\"M1228.23 1517.37 Q1224.62 1517.37 1222.79 1520.93 Q1220.98 1524.47 1220.98 1531.6 Q1220.98 1538.71 1222.79 1542.27 Q1224.62 1545.82 1228.23 1545.82 Q1231.86 1545.82 1233.67 1542.27 Q1235.5 1538.71 1235.5 1531.6 Q1235.5 1524.47 1233.67 1520.93 Q1231.86 1517.37 1228.23 1517.37 M1228.23 1513.66 Q1234.04 1513.66 1237.1 1518.27 Q1240.17 1522.85 1240.17 1531.6 Q1240.17 1540.33 1237.1 1544.94 Q1234.04 1549.52 1228.23 1549.52 Q1222.42 1549.52 1219.34 1544.94 Q1216.29 1540.33 1216.29 1531.6 Q1216.29 1522.85 1219.34 1518.27 Q1222.42 1513.66 1228.23 1513.66 Z\" fill=\"#000000\" fill-rule=\"nonzero\" fill-opacity=\"1\" /><path clip-path=\"url(#clip940)\" d=\"M1707.24 1544.91 L1723.56 1544.91 L1723.56 1548.85 L1701.62 1548.85 L1701.62 1544.91 Q1704.28 1542.16 1708.86 1537.53 Q1713.47 1532.88 1714.65 1531.53 Q1716.9 1529.01 1717.78 1527.27 Q1718.68 1525.51 1718.68 1523.82 Q1718.68 1521.07 1716.73 1519.33 Q1714.81 1517.6 1711.71 1517.6 Q1709.51 1517.6 1707.06 1518.36 Q1704.63 1519.13 1701.85 1520.68 L1701.85 1515.95 Q1704.67 1514.82 1707.13 1514.24 Q1709.58 1513.66 1711.62 1513.66 Q1716.99 1513.66 1720.18 1516.35 Q1723.38 1519.03 1723.38 1523.52 Q1723.38 1525.65 1722.57 1527.57 Q1721.78 1529.47 1719.67 1532.07 Q1719.09 1532.74 1715.99 1535.95 Q1712.89 1539.15 1707.24 1544.91 Z\" fill=\"#000000\" fill-rule=\"nonzero\" fill-opacity=\"1\" /><path clip-path=\"url(#clip940)\" d=\"M1743.38 1517.37 Q1739.77 1517.37 1737.94 1520.93 Q1736.13 1524.47 1736.13 1531.6 Q1736.13 1538.71 1737.94 1542.27 Q1739.77 1545.82 1743.38 1545.82 Q1747.01 1545.82 1748.82 1542.27 Q1750.65 1538.71 1750.65 1531.6 Q1750.65 1524.47 1748.82 1520.93 Q1747.01 1517.37 1743.38 1517.37 M1743.38 1513.66 Q1749.19 1513.66 1752.24 1518.27 Q1755.32 1522.85 1755.32 1531.6 Q1755.32 1540.33 1752.24 1544.94 Q1749.19 1549.52 1743.38 1549.52 Q1737.57 1549.52 1734.49 1544.94 Q1731.43 1540.33 1731.43 1531.6 Q1731.43 1522.85 1734.49 1518.27 Q1737.57 1513.66 1743.38 1513.66 Z\" fill=\"#000000\" fill-rule=\"nonzero\" fill-opacity=\"1\" /><path clip-path=\"url(#clip940)\" d=\"M2231.59 1530.21 Q2234.95 1530.93 2236.82 1533.2 Q2238.72 1535.47 2238.72 1538.8 Q2238.72 1543.92 2235.2 1546.72 Q2231.68 1549.52 2225.2 1549.52 Q2223.03 1549.52 2220.71 1549.08 Q2218.42 1548.66 2215.97 1547.81 L2215.97 1543.29 Q2217.91 1544.43 2220.23 1545.01 Q2222.54 1545.58 2225.06 1545.58 Q2229.46 1545.58 2231.75 1543.85 Q2234.07 1542.11 2234.07 1538.8 Q2234.07 1535.75 2231.92 1534.03 Q2229.79 1532.3 2225.97 1532.3 L2221.94 1532.3 L2221.94 1528.45 L2226.15 1528.45 Q2229.6 1528.45 2231.43 1527.09 Q2233.26 1525.7 2233.26 1523.11 Q2233.26 1520.45 2231.36 1519.03 Q2229.49 1517.6 2225.97 1517.6 Q2224.05 1517.6 2221.85 1518.01 Q2219.65 1518.43 2217.01 1519.31 L2217.01 1515.14 Q2219.67 1514.4 2221.99 1514.03 Q2224.32 1513.66 2226.38 1513.66 Q2231.71 1513.66 2234.81 1516.09 Q2237.91 1518.5 2237.91 1522.62 Q2237.91 1525.49 2236.27 1527.48 Q2234.62 1529.45 2231.59 1530.21 Z\" fill=\"#000000\" fill-rule=\"nonzero\" fill-opacity=\"1\" /><path clip-path=\"url(#clip940)\" d=\"M2257.59 1517.37 Q2253.98 1517.37 2252.15 1520.93 Q2250.34 1524.47 2250.34 1531.6 Q2250.34 1538.71 2252.15 1542.27 Q2253.98 1545.82 2257.59 1545.82 Q2261.22 1545.82 2263.03 1542.27 Q2264.86 1538.71 2264.86 1531.6 Q2264.86 1524.47 2263.03 1520.93 Q2261.22 1517.37 2257.59 1517.37 M2257.59 1513.66 Q2263.4 1513.66 2266.45 1518.27 Q2269.53 1522.85 2269.53 1531.6 Q2269.53 1540.33 2266.45 1544.94 Q2263.4 1549.52 2257.59 1549.52 Q2251.78 1549.52 2248.7 1544.94 Q2245.64 1540.33 2245.64 1531.6 Q2245.64 1522.85 2248.7 1518.27 Q2251.78 1513.66 2257.59 1513.66 Z\" fill=\"#000000\" fill-rule=\"nonzero\" fill-opacity=\"1\" /><polyline clip-path=\"url(#clip942)\" style=\"stroke:#000000; stroke-linecap:round; stroke-linejoin:round; stroke-width:2; stroke-opacity:0.1; fill:none\" points=\"186.76,1445.73 2352.76,1445.73 \"/>\n",
       "<polyline clip-path=\"url(#clip942)\" style=\"stroke:#000000; stroke-linecap:round; stroke-linejoin:round; stroke-width:2; stroke-opacity:0.1; fill:none\" points=\"186.76,1212.39 2352.76,1212.39 \"/>\n",
       "<polyline clip-path=\"url(#clip942)\" style=\"stroke:#000000; stroke-linecap:round; stroke-linejoin:round; stroke-width:2; stroke-opacity:0.1; fill:none\" points=\"186.76,979.056 2352.76,979.056 \"/>\n",
       "<polyline clip-path=\"url(#clip942)\" style=\"stroke:#000000; stroke-linecap:round; stroke-linejoin:round; stroke-width:2; stroke-opacity:0.1; fill:none\" points=\"186.76,745.719 2352.76,745.719 \"/>\n",
       "<polyline clip-path=\"url(#clip942)\" style=\"stroke:#000000; stroke-linecap:round; stroke-linejoin:round; stroke-width:2; stroke-opacity:0.1; fill:none\" points=\"186.76,512.383 2352.76,512.383 \"/>\n",
       "<polyline clip-path=\"url(#clip942)\" style=\"stroke:#000000; stroke-linecap:round; stroke-linejoin:round; stroke-width:2; stroke-opacity:0.1; fill:none\" points=\"186.76,279.047 2352.76,279.047 \"/>\n",
       "<polyline clip-path=\"url(#clip940)\" style=\"stroke:#000000; stroke-linecap:round; stroke-linejoin:round; stroke-width:4; stroke-opacity:1; fill:none\" points=\"186.76,1486.45 186.76,47.2441 \"/>\n",
       "<polyline clip-path=\"url(#clip940)\" style=\"stroke:#000000; stroke-linecap:round; stroke-linejoin:round; stroke-width:4; stroke-opacity:1; fill:none\" points=\"186.76,1445.73 205.658,1445.73 \"/>\n",
       "<polyline clip-path=\"url(#clip940)\" style=\"stroke:#000000; stroke-linecap:round; stroke-linejoin:round; stroke-width:4; stroke-opacity:1; fill:none\" points=\"186.76,1212.39 205.658,1212.39 \"/>\n",
       "<polyline clip-path=\"url(#clip940)\" style=\"stroke:#000000; stroke-linecap:round; stroke-linejoin:round; stroke-width:4; stroke-opacity:1; fill:none\" points=\"186.76,979.056 205.658,979.056 \"/>\n",
       "<polyline clip-path=\"url(#clip940)\" style=\"stroke:#000000; stroke-linecap:round; stroke-linejoin:round; stroke-width:4; stroke-opacity:1; fill:none\" points=\"186.76,745.719 205.658,745.719 \"/>\n",
       "<polyline clip-path=\"url(#clip940)\" style=\"stroke:#000000; stroke-linecap:round; stroke-linejoin:round; stroke-width:4; stroke-opacity:1; fill:none\" points=\"186.76,512.383 205.658,512.383 \"/>\n",
       "<polyline clip-path=\"url(#clip940)\" style=\"stroke:#000000; stroke-linecap:round; stroke-linejoin:round; stroke-width:4; stroke-opacity:1; fill:none\" points=\"186.76,279.047 205.658,279.047 \"/>\n",
       "<path clip-path=\"url(#clip940)\" d=\"M63.4226 1431.53 Q59.8115 1431.53 57.9828 1435.09 Q56.1773 1438.63 56.1773 1445.76 Q56.1773 1452.87 57.9828 1456.43 Q59.8115 1459.98 63.4226 1459.98 Q67.0569 1459.98 68.8624 1456.43 Q70.6911 1452.87 70.6911 1445.76 Q70.6911 1438.63 68.8624 1435.09 Q67.0569 1431.53 63.4226 1431.53 M63.4226 1427.82 Q69.2328 1427.82 72.2883 1432.43 Q75.367 1437.01 75.367 1445.76 Q75.367 1454.49 72.2883 1459.1 Q69.2328 1463.68 63.4226 1463.68 Q57.6125 1463.68 54.5338 1459.1 Q51.4782 1454.49 51.4782 1445.76 Q51.4782 1437.01 54.5338 1432.43 Q57.6125 1427.82 63.4226 1427.82 Z\" fill=\"#000000\" fill-rule=\"nonzero\" fill-opacity=\"1\" /><path clip-path=\"url(#clip940)\" d=\"M83.5845 1457.13 L88.4688 1457.13 L88.4688 1463.01 L83.5845 1463.01 L83.5845 1457.13 Z\" fill=\"#000000\" fill-rule=\"nonzero\" fill-opacity=\"1\" /><path clip-path=\"url(#clip940)\" d=\"M108.654 1431.53 Q105.043 1431.53 103.214 1435.09 Q101.409 1438.63 101.409 1445.76 Q101.409 1452.87 103.214 1456.43 Q105.043 1459.98 108.654 1459.98 Q112.288 1459.98 114.094 1456.43 Q115.922 1452.87 115.922 1445.76 Q115.922 1438.63 114.094 1435.09 Q112.288 1431.53 108.654 1431.53 M108.654 1427.82 Q114.464 1427.82 117.52 1432.43 Q120.598 1437.01 120.598 1445.76 Q120.598 1454.49 117.52 1459.1 Q114.464 1463.68 108.654 1463.68 Q102.844 1463.68 99.765 1459.1 Q96.7095 1454.49 96.7095 1445.76 Q96.7095 1437.01 99.765 1432.43 Q102.844 1427.82 108.654 1427.82 Z\" fill=\"#000000\" fill-rule=\"nonzero\" fill-opacity=\"1\" /><path clip-path=\"url(#clip940)\" d=\"M138.816 1431.53 Q135.205 1431.53 133.376 1435.09 Q131.57 1438.63 131.57 1445.76 Q131.57 1452.87 133.376 1456.43 Q135.205 1459.98 138.816 1459.98 Q142.45 1459.98 144.256 1456.43 Q146.084 1452.87 146.084 1445.76 Q146.084 1438.63 144.256 1435.09 Q142.45 1431.53 138.816 1431.53 M138.816 1427.82 Q144.626 1427.82 147.681 1432.43 Q150.76 1437.01 150.76 1445.76 Q150.76 1454.49 147.681 1459.1 Q144.626 1463.68 138.816 1463.68 Q133.006 1463.68 129.927 1459.1 Q126.871 1454.49 126.871 1445.76 Q126.871 1437.01 129.927 1432.43 Q133.006 1427.82 138.816 1427.82 Z\" fill=\"#000000\" fill-rule=\"nonzero\" fill-opacity=\"1\" /><path clip-path=\"url(#clip940)\" d=\"M64.6495 1198.19 Q61.0384 1198.19 59.2097 1201.76 Q57.4041 1205.3 57.4041 1212.43 Q57.4041 1219.53 59.2097 1223.1 Q61.0384 1226.64 64.6495 1226.64 Q68.2837 1226.64 70.0892 1223.1 Q71.9179 1219.53 71.9179 1212.43 Q71.9179 1205.3 70.0892 1201.76 Q68.2837 1198.19 64.6495 1198.19 M64.6495 1194.49 Q70.4596 1194.49 73.5152 1199.09 Q76.5938 1203.68 76.5938 1212.43 Q76.5938 1221.15 73.5152 1225.76 Q70.4596 1230.34 64.6495 1230.34 Q58.8393 1230.34 55.7606 1225.76 Q52.7051 1221.15 52.7051 1212.43 Q52.7051 1203.68 55.7606 1199.09 Q58.8393 1194.49 64.6495 1194.49 Z\" fill=\"#000000\" fill-rule=\"nonzero\" fill-opacity=\"1\" /><path clip-path=\"url(#clip940)\" d=\"M84.8114 1223.79 L89.6956 1223.79 L89.6956 1229.67 L84.8114 1229.67 L84.8114 1223.79 Z\" fill=\"#000000\" fill-rule=\"nonzero\" fill-opacity=\"1\" /><path clip-path=\"url(#clip940)\" d=\"M109.881 1198.19 Q106.27 1198.19 104.441 1201.76 Q102.635 1205.3 102.635 1212.43 Q102.635 1219.53 104.441 1223.1 Q106.27 1226.64 109.881 1226.64 Q113.515 1226.64 115.32 1223.1 Q117.149 1219.53 117.149 1212.43 Q117.149 1205.3 115.32 1201.76 Q113.515 1198.19 109.881 1198.19 M109.881 1194.49 Q115.691 1194.49 118.746 1199.09 Q121.825 1203.68 121.825 1212.43 Q121.825 1221.15 118.746 1225.76 Q115.691 1230.34 109.881 1230.34 Q104.071 1230.34 100.992 1225.76 Q97.9363 1221.15 97.9363 1212.43 Q97.9363 1203.68 100.992 1199.09 Q104.071 1194.49 109.881 1194.49 Z\" fill=\"#000000\" fill-rule=\"nonzero\" fill-opacity=\"1\" /><path clip-path=\"url(#clip940)\" d=\"M130.853 1225.74 L138.492 1225.74 L138.492 1199.37 L130.182 1201.04 L130.182 1196.78 L138.445 1195.11 L143.121 1195.11 L143.121 1225.74 L150.76 1225.74 L150.76 1229.67 L130.853 1229.67 L130.853 1225.74 Z\" fill=\"#000000\" fill-rule=\"nonzero\" fill-opacity=\"1\" /><path clip-path=\"url(#clip940)\" d=\"M65.0198 964.854 Q61.4087 964.854 59.58 968.419 Q57.7745 971.961 57.7745 979.09 Q57.7745 986.197 59.58 989.762 Q61.4087 993.303 65.0198 993.303 Q68.6541 993.303 70.4596 989.762 Q72.2883 986.197 72.2883 979.09 Q72.2883 971.961 70.4596 968.419 Q68.6541 964.854 65.0198 964.854 M65.0198 961.151 Q70.83 961.151 73.8855 965.757 Q76.9642 970.34 76.9642 979.09 Q76.9642 987.817 73.8855 992.424 Q70.83 997.007 65.0198 997.007 Q59.2097 997.007 56.131 992.424 Q53.0754 987.817 53.0754 979.09 Q53.0754 970.34 56.131 965.757 Q59.2097 961.151 65.0198 961.151 Z\" fill=\"#000000\" fill-rule=\"nonzero\" fill-opacity=\"1\" /><path clip-path=\"url(#clip940)\" d=\"M85.1818 990.456 L90.066 990.456 L90.066 996.336 L85.1818 996.336 L85.1818 990.456 Z\" fill=\"#000000\" fill-rule=\"nonzero\" fill-opacity=\"1\" /><path clip-path=\"url(#clip940)\" d=\"M110.251 964.854 Q106.64 964.854 104.811 968.419 Q103.006 971.961 103.006 979.09 Q103.006 986.197 104.811 989.762 Q106.64 993.303 110.251 993.303 Q113.885 993.303 115.691 989.762 Q117.52 986.197 117.52 979.09 Q117.52 971.961 115.691 968.419 Q113.885 964.854 110.251 964.854 M110.251 961.151 Q116.061 961.151 119.117 965.757 Q122.195 970.34 122.195 979.09 Q122.195 987.817 119.117 992.424 Q116.061 997.007 110.251 997.007 Q104.441 997.007 101.362 992.424 Q98.3067 987.817 98.3067 979.09 Q98.3067 970.34 101.362 965.757 Q104.441 961.151 110.251 961.151 Z\" fill=\"#000000\" fill-rule=\"nonzero\" fill-opacity=\"1\" /><path clip-path=\"url(#clip940)\" d=\"M134.441 992.401 L150.76 992.401 L150.76 996.336 L128.816 996.336 L128.816 992.401 Q131.478 989.646 136.061 985.016 Q140.668 980.364 141.848 979.021 Q144.093 976.498 144.973 974.762 Q145.876 973.002 145.876 971.313 Q145.876 968.558 143.931 966.822 Q142.01 965.086 138.908 965.086 Q136.709 965.086 134.256 965.85 Q131.825 966.614 129.047 968.165 L129.047 963.442 Q131.871 962.308 134.325 961.729 Q136.779 961.151 138.816 961.151 Q144.186 961.151 147.38 963.836 Q150.575 966.521 150.575 971.012 Q150.575 973.141 149.765 975.063 Q148.978 976.961 146.871 979.553 Q146.293 980.225 143.191 983.442 Q140.089 986.637 134.441 992.401 Z\" fill=\"#000000\" fill-rule=\"nonzero\" fill-opacity=\"1\" /><path clip-path=\"url(#clip940)\" d=\"M64.0708 731.518 Q60.4597 731.518 58.631 735.083 Q56.8254 738.625 56.8254 745.754 Q56.8254 752.861 58.631 756.425 Q60.4597 759.967 64.0708 759.967 Q67.705 759.967 69.5105 756.425 Q71.3392 752.861 71.3392 745.754 Q71.3392 738.625 69.5105 735.083 Q67.705 731.518 64.0708 731.518 M64.0708 727.814 Q69.8809 727.814 72.9365 732.421 Q76.0151 737.004 76.0151 745.754 Q76.0151 754.481 72.9365 759.087 Q69.8809 763.671 64.0708 763.671 Q58.2606 763.671 55.1819 759.087 Q52.1264 754.481 52.1264 745.754 Q52.1264 737.004 55.1819 732.421 Q58.2606 727.814 64.0708 727.814 Z\" fill=\"#000000\" fill-rule=\"nonzero\" fill-opacity=\"1\" /><path clip-path=\"url(#clip940)\" d=\"M84.2327 757.12 L89.1169 757.12 L89.1169 762.999 L84.2327 762.999 L84.2327 757.12 Z\" fill=\"#000000\" fill-rule=\"nonzero\" fill-opacity=\"1\" /><path clip-path=\"url(#clip940)\" d=\"M109.302 731.518 Q105.691 731.518 103.862 735.083 Q102.057 738.625 102.057 745.754 Q102.057 752.861 103.862 756.425 Q105.691 759.967 109.302 759.967 Q112.936 759.967 114.742 756.425 Q116.57 752.861 116.57 745.754 Q116.57 738.625 114.742 735.083 Q112.936 731.518 109.302 731.518 M109.302 727.814 Q115.112 727.814 118.168 732.421 Q121.246 737.004 121.246 745.754 Q121.246 754.481 118.168 759.087 Q115.112 763.671 109.302 763.671 Q103.492 763.671 100.413 759.087 Q97.3576 754.481 97.3576 745.754 Q97.3576 737.004 100.413 732.421 Q103.492 727.814 109.302 727.814 Z\" fill=\"#000000\" fill-rule=\"nonzero\" fill-opacity=\"1\" /><path clip-path=\"url(#clip940)\" d=\"M143.631 744.365 Q146.987 745.083 148.862 747.351 Q150.76 749.62 150.76 752.953 Q150.76 758.069 147.242 760.87 Q143.723 763.671 137.242 763.671 Q135.066 763.671 132.751 763.231 Q130.459 762.814 128.006 761.958 L128.006 757.444 Q129.95 758.578 132.265 759.157 Q134.58 759.736 137.103 759.736 Q141.501 759.736 143.793 757.999 Q146.107 756.263 146.107 752.953 Q146.107 749.898 143.955 748.185 Q141.825 746.449 138.006 746.449 L133.978 746.449 L133.978 742.606 L138.191 742.606 Q141.64 742.606 143.468 741.24 Q145.297 739.851 145.297 737.259 Q145.297 734.597 143.399 733.185 Q141.524 731.75 138.006 731.75 Q136.084 731.75 133.885 732.166 Q131.686 732.583 129.047 733.463 L129.047 729.296 Q131.709 728.555 134.024 728.185 Q136.362 727.814 138.422 727.814 Q143.746 727.814 146.848 730.245 Q149.95 732.652 149.95 736.773 Q149.95 739.643 148.306 741.634 Q146.663 743.601 143.631 744.365 Z\" fill=\"#000000\" fill-rule=\"nonzero\" fill-opacity=\"1\" /><path clip-path=\"url(#clip940)\" d=\"M62.9365 498.182 Q59.3254 498.182 57.4967 501.747 Q55.6912 505.288 55.6912 512.418 Q55.6912 519.524 57.4967 523.089 Q59.3254 526.631 62.9365 526.631 Q66.5707 526.631 68.3763 523.089 Q70.205 519.524 70.205 512.418 Q70.205 505.288 68.3763 501.747 Q66.5707 498.182 62.9365 498.182 M62.9365 494.478 Q68.7467 494.478 71.8022 499.085 Q74.8809 503.668 74.8809 512.418 Q74.8809 521.145 71.8022 525.751 Q68.7467 530.334 62.9365 530.334 Q57.1264 530.334 54.0477 525.751 Q50.9921 521.145 50.9921 512.418 Q50.9921 503.668 54.0477 499.085 Q57.1264 494.478 62.9365 494.478 Z\" fill=\"#000000\" fill-rule=\"nonzero\" fill-opacity=\"1\" /><path clip-path=\"url(#clip940)\" d=\"M83.0984 523.784 L87.9827 523.784 L87.9827 529.663 L83.0984 529.663 L83.0984 523.784 Z\" fill=\"#000000\" fill-rule=\"nonzero\" fill-opacity=\"1\" /><path clip-path=\"url(#clip940)\" d=\"M108.168 498.182 Q104.557 498.182 102.728 501.747 Q100.922 505.288 100.922 512.418 Q100.922 519.524 102.728 523.089 Q104.557 526.631 108.168 526.631 Q111.802 526.631 113.608 523.089 Q115.436 519.524 115.436 512.418 Q115.436 505.288 113.608 501.747 Q111.802 498.182 108.168 498.182 M108.168 494.478 Q113.978 494.478 117.033 499.085 Q120.112 503.668 120.112 512.418 Q120.112 521.145 117.033 525.751 Q113.978 530.334 108.168 530.334 Q102.358 530.334 99.2789 525.751 Q96.2234 521.145 96.2234 512.418 Q96.2234 503.668 99.2789 499.085 Q102.358 494.478 108.168 494.478 Z\" fill=\"#000000\" fill-rule=\"nonzero\" fill-opacity=\"1\" /><path clip-path=\"url(#clip940)\" d=\"M141.177 499.177 L129.371 517.626 L141.177 517.626 L141.177 499.177 M139.95 495.103 L145.83 495.103 L145.83 517.626 L150.76 517.626 L150.76 521.515 L145.83 521.515 L145.83 529.663 L141.177 529.663 L141.177 521.515 L125.575 521.515 L125.575 517.001 L139.95 495.103 Z\" fill=\"#000000\" fill-rule=\"nonzero\" fill-opacity=\"1\" /><path clip-path=\"url(#clip940)\" d=\"M64.418 264.846 Q60.8069 264.846 58.9782 268.41 Q57.1726 271.952 57.1726 279.082 Q57.1726 286.188 58.9782 289.753 Q60.8069 293.295 64.418 293.295 Q68.0522 293.295 69.8578 289.753 Q71.6865 286.188 71.6865 279.082 Q71.6865 271.952 69.8578 268.41 Q68.0522 264.846 64.418 264.846 M64.418 261.142 Q70.2281 261.142 73.2837 265.748 Q76.3624 270.332 76.3624 279.082 Q76.3624 287.808 73.2837 292.415 Q70.2281 296.998 64.418 296.998 Q58.6078 296.998 55.5291 292.415 Q52.4736 287.808 52.4736 279.082 Q52.4736 270.332 55.5291 265.748 Q58.6078 261.142 64.418 261.142 Z\" fill=\"#000000\" fill-rule=\"nonzero\" fill-opacity=\"1\" /><path clip-path=\"url(#clip940)\" d=\"M84.5799 290.447 L89.4641 290.447 L89.4641 296.327 L84.5799 296.327 L84.5799 290.447 Z\" fill=\"#000000\" fill-rule=\"nonzero\" fill-opacity=\"1\" /><path clip-path=\"url(#clip940)\" d=\"M109.649 264.846 Q106.038 264.846 104.209 268.41 Q102.404 271.952 102.404 279.082 Q102.404 286.188 104.209 289.753 Q106.038 293.295 109.649 293.295 Q113.283 293.295 115.089 289.753 Q116.918 286.188 116.918 279.082 Q116.918 271.952 115.089 268.41 Q113.283 264.846 109.649 264.846 M109.649 261.142 Q115.459 261.142 118.515 265.748 Q121.594 270.332 121.594 279.082 Q121.594 287.808 118.515 292.415 Q115.459 296.998 109.649 296.998 Q103.839 296.998 100.76 292.415 Q97.7048 287.808 97.7048 279.082 Q97.7048 270.332 100.76 265.748 Q103.839 261.142 109.649 261.142 Z\" fill=\"#000000\" fill-rule=\"nonzero\" fill-opacity=\"1\" /><path clip-path=\"url(#clip940)\" d=\"M129.857 261.767 L148.214 261.767 L148.214 265.702 L134.14 265.702 L134.14 274.174 Q135.158 273.827 136.177 273.665 Q137.195 273.48 138.214 273.48 Q144.001 273.48 147.38 276.651 Q150.76 279.822 150.76 285.239 Q150.76 290.818 147.288 293.92 Q143.816 296.998 137.496 296.998 Q135.32 296.998 133.052 296.628 Q130.807 296.258 128.399 295.517 L128.399 290.818 Q130.482 291.952 132.705 292.508 Q134.927 293.063 137.404 293.063 Q141.408 293.063 143.746 290.957 Q146.084 288.85 146.084 285.239 Q146.084 281.628 143.746 279.521 Q141.408 277.415 137.404 277.415 Q135.529 277.415 133.654 277.832 Q131.802 278.248 129.857 279.128 L129.857 261.767 Z\" fill=\"#000000\" fill-rule=\"nonzero\" fill-opacity=\"1\" /><polyline clip-path=\"url(#clip942)\" style=\"stroke:#009af9; stroke-linecap:round; stroke-linejoin:round; stroke-width:4; stroke-opacity:1; fill:none\" points=\"248.062,1445.69 258.33,1445.68 268.598,1445.66 278.867,1445.62 289.135,1445.56 299.403,1445.46 309.672,1445.31 319.94,1445.08 330.208,1444.74 340.477,1444.24 350.745,1443.54 361.013,1442.56 371.282,1441.22 381.55,1439.41 391.818,1437.02 402.086,1433.91 412.355,1429.96 422.623,1425.01 432.891,1418.94 443.16,1411.63 453.428,1402.98 463.696,1392.93 473.965,1381.48 484.233,1368.66 494.501,1354.57 504.769,1339.35 515.038,1323.2 525.306,1306.36 535.574,1289.08 545.843,1271.62 556.111,1254.21 566.379,1237.07 576.648,1220.34 586.916,1204.13 597.184,1188.44 607.452,1173.23 617.721,1158.38 627.989,1143.72 638.257,1129.03 648.526,1114.07 658.794,1098.59 669.062,1082.36 679.331,1065.17 689.599,1046.84 699.867,1027.25 710.136,1006.31 720.404,983.985 730.672,960.289 740.94,935.282 751.209,909.062 761.477,881.77 771.745,853.581 782.014,824.707 792.282,795.391 802.55,765.91 812.819,736.562 823.087,707.668 833.355,679.557 843.623,652.557 853.892,626.98 864.16,603.11 874.428,581.186 884.697,561.393 894.965,543.852 905.233,528.617 915.502,515.673 925.77,504.941 936.038,496.288 946.306,489.539 956.575,484.488 966.843,480.917 977.111,478.604 987.38,477.335 997.648,476.917 1007.92,477.176 1018.18,477.967 1028.45,479.171 1038.72,480.69 1048.99,482.451 1059.26,484.392 1069.53,486.465 1079.79,488.628 1090.06,490.839 1100.33,493.055 1110.6,495.23 1120.87,497.312 1131.14,499.243 1141.4,500.966 1151.67,502.426 1161.94,503.573 1172.21,504.373 1182.48,504.805 1192.75,504.872 1203.01,504.595 1213.28,504.014 1223.55,503.185 1233.82,502.171 1244.09,501.034 1254.36,499.832 1264.62,498.609 1274.89,497.395 1285.16,496.204 1295.43,495.038 1305.7,493.891 1315.97,492.758 1326.23,491.636 1336.5,490.536 1346.77,489.48 1357.04,488.503 1367.31,487.647 1377.58,486.961 1387.84,486.491 1398.11,486.27 1408.38,486.322 1418.65,486.651 1428.92,487.243 1439.19,488.069 1449.45,489.088 1459.72,490.259 1469.99,491.54 1480.26,492.903 1490.53,494.34 1500.79,495.862 1511.06,497.509 1521.33,499.345 1531.6,501.451 1541.87,503.926 1552.14,506.866 1562.4,510.358 1572.67,514.465 1582.94,519.214 1593.21,524.58 1603.48,530.485 1613.75,536.791 1624.01,543.305 1634.28,549.788 1644.55,555.967 1654.82,561.556 1665.09,566.275 1675.36,569.873 1685.62,572.148 1695.89,572.963 1706.16,572.262 1716.43,570.073 1726.7,566.517 1736.97,561.8 1747.23,556.209 1757.5,550.103 1767.77,543.898 1778.04,538.056 1788.31,533.071 1798.58,529.453 1808.84,527.71 1819.11,528.341 1829.38,531.813 1839.65,538.552 1849.92,548.926 1860.19,563.233 1870.45,581.69 1880.72,604.416 1890.99,631.431 1901.26,662.641 1911.53,697.839 1921.8,736.702 1932.06,778.794 1942.33,823.578 1952.6,870.428 1962.87,918.646 1973.14,967.489 1983.41,1016.2 1993.67,1064.02 2003.94,1110.24 2014.21,1154.24 2024.48,1195.45 2034.75,1233.46 2045.01,1267.96 2055.28,1298.77 2065.55,1325.85 2075.82,1349.27 2086.09,1369.18 2096.36,1385.84 2106.62,1399.55 2116.89,1410.64 2127.16,1419.46 2137.43,1426.35 2147.7,1431.66 2157.97,1435.67 2168.23,1438.64 2178.5,1440.82 2188.77,1442.38 2199.04,1443.48 2209.31,1444.24 2219.58,1444.76 2229.84,1445.11 2240.11,1445.34 2250.38,1445.49 2260.65,1445.58 2270.92,1445.64 2281.19,1445.67 2291.45,1445.69 \"/>\n",
       "<polyline clip-path=\"url(#clip942)\" style=\"stroke:#e26f46; stroke-linecap:round; stroke-linejoin:round; stroke-width:4; stroke-opacity:1; fill:none\" points=\"288.91,1445.7 298.768,1445.71 308.626,1445.71 318.483,1445.7 328.341,1445.68 338.199,1445.66 348.057,1445.61 357.914,1445.55 367.772,1445.45 377.63,1445.3 387.488,1445.09 397.346,1444.79 407.203,1444.37 417.061,1443.82 426.919,1443.08 436.777,1442.12 446.634,1440.91 456.492,1439.39 466.35,1437.53 476.208,1435.3 486.065,1432.65 495.923,1429.57 505.781,1426.04 515.639,1422.05 525.497,1417.61 535.354,1412.72 545.212,1407.41 555.07,1401.7 564.928,1395.61 574.785,1389.19 584.643,1382.45 594.501,1375.42 604.359,1368.13 614.216,1360.61 624.074,1352.87 633.932,1344.93 643.79,1336.81 653.648,1328.53 663.505,1320.12 673.363,1311.58 683.221,1302.94 693.079,1294.18 702.936,1285.29 712.794,1276.24 722.652,1266.96 732.51,1257.36 742.367,1247.33 752.225,1236.74 762.083,1225.46 771.941,1213.38 781.798,1200.4 791.656,1186.49 801.514,1171.64 811.372,1155.92 821.23,1139.48 831.087,1122.52 840.945,1105.27 850.803,1088.01 860.661,1071.06 870.518,1054.7 880.376,1039.19 890.234,1024.79 900.092,1011.64 909.949,999.866 919.807,989.49 929.665,980.465 939.523,972.668 949.381,965.903 959.238,959.913 969.096,954.392 978.954,948.999 988.812,943.377 998.669,937.169 1008.53,930.036 1018.38,921.676 1028.24,911.836 1038.1,900.328 1047.96,887.034 1057.82,871.913 1067.67,855 1077.53,836.41 1087.39,816.327 1097.25,795.003 1107.1,772.745 1116.96,749.903 1126.82,726.858 1136.68,704.001 1146.54,681.715 1156.39,660.346 1166.25,640.186 1176.11,621.446 1185.97,604.24 1195.82,588.572 1205.68,574.337 1215.54,561.324 1225.4,549.236 1235.26,537.721 1245.11,526.395 1254.97,514.884 1264.83,502.858 1274.69,490.051 1284.54,476.289 1294.4,461.499 1304.26,445.704 1314.12,429.02 1323.98,411.638 1333.83,393.798 1343.69,375.772 1353.55,357.834 1363.41,340.242 1373.26,323.219 1383.12,306.942 1392.98,291.535 1402.84,277.07 1412.7,263.568 1422.55,251.008 1432.41,239.338 1442.27,228.481 1452.13,218.351 1461.98,208.856 1471.84,199.905 1481.7,191.416 1491.56,183.313 1501.42,175.531 1511.27,168.019 1521.13,160.74 1530.99,153.676 1540.85,146.84 1550.7,140.277 1560.56,134.075 1570.42,128.367 1580.28,123.328 1590.14,119.164 1599.99,116.103 1609.85,114.361 1619.71,114.12 1629.57,115.493 1639.42,118.501 1649.28,123.044 1659.14,128.896 1669,135.702 1678.86,142.998 1688.71,150.233 1698.57,156.811 1708.43,162.138 1718.29,165.666 1728.14,166.942 1738,165.654 1747.86,161.667 1757.72,155.051 1767.58,146.105 1777.43,135.36 1787.29,123.578 1797.15,111.735 1807.01,100.986 1816.86,92.6152 1826.72,87.9763 1836.58,88.4139 1846.44,95.1828 1856.3,109.365 1866.15,131.793 1876.01,162.987 1885.87,203.116 1895.73,251.978 1905.58,309.008 1915.44,373.312 1925.3,443.724 1935.16,518.864 1945.02,597.226 1954.87,677.245 1964.73,757.372 1974.59,836.143 1984.45,912.227 1994.3,984.472 2004.16,1051.93 2014.02,1113.89 2023.88,1169.85 2033.74,1219.57 2043.59,1263 2053.45,1300.28 2063.31,1331.73 2073.17,1357.79 2083.02,1379 2092.88,1395.94 2102.74,1409.21 2112.6,1419.41 2122.45,1427.1 2132.31,1432.78 2142.17,1436.9 2152.03,1439.82 2161.89,1441.85 2171.74,1443.23 2181.6,1444.15 2191.46,1444.75 2201.32,1445.14 2211.17,1445.38 2221.03,1445.52 2230.89,1445.61 2240.75,1445.66 2250.61,1445.69 \"/>\n",
       "<polyline clip-path=\"url(#clip942)\" style=\"stroke:#3da44d; stroke-linecap:round; stroke-linejoin:round; stroke-width:4; stroke-opacity:1; fill:none\" points=\"278.929,1445.7 288.887,1445.69 298.845,1445.66 308.803,1445.62 318.761,1445.55 328.719,1445.43 338.677,1445.24 348.635,1444.96 358.594,1444.53 368.552,1443.91 378.51,1443 388.468,1441.72 398.426,1439.95 408.384,1437.56 418.342,1434.38 428.3,1430.26 438.258,1425.01 448.216,1418.46 458.174,1410.46 468.132,1400.88 478.091,1389.63 488.049,1376.7 498.007,1362.1 507.965,1345.93 517.923,1328.35 527.881,1309.56 537.839,1289.83 547.797,1269.4 557.755,1248.54 567.713,1227.48 577.671,1206.42 587.629,1185.47 597.587,1164.67 607.546,1143.99 617.504,1123.33 627.462,1102.52 637.42,1081.35 647.378,1059.59 657.336,1037.03 667.294,1013.46 677.252,988.735 687.21,962.765 697.168,935.521 707.126,907.045 717.084,877.434 727.043,846.839 737.001,815.446 746.959,783.465 756.917,751.119 766.875,718.63 776.833,686.214 786.791,654.076 796.749,622.409 806.707,591.388 816.665,561.176 826.623,531.917 836.581,503.74 846.54,476.753 856.498,451.045 866.456,426.684 876.414,403.719 886.372,382.175 896.33,362.062 906.288,343.374 916.246,326.094 926.204,310.196 936.162,295.654 946.12,282.444 956.078,270.549 966.037,259.971 975.995,250.729 985.953,242.872 995.911,236.478 1005.87,231.66 1015.83,228.558 1025.79,227.333 1035.74,228.152 1045.7,231.168 1055.66,236.499 1065.62,244.198 1075.58,254.233 1085.53,266.466 1095.49,280.646 1105.45,296.405 1115.41,313.271 1125.37,330.695 1135.32,348.076 1145.28,364.808 1155.24,380.317 1165.2,394.106 1175.16,405.783 1185.11,415.094 1195.07,421.93 1205.03,426.331 1214.99,428.476 1224.95,428.657 1234.9,427.248 1244.86,424.672 1254.82,421.357 1264.78,417.707 1274.74,414.065 1284.7,410.69 1294.65,407.751 1304.61,405.317 1314.57,403.377 1324.53,401.852 1334.49,400.633 1344.44,399.606 1354.4,398.689 1364.36,397.854 1374.32,397.148 1384.28,396.697 1394.23,396.692 1404.19,397.369 1414.15,398.979 1424.11,401.747 1434.07,405.837 1444.02,411.328 1453.98,418.19 1463.94,426.291 1473.9,435.404 1483.86,445.238 1493.81,455.474 1503.77,465.801 1513.73,475.958 1523.69,485.761 1533.65,495.119 1543.61,504.04 1553.56,512.623 1563.52,521.041 1573.48,529.511 1583.44,538.268 1593.4,547.541 1603.35,557.526 1613.31,568.377 1623.27,580.195 1633.23,593.027 1643.19,606.879 1653.14,621.714 1663.1,637.471 1673.06,654.071 1683.02,671.421 1692.98,689.423 1702.93,707.971 1712.89,726.952 1722.85,746.244 1732.81,765.716 1742.77,785.228 1752.72,804.638 1762.68,823.804 1772.64,842.603 1782.6,860.933 1792.56,878.735 1802.52,895.998 1812.47,912.771 1822.43,929.165 1832.39,945.35 1842.35,961.544 1852.31,978.002 1862.26,994.99 1872.22,1012.76 1882.18,1031.54 1892.14,1051.49 1902.1,1072.69 1912.05,1095.13 1922.01,1118.73 1931.97,1143.27 1941.93,1168.51 1951.89,1194.1 1961.84,1219.67 1971.8,1244.83 1981.76,1269.21 1991.72,1292.44 2001.68,1314.24 2011.64,1334.35 2021.59,1352.6 2031.55,1368.9 2041.51,1383.21 2051.47,1395.57 2061.43,1406.06 2071.38,1414.82 2081.34,1422.01 2091.3,1427.81 2101.26,1432.4 2111.22,1435.98 2121.17,1438.71 2131.13,1440.76 2141.09,1442.27 2151.05,1443.36 2161.01,1444.14 2170.96,1444.68 2180.92,1445.05 2190.88,1445.3 2200.84,1445.46 2210.8,1445.56 2220.75,1445.63 2230.71,1445.67 2240.67,1445.69 2250.63,1445.7 2260.59,1445.71 \"/>\n",
       "<polyline clip-path=\"url(#clip942)\" style=\"stroke:#c271d2; stroke-linecap:round; stroke-linejoin:round; stroke-width:4; stroke-opacity:1; fill:none\" points=\"297.058,1445.72 306.834,1445.71 316.61,1445.71 326.386,1445.69 336.162,1445.67 345.938,1445.63 355.713,1445.56 365.489,1445.46 375.265,1445.3 385.041,1445.07 394.817,1444.72 404.593,1444.22 414.369,1443.52 424.145,1442.56 433.92,1441.28 443.696,1439.59 453.472,1437.43 463.248,1434.71 473.024,1431.38 482.8,1427.37 492.576,1422.65 502.352,1417.19 512.127,1410.99 521.903,1404.07 531.679,1396.48 541.455,1388.27 551.231,1379.5 561.007,1370.25 570.783,1360.59 580.559,1350.59 590.334,1340.3 600.11,1329.81 609.886,1319.17 619.662,1308.44 629.438,1297.69 639.214,1286.98 648.99,1276.36 658.766,1265.87 668.542,1255.55 678.317,1245.38 688.093,1235.33 697.869,1225.33 707.645,1215.26 717.421,1204.97 727.197,1194.27 736.973,1182.95 746.749,1170.79 756.524,1157.56 766.3,1143.07 776.076,1127.14 785.852,1109.63 795.628,1090.47 805.404,1069.66 815.18,1047.27 824.956,1023.43 834.731,998.367 844.507,972.376 854.283,945.805 864.059,919.05 873.835,892.527 883.611,866.652 893.387,841.812 903.163,818.337 912.938,796.482 922.714,776.4 932.49,758.14 942.266,741.643 952.042,726.75 961.818,713.228 971.594,700.787 981.37,689.12 991.145,677.928 1000.92,666.953 1010.7,655.99 1020.47,644.903 1030.25,633.62 1040.02,622.12 1049.8,610.416 1059.58,598.528 1069.35,586.46 1079.13,574.18 1088.9,561.609 1098.68,548.617 1108.46,535.034 1118.23,520.666 1128.01,505.327 1137.78,488.865 1147.56,471.195 1157.34,452.328 1167.11,432.384 1176.89,411.601 1186.66,390.324 1196.44,368.985 1206.21,348.062 1215.99,328.045 1225.77,309.383 1235.54,292.452 1245.32,277.514 1255.09,264.709 1264.87,254.047 1274.65,245.423 1284.42,238.647 1294.2,233.469 1303.97,229.624 1313.75,226.856 1323.53,224.946 1333.3,223.722 1343.08,223.062 1352.85,222.887 1362.63,223.143 1372.4,223.783 1382.18,224.75 1391.96,225.963 1401.73,227.303 1411.51,228.616 1421.28,229.71 1431.06,230.367 1440.84,230.358 1450.61,229.451 1460.39,227.44 1470.16,224.157 1479.94,219.497 1489.72,213.436 1499.49,206.05 1509.27,197.526 1519.04,188.169 1528.82,178.393 1538.59,168.711 1548.37,159.703 1558.15,151.982 1567.92,146.145 1577.7,142.731 1587.47,142.172 1597.25,144.754 1607.03,150.592 1616.8,159.619 1626.58,171.593 1636.35,186.122 1646.13,202.701 1655.91,220.76 1665.68,239.721 1675.46,259.047 1685.23,278.284 1695.01,297.1 1704.78,315.298 1714.56,332.82 1724.34,349.739 1734.11,366.233 1743.89,382.56 1753.66,399.027 1763.44,415.965 1773.22,433.702 1782.99,452.55 1792.77,472.795 1802.54,494.693 1812.32,518.466 1822.1,544.303 1831.87,572.355 1841.65,602.73 1851.42,635.485 1861.2,670.612 1870.97,708.032 1880.75,747.587 1890.53,789.037 1900.3,832.064 1910.08,876.282 1919.85,921.253 1929.63,966.5 1939.41,1011.53 1949.18,1055.84 1958.96,1098.95 1968.73,1140.4 1978.51,1179.78 1988.29,1216.72 1998.06,1250.9 2007.84,1282.1 2017.61,1310.15 2027.39,1334.99 2037.16,1356.62 2046.94,1375.13 2056.72,1390.7 2066.49,1403.55 2076.27,1413.95 2086.04,1422.21 2095.82,1428.64 2105.6,1433.54 2115.37,1437.2 2125.15,1439.87 2134.92,1441.79 2144.7,1443.13 2154.47,1444.05 2164.25,1444.66 2174.03,1445.07 2183.8,1445.33 2193.58,1445.49 2203.35,1445.59 2213.13,1445.65 2222.91,1445.68 2232.68,1445.7 2242.46,1445.71 \"/>\n",
       "<path clip-path=\"url(#clip940)\" d=\"M258.96 354.418 L846.646 354.418 L846.646 95.2176 L258.96 95.2176  Z\" fill=\"#ffffff\" fill-rule=\"evenodd\" fill-opacity=\"1\"/>\n",
       "<polyline clip-path=\"url(#clip940)\" style=\"stroke:#000000; stroke-linecap:round; stroke-linejoin:round; stroke-width:4; stroke-opacity:1; fill:none\" points=\"258.96,354.418 846.646,354.418 846.646,95.2176 258.96,95.2176 258.96,354.418 \"/>\n",
       "<polyline clip-path=\"url(#clip940)\" style=\"stroke:#009af9; stroke-linecap:round; stroke-linejoin:round; stroke-width:4; stroke-opacity:1; fill:none\" points=\"283.027,147.058 427.426,147.058 \"/>\n",
       "<path clip-path=\"url(#clip940)\" d=\"M451.493 129.778 L458.46 129.778 L467.28 153.296 L476.146 129.778 L483.113 129.778 L483.113 164.338 L478.553 164.338 L478.553 133.99 L469.641 157.694 L464.942 157.694 L456.03 133.99 L456.03 164.338 L451.493 164.338 L451.493 129.778 Z\" fill=\"#000000\" fill-rule=\"nonzero\" fill-opacity=\"1\" /><path clip-path=\"url(#clip940)\" d=\"M503.993 151.305 Q498.831 151.305 496.84 152.486 Q494.849 153.666 494.849 156.514 Q494.849 158.782 496.331 160.125 Q497.835 161.444 500.405 161.444 Q503.946 161.444 506.076 158.944 Q508.229 156.421 508.229 152.254 L508.229 151.305 L503.993 151.305 M512.488 149.546 L512.488 164.338 L508.229 164.338 L508.229 160.402 Q506.77 162.763 504.594 163.898 Q502.419 165.009 499.27 165.009 Q495.289 165.009 492.928 162.787 Q490.59 160.541 490.59 156.791 Q490.59 152.416 493.507 150.194 Q496.446 147.972 502.257 147.972 L508.229 147.972 L508.229 147.555 Q508.229 144.615 506.284 143.018 Q504.363 141.398 500.868 141.398 Q498.645 141.398 496.539 141.93 Q494.433 142.463 492.488 143.527 L492.488 139.592 Q494.826 138.69 497.025 138.25 Q499.224 137.787 501.307 137.787 Q506.932 137.787 509.71 140.703 Q512.488 143.62 512.488 149.546 Z\" fill=\"#000000\" fill-rule=\"nonzero\" fill-opacity=\"1\" /><path clip-path=\"url(#clip940)\" d=\"M521.261 128.319 L525.52 128.319 L525.52 164.338 L521.261 164.338 L521.261 128.319 Z\" fill=\"#000000\" fill-rule=\"nonzero\" fill-opacity=\"1\" /><path clip-path=\"url(#clip940)\" d=\"M556.608 150.31 L556.608 152.393 L537.025 152.393 Q537.303 156.791 539.664 159.106 Q542.048 161.398 546.284 161.398 Q548.738 161.398 551.029 160.796 Q553.344 160.194 555.613 158.99 L555.613 163.018 Q553.321 163.99 550.914 164.5 Q548.506 165.009 546.029 165.009 Q539.826 165.009 536.192 161.398 Q532.58 157.787 532.58 151.629 Q532.58 145.264 536.006 141.537 Q539.455 137.787 545.289 137.787 Q550.52 137.787 553.553 141.166 Q556.608 144.523 556.608 150.31 M552.349 149.06 Q552.303 145.565 550.381 143.481 Q548.483 141.398 545.335 141.398 Q541.77 141.398 539.617 143.412 Q537.488 145.426 537.164 149.083 L552.349 149.06 Z\" fill=\"#000000\" fill-rule=\"nonzero\" fill-opacity=\"1\" /><path clip-path=\"url(#clip940)\" d=\"M583.529 133.62 L583.529 146.606 L589.409 146.606 Q592.673 146.606 594.455 144.916 Q596.238 143.227 596.238 140.102 Q596.238 137 594.455 135.31 Q592.673 133.62 589.409 133.62 L583.529 133.62 M578.853 129.778 L589.409 129.778 Q595.219 129.778 598.182 132.416 Q601.168 135.032 601.168 140.102 Q601.168 145.217 598.182 147.833 Q595.219 150.449 589.409 150.449 L583.529 150.449 L583.529 164.338 L578.853 164.338 L578.853 129.778 Z\" fill=\"#000000\" fill-rule=\"nonzero\" fill-opacity=\"1\" /><path clip-path=\"url(#clip940)\" d=\"M605.983 154.106 L605.983 138.412 L610.242 138.412 L610.242 153.944 Q610.242 157.625 611.677 159.476 Q613.112 161.305 615.983 161.305 Q619.432 161.305 621.423 159.106 Q623.436 156.907 623.436 153.111 L623.436 138.412 L627.696 138.412 L627.696 164.338 L623.436 164.338 L623.436 160.356 Q621.886 162.717 619.825 163.875 Q617.788 165.009 615.08 165.009 Q610.612 165.009 608.298 162.231 Q605.983 159.453 605.983 154.106 M616.7 137.787 L616.7 137.787 Z\" fill=\"#000000\" fill-rule=\"nonzero\" fill-opacity=\"1\" /><path clip-path=\"url(#clip940)\" d=\"M655.08 151.398 Q655.08 146.699 653.135 144.037 Q651.214 141.352 647.834 141.352 Q644.455 141.352 642.51 144.037 Q640.589 146.699 640.589 151.398 Q640.589 156.097 642.51 158.782 Q644.455 161.444 647.834 161.444 Q651.214 161.444 653.135 158.782 Q655.08 156.097 655.08 151.398 M640.589 142.347 Q641.932 140.032 643.969 138.921 Q646.029 137.787 648.876 137.787 Q653.598 137.787 656.538 141.537 Q659.501 145.287 659.501 151.398 Q659.501 157.509 656.538 161.259 Q653.598 165.009 648.876 165.009 Q646.029 165.009 643.969 163.898 Q641.932 162.763 640.589 160.449 L640.589 164.338 L636.307 164.338 L636.307 128.319 L640.589 128.319 L640.589 142.347 Z\" fill=\"#000000\" fill-rule=\"nonzero\" fill-opacity=\"1\" /><path clip-path=\"url(#clip940)\" d=\"M666.561 128.319 L670.82 128.319 L670.82 164.338 L666.561 164.338 L666.561 128.319 Z\" fill=\"#000000\" fill-rule=\"nonzero\" fill-opacity=\"1\" /><path clip-path=\"url(#clip940)\" d=\"M679.732 138.412 L683.992 138.412 L683.992 164.338 L679.732 164.338 L679.732 138.412 M679.732 128.319 L683.992 128.319 L683.992 133.713 L679.732 133.713 L679.732 128.319 Z\" fill=\"#000000\" fill-rule=\"nonzero\" fill-opacity=\"1\" /><path clip-path=\"url(#clip940)\" d=\"M711.561 139.407 L711.561 143.389 Q709.755 142.393 707.927 141.907 Q706.121 141.398 704.269 141.398 Q700.126 141.398 697.834 144.037 Q695.543 146.652 695.543 151.398 Q695.543 156.143 697.834 158.782 Q700.126 161.398 704.269 161.398 Q706.121 161.398 707.927 160.912 Q709.755 160.402 711.561 159.407 L711.561 163.342 Q709.779 164.176 707.857 164.592 Q705.959 165.009 703.806 165.009 Q697.95 165.009 694.501 161.328 Q691.052 157.648 691.052 151.398 Q691.052 145.055 694.524 141.421 Q698.019 137.787 704.084 137.787 Q706.052 137.787 707.927 138.203 Q709.802 138.597 711.561 139.407 Z\" fill=\"#000000\" fill-rule=\"nonzero\" fill-opacity=\"1\" /><polyline clip-path=\"url(#clip940)\" style=\"stroke:#e26f46; stroke-linecap:round; stroke-linejoin:round; stroke-width:4; stroke-opacity:1; fill:none\" points=\"283.027,198.898 427.426,198.898 \"/>\n",
       "<path clip-path=\"url(#clip940)\" d=\"M451.493 181.618 L458.46 181.618 L467.28 205.136 L476.146 181.618 L483.113 181.618 L483.113 216.178 L478.553 216.178 L478.553 185.83 L469.641 209.534 L464.942 209.534 L456.03 185.83 L456.03 216.178 L451.493 216.178 L451.493 181.618 Z\" fill=\"#000000\" fill-rule=\"nonzero\" fill-opacity=\"1\" /><path clip-path=\"url(#clip940)\" d=\"M503.993 203.145 Q498.831 203.145 496.84 204.326 Q494.849 205.506 494.849 208.354 Q494.849 210.622 496.331 211.965 Q497.835 213.284 500.405 213.284 Q503.946 213.284 506.076 210.784 Q508.229 208.261 508.229 204.094 L508.229 203.145 L503.993 203.145 M512.488 201.386 L512.488 216.178 L508.229 216.178 L508.229 212.242 Q506.77 214.603 504.594 215.738 Q502.419 216.849 499.27 216.849 Q495.289 216.849 492.928 214.627 Q490.59 212.381 490.59 208.631 Q490.59 204.256 493.507 202.034 Q496.446 199.812 502.257 199.812 L508.229 199.812 L508.229 199.395 Q508.229 196.455 506.284 194.858 Q504.363 193.238 500.868 193.238 Q498.645 193.238 496.539 193.77 Q494.433 194.303 492.488 195.367 L492.488 191.432 Q494.826 190.53 497.025 190.09 Q499.224 189.627 501.307 189.627 Q506.932 189.627 509.71 192.543 Q512.488 195.46 512.488 201.386 Z\" fill=\"#000000\" fill-rule=\"nonzero\" fill-opacity=\"1\" /><path clip-path=\"url(#clip940)\" d=\"M521.261 180.159 L525.52 180.159 L525.52 216.178 L521.261 216.178 L521.261 180.159 Z\" fill=\"#000000\" fill-rule=\"nonzero\" fill-opacity=\"1\" /><path clip-path=\"url(#clip940)\" d=\"M556.608 202.15 L556.608 204.233 L537.025 204.233 Q537.303 208.631 539.664 210.946 Q542.048 213.238 546.284 213.238 Q548.738 213.238 551.029 212.636 Q553.344 212.034 555.613 210.83 L555.613 214.858 Q553.321 215.83 550.914 216.34 Q548.506 216.849 546.029 216.849 Q539.826 216.849 536.192 213.238 Q532.58 209.627 532.58 203.469 Q532.58 197.104 536.006 193.377 Q539.455 189.627 545.289 189.627 Q550.52 189.627 553.553 193.006 Q556.608 196.363 556.608 202.15 M552.349 200.9 Q552.303 197.405 550.381 195.321 Q548.483 193.238 545.335 193.238 Q541.77 193.238 539.617 195.252 Q537.488 197.266 537.164 200.923 L552.349 200.9 Z\" fill=\"#000000\" fill-rule=\"nonzero\" fill-opacity=\"1\" /><path clip-path=\"url(#clip940)\" d=\"M604.733 184.28 L604.733 189.21 Q602.372 187.011 599.687 185.923 Q597.025 184.835 594.015 184.835 Q588.089 184.835 584.941 188.469 Q581.793 192.08 581.793 198.932 Q581.793 205.761 584.941 209.395 Q588.089 213.006 594.015 213.006 Q597.025 213.006 599.687 211.918 Q602.372 210.83 604.733 208.631 L604.733 213.516 Q602.279 215.182 599.525 216.016 Q596.793 216.849 593.738 216.849 Q585.89 216.849 581.376 212.057 Q576.863 207.242 576.863 198.932 Q576.863 190.599 581.376 185.807 Q585.89 180.993 593.738 180.993 Q596.839 180.993 599.571 181.826 Q602.325 182.636 604.733 184.28 Z\" fill=\"#000000\" fill-rule=\"nonzero\" fill-opacity=\"1\" /><path clip-path=\"url(#clip940)\" d=\"M623.552 203.145 Q618.39 203.145 616.399 204.326 Q614.409 205.506 614.409 208.354 Q614.409 210.622 615.89 211.965 Q617.395 213.284 619.964 213.284 Q623.506 213.284 625.636 210.784 Q627.788 208.261 627.788 204.094 L627.788 203.145 L623.552 203.145 M632.048 201.386 L632.048 216.178 L627.788 216.178 L627.788 212.242 Q626.33 214.603 624.154 215.738 Q621.978 216.849 618.83 216.849 Q614.849 216.849 612.487 214.627 Q610.149 212.381 610.149 208.631 Q610.149 204.256 613.066 202.034 Q616.006 199.812 621.816 199.812 L627.788 199.812 L627.788 199.395 Q627.788 196.455 625.844 194.858 Q623.923 193.238 620.427 193.238 Q618.205 193.238 616.099 193.77 Q613.992 194.303 612.048 195.367 L612.048 191.432 Q614.386 190.53 616.585 190.09 Q618.784 189.627 620.867 189.627 Q626.492 189.627 629.27 192.543 Q632.048 195.46 632.048 201.386 Z\" fill=\"#000000\" fill-rule=\"nonzero\" fill-opacity=\"1\" /><path clip-path=\"url(#clip940)\" d=\"M645.034 182.891 L645.034 190.252 L653.807 190.252 L653.807 193.562 L645.034 193.562 L645.034 207.636 Q645.034 210.807 645.89 211.71 Q646.77 212.613 649.432 212.613 L653.807 212.613 L653.807 216.178 L649.432 216.178 Q644.501 216.178 642.626 214.349 Q640.751 212.497 640.751 207.636 L640.751 193.562 L637.626 193.562 L637.626 190.252 L640.751 190.252 L640.751 182.891 L645.034 182.891 Z\" fill=\"#000000\" fill-rule=\"nonzero\" fill-opacity=\"1\" /><path clip-path=\"url(#clip940)\" d=\"M680.959 200.529 L680.959 216.178 L676.7 216.178 L676.7 200.668 Q676.7 196.988 675.265 195.159 Q673.83 193.33 670.959 193.33 Q667.51 193.33 665.52 195.53 Q663.529 197.729 663.529 201.525 L663.529 216.178 L659.246 216.178 L659.246 180.159 L663.529 180.159 L663.529 194.28 Q665.057 191.942 667.117 190.784 Q669.2 189.627 671.908 189.627 Q676.376 189.627 678.668 192.405 Q680.959 195.159 680.959 200.529 Z\" fill=\"#000000\" fill-rule=\"nonzero\" fill-opacity=\"1\" /><path clip-path=\"url(#clip940)\" d=\"M699.501 193.238 Q696.075 193.238 694.084 195.923 Q692.093 198.585 692.093 203.238 Q692.093 207.891 694.061 210.576 Q696.052 213.238 699.501 213.238 Q702.904 213.238 704.894 210.553 Q706.885 207.867 706.885 203.238 Q706.885 198.631 704.894 195.946 Q702.904 193.238 699.501 193.238 M699.501 189.627 Q705.056 189.627 708.228 193.238 Q711.399 196.849 711.399 203.238 Q711.399 209.604 708.228 213.238 Q705.056 216.849 699.501 216.849 Q693.922 216.849 690.751 213.238 Q687.603 209.604 687.603 203.238 Q687.603 196.849 690.751 193.238 Q693.922 189.627 699.501 189.627 Z\" fill=\"#000000\" fill-rule=\"nonzero\" fill-opacity=\"1\" /><path clip-path=\"url(#clip940)\" d=\"M718.459 180.159 L722.718 180.159 L722.718 216.178 L718.459 216.178 L718.459 180.159 Z\" fill=\"#000000\" fill-rule=\"nonzero\" fill-opacity=\"1\" /><path clip-path=\"url(#clip940)\" d=\"M731.63 190.252 L735.89 190.252 L735.89 216.178 L731.63 216.178 L731.63 190.252 M731.63 180.159 L735.89 180.159 L735.89 185.553 L731.63 185.553 L731.63 180.159 Z\" fill=\"#000000\" fill-rule=\"nonzero\" fill-opacity=\"1\" /><path clip-path=\"url(#clip940)\" d=\"M763.459 191.247 L763.459 195.229 Q761.653 194.233 759.825 193.747 Q758.019 193.238 756.167 193.238 Q752.024 193.238 749.732 195.877 Q747.44 198.492 747.44 203.238 Q747.44 207.983 749.732 210.622 Q752.024 213.238 756.167 213.238 Q758.019 213.238 759.825 212.752 Q761.653 212.242 763.459 211.247 L763.459 215.182 Q761.676 216.016 759.755 216.432 Q757.857 216.849 755.704 216.849 Q749.848 216.849 746.399 213.168 Q742.95 209.488 742.95 203.238 Q742.95 196.895 746.422 193.261 Q749.917 189.627 755.982 189.627 Q757.95 189.627 759.825 190.043 Q761.7 190.437 763.459 191.247 Z\" fill=\"#000000\" fill-rule=\"nonzero\" fill-opacity=\"1\" /><polyline clip-path=\"url(#clip940)\" style=\"stroke:#3da44d; stroke-linecap:round; stroke-linejoin:round; stroke-width:4; stroke-opacity:1; fill:none\" points=\"283.027,250.738 427.426,250.738 \"/>\n",
       "<path clip-path=\"url(#clip940)\" d=\"M451.493 233.458 L471.354 233.458 L471.354 237.393 L456.169 237.393 L456.169 247.578 L469.872 247.578 L469.872 251.513 L456.169 251.513 L456.169 268.018 L451.493 268.018 L451.493 233.458 Z\" fill=\"#000000\" fill-rule=\"nonzero\" fill-opacity=\"1\" /><path clip-path=\"url(#clip940)\" d=\"M498.159 253.99 L498.159 256.073 L478.576 256.073 Q478.854 260.471 481.215 262.786 Q483.599 265.078 487.835 265.078 Q490.289 265.078 492.581 264.476 Q494.895 263.874 497.164 262.67 L497.164 266.698 Q494.872 267.67 492.465 268.18 Q490.058 268.689 487.581 268.689 Q481.377 268.689 477.743 265.078 Q474.132 261.467 474.132 255.309 Q474.132 248.944 477.558 245.217 Q481.007 241.467 486.84 241.467 Q492.071 241.467 495.104 244.846 Q498.159 248.203 498.159 253.99 M493.9 252.74 Q493.854 249.245 491.933 247.161 Q490.034 245.078 486.886 245.078 Q483.321 245.078 481.169 247.092 Q479.039 249.106 478.715 252.763 L493.9 252.74 Z\" fill=\"#000000\" fill-rule=\"nonzero\" fill-opacity=\"1\" /><path clip-path=\"url(#clip940)\" d=\"M525.335 247.069 Q526.932 244.198 529.155 242.833 Q531.377 241.467 534.386 241.467 Q538.437 241.467 540.636 244.314 Q542.835 247.138 542.835 252.369 L542.835 268.018 L538.553 268.018 L538.553 252.508 Q538.553 248.782 537.233 246.976 Q535.914 245.17 533.205 245.17 Q529.895 245.17 527.974 247.37 Q526.053 249.569 526.053 253.365 L526.053 268.018 L521.77 268.018 L521.77 252.508 Q521.77 248.758 520.451 246.976 Q519.131 245.17 516.377 245.17 Q513.113 245.17 511.192 247.393 Q509.27 249.592 509.27 253.365 L509.27 268.018 L504.988 268.018 L504.988 242.092 L509.27 242.092 L509.27 246.12 Q510.729 243.735 512.766 242.601 Q514.803 241.467 517.604 241.467 Q520.428 241.467 522.395 242.902 Q524.386 244.337 525.335 247.069 Z\" fill=\"#000000\" fill-rule=\"nonzero\" fill-opacity=\"1\" /><path clip-path=\"url(#clip940)\" d=\"M563.113 254.985 Q557.951 254.985 555.96 256.166 Q553.969 257.346 553.969 260.194 Q553.969 262.462 555.451 263.805 Q556.955 265.124 559.525 265.124 Q563.066 265.124 565.196 262.624 Q567.349 260.101 567.349 255.934 L567.349 254.985 L563.113 254.985 M571.608 253.226 L571.608 268.018 L567.349 268.018 L567.349 264.082 Q565.89 266.443 563.715 267.578 Q561.539 268.689 558.391 268.689 Q554.409 268.689 552.048 266.467 Q549.71 264.221 549.71 260.471 Q549.71 256.096 552.627 253.874 Q555.566 251.652 561.377 251.652 L567.349 251.652 L567.349 251.235 Q567.349 248.295 565.404 246.698 Q563.483 245.078 559.988 245.078 Q557.766 245.078 555.659 245.61 Q553.553 246.143 551.608 247.207 L551.608 243.272 Q553.946 242.37 556.145 241.93 Q558.344 241.467 560.428 241.467 Q566.053 241.467 568.83 244.383 Q571.608 247.3 571.608 253.226 Z\" fill=\"#000000\" fill-rule=\"nonzero\" fill-opacity=\"1\" /><path clip-path=\"url(#clip940)\" d=\"M580.381 231.999 L584.64 231.999 L584.64 268.018 L580.381 268.018 L580.381 231.999 Z\" fill=\"#000000\" fill-rule=\"nonzero\" fill-opacity=\"1\" /><path clip-path=\"url(#clip940)\" d=\"M615.728 253.99 L615.728 256.073 L596.145 256.073 Q596.423 260.471 598.784 262.786 Q601.168 265.078 605.404 265.078 Q607.858 265.078 610.149 264.476 Q612.464 263.874 614.733 262.67 L614.733 266.698 Q612.441 267.67 610.034 268.18 Q607.626 268.689 605.15 268.689 Q598.946 268.689 595.312 265.078 Q591.701 261.467 591.701 255.309 Q591.701 248.944 595.126 245.217 Q598.575 241.467 604.409 241.467 Q609.64 241.467 612.673 244.846 Q615.728 248.203 615.728 253.99 M611.469 252.74 Q611.423 249.245 609.501 247.161 Q607.603 245.078 604.455 245.078 Q600.89 245.078 598.738 247.092 Q596.608 249.106 596.284 252.763 L611.469 252.74 Z\" fill=\"#000000\" fill-rule=\"nonzero\" fill-opacity=\"1\" /><path clip-path=\"url(#clip940)\" d=\"M642.649 237.3 L642.649 250.286 L648.529 250.286 Q651.793 250.286 653.575 248.596 Q655.358 246.907 655.358 243.782 Q655.358 240.68 653.575 238.99 Q651.793 237.3 648.529 237.3 L642.649 237.3 M637.973 233.458 L648.529 233.458 Q654.339 233.458 657.302 236.096 Q660.288 238.712 660.288 243.782 Q660.288 248.897 657.302 251.513 Q654.339 254.129 648.529 254.129 L642.649 254.129 L642.649 268.018 L637.973 268.018 L637.973 233.458 Z\" fill=\"#000000\" fill-rule=\"nonzero\" fill-opacity=\"1\" /><path clip-path=\"url(#clip940)\" d=\"M665.103 257.786 L665.103 242.092 L669.362 242.092 L669.362 257.624 Q669.362 261.305 670.797 263.156 Q672.232 264.985 675.103 264.985 Q678.552 264.985 680.543 262.786 Q682.557 260.587 682.557 256.791 L682.557 242.092 L686.816 242.092 L686.816 268.018 L682.557 268.018 L682.557 264.036 Q681.006 266.397 678.945 267.555 Q676.908 268.689 674.2 268.689 Q669.733 268.689 667.418 265.911 Q665.103 263.133 665.103 257.786 M675.82 241.467 L675.82 241.467 Z\" fill=\"#000000\" fill-rule=\"nonzero\" fill-opacity=\"1\" /><path clip-path=\"url(#clip940)\" d=\"M714.2 255.078 Q714.2 250.379 712.255 247.717 Q710.334 245.032 706.955 245.032 Q703.575 245.032 701.63 247.717 Q699.709 250.379 699.709 255.078 Q699.709 259.777 701.63 262.462 Q703.575 265.124 706.955 265.124 Q710.334 265.124 712.255 262.462 Q714.2 259.777 714.2 255.078 M699.709 246.027 Q701.052 243.712 703.089 242.601 Q705.149 241.467 707.996 241.467 Q712.718 241.467 715.658 245.217 Q718.621 248.967 718.621 255.078 Q718.621 261.189 715.658 264.939 Q712.718 268.689 707.996 268.689 Q705.149 268.689 703.089 267.578 Q701.052 266.443 699.709 264.129 L699.709 268.018 L695.427 268.018 L695.427 231.999 L699.709 231.999 L699.709 246.027 Z\" fill=\"#000000\" fill-rule=\"nonzero\" fill-opacity=\"1\" /><path clip-path=\"url(#clip940)\" d=\"M725.681 231.999 L729.941 231.999 L729.941 268.018 L725.681 268.018 L725.681 231.999 Z\" fill=\"#000000\" fill-rule=\"nonzero\" fill-opacity=\"1\" /><path clip-path=\"url(#clip940)\" d=\"M738.853 242.092 L743.112 242.092 L743.112 268.018 L738.853 268.018 L738.853 242.092 M738.853 231.999 L743.112 231.999 L743.112 237.393 L738.853 237.393 L738.853 231.999 Z\" fill=\"#000000\" fill-rule=\"nonzero\" fill-opacity=\"1\" /><path clip-path=\"url(#clip940)\" d=\"M770.681 243.087 L770.681 247.069 Q768.875 246.073 767.047 245.587 Q765.241 245.078 763.389 245.078 Q759.246 245.078 756.954 247.717 Q754.663 250.332 754.663 255.078 Q754.663 259.823 756.954 262.462 Q759.246 265.078 763.389 265.078 Q765.241 265.078 767.047 264.592 Q768.875 264.082 770.681 263.087 L770.681 267.022 Q768.899 267.856 766.977 268.272 Q765.079 268.689 762.926 268.689 Q757.07 268.689 753.621 265.008 Q750.172 261.328 750.172 255.078 Q750.172 248.735 753.644 245.101 Q757.139 241.467 763.204 241.467 Q765.172 241.467 767.047 241.883 Q768.922 242.277 770.681 243.087 Z\" fill=\"#000000\" fill-rule=\"nonzero\" fill-opacity=\"1\" /><polyline clip-path=\"url(#clip940)\" style=\"stroke:#c271d2; stroke-linecap:round; stroke-linejoin:round; stroke-width:4; stroke-opacity:1; fill:none\" points=\"283.027,302.578 427.426,302.578 \"/>\n",
       "<path clip-path=\"url(#clip940)\" d=\"M451.493 285.298 L471.354 285.298 L471.354 289.233 L456.169 289.233 L456.169 299.418 L469.872 299.418 L469.872 303.353 L456.169 303.353 L456.169 319.858 L451.493 319.858 L451.493 285.298 Z\" fill=\"#000000\" fill-rule=\"nonzero\" fill-opacity=\"1\" /><path clip-path=\"url(#clip940)\" d=\"M498.159 305.83 L498.159 307.913 L478.576 307.913 Q478.854 312.311 481.215 314.626 Q483.599 316.918 487.835 316.918 Q490.289 316.918 492.581 316.316 Q494.895 315.714 497.164 314.51 L497.164 318.538 Q494.872 319.51 492.465 320.02 Q490.058 320.529 487.581 320.529 Q481.377 320.529 477.743 316.918 Q474.132 313.307 474.132 307.149 Q474.132 300.784 477.558 297.057 Q481.007 293.307 486.84 293.307 Q492.071 293.307 495.104 296.686 Q498.159 300.043 498.159 305.83 M493.9 304.58 Q493.854 301.085 491.933 299.001 Q490.034 296.918 486.886 296.918 Q483.321 296.918 481.169 298.932 Q479.039 300.946 478.715 304.603 L493.9 304.58 Z\" fill=\"#000000\" fill-rule=\"nonzero\" fill-opacity=\"1\" /><path clip-path=\"url(#clip940)\" d=\"M525.335 298.909 Q526.932 296.038 529.155 294.673 Q531.377 293.307 534.386 293.307 Q538.437 293.307 540.636 296.154 Q542.835 298.978 542.835 304.209 L542.835 319.858 L538.553 319.858 L538.553 304.348 Q538.553 300.622 537.233 298.816 Q535.914 297.01 533.205 297.01 Q529.895 297.01 527.974 299.21 Q526.053 301.409 526.053 305.205 L526.053 319.858 L521.77 319.858 L521.77 304.348 Q521.77 300.598 520.451 298.816 Q519.131 297.01 516.377 297.01 Q513.113 297.01 511.192 299.233 Q509.27 301.432 509.27 305.205 L509.27 319.858 L504.988 319.858 L504.988 293.932 L509.27 293.932 L509.27 297.96 Q510.729 295.575 512.766 294.441 Q514.803 293.307 517.604 293.307 Q520.428 293.307 522.395 294.742 Q524.386 296.177 525.335 298.909 Z\" fill=\"#000000\" fill-rule=\"nonzero\" fill-opacity=\"1\" /><path clip-path=\"url(#clip940)\" d=\"M563.113 306.825 Q557.951 306.825 555.96 308.006 Q553.969 309.186 553.969 312.034 Q553.969 314.302 555.451 315.645 Q556.955 316.964 559.525 316.964 Q563.066 316.964 565.196 314.464 Q567.349 311.941 567.349 307.774 L567.349 306.825 L563.113 306.825 M571.608 305.066 L571.608 319.858 L567.349 319.858 L567.349 315.922 Q565.89 318.283 563.715 319.418 Q561.539 320.529 558.391 320.529 Q554.409 320.529 552.048 318.307 Q549.71 316.061 549.71 312.311 Q549.71 307.936 552.627 305.714 Q555.566 303.492 561.377 303.492 L567.349 303.492 L567.349 303.075 Q567.349 300.135 565.404 298.538 Q563.483 296.918 559.988 296.918 Q557.766 296.918 555.659 297.45 Q553.553 297.983 551.608 299.047 L551.608 295.112 Q553.946 294.21 556.145 293.77 Q558.344 293.307 560.428 293.307 Q566.053 293.307 568.83 296.223 Q571.608 299.14 571.608 305.066 Z\" fill=\"#000000\" fill-rule=\"nonzero\" fill-opacity=\"1\" /><path clip-path=\"url(#clip940)\" d=\"M580.381 283.839 L584.64 283.839 L584.64 319.858 L580.381 319.858 L580.381 283.839 Z\" fill=\"#000000\" fill-rule=\"nonzero\" fill-opacity=\"1\" /><path clip-path=\"url(#clip940)\" d=\"M615.728 305.83 L615.728 307.913 L596.145 307.913 Q596.423 312.311 598.784 314.626 Q601.168 316.918 605.404 316.918 Q607.858 316.918 610.149 316.316 Q612.464 315.714 614.733 314.51 L614.733 318.538 Q612.441 319.51 610.034 320.02 Q607.626 320.529 605.15 320.529 Q598.946 320.529 595.312 316.918 Q591.701 313.307 591.701 307.149 Q591.701 300.784 595.126 297.057 Q598.575 293.307 604.409 293.307 Q609.64 293.307 612.673 296.686 Q615.728 300.043 615.728 305.83 M611.469 304.58 Q611.423 301.085 609.501 299.001 Q607.603 296.918 604.455 296.918 Q600.89 296.918 598.738 298.932 Q596.608 300.946 596.284 304.603 L611.469 304.58 Z\" fill=\"#000000\" fill-rule=\"nonzero\" fill-opacity=\"1\" /><path clip-path=\"url(#clip940)\" d=\"M663.853 287.96 L663.853 292.89 Q661.492 290.691 658.807 289.603 Q656.145 288.515 653.135 288.515 Q647.209 288.515 644.061 292.149 Q640.913 295.76 640.913 302.612 Q640.913 309.441 644.061 313.075 Q647.209 316.686 653.135 316.686 Q656.145 316.686 658.807 315.598 Q661.492 314.51 663.853 312.311 L663.853 317.196 Q661.399 318.862 658.645 319.696 Q655.913 320.529 652.858 320.529 Q645.01 320.529 640.497 315.737 Q635.983 310.922 635.983 302.612 Q635.983 294.279 640.497 289.487 Q645.01 284.673 652.858 284.673 Q655.959 284.673 658.691 285.506 Q661.446 286.316 663.853 287.96 Z\" fill=\"#000000\" fill-rule=\"nonzero\" fill-opacity=\"1\" /><path clip-path=\"url(#clip940)\" d=\"M682.672 306.825 Q677.51 306.825 675.52 308.006 Q673.529 309.186 673.529 312.034 Q673.529 314.302 675.01 315.645 Q676.515 316.964 679.084 316.964 Q682.626 316.964 684.756 314.464 Q686.908 311.941 686.908 307.774 L686.908 306.825 L682.672 306.825 M691.168 305.066 L691.168 319.858 L686.908 319.858 L686.908 315.922 Q685.45 318.283 683.274 319.418 Q681.098 320.529 677.95 320.529 Q673.969 320.529 671.607 318.307 Q669.27 316.061 669.27 312.311 Q669.27 307.936 672.186 305.714 Q675.126 303.492 680.936 303.492 L686.908 303.492 L686.908 303.075 Q686.908 300.135 684.964 298.538 Q683.043 296.918 679.547 296.918 Q677.325 296.918 675.219 297.45 Q673.112 297.983 671.168 299.047 L671.168 295.112 Q673.506 294.21 675.705 293.77 Q677.904 293.307 679.987 293.307 Q685.612 293.307 688.39 296.223 Q691.168 299.14 691.168 305.066 Z\" fill=\"#000000\" fill-rule=\"nonzero\" fill-opacity=\"1\" /><path clip-path=\"url(#clip940)\" d=\"M704.154 286.571 L704.154 293.932 L712.927 293.932 L712.927 297.242 L704.154 297.242 L704.154 311.316 Q704.154 314.487 705.01 315.39 Q705.89 316.293 708.552 316.293 L712.927 316.293 L712.927 319.858 L708.552 319.858 Q703.621 319.858 701.746 318.029 Q699.871 316.177 699.871 311.316 L699.871 297.242 L696.746 297.242 L696.746 293.932 L699.871 293.932 L699.871 286.571 L704.154 286.571 Z\" fill=\"#000000\" fill-rule=\"nonzero\" fill-opacity=\"1\" /><path clip-path=\"url(#clip940)\" d=\"M740.079 304.209 L740.079 319.858 L735.82 319.858 L735.82 304.348 Q735.82 300.668 734.385 298.839 Q732.95 297.01 730.079 297.01 Q726.63 297.01 724.64 299.21 Q722.649 301.409 722.649 305.205 L722.649 319.858 L718.366 319.858 L718.366 283.839 L722.649 283.839 L722.649 297.96 Q724.177 295.622 726.237 294.464 Q728.32 293.307 731.028 293.307 Q735.496 293.307 737.788 296.085 Q740.079 298.839 740.079 304.209 Z\" fill=\"#000000\" fill-rule=\"nonzero\" fill-opacity=\"1\" /><path clip-path=\"url(#clip940)\" d=\"M758.621 296.918 Q755.195 296.918 753.204 299.603 Q751.214 302.265 751.214 306.918 Q751.214 311.571 753.181 314.256 Q755.172 316.918 758.621 316.918 Q762.024 316.918 764.014 314.233 Q766.005 311.547 766.005 306.918 Q766.005 302.311 764.014 299.626 Q762.024 296.918 758.621 296.918 M758.621 293.307 Q764.176 293.307 767.348 296.918 Q770.519 300.529 770.519 306.918 Q770.519 313.284 767.348 316.918 Q764.176 320.529 758.621 320.529 Q753.042 320.529 749.871 316.918 Q746.723 313.284 746.723 306.918 Q746.723 300.529 749.871 296.918 Q753.042 293.307 758.621 293.307 Z\" fill=\"#000000\" fill-rule=\"nonzero\" fill-opacity=\"1\" /><path clip-path=\"url(#clip940)\" d=\"M777.579 283.839 L781.838 283.839 L781.838 319.858 L777.579 319.858 L777.579 283.839 Z\" fill=\"#000000\" fill-rule=\"nonzero\" fill-opacity=\"1\" /><path clip-path=\"url(#clip940)\" d=\"M790.75 293.932 L795.01 293.932 L795.01 319.858 L790.75 319.858 L790.75 293.932 M790.75 283.839 L795.01 283.839 L795.01 289.233 L790.75 289.233 L790.75 283.839 Z\" fill=\"#000000\" fill-rule=\"nonzero\" fill-opacity=\"1\" /><path clip-path=\"url(#clip940)\" d=\"M822.579 294.927 L822.579 298.909 Q820.773 297.913 818.945 297.427 Q817.139 296.918 815.287 296.918 Q811.144 296.918 808.852 299.557 Q806.56 302.172 806.56 306.918 Q806.56 311.663 808.852 314.302 Q811.144 316.918 815.287 316.918 Q817.139 316.918 818.945 316.432 Q820.773 315.922 822.579 314.927 L822.579 318.862 Q820.797 319.696 818.875 320.112 Q816.977 320.529 814.824 320.529 Q808.968 320.529 805.519 316.848 Q802.07 313.168 802.07 306.918 Q802.07 300.575 805.542 296.941 Q809.037 293.307 815.102 293.307 Q817.07 293.307 818.945 293.723 Q820.82 294.117 822.579 294.927 Z\" fill=\"#000000\" fill-rule=\"nonzero\" fill-opacity=\"1\" /></svg>\n"
      ]
     },
     "execution_count": 168,
     "metadata": {},
     "output_type": "execute_result"
    }
   ],
   "source": [
    "@df school density(:MAch, group = (:Sx, :Sector))"
   ]
  },
  {
   "cell_type": "code",
   "execution_count": null,
   "id": "57aea2d0-cf33-494a-b7f7-61eb17b23dd0",
   "metadata": {},
   "outputs": [],
   "source": []
  }
 ],
 "metadata": {
  "kernelspec": {
   "display_name": "Julia 1.10.5",
   "language": "julia",
   "name": "julia-1.10"
  },
  "language_info": {
   "file_extension": ".jl",
   "mimetype": "application/julia",
   "name": "julia",
   "version": "1.10.5"
  }
 },
 "nbformat": 4,
 "nbformat_minor": 5
}

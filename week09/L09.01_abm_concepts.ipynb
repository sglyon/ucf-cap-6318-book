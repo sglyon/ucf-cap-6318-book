{
 "cells": [
  {
   "cell_type": "markdown",
   "metadata": {
    "slideshow": {
     "slide_type": "slide"
    }
   },
   "source": [
    "# Agent Based Models\n",
    "\n",
    "> Computational Analysis of Social Complexity\n",
    "\n",
    "**Prerequisites**\n",
    "\n",
    "- None 😏\n",
    "\n",
    "**Outcomes**\n",
    "\n",
    "- Understand what a model is\n",
    "- Know the difference between what we call equation based models and agent based models\n",
    "- Understand the key building blocks of agent based models\n",
    "- Learn the key components of the Schelling segregation model\n",
    "\n",
    "**References**\n",
    "\n",
    "- [Cioffi-Revilla](https://www.springer.com/gp/book/9783319501307) Chapter 10\n",
    "- [https://journal.sohostrategy.com/what-does-an-agent-based-model-look-like-dc1fbc17f2f5](https://journal.sohostrategy.com/what-does-an-agent-based-model-look-like-dc1fbc17f2f5)\n",
    "- [https://journal.sohostrategy.com/what-is-abm-abms-f52ff2f1f712](https://journal.sohostrategy.com/what-is-abm-abms-f52ff2f1f712)\n",
    "- [https://towardsdatascience.com/agent-based-modeling-will-unleash-a-new-paradigm-of-machine-learning-ff6d3b1ac940?source=search_post---------3](https://towardsdatascience.com/agent-based-modeling-will-unleash-a-new-paradigm-of-machine-learning-ff6d3b1ac940?source=search_post---------3)"
   ]
  },
  {
   "cell_type": "markdown",
   "metadata": {
    "slideshow": {
     "slide_type": "slide"
    }
   },
   "source": [
    "## Why Models?\n",
    "\n",
    "- Many topics of interest for social scientists are either unethical or unreasonable to study in a laboratory\n",
    "  - Impact on communities of upsurge in illicit drug usage (can't give people drugs to see impact)\n",
    "  - Flow of traffic given a new infrastructure updates (too costly to experiment with)\n",
    "  - Impact of new tarrifs in international trading relationships (too costly to coorindate legislation and implement)\n",
    "- For this reason, we as social scientists turn to *models* to study our problems\n",
    "- A model is a probability distribution over outcomes\n",
    "- I'll repeat for emphasis: a model is a probability distribution over outcomes"
   ]
  },
  {
   "cell_type": "markdown",
   "metadata": {
    "slideshow": {
     "slide_type": "subslide"
    }
   },
   "source": [
    "### Types of Models\n",
    "\n",
    "- A model is a mathematical object: equations, rules, distributional assumptions.\n",
    "- At its heart, a model is a simplification of some real-world system or phenonmenom\n",
    "  - Much complexity is abstracted away (or not included directly in model)\n",
    "  - Key aspects relevant for study are modeled explicitly (e.g. trading response to tarrifs)\n",
    "- For our purposes, we will think of models as belonging to one of two families\n",
    "  - Equation based models\n",
    "  - Agent based models\n",
    "\n",
    "> This is a simplification and not a perfect classification (because equation based models have agents and agent based models have equations), but we will be able to draw useful distinctions with this classification."
   ]
  },
  {
   "cell_type": "markdown",
   "metadata": {
    "slideshow": {
     "slide_type": "subslide"
    }
   },
   "source": [
    "### Equation Based Models\n",
    "\n",
    "- An equation based model describes the decision making setting for each agent using mathematical equations\n",
    "- Typically, these are posed as (constrained) optimization problems\n",
    "- A set of equaitons is also developed that describe interaction between agents\n",
    "- These equations can feature random variables and will require specification of model parameters\n",
    "- Most models I study and develop in my economics research are equation based\n",
    "- Pros:\n",
    "  - Allow precise specification of assumptions, incentives, and outcomes\n",
    "  - Have wide toolbox of numerical optimization, and statistical fitting to \"solve\" model\n",
    "- Cons:\n",
    "  - Optimization and calibration of parameters can be very difficult\n",
    "  - Often subject to the \"curse of dimensionality\", which limits size and complexity of model"
   ]
  },
  {
   "cell_type": "markdown",
   "metadata": {
    "slideshow": {
     "slide_type": "subslide"
    }
   },
   "source": [
    "### Agent Based Models (ABMs)\n",
    "\n",
    "- An agent based model describes rules for how individual agents respond to their environment\n",
    "- There are usually many agents, each with a set of properties\n",
    "- One common property is the *type* of the agent: usually drawn from a small/finite set (buyer-seller, parent-child-teacher, sheep-wolf)\n",
    "- All agents of the same type have the same set of additional properties\n",
    "- Each agent has a *state* at each time step $t$\n",
    "- The *rules* are equations that specify how the state of an agent is updated between periods $t$ and $t+1$\n",
    "  - Rules are common for all agents of a type, but vary based on that agent's state and property values\n",
    "  - Rules will often have random variables as well as parameters\n",
    "  - Rules often include notion of \"neighboring\" agents\n",
    "- Pros:\n",
    "  - Focus on how an individual should respond in a given state without *requiring* optimization\n",
    "  - Because rules are typically mathematically simple, can have many many agents\n",
    "- Cons:\n",
    "  - Often lacks notion of equilibrium (could be a feature)\n",
    "  - Not very \"reusable\" -- to study specific topic you usually have to create whole new model\n",
    "  - Sometimes [too many parameters](https://math.stackexchange.com/questions/2970219/was-von-neumann-right-that-with-four-parameters-you-can-fit-an-elephant): need for careful calibration"
   ]
  },
  {
   "cell_type": "markdown",
   "metadata": {
    "slideshow": {
     "slide_type": "slide"
    }
   },
   "source": [
    "## ABMs\n",
    "\n",
    "- For the next few lectures we'll focus on agent base models\n",
    "- We'll start by outlining the main components of an ABM\n",
    "- Then we'll talk about how we could represent them in Julia using the Agents.jl library\n",
    "  - This will require a step up in our Julia skills, so we'll spend some time covering these concepts in greater detail\n",
    "- Finally we'll see a few examples of ABMs in practice\n",
    "\n",
    "> NOTE: Most of the study of the Julia skills and ABM examples are not in this notebook"
   ]
  },
  {
   "cell_type": "markdown",
   "metadata": {
    "slideshow": {
     "slide_type": "subslide"
    }
   },
   "source": [
    "### ABM components\n",
    "\n",
    "- ABMs are made up of 3 distinct components:\n",
    "  1. Agents\n",
    "  2. Environment\n",
    "  3. Rules"
   ]
  },
  {
   "cell_type": "markdown",
   "metadata": {
    "slideshow": {
     "slide_type": "subslide"
    }
   },
   "source": [
    "#### Agents\n",
    "\n",
    "- Have state at discrete time steps $t$ (state is value of properties, some properties might be fixed)\n",
    "- Always aware of its own state\n",
    "- Autonomous: can make a decisions independent of other agents\n",
    "- Reactive: can respond to changes in environment or state of other agents\n",
    "- Proactive: can behave in a way to achieve a goal\n",
    "- Communicate: can make some attributes visible to other agents"
   ]
  },
  {
   "cell_type": "markdown",
   "metadata": {
    "slideshow": {
     "slide_type": "subslide"
    }
   },
   "source": [
    "#### Environments\n",
    "\n",
    "- One of two types\n",
    "  1. Natural Environments: biophysical landscapes and settings \n",
    "  2. Artifical environments: classrooms, economic markets, parks, transportation streets, buildings, etc.\n",
    "- Agents reside within an environment\n",
    "- Properties of environment can be fixed (size, dimensions) or varying (weather, congestion, unused capacity)\n",
    "- Agents can observe and potentially respond to properties of the environment"
   ]
  },
  {
   "cell_type": "markdown",
   "metadata": {
    "slideshow": {
     "slide_type": "subslide"
    }
   },
   "source": [
    "#### Rules\n",
    "\n",
    "- Rules are the key feature that makes ABMs dynamic\n",
    "- Types of rules:\n",
    "  - Inter-agent: how agents communicate and respond to one another (e.g. information spread)\n",
    "  - Agent-environment rules: How an agent responds to an environment (e.g. avoid park if raining), or how an agent's decisions and behaviors impact environment (e.g. more cars => more pollution)\n",
    "  - Intra-environmental rules: cause and effect mechanisms within the environment (e.g. more rain => more vegetation)"
   ]
  },
  {
   "cell_type": "markdown",
   "metadata": {
    "slideshow": {
     "slide_type": "slide"
    }
   },
   "source": [
    "## ABMs in Julia\n",
    "\n",
    "- We need a way to represent these three components in Julia\n",
    "- Agents: represent as a Julia struct\n",
    "    - Struct fields record agent properties\n",
    "    - Our custom agent type can have `methods` that ascribe behavior to agents\n",
    "- Environments: either explicitly as Julia struct or implicitly in the update rules\n",
    "- Rules: julia functions\n",
    "    - Key function is `step!` which will allow our agents to make decisions and have the environment and agent properties update in response"
   ]
  },
  {
   "cell_type": "markdown",
   "metadata": {
    "slideshow": {
     "slide_type": "subslide"
    }
   },
   "source": [
    "## Schelling Segregation Model\n",
    "\n",
    "- We will work on learning how to represent our agents, rules, and environment in Julia\n",
    "- To make that discussion more concrete, it will be helpful to have a model to implement\n",
    "- The \"hello world\" of ABMs may just be the Schelling segregation model\n",
    "- References include [QuantEcon](https://julia.quantecon.org/multi_agent_models/schelling.html) and [Agents.jl](https://juliadynamics.github.io/Agents.jl/stable/examples/schelling/#Schelling's-segregation-model) tutorial"
   ]
  },
  {
   "cell_type": "markdown",
   "metadata": {
    "slideshow": {
     "slide_type": "subslide"
    }
   },
   "source": [
    "### Schelling's Work\n",
    "\n",
    "- Thomas Schelling won a nobel price in economics for his study of racial segregation\n",
    "- At the heart of his study, was a model proposed in 1969 for how racial segregation can occur in urban areas\n",
    "- One theme of this work (and ABMs in general) is that local interactions (like decisions of individual agents) can lead to surprising aggregate results"
   ]
  },
  {
   "cell_type": "markdown",
   "metadata": {
    "slideshow": {
     "slide_type": "subslide"
    }
   },
   "source": [
    "### The Model\n",
    "\n",
    "- Environment: 25x25 grid of single family dwellings\n",
    "- Agents with properties:\n",
    "  - location (x,y) coordinate for current home\n",
    "  - type: orange or blue. Fixed over time. 250 of each\n",
    "  - happiness: 0 if less than $N$ of neighbors are of same type, 1 otherwise\n",
    "- Rules:\n",
    "  - Agents choose to move to unoccupied grid point if unhappy\n",
    "\n",
    "> Note neighbors for a particular cell are the the 8 other cells surrounding the cell of interest. Corner or edge cells have less than 8 neighbors"
   ]
  },
  {
   "cell_type": "markdown",
   "metadata": {},
   "source": []
  }
 ],
 "metadata": {
  "kernelspec": {
   "display_name": "Julia 1.10.4",
   "language": "julia",
   "name": "julia-1.10"
  },
  "language_info": {
   "file_extension": ".jl",
   "mimetype": "application/julia",
   "name": "julia",
   "version": "1.10.4"
  },
  "vscode": {
   "interpreter": {
    "hash": "9c34f8300255a89503f4189d280ab6e13ebb06f781e83b0937e65d49b3ce033c"
   }
  }
 },
 "nbformat": 4,
 "nbformat_minor": 4
}

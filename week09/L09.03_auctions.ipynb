{
 "cells": [
  {
   "cell_type": "markdown",
   "id": "47b69096-aacd-4a4e-ad4f-8c1edeb1f456",
   "metadata": {
    "editable": true,
    "slideshow": {
     "slide_type": "slide"
    },
    "tags": []
   },
   "source": [
    "# Auctions\n",
    "\n",
    "> Computational Analysis of Social Complexity\n",
    ">\n",
    "> Fall 2024, Spencer Lyon\n",
    "\n",
    "**Prerequisites**\n",
    "\n",
    "- Game Theory\n",
    "\n",
    "**Outcomes**\n",
    "\n",
    "- Know the 4 main types of auctions\n",
    "- Understand concept of individual valuation of an item or an outcome\n",
    "- Understand why truth-telling in auctions is optimal\n",
    "\n",
    "**References**\n",
    "\n",
    "- [Easley and Kleinberg](https://www.cs.cornell.edu/home/kleinber/networks-book/) chapter 9"
   ]
  },
  {
   "cell_type": "markdown",
   "id": "3d6f3b17-c816-4dd6-ae72-20b47bfe6f93",
   "metadata": {
    "editable": true,
    "slideshow": {
     "slide_type": "slide"
    },
    "tags": []
   },
   "source": [
    "## Intro\n",
    "\n",
    "- An auction is a special type of economic market between a seller and many buyers\n",
    "- The seller has an item or outcome that -- presumably -- the buyers want\n",
    "- Rules are established for how buyers indicate their willingness to pay"
   ]
  },
  {
   "cell_type": "markdown",
   "id": "3ba4ba53-e322-488a-b393-61b02c788eac",
   "metadata": {
    "slideshow": {
     "slide_type": "subslide"
    },
    "tags": []
   },
   "source": [
    "### Why/When auctions?\n",
    "\n",
    "- When would auctions be applicable?\n",
    "- In a typical buyer-seller scenario usually the value of the good for one party is known\n",
    "  - The buyer knows costs of creating the good and posts a reasonable price\n",
    "  - The seller knows how much they are willing to pay and will purchase if affordable\n",
    "- An auction is to be used when the *valuation* of the good is either private information (I, a buyer, don't want seller to know how badly I want the good) or is unknown"
   ]
  },
  {
   "cell_type": "markdown",
   "id": "6828d054-156e-42b8-8f2a-f550ddf781f2",
   "metadata": {
    "slideshow": {
     "slide_type": "slide"
    },
    "tags": []
   },
   "source": [
    "## Types of Auctions\n",
    "\n",
    "1. First price, ascending (*English*): what we see on TV. Auctioneer calls out higher and higher prices, bidders indicate willinness to pay, terminates when nobody outbids current highest bid\n",
    "2. Descending-bid (*Dutch*): Price starts high and falls, bidders are quiet until somebody says they'll buy at current price, auction ends and bidder pays that price\n",
    "3. First price, sealed-bid: everyone writes down their bid secretly and submits at the same time, highest bidder wins and pays price they wrote\n",
    "4. Second price, sealed-bid (*Vickrey*): everyone writes down their bid secretly and submits at the same time, highest bidder wins and pays price of second highest bidder"
   ]
  },
  {
   "cell_type": "markdown",
   "id": "0495c9f9-6b3f-4f89-9b9c-99a7c2beee04",
   "metadata": {
    "slideshow": {
     "slide_type": "subslide"
    },
    "tags": []
   },
   "source": [
    "### Equivalence\n",
    "\n",
    "- Because auctions are useful in settings with unknown valuations, we often think about how the rules of an auction lead to revealing information\n",
    "- It turns out that of the 4 types of auctions we just described, only two information patterns emerge:\n",
    "  1. Descending bid and first-price sealed auction: In this case nobody learns anything about buyers willingness to pay until we see the highest bidder's price and auction ends. We only ever learn the highest bidder's bid\n",
    "  2. Ascending and second-price sealed: We see which buyers are willing to purchase at low prices, auction ends when one person has outbid the rest, if auction increments slowly this will be at the maximum price for second place bidder. In either case we learn second highest bidder's price, which is paid by the highest bidder (we don't get to see the highest bidder's valuation)\n",
    "- For this reason, we'll study the two forms of sealed-bid auctions"
   ]
  },
  {
   "cell_type": "markdown",
   "id": "bb8ea44b-01d1-4afa-bbcc-4a6815b04b28",
   "metadata": {
    "slideshow": {
     "slide_type": "slide"
    },
    "tags": []
   },
   "source": [
    "## Second price, sealed bid auction\n",
    "\n",
    "- Let's set up the second price, sealed-bid auction as a game\n",
    "- Suppose there are $N$ bidders (each is a player)\n",
    "- Bidder $i$ strategy is to bid an amount $b_i$, which is a function of that bidder's true valuation $v_i$\n",
    "- Payoffs to player $i$ with valuation $v_i$ and bid $b_i$ are:\n",
    "  - 0: if $b_i$ is not highest bid\n",
    "  - equal to $v_i - b_k$: if $b_i$ is highest bid and second higest bid is $b_k$\n",
    "- Ties go to bidder with lower \"index\" $i$ wins over $k$ if $b_i = b_k$ and $i < k$"
   ]
  },
  {
   "cell_type": "markdown",
   "id": "d362f8e8-22a9-428b-a0ef-3440b32af33c",
   "metadata": {
    "slideshow": {
     "slide_type": "subslide"
    },
    "tags": []
   },
   "source": [
    "### Truth telling\n",
    "\n",
    "- *Claim*: in a sealed-bid second price auction, it is a dominant strategy for each bidder to choose $b_i = v_i$\n",
    "- To prove this we need to consider possible outcomes if $b_i <v_i$ or if $b_i > v_i$\n",
    "- Call $b_i'$ the bid above valuation ($b_i' > v_i$) and $b_i''$ the bid below valuation ($b_i'' < v_i$). Also let $b_k$ represent the second highest bid\n",
    "  1. Suppose bidder $i$ chooses to bid $b_i'' < v_i$\n",
    "      - Case $v_i, b_i'' < b_k$: lose auction with payoff 0\n",
    "      - Case $v_i, b_i'' > b_k$: win auction with payoff $v_i - b_k$\n",
    "      - Case $v_i > b_k$ and $b_i'' < b_k$: $b_k''$ loses auction gets. Bidding $b_i = v_i$ would have won for payoff $v_i - b_k \\ge 0$. So, bidding to low can't help, but can hurt\n",
    "  2. Suppose bidder $i$ chooses to bid $b_i' > v_i$\n",
    "      - Case $v_i, b_i' < b_k$: payoff 0\n",
    "      - Case $v_i, b_i' > b_k$: payoff $v_i - b_k$\n",
    "      - Case $v_i < b_k$ and $b_i' > b_k$: $b_i'$ now wins auction and gets payoff $v_i - b_k \\le 0$. Truthful bid would lose and get payoff 0. Bidding high can't help, but can hurt\n",
    "- So, in sealed-bid second price auction it is always optimal to bid true value"
   ]
  },
  {
   "cell_type": "markdown",
   "id": "81bf0357-fed9-48fa-b117-3bddaafa00f0",
   "metadata": {
    "slideshow": {
     "slide_type": "slide"
    },
    "tags": []
   },
   "source": [
    "## First price, sealed bid auction\n",
    "\n",
    "- Same notation players, valuations, and bids\n",
    "- Payoffs are now:\n",
    "    - 0 if $b_i$ not highest\n",
    "    - equal to $v_i - b_i$ if $b_i$ is highest\n",
    "- Note, bidding true value is not optimal -- you would always get $0$ payoff\n",
    "- What is optimal then?\n",
    "- Optimal behavior is to \"shade\" bid a bit lower than true value\n",
    "  - How much lower depends on interaction between not bidding too close to true value (b/c that diminishes your payoffs) and not bidding too low (b/c you risk losing an otherwise profitable win).\n",
    "- Actually solving for this tradeoff is complex!"
   ]
  },
  {
   "cell_type": "markdown",
   "id": "37ab27de-e912-4918-8483-6cb693322eda",
   "metadata": {
    "slideshow": {
     "slide_type": "subslide"
    },
    "tags": []
   },
   "source": [
    "### Considerations\n",
    "\n",
    "- What factors might influence how much you shade your bid?\n",
    "  - Number of other bidders: with many bidders, shading becomes more risky (more people that might outbid you) so you tend to bid higher\n",
    "  - Distribution of bidder values: understanding how valuation of other bidders is distributed might allow you to shade more"
   ]
  },
  {
   "cell_type": "markdown",
   "id": "ede4c203-6317-445f-8a1f-e1a36b5cf5d1",
   "metadata": {
    "slideshow": {
     "slide_type": "subslide"
    },
    "tags": []
   },
   "source": [
    "### Outcomes\n",
    "\n",
    "- For now, we will not discuss how to compute optimal bids in first-price auctions\n",
    "- Instead we will talk about some outcomes:\n",
    "  - The Revelation Principle: in order to derive optimal bids, we use a framework that considers small deviations to $v_i$ instead of $b_i$. We assert that the expected payoff for using a a strategy derived from a value $v_i$ is at least as high as the expected payoff for a strategy derived from any other value $v$\n",
    "  - Revenue equivalence: the expected payoff to the seller is exactly the same for both first and second price auctions, when bidders follow equilibrium strategies"
   ]
  },
  {
   "cell_type": "markdown",
   "id": "1e0d8cb1-5a32-4cbe-b929-826c8a74d05d",
   "metadata": {
    "slideshow": {
     "slide_type": "slide"
    },
    "tags": []
   },
   "source": [
    "## Twists\n",
    "\n",
    "- There are some twists to the auction setup we've described\n",
    "- One is the notion of an \"all-pay auction\"\n",
    "  - In an all-pay auction only the highest bidder wins, but all bidders must pay their bid\n",
    "  - Turns out, this style of auction also satisfies the revenue equivalence principle (under equilibrium bidding, expected seller revenue is same as in sealed first and sealed second price bid)\n",
    "- Auction markets on blockchain\n",
    "  - Implementing auctions via smart contracts has interesting implications\n",
    "      - Transfer of ownership can be settled immediately and trustlessly\n",
    "      - Participating in an auction is permisionless (anyone can be a seller or buyer)\n",
    "      - Conditions for resales can be set (i.e. original seller gets x% of all subsequent sales)  -- now we have a repeated, dynamic game!\n",
    "      - Onwership rights can be verified and open up \n",
    "  - This scratches the surface of some economic implications of a class of assets called NFTs or non-fungible tokens"
   ]
  },
  {
   "cell_type": "code",
   "execution_count": null,
   "id": "4caf9b7d-42e3-40d9-92d9-54aa21dc9109",
   "metadata": {},
   "outputs": [],
   "source": [
    "     "
   ]
  }
 ],
 "metadata": {
  "kernelspec": {
   "display_name": "Julia 1.10.4",
   "language": "julia",
   "name": "julia-1.10"
  },
  "language_info": {
   "file_extension": ".jl",
   "mimetype": "application/julia",
   "name": "julia",
   "version": "1.10.4"
  }
 },
 "nbformat": 4,
 "nbformat_minor": 5
}

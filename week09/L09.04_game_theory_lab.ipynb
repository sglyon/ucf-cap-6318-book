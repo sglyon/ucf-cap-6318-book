{
 "cells": [
  {
   "cell_type": "markdown",
   "id": "a1b2c3d4-e5f6-7890-a1b2-c3d4e5f67890",
   "metadata": {},
   "source": [
    "# Game Theory Lab: Data Science Applications\n",
    "\n",
    "> Computational Analysis of Social Complexity\n",
    ">\n",
    "> Fall 2025, Spencer Lyon\n",
    "\n",
    "**Prerequisites**\n",
    "\n",
    "- Mixed Strategies (L09.01)\n",
    "- Auctions (L09.03)\n",
    "\n",
    "**Outcomes**\n",
    "\n",
    "- Apply mixed strategy Nash equilibrium to cybersecurity scenarios\n",
    "- Understand auction mechanisms in digital advertising\n",
    "- Analyze bidding strategies in cloud computing spot markets\n",
    "- Practice computing equilibria with real-world data science examples"
   ]
  },
  {
   "cell_type": "markdown",
   "id": "b1c2d3e4-f5a6-7890-b1c2-d3e4f5a67890",
   "metadata": {},
   "source": [
    "## Cybersecurity: Defender vs Attacker Game"
   ]
  },
  {
   "cell_type": "markdown",
   "id": "c1d2e3f4-a5b6-7890-c1d2-e3f4a5b67890",
   "metadata": {},
   "source": [
    "### Scenario\n",
    "\n",
    "You are the head of security for a data analytics company. Your infrastructure has two critical components:\n",
    "- **Database**: Contains customer data and analytics results\n",
    "- **API**: Processes real-time data requests\n",
    "\n",
    "Due to resource constraints, you can only deploy intensive monitoring and intrusion detection on ONE system at a time.\n",
    "\n",
    "Meanwhile, a threat actor is targeting your company and must choose which system to attack.\n",
    "\n",
    "**Payoffs** (from Defender's perspective, in terms of avoided damages, measured in $10,000s):\n",
    "\n",
    "- If Defender monitors the system being attacked: **+8** (attack detected and blocked)\n",
    "- If Defender monitors the wrong system: **-10** (successful breach)\n",
    "- If Attacker succeeds in breaching Database: Defender loses 10, Attacker gains 10\n",
    "- If Attacker succeeds in breaching API: Defender loses 10, Attacker gains 10\n",
    "- If Attacker is blocked: Defender gains 8 (reputation boost), Attacker loses 8 (wasted resources)"
   ]
  },
  {
   "cell_type": "markdown",
   "id": "d1e2f3a4-b5c6-7890-d1e2-f3a4b5c67890",
   "metadata": {},
   "source": [
    "### Payoff Matrix\n",
    "\n",
    "|                    | Attacker: Database | Attacker: API |\n",
    "|--------------------|--------------------|--------------|\n",
    "| **Defender: Database** | (8, -8)            | (-10, 10)    |\n",
    "| **Defender: API**      | (-10, 10)          | (8, -8)      |\n",
    "\n",
    "Note: Payoffs are (Defender, Attacker)"
   ]
  },
  {
   "cell_type": "markdown",
   "id": "e1f2a3b4-c5d6-7890-e1f2-a3b4c5d67890",
   "metadata": {},
   "source": [
    "### Exercise 1.1: Pure Strategy Analysis\n",
    "\n",
    "1. Does this game have a Nash Equilibrium in pure strategies? Why or why not?\n",
    "2. What type of game is this (zero-sum, positive-sum, negative-sum)?\n",
    "3. Why might randomization (mixed strategies) be beneficial for both players?"
   ]
  },
  {
   "cell_type": "markdown",
   "id": "f1a2b3c4-d5e6-7890-f1a2-b3c4d5e67890",
   "metadata": {},
   "source": [
    "### Exercise 1.2: Computing Mixed Strategy Equilibrium\n",
    "\n",
    "Let:\n",
    "- $p$ = probability Defender monitors Database\n",
    "- $q$ = probability Attacker targets Database\n",
    "\n",
    "**Part A**: Write out the Attacker's expected payoff for each pure strategy as a function of $p$:\n",
    "- Expected payoff from targeting Database: $E_A(\\text{Database} | p)$ = ?\n",
    "- Expected payoff from targeting API: $E_A(\\text{API} | p)$ = ?\n",
    "\n",
    "**Part B**: Use the indifference condition to solve for $p^*$ (the equilibrium probability)\n",
    "\n",
    "**Part C**: By symmetry (or by computing Defender's expected payoffs), what is $q^*$?\n",
    "\n",
    "**Part D**: What is the expected payoff for each player at equilibrium?"
   ]
  },
  {
   "cell_type": "code",
   "execution_count": null,
   "id": "a1b2c3d4-e5f6-7890-a1b2-c3d4e5f67891",
   "metadata": {},
   "outputs": [],
   "source": [
    "# Use this cell to compute the equilibrium probabilities\n",
    "\n"
   ]
  },
  {
   "cell_type": "markdown",
   "id": "a2b3c4d5-e6f7-8901-a2b3-c4d5e6f78901",
   "metadata": {},
   "source": [
    "### Exercise 1.3: Interpretation\n",
    "\n",
    "1. What does the equilibrium strategy tell you about security practices?\n",
    "2. If the Defender could credibly commit to always monitoring the Database (e.g., via automated systems), would that change the outcome?\n",
    "3. How does this relate to the concept of \"security through obscurity\" vs \"security through randomization\"?"
   ]
  },
  {
   "cell_type": "markdown",
   "id": "b2c3d4e5-f6a7-8901-b2c3-d4e5f6a78901",
   "metadata": {},
   "source": [
    "## Digital Advertising Auctions"
   ]
  },
  {
   "cell_type": "markdown",
   "id": "c2d3e4f5-a6b7-8901-c2d3-e4f5a6b78901",
   "metadata": {},
   "source": [
    "### Background: How Google Ads Works\n",
    "\n",
    "When you search on Google, advertisers compete in real-time auctions for ad placement. For many years, Google used a **Vickrey (second-price) auction** mechanism:\n",
    "\n",
    "- Each advertiser submits a maximum bid (how much they're willing to pay per click)\n",
    "- The highest bidder wins the top ad slot\n",
    "- **The winner pays the second-highest bid** (plus $0.01)\n",
    "\n",
    "**Why this design?**\n",
    "- Incentivizes truthful bidding (bidding your true value)\n",
    "- Simplifies strategy for advertisers\n",
    "- Reduces gaming and complexity\n",
    "\n",
    "*Note: Modern Google Ads uses a modified version called \"Generalized Second Price\" with quality scores, but the core principle remains.*"
   ]
  },
  {
   "cell_type": "markdown",
   "id": "d2e3f4a5-b6c7-8901-d2e3-f4a5b6c78901",
   "metadata": {},
   "source": [
    "### Scenario: Three Advertisers\n",
    "\n",
    "Three data analytics companies are bidding for the keyword \"business intelligence software\":\n",
    "\n",
    "- **Company A**: Estimates that each click is worth $15 to them (based on conversion rate × customer lifetime value)\n",
    "- **Company B**: Estimates each click is worth $12\n",
    "- **Company C**: Estimates each click is worth $8"
   ]
  },
  {
   "cell_type": "markdown",
   "id": "e2f3a4b5-c6d7-8901-e2f3-a4b5c6d78901",
   "metadata": {},
   "source": [
    "### Exercise 2.1: Second-Price Auction with Truthful Bidding\n",
    "\n",
    "Assume all companies bid their true valuation.\n",
    "\n",
    "**Questions:**\n",
    "1. Who wins the auction?\n",
    "2. How much does the winner pay per click?\n",
    "3. What is the winner's profit per click?\n",
    "4. What is the seller's (Google's) revenue per click?"
   ]
  },
  {
   "cell_type": "code",
   "execution_count": null,
   "id": "b2c3d4e5-f6a7-8901-b2c3-d4e5f6a78902",
   "metadata": {},
   "outputs": [],
   "source": [
    "# Calculate outcomes for truthful bidding\n",
    "valuations = Dict(\"A\" => 15, \"B\" => 12, \"C\" => 8)\n",
    "bids_truthful = Dict(\"A\" => 15, \"B\" => 12, \"C\" => 8)  # truthful bidding\n",
    "\n",
    "# TODO: compute winner, price paid, profit\n"
   ]
  },
  {
   "cell_type": "markdown",
   "id": "f2a3b4c5-d6e7-8901-f2a3-b4c5d6e78901",
   "metadata": {},
   "source": [
    "### Exercise 2.2: What if Company A Tries to \"Game\" the System?\n",
    "\n",
    "Suppose Company A knows (or guesses) that Company B will bid $12.\n",
    "\n",
    "Company A considers bidding lower to reduce what they pay.\n",
    "\n",
    "**Scenario 1**: Company A bids $13 instead of $15\n",
    "- Who wins?\n",
    "- How much do they pay?\n",
    "- What is Company A's profit per click?\n",
    "\n",
    "**Scenario 2**: Company A bids $11 instead of $15\n",
    "- Who wins?\n",
    "- How much do they pay?\n",
    "- What is Company A's profit per click?\n",
    "\n",
    "**Conclusion**: Can Company A improve their outcome by bidding untruthfully?"
   ]
  },
  {
   "cell_type": "code",
   "execution_count": null,
   "id": "c2d3e4f5-a6b7-8901-c2d3-e4f5a6b78903",
   "metadata": {},
   "outputs": [],
   "source": [
    "# Scenario 1: A bids 13\n",
    "bids_scenario1 = Dict(\"A\" => 13, \"B\" => 12, \"C\" => 8)\n",
    "\n",
    "# TODO: compute outcome\n",
    "\n",
    "# Scenario 2: A bids 11\n",
    "bids_scenario2 = Dict(\"A\" => 11, \"B\" => 12, \"C\" => 8)\n",
    "\n",
    "# TODO: compute outcome\n"
   ]
  },
  {
   "cell_type": "markdown",
   "id": "a3b4c5d6-e7f8-9012-a3b4-c5d6e7f89012",
   "metadata": {},
   "source": [
    "### Exercise 2.3: First-Price Auction Comparison\n",
    "\n",
    "Now suppose Google switched to a **first-price sealed-bid auction** (winner pays their own bid).\n",
    "\n",
    "**Questions:**\n",
    "1. If all companies bid their true valuations ($15, $12, $8$), what would be each company's profit?\n",
    "2. Why would Company A want to \"shade\" their bid downward?\n",
    "3. If you were Company A, what would you bid? (Hint: you want to bid just above $12 to win, but how do you know what B will bid?)\n",
    "4. Which auction format do you think is easier for advertisers to participate in? Why?"
   ]
  },
  {
   "cell_type": "markdown",
   "id": "b3c4d5e6-f7a8-9012-b3c4-d5e6f7a89012",
   "metadata": {},
   "source": [
    "### Exercise 2.4: Extension - Multiple Ad Slots\n",
    "\n",
    "In reality, Google shows multiple ads (positions 1, 2, 3). The top position gets more clicks.\n",
    "\n",
    "Suppose:\n",
    "- Position 1: 100 clicks per day\n",
    "- Position 2: 60 clicks per day  \n",
    "- Position 3: 30 clicks per day\n",
    "\n",
    "With valuations: A=$15, B=$12, C=$8\n",
    "\n",
    "In a Generalized Second-Price (GSP) auction:\n",
    "- Position 1 pays the bid of Position 2\n",
    "- Position 2 pays the bid of Position 3\n",
    "- Position 3 pays $0 (or a minimum bid)\n",
    "\n",
    "**Questions:**\n",
    "1. If everyone bids truthfully, what is the daily cost for each advertiser?\n",
    "2. What is the daily profit for each advertiser?\n",
    "3. What is Google's total daily revenue?"
   ]
  },
  {
   "cell_type": "code",
   "execution_count": null,
   "id": "d3e4f5a6-b7c8-9012-d3e4-f5a6b7c89012",
   "metadata": {},
   "outputs": [],
   "source": [
    "# Multi-slot auction analysis\n",
    "clicks_per_position = [100, 60, 30]\n",
    "valuations = Dict(\"A\" => 15, \"B\" => 12, \"C\" => 8)\n",
    "\n",
    "# TODO: compute costs, profits, and revenue\n"
   ]
  },
  {
   "cell_type": "markdown",
   "id": "c3d4e5f6-a7b8-9012-c3d4-e5f6a7b89012",
   "metadata": {},
   "source": [
    "## AWS Spot Instances: Cloud Computing Auctions"
   ]
  },
  {
   "cell_type": "markdown",
   "id": "d3e4f5a6-b7c8-9012-d3e4-f5a6b7c89013",
   "metadata": {},
   "source": [
    "### Background\n",
    "\n",
    "AWS sells unused computing capacity through **Spot Instances** at discounted prices (up to 90% off on-demand pricing).\n",
    "\n",
    "**How it works:**\n",
    "- You specify the maximum price you're willing to pay per hour\n",
    "- If the spot price ≤ your bid, you get the instance\n",
    "- You pay the current **spot price** (not your bid) - similar to second-price auction!\n",
    "- If spot price rises above your bid, your instance is terminated (with 2-minute warning)\n",
    "\n",
    "**Use cases:**\n",
    "- Training ML models (can tolerate interruptions)\n",
    "- Batch data processing\n",
    "- Rendering and simulations\n",
    "- Web crawling and data collection"
   ]
  },
  {
   "cell_type": "markdown",
   "id": "e3f4a5b6-c7d8-9012-e3f4-a5b6c7d89012",
   "metadata": {},
   "source": [
    "### Scenario: Training a Machine Learning Model\n",
    "\n",
    "You're a data scientist at a startup. You need to train a deep learning model and have three options:\n",
    "\n",
    "1. **On-Demand Instance**: $3.06/hour for a p3.2xlarge (1 GPU), guaranteed availability\n",
    "2. **Spot Instance**: Same machine, but price fluctuates between $0.50 and $2.50 per hour\n",
    "3. **No GPU**: Use your laptop, takes 10x longer, costs you time\n",
    "\n",
    "Your training job will take:\n",
    "- 10 hours on GPU\n",
    "- Can checkpoint and resume if interrupted\n",
    "- Each interruption costs ~20 minutes of wasted computation + time to restart\n",
    "\n",
    "**Your valuation**: You value completing the job at $40 total value\n",
    "- If it costs you less than $40, you profit\n",
    "- If it costs more than $40, you should use your laptop instead"
   ]
  },
  {
   "cell_type": "markdown",
   "id": "f3a4b5c6-d7e8-9012-f3a4-b5c6d7e89012",
   "metadata": {},
   "source": [
    "### Exercise 3.1: Bidding Strategy Basics\n",
    "\n",
    "**Questions:**\n",
    "1. What is your maximum value per hour? (Hint: $40 total value / 10 hours)\n",
    "2. If the current spot price is $1.20/hour, should you use spot instances?\n",
    "3. What should you bid in the spot instance auction? Your true value per hour, or something different?\n",
    "4. Why is bidding your true value optimal in this second-price auction format?"
   ]
  },
  {
   "cell_type": "code",
   "execution_count": 1,
   "id": "a3b4c5d6-e7f8-9012-a3b4-c5d6e7f89013",
   "metadata": {},
   "outputs": [
    {
     "name": "stdout",
     "output_type": "stream",
     "text": [
      "Maximum value per hour: $4.0\n",
      "On-demand price: $3.06/hour\n",
      "Total on-demand cost: $30.6\n"
     ]
    }
   ],
   "source": [
    "# Calculate maximum value per hour\n",
    "total_value = 40\n",
    "hours_needed = 10\n",
    "\n",
    "max_value_per_hour = total_value / hours_needed\n",
    "println(\"Maximum value per hour: \\$$(round(max_value_per_hour, digits=2))\")\n",
    "\n",
    "# Compare to on-demand pricing\n",
    "on_demand_price = 3.06\n",
    "println(\"On-demand price: \\$$(round(on_demand_price, digits=2))/hour\")\n",
    "println(\"Total on-demand cost: \\$$(round(on_demand_price * hours_needed, digits=2))\")\n"
   ]
  },
  {
   "cell_type": "markdown",
   "id": "b4c5d6e7-f8a9-0123-b4c5-d6e7f8a90123",
   "metadata": {},
   "source": [
    "### Exercise 3.2: Analyzing Spot Price History\n",
    "\n",
    "Suppose you have historical spot price data for the past 24 hours:\n",
    "\n",
    "| Hour | Spot Price |\n",
    "|------|------------|\n",
    "| 0    | $0.92      |\n",
    "| 1    | $0.88      |\n",
    "| 2    | $0.85      |\n",
    "| 3    | $0.90      |\n",
    "| 4    | $0.95      |\n",
    "| 5    | $1.10      |\n",
    "| 6    | $1.45      |\n",
    "| 7    | $1.80      |\n",
    "| 8    | $2.20      |\n",
    "| 9    | $2.10      |\n",
    "| 10   | $1.95      |\n",
    "| 11   | $1.75      |\n",
    "| 12   | $1.60      |\n",
    "| 13   | $1.55      |\n",
    "| 14   | $1.50      |\n",
    "| 15   | $1.45      |\n",
    "| 16   | $1.40      |\n",
    "| 17   | $1.50      |\n",
    "| 18   | $1.65      |\n",
    "| 19   | $1.55      |\n",
    "| 20   | $1.40      |\n",
    "| 21   | $1.20      |\n",
    "| 22   | $1.05      |\n",
    "| 23   | $0.95      |"
   ]
  },
  {
   "cell_type": "code",
   "execution_count": null,
   "id": "c4d5e6f7-a8b9-0123-c4d5-e6f7a8b90123",
   "metadata": {},
   "outputs": [],
   "source": [
    "using Plots\n",
    "\n",
    "# Spot price data\n",
    "hours = 0:23\n",
    "spot_prices = [0.92, 0.88, 0.85, 0.90, 0.95, 1.10, 1.45, 1.80,\n",
    "               2.20, 2.10, 1.95, 1.75, 1.60, 1.55, 1.50, 1.45,\n",
    "               1.40, 1.50, 1.65, 1.55, 1.40, 1.20, 1.05, 0.95]\n",
    "\n",
    "# TODO: Plot the spot price over time\n",
    "# Add a horizontal line at your maximum value per hour\n",
    "# Calculate: what percentage of time is spot price below your max?\n"
   ]
  },
  {
   "cell_type": "markdown",
   "id": "d4e5f6a7-b8c9-0123-d4e5-f6a7b8c90123",
   "metadata": {},
   "source": [
    "**Questions:**\n",
    "1. What percentage of the time is the spot price below your maximum value per hour ($4.00)?\n",
    "2. What is the average spot price when it's below $4.00?\n",
    "3. If you bid $4.00 and could run during any of these hours, what would be your expected cost?\n",
    "4. Based on the pattern, what time of day seems best for running spot instances?"
   ]
  },
  {
   "cell_type": "markdown",
   "id": "e4f5a6b7-c8d9-0123-e4f5-a6b7c8d90123",
   "metadata": {},
   "source": [
    "### Exercise 3.3: Risk vs Reward\n",
    "\n",
    "Now consider interruption risk. Historical data shows:\n",
    "- If you bid $2.00/hour: 30% chance of interruption during your 10-hour job\n",
    "- If you bid $3.00/hour: 5% chance of interruption\n",
    "- If you bid $4.00/hour: 1% chance of interruption\n",
    "\n",
    "Each interruption:\n",
    "- Wastes 20 minutes of computation (cost = current spot price × 0.33 hours)\n",
    "- Requires time to restart and resume (assume this is negligible due to checkpointing)\n",
    "\n",
    "**Calculate expected costs:**"
   ]
  },
  {
   "cell_type": "code",
   "execution_count": null,
   "id": "f4a5b6c7-d8e9-0123-f4a5-b6c7d8e90123",
   "metadata": {},
   "outputs": [],
   "source": [
    "# Expected cost calculation\n",
    "function expected_cost(bid_price, avg_spot_price, interruption_prob; hours=10)\n",
    "    \"\"\"\n",
    "    Calculate expected cost including interruption costs\n",
    "\n",
    "    Parameters:\n",
    "    -----------\n",
    "    bid_price : Float64\n",
    "        Your maximum bid\n",
    "    avg_spot_price : Float64\n",
    "        Expected spot price given your bid\n",
    "    interruption_prob : Float64\n",
    "        Probability of interruption during job\n",
    "    hours : Float64\n",
    "        Hours needed to complete job\n",
    "    \"\"\"\n",
    "    # TODO: Calculate base cost (hours × avg spot price)\n",
    "    # TODO: Calculate expected interruption cost\n",
    "    # TODO: Return total expected cost\n",
    "    return 0.0  # placeholder\n",
    "end\n",
    "\n",
    "# Scenario 1: Bid $2.00\n",
    "# Scenario 2: Bid $3.00\n",
    "# Scenario 3: Bid $4.00\n",
    "# Scenario 4: On-demand at $3.06\n",
    "\n",
    "# TODO: Compare expected costs\n"
   ]
  },
  {
   "cell_type": "markdown",
   "id": "a5b6c7d8-e9f0-1234-a5b6-c7d8e9f01234",
   "metadata": {},
   "source": [
    "### Exercise 3.4: Strategic Implications\n",
    "\n",
    "**Discussion Questions:**\n",
    "\n",
    "1. **Truth-telling**: Why is bidding your true value ($4.00/hour) the optimal strategy in AWS spot instances?\n",
    "\n",
    "2. **Price Discovery**: How does the spot price auction help AWS discover the true market value of computing resources?\n",
    "\n",
    "3. **Market Efficiency**: How does this auction mechanism help AWS:\n",
    "   - Maximize revenue from unused capacity?\n",
    "   - Allocate resources to users who value them most?\n",
    "   - Provide price signals about demand patterns?\n",
    "\n",
    "4. **Comparison to First-Price**: How would your bidding strategy change if AWS used a first-price auction (you pay your bid)?\n",
    "\n",
    "5. **Real-world Complexity**: In practice, AWS spot prices are determined by supply/demand, not just auctions. How does this affect:\n",
    "   - Predictability of costs?\n",
    "   - Strategic behavior by users?\n",
    "   - Fairness of resource allocation?"
   ]
  },
  {
   "cell_type": "markdown",
   "id": "b5c6d7e8-f9a0-1234-b5c6-d7e8f9a01234",
   "metadata": {},
   "source": [
    "## Synthesis: Comparing the Three Applications"
   ]
  },
  {
   "cell_type": "markdown",
   "id": "c5d6e7f8-a9b0-1234-c5d6-e7f8a9b01234",
   "metadata": {},
   "source": [
    "### Exercise 4.1: Common Themes\n",
    "\n",
    "Reflect on the three scenarios you've analyzed:\n",
    "\n",
    "1. **Cybersecurity Game**:\n",
    "   - Zero-sum game\n",
    "   - Mixed strategy equilibrium\n",
    "   - Randomization as a strategic tool\n",
    "\n",
    "2. **Digital Advertising**:\n",
    "   - Second-price auction\n",
    "   - Truth-telling as dominant strategy\n",
    "   - Multiple bidders with different valuations\n",
    "\n",
    "3. **AWS Spot Instances**:\n",
    "   - Dynamic pricing auction\n",
    "   - Risk/reward tradeoffs\n",
    "   - Resource allocation mechanism\n",
    "\n",
    "**Questions:**\n",
    "1. In which scenarios is \"truth-telling\" (revealing your true value) optimal? Why?\n",
    "2. In which scenarios is randomization important? Why?\n",
    "3. How do auction mechanisms help solve information asymmetry problems?\n",
    "4. What role does \"commitment\" play in each scenario?\n",
    "5. How might smart contracts or blockchain change any of these scenarios?"
   ]
  },
  {
   "cell_type": "markdown",
   "id": "d5e6f7a8-b9c0-1234-d5e6-f7a8b9c01234",
   "metadata": {},
   "source": [
    "### Exercise 4.2: Design Your Own Auction\n",
    "\n",
    "Choose one of the following scenarios and design an auction mechanism:\n",
    "\n",
    "**Option 1: Data Marketplace**\n",
    "- Multiple data providers want to sell datasets\n",
    "- Multiple companies want to buy data for ML training\n",
    "- Data has different quality levels\n",
    "- Design: What auction type? How do you handle quality? How do you price?\n",
    "\n",
    "**Option 2: Freelance Data Science Platform**\n",
    "- Companies post projects with unknown complexity\n",
    "- Freelancers bid on projects with their rates\n",
    "- Quality of work varies by freelancer\n",
    "- Design: Sealed bid? Reverse auction? How to handle quality signals?\n",
    "\n",
    "**Option 3: ML Model Marketplace**\n",
    "- Data scientists train models and want to sell predictions\n",
    "- Companies want to buy access to best models\n",
    "- Model quality is uncertain until deployed\n",
    "- Design: How to auction model access? How to price queries?\n",
    "\n",
    "For your chosen scenario:\n",
    "1. Define the players and their valuations\n",
    "2. Choose an auction type (first-price, second-price, etc.)\n",
    "3. Explain why this auction type is appropriate\n",
    "4. Describe the equilibrium bidding strategy\n",
    "5. Discuss potential issues or limitations"
   ]
  },
  {
   "cell_type": "markdown",
   "id": "e5f6a7b8-c9d0-1234-e5f6-a7b8c9d01234",
   "metadata": {},
   "source": [
    "## Conclusion\n",
    "\n",
    "In this lab, you've applied game theory concepts to real-world data science scenarios:\n",
    "\n",
    "- **Mixed strategies** help solve security problems where randomization is crucial\n",
    "- **Second-price auctions** simplify strategic decisions in advertising and cloud computing\n",
    "- **Equilibrium analysis** helps predict behavior in competitive environments\n",
    "- **Auction design** affects market efficiency and resource allocation\n",
    "\n",
    "These concepts are fundamental to understanding:\n",
    "- How tech platforms operate (Google, AWS, Meta)\n",
    "- How to design data marketplaces and APIs\n",
    "- How to think strategically about security and competition\n",
    "- How incentives shape behavior in complex systems\n",
    "\n",
    "As you continue in data science, you'll encounter these game-theoretic situations frequently in:\n",
    "- Pricing and monetization strategies\n",
    "- Platform design and marketplace mechanisms  \n",
    "- Security and adversarial ML\n",
    "- Resource allocation in cloud/distributed systems\n",
    "- Algorithmic decision-making with strategic agents"
   ]
  }
 ],
 "metadata": {
  "kernelspec": {
   "display_name": "Julia 1.11.6",
   "language": "julia",
   "name": "julia-1.11"
  },
  "language_info": {
   "file_extension": ".jl",
   "mimetype": "application/julia",
   "name": "julia",
   "version": "1.11.6"
  }
 },
 "nbformat": 4,
 "nbformat_minor": 5
}

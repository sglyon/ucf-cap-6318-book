{
 "cells": [
  {
   "cell_type": "markdown",
   "id": "e0a4d987",
   "metadata": {
    "editable": true,
    "slideshow": {
     "slide_type": "slide"
    },
    "tags": []
   },
   "source": [
    "# Markov Perfect Equilibrium\n",
    "\n",
    "> NOTE: This lecture comes from QuantEcon. It was downloaded from [here](https://julia.quantecon.org/multi_agent_models/markov_perf.html) on October 9, 2023\n",
    "\n",
    "<a id='index-0'></a>"
   ]
  },
  {
   "cell_type": "markdown",
   "id": "2ebbfd5f",
   "metadata": {
    "editable": true,
    "slideshow": {
     "slide_type": "slide"
    },
    "tags": []
   },
   "source": [
    "## Contents\n",
    "\n",
    "- [Markov Perfect Equilibrium](#Markov-Perfect-Equilibrium)  \n",
    "  - [Overview](#Overview)  \n",
    "  - [Background](#Background)  \n",
    "  - [Linear Markov perfect equilibria](#Linear-Markov-perfect-equilibria)  \n",
    "  - [Application](#Application)  \n",
    "  - [Exercises](#Exercises)  "
   ]
  },
  {
   "cell_type": "markdown",
   "id": "fc80c034",
   "metadata": {
    "editable": true,
    "slideshow": {
     "slide_type": "slide"
    },
    "tags": []
   },
   "source": [
    "## Overview\n",
    "\n",
    "\n",
    "<a id='index-1'></a>\n",
    "This lecture describes the concept of Markov perfect equilibrium.\n",
    "\n",
    "Markov perfect equilibrium is a key notion for analyzing economic problems involving dynamic strategic interaction, and a cornerstone of applied game theory.\n",
    "\n",
    "In this lecture we teach Markov perfect equilibrium by example.\n",
    "\n",
    "We will focus on settings with\n",
    "\n",
    "- two players  \n",
    "- quadratic payoff functions  \n",
    "- linear transition rules for the state  \n",
    "\n",
    "\n",
    "Other references include chapter 7 of _L Ljungqvist and T J Sargent. Recursive Macroeconomic Theory. MIT Press, 4 edition, 2018._"
   ]
  },
  {
   "cell_type": "code",
   "execution_count": 1,
   "id": "354d8074",
   "metadata": {
    "editable": true,
    "hide-output": false,
    "slideshow": {
     "slide_type": ""
    },
    "tags": []
   },
   "outputs": [],
   "source": [
    "using LinearAlgebra, Statistics, QuantEcon"
   ]
  },
  {
   "cell_type": "markdown",
   "id": "a62899e9",
   "metadata": {
    "editable": true,
    "slideshow": {
     "slide_type": "slide"
    },
    "tags": []
   },
   "source": [
    "## Background\n",
    "\n",
    "\n",
    "<a id='index-2'></a>\n",
    "Markov perfect equilibrium is a refinement of the concept of Nash equilibrium.\n",
    "\n",
    "It is used to study settings where multiple decision makers interact non-cooperatively over time, each seeking to pursue its own objective.\n",
    "\n",
    "The agents in the model face a common state vector, the time path of which is influenced by – and influences – their decisions.\n",
    "\n",
    "In particular, the transition law for the state that confronts each agent is affected by decision rules of other agents.\n",
    "\n",
    "Individual payoff maximization requires that each agent solve a dynamic programming problem that includes  this transition law.\n",
    "\n",
    "Markov perfect equilibrium prevails when no agent wishes to revise its policy, taking as given the policies of all other agents.\n",
    "\n",
    "Well known examples include\n",
    "\n",
    "- Choice of price, output, location or capacity for firms in an industry (e.g., [[EP95](https://julia.quantecon.org/../zreferences.html#id150)], [[Rya12](https://julia.quantecon.org/../zreferences.html#id151)], [[DS10](https://julia.quantecon.org/../zreferences.html#id152)]).  \n",
    "- Rate of extraction from a shared natural resource, such as a fishery (e.g., [[LM80](https://julia.quantecon.org/../zreferences.html#id153)], [[VL11](https://julia.quantecon.org/../zreferences.html#id155)]).  \n",
    "\n",
    "\n",
    "Let’s examine a model of the first type."
   ]
  },
  {
   "cell_type": "markdown",
   "id": "ed02be47-954f-4360-ba8e-34fc9eba6665",
   "metadata": {
    "editable": true,
    "slideshow": {
     "slide_type": "slide"
    },
    "tags": []
   },
   "source": [
    "### Example: A duopoly model\n",
    "\n",
    "Two firms are the only producers of a good the demand for which is governed by a linear inverse demand function\n",
    "\n",
    "\n",
    "<a id='equation-game2'></a>\n",
    "$$\n",
    "p = a_0 - a_1 (q_1 +  q_2) \\tag{49.1}\n",
    "$$\n",
    "\n",
    "Here $ p = p_t $ is the price of the good, $ q_i = q_{it} $ is the output of firm $ i=1,2 $ at time $ t $ and $ a_0 > 0, a_1 >0 $.\n",
    "\n",
    "In [(49.1)](#equation-game2) and what follows,\n",
    "\n",
    "- the time subscript is suppressed when possible to simplify notation  \n",
    "- $ \\hat x $ denotes a next period value of variable $ x $  \n",
    "\n",
    "\n",
    "Each firm recognizes that its output affects total output and therefore the market price."
   ]
  },
  {
   "cell_type": "markdown",
   "id": "375c0cd4-efee-4161-8150-634f0ac9e21f",
   "metadata": {
    "editable": true,
    "slideshow": {
     "slide_type": "subslide"
    },
    "tags": []
   },
   "source": [
    "The one-period payoff function of firm $ i $ is price times quantity minus adjustment costs:\n",
    "\n",
    "\n",
    "$$\n",
    "\\pi_i = p q_i - \\gamma (\\hat q_i - q_i)^2, \\quad \\gamma > 0 , \\tag{49.2}\n",
    "$$ (equation-game2)\n",
    "\n",
    "Substituting the inverse demand curve [(49.1)](#equation-game2) into [(49.2)](#equation-game1) lets us express the one-period payoff as\n",
    "\n",
    "\n",
    "<a id='equation-game3'></a>\n",
    "$$\n",
    "\\pi_i(q_i, q_{-i}, \\hat q_i) = a_0 q_i - a_1 q_i^2 - a_1 q_i q_{-i} - \\gamma (\\hat q_i - q_i)^2 , \\tag{49.3}\n",
    "$$\n",
    "\n",
    "where $ q_{-i} $ denotes the output of the firm other than $ i $.\n",
    "\n",
    "The objective of the firm is to maximize $ \\sum_{t=0}^\\infty \\beta^t \\pi_{it} $."
   ]
  },
  {
   "cell_type": "markdown",
   "id": "36609d7c-48f6-4648-81b1-40d35f385823",
   "metadata": {
    "editable": true,
    "slideshow": {
     "slide_type": "subslide"
    },
    "tags": []
   },
   "source": [
    "Firm $ i $ chooses a decision rule that sets next period quantity $ \\hat q_i $ as a function $ f_i $ of the current state $ (q_i, q_{-i}) $.\n",
    "\n",
    "An essential aspect of a Markov perfect equilibrium is that each firm takes the decision rule of the other firm as known and given.\n",
    "\n",
    "Given $ f_{-i} $, the Bellman equation of firm $ i $ is\n",
    "\n",
    "\n",
    "<a id='equation-game4'></a>\n",
    "$$\n",
    "v_i(q_i, q_{-i}) = \\max_{\\hat q_i}\n",
    "   \\left\\{\\pi_i (q_i, q_{-i}, \\hat q_i) + \\beta v_i(\\hat q_i, f_{-i}(q_{-i}, q_i)) \\right\\} \\tag{49.4}\n",
    "$$"
   ]
  },
  {
   "cell_type": "markdown",
   "id": "32744720-8209-4501-b6b9-31839727e849",
   "metadata": {
    "editable": true,
    "slideshow": {
     "slide_type": "subslide"
    },
    "tags": []
   },
   "source": [
    "**Definition**  A *Markov perfect equilibrium* of the duopoly model is a pair of value functions $ (v_1, v_2) $ and a pair of policy functions $ (f_1, f_2) $ such that, for each $ i \\in \\{1, 2\\} $ and each possible state,\n",
    "\n",
    "- The value function $ v_i $ satisfies the Bellman equation [(49.4)](#equation-game4).  \n",
    "- The maximizer on the right side of [(49.4)](#equation-game4) is equal to $ f_i(q_i, q_{-i}) $.  \n",
    "\n",
    "\n",
    "The adjective “Markov” denotes that the equilibrium decision rules depend only on the current values of the state variables, not other parts of their histories.\n",
    "\n",
    "“Perfect” means complete, in the sense that the equilibrium is constructed by backward induction and hence builds in optimizing behavior for each firm at all possible future states.\n",
    "\n",
    "- These include many states that will not be reached when we iterate forward on the pair of equilibrium strategies $ f_i $ starting from a given initial state.  "
   ]
  },
  {
   "cell_type": "markdown",
   "id": "122cbeac",
   "metadata": {
    "editable": true,
    "jp-MarkdownHeadingCollapsed": true,
    "slideshow": {
     "slide_type": "subslide"
    },
    "tags": []
   },
   "source": [
    "### Computation\n",
    "\n",
    "One strategy for computing a Markov perfect equilibrium is iterating to convergence on pairs of Bellman equations and decision rules.\n",
    "\n",
    "In particular, let $ v_i^j,f_i^j $ be the value function and policy function for firm $ i $ at the $ j $-th iteration.\n",
    "\n",
    "Imagine constructing the iterates\n",
    "\n",
    "\n",
    "<a id='equation-game6'></a>\n",
    "$$\n",
    "v_i^{j+1}(q_i, q_{-i}) = \\max_{\\hat q_i}\n",
    "   \\left\\{\\pi_i (q_i, q_{-i}, \\hat q_i) + \\beta v^j_i(\\hat q_i, f_{-i}(q_{-i}, q_i)) \\right\\} \\tag{49.5}\n",
    "$$\n",
    "\n",
    "These iterations can be challenging to implement computationally.\n",
    "\n",
    "However, they simplify for the case in which the one-period payoff functions are quadratic and the transition laws are linear — which takes us to our next topic."
   ]
  },
  {
   "cell_type": "markdown",
   "id": "1c62ceae",
   "metadata": {
    "editable": true,
    "slideshow": {
     "slide_type": "slide"
    },
    "tags": []
   },
   "source": [
    "## Linear Markov perfect equilibria\n",
    "\n",
    "\n",
    "<a id='index-3'></a>\n",
    "As we saw in the duopoly example, the study of Markov perfect equilibria in games with two players leads us to an interrelated pair of Bellman equations.\n",
    "\n",
    "In linear quadratic dynamic games, these “stacked Bellman equations” become “stacked Riccati equations” with a tractable mathematical structure.\n",
    "\n",
    "We’ll lay out that structure in a general setup and then apply it to some simple problems."
   ]
  },
  {
   "cell_type": "markdown",
   "id": "45c194e9",
   "metadata": {
    "editable": true,
    "slideshow": {
     "slide_type": "subslide"
    },
    "tags": []
   },
   "source": [
    "### Coupled linear regulator problems\n",
    "\n",
    "We consider a general linear quadratic regulator game with two players.\n",
    "\n",
    "For convenience, we’ll start with a finite horizon formulation, where $ t_0 $ is the initial date and $ t_1 $ is the common terminal date.\n",
    "\n",
    "Player $ i $ takes $ \\{u_{-it}\\} $ as given and minimizes\n",
    "\n",
    "\n",
    "<a id='equation-orig-1'></a>\n",
    "$$\n",
    "\\sum_{t=t_0}^{t_1 - 1}\n",
    "\\beta^{t - t_0}\n",
    "\\left\\{\n",
    "    x_t' R_i x_t +\n",
    "    u_{it}' Q_i u_{it} +\n",
    "    u_{-it}' S_i u_{-it} +\n",
    "    2 x_t' W_i u_{it} +\n",
    "    2 u_{-it}' M_i u_{it}\n",
    "\\right\\} \\tag{49.6}\n",
    "$$\n",
    "\n",
    "while the state evolves according to\n",
    "\n",
    "\n",
    "<a id='equation-orig-0'></a>\n",
    "$$\n",
    "x_{t+1} = A x_t + B_1 u_{1t} + B_2 u_{2t} \\tag{49.7}\n",
    "$$\n",
    "\n",
    "Here\n",
    "\n",
    "- $ x_t $ is an $ n \\times 1 $ state vector and  $ u_{it} $ is a $ k_i \\times 1 $ vector of controls for player $ i $  \n",
    "- $ R_i $ is $ n \\times n $  \n",
    "- $ S_i $ is $ k_{-i} \\times k_{-i} $  \n",
    "- $ Q_i $ is $ k_i \\times k_i $  \n",
    "- $ W_i $ is $ n \\times k_i $  \n",
    "- $ M_i $ is $ k_{-i} \\times k_i $  \n",
    "- $ A $ is $ n \\times n $  \n",
    "- $ B_i $ is $ n \\times k_i $  "
   ]
  },
  {
   "cell_type": "markdown",
   "id": "7d1150b2-c8b0-4c45-89ba-da6bd83cc808",
   "metadata": {
    "editable": true,
    "slideshow": {
     "slide_type": "slide"
    },
    "tags": []
   },
   "source": [
    "### Computing Equilibrium\n",
    "\n",
    "We formulate a linear Markov perfect equilibrium as follows.\n",
    "\n",
    "Player $ i $ employs linear decision rules $ u_{it} = - F_{it} x_t $, where $ F_{it} $ is a $ k_i \\times n $ matrix.\n",
    "\n",
    "A Markov perfect equilibrium is a pair of sequences $ \\{F_{1t}, F_{2t}\\} $ over $ t = t_0, \\ldots, t_1 - 1 $ such that\n",
    "\n",
    "- $ \\{F_{1t}\\} $ solves player 1’s problem, taking $ \\{F_{2t}\\} $ as given, and  \n",
    "- $ \\{F_{2t}\\} $ solves player 2’s problem, taking $ \\{F_{1t}\\} $ as given  \n",
    "\n",
    "\n",
    "If we take $ u_{2t} = - F_{2t} x_t $ and substitute it into [(49.6)](#equation-orig-1) and [(49.7)](#equation-orig-0), then player 1’s problem becomes minimization of\n",
    "\n",
    "\n",
    "<a id='equation-eq-mpe-p1p'></a>\n",
    "$$\n",
    "\\sum_{t=t_0}^{t_1 - 1}\n",
    "\\beta^{t - t_0}\n",
    "    \\left\\{\n",
    "    x_t' \\Pi_{1t} x_t +\n",
    "    u_{1t}' Q_1 u_{1t} +\n",
    "    2 u_{1t}' \\Gamma_{1t} x_t\n",
    "    \\right\\} \\tag{49.8}\n",
    "$$\n",
    "\n",
    "subject to\n",
    "\n",
    "\n",
    "<a id='equation-eq-mpe-p1d'></a>\n",
    "$$\n",
    "x_{t+1} = \\Lambda_{1t} x_t + B_1 u_{1t}, \\tag{49.9}\n",
    "$$\n",
    "\n",
    "where\n",
    "\n",
    "- $ \\Lambda_{it} := A - B_{-i} F_{-it} $  \n",
    "- $ \\Pi_{it} := R_i + F_{-it}' S_i F_{-it} $  \n",
    "- $ \\Gamma_{it} := W_i' - M_i' F_{-it} $  "
   ]
  },
  {
   "cell_type": "markdown",
   "id": "81e2d906-3509-40ec-b4d2-4e37a547cf3c",
   "metadata": {
    "editable": true,
    "slideshow": {
     "slide_type": "subslide"
    },
    "tags": []
   },
   "source": [
    "This is an LQ dynamic programming problem that can be solved by working backwards.\n",
    "\n",
    "The policy rule that solves this problem is\n",
    "\n",
    "\n",
    "<a id='equation-orig-3'></a>\n",
    "$$\n",
    "F_{1t}\n",
    "= (Q_1 + \\beta B_1' P_{1t+1} B_1)^{-1}\n",
    "(\\beta B_1' P_{1t+1} \\Lambda_{1t} + \\Gamma_{1t}) \\tag{49.10}\n",
    "$$\n",
    "\n",
    "where $ P_{1t} $ solves the matrix Riccati difference equation\n",
    "\n",
    "\n",
    "<a id='equation-orig-4'></a>\n",
    "$$\n",
    "P_{1t} =\n",
    "\\Pi_{1t} -\n",
    "(\\beta B_1' P_{1t+1} \\Lambda_{1t} + \\Gamma_{1t})' (Q_1 + \\beta B_1' P_{1t+1} B_1)^{-1}\n",
    "(\\beta B_1' P_{1t+1} \\Lambda_{1t} + \\Gamma_{1t}) +\n",
    "\\beta \\Lambda_{1t}' P_{1t+1} \\Lambda_{1t} \\tag{49.11}\n",
    "$$"
   ]
  },
  {
   "cell_type": "markdown",
   "id": "830e87bb-d02c-4ded-8a88-e3fb2b49e810",
   "metadata": {
    "editable": true,
    "slideshow": {
     "slide_type": "subslide"
    },
    "tags": []
   },
   "source": [
    "Similarly, the policy that solves player 2’s problem is\n",
    "\n",
    "\n",
    "<a id='equation-orig-5'></a>\n",
    "$$\n",
    "F_{2t} =\n",
    "(Q_2 + \\beta B_2' P_{2t+1} B_2)^{-1}\n",
    "(\\beta B_2' P_{2t+1} \\Lambda_{2t} + \\Gamma_{2t}) \\tag{49.12}\n",
    "$$\n",
    "\n",
    "where $ P_{2t} $ solves\n",
    "\n",
    "\n",
    "<a id='equation-orig-6'></a>\n",
    "$$\n",
    "P_{2t} =\n",
    "\\Pi_{2t} - (\\beta B_2' P_{2t+1} \\Lambda_{2t} + \\Gamma_{2t})' (Q_2 + \\beta B_2' P_{2t+1} B_2)^{-1}\n",
    "(\\beta B_2' P_{2t+1} \\Lambda_{2t} + \\Gamma_{2t}) +\n",
    "\\beta \\Lambda_{2t}' P_{2t+1} \\Lambda_{2t} \\tag{49.13}\n",
    "$$"
   ]
  },
  {
   "cell_type": "markdown",
   "id": "6d1e8a8e-0db6-4fcb-ac17-de8082164144",
   "metadata": {
    "editable": true,
    "slideshow": {
     "slide_type": "subslide"
    },
    "tags": []
   },
   "source": [
    "Here in all cases $ t = t_0, \\ldots, t_1 - 1 $ and the terminal conditions are $ P_{it_1} = 0 $.\n",
    "\n",
    "The solution procedure is to use equations [(49.10)](#equation-orig-3), [(49.11)](#equation-orig-4), [(49.12)](#equation-orig-5), and [(49.13)](#equation-orig-6), and “work backwards” from time $ t_1 - 1 $.\n",
    "\n",
    "Since we’re working backwards, $ P_{1t+1} $ and $ P_{2t+1} $ are taken as given at each stage.\n",
    "\n",
    "Moreover, since\n",
    "\n",
    "- some terms on the right hand side of [(49.10)](#equation-orig-3) contain $ F_{2t} $  \n",
    "- some terms on the right hand side of [(49.12)](#equation-orig-5) contain $ F_{1t} $  \n",
    "\n",
    "\n",
    "we need to solve these $ k_1 + k_2 $ equations simultaneously."
   ]
  },
  {
   "cell_type": "markdown",
   "id": "a1fd0698",
   "metadata": {
    "editable": true,
    "slideshow": {
     "slide_type": "subslide"
    },
    "tags": []
   },
   "source": [
    "#### Key insight\n",
    "\n",
    "A key insight is that  equations  [(49.10)](#equation-orig-3) and [(49.12)](#equation-orig-5) are linear in $ F_{1t} $ and $ F_{2t} $.\n",
    "\n",
    "After these equations have been solved, we can take  $ F_{it} $ and solve for $ P_{it} $ in [(49.11)](#equation-orig-4) and [(49.13)](#equation-orig-6)."
   ]
  },
  {
   "cell_type": "markdown",
   "id": "86023d16",
   "metadata": {
    "editable": true,
    "slideshow": {
     "slide_type": "subslide"
    },
    "tags": []
   },
   "source": [
    "#### Infinite horizon\n",
    "\n",
    "We often want to compute the solutions of such games for infinite horizons, in the hope that the decision rules $ F_{it} $ settle down to be time invariant as $ t_1 \\rightarrow +\\infty $.\n",
    "\n",
    "In practice, we usually fix $ t_1 $ and compute the equilibrium of an infinite horizon game by driving $ t_0 \\rightarrow - \\infty $.\n",
    "\n",
    "This is the approach we adopt in the next section."
   ]
  },
  {
   "cell_type": "markdown",
   "id": "9c751cf8",
   "metadata": {
    "editable": true,
    "slideshow": {
     "slide_type": "subslide"
    },
    "tags": []
   },
   "source": [
    "### Implementation\n",
    "\n",
    "We use the function [nnash](https://github.com/QuantEcon/QuantEcon.jl/blob/master/src/lqnash.jl) from [QuantEcon.jl](http://quantecon.org/quantecon-jl) that computes a Markov perfect equilibrium of the infinite horizon linear quadratic dynamic game in the manner described above."
   ]
  },
  {
   "cell_type": "markdown",
   "id": "5b60014d",
   "metadata": {
    "editable": true,
    "slideshow": {
     "slide_type": "slide"
    },
    "tags": []
   },
   "source": [
    "## Application\n",
    "\n",
    "\n",
    "<a id='index-4'></a>\n",
    "Let’s use these procedures to treat some applications, starting with the duopoly model."
   ]
  },
  {
   "cell_type": "markdown",
   "id": "d6ca68c1-a403-4d29-b7f9-54a6aee1ee5b",
   "metadata": {
    "editable": true,
    "slideshow": {
     "slide_type": "subslide"
    },
    "tags": []
   },
   "source": [
    "### A duopoly model\n",
    "\n",
    "To map the duopoly model into  coupled linear-quadratic dynamic programming problems, define the state\n",
    "and controls as\n",
    "\n",
    "$$\n",
    "x_t :=\n",
    "\\begin{bmatrix}\n",
    "    1 \\\\\n",
    "    q_{1t} \\\\\n",
    "    q_{2t}\n",
    "\\end{bmatrix}\n",
    "\\quad \\text{and} \\quad\n",
    "u_{it} :=\n",
    "q_{i,t+1} - q_{it}, \\quad i=1,2\n",
    "$$\n",
    "\n",
    "If we write\n",
    "\n",
    "$$\n",
    "x_t' R_i x_t + u_{it}' Q_i u_{it}\n",
    "$$\n",
    "\n",
    "where $ Q_1 = Q_2 = \\gamma $,\n",
    "\n",
    "$$\n",
    "R_1 :=\n",
    "\\begin{bmatrix}\n",
    "   0              & -\\frac{a_0}{2}  & 0 \\\\\n",
    "   -\\frac{a_0}{2} &  a_1            &  \\frac{a_1}{2} \\\\\n",
    "   0              &   \\frac{a_1}{2} & 0\n",
    "\\end{bmatrix}\n",
    "\\quad \\text{and} \\quad\n",
    "R_2 :=\n",
    "\\begin{bmatrix}\n",
    "   0              & 0             & -\\frac{a_0}{2} \\\\\n",
    "   0              & 0             & \\frac{a_1}{2} \\\\\n",
    "   -\\frac{a_0}{2} & \\frac{a_1}{2} & a_1\n",
    "\\end{bmatrix}\n",
    "$$\n",
    "\n",
    "then we recover the  one-period  payoffs in expression [(49.3)](#equation-game3)."
   ]
  },
  {
   "cell_type": "markdown",
   "id": "1ed8521e-ab82-4ce8-b2a3-39b16c103357",
   "metadata": {
    "editable": true,
    "slideshow": {
     "slide_type": "subslide"
    },
    "tags": []
   },
   "source": [
    "The law of motion for the state $ x_t $ is $ x_{t+1} = A x_t + B_1 u_{1t} + B_2 u_{2t} $ where\n",
    "\n",
    "$$\n",
    "A :=\n",
    "\\begin{bmatrix}\n",
    "   1 & 0 & 0 \\\\\n",
    "   0 & 1 & 0 \\\\\n",
    "   0 & 0 & 1\n",
    "\\end{bmatrix},\n",
    "\\quad\n",
    "B_1 :=\n",
    "\\begin{bmatrix}\n",
    "       0 \\\\\n",
    "       1 \\\\\n",
    "       0\n",
    "\\end{bmatrix},\n",
    "\\quad\n",
    "B_2 :=\n",
    "\\begin{bmatrix}\n",
    "            0 \\\\\n",
    "            0 \\\\\n",
    "            1\n",
    "\\end{bmatrix}\n",
    "$$\n",
    "\n",
    "The optimal decision rule of firm $ i $ will take the form $ u_{it} = - F_i x_t $, inducing the following closed loop system for the evolution of $ x $ in the Markov perfect equilibrium:\n",
    "\n",
    "\n",
    "<a id='equation-eq-mpe-cle'></a>\n",
    "$$\n",
    "x_{t+1} = (A - B_1 F_1 -B_1 F_2 ) x_t \\tag{49.14}\n",
    "$$"
   ]
  },
  {
   "cell_type": "markdown",
   "id": "e3f43a48",
   "metadata": {
    "editable": true,
    "slideshow": {
     "slide_type": "subslide"
    },
    "tags": []
   },
   "source": [
    "### Parameters and Solution\n",
    "\n",
    "Consider the previously presented duopoly model with parameter values of:\n",
    "\n",
    "- $ a_0 = 10 $  \n",
    "- $ a_1 = 2 $  \n",
    "- $ \\beta = 0.96 $  \n",
    "- $ \\gamma = 12 $  \n",
    "\n",
    "\n",
    "From these we compute the infinite horizon MPE using the following code"
   ]
  },
  {
   "cell_type": "code",
   "execution_count": 2,
   "id": "b42263d9",
   "metadata": {
    "editable": true,
    "hide-output": false,
    "slideshow": {
     "slide_type": "subslide"
    },
    "tags": []
   },
   "outputs": [
    {
     "name": "stdout",
     "output_type": "stream",
     "text": [
      "Computed policies for firm 1 and firm 2:\n",
      "F1 = [-0.6684661455442794 0.295124817744414 0.0758466630580742]\n",
      "F2 = [-0.6684661455442794 0.07584666305807419 0.295124817744414]\n"
     ]
    }
   ],
   "source": [
    "using QuantEcon, LinearAlgebra\n",
    "\n",
    "# parameters\n",
    "a0 = 10.0\n",
    "a1 = 2.0\n",
    "β = 0.96\n",
    "γ = 12.0\n",
    "\n",
    "# in LQ form\n",
    "A  = I + zeros(3, 3)\n",
    "B1 = [0.0, 1.0, 0.0]\n",
    "B2 = [0.0, 0.0, 1.0]\n",
    "\n",
    "R1 = [      0.0   -a0 / 2.0          0.0;\n",
    "    -a0 / 2.0          a1     a1 / 2.0;\n",
    "            0.0    a1 / 2.0          0.0]\n",
    "\n",
    "R2 = [      0.0          0.0      -a0 / 2.0;\n",
    "            0.0          0.0       a1 / 2.0;\n",
    "    -a0 / 2.0     a1 / 2.0             a1]\n",
    "\n",
    "Q1 = Q2 = γ\n",
    "S1 = S2 = W1 = W2 = M1 = M2 = 0.0\n",
    "\n",
    "# solve using QE's nnash function\n",
    "F1, F2, P1, P2 = nnash(A, B1, B2, R1, R2, Q1, Q2, S1, S2, W1, W2, M1, M2,\n",
    "                       beta=β)\n",
    "\n",
    "# display policies\n",
    "println(\"Computed policies for firm 1 and firm 2:\")\n",
    "println(\"F1 = $F1\")\n",
    "println(\"F2 = $F2\")"
   ]
  },
  {
   "cell_type": "markdown",
   "id": "cd88bd73",
   "metadata": {
    "editable": true,
    "slideshow": {
     "slide_type": "subslide"
    },
    "tags": []
   },
   "source": [
    "Running the code produces the following output.\n",
    "\n",
    "One way to see that $ F_i $ is indeed optimal for firm $ i $ taking $ F_2 $ as given is to use [QuantEcon.jl](http://quantecon.org/quantecon-jl)’s LQ type.\n",
    "\n",
    "In particular, let’s take F2 as computed above, plug it into [(49.8)](#equation-eq-mpe-p1p) and [(49.9)](#equation-eq-mpe-p1d) to get firm 1’s problem and solve it using LQ.\n",
    "\n",
    "We hope that the resulting policy will agree with F1 as computed above"
   ]
  },
  {
   "cell_type": "code",
   "execution_count": 3,
   "id": "ce8f05eb",
   "metadata": {
    "editable": true,
    "hide-output": false,
    "slideshow": {
     "slide_type": ""
    },
    "tags": []
   },
   "outputs": [
    {
     "data": {
      "text/plain": [
       "1×3 Matrix{Float64}:\n",
       " -0.668466  0.295125  0.0758467"
      ]
     },
     "execution_count": 3,
     "metadata": {},
     "output_type": "execute_result"
    }
   ],
   "source": [
    "Λ1 = A - (B2 * F2)\n",
    "lq1 = QuantEcon.LQ(Q1, R1, Λ1, B1, bet=β)\n",
    "P1_ih, F1_ih, d = stationary_values(lq1)\n",
    "F1_ih"
   ]
  },
  {
   "cell_type": "markdown",
   "id": "2aac4c96",
   "metadata": {
    "editable": true,
    "slideshow": {
     "slide_type": ""
    },
    "tags": []
   },
   "source": [
    "This is close enough for rock and roll, as they say in the trade.\n",
    "\n",
    "Indeed, isapprox agrees with our assessment"
   ]
  },
  {
   "cell_type": "code",
   "execution_count": 4,
   "id": "c5a3ce2e",
   "metadata": {
    "editable": true,
    "hide-output": false,
    "slideshow": {
     "slide_type": ""
    },
    "tags": []
   },
   "outputs": [
    {
     "data": {
      "text/plain": [
       "true"
      ]
     },
     "execution_count": 4,
     "metadata": {},
     "output_type": "execute_result"
    }
   ],
   "source": [
    "isapprox(F1, F1_ih, atol=1e-7)"
   ]
  },
  {
   "cell_type": "markdown",
   "id": "a6c22ed9",
   "metadata": {
    "editable": true,
    "slideshow": {
     "slide_type": "slide"
    },
    "tags": []
   },
   "source": [
    "### Dynamics\n",
    "\n",
    "Let’s now investigate the dynamics of price and output in this simple duopoly model under the MPE policies.\n",
    "\n",
    "Given our optimal policies $ F1 $ and $ F2 $, the state evolves according to [(49.14)](#equation-eq-mpe-cle).\n",
    "\n",
    "The following program\n",
    "\n",
    "- imports $ F1 $ and $ F2 $ from the previous program along with all parameters  \n",
    "- computes the evolution of $ x_t $ using [(49.14)](#equation-eq-mpe-cle)  \n",
    "- extracts and plots industry output $ q_t = q_{1t} + q_{2t} $ and price $ p_t = a_0 - a_1 q_t $  "
   ]
  },
  {
   "cell_type": "code",
   "execution_count": 5,
   "id": "9ca5efe3",
   "metadata": {
    "editable": true,
    "hide-output": false,
    "slideshow": {
     "slide_type": "subslide"
    },
    "tags": []
   },
   "outputs": [
    {
     "data": {
      "image/png": "[encoded data removed]",
      "image/svg+xml": [
       "<?xml version=\"1.0\" encoding=\"utf-8\"?>\n",
       "<svg xmlns=\"http://www.w3.org/2000/svg\" xmlns:xlink=\"http://www.w3.org/1999/xlink\" width=\"800\" height=\"600\" viewBox=\"0 0 3200 2400\">\n",
       "<defs>\n",
       "  <clipPath id=\"clip800\">\n",
       "    <rect x=\"0\" y=\"0\" width=\"3200\" height=\"2400\"/>\n",
       "  </clipPath>\n",
       "</defs>\n",
       "<path clip-path=\"url(#clip800)\" d=\"M0 2400 L3200 2400 L3200 0 L0 0  Z\" fill=\"#ffffff\" fill-rule=\"evenodd\" fill-opacity=\"1\"/>\n",
       "<defs>\n",
       "  <clipPath id=\"clip801\">\n",
       "    <rect x=\"640\" y=\"0\" width=\"2241\" height=\"2241\"/>\n",
       "  </clipPath>\n",
       "</defs>\n",
       "<path clip-path=\"url(#clip800)\" d=\"M120.177 2274.13 L3152.76 2274.13 L3152.76 131.032 L120.177 131.032  Z\" fill=\"#ffffff\" fill-rule=\"evenodd\" fill-opacity=\"1\"/>\n",
       "<defs>\n",
       "  <clipPath id=\"clip802\">\n",
       "    <rect x=\"120\" y=\"131\" width=\"3034\" height=\"2144\"/>\n",
       "  </clipPath>\n",
       "</defs>\n",
       "<polyline clip-path=\"url(#clip802)\" style=\"stroke:#000000; stroke-linecap:round; stroke-linejoin:round; stroke-width:2; stroke-opacity:0.1; fill:none\" points=\"808.305,2274.13 808.305,131.032 \"/>\n",
       "<polyline clip-path=\"url(#clip802)\" style=\"stroke:#000000; stroke-linecap:round; stroke-linejoin:round; stroke-width:2; stroke-opacity:0.1; fill:none\" points=\"1561.18,2274.13 1561.18,131.032 \"/>\n",
       "<polyline clip-path=\"url(#clip802)\" style=\"stroke:#000000; stroke-linecap:round; stroke-linejoin:round; stroke-width:2; stroke-opacity:0.1; fill:none\" points=\"2314.05,2274.13 2314.05,131.032 \"/>\n",
       "<polyline clip-path=\"url(#clip802)\" style=\"stroke:#000000; stroke-linecap:round; stroke-linejoin:round; stroke-width:2; stroke-opacity:0.1; fill:none\" points=\"3066.93,2274.13 3066.93,131.032 \"/>\n",
       "<polyline clip-path=\"url(#clip800)\" style=\"stroke:#000000; stroke-linecap:round; stroke-linejoin:round; stroke-width:4; stroke-opacity:1; fill:none\" points=\"120.177,2274.13 3152.76,2274.13 \"/>\n",
       "<polyline clip-path=\"url(#clip800)\" style=\"stroke:#000000; stroke-linecap:round; stroke-linejoin:round; stroke-width:4; stroke-opacity:1; fill:none\" points=\"808.305,2274.13 808.305,2255.23 \"/>\n",
       "<polyline clip-path=\"url(#clip800)\" style=\"stroke:#000000; stroke-linecap:round; stroke-linejoin:round; stroke-width:4; stroke-opacity:1; fill:none\" points=\"1561.18,2274.13 1561.18,2255.23 \"/>\n",
       "<polyline clip-path=\"url(#clip800)\" style=\"stroke:#000000; stroke-linecap:round; stroke-linejoin:round; stroke-width:4; stroke-opacity:1; fill:none\" points=\"2314.05,2274.13 2314.05,2255.23 \"/>\n",
       "<polyline clip-path=\"url(#clip800)\" style=\"stroke:#000000; stroke-linecap:round; stroke-linejoin:round; stroke-width:4; stroke-opacity:1; fill:none\" points=\"3066.93,2274.13 3066.93,2255.23 \"/>\n",
       "<path clip-path=\"url(#clip800)\" d=\"M798.582 2308.37 L816.939 2308.37 L816.939 2312.3 L802.865 2312.3 L802.865 2320.78 Q803.883 2320.43 804.902 2320.27 Q805.92 2320.08 806.939 2320.08 Q812.726 2320.08 816.105 2323.25 Q819.485 2326.42 819.485 2331.84 Q819.485 2337.42 816.013 2340.52 Q812.541 2343.6 806.221 2343.6 Q804.045 2343.6 801.777 2343.23 Q799.531 2342.86 797.124 2342.12 L797.124 2337.42 Q799.207 2338.55 801.43 2339.11 Q803.652 2339.66 806.129 2339.66 Q810.133 2339.66 812.471 2337.56 Q814.809 2335.45 814.809 2331.84 Q814.809 2328.23 812.471 2326.12 Q810.133 2324.02 806.129 2324.02 Q804.254 2324.02 802.379 2324.43 Q800.527 2324.85 798.582 2325.73 L798.582 2308.37 Z\" fill=\"#000000\" fill-rule=\"nonzero\" fill-opacity=\"1\" /><path clip-path=\"url(#clip800)\" d=\"M1535.87 2338.99 L1543.51 2338.99 L1543.51 2312.63 L1535.2 2314.29 L1535.2 2310.03 L1543.46 2308.37 L1548.14 2308.37 L1548.14 2338.99 L1555.77 2338.99 L1555.77 2342.93 L1535.87 2342.93 L1535.87 2338.99 Z\" fill=\"#000000\" fill-rule=\"nonzero\" fill-opacity=\"1\" /><path clip-path=\"url(#clip800)\" d=\"M1575.22 2311.45 Q1571.61 2311.45 1569.78 2315.01 Q1567.97 2318.55 1567.97 2325.68 Q1567.97 2332.79 1569.78 2336.35 Q1571.61 2339.9 1575.22 2339.9 Q1578.85 2339.9 1580.66 2336.35 Q1582.49 2332.79 1582.49 2325.68 Q1582.49 2318.55 1580.66 2315.01 Q1578.85 2311.45 1575.22 2311.45 M1575.22 2307.74 Q1581.03 2307.74 1584.08 2312.35 Q1587.16 2316.93 1587.16 2325.68 Q1587.16 2334.41 1584.08 2339.02 Q1581.03 2343.6 1575.22 2343.6 Q1569.41 2343.6 1566.33 2339.02 Q1563.27 2334.41 1563.27 2325.68 Q1563.27 2316.93 1566.33 2312.35 Q1569.41 2307.74 1575.22 2307.74 Z\" fill=\"#000000\" fill-rule=\"nonzero\" fill-opacity=\"1\" /><path clip-path=\"url(#clip800)\" d=\"M2289.24 2338.99 L2296.88 2338.99 L2296.88 2312.63 L2288.57 2314.29 L2288.57 2310.03 L2296.83 2308.37 L2301.51 2308.37 L2301.51 2338.99 L2309.15 2338.99 L2309.15 2342.93 L2289.24 2342.93 L2289.24 2338.99 Z\" fill=\"#000000\" fill-rule=\"nonzero\" fill-opacity=\"1\" /><path clip-path=\"url(#clip800)\" d=\"M2318.64 2308.37 L2336.99 2308.37 L2336.99 2312.3 L2322.92 2312.3 L2322.92 2320.78 Q2323.94 2320.43 2324.96 2320.27 Q2325.97 2320.08 2326.99 2320.08 Q2332.78 2320.08 2336.16 2323.25 Q2339.54 2326.42 2339.54 2331.84 Q2339.54 2337.42 2336.07 2340.52 Q2332.6 2343.6 2326.28 2343.6 Q2324.1 2343.6 2321.83 2343.23 Q2319.59 2342.86 2317.18 2342.12 L2317.18 2337.42 Q2319.26 2338.55 2321.48 2339.11 Q2323.71 2339.66 2326.18 2339.66 Q2330.19 2339.66 2332.53 2337.56 Q2334.86 2335.45 2334.86 2331.84 Q2334.86 2328.23 2332.53 2326.12 Q2330.19 2324.02 2326.18 2324.02 Q2324.31 2324.02 2322.43 2324.43 Q2320.58 2324.85 2318.64 2325.73 L2318.64 2308.37 Z\" fill=\"#000000\" fill-rule=\"nonzero\" fill-opacity=\"1\" /><path clip-path=\"url(#clip800)\" d=\"M3045.7 2338.99 L3062.02 2338.99 L3062.02 2342.93 L3040.08 2342.93 L3040.08 2338.99 Q3042.74 2336.24 3047.32 2331.61 Q3051.93 2326.96 3053.11 2325.61 Q3055.35 2323.09 3056.23 2321.35 Q3057.14 2319.59 3057.14 2317.9 Q3057.14 2315.15 3055.19 2313.41 Q3053.27 2311.68 3050.17 2311.68 Q3047.97 2311.68 3045.52 2312.44 Q3043.09 2313.21 3040.31 2314.76 L3040.31 2310.03 Q3043.13 2308.9 3045.59 2308.32 Q3048.04 2307.74 3050.08 2307.74 Q3055.45 2307.74 3058.64 2310.43 Q3061.84 2313.11 3061.84 2317.6 Q3061.84 2319.73 3061.03 2321.65 Q3060.24 2323.55 3058.13 2326.15 Q3057.55 2326.82 3054.45 2330.03 Q3051.35 2333.23 3045.7 2338.99 Z\" fill=\"#000000\" fill-rule=\"nonzero\" fill-opacity=\"1\" /><path clip-path=\"url(#clip800)\" d=\"M3081.84 2311.45 Q3078.22 2311.45 3076.4 2315.01 Q3074.59 2318.55 3074.59 2325.68 Q3074.59 2332.79 3076.4 2336.35 Q3078.22 2339.9 3081.84 2339.9 Q3085.47 2339.9 3087.28 2336.35 Q3089.1 2332.79 3089.1 2325.68 Q3089.1 2318.55 3087.28 2315.01 Q3085.47 2311.45 3081.84 2311.45 M3081.84 2307.74 Q3087.65 2307.74 3090.7 2312.35 Q3093.78 2316.93 3093.78 2325.68 Q3093.78 2334.41 3090.7 2339.02 Q3087.65 2343.6 3081.84 2343.6 Q3076.03 2343.6 3072.95 2339.02 Q3069.89 2334.41 3069.89 2325.68 Q3069.89 2316.93 3072.95 2312.35 Q3076.03 2307.74 3081.84 2307.74 Z\" fill=\"#000000\" fill-rule=\"nonzero\" fill-opacity=\"1\" /><polyline clip-path=\"url(#clip802)\" style=\"stroke:#000000; stroke-linecap:round; stroke-linejoin:round; stroke-width:2; stroke-opacity:0.1; fill:none\" points=\"120.177,2213.47 3152.76,2213.47 \"/>\n",
       "<polyline clip-path=\"url(#clip802)\" style=\"stroke:#000000; stroke-linecap:round; stroke-linejoin:round; stroke-width:2; stroke-opacity:0.1; fill:none\" points=\"120.177,1708.03 3152.76,1708.03 \"/>\n",
       "<polyline clip-path=\"url(#clip802)\" style=\"stroke:#000000; stroke-linecap:round; stroke-linejoin:round; stroke-width:2; stroke-opacity:0.1; fill:none\" points=\"120.177,1202.58 3152.76,1202.58 \"/>\n",
       "<polyline clip-path=\"url(#clip802)\" style=\"stroke:#000000; stroke-linecap:round; stroke-linejoin:round; stroke-width:2; stroke-opacity:0.1; fill:none\" points=\"120.177,697.133 3152.76,697.133 \"/>\n",
       "<polyline clip-path=\"url(#clip802)\" style=\"stroke:#000000; stroke-linecap:round; stroke-linejoin:round; stroke-width:2; stroke-opacity:0.1; fill:none\" points=\"120.177,191.686 3152.76,191.686 \"/>\n",
       "<polyline clip-path=\"url(#clip800)\" style=\"stroke:#000000; stroke-linecap:round; stroke-linejoin:round; stroke-width:4; stroke-opacity:1; fill:none\" points=\"120.177,2274.13 120.177,131.032 \"/>\n",
       "<polyline clip-path=\"url(#clip800)\" style=\"stroke:#000000; stroke-linecap:round; stroke-linejoin:round; stroke-width:4; stroke-opacity:1; fill:none\" points=\"120.177,2213.47 139.075,2213.47 \"/>\n",
       "<polyline clip-path=\"url(#clip800)\" style=\"stroke:#000000; stroke-linecap:round; stroke-linejoin:round; stroke-width:4; stroke-opacity:1; fill:none\" points=\"120.177,1708.03 139.075,1708.03 \"/>\n",
       "<polyline clip-path=\"url(#clip800)\" style=\"stroke:#000000; stroke-linecap:round; stroke-linejoin:round; stroke-width:4; stroke-opacity:1; fill:none\" points=\"120.177,1202.58 139.075,1202.58 \"/>\n",
       "<polyline clip-path=\"url(#clip800)\" style=\"stroke:#000000; stroke-linecap:round; stroke-linejoin:round; stroke-width:4; stroke-opacity:1; fill:none\" points=\"120.177,697.133 139.075,697.133 \"/>\n",
       "<polyline clip-path=\"url(#clip800)\" style=\"stroke:#000000; stroke-linecap:round; stroke-linejoin:round; stroke-width:4; stroke-opacity:1; fill:none\" points=\"120.177,191.686 139.075,191.686 \"/>\n",
       "<path clip-path=\"url(#clip800)\" d=\"M55.8578 2226.82 L72.1772 2226.82 L72.1772 2230.75 L50.2328 2230.75 L50.2328 2226.82 Q52.8949 2224.06 57.4782 2219.43 Q62.0846 2214.78 63.2652 2213.44 Q65.5105 2210.92 66.3902 2209.18 Q67.2929 2207.42 67.2929 2205.73 Q67.2929 2202.98 65.3485 2201.24 Q63.4272 2199.5 60.3254 2199.5 Q58.1263 2199.5 55.6726 2200.27 Q53.2421 2201.03 50.4643 2202.58 L50.4643 2197.86 Q53.2884 2196.73 55.7421 2196.15 Q58.1958 2195.57 60.2328 2195.57 Q65.6031 2195.57 68.7976 2198.25 Q71.992 2200.94 71.992 2205.43 Q71.992 2207.56 71.1818 2209.48 Q70.3948 2211.38 68.2883 2213.97 Q67.7096 2214.64 64.6078 2217.86 Q61.5059 2221.06 55.8578 2226.82 Z\" fill=\"#000000\" fill-rule=\"nonzero\" fill-opacity=\"1\" /><path clip-path=\"url(#clip800)\" d=\"M65.0476 1706.67 Q68.404 1707.39 70.279 1709.66 Q72.1772 1711.93 72.1772 1715.26 Q72.1772 1720.38 68.6587 1723.18 Q65.1402 1725.98 58.6587 1725.98 Q56.4828 1725.98 54.168 1725.54 Q51.8764 1725.12 49.4227 1724.27 L49.4227 1719.75 Q51.3671 1720.89 53.6819 1721.46 Q55.9967 1722.04 58.5198 1722.04 Q62.918 1722.04 65.2096 1720.31 Q67.5244 1718.57 67.5244 1715.26 Q67.5244 1712.21 65.3717 1710.49 Q63.242 1708.76 59.4226 1708.76 L55.3949 1708.76 L55.3949 1704.91 L59.6078 1704.91 Q63.0569 1704.91 64.8855 1703.55 Q66.7142 1702.16 66.7142 1699.57 Q66.7142 1696.9 64.8161 1695.49 Q62.9411 1694.06 59.4226 1694.06 Q57.5013 1694.06 55.3023 1694.47 Q53.1032 1694.89 50.4643 1695.77 L50.4643 1691.6 Q53.1264 1690.86 55.4412 1690.49 Q57.7791 1690.12 59.8393 1690.12 Q65.1633 1690.12 68.2652 1692.55 Q71.367 1694.96 71.367 1699.08 Q71.367 1701.95 69.7235 1703.94 Q68.08 1705.91 65.0476 1706.67 Z\" fill=\"#000000\" fill-rule=\"nonzero\" fill-opacity=\"1\" /><path clip-path=\"url(#clip800)\" d=\"M62.5939 1189.37 L50.7884 1207.82 L62.5939 1207.82 L62.5939 1189.37 M61.367 1185.3 L67.2466 1185.3 L67.2466 1207.82 L72.1772 1207.82 L72.1772 1211.71 L67.2466 1211.71 L67.2466 1219.86 L62.5939 1219.86 L62.5939 1211.71 L46.9921 1211.71 L46.9921 1207.2 L61.367 1185.3 Z\" fill=\"#000000\" fill-rule=\"nonzero\" fill-opacity=\"1\" /><path clip-path=\"url(#clip800)\" d=\"M51.2745 679.853 L69.6309 679.853 L69.6309 683.788 L55.5569 683.788 L55.5569 692.26 Q56.5754 691.913 57.5939 691.751 Q58.6124 691.566 59.6309 691.566 Q65.418 691.566 68.7976 694.737 Q72.1772 697.908 72.1772 703.325 Q72.1772 708.904 68.705 712.005 Q65.2328 715.084 58.9134 715.084 Q56.7374 715.084 54.4689 714.714 Q52.2236 714.343 49.8162 713.603 L49.8162 708.904 Q51.8995 710.038 54.1217 710.593 Q56.3439 711.149 58.8208 711.149 Q62.8254 711.149 65.1633 709.043 Q67.5013 706.936 67.5013 703.325 Q67.5013 699.714 65.1633 697.607 Q62.8254 695.501 58.8208 695.501 Q56.9458 695.501 55.0708 695.918 Q53.2189 696.334 51.2745 697.214 L51.2745 679.853 Z\" fill=\"#000000\" fill-rule=\"nonzero\" fill-opacity=\"1\" /><path clip-path=\"url(#clip800)\" d=\"M60.6495 189.822 Q57.5013 189.822 55.6495 191.975 Q53.8208 194.128 53.8208 197.878 Q53.8208 201.605 55.6495 203.781 Q57.5013 205.933 60.6495 205.933 Q63.7976 205.933 65.6263 203.781 Q67.4781 201.605 67.4781 197.878 Q67.4781 194.128 65.6263 191.975 Q63.7976 189.822 60.6495 189.822 M69.9318 175.17 L69.9318 179.429 Q68.1726 178.596 66.367 178.156 Q64.5846 177.716 62.8254 177.716 Q58.1958 177.716 55.7421 180.841 Q53.3115 183.966 52.9643 190.285 Q54.33 188.271 56.3902 187.207 Q58.4504 186.119 60.9272 186.119 Q66.1355 186.119 69.1448 189.29 Q72.1772 192.438 72.1772 197.878 Q72.1772 203.202 69.029 206.419 Q65.8809 209.637 60.6495 209.637 Q54.6541 209.637 51.4828 205.054 Q48.3116 200.447 48.3116 191.721 Q48.3116 183.526 52.2004 178.665 Q56.0893 173.781 62.6402 173.781 Q64.3994 173.781 66.1818 174.128 Q67.9874 174.475 69.9318 175.17 Z\" fill=\"#000000\" fill-rule=\"nonzero\" fill-opacity=\"1\" /><path clip-path=\"url(#clip800)\" d=\"M1003.78 17.6457 Q994.864 17.6457 989.598 24.2892 Q984.372 30.9327 984.372 42.3968 Q984.372 53.8203 989.598 60.4638 Q994.864 67.1073 1003.78 67.1073 Q1012.69 67.1073 1017.87 60.4638 Q1023.1 53.8203 1023.1 42.3968 Q1023.1 30.9327 1017.87 24.2892 Q1012.69 17.6457 1003.78 17.6457 M1003.78 11.0023 Q1016.5 11.0023 1024.11 19.5497 Q1031.73 28.0566 1031.73 42.3968 Q1031.73 56.6965 1024.11 65.2439 Q1016.5 73.7508 1003.78 73.7508 Q991.016 73.7508 983.36 65.2439 Q975.744 56.737 975.744 42.3968 Q975.744 28.0566 983.36 19.5497 Q991.016 11.0023 1003.78 11.0023 Z\" fill=\"#000000\" fill-rule=\"nonzero\" fill-opacity=\"1\" /><path clip-path=\"url(#clip800)\" d=\"M1043.43 54.671 L1043.43 27.2059 L1050.89 27.2059 L1050.89 54.3874 Q1050.89 60.8284 1053.4 64.0691 Q1055.91 67.2693 1060.93 67.2693 Q1066.97 67.2693 1070.45 63.421 Q1073.98 59.5726 1073.98 52.9291 L1073.98 27.2059 L1081.43 27.2059 L1081.43 72.576 L1073.98 72.576 L1073.98 65.6084 Q1071.26 69.7404 1067.66 71.7658 Q1064.09 73.7508 1059.35 73.7508 Q1051.54 73.7508 1047.49 68.8897 Q1043.43 64.0286 1043.43 54.671 M1062.19 26.1121 L1062.19 26.1121 Z\" fill=\"#000000\" fill-rule=\"nonzero\" fill-opacity=\"1\" /><path clip-path=\"url(#clip800)\" d=\"M1104.16 14.324 L1104.16 27.2059 L1119.51 27.2059 L1119.51 32.9987 L1104.16 32.9987 L1104.16 57.6282 Q1104.16 63.1779 1105.66 64.7578 Q1107.2 66.3376 1111.85 66.3376 L1119.51 66.3376 L1119.51 72.576 L1111.85 72.576 Q1103.23 72.576 1099.94 69.3758 Q1096.66 66.1351 1096.66 57.6282 L1096.66 32.9987 L1091.19 32.9987 L1091.19 27.2059 L1096.66 27.2059 L1096.66 14.324 L1104.16 14.324 Z\" fill=\"#000000\" fill-rule=\"nonzero\" fill-opacity=\"1\" /><path clip-path=\"url(#clip800)\" d=\"M1136.52 65.7705 L1136.52 89.8329 L1129.03 89.8329 L1129.03 27.2059 L1136.52 27.2059 L1136.52 34.0924 Q1138.87 30.0415 1142.44 28.0971 Q1146.04 26.1121 1151.03 26.1121 Q1159.29 26.1121 1164.43 32.6746 Q1169.62 39.2371 1169.62 49.9314 Q1169.62 60.6258 1164.43 67.1883 Q1159.29 73.7508 1151.03 73.7508 Q1146.04 73.7508 1142.44 71.8063 Q1138.87 69.8214 1136.52 65.7705 M1161.88 49.9314 Q1161.88 41.7081 1158.48 37.0496 Q1155.12 32.3505 1149.2 32.3505 Q1143.29 32.3505 1139.89 37.0496 Q1136.52 41.7081 1136.52 49.9314 Q1136.52 58.1548 1139.89 62.8538 Q1143.29 67.5124 1149.2 67.5124 Q1155.12 67.5124 1158.48 62.8538 Q1161.88 58.1548 1161.88 49.9314 Z\" fill=\"#000000\" fill-rule=\"nonzero\" fill-opacity=\"1\" /><path clip-path=\"url(#clip800)\" d=\"M1181.21 54.671 L1181.21 27.2059 L1188.66 27.2059 L1188.66 54.3874 Q1188.66 60.8284 1191.17 64.0691 Q1193.68 67.2693 1198.71 67.2693 Q1204.74 67.2693 1208.23 63.421 Q1211.75 59.5726 1211.75 52.9291 L1211.75 27.2059 L1219.2 27.2059 L1219.2 72.576 L1211.75 72.576 L1211.75 65.6084 Q1209.04 69.7404 1205.43 71.7658 Q1201.87 73.7508 1197.13 73.7508 Q1189.31 73.7508 1185.26 68.8897 Q1181.21 64.0286 1181.21 54.671 M1199.96 26.1121 L1199.96 26.1121 Z\" fill=\"#000000\" fill-rule=\"nonzero\" fill-opacity=\"1\" /><path clip-path=\"url(#clip800)\" d=\"M1241.93 14.324 L1241.93 27.2059 L1257.28 27.2059 L1257.28 32.9987 L1241.93 32.9987 L1241.93 57.6282 Q1241.93 63.1779 1243.43 64.7578 Q1244.97 66.3376 1249.63 66.3376 L1257.28 66.3376 L1257.28 72.576 L1249.63 72.576 Q1241 72.576 1237.72 69.3758 Q1234.43 66.1351 1234.43 57.6282 L1234.43 32.9987 L1228.97 32.9987 L1228.97 27.2059 L1234.43 27.2059 L1234.43 14.324 L1241.93 14.324 Z\" fill=\"#000000\" fill-rule=\"nonzero\" fill-opacity=\"1\" /><path clip-path=\"url(#clip800)\" d=\"M1314.08 49.7694 Q1305.04 49.7694 1301.56 51.8354 Q1298.07 53.9013 1298.07 58.8839 Q1298.07 62.8538 1300.67 65.2034 Q1303.3 67.5124 1307.8 67.5124 Q1313.99 67.5124 1317.72 63.1374 Q1321.49 58.7219 1321.49 51.4303 L1321.49 49.7694 L1314.08 49.7694 M1328.94 46.6907 L1328.94 72.576 L1321.49 72.576 L1321.49 65.6895 Q1318.94 69.8214 1315.13 71.8063 Q1311.32 73.7508 1305.81 73.7508 Q1298.84 73.7508 1294.71 69.8619 Q1290.62 65.9325 1290.62 59.3701 Q1290.62 51.7138 1295.72 47.825 Q1300.87 43.9361 1311.04 43.9361 L1321.49 43.9361 L1321.49 43.2069 Q1321.49 38.0623 1318.09 35.2672 Q1314.72 32.4315 1308.61 32.4315 Q1304.72 32.4315 1301.03 33.3632 Q1297.35 34.295 1293.94 36.1584 L1293.94 29.2718 Q1298.03 27.692 1301.88 26.9223 Q1305.73 26.1121 1309.38 26.1121 Q1319.22 26.1121 1324.08 31.2163 Q1328.94 36.3204 1328.94 46.6907 Z\" fill=\"#000000\" fill-rule=\"nonzero\" fill-opacity=\"1\" /><path clip-path=\"url(#clip800)\" d=\"M1382.01 45.1919 L1382.01 72.576 L1374.56 72.576 L1374.56 45.4349 Q1374.56 38.994 1372.04 35.7938 Q1369.53 32.5936 1364.51 32.5936 Q1358.47 32.5936 1354.99 36.4419 Q1351.51 40.2903 1351.51 46.9338 L1351.51 72.576 L1344.01 72.576 L1344.01 27.2059 L1351.51 27.2059 L1351.51 34.2544 Q1354.18 30.163 1357.78 28.1376 Q1361.43 26.1121 1366.17 26.1121 Q1373.99 26.1121 1378 30.9732 Q1382.01 35.7938 1382.01 45.1919 Z\" fill=\"#000000\" fill-rule=\"nonzero\" fill-opacity=\"1\" /><path clip-path=\"url(#clip800)\" d=\"M1426.73 34.0924 L1426.73 9.54393 L1434.18 9.54393 L1434.18 72.576 L1426.73 72.576 L1426.73 65.7705 Q1424.38 69.8214 1420.78 71.8063 Q1417.21 73.7508 1412.19 73.7508 Q1403.96 73.7508 1398.78 67.1883 Q1393.64 60.6258 1393.64 49.9314 Q1393.64 39.2371 1398.78 32.6746 Q1403.96 26.1121 1412.19 26.1121 Q1417.21 26.1121 1420.78 28.0971 Q1424.38 30.0415 1426.73 34.0924 M1401.33 49.9314 Q1401.33 58.1548 1404.69 62.8538 Q1408.1 67.5124 1414.01 67.5124 Q1419.93 67.5124 1423.33 62.8538 Q1426.73 58.1548 1426.73 49.9314 Q1426.73 41.7081 1423.33 37.0496 Q1419.93 32.3505 1414.01 32.3505 Q1408.1 32.3505 1404.69 37.0496 Q1401.33 41.7081 1401.33 49.9314 Z\" fill=\"#000000\" fill-rule=\"nonzero\" fill-opacity=\"1\" /><path clip-path=\"url(#clip800)\" d=\"M1483.12 65.7705 L1483.12 89.8329 L1475.63 89.8329 L1475.63 27.2059 L1483.12 27.2059 L1483.12 34.0924 Q1485.47 30.0415 1489.03 28.0971 Q1492.64 26.1121 1497.62 26.1121 Q1505.89 26.1121 1511.03 32.6746 Q1516.22 39.2371 1516.22 49.9314 Q1516.22 60.6258 1511.03 67.1883 Q1505.89 73.7508 1497.62 73.7508 Q1492.64 73.7508 1489.03 71.8063 Q1485.47 69.8214 1483.12 65.7705 M1508.48 49.9314 Q1508.48 41.7081 1505.08 37.0496 Q1501.71 32.3505 1495.8 32.3505 Q1489.88 32.3505 1486.48 37.0496 Q1483.12 41.7081 1483.12 49.9314 Q1483.12 58.1548 1486.48 62.8538 Q1489.88 67.5124 1495.8 67.5124 Q1501.71 67.5124 1505.08 62.8538 Q1508.48 58.1548 1508.48 49.9314 Z\" fill=\"#000000\" fill-rule=\"nonzero\" fill-opacity=\"1\" /><path clip-path=\"url(#clip800)\" d=\"M1554.86 34.1734 Q1553.61 33.4443 1552.11 33.1202 Q1550.65 32.7556 1548.87 32.7556 Q1542.55 32.7556 1539.14 36.8875 Q1535.78 40.9789 1535.78 48.6757 L1535.78 72.576 L1528.29 72.576 L1528.29 27.2059 L1535.78 27.2059 L1535.78 34.2544 Q1538.13 30.1225 1541.9 28.1376 Q1545.67 26.1121 1551.05 26.1121 Q1551.82 26.1121 1552.75 26.2337 Q1553.69 26.3147 1554.82 26.5172 L1554.86 34.1734 Z\" fill=\"#000000\" fill-rule=\"nonzero\" fill-opacity=\"1\" /><path clip-path=\"url(#clip800)\" d=\"M1562.68 27.2059 L1570.13 27.2059 L1570.13 72.576 L1562.68 72.576 L1562.68 27.2059 M1562.68 9.54393 L1570.13 9.54393 L1570.13 18.9825 L1562.68 18.9825 L1562.68 9.54393 Z\" fill=\"#000000\" fill-rule=\"nonzero\" fill-opacity=\"1\" /><path clip-path=\"url(#clip800)\" d=\"M1618.38 28.9478 L1618.38 35.9153 Q1615.22 34.1734 1612.02 33.3227 Q1608.86 32.4315 1605.62 32.4315 Q1598.37 32.4315 1594.36 37.0496 Q1590.35 41.6271 1590.35 49.9314 Q1590.35 58.2358 1594.36 62.8538 Q1598.37 67.4314 1605.62 67.4314 Q1608.86 67.4314 1612.02 66.5807 Q1615.22 65.6895 1618.38 63.9476 L1618.38 70.8341 Q1615.26 72.2924 1611.9 73.0216 Q1608.58 73.7508 1604.81 73.7508 Q1594.56 73.7508 1588.52 67.3098 Q1582.49 60.8689 1582.49 49.9314 Q1582.49 38.832 1588.56 32.472 Q1594.68 26.1121 1605.29 26.1121 Q1608.74 26.1121 1612.02 26.8413 Q1615.3 27.5299 1618.38 28.9478 Z\" fill=\"#000000\" fill-rule=\"nonzero\" fill-opacity=\"1\" /><path clip-path=\"url(#clip800)\" d=\"M1670.15 48.0275 L1670.15 51.6733 L1635.88 51.6733 Q1636.37 59.3701 1640.5 63.421 Q1644.67 67.4314 1652.08 67.4314 Q1656.38 67.4314 1660.39 66.3781 Q1664.44 65.3249 1668.41 63.2184 L1668.41 70.267 Q1664.4 71.9684 1660.18 72.8596 Q1655.97 73.7508 1651.64 73.7508 Q1640.78 73.7508 1634.42 67.4314 Q1628.1 61.1119 1628.1 50.3365 Q1628.1 39.1965 1634.1 32.6746 Q1640.13 26.1121 1650.34 26.1121 Q1659.5 26.1121 1664.8 32.0264 Q1670.15 37.9003 1670.15 48.0275 M1662.7 45.84 Q1662.62 39.7232 1659.25 36.0774 Q1655.93 32.4315 1650.42 32.4315 Q1644.18 32.4315 1640.42 35.9558 Q1636.69 39.4801 1636.12 45.8805 L1662.7 45.84 Z\" fill=\"#000000\" fill-rule=\"nonzero\" fill-opacity=\"1\" /><path clip-path=\"url(#clip800)\" d=\"M1711.31 28.5427 L1711.31 35.5912 Q1708.15 33.9709 1704.74 33.1607 Q1701.34 32.3505 1697.7 32.3505 Q1692.15 32.3505 1689.35 34.0519 Q1686.6 35.7533 1686.6 39.156 Q1686.6 41.7486 1688.58 43.2475 Q1690.57 44.7058 1696.56 46.0426 L1699.11 46.6097 Q1707.05 48.3111 1710.38 51.4303 Q1713.74 54.509 1713.74 60.0587 Q1713.74 66.3781 1708.71 70.0644 Q1703.73 73.7508 1694.98 73.7508 Q1691.34 73.7508 1687.37 73.0216 Q1683.44 72.3329 1679.06 70.9151 L1679.06 63.2184 Q1683.19 65.3654 1687.2 66.4591 Q1691.21 67.5124 1695.14 67.5124 Q1700.41 67.5124 1703.25 65.73 Q1706.08 63.9071 1706.08 60.6258 Q1706.08 57.5877 1704.02 55.9673 Q1701.99 54.3469 1695.06 52.8481 L1692.47 52.2405 Q1685.54 50.7821 1682.46 47.7845 Q1679.39 44.7463 1679.39 39.4801 Q1679.39 33.0797 1683.92 29.5959 Q1688.46 26.1121 1696.8 26.1121 Q1700.94 26.1121 1704.58 26.7198 Q1708.23 27.3274 1711.31 28.5427 Z\" fill=\"#000000\" fill-rule=\"nonzero\" fill-opacity=\"1\" /><path clip-path=\"url(#clip800)\" d=\"M1727.51 62.2867 L1736.06 62.2867 L1736.06 69.2543 L1729.41 82.2172 L1724.19 82.2172 L1727.51 69.2543 L1727.51 62.2867 Z\" fill=\"#000000\" fill-rule=\"nonzero\" fill-opacity=\"1\" /><path clip-path=\"url(#clip800)\" d=\"M1808.2 34.0924 L1808.2 9.54393 L1815.66 9.54393 L1815.66 72.576 L1808.2 72.576 L1808.2 65.7705 Q1805.86 69.8214 1802.25 71.8063 Q1798.69 73.7508 1793.66 73.7508 Q1785.44 73.7508 1780.25 67.1883 Q1775.11 60.6258 1775.11 49.9314 Q1775.11 39.2371 1780.25 32.6746 Q1785.44 26.1121 1793.66 26.1121 Q1798.69 26.1121 1802.25 28.0971 Q1805.86 30.0415 1808.2 34.0924 M1782.81 49.9314 Q1782.81 58.1548 1786.17 62.8538 Q1789.57 67.5124 1795.48 67.5124 Q1801.4 67.5124 1804.8 62.8538 Q1808.2 58.1548 1808.2 49.9314 Q1808.2 41.7081 1804.8 37.0496 Q1801.4 32.3505 1795.48 32.3505 Q1789.57 32.3505 1786.17 37.0496 Q1782.81 41.7081 1782.81 49.9314 Z\" fill=\"#000000\" fill-rule=\"nonzero\" fill-opacity=\"1\" /><path clip-path=\"url(#clip800)\" d=\"M1830.24 54.671 L1830.24 27.2059 L1837.7 27.2059 L1837.7 54.3874 Q1837.7 60.8284 1840.21 64.0691 Q1842.72 67.2693 1847.74 67.2693 Q1853.78 67.2693 1857.26 63.421 Q1860.79 59.5726 1860.79 52.9291 L1860.79 27.2059 L1868.24 27.2059 L1868.24 72.576 L1860.79 72.576 L1860.79 65.6084 Q1858.07 69.7404 1854.47 71.7658 Q1850.9 73.7508 1846.16 73.7508 Q1838.34 73.7508 1834.29 68.8897 Q1830.24 64.0286 1830.24 54.671 M1849 26.1121 L1849 26.1121 Z\" fill=\"#000000\" fill-rule=\"nonzero\" fill-opacity=\"1\" /><path clip-path=\"url(#clip800)\" d=\"M1901.17 32.4315 Q1895.18 32.4315 1891.69 37.1306 Q1888.21 41.7891 1888.21 49.9314 Q1888.21 58.0738 1891.65 62.7728 Q1895.14 67.4314 1901.17 67.4314 Q1907.13 67.4314 1910.61 62.7323 Q1914.1 58.0333 1914.1 49.9314 Q1914.1 41.8701 1910.61 37.1711 Q1907.13 32.4315 1901.17 32.4315 M1901.17 26.1121 Q1910.9 26.1121 1916.44 32.4315 Q1921.99 38.7509 1921.99 49.9314 Q1921.99 61.0714 1916.44 67.4314 Q1910.9 73.7508 1901.17 73.7508 Q1891.41 73.7508 1885.86 67.4314 Q1880.35 61.0714 1880.35 49.9314 Q1880.35 38.7509 1885.86 32.4315 Q1891.41 26.1121 1901.17 26.1121 Z\" fill=\"#000000\" fill-rule=\"nonzero\" fill-opacity=\"1\" /><path clip-path=\"url(#clip800)\" d=\"M1941.56 65.7705 L1941.56 89.8329 L1934.07 89.8329 L1934.07 27.2059 L1941.56 27.2059 L1941.56 34.0924 Q1943.91 30.0415 1947.47 28.0971 Q1951.08 26.1121 1956.06 26.1121 Q1964.33 26.1121 1969.47 32.6746 Q1974.66 39.2371 1974.66 49.9314 Q1974.66 60.6258 1969.47 67.1883 Q1964.33 73.7508 1956.06 73.7508 Q1951.08 73.7508 1947.47 71.8063 Q1943.91 69.8214 1941.56 65.7705 M1966.92 49.9314 Q1966.92 41.7081 1963.52 37.0496 Q1960.15 32.3505 1954.24 32.3505 Q1948.33 32.3505 1944.92 37.0496 Q1941.56 41.7081 1941.56 49.9314 Q1941.56 58.1548 1944.92 62.8538 Q1948.33 67.5124 1954.24 67.5124 Q1960.15 67.5124 1963.52 62.8538 Q1966.92 58.1548 1966.92 49.9314 Z\" fill=\"#000000\" fill-rule=\"nonzero\" fill-opacity=\"1\" /><path clip-path=\"url(#clip800)\" d=\"M2004.59 32.4315 Q1998.6 32.4315 1995.11 37.1306 Q1991.63 41.7891 1991.63 49.9314 Q1991.63 58.0738 1995.07 62.7728 Q1998.56 67.4314 2004.59 67.4314 Q2010.55 67.4314 2014.03 62.7323 Q2017.51 58.0333 2017.51 49.9314 Q2017.51 41.8701 2014.03 37.1711 Q2010.55 32.4315 2004.59 32.4315 M2004.59 26.1121 Q2014.31 26.1121 2019.86 32.4315 Q2025.41 38.7509 2025.41 49.9314 Q2025.41 61.0714 2019.86 67.4314 Q2014.31 73.7508 2004.59 73.7508 Q1994.83 73.7508 1989.28 67.4314 Q1983.77 61.0714 1983.77 49.9314 Q1983.77 38.7509 1989.28 32.4315 Q1994.83 26.1121 2004.59 26.1121 Z\" fill=\"#000000\" fill-rule=\"nonzero\" fill-opacity=\"1\" /><path clip-path=\"url(#clip800)\" d=\"M2037.77 9.54393 L2045.22 9.54393 L2045.22 72.576 L2037.77 72.576 L2037.77 9.54393 Z\" fill=\"#000000\" fill-rule=\"nonzero\" fill-opacity=\"1\" /><path clip-path=\"url(#clip800)\" d=\"M2079.7 76.7889 Q2076.54 84.8907 2073.54 87.3618 Q2070.54 89.8329 2065.52 89.8329 L2059.56 89.8329 L2059.56 83.5945 L2063.94 83.5945 Q2067.02 83.5945 2068.72 82.1361 Q2070.42 80.6778 2072.49 75.2496 L2073.82 71.8468 L2055.47 27.2059 L2063.37 27.2059 L2077.55 62.6918 L2091.73 27.2059 L2099.63 27.2059 L2079.7 76.7889 Z\" fill=\"#000000\" fill-rule=\"nonzero\" fill-opacity=\"1\" /><path clip-path=\"url(#clip800)\" d=\"M2136.61 12.096 L2148.8 12.096 L2164.24 53.2532 L2179.75 12.096 L2191.95 12.096 L2191.95 72.576 L2183.97 72.576 L2183.97 19.4686 L2168.37 60.9499 L2160.15 60.9499 L2144.55 19.4686 L2144.55 72.576 L2136.61 72.576 L2136.61 12.096 Z\" fill=\"#000000\" fill-rule=\"nonzero\" fill-opacity=\"1\" /><path clip-path=\"url(#clip800)\" d=\"M2216.37 18.8205 L2216.37 41.5461 L2226.66 41.5461 Q2232.37 41.5461 2235.49 38.5889 Q2238.61 35.6318 2238.61 30.163 Q2238.61 24.7348 2235.49 21.7777 Q2232.37 18.8205 2226.66 18.8205 L2216.37 18.8205 M2208.19 12.096 L2226.66 12.096 Q2236.83 12.096 2242.02 16.714 Q2247.24 21.2916 2247.24 30.163 Q2247.24 39.1155 2242.02 43.6931 Q2236.83 48.2706 2226.66 48.2706 L2216.37 48.2706 L2216.37 72.576 L2208.19 72.576 L2208.19 12.096 Z\" fill=\"#000000\" fill-rule=\"nonzero\" fill-opacity=\"1\" /><path clip-path=\"url(#clip800)\" d=\"M2258.22 12.096 L2296.46 12.096 L2296.46 18.9825 L2266.4 18.9825 L2266.4 36.8875 L2295.2 36.8875 L2295.2 43.7741 L2266.4 43.7741 L2266.4 65.6895 L2297.19 65.6895 L2297.19 72.576 L2258.22 72.576 L2258.22 12.096 Z\" fill=\"#000000\" fill-rule=\"nonzero\" fill-opacity=\"1\" /><polyline clip-path=\"url(#clip802)\" style=\"stroke:#0000ff; stroke-linecap:round; stroke-linejoin:round; stroke-width:8; stroke-opacity:0.75; fill:none\" points=\"206.005,2213.47 356.58,1912.74 507.155,1723.57 657.73,1604.57 808.305,1529.72 958.879,1482.64 1109.45,1453.02 1260.03,1434.39 1410.6,1422.67 1561.18,1415.3 1711.75,1410.67 1862.33,1407.75 2012.9,1405.91 2163.48,1404.76 2314.05,1404.03 2464.63,1403.58 2615.2,1403.29 2765.78,1403.11 2916.35,1403 3066.93,1402.92 \"/>\n",
       "<polyline clip-path=\"url(#clip802)\" style=\"stroke:#008000; stroke-linecap:round; stroke-linejoin:round; stroke-width:8; stroke-opacity:0.75; fill:none\" points=\"206.005,191.686 356.58,793.157 507.155,1171.5 657.73,1409.49 808.305,1559.19 958.879,1653.36 1109.45,1712.59 1260.03,1749.85 1410.6,1773.29 1561.18,1788.03 1711.75,1797.3 1862.33,1803.14 2012.9,1806.8 2163.48,1809.11 2314.05,1810.56 2464.63,1811.48 2615.2,1812.05 2765.78,1812.41 2916.35,1812.64 3066.93,1812.78 \"/>\n",
       "<path clip-path=\"url(#clip800)\" d=\"M2470.98 357.989 L3051.67 357.989 L3051.67 202.469 L2470.98 202.469  Z\" fill=\"#ffffff\" fill-rule=\"evenodd\" fill-opacity=\"1\"/>\n",
       "<polyline clip-path=\"url(#clip800)\" style=\"stroke:#000000; stroke-linecap:round; stroke-linejoin:round; stroke-width:4; stroke-opacity:1; fill:none\" points=\"2470.98,357.989 3051.67,357.989 3051.67,202.469 2470.98,202.469 2470.98,357.989 \"/>\n",
       "<polyline clip-path=\"url(#clip800)\" style=\"stroke:#0000ff; stroke-linecap:round; stroke-linejoin:round; stroke-width:8; stroke-opacity:0.75; fill:none\" points=\"2504.68,254.309 2706.85,254.309 \"/>\n",
       "<path clip-path=\"url(#clip800)\" d=\"M2747.95 238.302 L2747.95 245.663 L2756.73 245.663 L2756.73 248.973 L2747.95 248.973 L2747.95 263.047 Q2747.95 266.218 2748.81 267.121 Q2749.69 268.024 2752.35 268.024 L2756.73 268.024 L2756.73 271.589 L2752.35 271.589 Q2747.42 271.589 2745.55 269.76 Q2743.67 267.908 2743.67 263.047 L2743.67 248.973 L2740.55 248.973 L2740.55 245.663 L2743.67 245.663 L2743.67 238.302 L2747.95 238.302 Z\" fill=\"#000000\" fill-rule=\"nonzero\" fill-opacity=\"1\" /><path clip-path=\"url(#clip800)\" d=\"M2772.37 248.649 Q2768.95 248.649 2766.96 251.334 Q2764.97 253.996 2764.97 258.649 Q2764.97 263.302 2766.93 265.987 Q2768.93 268.649 2772.37 268.649 Q2775.78 268.649 2777.77 265.964 Q2779.76 263.279 2779.76 258.649 Q2779.76 254.042 2777.77 251.357 Q2775.78 248.649 2772.37 248.649 M2772.37 245.038 Q2777.93 245.038 2781.1 248.649 Q2784.27 252.26 2784.27 258.649 Q2784.27 265.015 2781.1 268.649 Q2777.93 272.26 2772.37 272.26 Q2766.8 272.26 2763.62 268.649 Q2760.48 265.015 2760.48 258.649 Q2760.48 252.26 2763.62 248.649 Q2766.8 245.038 2772.37 245.038 Z\" fill=\"#000000\" fill-rule=\"nonzero\" fill-opacity=\"1\" /><path clip-path=\"url(#clip800)\" d=\"M2795.55 238.302 L2795.55 245.663 L2804.32 245.663 L2804.32 248.973 L2795.55 248.973 L2795.55 263.047 Q2795.55 266.218 2796.4 267.121 Q2797.28 268.024 2799.94 268.024 L2804.32 268.024 L2804.32 271.589 L2799.94 271.589 Q2795.01 271.589 2793.14 269.76 Q2791.26 267.908 2791.26 263.047 L2791.26 248.973 L2788.14 248.973 L2788.14 245.663 L2791.26 245.663 L2791.26 238.302 L2795.55 238.302 Z\" fill=\"#000000\" fill-rule=\"nonzero\" fill-opacity=\"1\" /><path clip-path=\"url(#clip800)\" d=\"M2821.7 258.556 Q2816.54 258.556 2814.55 259.737 Q2812.56 260.917 2812.56 263.765 Q2812.56 266.033 2814.04 267.376 Q2815.55 268.695 2818.11 268.695 Q2821.66 268.695 2823.79 266.195 Q2825.94 263.672 2825.94 259.505 L2825.94 258.556 L2821.7 258.556 M2830.2 256.797 L2830.2 271.589 L2825.94 271.589 L2825.94 267.653 Q2824.48 270.015 2822.3 271.149 Q2820.13 272.26 2816.98 272.26 Q2813 272.26 2810.64 270.038 Q2808.3 267.792 2808.3 264.042 Q2808.3 259.667 2811.22 257.445 Q2814.16 255.223 2819.97 255.223 L2825.94 255.223 L2825.94 254.806 Q2825.94 251.867 2823.99 250.269 Q2822.07 248.649 2818.58 248.649 Q2816.36 248.649 2814.25 249.181 Q2812.14 249.714 2810.2 250.779 L2810.2 246.843 Q2812.54 245.941 2814.73 245.501 Q2816.93 245.038 2819.02 245.038 Q2824.64 245.038 2827.42 247.955 Q2830.2 250.871 2830.2 256.797 Z\" fill=\"#000000\" fill-rule=\"nonzero\" fill-opacity=\"1\" /><path clip-path=\"url(#clip800)\" d=\"M2838.97 235.57 L2843.23 235.57 L2843.23 271.589 L2838.97 271.589 L2838.97 235.57 Z\" fill=\"#000000\" fill-rule=\"nonzero\" fill-opacity=\"1\" /><path clip-path=\"url(#clip800)\" d=\"M2877.26 248.649 Q2873.83 248.649 2871.84 251.334 Q2869.85 253.996 2869.85 258.649 Q2869.85 263.302 2871.82 265.987 Q2873.81 268.649 2877.26 268.649 Q2880.66 268.649 2882.65 265.964 Q2884.64 263.279 2884.64 258.649 Q2884.64 254.042 2882.65 251.357 Q2880.66 248.649 2877.26 248.649 M2877.26 245.038 Q2882.81 245.038 2885.98 248.649 Q2889.16 252.26 2889.16 258.649 Q2889.16 265.015 2885.98 268.649 Q2882.81 272.26 2877.26 272.26 Q2871.68 272.26 2868.51 268.649 Q2865.36 265.015 2865.36 258.649 Q2865.36 252.26 2868.51 248.649 Q2871.68 245.038 2877.26 245.038 Z\" fill=\"#000000\" fill-rule=\"nonzero\" fill-opacity=\"1\" /><path clip-path=\"url(#clip800)\" d=\"M2895.78 261.357 L2895.78 245.663 L2900.04 245.663 L2900.04 261.195 Q2900.04 264.876 2901.47 266.728 Q2902.91 268.556 2905.78 268.556 Q2909.23 268.556 2911.22 266.357 Q2913.23 264.158 2913.23 260.362 L2913.23 245.663 L2917.49 245.663 L2917.49 271.589 L2913.23 271.589 L2913.23 267.607 Q2911.68 269.968 2909.62 271.126 Q2907.58 272.26 2904.87 272.26 Q2900.41 272.26 2898.09 269.482 Q2895.78 266.704 2895.78 261.357 M2906.49 245.038 L2906.49 245.038 Z\" fill=\"#000000\" fill-rule=\"nonzero\" fill-opacity=\"1\" /><path clip-path=\"url(#clip800)\" d=\"M2930.48 238.302 L2930.48 245.663 L2939.25 245.663 L2939.25 248.973 L2930.48 248.973 L2930.48 263.047 Q2930.48 266.218 2931.33 267.121 Q2932.21 268.024 2934.87 268.024 L2939.25 268.024 L2939.25 271.589 L2934.87 271.589 Q2929.94 271.589 2928.07 269.76 Q2926.19 267.908 2926.19 263.047 L2926.19 248.973 L2923.07 248.973 L2923.07 245.663 L2926.19 245.663 L2926.19 238.302 L2930.48 238.302 Z\" fill=\"#000000\" fill-rule=\"nonzero\" fill-opacity=\"1\" /><path clip-path=\"url(#clip800)\" d=\"M2948.97 267.7 L2948.97 281.45 L2944.69 281.45 L2944.69 245.663 L2948.97 245.663 L2948.97 249.598 Q2950.31 247.283 2952.35 246.172 Q2954.41 245.038 2957.26 245.038 Q2961.98 245.038 2964.92 248.788 Q2967.88 252.538 2967.88 258.649 Q2967.88 264.76 2964.92 268.51 Q2961.98 272.26 2957.26 272.26 Q2954.41 272.26 2952.35 271.149 Q2950.31 270.015 2948.97 267.7 M2963.46 258.649 Q2963.46 253.95 2961.52 251.288 Q2959.6 248.603 2956.22 248.603 Q2952.84 248.603 2950.89 251.288 Q2948.97 253.95 2948.97 258.649 Q2948.97 263.348 2950.89 266.033 Q2952.84 268.695 2956.22 268.695 Q2959.6 268.695 2961.52 266.033 Q2963.46 263.348 2963.46 258.649 Z\" fill=\"#000000\" fill-rule=\"nonzero\" fill-opacity=\"1\" /><path clip-path=\"url(#clip800)\" d=\"M2974.5 261.357 L2974.5 245.663 L2978.76 245.663 L2978.76 261.195 Q2978.76 264.876 2980.2 266.728 Q2981.63 268.556 2984.5 268.556 Q2987.95 268.556 2989.94 266.357 Q2991.96 264.158 2991.96 260.362 L2991.96 245.663 L2996.22 245.663 L2996.22 271.589 L2991.96 271.589 L2991.96 267.607 Q2990.41 269.968 2988.35 271.126 Q2986.31 272.26 2983.6 272.26 Q2979.13 272.26 2976.82 269.482 Q2974.5 266.704 2974.5 261.357 M2985.22 245.038 L2985.22 245.038 Z\" fill=\"#000000\" fill-rule=\"nonzero\" fill-opacity=\"1\" /><path clip-path=\"url(#clip800)\" d=\"M3009.2 238.302 L3009.2 245.663 L3017.97 245.663 L3017.97 248.973 L3009.2 248.973 L3009.2 263.047 Q3009.2 266.218 3010.06 267.121 Q3010.94 268.024 3013.6 268.024 L3017.97 268.024 L3017.97 271.589 L3013.6 271.589 Q3008.67 271.589 3006.79 269.76 Q3004.92 267.908 3004.92 263.047 L3004.92 248.973 L3001.79 248.973 L3001.79 245.663 L3004.92 245.663 L3004.92 238.302 L3009.2 238.302 Z\" fill=\"#000000\" fill-rule=\"nonzero\" fill-opacity=\"1\" /><polyline clip-path=\"url(#clip800)\" style=\"stroke:#008000; stroke-linecap:round; stroke-linejoin:round; stroke-width:8; stroke-opacity:0.75; fill:none\" points=\"2504.68,306.149 2706.85,306.149 \"/>\n",
       "<path clip-path=\"url(#clip800)\" d=\"M2744.83 319.54 L2744.83 333.29 L2740.55 333.29 L2740.55 297.503 L2744.83 297.503 L2744.83 301.438 Q2746.17 299.123 2748.21 298.012 Q2750.27 296.878 2753.11 296.878 Q2757.84 296.878 2760.78 300.628 Q2763.74 304.378 2763.74 310.489 Q2763.74 316.6 2760.78 320.35 Q2757.84 324.1 2753.11 324.1 Q2750.27 324.1 2748.21 322.989 Q2746.17 321.855 2744.83 319.54 M2759.32 310.489 Q2759.32 305.79 2757.37 303.128 Q2755.45 300.443 2752.07 300.443 Q2748.69 300.443 2746.75 303.128 Q2744.83 305.79 2744.83 310.489 Q2744.83 315.188 2746.75 317.873 Q2748.69 320.535 2752.07 320.535 Q2755.45 320.535 2757.37 317.873 Q2759.32 315.188 2759.32 310.489 Z\" fill=\"#000000\" fill-rule=\"nonzero\" fill-opacity=\"1\" /><path clip-path=\"url(#clip800)\" d=\"M2785.82 301.484 Q2785.11 301.068 2784.25 300.882 Q2783.42 300.674 2782.4 300.674 Q2778.79 300.674 2776.84 303.035 Q2774.92 305.373 2774.92 309.771 L2774.92 323.429 L2770.64 323.429 L2770.64 297.503 L2774.92 297.503 L2774.92 301.531 Q2776.26 299.17 2778.42 298.035 Q2780.57 296.878 2783.65 296.878 Q2784.09 296.878 2784.62 296.947 Q2785.15 296.994 2785.8 297.109 L2785.82 301.484 Z\" fill=\"#000000\" fill-rule=\"nonzero\" fill-opacity=\"1\" /><path clip-path=\"url(#clip800)\" d=\"M2790.29 297.503 L2794.55 297.503 L2794.55 323.429 L2790.29 323.429 L2790.29 297.503 M2790.29 287.41 L2794.55 287.41 L2794.55 292.804 L2790.29 292.804 L2790.29 287.41 Z\" fill=\"#000000\" fill-rule=\"nonzero\" fill-opacity=\"1\" /><path clip-path=\"url(#clip800)\" d=\"M2822.12 298.498 L2822.12 302.48 Q2820.31 301.484 2818.48 300.998 Q2816.68 300.489 2814.83 300.489 Q2810.68 300.489 2808.39 303.128 Q2806.1 305.744 2806.1 310.489 Q2806.1 315.234 2808.39 317.873 Q2810.68 320.489 2814.83 320.489 Q2816.68 320.489 2818.48 320.003 Q2820.31 319.493 2822.12 318.498 L2822.12 322.433 Q2820.34 323.267 2818.42 323.683 Q2816.52 324.1 2814.36 324.1 Q2808.51 324.1 2805.06 320.419 Q2801.61 316.739 2801.61 310.489 Q2801.61 304.146 2805.08 300.512 Q2808.58 296.878 2814.64 296.878 Q2816.61 296.878 2818.48 297.295 Q2820.36 297.688 2822.12 298.498 Z\" fill=\"#000000\" fill-rule=\"nonzero\" fill-opacity=\"1\" /><path clip-path=\"url(#clip800)\" d=\"M2851.7 309.401 L2851.7 311.484 L2832.12 311.484 Q2832.4 315.882 2834.76 318.197 Q2837.14 320.489 2841.38 320.489 Q2843.83 320.489 2846.12 319.887 Q2848.44 319.285 2850.71 318.081 L2850.71 322.109 Q2848.42 323.081 2846.01 323.591 Q2843.6 324.1 2841.12 324.1 Q2834.92 324.1 2831.29 320.489 Q2827.67 316.878 2827.67 310.72 Q2827.67 304.355 2831.1 300.628 Q2834.55 296.878 2840.38 296.878 Q2845.61 296.878 2848.65 300.257 Q2851.7 303.614 2851.7 309.401 M2847.44 308.151 Q2847.4 304.656 2845.48 302.572 Q2843.58 300.489 2840.43 300.489 Q2836.86 300.489 2834.71 302.503 Q2832.58 304.517 2832.26 308.174 L2847.44 308.151 Z\" fill=\"#000000\" fill-rule=\"nonzero\" fill-opacity=\"1\" /></svg>\n"
      ],
      "text/html": [
       "<img src=\"data:image/png;base64,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\" />"
      ]
     },
     "execution_count": 5,
     "metadata": {},
     "output_type": "execute_result"
    }
   ],
   "source": [
    "using LaTeXStrings, Plots\n",
    "gr(size=(800, 600), html_output_format=:png)\n",
    "\n",
    "\n",
    "AF = A - B1 * F1 - B2 * F2\n",
    "n = 20\n",
    "x = zeros(3, n)\n",
    "x[:, 1] = [1 1 1]\n",
    "for t in 1:n-1\n",
    "    x[:, t+1] = AF * x[:, t]\n",
    "end\n",
    "q1 = x[2, :]\n",
    "q2 = x[3, :]\n",
    "q = q1 + q2         # total output, MPE\n",
    "p = a0 .- a1 * q     # price, MPE\n",
    "\n",
    "plt = plot(q, color=:blue, lw=2, alpha=0.75, label=\"total output\")\n",
    "plot!(plt, p, color=:green, lw=2, alpha=0.75, label=\"price\")\n",
    "plot!(plt, title=\"Output and prices, duopoly MPE\")"
   ]
  },
  {
   "cell_type": "markdown",
   "id": "3329a57d",
   "metadata": {
    "editable": true,
    "slideshow": {
     "slide_type": "subslide"
    },
    "tags": []
   },
   "source": [
    "Note that the initial condition has been set to $ q_{10} = q_{20} = 1.0 $.\n",
    "\n",
    "To gain some perspective we can compare this to what happens in the monopoly case.\n",
    "\n",
    "The first panel in the next figure compares output of the monopolist and industry output under the MPE, as a function of time.\n",
    "\n",
    "The second panel shows analogous curves for price\n",
    "\n",
    "\n",
    "<a id='mpe-vs-monopolist'></a>\n",
    "![https://julia.quantecon.org/_static/figures/mpe_vs_monopolist.png](https://julia.quantecon.org/_static/figures/mpe_vs_monopolist.png)\n",
    "\n",
    "  \n",
    "Here parameters are the same as above for both the MPE and monopoly solutions.\n",
    "\n",
    "The monopolist initial condition is $ q_0 = 2.0 $ to mimic the industry initial condition $ q_{10} = q_{20} = 1.0 $ in the MPE case.\n",
    "\n",
    "As expected, output is higher and prices are lower under duopoly than monopoly."
   ]
  },
  {
   "cell_type": "markdown",
   "id": "d5ba6e88",
   "metadata": {
    "editable": true,
    "slideshow": {
     "slide_type": "slide"
    },
    "tags": []
   },
   "source": [
    "## Exercises"
   ]
  },
  {
   "cell_type": "markdown",
   "id": "4c3fa3b6",
   "metadata": {
    "editable": true,
    "slideshow": {
     "slide_type": ""
    },
    "tags": []
   },
   "source": [
    "### Exercise 1\n",
    "\n",
    "Replicate the [pair of figures](#mpe-vs-monopolist) showing the comparison of output and prices for the monopolist and duopoly under MPE.\n",
    "\n",
    "Parameters are as in duopoly_mpe.jl and you can use that code to compute MPE policies under duopoly.\n",
    "\n",
    "The optimal policy in the monopolist case can be computed using [QuantEcon.jl](http://quantecon.org/quantecon-jl)’s LQ type."
   ]
  },
  {
   "cell_type": "markdown",
   "id": "7e07cc16-f8a5-4a50-9be8-740d0bfe1a0e",
   "metadata": {
    "editable": true,
    "slideshow": {
     "slide_type": "subslide"
    },
    "tags": []
   },
   "source": [
    "### Exercise 2\n",
    "\n",
    "In this exercise we consider a slightly more sophisticated duopoly problem.\n",
    "\n",
    "It takes the form of infinite horizon linear quadratic game proposed by Judd [[Jud90](https://julia.quantecon.org/../zreferences.html#id95)].\n",
    "\n",
    "Two firms set prices and quantities of two goods interrelated through their demand curves.\n",
    "\n",
    "Relevant variables are defined as follows:\n",
    "\n",
    "- $ I_{it} $ = inventories of firm $ i $ at beginning of $ t $  \n",
    "- $ q_{it} $ = production of firm $ i $ during period $ t $  \n",
    "- $ p_{it} $ = price charged by firm $ i $ during period $ t $  \n",
    "- $ S_{it} $ = sales made by firm $ i $ during period $ t $  \n",
    "- $ E_{it} $ = costs of production of firm $ i $ during period $ t $  \n",
    "- $ C_{it} $ = costs of carrying inventories for firm $ i $ during $ t $  \n",
    "\n",
    "\n",
    "The firms’ cost functions are\n",
    "\n",
    "- $ C_{it} = c_{i1} + c_{i2} I_{it} + 0.5 c_{i3} I_{it}^2 $  \n",
    "- $ E_{it} = e_{i1} + e_{i2}q_{it} + 0.5 e_{i3} q_{it}^2 $ where $ e_{ij}, c_{ij} $ are positive scalars  \n",
    "\n",
    "\n",
    "Inventories obey the laws of motion\n",
    "\n",
    "$$\n",
    "I_{i,t+1} = (1 - \\delta)  I_{it} + q_{it} - S_{it}\n",
    "$$\n",
    "\n",
    "Demand is governed by the linear schedule\n",
    "\n",
    "$$\n",
    "S_t = D p_{it} + b\n",
    "$$\n",
    "\n",
    "where\n",
    "\n",
    "- $ S_t = \\begin{bmatrix} S_{1t} & S_{2t} \\end{bmatrix}' $  \n",
    "- $ D $ is a $ 2\\times 2 $ negative definite matrix and  \n",
    "- $ b $ is a vector of constants  \n",
    "\n",
    "\n",
    "Firm $ i $ maximizes the undiscounted sum\n",
    "\n",
    "$$\n",
    "\\lim_{T \\to \\infty}\\ {1 \\over T}\\   \\sum^T_{t=0}\\   \\left( p_{it} S_{it} - E_{it} - C_{it} \\right)\n",
    "$$\n",
    "\n",
    "We can convert this to a linear quadratic problem by taking\n",
    "\n",
    "$$\n",
    "u_{it} =\n",
    "\\begin{bmatrix}\n",
    "    p_{it} \\\\\n",
    "    q_{it}\n",
    "\\end{bmatrix}\n",
    "\\quad \\text{and} \\quad\n",
    "x_t =\n",
    "\\begin{bmatrix}\n",
    "    I_{1t} \\\\\n",
    "    I_{2t} \\\\\n",
    "    1\n",
    "\\end{bmatrix}\n",
    "$$\n",
    "\n",
    "Decision rules for price and quantity take the form $ u_{it} = -F_i  x_t $.\n",
    "\n",
    "The Markov perfect equilibrium of Judd’s model can be computed by filling in the matrices appropriately.\n",
    "\n",
    "The exercise is to calculate these matrices and compute the following figures."
   ]
  },
  {
   "cell_type": "markdown",
   "id": "11021c2a-678a-4197-a8ef-05fac2e7ce8a",
   "metadata": {
    "editable": true,
    "slideshow": {
     "slide_type": "subslide"
    },
    "tags": []
   },
   "source": [
    "The first figure shows the dynamics of inventories for each firm when the parameters are"
   ]
  },
  {
   "cell_type": "code",
   "execution_count": 6,
   "id": "7b71e41d",
   "metadata": {
    "editable": true,
    "hide-output": false,
    "slideshow": {
     "slide_type": ""
    },
    "tags": []
   },
   "outputs": [
    {
     "data": {
      "text/plain": [
       "3-element Vector{Int64}:\n",
       " 10\n",
       " 10\n",
       "  3"
      ]
     },
     "execution_count": 6,
     "metadata": {},
     "output_type": "execute_result"
    }
   ],
   "source": [
    "δ = 0.02\n",
    "D = [ -1  0.5;\n",
    "     0.5   -1]\n",
    "b = [25, 25]\n",
    "c1 = c2 = [1, -2, 1]\n",
    "e1 = e2 = [10, 10, 3]"
   ]
  },
  {
   "cell_type": "markdown",
   "id": "d8f6d82d",
   "metadata": {
    "editable": true,
    "slideshow": {
     "slide_type": ""
    },
    "tags": []
   },
   "source": [
    "![https://julia.quantecon.org/_static/figures/judd_fig2.png](https://julia.quantecon.org/_static/figures/judd_fig2.png)\n",
    "\n",
    "  \n",
    "Inventories trend to a common steady state.\n",
    "\n",
    "If we increase the depreciation rate to $ \\delta = 0.05 $, then we expect steady state inventories to fall.\n",
    "\n",
    "This is indeed the case, as the next figure shows\n",
    "\n",
    "![https://julia.quantecon.org/_static/figures/judd_fig1.png](https://julia.quantecon.org/_static/figures/judd_fig1.png)"
   ]
  }
 ],
 "metadata": {
  "date": 1694412291.2133677,
  "filename": "markov_perf.md",
  "kernelspec": {
   "display_name": "Julia 1.10.4",
   "language": "julia",
   "name": "julia-1.10"
  },
  "language_info": {
   "file_extension": ".jl",
   "mimetype": "application/julia",
   "name": "julia",
   "version": "1.10.4"
  },
  "title": "Markov Perfect Equilibrium"
 },
 "nbformat": 4,
 "nbformat_minor": 5
}

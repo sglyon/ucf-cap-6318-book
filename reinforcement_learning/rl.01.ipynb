{
 "cells": [
  {
   "cell_type": "markdown",
   "metadata": {
    "slideshow": {
     "slide_type": "slide"
    },
    "tags": []
   },
   "source": [
    "# Reinforcement learning, I - the problem\n",
    "\n",
    "**Prerequisites**\n",
    "\n",
    "- Linear Algebra\n",
    "- Statistics and Probability\n",
    "- Dynamic Programming\n",
    "\n",
    "**Outcomes**\n",
    "\n",
    "- Understand the core structure of the reinforcement learning project\n",
    "- See how \"Robot vaccums\" may be an example of RL techiniques\n",
    "- Know the multi-armed bandit problem and see apply the epsilon greedy algorithm to it\n",
    "\n",
    "**References**\n",
    "\n",
    "- Barto & Sutton book (online by authors [here](http://incompleteideas.net/book/the-book.html)) chapters 1-3"
   ]
  },
  {
   "cell_type": "markdown",
   "metadata": {
    "slideshow": {
     "slide_type": "slide"
    },
    "tags": []
   },
   "source": [
    "## Introduction &#x2013; Meet Roomba\n",
    "\n"
   ]
  },
  {
   "cell_type": "code",
   "execution_count": 4,
   "metadata": {},
   "outputs": [
    {
     "data": {
      "image/jpeg": "[encoded data removed]",
      "text/html": [
       "\n",
       "        <iframe\n",
       "            width=\"800\"\n",
       "            height=\"600\"\n",
       "            src=\"https://www.youtube.com/embed/OljPRVMfXW4\"\n",
       "            frameborder=\"0\"\n",
       "            allowfullscreen\n",
       "        ></iframe>\n",
       "        "
      ],
      "text/plain": [
       "<IPython.lib.display.YouTubeVideo at 0x7f69304b02e0>"
      ]
     },
     "execution_count": 4,
     "metadata": {},
     "output_type": "execute_result"
    }
   ],
   "source": [
    "from IPython.display import YouTubeVideo\n",
    "YouTubeVideo(\"OljPRVMfXW4\", width=800, height=600)"
   ]
  },
  {
   "cell_type": "markdown",
   "metadata": {
    "slideshow": {
     "slide_type": "subslide"
    },
    "tags": []
   },
   "source": [
    "### My Roomba: first clean\n",
    "\n",
    "\n",
    "\n",
    "-   Notified me it would take extra long to create a map\n",
    "-   Spent about 4 hours moving a few feet, bumping into something, then\n",
    "    moving a few more feet\n",
    "\n"
   ]
  },
  {
   "cell_type": "markdown",
   "metadata": {
    "slideshow": {
     "slide_type": "subslide"
    },
    "tags": []
   },
   "source": [
    "### One Year Later\n",
    "\n",
    "\n",
    "\n",
    "-   Now Roomba runs in about 2 1/2 hours\n",
    "-   Rarely bumps in to anything\n",
    "-   Cleans automatically on a schedule\n",
    "-   Can clean individual rooms on command\n",
    "-   Learns a new path when we re-arrange furniture\n",
    "\n"
   ]
  },
  {
   "cell_type": "markdown",
   "metadata": {
    "slideshow": {
     "slide_type": "subslide"
    },
    "tags": []
   },
   "source": [
    "### How might Roomba work?\n",
    "\n",
    "\n",
    "\n",
    "-   Roomba first had to `explore` my house\n",
    "    -   To do this, it `acted` by moving to various locations\n",
    "    -   In response to each movement Roomba received a `signal` about its `state`\n",
    "        -   Is it near an object (via cameras)\n",
    "        -   Did it just bump into something (via sensors)\n",
    "    -   After receiving signal, Roomba chose to `act` again\n",
    "-   Then, Roomba can `exploit` the knowledge it gained to achieve it's `goal`\n",
    "    -   The `goal` for Roomba is to clean my house as effectively and\n",
    "        efficiently as possible\n",
    "\n"
   ]
  },
  {
   "cell_type": "markdown",
   "metadata": {
    "slideshow": {
     "slide_type": "subslide"
    },
    "tags": []
   },
   "source": [
    "## What is Reinforcement Learning?\n",
    "\n",
    "\n",
    "\n",
    "-   Reinforcement Learning (RL) is a branch of Computer Science (Machine Learning)\n",
    "    that aims to find algorithms that can learn by doing\n",
    "-   To understand RL, we need to understand:\n",
    "    1.  The RL problem/setting - today\n",
    "    2.  RL algorithms - another day\n",
    "\n"
   ]
  },
  {
   "cell_type": "markdown",
   "metadata": {
    "slideshow": {
     "slide_type": "subslide"
    },
    "tags": []
   },
   "source": [
    "### The Reinforcement Learning Problem\n",
    "\n",
    "-   Time is discrete and indexed by $t$\n",
    "-   At each time step (period) the RL agent observes the state of the\n",
    "    environment: $S_t \\in \\mathcal{S}$\n",
    "-   The agent must choose an action $A_t \\in \\mathcal{A}(S_t)$\n",
    "-   At the start of period $t+1$, the agent gets a reward $R_{t+1} \\in\n",
    "           \\mathbb{R}$\n",
    "    -   Reward depends, perhaps stochastically, on $S_t$ and $A_t$"
   ]
  },
  {
   "cell_type": "markdown",
   "metadata": {
    "slideshow": {
     "slide_type": "subslide"
    },
    "tags": []
   },
   "source": [
    "### Th RL Problem: Objective\n",
    "\n",
    "- The RL agent and its environment give rise to the following sequence of\n",
    "  events: $$S_0, A_0, R_1, S_1, A_1, R_2, S_2, A_2, R_3, \\dots$$\n",
    "- The *goal* of the RL agent is to learn to behave optimally by interacting\n",
    "  with its environment\n",
    "   - Observe $S$, choose $A$, observe $R$... repeat!\n",
    "   - Try to maximize all the $R_t$\n",
    "- More formally: $$\\max_{\\{A_t\\}_t} \\sum_{t=0}^{T} \\beta^t R_t$$\n"
   ]
  },
  {
   "cell_type": "markdown",
   "metadata": {
    "slideshow": {
     "slide_type": "subslide"
    },
    "tags": []
   },
   "source": [
    "### The RL Problem, Illustrated\n",
    "\n",
    "\n",
    "\n",
    "-   The setting for RL can be understood by diagram below (From Barto &\n",
    "    Sutton book)\n",
    "\n",
    "![./rl-setting.png](./rl-setting.png)\n",
    "\n"
   ]
  },
  {
   "cell_type": "markdown",
   "metadata": {
    "slideshow": {
     "slide_type": "subslide"
    },
    "tags": []
   },
   "source": [
    "### Roomba as RL Problem?\n",
    "\n",
    "- We can think of Roomba as an RL agent\n",
    "- Each moment in time it receives signals from its sensors ($S_t$)\n",
    "- It chooses whether to turn, slow down, speed up, etc. ($A_t$)\n",
    "- Reward $R_{t+1}$ might be:\n",
    "    - Collision status\n",
    "    - Percentage of job complete\n",
    "- Note: Roomba was almost certainly programmed more deliberately than this,\n",
    "    but it is fun to think about!\n",
    "\n"
   ]
  },
  {
   "cell_type": "markdown",
   "metadata": {
    "slideshow": {
     "slide_type": "subslide"
    },
    "tags": []
   },
   "source": [
    "### Challenges in RL\n",
    "\n",
    "\n",
    "\n",
    "-   Solutions to the RL problem share some common challenges and obstacles\n",
    "    -   Exploration vs exploitation: how to both gather information and behave\n",
    "        optimally?\n",
    "    -   Curse of dimensionality: $\\mathcal{S}$ and $\\mathcal{A}$ can be very\n",
    "        large (example: self driving cars)\n",
    "    -   Time delays: perhaps actions in $t$ don't impact rewards until $t+N$\n",
    "        (example: exercise)\n",
    "-   We'll explore the exploration/exploitation tradeoff today\n",
    "\n"
   ]
  },
  {
   "cell_type": "markdown",
   "metadata": {
    "slideshow": {
     "slide_type": "slide"
    },
    "tags": []
   },
   "source": [
    "## Multi-Armed Bandits\n",
    "\n",
    "\n",
    "\n",
    "![./slot-machines.jpg](./slot-machines.jpg)\n",
    "\n"
   ]
  },
  {
   "cell_type": "markdown",
   "metadata": {
    "slideshow": {
     "slide_type": "subslide"
    },
    "tags": []
   },
   "source": [
    "### What is a Bandit?\n",
    "\n",
    "\n",
    "\n",
    "-   To build intuition for the properties of RL problems and algorithms, we\n",
    "    will study a classic problem called the Multi-armed bandit\n",
    "-   A bandit is like a slot machine at a Casino\n",
    "    -   You pull the arm and a non-deterministic reward is paid out\n",
    "-   A multi-armed bandit is like a row of slot machines\n",
    "    -   Each machine or \"bandit\" has a fixed, but distinct and unknown\n",
    "        distribution of payoffs\n",
    "\n"
   ]
  },
  {
   "cell_type": "markdown",
   "metadata": {
    "slideshow": {
     "slide_type": "subslide"
    },
    "tags": []
   },
   "source": [
    "### K-Armed Bandit Problem\n",
    "\n",
    "\n",
    "\n",
    "-   The variation of the multi-armed bandit problem we will study is as follows\n",
    "-   There will be $k \\in [2, 10]$ bandits\n",
    "-   For each bandit $i = 1, \\dots, k$ we will draw $\\mu_i \\sim U[-3,3]$\n",
    "-   If in time step $t$ the agent selects bandit $i$, we have $R_{t+1}\\sim\n",
    "           N(\\mu_i, 1)$\n",
    "-   The agent is allowed to know this structure (returns are normally\n",
    "    distributed with an $i$ specific mean)\n",
    "\n"
   ]
  },
  {
   "cell_type": "markdown",
   "metadata": {
    "slideshow": {
     "slide_type": "subslide"
    },
    "tags": []
   },
   "source": [
    "### Values\n",
    "\n",
    "-   Let $a \\in \\mathcal{A}$ represent an arbitrary action\n",
    "-   Let $q_{*}: \\mathcal{A} \\Longrightarrow \\mathbb{R}$, such that\n",
    "    $q_{*}(a)$ represents the the value of an RL agent of choosing $a$\n",
    "-   It must be that $$q_{*}(a) \\equiv E[R_{t+1} | A_t = a]$$"
   ]
  },
  {
   "cell_type": "markdown",
   "metadata": {
    "slideshow": {
     "slide_type": "fragment"
    },
    "tags": []
   },
   "source": [
    "-   The agent does not know the value of this expectation, but can approximate it\n",
    "    -   Let $Q_t: \\mathcal{S} \\times \\mathcal{A} \\Longrightarrow \\mathbb{R}$ represent the\n",
    "        agent's approximation for the value function at time $t$: $$Q_t(S_t, a)\n",
    "                 \\equiv E_t[q_{*}(a)] = E_t[R_{t+1} + Q_{t+1}(S_{t+1}, A_{t+1})| A_t =\n",
    "                 a]$$"
   ]
  },
  {
   "cell_type": "markdown",
   "metadata": {
    "slideshow": {
     "slide_type": "subslide"
    },
    "tags": []
   },
   "source": [
    "### Policies\n",
    "\n",
    "\n",
    "\n",
    "-   In RL a policy is a rule that dictates behavior\n",
    "-   Mathematically, a policy is a function: $\\pi_t: \\mathcal{S} \\times\n",
    "           \\mathbb{R} \\Longrightarrow \\mathcal{A}$\n",
    "-   Policies can be **determinsitic**: for each $S, R$ they always map to the\n",
    "    same $A$\n",
    "-   Policies can be **stochastic**: for each $S, R$ they map to a probability\n",
    "    distribution over $\\mathcal{A}$\n",
    "-   Policies can be **greedy**: select the action that maximizes $E_t[R_{t+1} | S_t, A_t]$\n",
    "\n"
   ]
  },
  {
   "cell_type": "markdown",
   "metadata": {
    "slideshow": {
     "slide_type": "subslide"
    },
    "tags": []
   },
   "source": [
    "### $\\epsilon$ -Greedy Policies\n",
    "\n",
    "\n",
    "\n",
    "-   When playing a greedy policy, the RL agent chooses to forgo `exploration`\n",
    "    of the environment and `exploit` knowledge previously obtained\n",
    "-   This can be optimal, but only when the agent knows the best action\n",
    "-   When there is uncertainty about payoffs, it pays to explore, sometimes\n",
    "-   One way to handle the explore-exploit tradeoff is to use an\n",
    "    $\\epsilon$ -greedy policy\n",
    "    -   With probability $1-\\epsilon$ select a random action, with equal weights\n",
    "    -   With probability $\\epsilon$ select the action you believe is best\n",
    "\n"
   ]
  },
  {
   "cell_type": "markdown",
   "metadata": {
    "slideshow": {
     "slide_type": "subslide"
    },
    "tags": []
   },
   "source": [
    "\n",
    "### Application to Bandit Problem\n",
    "\n",
    "See interactive example [here](https://sglyon.github.io/bandits/)\n"
   ]
  },
  {
   "cell_type": "code",
   "execution_count": null,
   "metadata": {},
   "outputs": [],
   "source": []
  }
 ],
 "metadata": {
  "celltoolbar": "Slideshow",
  "kernelspec": {
   "display_name": "cap-6318",
   "language": "python",
   "name": "python3"
  },
  "language_info": {
   "codemirror_mode": {
    "name": "ipython",
    "version": 3
   },
   "file_extension": ".py",
   "mimetype": "text/x-python",
   "name": "python",
   "nbconvert_exporter": "python",
   "pygments_lexer": "ipython3",
   "version": "3.12.5"
  },
  "org": null
 },
 "nbformat": 4,
 "nbformat_minor": 4
}

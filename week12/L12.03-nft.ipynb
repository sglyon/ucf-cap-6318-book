{
 "cells": [
  {
   "cell_type": "markdown",
   "id": "b13f98fc",
   "metadata": {
    "slideshow": {
     "slide_type": "slide"
    },
    "tags": []
   },
   "source": [
    "# NFTs: Asset Ownership on Blockchain\n",
    "\n",
    "> Computational Analysis of Social Complexity\n",
    "\n",
    "\n",
    "**Prerequisites**\n",
    "\n",
    "- Intro to Blockchain\n",
    "- Ethereum: Blockchain 2.0\n",
    "\n",
    "**Outcomes**\n",
    "\n",
    "- Be able to explain meaning of NFT to a friend or family member\n",
    "- Understand the key features of the ERC-721 token standard\n",
    "- See example of creating an NFT commemorating completion of course (free for you to claim ;) )\n",
    "\n",
    "**References**\n",
    "\n",
    "- https://medium.com/@Andrew.Steinwold/the-history-of-non-fungible-tokens-nfts-f362ca57ae10\n",
    "- https://www.youtube.com/watch?v=z8MCevWETm4\n",
    "- https://eips.ethereum.org/EIPS/eip-721\n",
    "- https://docs.openzeppelin.com/contracts/2.x/api/token/erc721\n",
    "- https://solana.com/"
   ]
  },
  {
   "cell_type": "markdown",
   "id": "780840c5",
   "metadata": {
    "slideshow": {
     "slide_type": "slide"
    },
    "tags": []
   },
   "source": [
    "## Review: Blockchains, Smart contracts, and Tokens\n",
    "\n",
    "- Over the past few weeks we have learned quite a bit about blockchains and cryptocurrencies\n",
    "- A blockchain is a decentralized, distributed, public ledger\n",
    "    - Primary application: means of recording transfers of crypto currencies (e.g. BTC)\n",
    "- Smart contracts as we know them today started with Ethereum\n",
    "    - Use blockchain to store and execute computer programs\n",
    "    - Transactions can now include arbitrary logic... *unlimited* potential\n",
    "- Standards have been developed to allow smart contracts to interact with one another\n",
    "    - The ERC-20 standard defines what it means to be a \"token\"\n",
    "    - There are tens of thousands of tokens on the Ethereum blockchain today (Nov. 2021)\n",
    "- We learned about decentralized finance (Defi)\n",
    "    - Systems of smart contracts implement financial primitives (trading, borrowing, insurance, lending, etc.) \n",
    "    - These systems operate on the ERC-20 standard, making them composable and flexible\n",
    "    - Opportunity to define arbitrary financial systems (\"I wrote financial systems into existence\" Hamilton)\n",
    "- Today we learn about NFTs..."
   ]
  },
  {
   "cell_type": "markdown",
   "id": "fe94a087-7109-46b8-87f9-da4f4c1a3f4f",
   "metadata": {
    "slideshow": {
     "slide_type": "subslide"
    },
    "tags": []
   },
   "source": [
    "## NFT??\n",
    "\n",
    "- NFT stands for **non-fungible token**\n",
    "- Two parts:\n",
    "    1. Token: we learned last week... backed by smart contract and can be secured/transferred on blockchain\n",
    "    1. Non-fungible: adjective meaning cannot be copied, divided, or replaced with something else\n",
    "- Recall what the USDC token looks like:\n",
    "    - name: `USD Coin`\n",
    "    - symbol: `USDC`\n",
    "    - decimals: 6\n",
    "- This means if you hold one unit of USDC, you have $1e-6\n",
    "- Any single unit of USDC is equivalent to any other unit of USDC. You don't care which one you have"
   ]
  },
  {
   "cell_type": "markdown",
   "id": "c0579094-16df-4621-8314-116893d40f08",
   "metadata": {
    "slideshow": {
     "slide_type": "subslide"
    },
    "tags": []
   },
   "source": [
    "### NFT Use Cases\n",
    "\n",
    "- Art and collectables: [Music by Timbaland](https://decrypt.co/84531/timbaland-ethereum-music-nfts-you-can-remix), [OpenSea Gallary](https://opensea.io/collection/art), [Audius](https://audius.co/)\n",
    "- Video Games: [Sandbox](https://www.sandbox.game/en/), [AxieInfinity](https://axieinfinity.com/), [Decentraland](https://decentraland.org/), [Gala](https://app.gala.games/), [Gods Unchained](https://godsunchained.com/)\n",
    "- Ownership of Physical goods: car title, home deed, company ownership\n",
    "- Defi applications: [Liquidity provider positions on Uniswap V3](https://uniswap.org/whitepaper-v3.pdf), smart wallets, debt positions"
   ]
  },
  {
   "cell_type": "markdown",
   "id": "02f42e1a-06dc-4175-bb60-44b5028ef6f0",
   "metadata": {
    "slideshow": {
     "slide_type": "subslide"
    },
    "tags": []
   },
   "source": [
    "### History\n",
    "\n",
    "- There is some debate about where the idea of NFTs on a blockchain originated\n",
    "- Some key projects that really brought them into the mainstream are:\n",
    "    - Cryptopunks (early 2017): 10,000 unique, but randomly generated \"pixel art\" images\n",
    "    - Cryptokitties (late 2017): buy, breed, sell game that nearly brought ethereum to a halt (caused increase in gas limit)\n",
    "    - Creation of many NFT platforms (2018-present): [OpenSea](https://opensea.io/), [SuperRare](https://superrare.com), [Rarible](https://rarible.com), [Solanart](https://solanart.io)\n",
    "    - ERC-721 (January 2018): proposal for formal standard/interface for NFTs on Ethereum\n",
    "    - Beeple's NFT (early 2021): images from 5,000 days that sold for over $69 million in auction at Christie's auction house"
   ]
  },
  {
   "cell_type": "markdown",
   "id": "2a03947f-8ddf-4b2e-8247-4cce76b0a65a",
   "metadata": {
    "slideshow": {
     "slide_type": "slide"
    },
    "tags": []
   },
   "source": [
    "## How it works: ERC-721\n",
    "\n",
    "- The key interface for describing NFTs\n",
    "- Too much code to put here, so we'll review key concepts and then check out [OpenZeppelin docs](https://docs.openzeppelin.com/contracts/4.x/api/token/erc721#ERC721) on ERC-721\n",
    "- Key ideas:\n",
    "    - NFTS are *grouped* into a single smart contract and *referenced* by an integer index `tokenId`\n",
    "    - Each NFT is owned by exactly one address\n",
    "    - The address (owner) must approve any other entity to be able to handle the NFT\n",
    "    - Only one non-owner can be approved at a time\n",
    "    - If recipient of transfer doesn't know how to handle NFTs, could be lost forever... use `safeTransferFrom` instead of `transferFrom`\n",
    "    - Extensions to core standard allow associating metadata (images, files, movies, etc.) with token"
   ]
  },
  {
   "cell_type": "markdown",
   "id": "890e4e3c-a367-4eb8-b2c3-2aafac7eb035",
   "metadata": {
    "slideshow": {
     "slide_type": "subslide"
    },
    "tags": []
   },
   "source": [
    "### High Gas fees\n",
    "\n",
    "- At times the ethereum blockchain can be very **busy**\n",
    "- This results in high transaction (gas) fees for doing operations like deploying an ERC-721 smart contract or selling/transferring NFTs\n",
    "- There are a few ways around this issue:\n",
    "    - Wait for gas fees to be low\n",
    "    - Use a \"Layer 2\" solution (see next slide)\n",
    "    - Use an alternative blockchain: Solana is currently (Nov. 2022) next most popular for NFTs (see subsequent slides)"
   ]
  },
  {
   "cell_type": "markdown",
   "id": "5ad48e85-419d-4b54-b6ac-d1ad8cb30242",
   "metadata": {
    "slideshow": {
     "slide_type": "slide"
    },
    "tags": []
   },
   "source": [
    "## Layer 2\n",
    "\n",
    "- The popularity of the Ethereum blockchain has led to high demand for block space and, as a result, high gas fees\n",
    "- Since Ethereum was publically released there have been various advancements in theory and technology that allow for lower fees and higher throughput, without sacrificing security\n",
    "    - Optimistic Rollups\n",
    "    - Zero knowledge proofs\n",
    "    - Zero knowledge rollups: \n",
    "    - Proof of Stake: no need for high mining reward to offset costs for miners' energy use\n",
    "- [Video here](https://www.youtube.com/watch?v=7pWxCklcNsU&t=2s)\n",
    "- Disclaimer: this space is new and rapdily evolving -- I don't have all the answers!"
   ]
  },
  {
   "cell_type": "markdown",
   "id": "a71017bf-aa04-4929-9b27-f3f7b16b8642",
   "metadata": {
    "slideshow": {
     "slide_type": "slide"
    },
    "tags": []
   },
   "source": [
    "## Alternative Chains: Solana\n",
    "\n",
    "- Solana is branded as an \"ethereum killer\"\n",
    "- It is an entirely new blockchain built on cutting edge technology\n",
    "- Currently at over 2000 TPS, but with the capacity to increase that at least two orders of magnitude\n",
    "- Transaction costs are very low (average less than $0.00025)\n",
    "- Actively growing ecosystem of dapps in the Defi and NFT spaces"
   ]
  },
  {
   "cell_type": "markdown",
   "id": "aa2f2e5f-c62f-4a20-817a-17466d6fbbf5",
   "metadata": {
    "slideshow": {
     "slide_type": "slide"
    },
    "tags": []
   },
   "source": [
    "## Example: Class Badge\n",
    "\n",
    "- Let's close out our semester by creating some NFTs!\n",
    "- Goal: create an NFT signifying successful completion of the course\n",
    "- Steps:\n",
    "    - Google Chrome (or [Brave](https://brave.com/))\n",
    "    - Metamask wallet browser extension: https://chrome.google.com/webstore/detail/metamask/nkbihfbeogaeaoehlefnkodbefgpgknn?hl=en\n",
    "    - Add polygon network: https://docs.polygon.technology/docs/develop/metamask/config-polygon-on-metamask/\n",
    "    - Create logo: https://looka.com/\n",
    "    - Create NFT on [opensea](https://opensea.io)\n",
    "    - Claim NFT after we create it (or send me your wallet address and I'll send it to you!)"
   ]
  },
  {
   "cell_type": "markdown",
   "id": "b39c7063-1a22-4902-b055-4c000c038279",
   "metadata": {
    "slideshow": {
     "slide_type": "slide"
    },
    "tags": []
   },
   "source": [
    "## Summary\n",
    "\n",
    "- Thank you for being in the class\n",
    "- Second run through -- some rough edges, but hopefully we all learned\n",
    "- Julia is a very powerful and growing language for doing computational work -- it will be worthwhile in your data careers to know it\n",
    "- Topics such as graph theory, game theory, and auction theory can be applied in a wide variety of settings\n",
    "- Blockchain is a perfect blend of those tools + programming + data\n",
    "    - Prime example of applied \"computational analysis of social complexity\"\n",
    "    - *If* blockchain succeeds at becoming infrastructure for future finance + web (not a given, but very possible) you will benefit from being \"early\""
   ]
  },
  {
   "cell_type": "code",
   "execution_count": null,
   "id": "18d2c5bf-5b16-449c-92fa-c4974b810c02",
   "metadata": {},
   "outputs": [],
   "source": []
  }
 ],
 "metadata": {
  "kernelspec": {
   "display_name": "Julia 1.10.4",
   "language": "julia",
   "name": "julia-1.10"
  },
  "language_info": {
   "file_extension": ".jl",
   "mimetype": "application/julia",
   "name": "julia",
   "version": "1.10.4"
  }
 },
 "nbformat": 4,
 "nbformat_minor": 5
}

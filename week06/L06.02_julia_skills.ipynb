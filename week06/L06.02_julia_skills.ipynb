{
  "cells": [
    {
      "cell_type": "markdown",
      "metadata": {
        "slideshow": {
          "slide_type": "slide"
        }
      },
      "source": [
        "# Julia Skills\n",
        "\n",
        "> Computational Analysis of Social Complexity\n",
        ">\n",
        "> Spencer Lyon\n",
        "\n",
        "**Prerequisites**\n",
        "\n",
        "- None\n",
        "\n",
        "**Outcomes**\n",
        "\n",
        "- Remember how to define custom structs in Julia\n",
        "- Learn to use the Julia REPL\n",
        "- Learn how to create a custom Julia environment for a project"
      ]
    },
    {
      "cell_type": "markdown",
      "metadata": {
        "slideshow": {
          "slide_type": "slide"
        }
      },
      "source": [
        "# ABMs in Julia\n",
        "\n",
        "- We will be defining agent based models in Julia\n",
        "- Do do this, we need to remember/review a few concepts:\n",
        "    1. Types in Julia\n",
        "    2. Evaluating code in REPL\n",
        "    3. Packages and environments"
      ]
    },
    {
      "cell_type": "markdown",
      "metadata": {
        "slideshow": {
          "slide_type": "slide"
        }
      },
      "source": [
        "## Review: Julia Types\n",
        "\n",
        "- Recall how to define a composite type in Julia\n",
        "```julia\n",
        "mutable struct NAME <: ABSTRACT_PARENT\n",
        "   FIELDS\n",
        "end\n",
        "```\n",
        "- Note including `mutable` allows us to change fields after creating an object (important for today's application)\n",
        "- We can define new methods for an existing function for our type: `isint(::NAME) = false`"
      ]
    },
    {
      "cell_type": "markdown",
      "metadata": {
        "slideshow": {
          "slide_type": "slide"
        }
      },
      "source": [
        "# Running Julia Code\n",
        "\n",
        "- So far we've been running our Julia programs in Jupyter\n",
        "- This is an extra execution environment we added to our Julia installation\n",
        "- The default way to run Julia is in the REPL (Read-Eval-Print-Loop)\n"
      ]
    },
    {
      "cell_type": "markdown",
      "metadata": {
        "slideshow": {
          "slide_type": "subslide"
        }
      },
      "source": [
        "## REPL\n",
        "\n",
        "- The REPL typically started either by typing `julia` in a terminal or by clicking on the Julia icon in your Applications list\n",
        "- Once staretd, we will see a prompt `julia>` where we can enter Julia code\n",
        "- If we enter code and press `Enter`, the REPL will evaluate the code and print the result"
      ]
    },
    {
      "cell_type": "markdown",
      "metadata": {
        "slideshow": {
          "slide_type": "subslide"
        }
      },
      "source": [
        "## REPL Modes\n",
        "\n",
        "- The REPL has a few modes:\n",
        "    1. Default `julia>` mode: this is where we run Julia code and see output\n",
        "    2. `shell>` mode: here we can interact with underlying shell/terminal. We activate shell mode with `;`\n",
        "    3. `help?>` mode: here we can get help on Julia functions. We activate help mode with `?`\n",
        "    4. `pkg>` mode: here we can interact with Julia packages. We activate pkg mode with `]`"
      ]
    },
    {
      "cell_type": "markdown",
      "metadata": {
        "slideshow": {
          "slide_type": "slide"
        }
      },
      "source": [
        "# Packages\n",
        "\n",
        "- Julia code is structured into packages\n",
        "- Packages fulfill a few roles\n",
        "    1. Allow library developers to group+distributed related types and functions\n",
        "    2. Allow application developers to create an isolated environment for an application\n",
        "- So far, we have used packages in the first context above: DataFrames.jl, Graphs.jl, and CSV.jl\n",
        "- Today we will introduce the second one..."
      ]
    },
    {
      "cell_type": "markdown",
      "metadata": {
        "slideshow": {
          "slide_type": "subslide"
        }
      },
      "source": [
        "## Environments\n",
        "\n",
        "- Any folder on your computer can be an environment for a Julia package/application\n",
        "- If a directory has a `Project.toml` file with appropriate contents, it is a Julia environment\n",
        "- Today we will use htis feature to create an isolated environment for our ABM to make sure we have the right versions of the right packages installedm"
      ]
    },
    {
      "cell_type": "markdown",
      "metadata": {
        "slideshow": {
          "slide_type": "subslide"
        }
      },
      "source": [
        "## Create a new environment\n",
        "\n",
        "- To create a new environment, you do the following:\n",
        "    1. Start Julia in the directory you wish to make into an environment (or use shell mode -- `;` -- to move there)\n",
        "    2. Enter package mode by pressing `]`\n",
        "    3. Enter `activate .` to create a new environment in the current directory\n",
        "    4. While in package mode use `add XXX` to add packages to the environment\n",
        "- Julia will record all the packages you request as well as their versions\n",
        "- Other users can then use `] activate .` followed by `instantiate` to install the same packages and versions"
      ]
    }
  ],
  "metadata": {
    "kernelspec": {
      "display_name": "Julia 1.10.4",
      "language": "julia",
      "name": "julia-1.10"
    },
    "language_info": {
      "file_extension": ".jl",
      "mimetype": "application/julia",
      "name": "julia",
      "version": "1.10.4"
    },
    "vscode": {
      "interpreter": {
        "hash": "9c34f8300255a89503f4189d280ab6e13ebb06f781e83b0937e65d49b3ce033c"
      }
    }
  },
  "nbformat": 4,
  "nbformat_minor": 4
}
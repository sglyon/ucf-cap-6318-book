{
 "cells": [
  {
   "cell_type": "markdown",
   "id": "b13f98fc",
   "metadata": {
    "slideshow": {
     "slide_type": "slide"
    },
    "tags": []
   },
   "source": [
    "# Ethereum: Blockchain 2.0\n",
    "\n",
    "> Computational Analysis of Social Complexity\n",
    "\n",
    "\n",
    "**Prerequisites**\n",
    "\n",
    "- Intro to Blockchain\n",
    "\n",
    "**Outcomes**\n",
    "\n",
    "- Recall the key components of the Bitcoin blockchain\n",
    "- Understand the key features of a finite state machine\n",
    "- Understand the additional features Ethereum brought to the blockchain\n",
    "- Code up some sample smart contracts\n",
    "\n",
    "**References**\n",
    "\n",
    "- https://ethereum.org/en/whitepaper/\n",
    "- https://coinsul.io/learn/smartContracts\n",
    "- https://coinsul.io/learn/erc20"
   ]
  },
  {
   "cell_type": "markdown",
   "id": "4d1e976f-190f-4b13-b125-15071ac83b5e",
   "metadata": {
    "slideshow": {
     "slide_type": "slide"
    },
    "tags": []
   },
   "source": [
    "## Review: What is a Blockchain?\n",
    "\n",
    "- A blockchain is a **decentralized distributed ledger**:\n",
    "    - Ledger: record of financial transactions\n",
    "    - Distributed: full copies of ledger stored on multiple (all) nodes\n",
    "    - Decentralized: no single point of trust, control, or failure for network"
   ]
  },
  {
   "cell_type": "markdown",
   "id": "68db3c97-63ec-4e18-a737-0f20fbf41494",
   "metadata": {
    "slideshow": {
     "slide_type": "subslide"
    },
    "tags": []
   },
   "source": [
    "### Review: How does the Blockchain Work?\n",
    "\n",
    "- Users construct and **sign** transactions\n",
    "- Transactions are **submitted** to nodes (miners)\n",
    "- Nodes collect a bundle of transactions and order them in a **block** and do:\n",
    "    1. **validate** all transactions in block (check fund ownership and **verify** signatures)\n",
    "    2. Find a **proof of work** (PoW -- key to block that produces hash with special properties)\n",
    "-  First miner to find PoW gets BTC as reward, other nodes verify and all move to next block\n",
    "- Hash of block N-1 included in header of block N (any change to historical blocks changes all subsequent hashes and invalidates blocks) ==> block chain/"
   ]
  },
  {
   "cell_type": "markdown",
   "id": "cd7e098d",
   "metadata": {
    "slideshow": {
     "slide_type": "subslide"
    },
    "tags": []
   },
   "source": [
    "### Review: Properties of Blockchain\n",
    "\n",
    "- Trustless: to interact with another individual, I don't have to trust them or any third party\n",
    "- Permissionless: permission can neither be granted nor revoked -- everyone on equal footing in terms of access\n",
    "- Censorship resistant: cannot be manipulated or controlled by any single party or entity"
   ]
  },
  {
   "cell_type": "markdown",
   "id": "cea04e13-72ba-46d3-8967-7dfd4f5bcdbc",
   "metadata": {
    "slideshow": {
     "slide_type": "subslide"
    },
    "tags": []
   },
   "source": [
    "### Review: Issues with Blockchain\n",
    "\n",
    "- PoW requires extreme amount of computation => uses energy => damages environment\n",
    "- Limited throughput\n",
    "- \"Just\" a ledger -- can only record transfers of BTC (with *minor* caveat)"
   ]
  },
  {
   "cell_type": "markdown",
   "id": "92beb24d-f023-4ffa-8a6a-7fffe69cd9a2",
   "metadata": {
    "slideshow": {
     "slide_type": "slide"
    },
    "tags": []
   },
   "source": [
    "## Key Abstraction: State Machine\n",
    "\n",
    "- In computer science, a **state machine** is a system with the following properties\n",
    "    - Can be in exactly one of a (usually finite) number of \"states\" at any time\n",
    "    - Responds to *inputs* to *transition* from one state to another state\n",
    "- Let \n",
    "    - $s$: state of the machine at some moment\n",
    "    - $tx$: an arbitrary set of inputs\n",
    "    - $s'$ the \"next\" state after processing $tx$\n",
    "    - $f(s, tx) = s'$: the transition function that produces the next state ($s'$) given current state ($s$) and an input set ($tx$)"
   ]
  },
  {
   "cell_type": "markdown",
   "id": "296aa4bc-b465-4f10-aef1-557de0931258",
   "metadata": {
    "slideshow": {
     "slide_type": "subslide"
    },
    "tags": []
   },
   "source": [
    "### Bitcoin as State Machine\n",
    "\n",
    "- In a blockchain the state is a record of all unspent transaction outputs (**UTXO**)\n",
    "     - UTXO is a more accurate technical term for \"account balance\". It is ok to think of this as the number of coins held by an account, or their balance\n",
    "- Each transaction modifies the state of the blockchain\n",
    "    - Example: Leslie gives Ron 2.3 BTC results in \n",
    "    ```\n",
    "    0xLeslie000 -= 2.3 BTC\n",
    "    0xRon000000 += 2.3 BTC\n",
    "    ```\n",
    "- The Bitcoin blockchain (mostly) limits the transition function $f$ to modify account balances"
   ]
  },
  {
   "cell_type": "markdown",
   "id": "4d4e54c3-c598-4343-83f7-fc053f65868b",
   "metadata": {
    "slideshow": {
     "slide_type": "subslide"
    },
    "tags": []
   },
   "source": [
    "### Ethereum's Innovation\n",
    "\n",
    "- The Ethereum project took the concept of treating the blockchain as a state machine one step further...\n",
    "    - Each node runs a turing complete virtual machine (called Ethereum virtual machine or EVM)\n",
    "    - Transactions can now encode arbitrary logic, expressed in bytecode of EVM\n",
    "    - Code executed during transaction validation stage\n",
    "    - Makes validation slightly more expensive, but cost is negligible compared to proof of work (which Ethereum still uses)"
   ]
  },
  {
   "cell_type": "markdown",
   "id": "2a1b350e-2806-4cc6-b557-e597838c9c75",
   "metadata": {
    "slideshow": {
     "slide_type": "slide"
    },
    "tags": []
   },
   "source": [
    "## Ethereum: History\n",
    "\n",
    "- [Whitepaper](https://ethereum.org/en/whitepaper/) published in 2013\n",
    "- [Officially launched](https://ethereum.org/en/history/) in 2015\n",
    "- Founded by Vitalik Buterin (considered main founder), Anthony Di Iorio, Charles Hoskinson, Mihai Alisie & Amir Chetrit\n",
    "- Many more people have worked on it\n",
    "- Has been 2nd largest (only bitcoin is biggest) in terms of Market cap for many years\n",
    "- It's coin (Ether, short ETH) is largest cryptocurrency based on settlement value (bigger than BTC)\n",
    "- Home blockchain to many, many projects\n",
    "    - If you add up market cap for ETH + all tokens built on Ethereum, about same size as BTC"
   ]
  },
  {
   "cell_type": "markdown",
   "id": "b67d0afc-e25f-4fc1-b947-8f0fe5d62449",
   "metadata": {
    "slideshow": {
     "slide_type": "slide"
    },
    "tags": []
   },
   "source": [
    "## Smart Contracts\n",
    "\n",
    "- The ethereum blockchain has two types of accounts\n",
    "    1. Externally owned accounts: these are simlar to bitcoin accounts. Held/controlled by a public/private key\n",
    "    2. Contract Accounts (smart contracts): can hold ETH and interact with other accounts, but controlled by contract code\n",
    "- Contracts can receive messages and execute pre-defined instructions in response"
   ]
  },
  {
   "cell_type": "markdown",
   "id": "4084de27-b97e-43fc-af63-381b28cc4650",
   "metadata": {
    "slideshow": {
     "slide_type": "subslide"
    },
    "tags": []
   },
   "source": [
    "### What is a Smart Contract?\n",
    "\n",
    "- I like to think of smart contracts like classes in a programming language\n",
    "- Like a class, a smart contract\n",
    "    - Has a name\n",
    "    - Can be \"instantiated\" (deployed)\n",
    "    - Has properties or data\n",
    "    - Has actions/functions that act on properties and/or externally supplied data at call time\n",
    "- Unlike a class, a smart contract\n",
    "    - Is immutable -- once it is deployed it can't be changed\n",
    "    - Is `payable` (can receive tokens/coins)\n",
    "    - Is stored on the blockchain -- the code defining the contract's functionality is stored as the data field on the contract account"
   ]
  },
  {
   "cell_type": "markdown",
   "id": "5c1700cb-79b7-4dd3-9533-490b18a0a24d",
   "metadata": {
    "slideshow": {
     "slide_type": "subslide"
    },
    "tags": []
   },
   "source": [
    "### Example: Safe Online Purchase\n",
    "\n",
    "- Suppose you would like to purchase a one-of-a-kind piece of art  directly from the artist\n",
    "- Because of COVID-19, this artist does all transactions online\n",
    "- To make the purchase you must trust\n",
    "    1. The payment provider used by the artist\n",
    "    2. The artist to actually deliver the artwork\n",
    "- The typicaly flow of events is:\n",
    "    1. You identify good and send money to payment provider\n",
    "    2. Payment provider gives confirmation of receipt to artist\n",
    "    3. Artist sends you the goods\n",
    "    4. (not necessarily in this order), artist gets money from payment provider"
   ]
  },
  {
   "cell_type": "markdown",
   "id": "e397bcbe-bc6a-4b3f-8883-d30c02195b8a",
   "metadata": {
    "slideshow": {
     "slide_type": "subslide"
    },
    "tags": []
   },
   "source": [
    "### ... continued\n",
    "\n",
    "- Because of the high price, this is a pretty risky transaction\n",
    "- You and the artist agree upon an altered system for how this works\n",
    "- When you decide to purchase an item both you and the artist must send 2x the sale price to the payment provider\n",
    "- Once the payment provider gets all the funds and seller has shipped product, the following happens\n",
    "    - Buyer confirms reciept of goods\n",
    "    - Payment provider sends 1/2 buyer's money to buyer\n",
    "    - Payment provider sends 1/2 buyer's money + all of seller's money to seller\n",
    "- The idea is that both parties have an incentive to complete the transaction, or they forfeit their deposits\n",
    "- This is an improvement, but you now have a lot of trust in payment provider..."
   ]
  },
  {
   "cell_type": "markdown",
   "id": "c60a1299-6f66-48a5-be3c-6019fbfaa023",
   "metadata": {
    "slideshow": {
     "slide_type": "subslide"
    },
    "tags": []
   },
   "source": [
    "### ... continued\n",
    "\n",
    "- You and the artist happen to be programmers\n",
    "- To help the payment provider, you give them the following Julia code to help them fulfill their duties:"
   ]
  },
  {
   "cell_type": "code",
   "execution_count": 2,
   "id": "ed7ad871-bb31-4a94-b0b1-468a1d1b1f92",
   "metadata": {
    "slideshow": {
     "slide_type": "subslide"
    },
    "tags": []
   },
   "outputs": [
    {
     "data": {
      "text/plain": [
       "finalize_transaction"
      ]
     },
     "execution_count": 2,
     "metadata": {},
     "output_type": "execute_result"
    }
   ],
   "source": [
    "@enum PurchaseState begin\n",
    "    Created\n",
    "    Locked\n",
    "    Released\n",
    "    Inactive\n",
    "end\n",
    "\n",
    "mutable struct Purchase\n",
    "    value::Number\n",
    "    buyer_deposit::Int\n",
    "    seller_deposit::Int\n",
    "    good::Any\n",
    "    state::PurchaseState\n",
    "    \n",
    "    # start a new purchase -- initiated\n",
    "    # by buyer sending an initial deposit for the item\n",
    "    function Purchase(buyer_deposit::Int)\n",
    "        new(buyer_deposit/2, buyer_deposit, 0, nothing, Created)\n",
    "    end\n",
    "end\n",
    "\n",
    "\"\"\"\n",
    "Seller confirms purchase and sends their deposit.\n",
    "\n",
    "To be called only by seller!\n",
    "\"\"\"\n",
    "function confirm_purchase(p::Purchase, seller_deposit::Int, good::Any)\n",
    "    # TODO: how to guarantee seller is caller??\n",
    "    \n",
    "    # make sure deposits match\n",
    "    @assert seller_deposit == p.buyer_deposit\n",
    "\n",
    "    # make sure state is created\n",
    "    @assert p.state == Created\n",
    "        \n",
    "    # record deposit\n",
    "    p.seller_deposit = seller_deposit\n",
    "    \n",
    "    # send good\n",
    "    p.good = good\n",
    "    \n",
    "    # note that the state is locked\n",
    "    p.state = Locked\n",
    "end\n",
    "\n",
    "\"\"\"\n",
    "Buyer confirms receipt\n",
    "\n",
    "To be called only by buyer!\n",
    "\"\"\"\n",
    "function confirm_receipt(p::Purchase)\n",
    "    # TODO: how to make sure buyer is caller??\n",
    "    # assert state is locked\n",
    "    @assert p.state == Locked\n",
    "    \n",
    "    # mark good as having been released\n",
    "    p.state = Released\n",
    "     \n",
    "    # send 1/2 deposit back to buyer\n",
    "    p.buyer_deposit -= p.value\n",
    "end\n",
    "\n",
    "\"\"\"\n",
    "Seller gets payment\n",
    "\n",
    "To be called only be seller!\n",
    "\"\"\"\n",
    "function finalize_transaction(p::Purchase)\n",
    "    # TODO: how to make sure seller is caller\n",
    "    @assert p.state == Released\n",
    "    \n",
    "    # send rest of buyer's deposit and all of seller's deposit\n",
    "    p.buyer_deposit -= p.value\n",
    "    p.seller_deposit -= 2*p.value\n",
    "    \n",
    "    p.state = Inactive\n",
    "end"
   ]
  },
  {
   "cell_type": "markdown",
   "id": "b7ea999f-0cfb-4e34-bae4-c47acc736508",
   "metadata": {
    "slideshow": {
     "slide_type": "subslide"
    },
    "tags": []
   },
   "source": [
    "### ... continued\n",
    "\n",
    "- Let's try out our code\n",
    "- Suppose the purchase price is $2,000\n",
    "- The item is a very nice string"
   ]
  },
  {
   "cell_type": "code",
   "execution_count": 3,
   "id": "f38c8632-fd74-48bc-979a-2657a6ed0557",
   "metadata": {
    "slideshow": {
     "slide_type": "subslide"
    },
    "tags": []
   },
   "outputs": [
    {
     "data": {
      "text/plain": [
       "Purchase(2000.0, 4000, 0, nothing, Created)"
      ]
     },
     "execution_count": 3,
     "metadata": {},
     "output_type": "execute_result"
    }
   ],
   "source": [
    "# start transaction with buyer sending $4000 = 2x price\n",
    "item = \"Happy Holidays!\"\n",
    "p = Purchase(4000)\n",
    "p"
   ]
  },
  {
   "cell_type": "code",
   "execution_count": 4,
   "id": "01752cee-feed-4086-b073-c1e46ff69cf6",
   "metadata": {},
   "outputs": [
    {
     "data": {
      "text/plain": [
       "Purchase(2000.0, 4000, 4000, \"Happy Holidays!\", Locked)"
      ]
     },
     "execution_count": 4,
     "metadata": {},
     "output_type": "execute_result"
    }
   ],
   "source": [
    "confirm_purchase(p, 4000, item)\n",
    "p"
   ]
  },
  {
   "cell_type": "code",
   "execution_count": 5,
   "id": "6c66ac03-ce75-4241-b009-782d3c41d94f",
   "metadata": {},
   "outputs": [
    {
     "data": {
      "text/plain": [
       "Purchase(2000.0, 2000, 4000, \"Happy Holidays!\", Released)"
      ]
     },
     "execution_count": 5,
     "metadata": {},
     "output_type": "execute_result"
    }
   ],
   "source": [
    "confirm_receipt(p)\n",
    "p"
   ]
  },
  {
   "cell_type": "code",
   "execution_count": 6,
   "id": "92102fce-faf1-4d1c-b6a5-1071b8fe89f8",
   "metadata": {},
   "outputs": [
    {
     "data": {
      "text/plain": [
       "Purchase(2000.0, 0, 0, \"Happy Holidays!\", Inactive)"
      ]
     },
     "execution_count": 6,
     "metadata": {},
     "output_type": "execute_result"
    }
   ],
   "source": [
    "finalize_transaction(p)\n",
    "p"
   ]
  },
  {
   "cell_type": "markdown",
   "id": "356b3308-e8d3-4fef-a945-0d00e5550bbc",
   "metadata": {
    "slideshow": {
     "slide_type": "subslide"
    },
    "tags": []
   },
   "source": [
    "### ...comments\n",
    "\n",
    "- This code will help the payment provider make sure no operations happen out of sequence\n",
    "    - If seller tries to finalize before buyer confirms receipt, code will throw an error\n",
    "    - If buyer tries to confirm receipt before seller provides good and deposit, code errors\n",
    "    - If anyone tries to do their transaction twice, error\n",
    "- There are still problems with the code\n",
    "    - Some function should only be called by either seller or buyer, but we haven't enforced that\n",
    "    - Code doesn't actualy do value transfer, still trust payment provider to do steps as we agreed"
   ]
  },
  {
   "cell_type": "markdown",
   "id": "d0d96132-2a6b-4985-ba42-f3953cf49fea",
   "metadata": {
    "slideshow": {
     "slide_type": "slide"
    },
    "tags": []
   },
   "source": [
    "### Example: Purchase as Smart Contract\n",
    "\n",
    "- Let's revisit this example, but using a Smart Contract\n",
    "- To do this we will load up a contract I wrote into the [remix IDE](http://remix.ethereum.org) and experiment with it\n",
    "- To follow along\n",
    "    - Open remix using the link above\n",
    "    - On the home screen fin the \"Gist\" button under \"Load From\". Copy/paste the following gist id `3be12cd254272ab7a06e4859a37a8ba2`\n",
    "- Then watch as we work through the contract interactions"
   ]
  },
  {
   "cell_type": "markdown",
   "id": "3eaa6d19-0ded-44aa-ad0a-78dc179569cd",
   "metadata": {
    "slideshow": {
     "slide_type": "subslide"
    },
    "tags": []
   },
   "source": [
    "### Notes\n",
    "\n",
    "- Each time we call a function, we did an ethereum transaction\n",
    "- A transaction receipt contains the hash of the transaction and other helpful information"
   ]
  },
  {
   "cell_type": "markdown",
   "id": "7a56b688-2e2c-4ace-9c64-96b1abb2fc34",
   "metadata": {
    "slideshow": {
     "slide_type": "slide"
    },
    "tags": []
   },
   "source": [
    "### Transaction Data: Events\n",
    "\n",
    "- Contract method calls are transactions with:\n",
    "    - Caller (`msg.sender`)\n",
    "    - Amount of Ether (`msg.value`)\n",
    "    - Inputs (function arguments)\n",
    "    - Outputs (return values)\n",
    "    - Emitted Events\n",
    "- The Event system in Ethereum works as follows:\n",
    "    - Event types are defined within the SmartContract (see `event` keyword in our Purchase.sol contract)\n",
    "        - They have a name, and some parameters\n",
    "    - When contract methods are called, events are `emit`ted\n",
    "    - Emitted events are collected/reported alongside transaction"
   ]
  },
  {
   "cell_type": "markdown",
   "id": "eda4da74-f8c4-4e1f-a83c-b643cbb19bd8",
   "metadata": {
    "slideshow": {
     "slide_type": "subslide"
    },
    "tags": []
   },
   "source": [
    "### Transaction Data: Logs\n",
    "\n",
    "- Whenever an event is emitted from a smart contract, a `log` is created -- there is a 1:1 relationship between emit and log\n",
    "- These logs are the main visibility window into the data passing through contracts\n",
    "- A team building a smart contract system with web-based interface will\n",
    "    - Write contracts to fulfill goals\n",
    "    - Craft event types to capture key semantic data\n",
    "    - Emit events in the smart contract methods\n",
    "    - Process the logs that are generated as users interact with platform\n",
    "    - Display the processed log data in front-end"
   ]
  },
  {
   "cell_type": "markdown",
   "id": "7eedd748-c3e0-4690-b37e-e729c4127fd6",
   "metadata": {
    "slideshow": {
     "slide_type": "subslide"
    },
    "tags": []
   },
   "source": [
    "### Example: Uniswap V3 Info\n",
    "\n",
    "- Uniswap is a smart contract system that allows users to swap one ethereum based token for another one\n",
    "- We'll learn much more about it in a future lecture\n",
    "- For now we'll focus only on a specific type of event: [`Swap`](https://github.com/Uniswap/v3-core/blob/234f27b9bc745eee37491802aa37a0202649e344/contracts/interfaces/pool/IUniswapV3PoolEvents.sol#L64-L80)\n",
    "- The `Swap` event is emitted every time a trade or swap happens on the platform\n",
    "- The Uniswap team uses it to track things like:\n",
    "    - Total number of swaps\n",
    "    - Swaps per user\n",
    "    - Swaps per coin\n",
    "    - Price of coins\n",
    "    - Volume in USD of swaps\n",
    "    - Etc.\n",
    "- We can see all this processed log data on their data dashboard: https://info.uniswap.org/#/"
   ]
  },
  {
   "cell_type": "markdown",
   "id": "046221f0-30df-4143-a62b-1d26dc586fb5",
   "metadata": {
    "slideshow": {
     "slide_type": "subslide"
    },
    "tags": []
   },
   "source": [
    "### Data Sources\n",
    "\n",
    "- There are a few ways to get log data from Ethereum transactions:\n",
    "    1. Access via Ethereum node. This is the ultimate source of truth and will let you access everything. It is also the most technical\n",
    "    2. [TheGraph](https://thegraph.com/en/): project that allows developers to specify how to process log data and creates a data marketplace for data indexing/access\n",
    "    3. Other, private APIs: [Bitquery](https://bitquery.io), [etherscan](https://etherscan.io), [coingecko](https://www.coingecko.com/en), [coinmarketcap](https://coinmarketcap.com/api/), many more..."
   ]
  },
  {
   "cell_type": "markdown",
   "id": "50fb0e56-c3e7-4dc9-a33d-b011563ca91c",
   "metadata": {
    "slideshow": {
     "slide_type": "slide"
    },
    "tags": []
   },
   "source": [
    "## Additional Examples\n",
    "\n",
    "- Below we have a couple more examples of what smart contracts could be used for\n",
    "- This *barely* scratches the surface of what is possible\n",
    "- The goal is to whet your appetite to learn more"
   ]
  },
  {
   "cell_type": "markdown",
   "id": "d44ef05d-3a2f-4be7-9958-073a5c358c3c",
   "metadata": {
    "slideshow": {
     "slide_type": "subslide"
    },
    "tags": []
   },
   "source": [
    "### Example: Escrow\n",
    "\n",
    "- Suppose you want to purchase a home\n",
    "- The typical flow of events includes:\n",
    "    1. Buyer makes an offer\n",
    "    2. Seller accepts\n",
    "    3. Buyer deposits some money into an escrow account\n",
    "    4. Insepections are done, contracts drafted\n",
    "    5. Seller gives title (ownership) to escrow agent\n",
    "    6. Buyer gives escrow agent rest of down payment + closing costs + mortgage information\n",
    "    7. When (and only when) escrow agent has both title from seller and all funds from buyer, makes swap to transfer funds to seller and title to buyer"
   ]
  },
  {
   "cell_type": "markdown",
   "id": "3c11bbfd-5eee-4901-8dc6-1bbb5a193ff8",
   "metadata": {
    "slideshow": {
     "slide_type": "subslide"
    },
    "tags": []
   },
   "source": [
    "### Escrow in contracts\n",
    "\n",
    "- The escrow example is simlar to our purcahse example\n",
    "- Here the good is a home, represented by the title\n",
    "- The best scenario is that the title is **tokenized** and represented on the blockchain\n",
    "- In this case the contract would need to:\n",
    "    1. Collect escrow funds from buyer\n",
    "    2. Collect title from seller\n",
    "    3. Collect closing costs/downpayment/mortgage info from buyer\n",
    "    4. Swap title for funds\n",
    "- The benefit of doing this on the blockchain is that there is no need for an Escrow agent (who takes a fee) or trust between parties. "
   ]
  },
  {
   "cell_type": "markdown",
   "id": "7bcf45e0-f9d6-4fe3-a3b1-4d2108338f57",
   "metadata": {
    "slideshow": {
     "slide_type": "subslide"
    },
    "tags": []
   },
   "source": [
    "### Example: Lending and Borrowing\n",
    "\n",
    "- Suppose you hold some ETH, don't want to sell it, but need USD to pay bills\n",
    "    - You could take our ETH to a smart contract based lending platform like Aave or compound and deposit as collateral\n",
    "    - Then you can borrow up to 1/2 the value of your collateral as USDC\n",
    "    - You can take USDC back to your exchange and get USD\n",
    "    - Pay your bills using the USD\n",
    "    - When you get a paycheck you go pack to exchange to convert USD -> USDC\n",
    "    - Then you go back to Aave, repay your loan, and reclaim your ETH\n",
    "- Amazing thing is:\n",
    "    1. You don't need credit or permisison to get loan (your ETH is your credit)\n",
    "    2. You don't have to apply\n",
    "    3. you don't need to know your lenders\n",
    "    4. System protects lenders -- if your collateral falls in value, Aave's smart contracts will sell it to pay back lenders\n",
    "    5. No fixed duration/terms/due date"
   ]
  },
  {
   "cell_type": "markdown",
   "id": "12126449-a8d7-4404-b803-233a58558dca",
   "metadata": {
    "slideshow": {
     "slide_type": "slide"
    },
    "tags": []
   },
   "source": [
    "## Looking Ahead\n",
    "\n",
    "- The possibilities with smart contracts on a blockchain are vast and still being explored\n",
    "- We have two more weeks of class\n",
    "    1. Study decentralized finance, the ERC-20 token standard, and Dapps like Uniswap/Curve/Aave\n",
    "    2. Study the ERC-721 token standard, NFTs, and Dapps like OpenSea/TopShots/Rarible/AxieInfinity"
   ]
  },
  {
   "cell_type": "code",
   "execution_count": null,
   "id": "25a2f1a8-a842-4a90-8487-c0b48310dc6e",
   "metadata": {},
   "outputs": [],
   "source": []
  }
 ],
 "metadata": {
  "kernelspec": {
   "display_name": "Julia 1.10.4",
   "language": "julia",
   "name": "julia-1.10"
  },
  "language_info": {
   "file_extension": ".jl",
   "mimetype": "application/julia",
   "name": "julia",
   "version": "1.10.4"
  }
 },
 "nbformat": 4,
 "nbformat_minor": 5
}

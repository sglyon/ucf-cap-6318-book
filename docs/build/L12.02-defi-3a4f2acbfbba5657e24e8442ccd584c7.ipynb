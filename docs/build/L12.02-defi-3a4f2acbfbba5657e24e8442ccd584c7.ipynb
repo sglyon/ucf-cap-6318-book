{
 "cells": [
  {
   "cell_type": "markdown",
   "id": "b13f98fc",
   "metadata": {
    "slideshow": {
     "slide_type": "slide"
    },
    "tags": []
   },
   "source": [
    "# Defi: Money Legos\n",
    "\n",
    "> Computational Analysis of Social Complexity\n",
    "\n",
    "**Prerequisites**\n",
    "\n",
    "- Intro to Blockchain\n",
    "- Ethereum: Blockchain 2.0\n",
    "\n",
    "**Outcomes**\n",
    "\n",
    "- Be familiar with most popular Defi protocols\n",
    "- Understand how the ERC-20 token standard is central to Defi\n",
    "- Understand how Uniswap enables decentralized liquidity and token swapping\n",
    "- See example of data that can be analyzed for Uniswap\n",
    "\n",
    "\n",
    "**References**\n",
    "\n",
    "- https://ethereum.org/en/developers/docs/standards/tokens/erc-20/\n",
    "- https://defipulse.com\n",
    "- https://github.com/OpenZeppelin/openzeppelin-contracts/blob/master/contracts/token/ERC20/IERC20.sol\n",
    "- https://ethereum.org/en/developers/docs/web2-vs-web3/\n",
    "- https://www.freecodecamp.org/news/what-is-web3/\n",
    "- https://coinsul.io/learn/liquidity\n",
    "- https://coinsul.io/learn/erc20\n",
    "- https://coinsul.io/learn/amm"
   ]
  },
  {
   "cell_type": "markdown",
   "id": "780840c5",
   "metadata": {
    "slideshow": {
     "slide_type": "slide"
    },
    "tags": []
   },
   "source": [
    "## Decenralized Finance\n",
    "\n",
    "- One of the largest and growing applications of the Smart Contract system is known as Decentralized Finance, or Defi\n",
    "- Decentralized Finance (Defi) is\n",
    "    - Definition: Financial primitives built on a decentralized blockchain\n",
    "    - One of the key applications of blockchain technology to date\n",
    "    - Over $40B in funds locked in Defi smart contracts ([source](https://defillama.com/))"
   ]
  },
  {
   "cell_type": "markdown",
   "id": "79a836c5",
   "metadata": {
    "slideshow": {
     "slide_type": "subslide"
    },
    "tags": []
   },
   "source": [
    "### Defi Primitives\n",
    "\n",
    "- Some of the primitives offered by Defi applications include:\n",
    "    - Collateralized borrowing and lending: [Compound](https://compound.finance/markets) and [AAVE](https://aave.com)\n",
    "    - Swapping or exchanging tokens: [Uniswap](https://uniswap.org), [SushiSwap](https://sushi.com), and [Curve](https://curve.fi)\n",
    "    - Market making or liquidity providing: same list as swapping/exchanging\n",
    "    - Insurance: [Nexus Mutual](https://nexusmutual.io)\n",
    "    - Index Funds: [TokenSets](https://www.tokensets.com) and [Balancer](https://balancer.fi)"
   ]
  },
  {
   "cell_type": "markdown",
   "id": "338434aa",
   "metadata": {
    "slideshow": {
     "slide_type": "subslide"
    },
    "tags": []
   },
   "source": [
    "### Money Legos\n",
    "\n",
    "- Defi inherits the primary features of a blockchain: trustless, permisionless, censorship-resistant\n",
    "- Defi protocols also have additional features:\n",
    "    - \"Blind\" interoperability\n",
    "    - Loosely coupled, but tightly integrated\n",
    "- These are possible because of the ERC-20 token standard"
   ]
  },
  {
   "cell_type": "markdown",
   "id": "7ca3388c",
   "metadata": {
    "slideshow": {
     "slide_type": "subslide"
    },
    "tags": []
   },
   "source": [
    "### ERC-20\n",
    "\n",
    "- The ERC-20 token standard is an `interface` describing functionality (methods) and data (events) that make a smart contract a \"token\"\n",
    "- The Methods that are required include:\n",
    "\n",
    "```solidity\n",
    "// Info\n",
    "function name() public view returns (string)\n",
    "function symbol() public view returns (string)\n",
    "function decimals() public view returns (uint8)\n",
    "function totalSupply() public view returns (uint256)\n",
    "\n",
    "// functionality\n",
    "function balanceOf(address _owner) public view returns (uint256 balance)\n",
    "function transfer(address _to, uint256 _value) public returns (bool success)\n",
    "function transferFrom(address _from, address _to, uint256 _value) public returns (bool success)\n",
    "function approve(address _spender, uint256 _value) public returns (bool success)\n",
    "function allowance(address _owner, address _spender) public view returns (uint256 remaining)\n",
    "```\n",
    "\n",
    "- The events are\n",
    "\n",
    "```solidity\n",
    "event Transfer(address indexed _from, address indexed _to, uint256 _value)\n",
    "event Approval(address indexed _owner, address indexed _spender, uint256 _value)\n",
    "```"
   ]
  },
  {
   "cell_type": "markdown",
   "id": "6fa6eb17",
   "metadata": {
    "slideshow": {
     "slide_type": "subslide"
    },
    "tags": []
   },
   "source": [
    "### Why ERC-20?\n",
    "\n",
    "- Applications can be built against the ERC-20 standard instead of specific tokens\n",
    "- Allows applications to work for **all** tokens that implement the standard\n",
    "    - Extends to tokens that don't even exist when the application is created\n",
    "- Allows using outputs of one application as input for another\n",
    "    - Example: Deposit [USDC](0xa0b86991c6218b36c1d19d4a2e9eb0ce3606eb48) on AAVE as a lender --> receive [aUSDC](https://etherscan.io/token/0x9bA00D6856a4eDF4665BcA2C2309936572473B7E)\n",
    "    - Deposit aUSDC to [Curve](https://curve.fi/aave) as a liquidity provider --> receive [Curve LP tokens](https://etherscan.io/address/0xFd2a8fA60Abd58Efe3EeE34dd494cD491dC14900)\n",
    "    - Deposit Curve LP tokens into [ConvexFinance](https://www.convexfinance.com/) to increase LP revenues --> receive Convex Reward tokens"
   ]
  },
  {
   "cell_type": "markdown",
   "id": "b568a3e8",
   "metadata": {
    "slideshow": {
     "slide_type": "slide"
    },
    "tags": []
   },
   "source": [
    "## Web3\n",
    "\n",
    "- A common term you will hear in the ethereum space is \"Web3\"\n",
    "- What is Web3?\n",
    "- Web3 means applications with a web-based frontend, backed at least in part by blockchain on the backend\n",
    "- Key components to web3\n",
    "    - User wallet for authentication/authorization (public/private key pair)\n",
    "    - Storage of application assets on decentralized file system like IPFS\n",
    "    - Key logic and payment settling happens on chain\n"
   ]
  },
  {
   "cell_type": "markdown",
   "id": "cdf96e88-7909-41b0-8e5f-efa0c03993b3",
   "metadata": {
    "slideshow": {
     "slide_type": "subslide"
    },
    "tags": []
   },
   "source": [
    "### Why Web3?\n",
    "\n",
    "- Inherit benefits of blockchain: global, permissionless, trustless, etc.\n",
    "- Avoid the \"middle man\" of the internet: companies like Google, FaceBook, Amazon tracking your activity and making money on it\n",
    "- Enables content creators to truly **own** their content (see next week's discussion on NFTs)"
   ]
  },
  {
   "cell_type": "markdown",
   "id": "afa6ce12",
   "metadata": {
    "slideshow": {
     "slide_type": "slide"
    },
    "tags": []
   },
   "source": [
    "### Dapps\n",
    "\n",
    "- Another common piece of jargon is \"Dapp\"\n",
    "- Dapp stands for \"decentralized app\"\n",
    "- A Dapp is a system of coordinating smart contracts and web3 enabled user interface tied together to create an application like experience\n",
    "- To build a Dapp you need a frontend (web) talent and backend talent just like building an app...\n",
    "- Additionally Dapp builders also need to be able to create smart contracts\n"
   ]
  },
  {
   "cell_type": "markdown",
   "id": "daa09b15-76d3-46eb-ad32-c67cee0fb306",
   "metadata": {
    "slideshow": {
     "slide_type": "subslide"
    },
    "tags": []
   },
   "source": [
    "### Popular Dapps\n",
    "\n",
    "- There are many popular Dapps\n",
    "- All the examples listed earlier in the lecture as examples of Defi platforms are examples of Dapps\n",
    "- There are other, non Defi dapps also:\n",
    "    - NFTS: [OpenSea](https://opensea.io), [Rarible](https://rarible.com/), [LooksRare](https://looksrare.org/)\n",
    "    - Cloud services: [Filecoin](https://filecoin.io/), [Dfinity](https://dfinity.org/)\n",
    "    - Gaming: [Sandbox](https://www.sandbox.game/en/), [AxieInfinity](https://axieinfinity.com/), [Gala](https://gala.games/)"
   ]
  },
  {
   "cell_type": "markdown",
   "id": "501f1302",
   "metadata": {
    "slideshow": {
     "slide_type": "slide"
    },
    "tags": []
   },
   "source": [
    "## Example: Uniswap V2\n",
    "\n",
    "- Let's dive in to see in a bit more detail how the Uniswap Platform works\n",
    "- Two types of users:\n",
    "    - Traders: go to site, input token they want to sell (token A) + amount to sell + token to buy (token B) ==> platform figures out trade and gives quote for amount of token B user will receive\n",
    "    - Liquidity Providers: supply a pair of assets they own to a **liquidity pool**. These assets allow users to trade from one asset in the pool to the other"
   ]
  },
  {
   "cell_type": "markdown",
   "id": "2bbf6e37-08d8-4ab8-9db5-591dc34b40be",
   "metadata": {
    "slideshow": {
     "slide_type": "subslide"
    },
    "tags": []
   },
   "source": [
    "### How Trading Works\n",
    "\n",
    "- In a traditional exchange (not Uniswap), trades are executed based off an order book\n",
    "    - Sellers of an asset post a sale price and amount\n",
    "    - Buyers post a purchase price and amount\n",
    "    - Whenever there is \"overlap\" on seller and buyer orders, a trade happens\n",
    "- Uniswap takes a different approach and is called an Automated Market Maker (AMM)\n",
    "    - Liqudity providers deposit 2 tokens into a pool (anyone can deposit into any pool)\n",
    "    - A **bonding curve** is used to quote prices of one token in terms of the other (e.g. tokenA/tokenB or tokenB/tokenA)\n",
    "    - Traders interact directly with the pool\n",
    "        - Tokens they are selling are deposited into pool\n",
    "        - Tokens they are buying are withdrawn\n",
    "    - A logic layer called the \"router\" allows one token to be swapped for any other one, even if there is not a pool between the two tokens \n",
    "        - e.g. CRV -> GRT might go through path CRV -> ETH -> USDC -> GRT\n",
    "        - Three pools are used CRV - ETH, ETH - USDC, USDC - GRT\n",
    "- Term AMM comes from fact that smart contract + mathematical equation execute trades automatically without any central entity needing to organize order book or execute trades"
   ]
  },
  {
   "cell_type": "markdown",
   "id": "e7a72363-cd7a-407f-87ff-5bf4b4aec4d9",
   "metadata": {
    "slideshow": {
     "slide_type": "subslide"
    },
    "tags": []
   },
   "source": [
    "### Constant Product AMM: x * y = k\n",
    "\n",
    "- We spoke of a **bonding curve** that is used by the pool's smart contract to quote prices\n",
    "- This is a key mathematical equation that dictates how reserves enter or leave the pool\n",
    "- The bonding curve used in Uniswap (and others like SushiSwap) is called the constant product rule: x * y = k\n",
    "- From the [uniswap V2 docs](https://docs.uniswap.org/protocol/V2/concepts/protocol-overview/how-uniswap-works)\n",
    "> Pairs act as automated market makers, standing ready to accept one token for the other as long as the “constant product” formula is preserved. This formula, most simply expressed as `x * y = k`, states that trades must not change the product (`k`) of a pair’s reserve balances (`x` and `y`). Because `k` remains unchanged from the reference frame of a trade, it is often referred to as the invariant. This formula has the desirable property that larger trades (relative to reserves) execute at exponentially worse rates than smaller ones.\n",
    "\n",
    "- More reading: https://coinsul.io/learn/amm"
   ]
  },
  {
   "cell_type": "markdown",
   "id": "42949caf-614e-4db3-9afb-4faf51313f76",
   "metadata": {
    "slideshow": {
     "slide_type": "subslide"
    },
    "tags": []
   },
   "source": [
    "### Exercise\n",
    "\n",
    "- Consider a liquidity pool between assets WBTC and USDC\n",
    "- We'll refer to reserves of WBTC as `x`\n",
    "- USDC reserves are `y`\n",
    "- Suppose that before a trade we have `x = 25` and `y=600_000`\n",
    "- This implies that `k = x * y =  6_000_000`\n",
    "- A trader comes and wants to sell 0.5 WBTC\n",
    "- After the trade we have `x1 = x0 + 0.5 = 25.5` units of WBTC in the pool\n",
    "- Question: What amount of USDC will the trader get out of the pool? Use the code cell below to figure it out..."
   ]
  },
  {
   "cell_type": "code",
   "execution_count": null,
   "id": "ccf97cdb-9bb2-4eef-ba67-5de9e638300a",
   "metadata": {},
   "outputs": [],
   "source": [
    "# TODO: your code here\n"
   ]
  },
  {
   "cell_type": "markdown",
   "id": "b6d6d882-737c-4f26-a38b-4bb6d7eb1892",
   "metadata": {
    "slideshow": {
     "slide_type": "subslide"
    },
    "tags": []
   },
   "source": [
    "### Comment\n",
    "\n",
    "- See how the `x * y = k` bonding curve was used to quote prices\n",
    "- In our example we were able to say that the price of 0.5 WBTC (in terms of USDC) was the answer you computed"
   ]
  },
  {
   "cell_type": "code",
   "execution_count": null,
   "id": "15a9df54-b53c-484d-8430-0a2c72e05915",
   "metadata": {},
   "outputs": [],
   "source": []
  },
  {
   "cell_type": "markdown",
   "id": "b96bc4c7-9490-447b-98ce-fd6a04a8583d",
   "metadata": {
    "slideshow": {
     "slide_type": "subslide"
    },
    "tags": []
   },
   "source": [
    "### Adding/Removing Liquidity\n",
    "\n",
    "- The constant product rule states that x * y = k before and after each trade\n",
    "- What about when liquidity is added or removed from the pool?\n",
    "- In order to add liquidity a liquidity provider must deposit equal *value* of both tokens \n",
    "    - Value is computed in terms of the current reserves: for each unit of token B that is deposited, a user must have `x/y` units of token A\n",
    "- When liquidity is added, `k` is increased\n",
    "- When liquidity is removed the liquidity provider gets their share of the current reserves and `k` decreases"
   ]
  },
  {
   "cell_type": "markdown",
   "id": "860be9fa-68bd-4f39-9a50-e32e51b770c8",
   "metadata": {
    "slideshow": {
     "slide_type": "slide"
    },
    "tags": []
   },
   "source": [
    "### Example: Analyzing Uniswap Pools\n",
    "\n",
    "- Let's do some data analysis on Uniswap Pools\n",
    "- Below I have some code that will read in data on all pools with at least $75,000 total value\n",
    "    - The data come from a service called \"The Graph\"\n",
    "- I also have some helper functions that you might find helpful for your analysis\n",
    "- We'll seek to answer some questions:\n",
    "    1. How many pools have at least 1/2 million in asssets?\n",
    "    2. Which token appears in the most pools?\n",
    "    3. Is it possible to swap from any token in these pools to any other token? (i.e. is the graph connected)?\n",
    "    4. What's the cheapest possible way to trade from one token to another?"
   ]
  },
  {
   "cell_type": "markdown",
   "id": "cb9171d8-f2a4-41b9-8775-f102b00775d1",
   "metadata": {
    "slideshow": {
     "slide_type": "subslide"
    },
    "tags": []
   },
   "source": [
    "### Data\n",
    "\n",
    "- Let's first gather some data"
   ]
  },
  {
   "cell_type": "code",
   "execution_count": null,
   "id": "8299638b-5a77-4203-bdc1-ac422cd505e6",
   "metadata": {},
   "outputs": [],
   "source": [
    "# import Pkg\n",
    "# Pkg.activate(\".\")\n",
    "# Pkg.add([\"HTTP\", \"JSON3\", \"StructTypes\", \"Graphs\", \"DataFrames\", \"GraphPlot\"])\n",
    "# Pkg.instantiate()"
   ]
  },
  {
   "cell_type": "code",
   "execution_count": 2,
   "id": "4b5669ed-8343-4e38-a0e8-64d61605602d",
   "metadata": {},
   "outputs": [],
   "source": [
    "using HTTP, JSON3, StructTypes"
   ]
  },
  {
   "cell_type": "code",
   "execution_count": 3,
   "id": "30049cd9-eb68-467f-8c11-d7c89f8bb858",
   "metadata": {},
   "outputs": [],
   "source": [
    "struct Token\n",
    "    id::String\n",
    "    name::String\n",
    "    symbol::String\n",
    "    decimals::Int\n",
    "end\n",
    "\n",
    "\n",
    "struct Pool\n",
    "    id::String\n",
    "    inputTokens::Vector{Token}\n",
    "    inputTokenBalances::Vector{String}\n",
    "    totalValueLockedUSD::Float64\n",
    "    inputTokenWeights::Vector{String}\n",
    "end\n",
    "\n",
    "struct Pairs\n",
    "    liquidityPools::Vector{Pool}\n",
    "end\n",
    "\n",
    "struct Response\n",
    "    data::Pairs\n",
    "end\n",
    "\n",
    "# Set up JSON3 to unpack API results into our structs\n",
    "StructTypes.StructType(::Union{Type{Pool},Type{Token},Type{Response},Type{Pairs}}) = StructTypes.Struct()"
   ]
  },
  {
   "cell_type": "code",
   "execution_count": 6,
   "id": "20233319-a1af-4351-a013-71bf61c984ff",
   "metadata": {},
   "outputs": [
    {
     "data": {
      "text/plain": [
       "request_uniswap_pool_data (generic function with 3 methods)"
      ]
     },
     "execution_count": 6,
     "metadata": {},
     "output_type": "execute_result"
    }
   ],
   "source": [
    "function request_uniswap_pool_data(first::Int=1000, skip::Int=0)\n",
    "    query = \"\"\"\n",
    "    {\n",
    "      liquidityPools(\n",
    "        first: $first\n",
    "        skip: $skip\n",
    "        orderBy: id\n",
    "        orderDirection: desc\n",
    "        where: {totalValueLockedUSD_gt: 75000}\n",
    "      ) {\n",
    "        id\n",
    "        inputTokens {\n",
    "          id\n",
    "          name\n",
    "          symbol\n",
    "          decimals\n",
    "        }\n",
    "        inputTokenBalances\n",
    "        totalValueLockedUSD\n",
    "        inputTokenWeights\n",
    "      }\n",
    "    }\n",
    "    \"\"\"\n",
    "    url = \"https://gateway.thegraph.com/api/f2b981f2e626e0fd9e03de5e0939d284/subgraphs/id/77jZ9KWeyi3CJ96zkkj5s1CojKPHt6XJKjLFzsDCd8Fd\"\n",
    "    # url = \"https://api.thegraph.com/subgraphs/name/uniswap/uniswap-v2\"\n",
    "    headers = Dict(\"content-type\" => \"application/json\")\n",
    "    body = Dict(\"query\" => query)\n",
    "    res = HTTP.post(url, headers, JSON3.write(body))\n",
    "    data = JSON3.read(String(res.body), Response, parsequoted=true)\n",
    "    return data.data.liquidityPools\n",
    "end\n"
   ]
  },
  {
   "cell_type": "code",
   "execution_count": 8,
   "id": "ae83fde9-e03a-4c6e-be04-fbe2235173d2",
   "metadata": {},
   "outputs": [
    {
     "name": "stdout",
     "output_type": "stream",
     "text": [
      "n += length(new_pools) = 121\n"
     ]
    }
   ],
   "source": [
    "# we are limited to 1000 pools per request, so we will\n",
    "# paginate through the request until we have collected\n",
    "# all pools with at least\n",
    "done = false\n",
    "n = 0\n",
    "all_pools = Pool[]\n",
    "while !done\n",
    "    new_pools = request_uniswap_pool_data(1000, n)\n",
    "    @show n += length(new_pools)\n",
    "    if length(new_pools) < 1000\n",
    "        done = true\n",
    "    end\n",
    "    all_pools = vcat(all_pools, new_pools)\n",
    "end"
   ]
  },
  {
   "cell_type": "code",
   "execution_count": null,
   "id": "f4e0492e-884b-444d-a202-92f633e77cfe",
   "metadata": {},
   "outputs": [],
   "source": [
    "## the code below constructs `tokens`, which is a Vector of unique tokens\n",
    "tokens_set = Set{Token}()\n",
    "for p in all_pools\n",
    "    push!(tokens_set, p.token0)\n",
    "    push!(tokens_set, p.token1)\n",
    "end\n",
    "tokens = collect(tokens_set);"
   ]
  },
  {
   "cell_type": "code",
   "execution_count": null,
   "id": "7189eb9c-0455-4cef-b6ac-233cd466572c",
   "metadata": {},
   "outputs": [],
   "source": [
    "## the code below constructs `token_ids` which maps from\n",
    "# a `Token` to a\n",
    "token_ids = Dict(zip(tokens, 1:length(tokens)));"
   ]
  },
  {
   "cell_type": "code",
   "execution_count": null,
   "id": "58f7cadd",
   "metadata": {},
   "outputs": [],
   "source": [
    "token_ids"
   ]
  },
  {
   "cell_type": "code",
   "execution_count": null,
   "id": "6237a286-9d58-4a14-9c84-0a07e40448fa",
   "metadata": {},
   "outputs": [],
   "source": [
    "function pools_for_token(t::Token)\n",
    "    bools = [p.token0 == t || p.token1 == t for p in all_pools]\n",
    "    return all_pools[bools]\n",
    "end\n",
    "\n",
    "function pools_for_token(sym::String)\n",
    "    bools = [t.symbol == sym for t in tokens]\n",
    "    token = tokens[bools]\n",
    "    @assert length(token) == 1 \"More than one token for this symbol\"\n",
    "    return pools_for_token(token[1])\n",
    "end"
   ]
  },
  {
   "cell_type": "code",
   "execution_count": null,
   "id": "f7f5e49b",
   "metadata": {},
   "outputs": [],
   "source": [
    "pools_for_token(\"SAND\")"
   ]
  },
  {
   "cell_type": "markdown",
   "id": "1b192413-5b1d-4d2b-b3db-748bdc1b5582",
   "metadata": {
    "slideshow": {
     "slide_type": "subslide"
    },
    "tags": []
   },
   "source": [
    "## Exercise 1\n",
    "\n",
    "Using the routines above, construct a Simple (un-weighted, undirected) graph of tokens.\n",
    "\n",
    "The number of nodes should be the number of tokens\n",
    "\n",
    "The number of edges should be the number of pools\n",
    "\n",
    "An edge should form between two nodes if we have a pool for those two tokens"
   ]
  },
  {
   "cell_type": "code",
   "execution_count": null,
   "id": "4e0bbf3a-e0f8-4abd-8340-a3a0195d5dff",
   "metadata": {},
   "outputs": [],
   "source": [
    "# Your code here\n",
    "using Graphs"
   ]
  },
  {
   "cell_type": "markdown",
   "id": "523c587c-cc18-4214-8889-54340e74fd95",
   "metadata": {},
   "source": [
    "### Exercise 2\n",
    "\n",
    "Using `GraphPlot` package, visualize the graph.\n",
    "\n",
    "See if you can add node labels, perhaps only to the few nodes with the most edges."
   ]
  },
  {
   "cell_type": "code",
   "execution_count": null,
   "id": "8864d5f6-f651-4af5-b5a9-f78106e4be14",
   "metadata": {},
   "outputs": [],
   "source": [
    "# your code here\n",
    "using GraphPlot"
   ]
  },
  {
   "cell_type": "markdown",
   "id": "0e0f74c0-0125-461c-9d8b-4610b6649cf1",
   "metadata": {
    "slideshow": {
     "slide_type": "subslide"
    },
    "tags": []
   },
   "source": [
    "### Exercise 3\n",
    "\n",
    "Using the graph you just constructed, answer the following questions\n",
    "\n",
    "- Is is possible to trade from any token to any other token?\n",
    "- What is the overall clustering coefficient?\n",
    "- Which token is part of the most pools? What is the local clustering coefficient for this pool?"
   ]
  },
  {
   "cell_type": "code",
   "execution_count": null,
   "id": "866d9d00-814d-4809-8ec4-53764602413f",
   "metadata": {},
   "outputs": [],
   "source": [
    "# Your code here"
   ]
  },
  {
   "cell_type": "markdown",
   "id": "c1f8a284-f760-42ce-a7dc-571ceed9e79f",
   "metadata": {
    "slideshow": {
     "slide_type": "subslide"
    },
    "tags": []
   },
   "source": [
    "### Exercise 4\n",
    "\n",
    "- We mentioned above that trades can take place between any two assets, even if there isn't a pool for that pair\n",
    "- This happens through order routing\n",
    "- In practice, this is implemented as a smart contract called the router\n",
    "- Because we have studied network theory, we could implement a router by solving a shortest path problem...\n",
    "\n",
    "Your task here is to use the graph you formed before to compute the cheapest path possible to trade from the `MKR` token to the `SAND` token. \n",
    "\n",
    "Meaning, assuming we sell 10 MKR, which path through these pools gives the most possible units of `SAND`?\n",
    "\n",
    "A few tips:\n",
    "\n",
    "- You will have to use the x*y=k rule we learned earlier at each pool\n",
    "- You should never visit any pool more than once -- that would be a cycle and would be wasteful"
   ]
  },
  {
   "cell_type": "code",
   "execution_count": null,
   "id": "f211b569-4409-41da-8c0d-a9ca018f6668",
   "metadata": {},
   "outputs": [],
   "source": [
    "# Your code here"
   ]
  }
 ],
 "metadata": {
  "kernelspec": {
   "display_name": "Julia 1.10.4",
   "language": "julia",
   "name": "julia-1.10"
  },
  "language_info": {
   "file_extension": ".jl",
   "mimetype": "application/julia",
   "name": "julia",
   "version": "1.10.4"
  }
 },
 "nbformat": 4,
 "nbformat_minor": 5
}

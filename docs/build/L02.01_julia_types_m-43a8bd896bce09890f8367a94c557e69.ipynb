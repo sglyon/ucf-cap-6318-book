{
 "cells": [
  {
   "cell_type": "markdown",
   "id": "e50c9a02-c63f-4c7c-8c21-93d11c075bd5",
   "metadata": {
    "slideshow": {
     "slide_type": "slide"
    },
    "tags": []
   },
   "source": [
    "# Julia Types and Methods\n",
    "\n",
    "> Computational Analysis of Social Complexity\n",
    ">\n",
    "> Fall 2024, Spencer Lyon\n",
    "\n",
    "**Prerequisites**\n",
    "\n",
    "- Laptop or personal computer with internet connection\n",
    "- Julia intro lecture\n",
    "\n",
    "**Outcomes**\n",
    "\n",
    "- Understand key components of Julia's type system: abstract types, primitive types, composite types, and parametric types\n",
    "- Be able to define our own custom types to hold data\n",
    "- Understand the concept of multiple dispatch \n",
    "- Be able to leverage the mulitple dispatch system to define custom behavior for built-in and custom types\n",
    "\n",
    "**References**\n",
    "\n",
    "- Lecture notes\n",
    "- Julia documentation on [types](https://docs.julialang.org/en/v1/manual/types/) and [methods](https://docs.julialang.org/en/v1/manual/methods/) (these are technical, but comprehensive and well-written)\n",
    "- QuantEcon lectures on [types and generic programming](https://julia.quantecon.org/getting_started_julia/introduction_to_types.html)"
   ]
  },
  {
   "cell_type": "markdown",
   "id": "6744e9f5-125e-429f-9a2e-99f99ff6c8ca",
   "metadata": {
    "slideshow": {
     "slide_type": "slide"
    },
    "tags": []
   },
   "source": [
    "## Types in Julia\n",
    "\n",
    "- Julia is both very expressive and runtime efficient\n",
    "- This is made possible because of the underlying compiler technology\n",
    "- The main strategy for user interaction with the compiler is by defining custom types and methods that operate on those types\n",
    "- Types and multiple dispatch go hand in hand and are key to effective Julia"
   ]
  },
  {
   "cell_type": "markdown",
   "id": "38211144-a16a-4d18-9117-97d78dd46e0c",
   "metadata": {
    "slideshow": {
     "slide_type": "subslide"
    },
    "tags": []
   },
   "source": [
    "### What is a type?\n",
    "\n",
    "- Each piece of data in a program resides in memory (RAM) on the host computer\n",
    "- We often assign names to data, which we call variables (in `x = \"hello\"`, `x` is a variable)\n",
    "- At its most basic level, a variable is composed of\n",
    "  1. An arrangment of 0's and 1's called bits\n",
    "  2. An address to where in memory the data is recorded\n",
    "  3. A `Symbol` representing the name we gave the data\n",
    "- A **type** in Julia represents what kind of object is represented at a certain memory address\n",
    "- Julia uses this type information to enable syntax (e.g. the `$` in a string to interpolate or the `.` access for an objects fields) and ultimiately decide what behaviors are defined to operate on the data"
   ]
  },
  {
   "cell_type": "markdown",
   "id": "cd33fbf4-5d42-47a2-acbb-90f4f130117e",
   "metadata": {
    "slideshow": {
     "slide_type": "subslide"
    },
    "tags": []
   },
   "source": [
    "### Organizing types\n",
    "\n",
    "- In Julia types are organized into a hierarchy\n",
    "- At the top of the hierarcy is `Any` -- all objects are instances of `Any`\n",
    "- At the bottom of the hierarchy is `Union{}` -- no objects are instances of `Union{}`\n",
    "- In between these endpoints we have a rich family of types\n",
    "- Each type can have at most one parent type (if not specified, default parent is `Any`)\n",
    "- Types can actually come in a few different flavors..."
   ]
  },
  {
   "cell_type": "markdown",
   "id": "1c648953-6bb3-4436-931f-f551981987ce",
   "metadata": {
    "slideshow": {
     "slide_type": "subslide"
    },
    "tags": []
   },
   "source": [
    "### Types of Types\n",
    "\n",
    "- Abstract Types: cannot be created directly, but serve as nodes in a type hierarchy. Help us organize types into families and provide shared behavior for all members of the family\n",
    "- Primitive types: provided to us by Julia and represent a collection of bits (e.g. `Float64`, `Bool`, and `Int8`). We *could* create them, but we won't. We won't say anything else about them here\n",
    "- Composite Types: types that contain additional data called fields. An instance can be treated as a single value. This is what we typically define and use\n",
    "\n",
    "> NOTE: all objects in Julia are instances of either primitive or composite types, and can be related to one another by sharing common abstract type ancestors"
   ]
  },
  {
   "cell_type": "markdown",
   "id": "072ec0c4-bc2e-4622-bc5b-dce88fa75848",
   "metadata": {
    "slideshow": {
     "slide_type": "slide"
    },
    "tags": []
   },
   "source": [
    "## Abstract Types\n",
    "\n",
    "- Abstract types help organize composite types into families\n",
    "- For example, the number system in Julia looks like this (really -- look [here](https://github.com/JuliaLang/julia/blob/91f068c5c219275f1115056084417057a66240b7/base/boot.jl#L209-L214))\n",
    "```julia\n",
    "abstract type Number end\n",
    "abstract type Real     <: Number end\n",
    "abstract type AbstractFloat <: Real end\n",
    "abstract type Integer  <: Real end\n",
    "abstract type Signed   <: Integer end\n",
    "abstract type Unsigned <: Integer end\n",
    "```\n",
    "- Note:\n",
    "  - `Number`'s parent type is `Any`\n",
    "  - `Real` is a special kind of `Number` and can be broken into two subgroups: `AbstractFloat` and `Integer`"
   ]
  },
  {
   "cell_type": "markdown",
   "id": "22836aca-ab4b-4f5a-9432-575bab0c4b39",
   "metadata": {
    "slideshow": {
     "slide_type": "subslide"
    },
    "tags": []
   },
   "source": [
    "### Why Abstract Types?\n",
    "\n",
    "- We said before we can't create an instance of abstract types...\n",
    "- So, why do we have them?\n",
    "- The primary reason to have abstract types is to introduced shared functionality via methods defined on the abstract type"
   ]
  },
  {
   "cell_type": "markdown",
   "id": "48bed814-0c54-4d39-b352-c8c4182ebf85",
   "metadata": {
    "slideshow": {
     "slide_type": "subslide"
    },
    "tags": []
   },
   "source": [
    "- Example: suppose you needed to define a function `isint` to determine if an object is an integer\n",
    "  - Without abstract types, you could have a long sequence of checks for if a variable is any integer type: "
   ]
  },
  {
   "cell_type": "code",
   "execution_count": 1,
   "id": "d68eb608-b38a-4c1e-8644-5ee54e75ad8b",
   "metadata": {},
   "outputs": [
    {
     "data": {
      "text/plain": [
       "isint1 (generic function with 1 method)"
      ]
     },
     "execution_count": 1,
     "metadata": {},
     "output_type": "execute_result"
    }
   ],
   "source": [
    "function isint1(x)\n",
    "\tfor T in [\n",
    "\t\tInt8, UInt8, Int16, UInt16, \n",
    "\t\tInt32, UInt32, Int64, UInt64, \n",
    "\t\tInt128, UInt128\n",
    "\t]\n",
    "\t\tif isa(x, T)\n",
    "\t\t\treturn true\n",
    "\t\tend\n",
    "\tend\n",
    "\treturn false\n",
    "end"
   ]
  },
  {
   "cell_type": "markdown",
   "id": "d22e3398-31bc-418a-b2e9-eec9d76255f3",
   "metadata": {
    "slideshow": {
     "slide_type": "subslide"
    },
    "tags": []
   },
   "source": [
    "With abstract types we can define two methods:"
   ]
  },
  {
   "cell_type": "code",
   "execution_count": 2,
   "id": "8caafce7-74da-49ca-ad4b-b69aa70f7de6",
   "metadata": {},
   "outputs": [
    {
     "data": {
      "text/plain": [
       "isint (generic function with 2 methods)"
      ]
     },
     "execution_count": 2,
     "metadata": {},
     "output_type": "execute_result"
    }
   ],
   "source": [
    "isint(x) = false\n",
    "isint(x::Integer) = true"
   ]
  },
  {
   "cell_type": "markdown",
   "id": "68adb26f-4774-4287-81a2-673e14d1763a",
   "metadata": {
    "slideshow": {
     "slide_type": "subslide"
    },
    "tags": []
   },
   "source": [
    "- This has many benefits\n",
    "  - Much simpler to write/reason about\n",
    "  - More \"fool proof\": what if we forgot one of the \"UIntXX\" types?\n",
    "  - More \"future proof\": what if a new type of integer gets introduced (e.g. `UInt256` like is widely used in blockchain data!)\n",
    "  - Pushes work into the compiler:"
   ]
  },
  {
   "cell_type": "code",
   "execution_count": 3,
   "id": "26cbcc3e-3625-48a1-bad1-b0e9341e64ab",
   "metadata": {
    "slideshow": {
     "slide_type": "fragment"
    },
    "tags": []
   },
   "outputs": [
    {
     "data": {
      "text/plain": [
       "CodeInfo(\n",
       "\u001b[90m1 ─\u001b[39m %1  = Base.vect(Main.Int8, Main.UInt8, Main.Int16, Main.UInt16, Main.Int32, Main.UInt32, Main.Int64, Main.UInt64, Main.Int128, Main.UInt128)\n",
       "\u001b[90m│  \u001b[39m       @_3 = Base.iterate(%1)\n",
       "\u001b[90m│  \u001b[39m %3  = @_3 === nothing\n",
       "\u001b[90m│  \u001b[39m %4  = Base.not_int(%3)\n",
       "\u001b[90m└──\u001b[39m       goto #6 if not %4\n",
       "\u001b[90m2 ┄\u001b[39m %6  = @_3\n",
       "\u001b[90m│  \u001b[39m       T = Core.getfield(%6, 1)\n",
       "\u001b[90m│  \u001b[39m %8  = Core.getfield(%6, 2)\n",
       "\u001b[90m│  \u001b[39m %9  = x isa T\n",
       "\u001b[90m└──\u001b[39m       goto #4 if not %9\n",
       "\u001b[90m3 ─\u001b[39m       return true\n",
       "\u001b[90m4 ─\u001b[39m       @_3 = Base.iterate(%1, %8)\n",
       "\u001b[90m│  \u001b[39m %13 = @_3 === nothing\n",
       "\u001b[90m│  \u001b[39m %14 = Base.not_int(%13)\n",
       "\u001b[90m└──\u001b[39m       goto #6 if not %14\n",
       "\u001b[90m5 ─\u001b[39m       goto #2\n",
       "\u001b[90m6 ┄\u001b[39m       return false\n",
       ")"
      ]
     },
     "execution_count": 3,
     "metadata": {},
     "output_type": "execute_result"
    }
   ],
   "source": [
    "@code_lowered isint1(\"hello\")"
   ]
  },
  {
   "cell_type": "code",
   "execution_count": 4,
   "id": "cab67066-0fff-461b-aa2f-c7c1c2ec8705",
   "metadata": {
    "slideshow": {
     "slide_type": "fragment"
    },
    "tags": []
   },
   "outputs": [
    {
     "data": {
      "text/plain": [
       "CodeInfo(\n",
       "\u001b[90m1 ─\u001b[39m %1  = Base.vect(Main.Int8, Main.UInt8, Main.Int16, Main.UInt16, Main.Int32, Main.UInt32, Main.Int64, Main.UInt64, Main.Int128, Main.UInt128)\n",
       "\u001b[90m│  \u001b[39m       @_3 = Base.iterate(%1)\n",
       "\u001b[90m│  \u001b[39m %3  = @_3 === nothing\n",
       "\u001b[90m│  \u001b[39m %4  = Base.not_int(%3)\n",
       "\u001b[90m└──\u001b[39m       goto #6 if not %4\n",
       "\u001b[90m2 ┄\u001b[39m %6  = @_3\n",
       "\u001b[90m│  \u001b[39m       T = Core.getfield(%6, 1)\n",
       "\u001b[90m│  \u001b[39m %8  = Core.getfield(%6, 2)\n",
       "\u001b[90m│  \u001b[39m %9  = x isa T\n",
       "\u001b[90m└──\u001b[39m       goto #4 if not %9\n",
       "\u001b[90m3 ─\u001b[39m       return true\n",
       "\u001b[90m4 ─\u001b[39m       @_3 = Base.iterate(%1, %8)\n",
       "\u001b[90m│  \u001b[39m %13 = @_3 === nothing\n",
       "\u001b[90m│  \u001b[39m %14 = Base.not_int(%13)\n",
       "\u001b[90m└──\u001b[39m       goto #6 if not %14\n",
       "\u001b[90m5 ─\u001b[39m       goto #2\n",
       "\u001b[90m6 ┄\u001b[39m       return false\n",
       ")"
      ]
     },
     "execution_count": 4,
     "metadata": {},
     "output_type": "execute_result"
    }
   ],
   "source": [
    "@code_lowered isint1(UInt128(12341234123423134))"
   ]
  },
  {
   "cell_type": "code",
   "execution_count": 5,
   "id": "b91e622a-c0d0-42d6-a980-c30362549494",
   "metadata": {
    "slideshow": {
     "slide_type": "fragment"
    },
    "tags": []
   },
   "outputs": [
    {
     "data": {
      "text/plain": [
       "CodeInfo(\n",
       "\u001b[90m1 ─\u001b[39m     return false\n",
       ")"
      ]
     },
     "execution_count": 5,
     "metadata": {},
     "output_type": "execute_result"
    }
   ],
   "source": [
    "@code_lowered isint(\"hello\")"
   ]
  },
  {
   "cell_type": "code",
   "execution_count": 6,
   "id": "97326f90-6d39-4556-8b47-5246d00024ef",
   "metadata": {
    "slideshow": {
     "slide_type": "fragment"
    },
    "tags": []
   },
   "outputs": [
    {
     "data": {
      "text/plain": [
       "CodeInfo(\n",
       "\u001b[90m1 ─\u001b[39m     return true\n",
       ")"
      ]
     },
     "execution_count": 6,
     "metadata": {},
     "output_type": "execute_result"
    }
   ],
   "source": [
    "@code_lowered isint(UInt128(12341234123423134))"
   ]
  },
  {
   "cell_type": "markdown",
   "id": "9517156f-18b5-43bd-af52-574430b2dcc0",
   "metadata": {
    "slideshow": {
     "slide_type": "slide"
    },
    "tags": []
   },
   "source": [
    "## Composite Types\n",
    "\n",
    "- Abstract types are very useful when used in conjunction with multiple dispatch (defining multiple methods of function with same name, but varying code depending on argument types)\n",
    "- However, most often we create types to hold collections of related data together\n",
    "- We do this using composite types\n",
    "- A composite type can be created as follows:\n",
    "```julia\n",
    "struct Name <: AbstractParentType\n",
    "    field1::Field1Type\n",
    "\t# more fields\n",
    "end\n",
    "```\n",
    "- Note that the `<: AbstractParentType` is optional, as are types on all fields"
   ]
  },
  {
   "cell_type": "markdown",
   "id": "89fd61d6-5956-4fd1-9ffa-5d1a19d0ef2e",
   "metadata": {
    "slideshow": {
     "slide_type": "subslide"
    },
    "tags": []
   },
   "source": [
    "### Composite Types: Examples"
   ]
  },
  {
   "cell_type": "code",
   "execution_count": 7,
   "id": "113f082e-a8a4-476d-ad1e-2ec6ab1f83b5",
   "metadata": {},
   "outputs": [],
   "source": [
    "struct Foo\n",
    "   bar\n",
    "   baz::Int\n",
    "   qux::Float64\n",
    "end"
   ]
  },
  {
   "cell_type": "code",
   "execution_count": 8,
   "id": "cb961f7e-4a74-43cf-9605-aea301a0bf7a",
   "metadata": {},
   "outputs": [
    {
     "data": {
      "text/plain": [
       "Foo(\"Hello, world.\", 23, 1.5)"
      ]
     },
     "execution_count": 8,
     "metadata": {},
     "output_type": "execute_result"
    }
   ],
   "source": [
    "foo = Foo(\"Hello, world.\", 23, 1.5)"
   ]
  },
  {
   "cell_type": "code",
   "execution_count": 9,
   "id": "1bc36918-2077-4091-b6a4-6bfc8ee94c16",
   "metadata": {},
   "outputs": [
    {
     "data": {
      "text/plain": [
       "Foo"
      ]
     },
     "execution_count": 9,
     "metadata": {},
     "output_type": "execute_result"
    }
   ],
   "source": [
    "typeof(foo)"
   ]
  },
  {
   "cell_type": "code",
   "execution_count": 25,
   "id": "9067a249-6b6a-4d96-81ad-d5c06754bef8",
   "metadata": {},
   "outputs": [],
   "source": [
    "# this will not work. Uncomment and try it out\n",
    "# Foo((), 23.5, 1)"
   ]
  },
  {
   "cell_type": "code",
   "execution_count": 11,
   "id": "b85f5121-0a29-45e1-ac38-6538a76d7b88",
   "metadata": {},
   "outputs": [
    {
     "data": {
      "text/plain": [
       "(:bar, :baz, :qux)"
      ]
     },
     "execution_count": 11,
     "metadata": {},
     "output_type": "execute_result"
    }
   ],
   "source": [
    "fieldnames(Foo)"
   ]
  },
  {
   "cell_type": "code",
   "execution_count": 12,
   "id": "71cc2db5-ff3b-4c92-92f5-b9def8f57a31",
   "metadata": {},
   "outputs": [
    {
     "data": {
      "text/plain": [
       "\"Hello, world.\""
      ]
     },
     "execution_count": 12,
     "metadata": {},
     "output_type": "execute_result"
    }
   ],
   "source": [
    "foo.bar"
   ]
  },
  {
   "cell_type": "code",
   "execution_count": 13,
   "id": "846169ef-6df6-47f9-9b93-c8c93604d36b",
   "metadata": {},
   "outputs": [
    {
     "data": {
      "text/plain": [
       "23"
      ]
     },
     "execution_count": 13,
     "metadata": {},
     "output_type": "execute_result"
    }
   ],
   "source": [
    "foo.baz"
   ]
  },
  {
   "cell_type": "code",
   "execution_count": 14,
   "id": "192eafe7-83be-4be5-af74-6e79c871329b",
   "metadata": {},
   "outputs": [
    {
     "data": {
      "text/plain": [
       "1.5"
      ]
     },
     "execution_count": 14,
     "metadata": {},
     "output_type": "execute_result"
    }
   ],
   "source": [
    "foo.qux"
   ]
  },
  {
   "cell_type": "markdown",
   "id": "0ace2b40-7114-4008-acb3-eb8ac14d546c",
   "metadata": {
    "slideshow": {
     "slide_type": "subslide"
    },
    "tags": []
   },
   "source": [
    "### Composite Types and Dispatch\n",
    "\n",
    "- Above we saw an example of defining multiple methods of `isint`, using an abstract type to route dispatch\n",
    "- We can also use composite types"
   ]
  },
  {
   "cell_type": "code",
   "execution_count": 15,
   "id": "408a3c00-30f0-4454-8d9f-695914f525dd",
   "metadata": {},
   "outputs": [
    {
     "data": {
      "text/plain": [
       "isint (generic function with 3 methods)"
      ]
     },
     "execution_count": 15,
     "metadata": {},
     "output_type": "execute_result"
    }
   ],
   "source": [
    "isint(x::Foo) = isint(x.bar)"
   ]
  },
  {
   "cell_type": "code",
   "execution_count": 16,
   "id": "81a28e2e-b621-40f2-888a-c71f305afb99",
   "metadata": {},
   "outputs": [
    {
     "data": {
      "text/plain": [
       "(true, false, true)"
      ]
     },
     "execution_count": 16,
     "metadata": {},
     "output_type": "execute_result"
    }
   ],
   "source": [
    "isint(10), isint(1.0), isint(UInt128(234901324987213))"
   ]
  },
  {
   "cell_type": "code",
   "execution_count": 17,
   "id": "56764076-03b5-4fbc-9fc8-854750e60439",
   "metadata": {},
   "outputs": [
    {
     "data": {
      "text/plain": [
       "CodeInfo(\n",
       "\u001b[90m1 ─\u001b[39m     return false\n",
       ")"
      ]
     },
     "execution_count": 17,
     "metadata": {},
     "output_type": "execute_result"
    }
   ],
   "source": [
    "@code_lowered isint(\"hello\")"
   ]
  },
  {
   "cell_type": "code",
   "execution_count": 18,
   "id": "da009e38-97ce-4178-88b5-40a9517c4336",
   "metadata": {},
   "outputs": [
    {
     "data": {
      "text/plain": [
       "CodeInfo(\n",
       "\u001b[90m1 ─\u001b[39m     return true\n",
       ")"
      ]
     },
     "execution_count": 18,
     "metadata": {},
     "output_type": "execute_result"
    }
   ],
   "source": [
    "@code_lowered isint(UInt128(12341234123423134))"
   ]
  },
  {
   "cell_type": "code",
   "execution_count": 19,
   "id": "10a6e36c-86a9-43db-b945-a1b02e4c4369",
   "metadata": {},
   "outputs": [
    {
     "data": {
      "text/plain": [
       "false"
      ]
     },
     "execution_count": 19,
     "metadata": {},
     "output_type": "execute_result"
    }
   ],
   "source": [
    "isint(foo)"
   ]
  },
  {
   "cell_type": "code",
   "execution_count": 20,
   "id": "70418d9b-14c5-41d1-8710-50728d244aae",
   "metadata": {},
   "outputs": [
    {
     "data": {
      "text/plain": [
       "(Foo(\"Hello, world.\", 23, 1.5), false)"
      ]
     },
     "execution_count": 20,
     "metadata": {},
     "output_type": "execute_result"
    }
   ],
   "source": [
    "foo, isint(foo)"
   ]
  },
  {
   "cell_type": "code",
   "execution_count": 21,
   "id": "1899df64-c3f2-48a1-b9f1-6b2ba44eed20",
   "metadata": {},
   "outputs": [
    {
     "data": {
      "text/plain": [
       "true"
      ]
     },
     "execution_count": 21,
     "metadata": {},
     "output_type": "execute_result"
    }
   ],
   "source": [
    "isint(Foo(1, 23, 1.5))"
   ]
  },
  {
   "cell_type": "markdown",
   "id": "9c4c718d-e9f4-4d72-bbef-fd6374d80228",
   "metadata": {
    "slideshow": {
     "slide_type": "subslide"
    },
    "tags": []
   },
   "source": [
    "### Exercises\n",
    "\n",
    "1. Create an abstract type called `Person`\n",
    "2. Create two composite subtypes of `Person` called `Friend` and `Foe`\n",
    "   - Each of these should have fields `name` and `height_inches`\n",
    "   - For friend you should also have a field `favorite_color`\n",
    "   - MAKE SURE TO ADD TYPES FOR ALL FIELDS\n",
    "3. Create a third composite subtype of `Person` called `Stranger`, but without any fields\n",
    "4. Suppose we are trying to decide who to invite to a dinner party. Our rule is that friends should get a definite yes. Enemies a definite no. Strangers a 50%/50% toss up. However, if our spouse says we should invite a person, the answer is always yes\n",
    "   - Create a function `should_invite_to_party` that implements that logic\n",
    "   - HINT: you will need 4 methods. 3 of these have only one argument, the 4th has two\n",
    "5. In the cell at the bottom we have written a test case. You will know you've done this correctly when all the tests pass"
   ]
  },
  {
   "cell_type": "code",
   "execution_count": 22,
   "id": "67199175-d6d6-45fd-98d9-9ba4d6d7fed5",
   "metadata": {},
   "outputs": [],
   "source": [
    "# Your code here"
   ]
  },
  {
   "cell_type": "code",
   "execution_count": 23,
   "id": "c2a3d9fb-fa32-4716-a088-2f53867d157a",
   "metadata": {},
   "outputs": [
    {
     "data": {
      "text/plain": [
       "tests (generic function with 1 method)"
      ]
     },
     "execution_count": 23,
     "metadata": {},
     "output_type": "execute_result"
    }
   ],
   "source": [
    "using Test\n",
    "\n",
    "function tests()\n",
    "\t@testset \"people\" begin\n",
    "\t\n",
    "\t\t@test fieldnames(Friend) == (:name, :height_inches, :favorite_color)\n",
    "\t\t@test fieldnames(Foe) == (:name, :height_inches)\n",
    "\t\t@test fieldnames(Stranger) == tuple()\n",
    "\n",
    "\t\tjim = Friend(\"Jim\", 64, \"blue\")\n",
    "\t\tdwight = Foe(\"Dwight\", 61)\n",
    "\t\tcreed = Stranger()\n",
    "\n",
    "\t\t@test jim isa Person\n",
    "\t\t@test dwight isa Person\n",
    "\t\t@test creed isa Person\n",
    "\n",
    "\t\t@test should_invite_to_party(jim) \n",
    "\t\t@test !should_invite_to_party(dwight)\n",
    "\t\t@test should_invite_to_party(dwight, true)\n",
    "\t\t\n",
    "\t\tcreed_invites = map(i->should_invite_to_party(creed), 1:100)\n",
    "\t\t@test any(creed_invites)\n",
    "\t\t@test any(map(!, creed_invites))\n",
    "\n",
    "\t\tcreed_invites_spouse = map(i->should_invite_to_party(creed, true), 1:100)\n",
    "\t\t@test all(creed_invites_spouse)\t\n",
    "\tend\n",
    "end"
   ]
  },
  {
   "cell_type": "code",
   "execution_count": 26,
   "id": "e3bf675f-6018-4482-8969-54a2a248b6bc",
   "metadata": {},
   "outputs": [],
   "source": [
    "# uncomment and run this cell when you are ready to test your code\n",
    "# tests()"
   ]
  },
  {
   "cell_type": "code",
   "execution_count": null,
   "id": "7db1a81c-29b3-4365-bd56-3ed97421519c",
   "metadata": {},
   "outputs": [],
   "source": []
  }
 ],
 "metadata": {
  "kernelspec": {
   "display_name": "Julia 1.10.4",
   "language": "julia",
   "name": "julia-1.10"
  },
  "language_info": {
   "file_extension": ".jl",
   "mimetype": "application/julia",
   "name": "julia",
   "version": "1.10.4"
  }
 },
 "nbformat": 4,
 "nbformat_minor": 5
}

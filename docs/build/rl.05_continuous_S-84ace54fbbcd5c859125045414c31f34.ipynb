{
 "cells": [
  {
   "cell_type": "markdown",
   "id": "955117c0-6881-455d-8eb1-c7e9e13105c8",
   "metadata": {
    "slideshow": {
     "slide_type": "slide"
    },
    "tags": []
   },
   "source": [
    "# Reinforcement Learning &#x2013; Continuous State Spaces\n",
    "\n",
    "**Prerequisites**\n",
    "\n",
    "- Tensorflow\n",
    "- Function Approximation/Interpolation\n",
    "- Reinforcement Learning Introduction, Sarsa, QLearning\n",
    "\n",
    "**Outcomes**\n",
    "\n",
    "- Understand the limits of tabular RL algorithms when facing continuous state or action spaces\n",
    "- Be able to apply linear interpolation as a function approximation tool for representing $Q$\n",
    "- Be able to use tensorflow to use a neural network to approximate $Q$\n",
    "\n",
    "**References**\n",
    "\n",
    "- Barto & Sutton book (online by authors [here](http://incompleteideas.net/book/the-book.html)) chapters 9-11"
   ]
  },
  {
   "cell_type": "markdown",
   "id": "a609b652-b0f0-4d15-abc3-27cfddcfee22",
   "metadata": {
    "slideshow": {
     "slide_type": "subslide"
    },
    "tags": []
   },
   "source": [
    "## Tabular Q &#x2013; review\n",
    "\n",
    "- Previous examples (farkle, career choice) have had discrete state and action spaces\n",
    "    - Career choice: \n",
    "    $$\\begin{aligned}\n",
    "    \\mathcal{S} &= \\{\\epsilon_i\\}_{i=1}^N \\times \\{\\theta_i\\}_{i=1}^N \\\\ \n",
    "    \\mathcal{A} &= \\{\\text{ stay put}, \\text{ new job}, \\text{ new life}\\}\n",
    "    \\end{aligned}$$\n",
    "    - Farkle: \n",
    "    $$\\begin{aligned}\n",
    "    \\mathcal{S} &= \\text{round} \\times \\text{scores} \\times \\text{can roll} \\times \\text{rolled} \\times \\text{turn sum} \\\\ \n",
    "    \\mathcal{A}(s) &\\subseteq \\text{roll} \\times \\text{stop} \\times \\text{play dice}\n",
    "    \\end{aligned}$$\n",
    "- This allowed us to use a lookup table for storing $Q(s, a)$\n",
    "    - Q was a dict, each key was $(s, a)$ pair and each value was associated Q"
   ]
  },
  {
   "cell_type": "markdown",
   "id": "fe67073d-7a33-4f78-8a8c-47bb7596fb7a",
   "metadata": {
    "slideshow": {
     "slide_type": "subslide"
    },
    "tags": []
   },
   "source": [
    "### Tabular Q &#x2013; limitations\n",
    "\n",
    "- Not all environments or RL problems have discrete state and action spaces\n",
    "- Some have much larger state or action spaces\n",
    "    - Self driving car: all possible images, sensor readings\n",
    "    - Stock trading: sequences of prices, liquidity, funds\n",
    "    - Medical imaging: all possible medical images\n",
    "- Using a lookup table (dict) to represent $Q$ in these cases is not feasible\n",
    "- We need a *generalization* strategy for $Q$\n",
    "- Our response: *function approximation*"
   ]
  },
  {
   "cell_type": "markdown",
   "id": "946c7c1c-2a1f-4230-8ae5-7dbebea11999",
   "metadata": {
    "slideshow": {
     "slide_type": "slide"
    },
    "tags": []
   },
   "source": [
    "## Example: Cart-Pole\n",
    "\n",
    "\n",
    "\n",
    "-   As a motivating example, let's consider the Cart-Pole problem\n",
    "-   in this problem a pole is fastened to the side of a cart, loose enough for\n",
    "    the pole to freely rotate\n",
    "-   The agent must move the cart on a straight line (1 dimension) to keep the\n",
    "    pole from falling below a certain angle"
   ]
  },
  {
   "cell_type": "code",
   "execution_count": 1,
   "id": "f22d29a5-4f90-4090-b2a1-7ede52fe4535",
   "metadata": {},
   "outputs": [
    {
     "data": {
      "image/jpeg": "[encoded data removed]",
      "text/html": [
       "\n",
       "        <iframe\n",
       "            width=\"800\"\n",
       "            height=\"600\"\n",
       "            src=\"https://www.youtube.com/embed/46wjA6dqxOM\"\n",
       "            frameborder=\"0\"\n",
       "            allowfullscreen\n",
       "            \n",
       "        ></iframe>\n",
       "        "
      ],
      "text/plain": [
       "<IPython.lib.display.YouTubeVideo at 0x118394d70>"
      ]
     },
     "execution_count": 1,
     "metadata": {},
     "output_type": "execute_result"
    }
   ],
   "source": [
    "from IPython.display import YouTubeVideo\n",
    "\n",
    "YouTubeVideo(\"46wjA6dqxOM\", width=800, height=600)"
   ]
  },
  {
   "cell_type": "markdown",
   "id": "fbb5c6e0-ec7b-45c2-aa2e-b04fd4def3d7",
   "metadata": {
    "slideshow": {
     "slide_type": "subslide"
    },
    "tags": []
   },
   "source": [
    "### State Space\n",
    "\n",
    "- $\\mathcal{S} \\subset \\mathbb{R}^4$\n",
    "  | Num|Observation|Min|Max|\n",
    "  |---|---|---|---|\n",
    "  | 0|Cart Position|-4.8|4.8|\n",
    "  | 1|Cart Velocity|-Inf|Inf|\n",
    "  | 2|Pole Angle|-0.418 rad (-24 deg)|0.418 rad (24 deg)|\n",
    "  | 3|Pole Angular Velocity|-Inf|Inf|\n",
    "- This is a continuous space and therefore using a lookup table is infeasible (infinitely many $s \\in \\mathcal{S})$"
   ]
  },
  {
   "cell_type": "markdown",
   "id": "6ae10a09-6a79-4394-a600-8e5d4924b181",
   "metadata": {
    "slideshow": {
     "slide_type": "subslide"
    },
    "tags": []
   },
   "source": [
    "### Action Space\n",
    "\n",
    "\n",
    "\n",
    "- $\\mathcal{A} = {0, 1}$:\n",
    "    \n",
    "  | Num|Action|\n",
    "  |---|---|\n",
    "  | 0|Push cart to the left|\n",
    "  | 1|Push cart to the right|\n",
    "\n",
    "- Action space is discrete"
   ]
  },
  {
   "cell_type": "markdown",
   "id": "0bc21aa5-fcd3-4dfc-9fac-94673bd32c2c",
   "metadata": {
    "slideshow": {
     "slide_type": "slide"
    },
    "tags": []
   },
   "source": [
    "### OpenAI Gym\n",
    "\n",
    "- OpenAI is a ML research company from the US\n",
    "- Now famous for NLP models such as ChatGPT\n",
    "- A few years ago created the `gym` python library for RL research\n",
    "- `gym` contains implementations of dozens of RL environments that adhere to a consistent API\n",
    "- Researchers can implement RL agents once and test them on a variety of RL problems\n",
    "- Since focusing on ChatGPT, OpenAI has stopped developing and maintaining gym\n",
    "- A team from  the Farama Foundation has created a fork of the project and released a new python package called `gymnasium`. We will use this package"
   ]
  },
  {
   "cell_type": "markdown",
   "id": "02e73e69-215e-4209-bf39-c812c025b203",
   "metadata": {
    "slideshow": {
     "slide_type": "subslide"
    },
    "tags": []
   },
   "source": [
    "### Cartpole in Gym\n",
    "\n",
    "- Let's load up the gym library and see how it works\n",
    "- We first import gym and call `gym.make` with the name of our env (`CartPole-v0`)"
   ]
  },
  {
   "cell_type": "code",
   "execution_count": 2,
   "id": "29422d1d-8173-4bbd-9db5-725fb654fa20",
   "metadata": {},
   "outputs": [],
   "source": [
    "# if you get errors importing gym below, try to uncomment line below to install gym\n",
    "# %pip install --user gymnasium interpolation"
   ]
  },
  {
   "cell_type": "code",
   "execution_count": 3,
   "id": "74dbaddc-e9a6-4bc5-b668-68367f004633",
   "metadata": {},
   "outputs": [],
   "source": [
    "import gymnasium as gym\n",
    "import random\n",
    "import pandas as pd\n",
    "import numpy as np\n",
    "import time\n",
    "import matplotlib.pyplot as plt"
   ]
  },
  {
   "cell_type": "code",
   "execution_count": 6,
   "id": "ad1aa6cf-7551-4082-b5c3-34b2b91f8b94",
   "metadata": {},
   "outputs": [],
   "source": [
    "env = gym.make(\"CartPole-v1\")"
   ]
  },
  {
   "cell_type": "markdown",
   "id": "4b3f6ebd-9934-447b-8382-f9f1c0ed23fb",
   "metadata": {
    "slideshow": {
     "slide_type": "subslide"
    },
    "tags": []
   },
   "source": [
    "#### State Space\n",
    "\n",
    "- We can ask gym to tell us the state space for an env"
   ]
  },
  {
   "cell_type": "code",
   "execution_count": 7,
   "id": "a584bfb8-d201-49e9-acdb-4f325c3f30fd",
   "metadata": {},
   "outputs": [
    {
     "data": {
      "text/plain": [
       "Box([-4.8               -inf -0.41887903        -inf], [4.8               inf 0.41887903        inf], (4,), float32)"
      ]
     },
     "execution_count": 7,
     "metadata": {},
     "output_type": "execute_result"
    }
   ],
   "source": [
    "env.observation_space"
   ]
  },
  {
   "cell_type": "markdown",
   "id": "53040fc0-f1d9-4891-b308-1e1efa20fb48",
   "metadata": {},
   "source": [
    "- `Box` with 4 dimensions means a continus subspace of $\\mathbb{R}^4$\n",
    "- We can ask for the minimum and maximum value for each of the Box' dimensions"
   ]
  },
  {
   "cell_type": "code",
   "execution_count": 8,
   "id": "0f91f0cc-840b-4d57-9c7c-92eb76d425c5",
   "metadata": {},
   "outputs": [
    {
     "name": "stdout",
     "output_type": "stream",
     "text": [
      "min:  [-4.8               -inf -0.41887903        -inf]\n",
      "max:  [4.8               inf 0.41887903        inf]\n"
     ]
    }
   ],
   "source": [
    "print(\"min: \", env.observation_space.low)\n",
    "print(\"max: \", env.observation_space.high)"
   ]
  },
  {
   "cell_type": "markdown",
   "id": "e576baa8-cf45-4a38-9c0a-d4c753663db2",
   "metadata": {
    "slideshow": {
     "slide_type": "subslide"
    },
    "tags": []
   },
   "source": [
    "#### Action Space\n",
    "\n",
    "- We can also ask for the action space"
   ]
  },
  {
   "cell_type": "code",
   "execution_count": 9,
   "id": "1132525d-7c57-4186-abfc-e106eb1cc9de",
   "metadata": {},
   "outputs": [
    {
     "data": {
      "text/plain": [
       "Discrete(2)"
      ]
     },
     "execution_count": 9,
     "metadata": {},
     "output_type": "execute_result"
    }
   ],
   "source": [
    "env.action_space"
   ]
  },
  {
   "cell_type": "markdown",
   "id": "a2985a2b-9a64-4de7-9761-a6de778261d7",
   "metadata": {},
   "source": [
    "- Discrete spaces contain the elements ${0, \\dots, N-1}$\n",
    "- In this case we have $\\mathcal{A} = \\{0, 1\\}$"
   ]
  },
  {
   "cell_type": "code",
   "execution_count": 10,
   "id": "6bcc12a2-2a45-47a0-931f-be48adb16dc0",
   "metadata": {},
   "outputs": [
    {
     "data": {
      "text/plain": [
       "True"
      ]
     },
     "execution_count": 10,
     "metadata": {},
     "output_type": "execute_result"
    }
   ],
   "source": [
    "0 in env.action_space"
   ]
  },
  {
   "cell_type": "code",
   "execution_count": 11,
   "id": "4bcfaf7a-5ab6-4f8d-ba23-bc127a35003c",
   "metadata": {},
   "outputs": [
    {
     "data": {
      "text/plain": [
       "False"
      ]
     },
     "execution_count": 11,
     "metadata": {},
     "output_type": "execute_result"
    }
   ],
   "source": [
    "2 in env.action_space"
   ]
  },
  {
   "cell_type": "markdown",
   "id": "af3b195f-713c-4157-abcf-1a22e69f227d",
   "metadata": {
    "slideshow": {
     "slide_type": "subslide"
    },
    "tags": []
   },
   "source": [
    "#### Sampling from spaces\n",
    "\n",
    "- We can sample from spaces"
   ]
  },
  {
   "cell_type": "code",
   "execution_count": 12,
   "id": "d71402e2-23b7-4c3f-adbe-b7044c35d42c",
   "metadata": {},
   "outputs": [
    {
     "name": "stdout",
     "output_type": "stream",
     "text": [
      "sample s:  [-0.2779995   1.1514688   0.07362684 -0.3756424 ]\n",
      "sample a:  0\n"
     ]
    }
   ],
   "source": [
    "print(\"sample s: \", env.observation_space.sample())\n",
    "print(\"sample a: \", env.action_space.sample())"
   ]
  },
  {
   "cell_type": "markdown",
   "id": "55a03315-771b-4c09-87d0-13b52a407d5d",
   "metadata": {
    "slideshow": {
     "slide_type": "subslide"
    },
    "tags": []
   },
   "source": [
    "#### A sample episode\n",
    "\n",
    "- Let's use a completely random agent to showcase how gym works\n",
    "- See comments in the code"
   ]
  },
  {
   "cell_type": "code",
   "execution_count": 13,
   "id": "9b1fbf95-64be-4933-be9e-a1782f3f426f",
   "metadata": {},
   "outputs": [
    {
     "name": "stderr",
     "output_type": "stream",
     "text": [
      "/Users/sglyon/miniforge3/envs/cap-6318/lib/python3.12/site-packages/gymnasium/envs/classic_control/cartpole.py:250: UserWarning: \u001b[33mWARN: You are calling render method without specifying any render mode. You can specify the render_mode at initialization, e.g. gym.make(\"CartPole-v1\", render_mode=\"rgb_array\")\u001b[0m\n",
      "  gym.logger.warn(\n"
     ]
    },
    {
     "name": "stdout",
     "output_type": "stream",
     "text": [
      "(array([ 0.01035669, -0.00252497,  0.00514229,  0.04507462], dtype=float32), {})\n",
      "[ 0.01030619 -0.19772027  0.00604379  0.33937553]\n",
      "[ 0.00635179 -0.3929277   0.0128313   0.63395816]\n",
      "[-0.00150677 -0.58822626  0.02551046  0.9306542 ]\n",
      "[-0.01327129 -0.39345774  0.04412355  0.64609575]\n",
      "[-0.02114045 -0.19897749  0.05704546  0.3676274 ]\n",
      "[-0.02512    -0.39486167  0.06439801  0.677738  ]\n",
      "[-0.03301723 -0.20069073  0.07795277  0.40600523]\n",
      "[-0.03703104 -0.00675574  0.08607288  0.13888109]\n",
      "[-0.03716616 -0.20299828  0.0888505   0.45742935]\n",
      "[-0.04122612 -0.0092374   0.09799908  0.19402218]\n",
      "[-0.04141087  0.18435608  0.10187953 -0.06620908]\n",
      "[-0.03772375 -0.01206779  0.10055535  0.25679976]\n",
      "[-0.03796511  0.18148549  0.10569134 -0.0025501 ]\n",
      "[-0.0343354   0.3749454   0.10564034 -0.26010522]\n",
      "[-0.02683649  0.56841314  0.10043823 -0.5176885 ]\n",
      "[-0.01546823  0.7619881   0.09008446 -0.77710843]\n",
      "[-2.2846392e-04  5.6575042e-01  7.4542291e-02 -4.5749643e-01]\n",
      "[ 0.01108654  0.75974375  0.06539237 -0.7257832 ]\n",
      "[ 0.02628142  0.9539035   0.0508767  -0.9971887 ]\n",
      "[ 0.04535949  1.1483096   0.03093293 -1.2734692 ]\n",
      "[ 0.06832568  0.9528069   0.00546354 -0.9712627 ]\n",
      "[ 0.08738182  1.1478552  -0.01396171 -1.2622243 ]\n",
      "[ 0.11033892  0.9529145  -0.0392062  -0.97394645]\n",
      "[ 0.12939721  1.1485398  -0.05868512 -1.2786827 ]\n",
      "[ 0.15236801  1.3443587  -0.08425878 -1.5891488 ]\n",
      "[ 0.17925517  1.5403743  -0.11604176 -1.906872  ]\n",
      "[ 0.21006267  1.346681   -0.1541792  -1.6523256 ]\n",
      "[ 0.23699628  1.1536593  -0.18722571 -1.411377  ]\n",
      "Episode finished after 29 timesteps\n"
     ]
    }
   ],
   "source": [
    "# restart the env. Will return s_0\n",
    "s = env.reset()\n",
    "for t in range(100):\n",
    "    env.render()                    # update display\n",
    "    time.sleep(0.1)\n",
    "    print(s)                        # print s\n",
    "    a = env.action_space.sample()   # random sample from A(s)\n",
    "    s, r, done, _truncated, _info = env.step(a)  # step using a\n",
    "    if done:\n",
    "        print(\"Episode finished after {} timesteps\".format(t+1))\n",
    "        break\n",
    "env.close()"
   ]
  },
  {
   "cell_type": "markdown",
   "id": "73d0ac15-c38f-45ad-9dda-1127364e6d44",
   "metadata": {},
   "source": [
    "#### Many sample episodes\n",
    "\n",
    "- Let's play many sample episodes and see how the random agent does over time"
   ]
  },
  {
   "cell_type": "code",
   "execution_count": 14,
   "id": "e29892d4-1686-4c47-b2fa-da422dfae01d",
   "metadata": {},
   "outputs": [],
   "source": [
    "random_episode_length = []\n",
    "for _ in range(5000):\n",
    "    env.reset()\n",
    "    for n_steps in range(200):\n",
    "        a = env.action_space.sample()\n",
    "        _, _, done, _, _ = env.step(a)\n",
    "        if done:\n",
    "            random_episode_length.append(n_steps)\n",
    "            break"
   ]
  },
  {
   "cell_type": "code",
   "execution_count": 15,
   "id": "ca9dfbed-41a7-4d5a-8dfe-f96f4e084c18",
   "metadata": {},
   "outputs": [
    {
     "data": {
      "text/plain": [
       "<Axes: >"
      ]
     },
     "execution_count": 15,
     "metadata": {},
     "output_type": "execute_result"
    },
    {
     "data": {
      "image/png": "[encoded data removed]",
      "text/plain": [
       "<Figure size 640x480 with 1 Axes>"
      ]
     },
     "metadata": {},
     "output_type": "display_data"
    }
   ],
   "source": [
    "pd.Series(random_episode_length).rolling(20).mean().plot()"
   ]
  },
  {
   "cell_type": "markdown",
   "id": "a7d40bdb-895a-4a88-8ed0-0379f8347962",
   "metadata": {},
   "source": [
    "- This agent does not do well...\n",
    "- The CartPole env terminates successfully after 200 steps. \n",
    "- This agent doesn't quite get 15% of the way there\n",
    "- To do better we need some tools for handling the continuous state space"
   ]
  },
  {
   "cell_type": "markdown",
   "id": "f1e4ad7a-75a3-4b5d-9494-39b97ffdb60e",
   "metadata": {
    "slideshow": {
     "slide_type": "slide"
    },
    "tags": []
   },
   "source": [
    "## Linear Function Approximation\n",
    "\n",
    "- Let's begin our generalizing Q with linear function approximation\n",
    "- Let $x(s): \\mathcal{S} \\rightarrow \\mathbb{R}^D$ be a feature map for state $s$\n",
    "- $x$ could be identity function, polynomial features, spline basis functions, etc\n",
    "- For the discrete action space case we will let $w_a \\in \\mathbb{R}^D$ represent weights such that $$Q(s, a | w) = w_a^Tx(s)$$\n",
    "- Notice that our approximation to $Q$ is linear in the features $x(s)$"
   ]
  },
  {
   "cell_type": "markdown",
   "id": "8ce85177-7e17-43b1-8aea-f380017ed28d",
   "metadata": {
    "slideshow": {
     "slide_type": "subslide"
    },
    "tags": []
   },
   "source": [
    "### SGD\n",
    "\n",
    "- We would like to choose weights $w_a$ that minimize the difference between $q^*(s,a)$ and $Q(s,a|w_a)$\n",
    "- To do this we will use the MSE loss function between $q^*(s,a)$ and $Q(s,a|w_a)$\n",
    "- If we apply SGD using this loss function, we want to update $w$ as follows:\n",
    "$$\\begin{aligned}\n",
    "w_A &= w_A - \\frac{1}{2} \\alpha \\nabla_w \\big[q^*(S,A) - Q(S, A | w) \\big]^2 \\\\\n",
    "     &= w_A + \\alpha \\big[q^*(S, A) - Q(S, A | w) \\big] \\nabla_w Q(S, A | w)\n",
    "\\end{aligned}$$\n",
    "- The issue is that we don't know $q^*(S, A)$..."
   ]
  },
  {
   "cell_type": "markdown",
   "id": "387fc9ad-8393-46b2-b31a-e54e2dd5a172",
   "metadata": {
    "slideshow": {
     "slide_type": "subslide"
    },
    "tags": []
   },
   "source": [
    "### TD(0) to the rescue\n",
    "\n",
    "- Notice how the update rule for $w_A$ looks very similar to the update rule for tabular Q-learning:\n",
    "$$\\begin{aligned}\n",
    "w_A &= w_A + \\alpha \\big[q^*(S, A) - Q(S, A | w) \\big] \\nabla_w Q(S, A | w) \\\\\n",
    "Q(S, A) &= Q(S, A) + \\alpha \\big[R + \\beta \\max_{a'} Q(S', a') - Q(S, A) \\big]\n",
    "\\end{aligned}$$\n",
    "- In Q-learning we take small steps in the direction of $q^*(s, a)$ using the TD(0) error\n",
    "- We'll extend this knowledge to the SGD for $w_A$ and use $R + \\beta \\max_{a'} Q(S', a'| w)$ in place of $q^*(S, A)$:\n",
    "$$w_A = w_A + \\alpha \\big[R + \\beta \\max_{a'} Q(S', a'| w) - Q(S, A | w) \\big] \\nabla_w Q(S, A | w)$$\n",
    "- There are proofs that provide guarantees that if we use this update rule $Q(s, a | w)$ will converge to $q^*$\n",
    "- We will take these proofs as given"
   ]
  },
  {
   "cell_type": "markdown",
   "id": "8e2b8978-dc24-4a37-8eb4-678af33001d1",
   "metadata": {
    "slideshow": {
     "slide_type": "subslide"
    },
    "tags": []
   },
   "source": [
    "### SGD + TD(0) + Linear Approximator\n",
    "\n",
    "- We now combine the concepts of SGD, TD(0) learning, *and* the fact that we consider forms of $Q(s, a | w) = w_a^Tx(s)$ that are linear in features $x(s)$\n",
    "- Under our linearity assumption $$\\nabla_w Q(s, a | w) = x(s)$$\n",
    "- This makes our update rule for $w$ equal to: $$w_A = w_A + \\alpha \\big[R + \\beta \\max_{a'} Q(S', a'| w) - Q(S, A | w) \\big] x(s)$$\n",
    "- Note that the TD(0) part of the update rule is a scalar\n",
    "- We update our weights in the direction of our feature vector $x(s)$, with scaled step size according to TD(0) term and learning rate"
   ]
  },
  {
   "cell_type": "markdown",
   "id": "ac34bd6b-41e4-4af1-b888-f7c2e569e198",
   "metadata": {
    "slideshow": {
     "slide_type": "subslide"
    },
    "tags": []
   },
   "source": [
    "### Example: Complete Polynomials\n",
    "\n",
    "- Let's try this procedure out using a function $x(s)$ that computes a complete polynomial in $s$\n",
    "- A complete polynomial of degree $D$ is composed of all possible multiplicative terms of the elements $s$ that are of total degree less than or equal to $D$\n",
    "    - Example: $s = [a, b, c]$ and $D = 2$: $$x(s) = \\begin{bmatrix}1 & a & b & c & a^2 & a b & a c & b^2 & b c & c^2 \\end{bmatrix}^T$$\n",
    "    - Does not include $a^2 b$ term because that has total degree of $3 > 2$"
   ]
  },
  {
   "cell_type": "code",
   "execution_count": 16,
   "id": "e2da149a-b907-40b0-9346-7e01aae20f65",
   "metadata": {},
   "outputs": [
    {
     "data": {
      "text/plain": [
       "array([1., 1., 2., 3., 1., 2., 3., 4., 6., 9.])"
      ]
     },
     "execution_count": 16,
     "metadata": {},
     "output_type": "execute_result"
    }
   ],
   "source": [
    "from interpolation.complete_poly import complete_polynomial\n",
    "complete_polynomial([1, 2, 3], 2)"
   ]
  },
  {
   "cell_type": "markdown",
   "id": "44cf4bf9-22ac-4d78-9eee-cfa7a78e04ac",
   "metadata": {
    "slideshow": {
     "slide_type": "subslide"
    },
    "tags": []
   },
   "source": [
    "- We'll now create a class that uses `complete_polynomial` under the hood, and keeps track of `w` for us"
   ]
  },
  {
   "cell_type": "code",
   "execution_count": 17,
   "id": "f2d8ac46-40c1-40fa-85a4-66ee86c1b8d0",
   "metadata": {},
   "outputs": [],
   "source": [
    "class CompletePolyInterpolator:\n",
    "    def __init__(self, N: int, D: int=2):\n",
    "        self.D = D\n",
    "        self.w = np.random.rand(complete_polynomial(np.zeros(N), D).size)\n",
    "\n",
    "    def basis(self, s):\n",
    "        \"return basis matrix x(s)\"\n",
    "        return complete_polynomial(s, self.D)\n",
    "\n",
    "    def __call__(self, s):\n",
    "        return self.basis(s) @ self.w"
   ]
  },
  {
   "cell_type": "markdown",
   "id": "a3f86494-da9f-47b3-9436-e8edf06f9e90",
   "metadata": {
    "slideshow": {
     "slide_type": "subslide"
    },
    "tags": []
   },
   "source": [
    "- We'll wrap this in a class that stores one `CompletePolyInterpolator` per discrete action"
   ]
  },
  {
   "cell_type": "code",
   "execution_count": 18,
   "id": "3dfd3b41-391f-41b3-b61e-8ee6f3e73ab3",
   "metadata": {},
   "outputs": [],
   "source": [
    "class ContinuousSDiscreteAQ:\n",
    "    def __init__(self,  Ndim_s: int, Na:int, approximator = CompletePolyInterpolator):\n",
    "        self.Q = [approximator(Ndim_s) for _ in range(Na)]\n",
    "        self.Na = Na\n",
    "\n",
    "    @property\n",
    "    def w(self):\n",
    "        return np.row_stack([Qa.w for Qa in self.Q])\n",
    "\n",
    "    def __call__(self, s, a):\n",
    "        return self.Q[a](s)\n",
    "\n",
    "    def __getitem__(self, a):\n",
    "        return self.Q[a]\n",
    "\n",
    "    def basis(self, s, a):\n",
    "        return self.Q[a].basis(s)\n",
    "\n",
    "    def get_greedy(self, s, A_s):\n",
    "        vals = [self(s, a) for a in A_s]\n",
    "        max_val = max(vals)\n",
    "        return random.choice([a for (a, v) in zip(A_s, vals) if v == max_val])"
   ]
  },
  {
   "cell_type": "markdown",
   "id": "a19d5049-52e0-46ca-a022-79fae078c9c4",
   "metadata": {
    "slideshow": {
     "slide_type": "subslide"
    },
    "tags": []
   },
   "source": [
    "- And now we'll create a Qlearning class that can leverage it"
   ]
  },
  {
   "cell_type": "code",
   "execution_count": 29,
   "id": "89e7bff5-f7e5-43b8-8fc5-511fe4cd6b9a",
   "metadata": {
    "tags": []
   },
   "outputs": [],
   "source": [
    "class ApproxQlearning(object):\n",
    "    def __init__(\n",
    "            self,\n",
    "            environment,\n",
    "            approximator=CompletePolyInterpolator,\n",
    "            epsilon=0.9, alpha=0.05, beta=0.5\n",
    "        ):\n",
    "        self.env = environment\n",
    "        Ns = env.observation_space.shape[0]\n",
    "\n",
    "        assert isinstance(env.action_space, gym.spaces.Discrete)\n",
    "        Na = env.action_space.n\n",
    "        self.A_s = np.arange(Na)\n",
    "        self.Q = ContinuousSDiscreteAQ(Ns, Na, approximator=approximator)\n",
    "        self.epsilon = epsilon\n",
    "        self.alpha = alpha\n",
    "        self.beta = beta\n",
    "\n",
    "        self.restart_episode()\n",
    "\n",
    "    def restart_episode(self):\n",
    "        self.s, _ = self.env.reset()\n",
    "\n",
    "    def get_greedy(self, s):\n",
    "        return self.Q.get_greedy(s, self.A_s)\n",
    "\n",
    "    def generate_A(self, s):\n",
    "        if random.random() > self.epsilon:\n",
    "            return self.env.action_space.sample()\n",
    "        return self.get_greedy(s)\n",
    "\n",
    "    def step(self):\n",
    "        s = self.s\n",
    "\n",
    "        # first generate an A\n",
    "        a = self.generate_A(s)\n",
    "\n",
    "        # take step\n",
    "        sp, r, done, _truncated, _info = self.env.step(a)\n",
    "\n",
    "        if done:\n",
    "            # game is over\n",
    "            self.s = sp\n",
    "            return done\n",
    "\n",
    "        # get greedy a' based on Q and sp\n",
    "        ap = self.get_greedy(sp)\n",
    "\n",
    "        # Do TD update\n",
    "        Q, α, β = self.Q, self.alpha, self.beta  # simplify notation\n",
    "        Q[a].w = Q[a].w + α * (r + β * Q(sp, ap) - Q(s, a)) * Q[a].basis(s)\n",
    "\n",
    "        # step forward in time\n",
    "        self.s = sp"
   ]
  },
  {
   "cell_type": "markdown",
   "id": "eff8fd43-9400-40ff-b3dc-35cfc736e62c",
   "metadata": {
    "slideshow": {
     "slide_type": "subslide"
    },
    "tags": []
   },
   "source": [
    "- We'll train qlearning for 5,000 steps and again plot the average number of steps per game"
   ]
  },
  {
   "cell_type": "code",
   "execution_count": 30,
   "id": "67580b16-9b42-4c16-8ad3-9d028016e985",
   "metadata": {},
   "outputs": [
    {
     "data": {
      "text/plain": [
       "array([[    87.42425705,   4767.91381846,  -2095.02621715,\n",
       "         -4716.21250131,  -3193.0239917 ,   2211.14464234,\n",
       "        -14446.51502621,   2360.60021847,  16696.26329367,\n",
       "          4233.98701296,  21260.27226755,  -1571.83692695,\n",
       "           175.96475681, -24591.30391999, -11365.07019703],\n",
       "       [  -159.27708058,  -4935.7729606 ,    536.89050945,\n",
       "         10443.43821221,   4165.50625205,   1589.21163043,\n",
       "        -14885.04690433,   3376.74056102,  16522.59312084,\n",
       "          3687.35087321,  27934.32042729,   -859.47522803,\n",
       "          2106.24205249, -28036.8639352 , -11323.91755057]])"
      ]
     },
     "execution_count": 30,
     "metadata": {},
     "output_type": "execute_result"
    },
    {
     "data": {
      "image/png": "[encoded data removed]",
      "text/plain": [
       "<Figure size 640x480 with 1 Axes>"
      ]
     },
     "metadata": {},
     "output_type": "display_data"
    }
   ],
   "source": [
    "ql = ApproxQlearning(env, epsilon=0.98, beta=0.8, alpha=0.05)\n",
    "\n",
    "def play_episode(ql, render=False):\n",
    "    ql.env.reset()\n",
    "    done = False\n",
    "    i = 0\n",
    "    while not done:\n",
    "        i += 1\n",
    "        if render:\n",
    "            ql.env.render()\n",
    "        done = ql.step()\n",
    "\n",
    "    if render:\n",
    "        env.close()\n",
    "\n",
    "    return i\n",
    "\n",
    "episode_length = [play_episode(ql) for _ in range(5_000)]\n",
    "\n",
    "pd.Series(episode_length).rolling(20).mean().plot()\n",
    "\n",
    "ql.Q.w"
   ]
  },
  {
   "cell_type": "markdown",
   "id": "979ba3ce-59cd-4b68-a472-871b2ccf907d",
   "metadata": {
    "slideshow": {
     "slide_type": "subslide"
    },
    "tags": []
   },
   "source": [
    "#### Summary\n",
    "\n",
    "- Our complete polynomial approximation seems to do better than random\n",
    "- This is a good start, but this has its limits:\n",
    "    - Only way to add more flexibility to our approximator is increase polynomial degree\n",
    "    - The min/max values for the velocity variables are extreme\n",
    "    - Trying to compute quadratic or greater terms in very large values will likely cause numerical instability\n",
    "- We need a different paradigm for representing $Q$ in a more flexible, but numerically stable way"
   ]
  }
 ],
 "metadata": {
  "kernelspec": {
   "display_name": "cap-6318",
   "language": "python",
   "name": "python3"
  },
  "language_info": {
   "codemirror_mode": {
    "name": "ipython",
    "version": 3
   },
   "file_extension": ".py",
   "mimetype": "text/x-python",
   "name": "python",
   "nbconvert_exporter": "python",
   "pygments_lexer": "ipython3",
   "version": "3.12.7"
  }
 },
 "nbformat": 4,
 "nbformat_minor": 5
}

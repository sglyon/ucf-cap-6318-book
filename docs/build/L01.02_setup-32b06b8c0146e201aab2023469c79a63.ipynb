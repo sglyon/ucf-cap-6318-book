{
 "cells": [
  {
   "cell_type": "markdown",
   "id": "b9341488-e04d-4cde-a74b-5b4df230aa57",
   "metadata": {
    "slideshow": {
     "slide_type": "slide"
    },
    "tags": []
   },
   "source": [
    "# Julia Setup\n",
    "\n",
    "> Computational Analysis of Social Complexity\n",
    ">\n",
    "> Fall 2024, Spencer Lyon\n",
    "\n",
    "**Prerequisites**\n",
    "\n",
    "- Laptop or personal computer with internet connection\n",
    "\n",
    "**Outcomes**\n",
    "\n",
    "- Install Julia and IJulia locally\n",
    "- Install VS Code\n",
    "- Open lecture notes locally\n",
    "\n",
    "**References**\n",
    "\n",
    "- Lecture notes\n",
    "- QuantEcon lectures\n",
    "    - [Setting up Julia](https://julia.quantecon.org/getting_started_julia/getting_started.html)\n",
    "    - [Git, GitHub, Version Control](https://julia.quantecon.org/more_julia/version_control.html)\n",
    "    - [Julia tools and editors](https://julia.quantecon.org/more_julia/tools_editors.html)"
   ]
  },
  {
   "cell_type": "markdown",
   "id": "bf01fb74-a9aa-4c29-af3f-f438b22c3c73",
   "metadata": {
    "slideshow": {
     "slide_type": "slide"
    },
    "tags": []
   },
   "source": [
    "## Step 1: Install Julia\n",
    "\n",
    "- The first step is to install Julia"
   ]
  },
  {
   "cell_type": "markdown",
   "id": "b0671acd-c56b-450f-a749-1e2ab16e6172",
   "metadata": {
    "slideshow": {
     "slide_type": "subslide"
    },
    "tags": []
   },
   "source": [
    "### Task: Install Julia\n",
    "\n",
    "Download and install Julia, from [download page](http://julialang.org/downloads/) , accepting all default options"
   ]
  },
  {
   "cell_type": "markdown",
   "id": "7f6da9de",
   "metadata": {},
   "source": [
    "### Task: Launch Julia REPl\n",
    "\n",
    "Launch the Julia REPL (read-eval-print-loop) by clicking on the Julia icon\n",
    "\n",
    "You will be greated with a prompt that looks like this:\n",
    "\n",
    "```\n",
    "               _\n",
    "   _       _ _(_)_     |  Documentation: https://docs.julialang.org\n",
    "  (_)     | (_) (_)    |\n",
    "   _ _   _| |_  __ _   |  Type \"?\" for help, \"]?\" for Pkg help.\n",
    "  | | | | | | |/ _` |  |\n",
    "  | | |_| | | | (_| |  |  Version 1.9.2 (2023-07-05)\n",
    " _/ |\\__'_|_|_|\\__'_|  |  Official https://julialang.org/ release\n",
    "|__/                   |\n",
    "\n",
    "julia>\n",
    "```\n",
    "\n",
    "You are now in what is called the Julia REPL (read-eval-print-loop). This is a place where you can type Julia commands and have them executed immediately.\n",
    "\n",
    "Test it out by typing `rand(2, 2)` and pressing enter\n",
    "\n",
    "You should see something like this (note the numbers will be different for you):\n",
    "\n",
    "```\n",
    "julia> rand(2, 2)\n",
    "2×2 Matrix{Float64}:\n",
    " 0.698944  0.676245\n",
    " 0.17375   0.448243\n",
    " ```\n",
    "\n",
    "Congratulations! You have successfully installed Julia and are ready to move on to the next step!\n"
   ]
  },
  {
   "cell_type": "markdown",
   "id": "9e645df3-469d-468b-97ca-e1a624bcbac3",
   "metadata": {
    "slideshow": {
     "slide_type": "slide"
    },
    "tags": []
   },
   "source": [
    "## Step 2: Install IJulia.jl\n",
    "\n",
    "- With Julia installed we are now ready to install some Julia packages\n",
    "- The first package we'll be using is called IJulia\n",
    "- This is a package integrates with Jupyter to allow us to run Julia code from notebooks\n",
    "    - Same Jupyter you may have used with Python"
   ]
  },
  {
   "cell_type": "markdown",
   "id": "49733f68-a709-464c-8f38-28038add19e7",
   "metadata": {
    "slideshow": {
     "slide_type": "subslide"
    },
    "tags": []
   },
   "source": [
    "### Task: Install IJulia\n",
    "\n",
    "Launch the Julia REPL (by typing `julia` from the Linux/OSX terminal prompt or using the start menu on Windows)\n",
    "\n",
    "At the `juila>` prompt, type `]`\n",
    "\n",
    "Prompt will switch to `(@v1.10) pkg> `\n",
    "\n",
    "Once there type `add IJulia` and press enter\n",
    "\n",
    "IJulia.jl will be downloaded and installed on your machine"
   ]
  },
  {
   "cell_type": "markdown",
   "id": "7717220d-c3fa-4267-ad0b-aca1157fe664",
   "metadata": {
    "slideshow": {
     "slide_type": "subslide"
    },
    "tags": []
   },
   "source": [
    "### Task: Start IJulia\n",
    "\n",
    "At the `juila>` prompt (press backspace to exit Pkg mode if needed), type `using IJulia`\n",
    "\n",
    "Then run the command: `IJulia.notebook()`\n",
    "\n",
    "A web browser should pop open with the IJulia.jl interface (should look similar to what I'm using)"
   ]
  },
  {
   "cell_type": "markdown",
   "id": "905da4b2",
   "metadata": {},
   "source": [
    "## Step 3: Install Visual Studio Code\n",
    "\n",
    "- While we can and will use the native Julia REPL and first-party Jupyter software for our lecture notes, it is also helpful to have the ability to edit and run Julia code in a more full-featured editor\n",
    "- For this we will use Visual Studio Code (VSCode)\n",
    "- VSCode is a free, open-source, cross-platform editor that has a large community of users and developers\n",
    "- It also has great support for Julia\n",
    "- Learning how to use a general purpose text editor will help you in the long run\n",
    "    - You can use it for Julia, Python, R, C, C++, etc.\n",
    "    - You can use it for writing papers, taking notes, etc."
   ]
  },
  {
   "cell_type": "markdown",
   "id": "5ca90266",
   "metadata": {},
   "source": [
    "### Task: Download/Install VS Code\n",
    "\n",
    "Download and install VSCode from [here](https://code.visualstudio.com/)\n",
    "\n",
    "Follow all system prompts and accept default options\n",
    "\n",
    "Open/launch VSCode\n",
    "\n"
   ]
  },
  {
   "cell_type": "markdown",
   "id": "824750f3",
   "metadata": {},
   "source": [
    "### Task: Install Julia extension\n",
    "\n",
    "- VSCode has a large ecosystem of extensions that add functionality to the editor\n",
    "- We will install the Julia extension to add Julia support to VSCode\n",
    "\n",
    "In VSCode, click on the \"Extensions\" icon in the left-hand toolbar (looks like a box with four squares in it)\n",
    "\n",
    "Search for \"Julia\" and click the \"Install\" button on the \"Julia Language Support\" extension"
   ]
  },
  {
   "cell_type": "markdown",
   "id": "9ab32b9f",
   "metadata": {},
   "source": [
    "### Task: run Julia code in VSCode\n",
    "\n",
    "- We can now run Julia code in VSCode\n",
    "- Open a new file in VSCode (File -> New File)\n",
    "- Type the following code into the file:\n",
    "\n",
    "```julia\n",
    "println(\"Hello world!\")\n",
    "```\n",
    "\n",
    "- Save the file as `hello.jl` in a location you can find later\n",
    "- Press `Ctrl + Shift + P` (or `Cmd + Shift + P` on Mac) to open the command palette\n",
    "- Type \"Julia\" and select \"Julia: Run file in new process\"\n",
    "- You should see the output of the code show up in a new terminal window within VS Code"
   ]
  },
  {
   "cell_type": "markdown",
   "id": "43196cab",
   "metadata": {},
   "source": [
    "### Task: run code with shift + Enter\n",
    "\n",
    "Go back to `hello.jl` and add the code\n",
    "\n",
    "```julia\n",
    "n = 5\n",
    "P = rand(n, n)\n",
    "```\n",
    "\n",
    "Then, put your cursor on the line that contains `n =` and press shift and enter at the same time\n",
    "\n",
    "This will start a new Julia REPL within your VS Code session and execute the code for you\n",
    "\n",
    "It will also move your cursor down to the `P =` line. Press shift + enter again to execute that line"
   ]
  },
  {
   "cell_type": "markdown",
   "id": "46422003-efdf-491e-a73a-b09253c296a9",
   "metadata": {
    "slideshow": {
     "slide_type": "slide"
    },
    "tags": []
   },
   "source": [
    "## Open Notebooks Locally\n",
    "\n",
    "- You should view/follow along with lectures on the your computer\n",
    "- Being able to run code on your machine is critical for success in this course and will allow you to take skills with you after the course"
   ]
  },
  {
   "cell_type": "markdown",
   "id": "75f3804f-ca97-48bc-bc8b-6b5fba37543f",
   "metadata": {
    "slideshow": {
     "slide_type": "subslide"
    },
    "tags": []
   },
   "source": [
    "### Task: Download notebooks\n",
    "\n",
    "- Go to Canvas and download the notebooks for the first week\n",
    "- Move the downloaded folder from your \"Downloads\" folder to wherever you'd like to store materials for the semester\n",
    "- Follow the instructions above to start Julia, load IJulia, and open the Jupyter notebook with IJulia\n",
    "- Inside your local Jupyter notebook instance (in your web browser), navigate to where you copied the \"Handouts\" folder and open up this notebook"
   ]
  },
  {
   "cell_type": "markdown",
   "id": "bc2a06e2",
   "metadata": {},
   "source": [
    "### Task: Open notebook in vscode\n",
    "\n",
    "- You can also run Jupyter notebooks directly in VS Code\n",
    "- Open VS Code and click on the \"File\" menu and select \"Open Folder\"\n",
    "- Navigate to where you copied the \"Handouts\" folder and open it\n",
    "- Click on the \"Handouts\" folder in the left-hand toolbar\n",
    "- Click on the \"L02_02_setup.ipynb\" file in the left-hand toolbar\n",
    "- You should see the notebook open in VS Code\n",
    "- You can run cells by clicking the \"Run Cell\" button in the top right of each cell, or by pressing `Shift + Enter` while your cursor is in the cell\n",
    "    - A menu will appear, choose the option containing `Julia Release`\n",
    "- Test this out below"
   ]
  },
  {
   "cell_type": "code",
   "execution_count": null,
   "id": "51857bc0",
   "metadata": {},
   "outputs": [],
   "source": [
    "# some random Julia code\n",
    "println(\"That's all, folks!\")"
   ]
  }
 ],
 "metadata": {
  "kernelspec": {
   "display_name": "Julia 1.10.4",
   "language": "julia",
   "name": "julia-1.10"
  },
  "language_info": {
   "file_extension": ".jl",
   "mimetype": "application/julia",
   "name": "julia",
   "version": "1.10.4"
  }
 },
 "nbformat": 4,
 "nbformat_minor": 5
}

{
  "cells": [
    {
      "cell_type": "markdown",
      "id": "a23d046f-1baf-4896-95df-4e1934ae2ba8",
      "metadata": {
        "editable": true,
        "slideshow": {
          "slide_type": "slide"
        },
        "tags": []
      },
      "source": [
        "# More Game Theory\n",
        "\n",
        "> Computational Analysis of Social Complexity\n",
        ">\n",
        "> Fall 2025, Spencer Lyon\n",
        "\n",
        "**Prerequisites**\n",
        "\n",
        "- Intro to Game Theory\n",
        "\n",
        "**Outcomes**\n",
        "\n",
        "- Know how to solve for a Nash Equilibrium in mixed strategies\n",
        "- Understand the concepts of a repeated game and be able to reason about equilibria in such games\n",
        "- Understand how normal form and extensive form games are related\n",
        "\n",
        "**References**\n",
        "\n",
        "- [Easley and Kleinberg](https://www.cs.cornell.edu/home/kleinber/networks-book/) chapter 6 "
      ]
    },
    {
      "cell_type": "markdown",
      "id": "ba44f76b-5987-44bf-add2-fa283e8d4351",
      "metadata": {
        "editable": true,
        "slideshow": {
          "slide_type": "slide"
        },
        "tags": []
      },
      "source": [
        "# Review: Matching Pennies\n",
        "\n",
        "- Recall the matching pennies game we studied last week\n",
        "\n",
        "![matching_pennies.png](https://compsosci-resources.s3.amazonaws.com/game_theory_lectures/matching_pennies.png)"
      ]
    },
    {
      "cell_type": "markdown",
      "id": "01b8ecde-9030-4ef3-97aa-e1bd423e7031",
      "metadata": {
        "editable": true,
        "slideshow": {
          "slide_type": "subslide"
        },
        "tags": []
      },
      "source": [
        "## Properties\n",
        "\n",
        "- Matching pennies is an example of a wider class of games\n",
        "- Some of its properties are that it is\n",
        "    - Zero-sum: sum of payoffs from all players is always 0. One player loses, the other wins\n",
        "    - No Nash Equilibrium in Pure Strategies\n",
        "    - b/c no NE in PS, beneficial to introduce randomness into actions\n",
        "- Zero sum games are very common\n",
        "    - Example: D-Day in WW2. US could have landed in France on Normandy or Calais. Germany could have put bulk of defenses at one of these places. Outcome largely depended on US ability to [trick Germany](https://www.history.com/news/fooling-hitler-the-elaborate-ruse-behind-d-day#:~:text=The%20most%20logical%20place%20in,Britain%20across%20the%20English%20Channel.) into putting defenses at Calais"
      ]
    },
    {
      "cell_type": "markdown",
      "id": "eca65d00-be2e-40ca-9bc3-8a92347efe2b",
      "metadata": {
        "editable": true,
        "slideshow": {
          "slide_type": "subslide"
        },
        "tags": []
      },
      "source": [
        "## Mixed Strategies\n",
        "\n",
        "- A **pure strategy** is a selection of a single action from set of possible strategies $\\sigma_i  \\in S_i$\n",
        "- A **mixed strategy** is a probability distribution over the set of possible strategies $\\sigma_i \\in \\triangle(S_i) \\subseteq [0,1]^{M_i}$\n",
        "    - Pure strategy is a special case of a mixed strategy -- a *degenerate* distribution"
      ]
    },
    {
      "cell_type": "markdown",
      "id": "d8f244da-9e3e-4f77-87b6-38d112d24650",
      "metadata": {
        "editable": true,
        "slideshow": {
          "slide_type": "subslide"
        },
        "tags": []
      },
      "source": [
        "## Expected Payoffs\n",
        "\n",
        "- When dealing with pure strategies we could determine payoffs by reading off an appropriate value from the payoff matrix\n",
        "- With mixed strategies we have to deal with *expected payoffs*"
      ]
    },
    {
      "cell_type": "markdown",
      "id": "54f225ee-9b06-4171-83d1-402445ace332",
      "metadata": {
        "editable": true,
        "slideshow": {
          "slide_type": "subslide"
        },
        "tags": []
      },
      "source": [
        "## P1  Payoffs in Matching Pennies\n",
        "\n",
        "- Suppose you are player 1 in matching pennies\n",
        "- Suppose further that P2 is following a strategy to play H with probability $q$ and T with probability $(1-q)$\n",
        "- The expected payoffs from each of P1's pure strategies are:\n",
        "  - Plays H: $p_1(H | q)$: $-1 \\cdot q + 1 \\cdot (1-q) = 1 - 2q$ \n",
        "  - Plays T: $p_1(T | q)$: $1 \\cdot 1 - 1 \\cdot (1-q) = 2q - 1$ "
      ]
    },
    {
      "cell_type": "markdown",
      "id": "4440af07-013f-4113-a700-1ff614b14515",
      "metadata": {
        "editable": true,
        "slideshow": {
          "slide_type": "subslide"
        },
        "tags": []
      },
      "source": [
        "## Indifference\n",
        "\n",
        "- Argument: it cannot be optimal for P2 to follow the (q, 1-q) strategy unless it makes P1 *indifferent* about playing H or T\n",
        "  - Why? Suppose $p_1(H | q) > p_1(T | q)$. Then P1 will always pick H, which would in turn make P2 want to change behavior to always play $H$\n",
        "  - Simlar logic applies if $p_1(T | q) > p_1(H | q)$\n",
        "- So, it must be that $p_1(T | q) = p_1(H | q)$\n",
        "- This means $1 - 2q = 2q - 1 \\Longrightarrow q = \\frac{1}{2}$"
      ]
    },
    {
      "cell_type": "markdown",
      "id": "6ded314f-d90a-46a9-a495-e736e1e81dcb",
      "metadata": {
        "editable": true,
        "slideshow": {
          "slide_type": "subslide"
        },
        "tags": []
      },
      "source": [
        "## Comment\n",
        "\n",
        "- Notice that we used P1's expected payoffs to determine the mixed strategy for P2\n",
        "- There are two major themes here\n",
        "  1. To derive optimal behavior for one player, you must consider impact of that player's decisions on the rewards to other players\n",
        "  2. P2's ability to **commit** to following the (q, 1-q) both allowed P1 to reason about payoffs AND made P1 indifferent about his/her own choice. Commitment is a major theme in advanced game theory, and one we'll revisit later in the course when we talk about blockchains and smart contracts"
      ]
    },
    {
      "cell_type": "markdown",
      "id": "bf3d02cc-dab8-4782-a01d-212ff761b247",
      "metadata": {
        "editable": true,
        "slideshow": {
          "slide_type": "subslide"
        },
        "tags": []
      },
      "source": [
        "## P1's action\n",
        "\n",
        "- We now know (based on P1s expected payoffs) that P2 will do 50/50 split between H and T\n",
        "- Now consider game from P2's perspective, taking as given that P1 will be playing H with probability $p$ and T with probability $1-p$\n",
        "- **Exercise**: use P2's expected payoffs under the (p, 1-p) strategy for P1 to determine the value of $p$. What is that value? does it surprise you? Why or Why not?"
      ]
    },
    {
      "cell_type": "markdown",
      "id": "4e2b683d-c9e4-41b1-a456-e98f1889526e",
      "metadata": {
        "editable": true,
        "slideshow": {
          "slide_type": "slide"
        },
        "tags": []
      },
      "source": [
        "# Asymmetry: NFL play choice\n",
        "\n",
        "- Matching pennies is a particularly simple example of a zero-sum game with no equilibira in pure strategies\n",
        "- The symmetry in the payoff matrix led to a \"boring\" outcome\n",
        "- Let's consider another example that doesn't have this symmetry\n",
        "- Consider an american football game\n",
        "- Each play\n",
        "  - the offense can choose to call a run or pass play\n",
        "  - The defense can choose to focus play call on defending run or defending pass\n",
        "- The payoff for offensive team is how many yards they gain\n",
        "- Payoff for defense is always negative and equal to \"-\" yards gained by offense\n",
        "- Payoffs based on play calls are given below\n",
        "\n",
        "![run_pass_game.png](https://compsosci-resources.s3.amazonaws.com/game_theory_lectures/run_pass_game.png)"
      ]
    },
    {
      "cell_type": "markdown",
      "id": "fff77934-cdc1-49ed-a4a0-247c13798cb8",
      "metadata": {
        "editable": true,
        "slideshow": {
          "slide_type": "subslide"
        },
        "tags": []
      },
      "source": [
        "## Exercise\n",
        "\n",
        "- Given what we've learned about mixed strategies, determine the equilibrium probability that the defense chooses to defend the pass (call this $q$) and the equilibrium probability that the offense chooses a pass play (call this $p$)"
      ]
    },
    {
      "cell_type": "markdown",
      "id": "d07e3924-09f3-424d-b85a-4a5ce0ef3ee7",
      "metadata": {
        "editable": true,
        "slideshow": {
          "slide_type": "subslide"
        },
        "tags": []
      },
      "source": [
        "## Comments\n",
        "\n",
        "- In the run/pass example we see that the higher payoff option for the offense is to pass, but that they choose it less than the lower payoff run option\n",
        "- Why?\n",
        "- The main idea is that the *threat* of a successful pass play causes the defense to choose to defend the pass more than 50% of the time. \n",
        "- The offense takes that strategy as given, and realizes they are better off running more than 1/2 the time\n",
        "- Any deviation by the offense to pass more often than the $p$ you computed would cause the defense to always defend the pass\n",
        "- This would result in a strictly worse expected payoff for the offense"
      ]
    },
    {
      "cell_type": "markdown",
      "id": "f23b0170-b633-478e-b664-d604266253a3",
      "metadata": {
        "editable": true,
        "slideshow": {
          "slide_type": "slide"
        },
        "tags": []
      },
      "source": [
        "# Dynamic Games\n",
        "\n",
        "- So far the games we've studied have all been static\n",
        "- By this we mean each participant makes exactly one choice at exactly the same time\n",
        "- Game theory is far more rich than this!\n",
        "- We now introduce the concept of a dynamic game\n",
        "- Our treatement will focus on non-simultaneous decisions\n",
        "- Study of repeated games is beyond our scope for now"
      ]
    },
    {
      "cell_type": "markdown",
      "id": "d5e87c47-e95f-4593-b0db-fe4ceef472d0",
      "metadata": {
        "editable": true,
        "slideshow": {
          "slide_type": "subslide"
        },
        "tags": []
      },
      "source": [
        "## Example: Firm Advertising\n",
        "\n",
        "- Consider a game with two firms (1 and 2) and two new markets (A and B)\n",
        "- Market A has a total of 12 profit to be gained and market B has total of 6 profit\n",
        "- Both firms have to choose which market to advertise to\n",
        "- Firm 1 gets to choose first\n",
        "- Because of the earlier choice, firm 1 has \"first mover advantage\"\n",
        "- If firms choose same market, firm 1 gets 2/3 of potential profit and firm 2 gets 1/3\n",
        "- If they advertise to separate markets, each firm gets all potential profit in their chosen market"
      ]
    },
    {
      "cell_type": "markdown",
      "id": "abd217c3-7f71-4ef0-bda0-2bf638afe5d9",
      "metadata": {
        "editable": true,
        "slideshow": {
          "slide_type": "subslide"
        },
        "tags": []
      },
      "source": [
        "## Extensive form\n",
        "\n",
        "- We can represent the game we just described as a tree (or directed graph, if you prefer)\n",
        "- Each node represents a decision point and each branch represents a particular action being chosen\n",
        "- The game tree for the advertising game is given below\n",
        "\n",
        "![](https://compsosci-resources.s3.amazonaws.com/game_theory_lectures/advertising_game_extensive.png)]"
      ]
    },
    {
      "cell_type": "markdown",
      "id": "e0abe33a-d06d-4768-b390-500849cdb1d2",
      "metadata": {
        "editable": true,
        "slideshow": {
          "slide_type": "subslide"
        },
        "tags": []
      },
      "source": [
        "## Equilibrium via Game Tree\n",
        "\n",
        "- We can use the extensive form representation of a dynamic game to determine the equilibrium outcome\n",
        "- The approach for doing this is to start at the bottom of the tree and work our way up\n",
        "- In this example we first start with Player 2 and determine what decision should be made at each decision node:\n",
        "  - If on branch from P1 choosing A, P2 shoudl choose B because $p_2(B|A) > p_2(A|A)$ (6 > 4)\n",
        "  - If on branch from P1 choosing B, P2 shoudl choose A because $p_2(A|B) > p_2(B|B)$ (12 > 2)\n",
        "- Now that we know what P2 will do at each node, we go up the tree to P1s decision\n",
        "  - P1 knows P2 will choose the opposite of P1's choice\n",
        "  - So P1 realizes that $p_1(A) > p1_(B) (12 > 6)$, so P1 chooses $A$\n",
        "- The equilibrium of this game is (A, B)"
      ]
    },
    {
      "cell_type": "markdown",
      "id": "4a8dd53b-e7d0-447b-9185-d9c0c0584a34",
      "metadata": {
        "editable": true,
        "slideshow": {
          "slide_type": "subslide"
        },
        "tags": []
      },
      "source": [
        "## Example: Market Entry\n",
        "\n",
        "- Let's consider a similar game\n",
        "- Player 2 is now an incumbant (already existing firm) and player 1 is a startup deciding to enter the market or stay out\n",
        "- If P1 chooses to stay out (S), the game ends and P2 is happy\n",
        "- If P1 chooses to enter (E), P2 can choose to retaliate or cooperate\n",
        "- Payoffs are given in game tree below\n",
        "\n",
        "![firm_entry_game.png](https://compsosci-resources.s3.amazonaws.com/game_theory_lectures/firm_entry_game.png)"
      ]
    },
    {
      "cell_type": "markdown",
      "id": "4c0b7e42-ca17-432f-b496-ade7a7556a24",
      "metadata": {
        "editable": true,
        "slideshow": {
          "slide_type": "subslide"
        },
        "tags": []
      },
      "source": [
        "## Exercise\n",
        "\n",
        "- Apply the logic outlined above when styding advertising game to determine the equilibrium outcome of the Market Entry Game\n",
        "- What does Player 1 choose to do?\n",
        "- Does player 2 have to make a choice? If so, what is it?"
      ]
    },
    {
      "cell_type": "markdown",
      "id": "9a34a09d-f99b-4016-acab-b4321acf05d0",
      "metadata": {
        "editable": true,
        "slideshow": {
          "slide_type": "subslide"
        },
        "tags": []
      },
      "source": [
        "## Comparison to Normal Form\n",
        "\n",
        "- Consider the market entry game in normal form\n",
        "\n",
        "![firm_entry_game.png](https://compsosci-resources.s3.amazonaws.com/game_theory_lectures/normal_form_entry_game.png)\n",
        "\n",
        "- Notice that in this normal form game there are two NE in pure strategies:\n",
        "  - (S, R): An equilibrium that didn't come up in the dynamic game, because P1 got to move first and chose to enter\n",
        "  - (E, C): the equilibrim we've already seen\n",
        "- Key idea: taking into account timing may change equilibrium outcomes\n",
        "- If P2 had the ability to **commit** to retaliate, then perhaps P1 would choose to stay out\n",
        "  - Again commitment is a key concept in Game theory\n",
        "  - Book talks about \"if P2 could commit to having a computer play its strategies\"\n",
        "  - This is not just a hypothetical *if* -- smart contracts make it possible and enforce it!"
      ]
    },
    {
      "cell_type": "code",
      "execution_count": null,
      "id": "5a33c7bc-7089-4f3c-ac41-880024b7b8e0",
      "metadata": {
        "editable": true,
        "slideshow": {
          "slide_type": ""
        },
        "tags": []
      },
      "outputs": [],
      "source": []
    }
  ],
  "metadata": {
    "kernelspec": {
      "display_name": "Julia 1.10.4",
      "language": "julia",
      "name": "julia-1.10"
    },
    "language_info": {
      "file_extension": ".jl",
      "mimetype": "application/julia",
      "name": "julia",
      "version": "1.10.4"
    }
  },
  "nbformat": 4,
  "nbformat_minor": 5
}

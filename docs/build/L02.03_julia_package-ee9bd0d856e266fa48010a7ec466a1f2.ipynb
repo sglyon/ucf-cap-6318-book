{
 "cells": [
  {
   "cell_type": "markdown",
   "id": "2288a8c5",
   "metadata": {
    "slideshow": {
     "slide_type": "slide"
    }
   },
   "source": [
    "# Julia Package Development\n",
    "\n",
    "> Computational Analysis of Social Complexity\n",
    ">\n",
    "> Fall 2025, Spencer Lyon\n",
    "\n",
    "**Prerequisites**\n",
    "\n",
    "- Laptop or personal computer with internet connection\n",
    "- Julia intro lecture\n",
    "- Julia Modules lecture\n",
    "\n",
    "**Outcomes**\n",
    "\n",
    "- Installing, uninstalling, and updating packages\n",
    "- Managing a Project.toml file and understanding the related Manifest.toml\n",
    "- Create new Julia packages to organize code snippets\n",
    "\n",
    "**References**\n",
    "\n",
    "- Lecture notes\n",
    "- Julia documentation on [packages](https://docs.julialang.org/en/v1/stdlib/Pkg/)\n",
    "- Pkg.jl standard library [docs](https://pkgdocs.julialang.org/v1/)\n"
   ]
  },
  {
   "cell_type": "markdown",
   "id": "2f5a36a9",
   "metadata": {
    "slideshow": {
     "slide_type": "subslide"
    }
   },
   "source": [
    "## Introduction\n",
    "\n",
    "* Julia is a very powerful, modern language\n",
    "* It comes packed with many essential components for creating high performing numerical programs\n",
    "    * [Arrays](https://docs.julialang.org/en/v1/manual/arrays/)\n",
    "    * [Parallel processing](https://docs.julialang.org/en/v1/manual/distributed-computing/)\n",
    "    * [Multi threading](https://docs.julialang.org/en/v1/manual/multi-threading/)\n",
    "    * [Calling C code](https://docs.julialang.org/en/v1/manual/calling-c-and-fortran-code/)\n",
    "    * ... and many more\n",
    "* However, Julia also has a thriving 3rd party library ecosystem ([ML](https://fluxml.ai/), [Plotting](https://docs.juliaplots.org/), [Notebooks](https://plutojl.org/), [Differential Equations](https://docs.sciml.ai/DiffEqDocs/stable/), and more)\n",
    "* Julia libraries are known as packages\n",
    "* Today we will learn how to manage and develop packages"
   ]
  },
  {
   "cell_type": "markdown",
   "id": "8e8365a7",
   "metadata": {
    "slideshow": {
     "slide_type": "subslide"
    }
   },
   "source": [
    "## Package Management\n",
    "\n",
    "* To start, let's learn how to manage Julia packages\n",
    "* There are two primary methods for managing packages:\n",
    "    * Importing and calling functions from the `Pkg` standard library package\n",
    "    * Using the `pkg` REPL mode from the main Julia REPL\n",
    "* We will learn both here\n",
    "* First, we'll import the `Pkg` package\n",
    "\n",
    "\n",
    "```{note}\n",
    "Examples of the `pkg` REPL mode will be pasted here for you to view\n",
    "```"
   ]
  },
  {
   "cell_type": "code",
   "execution_count": 1,
   "id": "0d7a8f06",
   "metadata": {
    "slideshow": {
     "slide_type": "fragment"
    }
   },
   "outputs": [],
   "source": [
    "import Pkg"
   ]
  },
  {
   "cell_type": "markdown",
   "id": "71430b13",
   "metadata": {
    "slideshow": {
     "slide_type": "subslide"
    }
   },
   "source": [
    "### Installing\n",
    "\n",
    "* To install a package use `Pkg.add(\"PACKAGE_NAME\")`\n",
    "* Below we install the popular `CSV` package used for handling CSV files in Julia"
   ]
  },
  {
   "cell_type": "code",
   "execution_count": 6,
   "id": "59686aab",
   "metadata": {
    "slideshow": {
     "slide_type": "fragment"
    }
   },
   "outputs": [
    {
     "name": "stderr",
     "output_type": "stream",
     "text": [
      "\u001b[32m\u001b[1m   Resolving\u001b[22m\u001b[39m package versions...\n",
      "\u001b[32m\u001b[1m    Updating\u001b[22m\u001b[39m `~/.julia/environments/v1.11/Project.toml`\n",
      "  \u001b[90m[336ed68f] \u001b[39m\u001b[92m+ CSV v0.10.15\u001b[39m\n",
      "\u001b[32m\u001b[1m    Updating\u001b[22m\u001b[39m `~/.julia/environments/v1.11/Manifest.toml`\n",
      "  \u001b[90m[336ed68f] \u001b[39m\u001b[92m+ CSV v0.10.15\u001b[39m\n",
      "  \u001b[90m[944b1d66] \u001b[39m\u001b[92m+ CodecZlib v0.7.8\u001b[39m\n",
      "  \u001b[90m[34da2185] \u001b[39m\u001b[92m+ Compat v4.18.0\u001b[39m\n",
      "  \u001b[90m[9a962f9c] \u001b[39m\u001b[92m+ DataAPI v1.16.0\u001b[39m\n",
      "  \u001b[90m[e2d170a0] \u001b[39m\u001b[92m+ DataValueInterfaces v1.0.0\u001b[39m\n",
      "  \u001b[90m[48062228] \u001b[39m\u001b[92m+ FilePathsBase v0.9.24\u001b[39m\n",
      "  \u001b[90m[842dd82b] \u001b[39m\u001b[92m+ InlineStrings v1.4.4\u001b[39m\n",
      "  \u001b[90m[82899510] \u001b[39m\u001b[92m+ IteratorInterfaceExtensions v1.0.0\u001b[39m\n",
      "  \u001b[90m[bac558e1] \u001b[39m\u001b[92m+ OrderedCollections v1.8.1\u001b[39m\n",
      "  \u001b[90m[2dfb63ee] \u001b[39m\u001b[92m+ PooledArrays v1.4.3\u001b[39m\n",
      "  \u001b[90m[91c51154] \u001b[39m\u001b[92m+ SentinelArrays v1.4.8\u001b[39m\n",
      "  \u001b[90m[3783bdb8] \u001b[39m\u001b[92m+ TableTraits v1.0.1\u001b[39m\n",
      "  \u001b[90m[bd369af6] \u001b[39m\u001b[92m+ Tables v1.12.1\u001b[39m\n",
      "  \u001b[90m[3bb67fe8] \u001b[39m\u001b[92m+ TranscodingStreams v0.11.3\u001b[39m\n",
      "  \u001b[90m[ea10d353] \u001b[39m\u001b[92m+ WeakRefStrings v1.4.2\u001b[39m\n",
      "  \u001b[90m[76eceee3] \u001b[39m\u001b[92m+ WorkerUtilities v1.6.1\u001b[39m\n",
      "  \u001b[90m[9fa8497b] \u001b[39m\u001b[92m+ Future v1.11.0\u001b[39m\n"
     ]
    }
   ],
   "source": [
    "Pkg.add(\"CSV\")"
   ]
  },
  {
   "cell_type": "markdown",
   "id": "e7ab10ec",
   "metadata": {
    "slideshow": {
     "slide_type": "subslide"
    }
   },
   "source": [
    "* To use the `pkg` REPL mode, I first start the repl by running `julia` in my terminal\n",
    "* Then I press `]` to enter Pkg mode \n",
    "    * REPL prompt chanegs to `(@v1.11) pkg>` (where `v1.11` represents my Julia system version)\n",
    "* Once here I run `add CSV` to get the following output:\n",
    "\n",
    "```text\n",
    "(@v1.11) pkg> add CSV\n",
    "   Resolving package versions...\n",
    "    Updating `~/.julia/environments/v1.11/Project.toml`\n",
    "  [336ed68f] + CSV v0.10.15\n",
    "    Updating `~/.julia/environments/v1.11/Manifest.toml`\n",
    "  [336ed68f] + CSV v0.10.15\n",
    "  [944b1d66] + CodecZlib v0.7.8\n",
    "  [34da2185] + Compat v4.18.0\n",
    "  [9a962f9c] + DataAPI v1.16.0\n",
    "  [e2d170a0] + DataValueInterfaces v1.0.0\n",
    "  [48062228] + FilePathsBase v0.9.24\n",
    "  [842dd82b] + InlineStrings v1.4.4\n",
    "  [82899510] + IteratorInterfaceExtensions v1.0.0\n",
    "  [bac558e1] + OrderedCollections v1.8.1\n",
    "  [2dfb63ee] + PooledArrays v1.4.3\n",
    "  [91c51154] + SentinelArrays v1.4.8\n",
    "  [3783bdb8] + TableTraits v1.0.1\n",
    "  [bd369af6] + Tables v1.12.1\n",
    "  [3bb67fe8] + TranscodingStreams v0.11.3\n",
    "  [ea10d353] + WeakRefStrings v1.4.2\n",
    "  [76eceee3] + WorkerUtilities v1.6.1\n",
    "  [9fa8497b] + Future v1.11.0\n",
    "```"
   ]
  },
  {
   "cell_type": "markdown",
   "id": "60ffcfed",
   "metadata": {
    "slideshow": {
     "slide_type": "subslide"
    }
   },
   "source": [
    "### Checking Status\n",
    "\n",
    "* To check the `status` of my packages, I can use the `Pkg.status` function  or `status` command at the pkg REPL"
   ]
  },
  {
   "cell_type": "code",
   "execution_count": 7,
   "id": "c03b79c6",
   "metadata": {
    "slideshow": {
     "slide_type": "fragment"
    }
   },
   "outputs": [
    {
     "name": "stdout",
     "output_type": "stream",
     "text": [
      "\u001b[32m\u001b[1mStatus\u001b[22m\u001b[39m `~/.julia/environments/v1.11/Project.toml`\n",
      "  \u001b[90m[336ed68f] \u001b[39mCSV v0.10.15\n",
      "\u001b[32m⌃\u001b[39m \u001b[90m[7073ff75] \u001b[39mIJulia v1.29.2\n",
      "\u001b[36m\u001b[1mInfo\u001b[22m\u001b[39m Packages marked with \u001b[32m⌃\u001b[39m have new versions available and may be upgradable.\n"
     ]
    }
   ],
   "source": [
    "Pkg.status()"
   ]
  },
  {
   "cell_type": "markdown",
   "id": "e5bc2932",
   "metadata": {},
   "source": [
    "```txt\n",
    "(@v1.11) pkg> status\n",
    "Status `~/.julia/environments/v1.11/Project.toml`\n",
    "  [336ed68f] CSV v0.10.15\n",
    "⌃ [7073ff75] IJulia v1.29.2\n",
    "Info Packages marked with ⌃ have new versions available and may be upgradable.\n",
    "```"
   ]
  },
  {
   "cell_type": "markdown",
   "id": "07e7f385",
   "metadata": {},
   "source": [
    "* The printout here will show one line per explicity installed package (not transitive dependencies)\n",
    "* The format of each line is `_ [ID] NAME VERSION` where \n",
    "    * `ID` is the beginning of a universially unique identifier (UUID) that identifies the package in the Julia ecosystem\n",
    "    * `NAME` is the name of the package\n",
    "    * `VERSION` is the installed version number\n",
    "    * `_` is a placeholder for possible version updates. These placeholders will be explained beneath the list of packages"
   ]
  },
  {
   "cell_type": "markdown",
   "id": "7bc83850",
   "metadata": {
    "slideshow": {
     "slide_type": "subslide"
    }
   },
   "source": [
    "### Updating\n",
    "\n",
    "* Notice how our printout shows we have version v1.29.2 of IJulia, but that there is an update available\n",
    "* To update to the latest verison (reccomended for security and features) we use the `Pkg.udpate` function or `up` REPL command\n",
    "* If we run `pkg> up`, Julia will attempt to get the latest version of all installed packages (same for `Pkg.update()`)\n",
    "* If instead we do `pkg> up IJulia`, Julia will only update IJulia (same for `Pkg.update(\"IJulia\")`)"
   ]
  },
  {
   "cell_type": "markdown",
   "id": "d9915dab",
   "metadata": {
    "slideshow": {
     "slide_type": "fragment"
    }
   },
   "source": [
    "```txt\n",
    "(@v1.11) pkg> up IJulia\n",
    "    Updating registry at `~/.julia/registries/General.toml`\n",
    "    Updating `~/.julia/environments/v1.11/Project.toml`\n",
    "  [7073ff75] ↑ IJulia v1.29.2 ⇒ v1.30.0\n",
    "    Updating `~/.julia/environments/v1.11/Manifest.toml`\n",
    "  [7073ff75] ↑ IJulia v1.29.2 ⇒ v1.30.0\n",
    "  [b85f4697] - SoftGlobalScope v1.1.0\n",
    "```"
   ]
  },
  {
   "cell_type": "markdown",
   "id": "23032a48",
   "metadata": {
    "slideshow": {
     "slide_type": "subslide"
    }
   },
   "source": [
    "* Now running `status` does not show that IJulia has a newer available version"
   ]
  },
  {
   "cell_type": "code",
   "execution_count": 8,
   "id": "94e1f1c7",
   "metadata": {},
   "outputs": [
    {
     "name": "stdout",
     "output_type": "stream",
     "text": [
      "\u001b[32m\u001b[1mStatus\u001b[22m\u001b[39m `~/.julia/environments/v1.11/Project.toml`\n",
      "  \u001b[90m[336ed68f] \u001b[39mCSV v0.10.15\n",
      "  \u001b[90m[7073ff75] \u001b[39mIJulia v1.30.0\n"
     ]
    }
   ],
   "source": [
    "Pkg.status()"
   ]
  },
  {
   "cell_type": "markdown",
   "id": "0eb8aa3b",
   "metadata": {
    "slideshow": {
     "slide_type": "subslide"
    }
   },
   "source": [
    "### Uninstalling\n",
    "\n",
    "* To uninstall a package we can use the `Pkg.rm(\"NAME\")` functino or `pkg> rm NAME` REPL command:|\n"
   ]
  },
  {
   "cell_type": "code",
   "execution_count": 12,
   "id": "8c1cef57",
   "metadata": {
    "slideshow": {
     "slide_type": "fragment"
    }
   },
   "outputs": [
    {
     "name": "stderr",
     "output_type": "stream",
     "text": [
      "\u001b[32m\u001b[1m    Updating\u001b[22m\u001b[39m `~/.julia/environments/v1.11/Project.toml`\n",
      "  \u001b[90m[336ed68f] \u001b[39m\u001b[91m- CSV v0.10.15\u001b[39m\n",
      "\u001b[32m\u001b[1m    Updating\u001b[22m\u001b[39m `~/.julia/environments/v1.11/Manifest.toml`\n",
      "  \u001b[90m[336ed68f] \u001b[39m\u001b[91m- CSV v0.10.15\u001b[39m\n",
      "  \u001b[90m[944b1d66] \u001b[39m\u001b[91m- CodecZlib v0.7.8\u001b[39m\n",
      "  \u001b[90m[34da2185] \u001b[39m\u001b[91m- Compat v4.18.0\u001b[39m\n",
      "  \u001b[90m[9a962f9c] \u001b[39m\u001b[91m- DataAPI v1.16.0\u001b[39m\n",
      "  \u001b[90m[e2d170a0] \u001b[39m\u001b[91m- DataValueInterfaces v1.0.0\u001b[39m\n",
      "  \u001b[90m[48062228] \u001b[39m\u001b[91m- FilePathsBase v0.9.24\u001b[39m\n",
      "  \u001b[90m[842dd82b] \u001b[39m\u001b[91m- InlineStrings v1.4.4\u001b[39m\n",
      "  \u001b[90m[82899510] \u001b[39m\u001b[91m- IteratorInterfaceExtensions v1.0.0\u001b[39m\n",
      "  \u001b[90m[bac558e1] \u001b[39m\u001b[91m- OrderedCollections v1.8.1\u001b[39m\n",
      "  \u001b[90m[2dfb63ee] \u001b[39m\u001b[91m- PooledArrays v1.4.3\u001b[39m\n",
      "  \u001b[90m[91c51154] \u001b[39m\u001b[91m- SentinelArrays v1.4.8\u001b[39m\n",
      "  \u001b[90m[3783bdb8] \u001b[39m\u001b[91m- TableTraits v1.0.1\u001b[39m\n",
      "  \u001b[90m[bd369af6] \u001b[39m\u001b[91m- Tables v1.12.1\u001b[39m\n",
      "  \u001b[90m[3bb67fe8] \u001b[39m\u001b[91m- TranscodingStreams v0.11.3\u001b[39m\n",
      "  \u001b[90m[ea10d353] \u001b[39m\u001b[91m- WeakRefStrings v1.4.2\u001b[39m\n",
      "  \u001b[90m[76eceee3] \u001b[39m\u001b[91m- WorkerUtilities v1.6.1\u001b[39m\n",
      "  \u001b[90m[9fa8497b] \u001b[39m\u001b[91m- Future v1.11.0\u001b[39m\n"
     ]
    }
   ],
   "source": [
    "Pkg.rm(\"CSV\")"
   ]
  },
  {
   "cell_type": "markdown",
   "id": "e36ec6a9",
   "metadata": {
    "slideshow": {
     "slide_type": "subslide"
    }
   },
   "source": [
    "* Status now shows we no longer have CSV"
   ]
  },
  {
   "cell_type": "code",
   "execution_count": 13,
   "id": "59992b70",
   "metadata": {},
   "outputs": [
    {
     "name": "stdout",
     "output_type": "stream",
     "text": [
      "\u001b[32m\u001b[1mStatus\u001b[22m\u001b[39m `~/.julia/environments/v1.11/Project.toml`\n",
      "  \u001b[90m[7073ff75] \u001b[39mIJulia v1.30.0\n"
     ]
    }
   ],
   "source": [
    "Pkg.status()"
   ]
  },
  {
   "cell_type": "markdown",
   "id": "7c299d5e",
   "metadata": {
    "slideshow": {
     "slide_type": "slide"
    }
   },
   "source": [
    "## Environments\n",
    "\n",
    "* Notice above when managing packages, I always saw the following at the top of the file:\n",
    "\n",
    "```txt\n",
    "   Resolving package versions...\n",
    "    Updating `~/.julia/environments/v1.11/Project.toml`\n",
    "```\n",
    "\n",
    "* This was a hint to how Julia keeps its packages organized...\n",
    "* Whenever we are working in Julia, there is always an **environment** active\n",
    "* By default, the environment is specific to the user account (`~/` is UNIX shorthand for current user's home directory) and the Julia version number (`v1.11`)\n",
    "* This means that all packages we install will be available any time someone starts Julia v1.11 from my user account\n"
   ]
  },
  {
   "cell_type": "markdown",
   "id": "88b6afc2",
   "metadata": {
    "slideshow": {
     "slide_type": "subslide"
    }
   },
   "source": [
    "### Environment Management\n",
    "\n",
    "* Having a single, global environment is very convenient for simple tasks and exploration\n",
    "* However, for larger software or research projects, it is a best practice to have an environment specific for that project\n",
    "* The Julia package manager has built in support for managing isolated sets of packages in named environments"
   ]
  },
  {
   "cell_type": "markdown",
   "id": "079355a5",
   "metadata": {
    "slideshow": {
     "slide_type": "subslide"
    }
   },
   "source": [
    "### Activate\n",
    "\n",
    "* To create an environment, start Julia within the folder for the project (use `pwd()`) to check your folder\n",
    "* Then run `Pkg.activate(\".\")` or `pkg> activate .` to create a new project, or activate an existing project specific to the current folder\n",
    "* When you run this command, no files will have been changed, but checking status will show you are in a different environment"
   ]
  },
  {
   "cell_type": "code",
   "execution_count": 29,
   "id": "7c5dfd6e",
   "metadata": {
    "slideshow": {
     "slide_type": "fragment"
    }
   },
   "outputs": [
    {
     "name": "stderr",
     "output_type": "stream",
     "text": [
      "\u001b[32m\u001b[1m  Activating\u001b[22m\u001b[39m new project at `~/Teaching/UCF/CAP-6318/book-myst/week02`\n"
     ]
    }
   ],
   "source": [
    "Pkg.activate(\".\")"
   ]
  },
  {
   "cell_type": "code",
   "execution_count": 30,
   "id": "8a9d9650",
   "metadata": {},
   "outputs": [
    {
     "name": "stdout",
     "output_type": "stream",
     "text": [
      "\u001b[32m\u001b[1mStatus\u001b[22m\u001b[39m `~/Teaching/UCF/CAP-6318/book-myst/week02/Project.toml` (empty project)\n"
     ]
    }
   ],
   "source": [
    "Pkg.status()"
   ]
  },
  {
   "cell_type": "markdown",
   "id": "4e0a71fa",
   "metadata": {
    "slideshow": {
     "slide_type": "subslide"
    }
   },
   "source": [
    "### Manage Packages\n",
    "\n",
    "* Now that we have a new environment activated, we can install packages specific to this project"
   ]
  },
  {
   "cell_type": "code",
   "execution_count": 31,
   "id": "1fd9fd14",
   "metadata": {
    "slideshow": {
     "slide_type": "fragment"
    }
   },
   "outputs": [
    {
     "name": "stderr",
     "output_type": "stream",
     "text": [
      "\u001b[32m\u001b[1m   Resolving\u001b[22m\u001b[39m package versions...\n",
      "\u001b[32m\u001b[1m    Updating\u001b[22m\u001b[39m `~/Teaching/UCF/CAP-6318/book-myst/week02/Project.toml`\n",
      "  \u001b[90m[0ae4a718] \u001b[39m\u001b[92m+ VegaDatasets v2.1.1\u001b[39m\n",
      "  \u001b[90m[112f6efa] \u001b[39m\u001b[92m+ VegaLite v3.3.0\u001b[39m\n",
      "\u001b[32m\u001b[1m    Updating\u001b[22m\u001b[39m `~/Teaching/UCF/CAP-6318/book-myst/week02/Manifest.toml`\n",
      "  \u001b[90m[e1450e63] \u001b[39m\u001b[92m+ BufferedStreams v1.2.2\u001b[39m\n",
      "  \u001b[90m[944b1d66] \u001b[39m\u001b[92m+ CodecZlib v0.7.8\u001b[39m\n",
      "  \u001b[90m[34da2185] \u001b[39m\u001b[92m+ Compat v4.18.0\u001b[39m\n",
      "  \u001b[90m[187b0558] \u001b[39m\u001b[92m+ ConstructionBase v1.6.0\u001b[39m\n",
      "  \u001b[90m[9a962f9c] \u001b[39m\u001b[92m+ DataAPI v1.16.0\u001b[39m\n",
      "\u001b[33m⌅\u001b[39m \u001b[90m[864edb3b] \u001b[39m\u001b[92m+ DataStructures v0.18.22\u001b[39m\n",
      "  \u001b[90m[e2d170a0] \u001b[39m\u001b[92m+ DataValueInterfaces v1.0.0\u001b[39m\n",
      "  \u001b[90m[e7dc6d0d] \u001b[39m\u001b[92m+ DataValues v0.4.13\u001b[39m\n",
      "  \u001b[90m[ffbed154] \u001b[39m\u001b[92m+ DocStringExtensions v0.9.5\u001b[39m\n",
      "  \u001b[90m[497a8b3b] \u001b[39m\u001b[92m+ DoubleFloats v1.4.3\u001b[39m\n",
      "  \u001b[90m[5789e2e9] \u001b[39m\u001b[92m+ FileIO v1.17.0\u001b[39m\n",
      "\u001b[33m⌅\u001b[39m \u001b[90m[8fc22ac5] \u001b[39m\u001b[92m+ FilePaths v0.8.3\u001b[39m\n",
      "  \u001b[90m[48062228] \u001b[39m\u001b[92m+ FilePathsBase v0.9.24\u001b[39m\n",
      "  \u001b[90m[14197337] \u001b[39m\u001b[92m+ GenericLinearAlgebra v0.3.18\u001b[39m\n",
      "  \u001b[90m[842dd82b] \u001b[39m\u001b[92m+ InlineStrings v1.4.4\u001b[39m\n",
      "  \u001b[90m[92d709cd] \u001b[39m\u001b[92m+ IrrationalConstants v0.2.4\u001b[39m\n",
      "  \u001b[90m[1c8ee90f] \u001b[39m\u001b[92m+ IterableTables v1.0.0\u001b[39m\n",
      "  \u001b[90m[82899510] \u001b[39m\u001b[92m+ IteratorInterfaceExtensions v1.0.0\u001b[39m\n",
      "  \u001b[90m[692b3bcd] \u001b[39m\u001b[92m+ JLLWrappers v1.7.1\u001b[39m\n",
      "  \u001b[90m[682c06a0] \u001b[39m\u001b[92m+ JSON v0.21.4\u001b[39m\n",
      "  \u001b[90m[0f8b85d8] \u001b[39m\u001b[92m+ JSON3 v1.14.3\u001b[39m\n",
      "  \u001b[90m[7d188eb4] \u001b[39m\u001b[92m+ JSONSchema v1.4.1\u001b[39m\n",
      "  \u001b[90m[2ab3a3ac] \u001b[39m\u001b[92m+ LogExpFunctions v0.3.29\u001b[39m\n",
      "  \u001b[90m[1914dd2f] \u001b[39m\u001b[92m+ MacroTools v0.5.16\u001b[39m\n",
      "  \u001b[90m[e1d29d7a] \u001b[39m\u001b[92m+ Missings v1.2.0\u001b[39m\n",
      "  \u001b[90m[2bd173c7] \u001b[39m\u001b[92m+ NodeJS v2.0.0\u001b[39m\n",
      "  \u001b[90m[4d1e1d77] \u001b[39m\u001b[92m+ Nullables v1.0.0\u001b[39m\n",
      "  \u001b[90m[bac558e1] \u001b[39m\u001b[92m+ OrderedCollections v1.8.1\u001b[39m\n",
      "  \u001b[90m[69de0a69] \u001b[39m\u001b[92m+ Parsers v2.8.3\u001b[39m\n",
      "  \u001b[90m[f27b6e38] \u001b[39m\u001b[92m+ Polynomials v4.1.0\u001b[39m\n",
      "\u001b[33m⌅\u001b[39m \u001b[90m[aea7be01] \u001b[39m\u001b[92m+ PrecompileTools v1.2.1\u001b[39m\n",
      "  \u001b[90m[21216c6a] \u001b[39m\u001b[92m+ Preferences v1.5.0\u001b[39m\n",
      "  \u001b[90m[be4d8f0f] \u001b[39m\u001b[92m+ Quadmath v0.5.13\u001b[39m\n",
      "  \u001b[90m[3cdcf5f2] \u001b[39m\u001b[92m+ RecipesBase v1.3.4\u001b[39m\n",
      "  \u001b[90m[189a3867] \u001b[39m\u001b[92m+ Reexport v1.2.2\u001b[39m\n",
      "  \u001b[90m[ae029012] \u001b[39m\u001b[92m+ Requires v1.3.1\u001b[39m\n",
      "  \u001b[90m[efcf1570] \u001b[39m\u001b[92m+ Setfield v1.1.2\u001b[39m\n",
      "  \u001b[90m[276daf66] \u001b[39m\u001b[92m+ SpecialFunctions v2.5.1\u001b[39m\n",
      "  \u001b[90m[1e83bf80] \u001b[39m\u001b[92m+ StaticArraysCore v1.4.3\u001b[39m\n",
      "  \u001b[90m[856f2bd8] \u001b[39m\u001b[92m+ StructTypes v1.11.0\u001b[39m\n",
      "  \u001b[90m[5e66a065] \u001b[39m\u001b[92m+ TableShowUtils v0.2.6\u001b[39m\n",
      "  \u001b[90m[3783bdb8] \u001b[39m\u001b[92m+ TableTraits v1.0.1\u001b[39m\n",
      "  \u001b[90m[382cd787] \u001b[39m\u001b[92m+ TableTraitsUtils v1.0.2\u001b[39m\n",
      "  \u001b[90m[e0df1984] \u001b[39m\u001b[92m+ TextParse v1.0.3\u001b[39m\n",
      "  \u001b[90m[3bb67fe8] \u001b[39m\u001b[92m+ TranscodingStreams v0.11.3\u001b[39m\n",
      "  \u001b[90m[30578b45] \u001b[39m\u001b[92m+ URIParser v0.4.1\u001b[39m\n",
      "  \u001b[90m[5c2747f8] \u001b[39m\u001b[92m+ URIs v1.6.1\u001b[39m\n",
      "  \u001b[90m[239c3e63] \u001b[39m\u001b[92m+ Vega v2.7.0\u001b[39m\n",
      "  \u001b[90m[0ae4a718] \u001b[39m\u001b[92m+ VegaDatasets v2.1.1\u001b[39m\n",
      "  \u001b[90m[112f6efa] \u001b[39m\u001b[92m+ VegaLite v3.3.0\u001b[39m\n",
      "  \u001b[90m[ea10d353] \u001b[39m\u001b[92m+ WeakRefStrings v1.4.2\u001b[39m\n",
      "  \u001b[90m[efe28fd5] \u001b[39m\u001b[92m+ OpenSpecFun_jll v0.5.6+0\u001b[39m\n",
      "  \u001b[90m[0dad84c5] \u001b[39m\u001b[92m+ ArgTools v1.1.2\u001b[39m\n",
      "  \u001b[90m[56f22d72] \u001b[39m\u001b[92m+ Artifacts v1.11.0\u001b[39m\n",
      "  \u001b[90m[2a0f44e3] \u001b[39m\u001b[92m+ Base64 v1.11.0\u001b[39m\n",
      "  \u001b[90m[ade2ca70] \u001b[39m\u001b[92m+ Dates v1.11.0\u001b[39m\n",
      "  \u001b[90m[f43a241f] \u001b[39m\u001b[92m+ Downloads v1.6.0\u001b[39m\n",
      "  \u001b[90m[7b1f6079] \u001b[39m\u001b[92m+ FileWatching v1.11.0\u001b[39m\n",
      "  \u001b[90m[9fa8497b] \u001b[39m\u001b[92m+ Future v1.11.0\u001b[39m\n",
      "  \u001b[90m[b77e0a4c] \u001b[39m\u001b[92m+ InteractiveUtils v1.11.0\u001b[39m\n",
      "  \u001b[90m[b27032c2] \u001b[39m\u001b[92m+ LibCURL v0.6.4\u001b[39m\n",
      "  \u001b[90m[76f85450] \u001b[39m\u001b[92m+ LibGit2 v1.11.0\u001b[39m\n",
      "  \u001b[90m[8f399da3] \u001b[39m\u001b[92m+ Libdl v1.11.0\u001b[39m\n",
      "  \u001b[90m[37e2e46d] \u001b[39m\u001b[92m+ LinearAlgebra v1.11.0\u001b[39m\n",
      "  \u001b[90m[56ddb016] \u001b[39m\u001b[92m+ Logging v1.11.0\u001b[39m\n",
      "  \u001b[90m[d6f4376e] \u001b[39m\u001b[92m+ Markdown v1.11.0\u001b[39m\n",
      "  \u001b[90m[a63ad114] \u001b[39m\u001b[92m+ Mmap v1.11.0\u001b[39m\n",
      "  \u001b[90m[ca575930] \u001b[39m\u001b[92m+ NetworkOptions v1.2.0\u001b[39m\n",
      "  \u001b[90m[44cfe95a] \u001b[39m\u001b[92m+ Pkg v1.11.0\u001b[39m\n",
      "  \u001b[90m[de0858da] \u001b[39m\u001b[92m+ Printf v1.11.0\u001b[39m\n",
      "  \u001b[90m[3fa0cd96] \u001b[39m\u001b[92m+ REPL v1.11.0\u001b[39m\n",
      "  \u001b[90m[9a3f8284] \u001b[39m\u001b[92m+ Random v1.11.0\u001b[39m\n",
      "  \u001b[90m[ea8e919c] \u001b[39m\u001b[92m+ SHA v0.7.0\u001b[39m\n",
      "  \u001b[90m[9e88b42a] \u001b[39m\u001b[92m+ Serialization v1.11.0\u001b[39m\n",
      "  \u001b[90m[6462fe0b] \u001b[39m\u001b[92m+ Sockets v1.11.0\u001b[39m\n",
      "  \u001b[90m[2f01184e] \u001b[39m\u001b[92m+ SparseArrays v1.11.0\u001b[39m\n",
      "  \u001b[90m[f489334b] \u001b[39m\u001b[92m+ StyledStrings v1.11.0\u001b[39m\n",
      "  \u001b[90m[fa267f1f] \u001b[39m\u001b[92m+ TOML v1.0.3\u001b[39m\n",
      "  \u001b[90m[a4e569a6] \u001b[39m\u001b[92m+ Tar v1.10.0\u001b[39m\n",
      "  \u001b[90m[cf7118a7] \u001b[39m\u001b[92m+ UUIDs v1.11.0\u001b[39m\n",
      "  \u001b[90m[4ec0a83e] \u001b[39m\u001b[92m+ Unicode v1.11.0\u001b[39m\n",
      "  \u001b[90m[e66e0078] \u001b[39m\u001b[92m+ CompilerSupportLibraries_jll v1.1.1+0\u001b[39m\n",
      "  \u001b[90m[deac9b47] \u001b[39m\u001b[92m+ LibCURL_jll v8.6.0+0\u001b[39m\n",
      "  \u001b[90m[e37daf67] \u001b[39m\u001b[92m+ LibGit2_jll v1.7.2+0\u001b[39m\n",
      "  \u001b[90m[29816b5a] \u001b[39m\u001b[92m+ LibSSH2_jll v1.11.0+1\u001b[39m\n",
      "  \u001b[90m[c8ffd9c3] \u001b[39m\u001b[92m+ MbedTLS_jll v2.28.6+0\u001b[39m\n",
      "  \u001b[90m[14a3606d] \u001b[39m\u001b[92m+ MozillaCACerts_jll v2023.12.12\u001b[39m\n",
      "  \u001b[90m[4536629a] \u001b[39m\u001b[92m+ OpenBLAS_jll v0.3.27+1\u001b[39m\n",
      "  \u001b[90m[05823500] \u001b[39m\u001b[92m+ OpenLibm_jll v0.8.5+0\u001b[39m\n",
      "  \u001b[90m[bea87d4a] \u001b[39m\u001b[92m+ SuiteSparse_jll v7.7.0+0\u001b[39m\n",
      "  \u001b[90m[83775a58] \u001b[39m\u001b[92m+ Zlib_jll v1.2.13+1\u001b[39m\n",
      "  \u001b[90m[8e850b90] \u001b[39m\u001b[92m+ libblastrampoline_jll v5.11.0+0\u001b[39m\n",
      "  \u001b[90m[8e850ede] \u001b[39m\u001b[92m+ nghttp2_jll v1.59.0+0\u001b[39m\n",
      "  \u001b[90m[3f19e933] \u001b[39m\u001b[92m+ p7zip_jll v17.4.0+2\u001b[39m\n",
      "\u001b[36m\u001b[1m        Info\u001b[22m\u001b[39m Packages marked with \u001b[33m⌅\u001b[39m have new versions available but compatibility constraints restrict them from upgrading. To see why use `status --outdated -m`\n"
     ]
    }
   ],
   "source": [
    "Pkg.add([\"VegaLite\", \"VegaDatasets\"])"
   ]
  },
  {
   "cell_type": "code",
   "execution_count": 32,
   "id": "b56a9fab",
   "metadata": {
    "slideshow": {
     "slide_type": "subslide"
    }
   },
   "outputs": [
    {
     "name": "stdout",
     "output_type": "stream",
     "text": [
      "\u001b[32m\u001b[1mStatus\u001b[22m\u001b[39m `~/Teaching/UCF/CAP-6318/book-myst/week02/Project.toml`\n",
      "  \u001b[90m[0ae4a718] \u001b[39mVegaDatasets v2.1.1\n",
      "  \u001b[90m[112f6efa] \u001b[39mVegaLite v3.3.0\n"
     ]
    }
   ],
   "source": [
    "Pkg.status()"
   ]
  },
  {
   "cell_type": "markdown",
   "id": "92d77a1c",
   "metadata": {},
   "source": [
    "* Note two things:\n",
    "    1. We can now use the packages\n",
    "    2. The `Pkg.add` command had this line in the printout: Updating `~/Teaching/UCF/CAP-6318/book-myst/week02/Project.toml`\n",
    "* We'll demonstrate we can use the packages below, then we'll dig into the `Project.toml`"
   ]
  },
  {
   "cell_type": "code",
   "execution_count": 20,
   "id": "e4cde579",
   "metadata": {
    "slideshow": {
     "slide_type": "subslide"
    }
   },
   "outputs": [
    {
     "data": {
      "application/vnd.vegalite.v5+json": {
       "data": {
        "values": [
         {
          "Acceleration": 12,
          "Cylinders": 8,
          "Displacement": 307,
          "Horsepower": 130,
          "Miles_per_Gallon": 18,
          "Name": "chevrolet chevelle malibu",
          "Origin": "USA",
          "Weight_in_lbs": 3504,
          "Year": "1970-01-01"
         },
         {
          "Acceleration": 11.5,
          "Cylinders": 8,
          "Displacement": 350,
          "Horsepower": 165,
          "Miles_per_Gallon": 15,
          "Name": "buick skylark 320",
          "Origin": "USA",
          "Weight_in_lbs": 3693,
          "Year": "1970-01-01"
         },
         {
          "Acceleration": 11,
          "Cylinders": 8,
          "Displacement": 318,
          "Horsepower": 150,
          "Miles_per_Gallon": 18,
          "Name": "plymouth satellite",
          "Origin": "USA",
          "Weight_in_lbs": 3436,
          "Year": "1970-01-01"
         },
         {
          "Acceleration": 12,
          "Cylinders": 8,
          "Displacement": 304,
          "Horsepower": 150,
          "Miles_per_Gallon": 16,
          "Name": "amc rebel sst",
          "Origin": "USA",
          "Weight_in_lbs": 3433,
          "Year": "1970-01-01"
         },
         {
          "Acceleration": 10.5,
          "Cylinders": 8,
          "Displacement": 302,
          "Horsepower": 140,
          "Miles_per_Gallon": 17,
          "Name": "ford torino",
          "Origin": "USA",
          "Weight_in_lbs": 3449,
          "Year": "1970-01-01"
         },
         {
          "Acceleration": 10,
          "Cylinders": 8,
          "Displacement": 429,
          "Horsepower": 198,
          "Miles_per_Gallon": 15,
          "Name": "ford galaxie 500",
          "Origin": "USA",
          "Weight_in_lbs": 4341,
          "Year": "1970-01-01"
         },
         {
          "Acceleration": 9,
          "Cylinders": 8,
          "Displacement": 454,
          "Horsepower": 220,
          "Miles_per_Gallon": 14,
          "Name": "chevrolet impala",
          "Origin": "USA",
          "Weight_in_lbs": 4354,
          "Year": "1970-01-01"
         },
         {
          "Acceleration": 8.5,
          "Cylinders": 8,
          "Displacement": 440,
          "Horsepower": 215,
          "Miles_per_Gallon": 14,
          "Name": "plymouth fury iii",
          "Origin": "USA",
          "Weight_in_lbs": 4312,
          "Year": "1970-01-01"
         },
         {
          "Acceleration": 10,
          "Cylinders": 8,
          "Displacement": 455,
          "Horsepower": 225,
          "Miles_per_Gallon": 14,
          "Name": "pontiac catalina",
          "Origin": "USA",
          "Weight_in_lbs": 4425,
          "Year": "1970-01-01"
         },
         {
          "Acceleration": 8.5,
          "Cylinders": 8,
          "Displacement": 390,
          "Horsepower": 190,
          "Miles_per_Gallon": 15,
          "Name": "amc ambassador dpl",
          "Origin": "USA",
          "Weight_in_lbs": 3850,
          "Year": "1970-01-01"
         },
         {
          "Acceleration": 17.5,
          "Cylinders": 4,
          "Displacement": 133,
          "Horsepower": 115,
          "Miles_per_Gallon": null,
          "Name": "citroen ds-21 pallas",
          "Origin": "Europe",
          "Weight_in_lbs": 3090,
          "Year": "1970-01-01"
         },
         {
          "Acceleration": 11.5,
          "Cylinders": 8,
          "Displacement": 350,
          "Horsepower": 165,
          "Miles_per_Gallon": null,
          "Name": "chevrolet chevelle concours (sw)",
          "Origin": "USA",
          "Weight_in_lbs": 4142,
          "Year": "1970-01-01"
         },
         {
          "Acceleration": 11,
          "Cylinders": 8,
          "Displacement": 351,
          "Horsepower": 153,
          "Miles_per_Gallon": null,
          "Name": "ford torino (sw)",
          "Origin": "USA",
          "Weight_in_lbs": 4034,
          "Year": "1970-01-01"
         },
         {
          "Acceleration": 10.5,
          "Cylinders": 8,
          "Displacement": 383,
          "Horsepower": 175,
          "Miles_per_Gallon": null,
          "Name": "plymouth satellite (sw)",
          "Origin": "USA",
          "Weight_in_lbs": 4166,
          "Year": "1970-01-01"
         },
         {
          "Acceleration": 11,
          "Cylinders": 8,
          "Displacement": 360,
          "Horsepower": 175,
          "Miles_per_Gallon": null,
          "Name": "amc rebel sst (sw)",
          "Origin": "USA",
          "Weight_in_lbs": 3850,
          "Year": "1970-01-01"
         },
         {
          "Acceleration": 10,
          "Cylinders": 8,
          "Displacement": 383,
          "Horsepower": 170,
          "Miles_per_Gallon": 15,
          "Name": "dodge challenger se",
          "Origin": "USA",
          "Weight_in_lbs": 3563,
          "Year": "1970-01-01"
         },
         {
          "Acceleration": 8,
          "Cylinders": 8,
          "Displacement": 340,
          "Horsepower": 160,
          "Miles_per_Gallon": 14,
          "Name": "plymouth 'cuda 340",
          "Origin": "USA",
          "Weight_in_lbs": 3609,
          "Year": "1970-01-01"
         },
         {
          "Acceleration": 8,
          "Cylinders": 8,
          "Displacement": 302,
          "Horsepower": 140,
          "Miles_per_Gallon": null,
          "Name": "ford mustang boss 302",
          "Origin": "USA",
          "Weight_in_lbs": 3353,
          "Year": "1970-01-01"
         },
         {
          "Acceleration": 9.5,
          "Cylinders": 8,
          "Displacement": 400,
          "Horsepower": 150,
          "Miles_per_Gallon": 15,
          "Name": "chevrolet monte carlo",
          "Origin": "USA",
          "Weight_in_lbs": 3761,
          "Year": "1970-01-01"
         },
         {
          "Acceleration": 10,
          "Cylinders": 8,
          "Displacement": 455,
          "Horsepower": 225,
          "Miles_per_Gallon": 14,
          "Name": "buick estate wagon (sw)",
          "Origin": "USA",
          "Weight_in_lbs": 3086,
          "Year": "1970-01-01"
         },
         {
          "Acceleration": 15,
          "Cylinders": 4,
          "Displacement": 113,
          "Horsepower": 95,
          "Miles_per_Gallon": 24,
          "Name": "toyota corona mark ii",
          "Origin": "Japan",
          "Weight_in_lbs": 2372,
          "Year": "1970-01-01"
         },
         {
          "Acceleration": 15.5,
          "Cylinders": 6,
          "Displacement": 198,
          "Horsepower": 95,
          "Miles_per_Gallon": 22,
          "Name": "plymouth duster",
          "Origin": "USA",
          "Weight_in_lbs": 2833,
          "Year": "1970-01-01"
         },
         {
          "Acceleration": 15.5,
          "Cylinders": 6,
          "Displacement": 199,
          "Horsepower": 97,
          "Miles_per_Gallon": 18,
          "Name": "amc hornet",
          "Origin": "USA",
          "Weight_in_lbs": 2774,
          "Year": "1970-01-01"
         },
         {
          "Acceleration": 16,
          "Cylinders": 6,
          "Displacement": 200,
          "Horsepower": 85,
          "Miles_per_Gallon": 21,
          "Name": "ford maverick",
          "Origin": "USA",
          "Weight_in_lbs": 2587,
          "Year": "1970-01-01"
         },
         {
          "Acceleration": 14.5,
          "Cylinders": 4,
          "Displacement": 97,
          "Horsepower": 88,
          "Miles_per_Gallon": 27,
          "Name": "datsun pl510",
          "Origin": "Japan",
          "Weight_in_lbs": 2130,
          "Year": "1970-01-01"
         },
         {
          "Acceleration": 20.5,
          "Cylinders": 4,
          "Displacement": 97,
          "Horsepower": 46,
          "Miles_per_Gallon": 26,
          "Name": "volkswagen 1131 deluxe sedan",
          "Origin": "Europe",
          "Weight_in_lbs": 1835,
          "Year": "1970-01-01"
         },
         {
          "Acceleration": 17.5,
          "Cylinders": 4,
          "Displacement": 110,
          "Horsepower": 87,
          "Miles_per_Gallon": 25,
          "Name": "peugeot 504",
          "Origin": "Europe",
          "Weight_in_lbs": 2672,
          "Year": "1970-01-01"
         },
         {
          "Acceleration": 14.5,
          "Cylinders": 4,
          "Displacement": 107,
          "Horsepower": 90,
          "Miles_per_Gallon": 24,
          "Name": "audi 100 ls",
          "Origin": "Europe",
          "Weight_in_lbs": 2430,
          "Year": "1970-01-01"
         },
         {
          "Acceleration": 17.5,
          "Cylinders": 4,
          "Displacement": 104,
          "Horsepower": 95,
          "Miles_per_Gallon": 25,
          "Name": "saab 99e",
          "Origin": "Europe",
          "Weight_in_lbs": 2375,
          "Year": "1970-01-01"
         },
         {
          "Acceleration": 12.5,
          "Cylinders": 4,
          "Displacement": 121,
          "Horsepower": 113,
          "Miles_per_Gallon": 26,
          "Name": "bmw 2002",
          "Origin": "Europe",
          "Weight_in_lbs": 2234,
          "Year": "1970-01-01"
         },
         {
          "Acceleration": 15,
          "Cylinders": 6,
          "Displacement": 199,
          "Horsepower": 90,
          "Miles_per_Gallon": 21,
          "Name": "amc gremlin",
          "Origin": "USA",
          "Weight_in_lbs": 2648,
          "Year": "1970-01-01"
         },
         {
          "Acceleration": 14,
          "Cylinders": 8,
          "Displacement": 360,
          "Horsepower": 215,
          "Miles_per_Gallon": 10,
          "Name": "ford f250",
          "Origin": "USA",
          "Weight_in_lbs": 4615,
          "Year": "1970-01-01"
         },
         {
          "Acceleration": 15,
          "Cylinders": 8,
          "Displacement": 307,
          "Horsepower": 200,
          "Miles_per_Gallon": 10,
          "Name": "chevy c20",
          "Origin": "USA",
          "Weight_in_lbs": 4376,
          "Year": "1970-01-01"
         },
         {
          "Acceleration": 13.5,
          "Cylinders": 8,
          "Displacement": 318,
          "Horsepower": 210,
          "Miles_per_Gallon": 11,
          "Name": "dodge d200",
          "Origin": "USA",
          "Weight_in_lbs": 4382,
          "Year": "1970-01-01"
         },
         {
          "Acceleration": 18.5,
          "Cylinders": 8,
          "Displacement": 304,
          "Horsepower": 193,
          "Miles_per_Gallon": 9,
          "Name": "hi 1200d",
          "Origin": "USA",
          "Weight_in_lbs": 4732,
          "Year": "1970-01-01"
         },
         {
          "Acceleration": 14.5,
          "Cylinders": 4,
          "Displacement": 97,
          "Horsepower": 88,
          "Miles_per_Gallon": 27,
          "Name": "datsun pl510",
          "Origin": "Japan",
          "Weight_in_lbs": 2130,
          "Year": "1971-01-01"
         },
         {
          "Acceleration": 15.5,
          "Cylinders": 4,
          "Displacement": 140,
          "Horsepower": 90,
          "Miles_per_Gallon": 28,
          "Name": "chevrolet vega 2300",
          "Origin": "USA",
          "Weight_in_lbs": 2264,
          "Year": "1971-01-01"
         },
         {
          "Acceleration": 14,
          "Cylinders": 4,
          "Displacement": 113,
          "Horsepower": 95,
          "Miles_per_Gallon": 25,
          "Name": "toyota corona",
          "Origin": "Japan",
          "Weight_in_lbs": 2228,
          "Year": "1971-01-01"
         },
         {
          "Acceleration": 19,
          "Cylinders": 4,
          "Displacement": 98,
          "Horsepower": null,
          "Miles_per_Gallon": 25,
          "Name": "ford pinto",
          "Origin": "USA",
          "Weight_in_lbs": 2046,
          "Year": "1971-01-01"
         },
         {
          "Acceleration": 20,
          "Cylinders": 4,
          "Displacement": 97,
          "Horsepower": 48,
          "Miles_per_Gallon": null,
          "Name": "volkswagen super beetle 117",
          "Origin": "Europe",
          "Weight_in_lbs": 1978,
          "Year": "1971-01-01"
         },
         {
          "Acceleration": 13,
          "Cylinders": 6,
          "Displacement": 232,
          "Horsepower": 100,
          "Miles_per_Gallon": 19,
          "Name": "amc gremlin",
          "Origin": "USA",
          "Weight_in_lbs": 2634,
          "Year": "1971-01-01"
         },
         {
          "Acceleration": 15.5,
          "Cylinders": 6,
          "Displacement": 225,
          "Horsepower": 105,
          "Miles_per_Gallon": 16,
          "Name": "plymouth satellite custom",
          "Origin": "USA",
          "Weight_in_lbs": 3439,
          "Year": "1971-01-01"
         },
         {
          "Acceleration": 15.5,
          "Cylinders": 6,
          "Displacement": 250,
          "Horsepower": 100,
          "Miles_per_Gallon": 17,
          "Name": "chevrolet chevelle malibu",
          "Origin": "USA",
          "Weight_in_lbs": 3329,
          "Year": "1971-01-01"
         },
         {
          "Acceleration": 15.5,
          "Cylinders": 6,
          "Displacement": 250,
          "Horsepower": 88,
          "Miles_per_Gallon": 19,
          "Name": "ford torino 500",
          "Origin": "USA",
          "Weight_in_lbs": 3302,
          "Year": "1971-01-01"
         },
         {
          "Acceleration": 15.5,
          "Cylinders": 6,
          "Displacement": 232,
          "Horsepower": 100,
          "Miles_per_Gallon": 18,
          "Name": "amc matador",
          "Origin": "USA",
          "Weight_in_lbs": 3288,
          "Year": "1971-01-01"
         },
         {
          "Acceleration": 12,
          "Cylinders": 8,
          "Displacement": 350,
          "Horsepower": 165,
          "Miles_per_Gallon": 14,
          "Name": "chevrolet impala",
          "Origin": "USA",
          "Weight_in_lbs": 4209,
          "Year": "1971-01-01"
         },
         {
          "Acceleration": 11.5,
          "Cylinders": 8,
          "Displacement": 400,
          "Horsepower": 175,
          "Miles_per_Gallon": 14,
          "Name": "pontiac catalina brougham",
          "Origin": "USA",
          "Weight_in_lbs": 4464,
          "Year": "1971-01-01"
         },
         {
          "Acceleration": 13.5,
          "Cylinders": 8,
          "Displacement": 351,
          "Horsepower": 153,
          "Miles_per_Gallon": 14,
          "Name": "ford galaxie 500",
          "Origin": "USA",
          "Weight_in_lbs": 4154,
          "Year": "1971-01-01"
         },
         {
          "Acceleration": 13,
          "Cylinders": 8,
          "Displacement": 318,
          "Horsepower": 150,
          "Miles_per_Gallon": 14,
          "Name": "plymouth fury iii",
          "Origin": "USA",
          "Weight_in_lbs": 4096,
          "Year": "1971-01-01"
         },
         {
          "Acceleration": 11.5,
          "Cylinders": 8,
          "Displacement": 383,
          "Horsepower": 180,
          "Miles_per_Gallon": 12,
          "Name": "dodge monaco (sw)",
          "Origin": "USA",
          "Weight_in_lbs": 4955,
          "Year": "1971-01-01"
         },
         {
          "Acceleration": 12,
          "Cylinders": 8,
          "Displacement": 400,
          "Horsepower": 170,
          "Miles_per_Gallon": 13,
          "Name": "ford country squire (sw)",
          "Origin": "USA",
          "Weight_in_lbs": 4746,
          "Year": "1971-01-01"
         },
         {
          "Acceleration": 12,
          "Cylinders": 8,
          "Displacement": 400,
          "Horsepower": 175,
          "Miles_per_Gallon": 13,
          "Name": "pontiac safari (sw)",
          "Origin": "USA",
          "Weight_in_lbs": 5140,
          "Year": "1971-01-01"
         },
         {
          "Acceleration": 13.5,
          "Cylinders": 6,
          "Displacement": 258,
          "Horsepower": 110,
          "Miles_per_Gallon": 18,
          "Name": "amc hornet sportabout (sw)",
          "Origin": "USA",
          "Weight_in_lbs": 2962,
          "Year": "1971-01-01"
         },
         {
          "Acceleration": 19,
          "Cylinders": 4,
          "Displacement": 140,
          "Horsepower": 72,
          "Miles_per_Gallon": 22,
          "Name": "chevrolet vega (sw)",
          "Origin": "USA",
          "Weight_in_lbs": 2408,
          "Year": "1971-01-01"
         },
         {
          "Acceleration": 15,
          "Cylinders": 6,
          "Displacement": 250,
          "Horsepower": 100,
          "Miles_per_Gallon": 19,
          "Name": "pontiac firebird",
          "Origin": "USA",
          "Weight_in_lbs": 3282,
          "Year": "1971-01-01"
         },
         {
          "Acceleration": 14.5,
          "Cylinders": 6,
          "Displacement": 250,
          "Horsepower": 88,
          "Miles_per_Gallon": 18,
          "Name": "ford mustang",
          "Origin": "USA",
          "Weight_in_lbs": 3139,
          "Year": "1971-01-01"
         },
         {
          "Acceleration": 14,
          "Cylinders": 4,
          "Displacement": 122,
          "Horsepower": 86,
          "Miles_per_Gallon": 23,
          "Name": "mercury capri 2000",
          "Origin": "USA",
          "Weight_in_lbs": 2220,
          "Year": "1971-01-01"
         },
         {
          "Acceleration": 14,
          "Cylinders": 4,
          "Displacement": 116,
          "Horsepower": 90,
          "Miles_per_Gallon": 28,
          "Name": "opel 1900",
          "Origin": "Europe",
          "Weight_in_lbs": 2123,
          "Year": "1971-01-01"
         },
         {
          "Acceleration": 19.5,
          "Cylinders": 4,
          "Displacement": 79,
          "Horsepower": 70,
          "Miles_per_Gallon": 30,
          "Name": "peugeot 304",
          "Origin": "Europe",
          "Weight_in_lbs": 2074,
          "Year": "1971-01-01"
         },
         {
          "Acceleration": 14.5,
          "Cylinders": 4,
          "Displacement": 88,
          "Horsepower": 76,
          "Miles_per_Gallon": 30,
          "Name": "fiat 124b",
          "Origin": "Europe",
          "Weight_in_lbs": 2065,
          "Year": "1971-01-01"
         },
         {
          "Acceleration": 19,
          "Cylinders": 4,
          "Displacement": 71,
          "Horsepower": 65,
          "Miles_per_Gallon": 31,
          "Name": "toyota corolla 1200",
          "Origin": "Japan",
          "Weight_in_lbs": 1773,
          "Year": "1971-01-01"
         },
         {
          "Acceleration": 18,
          "Cylinders": 4,
          "Displacement": 72,
          "Horsepower": 69,
          "Miles_per_Gallon": 35,
          "Name": "datsun 1200",
          "Origin": "Japan",
          "Weight_in_lbs": 1613,
          "Year": "1971-01-01"
         },
         {
          "Acceleration": 19,
          "Cylinders": 4,
          "Displacement": 97,
          "Horsepower": 60,
          "Miles_per_Gallon": 27,
          "Name": "volkswagen model 111",
          "Origin": "Europe",
          "Weight_in_lbs": 1834,
          "Year": "1971-01-01"
         },
         {
          "Acceleration": 20.5,
          "Cylinders": 4,
          "Displacement": 91,
          "Horsepower": 70,
          "Miles_per_Gallon": 26,
          "Name": "plymouth cricket",
          "Origin": "USA",
          "Weight_in_lbs": 1955,
          "Year": "1971-01-01"
         },
         {
          "Acceleration": 15.5,
          "Cylinders": 4,
          "Displacement": 113,
          "Horsepower": 95,
          "Miles_per_Gallon": 24,
          "Name": "toyota corona hardtop",
          "Origin": "Japan",
          "Weight_in_lbs": 2278,
          "Year": "1972-01-01"
         },
         {
          "Acceleration": 17,
          "Cylinders": 4,
          "Displacement": 97.5,
          "Horsepower": 80,
          "Miles_per_Gallon": 25,
          "Name": "dodge colt hardtop",
          "Origin": "USA",
          "Weight_in_lbs": 2126,
          "Year": "1972-01-01"
         },
         {
          "Acceleration": 23.5,
          "Cylinders": 4,
          "Displacement": 97,
          "Horsepower": 54,
          "Miles_per_Gallon": 23,
          "Name": "volkswagen type 3",
          "Origin": "Europe",
          "Weight_in_lbs": 2254,
          "Year": "1972-01-01"
         },
         {
          "Acceleration": 19.5,
          "Cylinders": 4,
          "Displacement": 140,
          "Horsepower": 90,
          "Miles_per_Gallon": 20,
          "Name": "chevrolet vega",
          "Origin": "USA",
          "Weight_in_lbs": 2408,
          "Year": "1972-01-01"
         },
         {
          "Acceleration": 16.5,
          "Cylinders": 4,
          "Displacement": 122,
          "Horsepower": 86,
          "Miles_per_Gallon": 21,
          "Name": "ford pinto runabout",
          "Origin": "USA",
          "Weight_in_lbs": 2226,
          "Year": "1972-01-01"
         },
         {
          "Acceleration": 12,
          "Cylinders": 8,
          "Displacement": 350,
          "Horsepower": 165,
          "Miles_per_Gallon": 13,
          "Name": "chevrolet impala",
          "Origin": "USA",
          "Weight_in_lbs": 4274,
          "Year": "1972-01-01"
         },
         {
          "Acceleration": 12,
          "Cylinders": 8,
          "Displacement": 400,
          "Horsepower": 175,
          "Miles_per_Gallon": 14,
          "Name": "pontiac catalina",
          "Origin": "USA",
          "Weight_in_lbs": 4385,
          "Year": "1972-01-01"
         },
         {
          "Acceleration": 13.5,
          "Cylinders": 8,
          "Displacement": 318,
          "Horsepower": 150,
          "Miles_per_Gallon": 15,
          "Name": "plymouth fury iii",
          "Origin": "USA",
          "Weight_in_lbs": 4135,
          "Year": "1972-01-01"
         },
         {
          "Acceleration": 13,
          "Cylinders": 8,
          "Displacement": 351,
          "Horsepower": 153,
          "Miles_per_Gallon": 14,
          "Name": "ford galaxie 500",
          "Origin": "USA",
          "Weight_in_lbs": 4129,
          "Year": "1972-01-01"
         },
         {
          "Acceleration": 11.5,
          "Cylinders": 8,
          "Displacement": 304,
          "Horsepower": 150,
          "Miles_per_Gallon": 17,
          "Name": "amc ambassador sst",
          "Origin": "USA",
          "Weight_in_lbs": 3672,
          "Year": "1972-01-01"
         },
         {
          "Acceleration": 11,
          "Cylinders": 8,
          "Displacement": 429,
          "Horsepower": 208,
          "Miles_per_Gallon": 11,
          "Name": "mercury marquis",
          "Origin": "USA",
          "Weight_in_lbs": 4633,
          "Year": "1972-01-01"
         },
         {
          "Acceleration": 13.5,
          "Cylinders": 8,
          "Displacement": 350,
          "Horsepower": 155,
          "Miles_per_Gallon": 13,
          "Name": "buick lesabre custom",
          "Origin": "USA",
          "Weight_in_lbs": 4502,
          "Year": "1972-01-01"
         },
         {
          "Acceleration": 13.5,
          "Cylinders": 8,
          "Displacement": 350,
          "Horsepower": 160,
          "Miles_per_Gallon": 12,
          "Name": "oldsmobile delta 88 royale",
          "Origin": "USA",
          "Weight_in_lbs": 4456,
          "Year": "1972-01-01"
         },
         {
          "Acceleration": 12.5,
          "Cylinders": 8,
          "Displacement": 400,
          "Horsepower": 190,
          "Miles_per_Gallon": 13,
          "Name": "chrysler newport royal",
          "Origin": "USA",
          "Weight_in_lbs": 4422,
          "Year": "1972-01-01"
         },
         {
          "Acceleration": 13.5,
          "Cylinders": 3,
          "Displacement": 70,
          "Horsepower": 97,
          "Miles_per_Gallon": 19,
          "Name": "mazda rx2 coupe",
          "Origin": "Japan",
          "Weight_in_lbs": 2330,
          "Year": "1972-01-01"
         },
         {
          "Acceleration": 12.5,
          "Cylinders": 8,
          "Displacement": 304,
          "Horsepower": 150,
          "Miles_per_Gallon": 15,
          "Name": "amc matador (sw)",
          "Origin": "USA",
          "Weight_in_lbs": 3892,
          "Year": "1972-01-01"
         },
         {
          "Acceleration": 14,
          "Cylinders": 8,
          "Displacement": 307,
          "Horsepower": 130,
          "Miles_per_Gallon": 13,
          "Name": "chevrolet chevelle concours (sw)",
          "Origin": "USA",
          "Weight_in_lbs": 4098,
          "Year": "1972-01-01"
         },
         {
          "Acceleration": 16,
          "Cylinders": 8,
          "Displacement": 302,
          "Horsepower": 140,
          "Miles_per_Gallon": 13,
          "Name": "ford gran torino (sw)",
          "Origin": "USA",
          "Weight_in_lbs": 4294,
          "Year": "1972-01-01"
         },
         {
          "Acceleration": 14,
          "Cylinders": 8,
          "Displacement": 318,
          "Horsepower": 150,
          "Miles_per_Gallon": 14,
          "Name": "plymouth satellite custom (sw)",
          "Origin": "USA",
          "Weight_in_lbs": 4077,
          "Year": "1972-01-01"
         },
         {
          "Acceleration": 14.5,
          "Cylinders": 4,
          "Displacement": 121,
          "Horsepower": 112,
          "Miles_per_Gallon": 18,
          "Name": "volvo 145e (sw)",
          "Origin": "Europe",
          "Weight_in_lbs": 2933,
          "Year": "1972-01-01"
         },
         {
          "Acceleration": 18,
          "Cylinders": 4,
          "Displacement": 121,
          "Horsepower": 76,
          "Miles_per_Gallon": 22,
          "Name": "volkswagen 411 (sw)",
          "Origin": "Europe",
          "Weight_in_lbs": 2511,
          "Year": "1972-01-01"
         },
         {
          "Acceleration": 19.5,
          "Cylinders": 4,
          "Displacement": 120,
          "Horsepower": 87,
          "Miles_per_Gallon": 21,
          "Name": "peugeot 504 (sw)",
          "Origin": "Europe",
          "Weight_in_lbs": 2979,
          "Year": "1972-01-01"
         },
         {
          "Acceleration": 18,
          "Cylinders": 4,
          "Displacement": 96,
          "Horsepower": 69,
          "Miles_per_Gallon": 26,
          "Name": "renault 12 (sw)",
          "Origin": "Europe",
          "Weight_in_lbs": 2189,
          "Year": "1972-01-01"
         },
         {
          "Acceleration": 16,
          "Cylinders": 4,
          "Displacement": 122,
          "Horsepower": 86,
          "Miles_per_Gallon": 22,
          "Name": "ford pinto (sw)",
          "Origin": "USA",
          "Weight_in_lbs": 2395,
          "Year": "1972-01-01"
         },
         {
          "Acceleration": 17,
          "Cylinders": 4,
          "Displacement": 97,
          "Horsepower": 92,
          "Miles_per_Gallon": 28,
          "Name": "datsun 510 (sw)",
          "Origin": "Japan",
          "Weight_in_lbs": 2288,
          "Year": "1972-01-01"
         },
         {
          "Acceleration": 14.5,
          "Cylinders": 4,
          "Displacement": 120,
          "Horsepower": 97,
          "Miles_per_Gallon": 23,
          "Name": "toyouta corona mark ii (sw)",
          "Origin": "Japan",
          "Weight_in_lbs": 2506,
          "Year": "1972-01-01"
         },
         {
          "Acceleration": 15,
          "Cylinders": 4,
          "Displacement": 98,
          "Horsepower": 80,
          "Miles_per_Gallon": 28,
          "Name": "dodge colt (sw)",
          "Origin": "USA",
          "Weight_in_lbs": 2164,
          "Year": "1972-01-01"
         },
         {
          "Acceleration": 16.5,
          "Cylinders": 4,
          "Displacement": 97,
          "Horsepower": 88,
          "Miles_per_Gallon": 27,
          "Name": "toyota corolla 1600 (sw)",
          "Origin": "Japan",
          "Weight_in_lbs": 2100,
          "Year": "1972-01-01"
         },
         {
          "Acceleration": 13,
          "Cylinders": 8,
          "Displacement": 350,
          "Horsepower": 175,
          "Miles_per_Gallon": 13,
          "Name": "buick century 350",
          "Origin": "USA",
          "Weight_in_lbs": 4100,
          "Year": "1973-01-01"
         },
         {
          "Acceleration": 11.5,
          "Cylinders": 8,
          "Displacement": 304,
          "Horsepower": 150,
          "Miles_per_Gallon": 14,
          "Name": "amc matador",
          "Origin": "USA",
          "Weight_in_lbs": 3672,
          "Year": "1973-01-01"
         },
         {
          "Acceleration": 13,
          "Cylinders": 8,
          "Displacement": 350,
          "Horsepower": 145,
          "Miles_per_Gallon": 13,
          "Name": "chevrolet malibu",
          "Origin": "USA",
          "Weight_in_lbs": 3988,
          "Year": "1973-01-01"
         },
         {
          "Acceleration": 14.5,
          "Cylinders": 8,
          "Displacement": 302,
          "Horsepower": 137,
          "Miles_per_Gallon": 14,
          "Name": "ford gran torino",
          "Origin": "USA",
          "Weight_in_lbs": 4042,
          "Year": "1973-01-01"
         },
         {
          "Acceleration": 12.5,
          "Cylinders": 8,
          "Displacement": 318,
          "Horsepower": 150,
          "Miles_per_Gallon": 15,
          "Name": "dodge coronet custom",
          "Origin": "USA",
          "Weight_in_lbs": 3777,
          "Year": "1973-01-01"
         },
         {
          "Acceleration": 11.5,
          "Cylinders": 8,
          "Displacement": 429,
          "Horsepower": 198,
          "Miles_per_Gallon": 12,
          "Name": "mercury marquis brougham",
          "Origin": "USA",
          "Weight_in_lbs": 4952,
          "Year": "1973-01-01"
         },
         {
          "Acceleration": 12,
          "Cylinders": 8,
          "Displacement": 400,
          "Horsepower": 150,
          "Miles_per_Gallon": 13,
          "Name": "chevrolet caprice classic",
          "Origin": "USA",
          "Weight_in_lbs": 4464,
          "Year": "1973-01-01"
         },
         {
          "Acceleration": 13,
          "Cylinders": 8,
          "Displacement": 351,
          "Horsepower": 158,
          "Miles_per_Gallon": 13,
          "Name": "ford ltd",
          "Origin": "USA",
          "Weight_in_lbs": 4363,
          "Year": "1973-01-01"
         },
         {
          "Acceleration": 14.5,
          "Cylinders": 8,
          "Displacement": 318,
          "Horsepower": 150,
          "Miles_per_Gallon": 14,
          "Name": "plymouth fury gran sedan",
          "Origin": "USA",
          "Weight_in_lbs": 4237,
          "Year": "1973-01-01"
         },
         {
          "Acceleration": 11,
          "Cylinders": 8,
          "Displacement": 440,
          "Horsepower": 215,
          "Miles_per_Gallon": 13,
          "Name": "chrysler new yorker brougham",
          "Origin": "USA",
          "Weight_in_lbs": 4735,
          "Year": "1973-01-01"
         },
         {
          "Acceleration": 11,
          "Cylinders": 8,
          "Displacement": 455,
          "Horsepower": 225,
          "Miles_per_Gallon": 12,
          "Name": "buick electra 225 custom",
          "Origin": "USA",
          "Weight_in_lbs": 4951,
          "Year": "1973-01-01"
         },
         {
          "Acceleration": 11,
          "Cylinders": 8,
          "Displacement": 360,
          "Horsepower": 175,
          "Miles_per_Gallon": 13,
          "Name": "amc ambassador brougham",
          "Origin": "USA",
          "Weight_in_lbs": 3821,
          "Year": "1973-01-01"
         },
         {
          "Acceleration": 16.5,
          "Cylinders": 6,
          "Displacement": 225,
          "Horsepower": 105,
          "Miles_per_Gallon": 18,
          "Name": "plymouth valiant",
          "Origin": "USA",
          "Weight_in_lbs": 3121,
          "Year": "1973-01-01"
         },
         {
          "Acceleration": 18,
          "Cylinders": 6,
          "Displacement": 250,
          "Horsepower": 100,
          "Miles_per_Gallon": 16,
          "Name": "chevrolet nova custom",
          "Origin": "USA",
          "Weight_in_lbs": 3278,
          "Year": "1973-01-01"
         },
         {
          "Acceleration": 16,
          "Cylinders": 6,
          "Displacement": 232,
          "Horsepower": 100,
          "Miles_per_Gallon": 18,
          "Name": "amc hornet",
          "Origin": "USA",
          "Weight_in_lbs": 2945,
          "Year": "1973-01-01"
         },
         {
          "Acceleration": 16.5,
          "Cylinders": 6,
          "Displacement": 250,
          "Horsepower": 88,
          "Miles_per_Gallon": 18,
          "Name": "ford maverick",
          "Origin": "USA",
          "Weight_in_lbs": 3021,
          "Year": "1973-01-01"
         },
         {
          "Acceleration": 16,
          "Cylinders": 6,
          "Displacement": 198,
          "Horsepower": 95,
          "Miles_per_Gallon": 23,
          "Name": "plymouth duster",
          "Origin": "USA",
          "Weight_in_lbs": 2904,
          "Year": "1973-01-01"
         },
         {
          "Acceleration": 21,
          "Cylinders": 4,
          "Displacement": 97,
          "Horsepower": 46,
          "Miles_per_Gallon": 26,
          "Name": "volkswagen super beetle",
          "Origin": "Europe",
          "Weight_in_lbs": 1950,
          "Year": "1973-01-01"
         },
         {
          "Acceleration": 14,
          "Cylinders": 8,
          "Displacement": 400,
          "Horsepower": 150,
          "Miles_per_Gallon": 11,
          "Name": "chevrolet impala",
          "Origin": "USA",
          "Weight_in_lbs": 4997,
          "Year": "1973-01-01"
         },
         {
          "Acceleration": 12.5,
          "Cylinders": 8,
          "Displacement": 400,
          "Horsepower": 167,
          "Miles_per_Gallon": 12,
          "Name": "ford country",
          "Origin": "USA",
          "Weight_in_lbs": 4906,
          "Year": "1973-01-01"
         },
         {
          "Acceleration": 13,
          "Cylinders": 8,
          "Displacement": 360,
          "Horsepower": 170,
          "Miles_per_Gallon": 13,
          "Name": "plymouth custom suburb",
          "Origin": "USA",
          "Weight_in_lbs": 4654,
          "Year": "1973-01-01"
         },
         {
          "Acceleration": 12.5,
          "Cylinders": 8,
          "Displacement": 350,
          "Horsepower": 180,
          "Miles_per_Gallon": 12,
          "Name": "oldsmobile vista cruiser",
          "Origin": "USA",
          "Weight_in_lbs": 4499,
          "Year": "1973-01-01"
         },
         {
          "Acceleration": 15,
          "Cylinders": 6,
          "Displacement": 232,
          "Horsepower": 100,
          "Miles_per_Gallon": 18,
          "Name": "amc gremlin",
          "Origin": "USA",
          "Weight_in_lbs": 2789,
          "Year": "1973-01-01"
         },
         {
          "Acceleration": 19,
          "Cylinders": 4,
          "Displacement": 97,
          "Horsepower": 88,
          "Miles_per_Gallon": 20,
          "Name": "toyota carina",
          "Origin": "Japan",
          "Weight_in_lbs": 2279,
          "Year": "1973-01-01"
         },
         {
          "Acceleration": 19.5,
          "Cylinders": 4,
          "Displacement": 140,
          "Horsepower": 72,
          "Miles_per_Gallon": 21,
          "Name": "chevrolet vega",
          "Origin": "USA",
          "Weight_in_lbs": 2401,
          "Year": "1973-01-01"
         },
         {
          "Acceleration": 16.5,
          "Cylinders": 4,
          "Displacement": 108,
          "Horsepower": 94,
          "Miles_per_Gallon": 22,
          "Name": "datsun 610",
          "Origin": "Japan",
          "Weight_in_lbs": 2379,
          "Year": "1973-01-01"
         },
         {
          "Acceleration": 13.5,
          "Cylinders": 3,
          "Displacement": 70,
          "Horsepower": 90,
          "Miles_per_Gallon": 18,
          "Name": "maxda rx3",
          "Origin": "Japan",
          "Weight_in_lbs": 2124,
          "Year": "1973-01-01"
         },
         {
          "Acceleration": 18.5,
          "Cylinders": 4,
          "Displacement": 122,
          "Horsepower": 85,
          "Miles_per_Gallon": 19,
          "Name": "ford pinto",
          "Origin": "USA",
          "Weight_in_lbs": 2310,
          "Year": "1973-01-01"
         },
         {
          "Acceleration": 14,
          "Cylinders": 6,
          "Displacement": 155,
          "Horsepower": 107,
          "Miles_per_Gallon": 21,
          "Name": "mercury capri v6",
          "Origin": "USA",
          "Weight_in_lbs": 2472,
          "Year": "1973-01-01"
         },
         {
          "Acceleration": 15.5,
          "Cylinders": 4,
          "Displacement": 98,
          "Horsepower": 90,
          "Miles_per_Gallon": 26,
          "Name": "fiat 124 sport coupe",
          "Origin": "Europe",
          "Weight_in_lbs": 2265,
          "Year": "1973-01-01"
         },
         {
          "Acceleration": 13,
          "Cylinders": 8,
          "Displacement": 350,
          "Horsepower": 145,
          "Miles_per_Gallon": 15,
          "Name": "chevrolet monte carlo s",
          "Origin": "USA",
          "Weight_in_lbs": 4082,
          "Year": "1973-01-01"
         },
         {
          "Acceleration": 9.5,
          "Cylinders": 8,
          "Displacement": 400,
          "Horsepower": 230,
          "Miles_per_Gallon": 16,
          "Name": "pontiac grand prix",
          "Origin": "USA",
          "Weight_in_lbs": 4278,
          "Year": "1973-01-01"
         },
         {
          "Acceleration": 19.5,
          "Cylinders": 4,
          "Displacement": 68,
          "Horsepower": 49,
          "Miles_per_Gallon": 29,
          "Name": "fiat 128",
          "Origin": "Europe",
          "Weight_in_lbs": 1867,
          "Year": "1973-01-01"
         },
         {
          "Acceleration": 15.5,
          "Cylinders": 4,
          "Displacement": 116,
          "Horsepower": 75,
          "Miles_per_Gallon": 24,
          "Name": "opel manta",
          "Origin": "Europe",
          "Weight_in_lbs": 2158,
          "Year": "1973-01-01"
         },
         {
          "Acceleration": 14,
          "Cylinders": 4,
          "Displacement": 114,
          "Horsepower": 91,
          "Miles_per_Gallon": 20,
          "Name": "audi 100ls",
          "Origin": "Europe",
          "Weight_in_lbs": 2582,
          "Year": "1973-01-01"
         },
         {
          "Acceleration": 15.5,
          "Cylinders": 4,
          "Displacement": 121,
          "Horsepower": 112,
          "Miles_per_Gallon": 19,
          "Name": "volvo 144ea",
          "Origin": "Europe",
          "Weight_in_lbs": 2868,
          "Year": "1973-01-01"
         },
         {
          "Acceleration": 11,
          "Cylinders": 8,
          "Displacement": 318,
          "Horsepower": 150,
          "Miles_per_Gallon": 15,
          "Name": "dodge dart custom",
          "Origin": "USA",
          "Weight_in_lbs": 3399,
          "Year": "1973-01-01"
         },
         {
          "Acceleration": 14,
          "Cylinders": 4,
          "Displacement": 121,
          "Horsepower": 110,
          "Miles_per_Gallon": 24,
          "Name": "saab 99le",
          "Origin": "Europe",
          "Weight_in_lbs": 2660,
          "Year": "1973-01-01"
         },
         {
          "Acceleration": 13.5,
          "Cylinders": 6,
          "Displacement": 156,
          "Horsepower": 122,
          "Miles_per_Gallon": 20,
          "Name": "toyota mark ii",
          "Origin": "Japan",
          "Weight_in_lbs": 2807,
          "Year": "1973-01-01"
         },
         {
          "Acceleration": 11,
          "Cylinders": 8,
          "Displacement": 350,
          "Horsepower": 180,
          "Miles_per_Gallon": 11,
          "Name": "oldsmobile omega",
          "Origin": "USA",
          "Weight_in_lbs": 3664,
          "Year": "1973-01-01"
         },
         {
          "Acceleration": 16.5,
          "Cylinders": 6,
          "Displacement": 198,
          "Horsepower": 95,
          "Miles_per_Gallon": 20,
          "Name": "plymouth duster",
          "Origin": "USA",
          "Weight_in_lbs": 3102,
          "Year": "1974-01-01"
         },
         {
          "Acceleration": 17,
          "Cylinders": 6,
          "Displacement": 200,
          "Horsepower": null,
          "Miles_per_Gallon": 21,
          "Name": "ford maverick",
          "Origin": "USA",
          "Weight_in_lbs": 2875,
          "Year": "1974-01-01"
         },
         {
          "Acceleration": 16,
          "Cylinders": 6,
          "Displacement": 232,
          "Horsepower": 100,
          "Miles_per_Gallon": 19,
          "Name": "amc hornet",
          "Origin": "USA",
          "Weight_in_lbs": 2901,
          "Year": "1974-01-01"
         },
         {
          "Acceleration": 17,
          "Cylinders": 6,
          "Displacement": 250,
          "Horsepower": 100,
          "Miles_per_Gallon": 15,
          "Name": "chevrolet nova",
          "Origin": "USA",
          "Weight_in_lbs": 3336,
          "Year": "1974-01-01"
         },
         {
          "Acceleration": 19,
          "Cylinders": 4,
          "Displacement": 79,
          "Horsepower": 67,
          "Miles_per_Gallon": 31,
          "Name": "datsun b210",
          "Origin": "Japan",
          "Weight_in_lbs": 1950,
          "Year": "1974-01-01"
         },
         {
          "Acceleration": 16.5,
          "Cylinders": 4,
          "Displacement": 122,
          "Horsepower": 80,
          "Miles_per_Gallon": 26,
          "Name": "ford pinto",
          "Origin": "USA",
          "Weight_in_lbs": 2451,
          "Year": "1974-01-01"
         },
         {
          "Acceleration": 21,
          "Cylinders": 4,
          "Displacement": 71,
          "Horsepower": 65,
          "Miles_per_Gallon": 32,
          "Name": "toyota corolla 1200",
          "Origin": "Japan",
          "Weight_in_lbs": 1836,
          "Year": "1974-01-01"
         },
         {
          "Acceleration": 17,
          "Cylinders": 4,
          "Displacement": 140,
          "Horsepower": 75,
          "Miles_per_Gallon": 25,
          "Name": "chevrolet vega",
          "Origin": "USA",
          "Weight_in_lbs": 2542,
          "Year": "1974-01-01"
         },
         {
          "Acceleration": 17,
          "Cylinders": 6,
          "Displacement": 250,
          "Horsepower": 100,
          "Miles_per_Gallon": 16,
          "Name": "chevrolet chevelle malibu classic",
          "Origin": "USA",
          "Weight_in_lbs": 3781,
          "Year": "1974-01-01"
         },
         {
          "Acceleration": 18,
          "Cylinders": 6,
          "Displacement": 258,
          "Horsepower": 110,
          "Miles_per_Gallon": 16,
          "Name": "amc matador",
          "Origin": "USA",
          "Weight_in_lbs": 3632,
          "Year": "1974-01-01"
         },
         {
          "Acceleration": 16.5,
          "Cylinders": 6,
          "Displacement": 225,
          "Horsepower": 105,
          "Miles_per_Gallon": 18,
          "Name": "plymouth satellite sebring",
          "Origin": "USA",
          "Weight_in_lbs": 3613,
          "Year": "1974-01-01"
         },
         {
          "Acceleration": 14,
          "Cylinders": 8,
          "Displacement": 302,
          "Horsepower": 140,
          "Miles_per_Gallon": 16,
          "Name": "ford gran torino",
          "Origin": "USA",
          "Weight_in_lbs": 4141,
          "Year": "1974-01-01"
         },
         {
          "Acceleration": 14.5,
          "Cylinders": 8,
          "Displacement": 350,
          "Horsepower": 150,
          "Miles_per_Gallon": 13,
          "Name": "buick century luxus (sw)",
          "Origin": "USA",
          "Weight_in_lbs": 4699,
          "Year": "1974-01-01"
         },
         {
          "Acceleration": 13.5,
          "Cylinders": 8,
          "Displacement": 318,
          "Horsepower": 150,
          "Miles_per_Gallon": 14,
          "Name": "dodge coronet custom (sw)",
          "Origin": "USA",
          "Weight_in_lbs": 4457,
          "Year": "1974-01-01"
         },
         {
          "Acceleration": 16,
          "Cylinders": 8,
          "Displacement": 302,
          "Horsepower": 140,
          "Miles_per_Gallon": 14,
          "Name": "ford gran torino (sw)",
          "Origin": "USA",
          "Weight_in_lbs": 4638,
          "Year": "1974-01-01"
         },
         {
          "Acceleration": 15.5,
          "Cylinders": 8,
          "Displacement": 304,
          "Horsepower": 150,
          "Miles_per_Gallon": 14,
          "Name": "amc matador (sw)",
          "Origin": "USA",
          "Weight_in_lbs": 4257,
          "Year": "1974-01-01"
         },
         {
          "Acceleration": 16.5,
          "Cylinders": 4,
          "Displacement": 98,
          "Horsepower": 83,
          "Miles_per_Gallon": 29,
          "Name": "audi fox",
          "Origin": "Europe",
          "Weight_in_lbs": 2219,
          "Year": "1974-01-01"
         },
         {
          "Acceleration": 15.5,
          "Cylinders": 4,
          "Displacement": 79,
          "Horsepower": 67,
          "Miles_per_Gallon": 26,
          "Name": "volkswagen dasher",
          "Origin": "Europe",
          "Weight_in_lbs": 1963,
          "Year": "1974-01-01"
         },
         {
          "Acceleration": 14.5,
          "Cylinders": 4,
          "Displacement": 97,
          "Horsepower": 78,
          "Miles_per_Gallon": 26,
          "Name": "opel manta",
          "Origin": "Europe",
          "Weight_in_lbs": 2300,
          "Year": "1974-01-01"
         },
         {
          "Acceleration": 16.5,
          "Cylinders": 4,
          "Displacement": 76,
          "Horsepower": 52,
          "Miles_per_Gallon": 31,
          "Name": "toyota corona",
          "Origin": "Japan",
          "Weight_in_lbs": 1649,
          "Year": "1974-01-01"
         },
         {
          "Acceleration": 19,
          "Cylinders": 4,
          "Displacement": 83,
          "Horsepower": 61,
          "Miles_per_Gallon": 32,
          "Name": "datsun 710",
          "Origin": "Japan",
          "Weight_in_lbs": 2003,
          "Year": "1974-01-01"
         },
         {
          "Acceleration": 14.5,
          "Cylinders": 4,
          "Displacement": 90,
          "Horsepower": 75,
          "Miles_per_Gallon": 28,
          "Name": "dodge colt",
          "Origin": "USA",
          "Weight_in_lbs": 2125,
          "Year": "1974-01-01"
         },
         {
          "Acceleration": 15.5,
          "Cylinders": 4,
          "Displacement": 90,
          "Horsepower": 75,
          "Miles_per_Gallon": 24,
          "Name": "fiat 128",
          "Origin": "Europe",
          "Weight_in_lbs": 2108,
          "Year": "1974-01-01"
         },
         {
          "Acceleration": 14,
          "Cylinders": 4,
          "Displacement": 116,
          "Horsepower": 75,
          "Miles_per_Gallon": 26,
          "Name": "fiat 124 tc",
          "Origin": "Europe",
          "Weight_in_lbs": 2246,
          "Year": "1974-01-01"
         },
         {
          "Acceleration": 15,
          "Cylinders": 4,
          "Displacement": 120,
          "Horsepower": 97,
          "Miles_per_Gallon": 24,
          "Name": "honda civic",
          "Origin": "Japan",
          "Weight_in_lbs": 2489,
          "Year": "1974-01-01"
         },
         {
          "Acceleration": 15.5,
          "Cylinders": 4,
          "Displacement": 108,
          "Horsepower": 93,
          "Miles_per_Gallon": 26,
          "Name": "subaru",
          "Origin": "Japan",
          "Weight_in_lbs": 2391,
          "Year": "1974-01-01"
         },
         {
          "Acceleration": 16,
          "Cylinders": 4,
          "Displacement": 79,
          "Horsepower": 67,
          "Miles_per_Gallon": 31,
          "Name": "fiat x1.9",
          "Origin": "Europe",
          "Weight_in_lbs": 2000,
          "Year": "1974-01-01"
         },
         {
          "Acceleration": 16,
          "Cylinders": 6,
          "Displacement": 225,
          "Horsepower": 95,
          "Miles_per_Gallon": 19,
          "Name": "plymouth valiant custom",
          "Origin": "USA",
          "Weight_in_lbs": 3264,
          "Year": "1975-01-01"
         },
         {
          "Acceleration": 16,
          "Cylinders": 6,
          "Displacement": 250,
          "Horsepower": 105,
          "Miles_per_Gallon": 18,
          "Name": "chevrolet nova",
          "Origin": "USA",
          "Weight_in_lbs": 3459,
          "Year": "1975-01-01"
         },
         {
          "Acceleration": 21,
          "Cylinders": 6,
          "Displacement": 250,
          "Horsepower": 72,
          "Miles_per_Gallon": 15,
          "Name": "mercury monarch",
          "Origin": "USA",
          "Weight_in_lbs": 3432,
          "Year": "1975-01-01"
         },
         {
          "Acceleration": 19.5,
          "Cylinders": 6,
          "Displacement": 250,
          "Horsepower": 72,
          "Miles_per_Gallon": 15,
          "Name": "ford maverick",
          "Origin": "USA",
          "Weight_in_lbs": 3158,
          "Year": "1975-01-01"
         },
         {
          "Acceleration": 11.5,
          "Cylinders": 8,
          "Displacement": 400,
          "Horsepower": 170,
          "Miles_per_Gallon": 16,
          "Name": "pontiac catalina",
          "Origin": "USA",
          "Weight_in_lbs": 4668,
          "Year": "1975-01-01"
         },
         {
          "Acceleration": 14,
          "Cylinders": 8,
          "Displacement": 350,
          "Horsepower": 145,
          "Miles_per_Gallon": 15,
          "Name": "chevrolet bel air",
          "Origin": "USA",
          "Weight_in_lbs": 4440,
          "Year": "1975-01-01"
         },
         {
          "Acceleration": 14.5,
          "Cylinders": 8,
          "Displacement": 318,
          "Horsepower": 150,
          "Miles_per_Gallon": 16,
          "Name": "plymouth grand fury",
          "Origin": "USA",
          "Weight_in_lbs": 4498,
          "Year": "1975-01-01"
         },
         {
          "Acceleration": 13.5,
          "Cylinders": 8,
          "Displacement": 351,
          "Horsepower": 148,
          "Miles_per_Gallon": 14,
          "Name": "ford ltd",
          "Origin": "USA",
          "Weight_in_lbs": 4657,
          "Year": "1975-01-01"
         },
         {
          "Acceleration": 21,
          "Cylinders": 6,
          "Displacement": 231,
          "Horsepower": 110,
          "Miles_per_Gallon": 17,
          "Name": "buick century",
          "Origin": "USA",
          "Weight_in_lbs": 3907,
          "Year": "1975-01-01"
         },
         {
          "Acceleration": 18.5,
          "Cylinders": 6,
          "Displacement": 250,
          "Horsepower": 105,
          "Miles_per_Gallon": 16,
          "Name": "chevroelt chevelle malibu",
          "Origin": "USA",
          "Weight_in_lbs": 3897,
          "Year": "1975-01-01"
         },
         {
          "Acceleration": 19,
          "Cylinders": 6,
          "Displacement": 258,
          "Horsepower": 110,
          "Miles_per_Gallon": 15,
          "Name": "amc matador",
          "Origin": "USA",
          "Weight_in_lbs": 3730,
          "Year": "1975-01-01"
         },
         {
          "Acceleration": 19,
          "Cylinders": 6,
          "Displacement": 225,
          "Horsepower": 95,
          "Miles_per_Gallon": 18,
          "Name": "plymouth fury",
          "Origin": "USA",
          "Weight_in_lbs": 3785,
          "Year": "1975-01-01"
         },
         {
          "Acceleration": 15,
          "Cylinders": 6,
          "Displacement": 231,
          "Horsepower": 110,
          "Miles_per_Gallon": 21,
          "Name": "buick skyhawk",
          "Origin": "USA",
          "Weight_in_lbs": 3039,
          "Year": "1975-01-01"
         },
         {
          "Acceleration": 13.5,
          "Cylinders": 8,
          "Displacement": 262,
          "Horsepower": 110,
          "Miles_per_Gallon": 20,
          "Name": "chevrolet monza 2+2",
          "Origin": "USA",
          "Weight_in_lbs": 3221,
          "Year": "1975-01-01"
         },
         {
          "Acceleration": 12,
          "Cylinders": 8,
          "Displacement": 302,
          "Horsepower": 129,
          "Miles_per_Gallon": 13,
          "Name": "ford mustang ii",
          "Origin": "USA",
          "Weight_in_lbs": 3169,
          "Year": "1975-01-01"
         },
         {
          "Acceleration": 16,
          "Cylinders": 4,
          "Displacement": 97,
          "Horsepower": 75,
          "Miles_per_Gallon": 29,
          "Name": "toyota corolla",
          "Origin": "Japan",
          "Weight_in_lbs": 2171,
          "Year": "1975-01-01"
         },
         {
          "Acceleration": 17,
          "Cylinders": 4,
          "Displacement": 140,
          "Horsepower": 83,
          "Miles_per_Gallon": 23,
          "Name": "ford pinto",
          "Origin": "USA",
          "Weight_in_lbs": 2639,
          "Year": "1975-01-01"
         },
         {
          "Acceleration": 16,
          "Cylinders": 6,
          "Displacement": 232,
          "Horsepower": 100,
          "Miles_per_Gallon": 20,
          "Name": "amc gremlin",
          "Origin": "USA",
          "Weight_in_lbs": 2914,
          "Year": "1975-01-01"
         },
         {
          "Acceleration": 18.5,
          "Cylinders": 4,
          "Displacement": 140,
          "Horsepower": 78,
          "Miles_per_Gallon": 23,
          "Name": "pontiac astro",
          "Origin": "USA",
          "Weight_in_lbs": 2592,
          "Year": "1975-01-01"
         },
         {
          "Acceleration": 13.5,
          "Cylinders": 4,
          "Displacement": 134,
          "Horsepower": 96,
          "Miles_per_Gallon": 24,
          "Name": "toyota corona",
          "Origin": "Japan",
          "Weight_in_lbs": 2702,
          "Year": "1975-01-01"
         },
         {
          "Acceleration": 16.5,
          "Cylinders": 4,
          "Displacement": 90,
          "Horsepower": 71,
          "Miles_per_Gallon": 25,
          "Name": "volkswagen dasher",
          "Origin": "Europe",
          "Weight_in_lbs": 2223,
          "Year": "1975-01-01"
         },
         {
          "Acceleration": 17,
          "Cylinders": 4,
          "Displacement": 119,
          "Horsepower": 97,
          "Miles_per_Gallon": 24,
          "Name": "datsun 710",
          "Origin": "Japan",
          "Weight_in_lbs": 2545,
          "Year": "1975-01-01"
         },
         {
          "Acceleration": 14.5,
          "Cylinders": 6,
          "Displacement": 171,
          "Horsepower": 97,
          "Miles_per_Gallon": 18,
          "Name": "ford pinto",
          "Origin": "USA",
          "Weight_in_lbs": 2984,
          "Year": "1975-01-01"
         },
         {
          "Acceleration": 14,
          "Cylinders": 4,
          "Displacement": 90,
          "Horsepower": 70,
          "Miles_per_Gallon": 29,
          "Name": "volkswagen rabbit",
          "Origin": "Europe",
          "Weight_in_lbs": 1937,
          "Year": "1975-01-01"
         },
         {
          "Acceleration": 17,
          "Cylinders": 6,
          "Displacement": 232,
          "Horsepower": 90,
          "Miles_per_Gallon": 19,
          "Name": "amc pacer",
          "Origin": "USA",
          "Weight_in_lbs": 3211,
          "Year": "1975-01-01"
         },
         {
          "Acceleration": 15,
          "Cylinders": 4,
          "Displacement": 115,
          "Horsepower": 95,
          "Miles_per_Gallon": 23,
          "Name": "audi 100ls",
          "Origin": "Europe",
          "Weight_in_lbs": 2694,
          "Year": "1975-01-01"
         },
         {
          "Acceleration": 17,
          "Cylinders": 4,
          "Displacement": 120,
          "Horsepower": 88,
          "Miles_per_Gallon": 23,
          "Name": "peugeot 504",
          "Origin": "Europe",
          "Weight_in_lbs": 2957,
          "Year": "1975-01-01"
         },
         {
          "Acceleration": 14.5,
          "Cylinders": 4,
          "Displacement": 121,
          "Horsepower": 98,
          "Miles_per_Gallon": 22,
          "Name": "volvo 244dl",
          "Origin": "Europe",
          "Weight_in_lbs": 2945,
          "Year": "1975-01-01"
         },
         {
          "Acceleration": 13.5,
          "Cylinders": 4,
          "Displacement": 121,
          "Horsepower": 115,
          "Miles_per_Gallon": 25,
          "Name": "saab 99le",
          "Origin": "Europe",
          "Weight_in_lbs": 2671,
          "Year": "1975-01-01"
         },
         {
          "Acceleration": 17.5,
          "Cylinders": 4,
          "Displacement": 91,
          "Horsepower": 53,
          "Miles_per_Gallon": 33,
          "Name": "honda civic cvcc",
          "Origin": "Japan",
          "Weight_in_lbs": 1795,
          "Year": "1975-01-01"
         },
         {
          "Acceleration": 15.5,
          "Cylinders": 4,
          "Displacement": 107,
          "Horsepower": 86,
          "Miles_per_Gallon": 28,
          "Name": "fiat 131",
          "Origin": "Europe",
          "Weight_in_lbs": 2464,
          "Year": "1976-01-01"
         },
         {
          "Acceleration": 16.9,
          "Cylinders": 4,
          "Displacement": 116,
          "Horsepower": 81,
          "Miles_per_Gallon": 25,
          "Name": "opel 1900",
          "Origin": "Europe",
          "Weight_in_lbs": 2220,
          "Year": "1976-01-01"
         },
         {
          "Acceleration": 14.9,
          "Cylinders": 4,
          "Displacement": 140,
          "Horsepower": 92,
          "Miles_per_Gallon": 25,
          "Name": "capri ii",
          "Origin": "USA",
          "Weight_in_lbs": 2572,
          "Year": "1976-01-01"
         },
         {
          "Acceleration": 17.7,
          "Cylinders": 4,
          "Displacement": 98,
          "Horsepower": 79,
          "Miles_per_Gallon": 26,
          "Name": "dodge colt",
          "Origin": "USA",
          "Weight_in_lbs": 2255,
          "Year": "1976-01-01"
         },
         {
          "Acceleration": 15.3,
          "Cylinders": 4,
          "Displacement": 101,
          "Horsepower": 83,
          "Miles_per_Gallon": 27,
          "Name": "renault 12tl",
          "Origin": "Europe",
          "Weight_in_lbs": 2202,
          "Year": "1976-01-01"
         },
         {
          "Acceleration": 13,
          "Cylinders": 8,
          "Displacement": 305,
          "Horsepower": 140,
          "Miles_per_Gallon": 17.5,
          "Name": "chevrolet chevelle malibu classic",
          "Origin": "USA",
          "Weight_in_lbs": 4215,
          "Year": "1976-01-01"
         },
         {
          "Acceleration": 13,
          "Cylinders": 8,
          "Displacement": 318,
          "Horsepower": 150,
          "Miles_per_Gallon": 16,
          "Name": "dodge coronet brougham",
          "Origin": "USA",
          "Weight_in_lbs": 4190,
          "Year": "1976-01-01"
         },
         {
          "Acceleration": 13.9,
          "Cylinders": 8,
          "Displacement": 304,
          "Horsepower": 120,
          "Miles_per_Gallon": 15.5,
          "Name": "amc matador",
          "Origin": "USA",
          "Weight_in_lbs": 3962,
          "Year": "1976-01-01"
         },
         {
          "Acceleration": 12.8,
          "Cylinders": 8,
          "Displacement": 351,
          "Horsepower": 152,
          "Miles_per_Gallon": 14.5,
          "Name": "ford gran torino",
          "Origin": "USA",
          "Weight_in_lbs": 4215,
          "Year": "1976-01-01"
         },
         {
          "Acceleration": 15.4,
          "Cylinders": 6,
          "Displacement": 225,
          "Horsepower": 100,
          "Miles_per_Gallon": 22,
          "Name": "plymouth valiant",
          "Origin": "USA",
          "Weight_in_lbs": 3233,
          "Year": "1976-01-01"
         },
         {
          "Acceleration": 14.5,
          "Cylinders": 6,
          "Displacement": 250,
          "Horsepower": 105,
          "Miles_per_Gallon": 22,
          "Name": "chevrolet nova",
          "Origin": "USA",
          "Weight_in_lbs": 3353,
          "Year": "1976-01-01"
         },
         {
          "Acceleration": 17.6,
          "Cylinders": 6,
          "Displacement": 200,
          "Horsepower": 81,
          "Miles_per_Gallon": 24,
          "Name": "ford maverick",
          "Origin": "USA",
          "Weight_in_lbs": 3012,
          "Year": "1976-01-01"
         },
         {
          "Acceleration": 17.6,
          "Cylinders": 6,
          "Displacement": 232,
          "Horsepower": 90,
          "Miles_per_Gallon": 22.5,
          "Name": "amc hornet",
          "Origin": "USA",
          "Weight_in_lbs": 3085,
          "Year": "1976-01-01"
         },
         {
          "Acceleration": 22.2,
          "Cylinders": 4,
          "Displacement": 85,
          "Horsepower": 52,
          "Miles_per_Gallon": 29,
          "Name": "chevrolet chevette",
          "Origin": "USA",
          "Weight_in_lbs": 2035,
          "Year": "1976-01-01"
         },
         {
          "Acceleration": 22.1,
          "Cylinders": 4,
          "Displacement": 98,
          "Horsepower": 60,
          "Miles_per_Gallon": 24.5,
          "Name": "chevrolet woody",
          "Origin": "USA",
          "Weight_in_lbs": 2164,
          "Year": "1976-01-01"
         },
         {
          "Acceleration": 14.2,
          "Cylinders": 4,
          "Displacement": 90,
          "Horsepower": 70,
          "Miles_per_Gallon": 29,
          "Name": "vw rabbit",
          "Origin": "Europe",
          "Weight_in_lbs": 1937,
          "Year": "1976-01-01"
         },
         {
          "Acceleration": 17.4,
          "Cylinders": 4,
          "Displacement": 91,
          "Horsepower": 53,
          "Miles_per_Gallon": 33,
          "Name": "honda civic",
          "Origin": "Japan",
          "Weight_in_lbs": 1795,
          "Year": "1976-01-01"
         },
         {
          "Acceleration": 17.7,
          "Cylinders": 6,
          "Displacement": 225,
          "Horsepower": 100,
          "Miles_per_Gallon": 20,
          "Name": "dodge aspen se",
          "Origin": "USA",
          "Weight_in_lbs": 3651,
          "Year": "1976-01-01"
         },
         {
          "Acceleration": 21,
          "Cylinders": 6,
          "Displacement": 250,
          "Horsepower": 78,
          "Miles_per_Gallon": 18,
          "Name": "ford granada ghia",
          "Origin": "USA",
          "Weight_in_lbs": 3574,
          "Year": "1976-01-01"
         },
         {
          "Acceleration": 16.2,
          "Cylinders": 6,
          "Displacement": 250,
          "Horsepower": 110,
          "Miles_per_Gallon": 18.5,
          "Name": "pontiac ventura sj",
          "Origin": "USA",
          "Weight_in_lbs": 3645,
          "Year": "1976-01-01"
         },
         {
          "Acceleration": 17.8,
          "Cylinders": 6,
          "Displacement": 258,
          "Horsepower": 95,
          "Miles_per_Gallon": 17.5,
          "Name": "amc pacer d/l",
          "Origin": "USA",
          "Weight_in_lbs": 3193,
          "Year": "1976-01-01"
         },
         {
          "Acceleration": 12.2,
          "Cylinders": 4,
          "Displacement": 97,
          "Horsepower": 71,
          "Miles_per_Gallon": 29.5,
          "Name": "volkswagen rabbit",
          "Origin": "Europe",
          "Weight_in_lbs": 1825,
          "Year": "1976-01-01"
         },
         {
          "Acceleration": 17,
          "Cylinders": 4,
          "Displacement": 85,
          "Horsepower": 70,
          "Miles_per_Gallon": 32,
          "Name": "datsun b-210",
          "Origin": "Japan",
          "Weight_in_lbs": 1990,
          "Year": "1976-01-01"
         },
         {
          "Acceleration": 16.4,
          "Cylinders": 4,
          "Displacement": 97,
          "Horsepower": 75,
          "Miles_per_Gallon": 28,
          "Name": "toyota corolla",
          "Origin": "Japan",
          "Weight_in_lbs": 2155,
          "Year": "1976-01-01"
         },
         {
          "Acceleration": 13.6,
          "Cylinders": 4,
          "Displacement": 140,
          "Horsepower": 72,
          "Miles_per_Gallon": 26.5,
          "Name": "ford pinto",
          "Origin": "USA",
          "Weight_in_lbs": 2565,
          "Year": "1976-01-01"
         },
         {
          "Acceleration": 15.7,
          "Cylinders": 4,
          "Displacement": 130,
          "Horsepower": 102,
          "Miles_per_Gallon": 20,
          "Name": "volvo 245",
          "Origin": "Europe",
          "Weight_in_lbs": 3150,
          "Year": "1976-01-01"
         },
         {
          "Acceleration": 13.2,
          "Cylinders": 8,
          "Displacement": 318,
          "Horsepower": 150,
          "Miles_per_Gallon": 13,
          "Name": "plymouth volare premier v8",
          "Origin": "USA",
          "Weight_in_lbs": 3940,
          "Year": "1976-01-01"
         },
         {
          "Acceleration": 21.9,
          "Cylinders": 4,
          "Displacement": 120,
          "Horsepower": 88,
          "Miles_per_Gallon": 19,
          "Name": "peugeot 504",
          "Origin": "Europe",
          "Weight_in_lbs": 3270,
          "Year": "1976-01-01"
         },
         {
          "Acceleration": 15.5,
          "Cylinders": 6,
          "Displacement": 156,
          "Horsepower": 108,
          "Miles_per_Gallon": 19,
          "Name": "toyota mark ii",
          "Origin": "Japan",
          "Weight_in_lbs": 2930,
          "Year": "1976-01-01"
         },
         {
          "Acceleration": 16.7,
          "Cylinders": 6,
          "Displacement": 168,
          "Horsepower": 120,
          "Miles_per_Gallon": 16.5,
          "Name": "mercedes-benz 280s",
          "Origin": "Europe",
          "Weight_in_lbs": 3820,
          "Year": "1976-01-01"
         },
         {
          "Acceleration": 12.1,
          "Cylinders": 8,
          "Displacement": 350,
          "Horsepower": 180,
          "Miles_per_Gallon": 16.5,
          "Name": "cadillac seville",
          "Origin": "USA",
          "Weight_in_lbs": 4380,
          "Year": "1976-01-01"
         },
         {
          "Acceleration": 12,
          "Cylinders": 8,
          "Displacement": 350,
          "Horsepower": 145,
          "Miles_per_Gallon": 13,
          "Name": "chevy c10",
          "Origin": "USA",
          "Weight_in_lbs": 4055,
          "Year": "1976-01-01"
         },
         {
          "Acceleration": 15,
          "Cylinders": 8,
          "Displacement": 302,
          "Horsepower": 130,
          "Miles_per_Gallon": 13,
          "Name": "ford f108",
          "Origin": "USA",
          "Weight_in_lbs": 3870,
          "Year": "1976-01-01"
         },
         {
          "Acceleration": 14,
          "Cylinders": 8,
          "Displacement": 318,
          "Horsepower": 150,
          "Miles_per_Gallon": 13,
          "Name": "dodge d100",
          "Origin": "USA",
          "Weight_in_lbs": 3755,
          "Year": "1976-01-01"
         },
         {
          "Acceleration": 18.5,
          "Cylinders": 4,
          "Displacement": 98,
          "Horsepower": 68,
          "Miles_per_Gallon": 31.5,
          "Name": "honda Accelerationord cvcc",
          "Origin": "Japan",
          "Weight_in_lbs": 2045,
          "Year": "1977-01-01"
         },
         {
          "Acceleration": 14.8,
          "Cylinders": 4,
          "Displacement": 111,
          "Horsepower": 80,
          "Miles_per_Gallon": 30,
          "Name": "buick opel isuzu deluxe",
          "Origin": "USA",
          "Weight_in_lbs": 2155,
          "Year": "1977-01-01"
         },
         {
          "Acceleration": 18.6,
          "Cylinders": 4,
          "Displacement": 79,
          "Horsepower": 58,
          "Miles_per_Gallon": 36,
          "Name": "renault 5 gtl",
          "Origin": "Europe",
          "Weight_in_lbs": 1825,
          "Year": "1977-01-01"
         },
         {
          "Acceleration": 15.5,
          "Cylinders": 4,
          "Displacement": 122,
          "Horsepower": 96,
          "Miles_per_Gallon": 25.5,
          "Name": "plymouth arrow gs",
          "Origin": "USA",
          "Weight_in_lbs": 2300,
          "Year": "1977-01-01"
         },
         {
          "Acceleration": 16.8,
          "Cylinders": 4,
          "Displacement": 85,
          "Horsepower": 70,
          "Miles_per_Gallon": 33.5,
          "Name": "datsun f-10 hatchback",
          "Origin": "Japan",
          "Weight_in_lbs": 1945,
          "Year": "1977-01-01"
         },
         {
          "Acceleration": 12.5,
          "Cylinders": 8,
          "Displacement": 305,
          "Horsepower": 145,
          "Miles_per_Gallon": 17.5,
          "Name": "chevrolet caprice classic",
          "Origin": "USA",
          "Weight_in_lbs": 3880,
          "Year": "1977-01-01"
         },
         {
          "Acceleration": 19,
          "Cylinders": 8,
          "Displacement": 260,
          "Horsepower": 110,
          "Miles_per_Gallon": 17,
          "Name": "oldsmobile cutlass supreme",
          "Origin": "USA",
          "Weight_in_lbs": 4060,
          "Year": "1977-01-01"
         },
         {
          "Acceleration": 13.7,
          "Cylinders": 8,
          "Displacement": 318,
          "Horsepower": 145,
          "Miles_per_Gallon": 15.5,
          "Name": "dodge monaco brougham",
          "Origin": "USA",
          "Weight_in_lbs": 4140,
          "Year": "1977-01-01"
         },
         {
          "Acceleration": 14.9,
          "Cylinders": 8,
          "Displacement": 302,
          "Horsepower": 130,
          "Miles_per_Gallon": 15,
          "Name": "mercury cougar brougham",
          "Origin": "USA",
          "Weight_in_lbs": 4295,
          "Year": "1977-01-01"
         },
         {
          "Acceleration": 16.4,
          "Cylinders": 6,
          "Displacement": 250,
          "Horsepower": 110,
          "Miles_per_Gallon": 17.5,
          "Name": "chevrolet concours",
          "Origin": "USA",
          "Weight_in_lbs": 3520,
          "Year": "1977-01-01"
         },
         {
          "Acceleration": 16.9,
          "Cylinders": 6,
          "Displacement": 231,
          "Horsepower": 105,
          "Miles_per_Gallon": 20.5,
          "Name": "buick skylark",
          "Origin": "USA",
          "Weight_in_lbs": 3425,
          "Year": "1977-01-01"
         },
         {
          "Acceleration": 17.7,
          "Cylinders": 6,
          "Displacement": 225,
          "Horsepower": 100,
          "Miles_per_Gallon": 19,
          "Name": "plymouth volare custom",
          "Origin": "USA",
          "Weight_in_lbs": 3630,
          "Year": "1977-01-01"
         },
         {
          "Acceleration": 19,
          "Cylinders": 6,
          "Displacement": 250,
          "Horsepower": 98,
          "Miles_per_Gallon": 18.5,
          "Name": "ford granada",
          "Origin": "USA",
          "Weight_in_lbs": 3525,
          "Year": "1977-01-01"
         },
         {
          "Acceleration": 11.1,
          "Cylinders": 8,
          "Displacement": 400,
          "Horsepower": 180,
          "Miles_per_Gallon": 16,
          "Name": "pontiac grand prix lj",
          "Origin": "USA",
          "Weight_in_lbs": 4220,
          "Year": "1977-01-01"
         },
         {
          "Acceleration": 11.4,
          "Cylinders": 8,
          "Displacement": 350,
          "Horsepower": 170,
          "Miles_per_Gallon": 15.5,
          "Name": "chevrolet monte carlo landau",
          "Origin": "USA",
          "Weight_in_lbs": 4165,
          "Year": "1977-01-01"
         },
         {
          "Acceleration": 12.2,
          "Cylinders": 8,
          "Displacement": 400,
          "Horsepower": 190,
          "Miles_per_Gallon": 15.5,
          "Name": "chrysler cordoba",
          "Origin": "USA",
          "Weight_in_lbs": 4325,
          "Year": "1977-01-01"
         },
         {
          "Acceleration": 14.5,
          "Cylinders": 8,
          "Displacement": 351,
          "Horsepower": 149,
          "Miles_per_Gallon": 16,
          "Name": "ford thunderbird",
          "Origin": "USA",
          "Weight_in_lbs": 4335,
          "Year": "1977-01-01"
         },
         {
          "Acceleration": 14.5,
          "Cylinders": 4,
          "Displacement": 97,
          "Horsepower": 78,
          "Miles_per_Gallon": 29,
          "Name": "volkswagen rabbit custom",
          "Origin": "Europe",
          "Weight_in_lbs": 1940,
          "Year": "1977-01-01"
         },
         {
          "Acceleration": 16,
          "Cylinders": 4,
          "Displacement": 151,
          "Horsepower": 88,
          "Miles_per_Gallon": 24.5,
          "Name": "pontiac sunbird coupe",
          "Origin": "USA",
          "Weight_in_lbs": 2740,
          "Year": "1977-01-01"
         },
         {
          "Acceleration": 18.2,
          "Cylinders": 4,
          "Displacement": 97,
          "Horsepower": 75,
          "Miles_per_Gallon": 26,
          "Name": "toyota corolla liftback",
          "Origin": "Japan",
          "Weight_in_lbs": 2265,
          "Year": "1977-01-01"
         },
         {
          "Acceleration": 15.8,
          "Cylinders": 4,
          "Displacement": 140,
          "Horsepower": 89,
          "Miles_per_Gallon": 25.5,
          "Name": "ford mustang ii 2+2",
          "Origin": "USA",
          "Weight_in_lbs": 2755,
          "Year": "1977-01-01"
         },
         {
          "Acceleration": 17,
          "Cylinders": 4,
          "Displacement": 98,
          "Horsepower": 63,
          "Miles_per_Gallon": 30.5,
          "Name": "chevrolet chevette",
          "Origin": "USA",
          "Weight_in_lbs": 2051,
          "Year": "1977-01-01"
         },
         {
          "Acceleration": 15.9,
          "Cylinders": 4,
          "Displacement": 98,
          "Horsepower": 83,
          "Miles_per_Gallon": 33.5,
          "Name": "dodge colt m/m",
          "Origin": "USA",
          "Weight_in_lbs": 2075,
          "Year": "1977-01-01"
         },
         {
          "Acceleration": 16.4,
          "Cylinders": 4,
          "Displacement": 97,
          "Horsepower": 67,
          "Miles_per_Gallon": 30,
          "Name": "subaru dl",
          "Origin": "Japan",
          "Weight_in_lbs": 1985,
          "Year": "1977-01-01"
         },
         {
          "Acceleration": 14.1,
          "Cylinders": 4,
          "Displacement": 97,
          "Horsepower": 78,
          "Miles_per_Gallon": 30.5,
          "Name": "volkswagen dasher",
          "Origin": "Europe",
          "Weight_in_lbs": 2190,
          "Year": "1977-01-01"
         },
         {
          "Acceleration": 14.5,
          "Cylinders": 6,
          "Displacement": 146,
          "Horsepower": 97,
          "Miles_per_Gallon": 22,
          "Name": "datsun 810",
          "Origin": "Japan",
          "Weight_in_lbs": 2815,
          "Year": "1977-01-01"
         },
         {
          "Acceleration": 12.8,
          "Cylinders": 4,
          "Displacement": 121,
          "Horsepower": 110,
          "Miles_per_Gallon": 21.5,
          "Name": "bmw 320i",
          "Origin": "Europe",
          "Weight_in_lbs": 2600,
          "Year": "1977-01-01"
         },
         {
          "Acceleration": 13.5,
          "Cylinders": 3,
          "Displacement": 80,
          "Horsepower": 110,
          "Miles_per_Gallon": 21.5,
          "Name": "mazda rx-4",
          "Origin": "Japan",
          "Weight_in_lbs": 2720,
          "Year": "1977-01-01"
         },
         {
          "Acceleration": 21.5,
          "Cylinders": 4,
          "Displacement": 90,
          "Horsepower": 48,
          "Miles_per_Gallon": 43.1,
          "Name": "volkswagen rabbit custom diesel",
          "Origin": "Europe",
          "Weight_in_lbs": 1985,
          "Year": "1978-01-01"
         },
         {
          "Acceleration": 14.4,
          "Cylinders": 4,
          "Displacement": 98,
          "Horsepower": 66,
          "Miles_per_Gallon": 36.1,
          "Name": "ford fiesta",
          "Origin": "USA",
          "Weight_in_lbs": 1800,
          "Year": "1978-01-01"
         },
         {
          "Acceleration": 19.4,
          "Cylinders": 4,
          "Displacement": 78,
          "Horsepower": 52,
          "Miles_per_Gallon": 32.8,
          "Name": "mazda glc deluxe",
          "Origin": "Japan",
          "Weight_in_lbs": 1985,
          "Year": "1978-01-01"
         },
         {
          "Acceleration": 18.6,
          "Cylinders": 4,
          "Displacement": 85,
          "Horsepower": 70,
          "Miles_per_Gallon": 39.4,
          "Name": "datsun b210 gx",
          "Origin": "Japan",
          "Weight_in_lbs": 2070,
          "Year": "1978-01-01"
         },
         {
          "Acceleration": 16.4,
          "Cylinders": 4,
          "Displacement": 91,
          "Horsepower": 60,
          "Miles_per_Gallon": 36.1,
          "Name": "honda civic cvcc",
          "Origin": "Japan",
          "Weight_in_lbs": 1800,
          "Year": "1978-01-01"
         },
         {
          "Acceleration": 15.5,
          "Cylinders": 8,
          "Displacement": 260,
          "Horsepower": 110,
          "Miles_per_Gallon": 19.9,
          "Name": "oldsmobile cutlass salon brougham",
          "Origin": "USA",
          "Weight_in_lbs": 3365,
          "Year": "1978-01-01"
         },
         {
          "Acceleration": 13.2,
          "Cylinders": 8,
          "Displacement": 318,
          "Horsepower": 140,
          "Miles_per_Gallon": 19.4,
          "Name": "dodge diplomat",
          "Origin": "USA",
          "Weight_in_lbs": 3735,
          "Year": "1978-01-01"
         },
         {
          "Acceleration": 12.8,
          "Cylinders": 8,
          "Displacement": 302,
          "Horsepower": 139,
          "Miles_per_Gallon": 20.2,
          "Name": "mercury monarch ghia",
          "Origin": "USA",
          "Weight_in_lbs": 3570,
          "Year": "1978-01-01"
         },
         {
          "Acceleration": 19.2,
          "Cylinders": 6,
          "Displacement": 231,
          "Horsepower": 105,
          "Miles_per_Gallon": 19.2,
          "Name": "pontiac phoenix lj",
          "Origin": "USA",
          "Weight_in_lbs": 3535,
          "Year": "1978-01-01"
         },
         {
          "Acceleration": 18.2,
          "Cylinders": 6,
          "Displacement": 200,
          "Horsepower": 95,
          "Miles_per_Gallon": 20.5,
          "Name": "chevrolet malibu",
          "Origin": "USA",
          "Weight_in_lbs": 3155,
          "Year": "1978-01-01"
         },
         {
          "Acceleration": 15.8,
          "Cylinders": 6,
          "Displacement": 200,
          "Horsepower": 85,
          "Miles_per_Gallon": 20.2,
          "Name": "ford fairmont (auto)",
          "Origin": "USA",
          "Weight_in_lbs": 2965,
          "Year": "1978-01-01"
         },
         {
          "Acceleration": 15.4,
          "Cylinders": 4,
          "Displacement": 140,
          "Horsepower": 88,
          "Miles_per_Gallon": 25.1,
          "Name": "ford fairmont (man)",
          "Origin": "USA",
          "Weight_in_lbs": 2720,
          "Year": "1978-01-01"
         },
         {
          "Acceleration": 17.2,
          "Cylinders": 6,
          "Displacement": 225,
          "Horsepower": 100,
          "Miles_per_Gallon": 20.5,
          "Name": "plymouth volare",
          "Origin": "USA",
          "Weight_in_lbs": 3430,
          "Year": "1978-01-01"
         },
         {
          "Acceleration": 17.2,
          "Cylinders": 6,
          "Displacement": 232,
          "Horsepower": 90,
          "Miles_per_Gallon": 19.4,
          "Name": "amc concord",
          "Origin": "USA",
          "Weight_in_lbs": 3210,
          "Year": "1978-01-01"
         },
         {
          "Acceleration": 15.8,
          "Cylinders": 6,
          "Displacement": 231,
          "Horsepower": 105,
          "Miles_per_Gallon": 20.6,
          "Name": "buick century special",
          "Origin": "USA",
          "Weight_in_lbs": 3380,
          "Year": "1978-01-01"
         },
         {
          "Acceleration": 16.7,
          "Cylinders": 6,
          "Displacement": 200,
          "Horsepower": 85,
          "Miles_per_Gallon": 20.8,
          "Name": "mercury zephyr",
          "Origin": "USA",
          "Weight_in_lbs": 3070,
          "Year": "1978-01-01"
         },
         {
          "Acceleration": 18.7,
          "Cylinders": 6,
          "Displacement": 225,
          "Horsepower": 110,
          "Miles_per_Gallon": 18.6,
          "Name": "dodge aspen",
          "Origin": "USA",
          "Weight_in_lbs": 3620,
          "Year": "1978-01-01"
         },
         {
          "Acceleration": 15.1,
          "Cylinders": 6,
          "Displacement": 258,
          "Horsepower": 120,
          "Miles_per_Gallon": 18.1,
          "Name": "amc concord d/l",
          "Origin": "USA",
          "Weight_in_lbs": 3410,
          "Year": "1978-01-01"
         },
         {
          "Acceleration": 13.2,
          "Cylinders": 8,
          "Displacement": 305,
          "Horsepower": 145,
          "Miles_per_Gallon": 19.2,
          "Name": "chevrolet monte carlo landau",
          "Origin": "USA",
          "Weight_in_lbs": 3425,
          "Year": "1978-01-01"
         },
         {
          "Acceleration": 13.4,
          "Cylinders": 6,
          "Displacement": 231,
          "Horsepower": 165,
          "Miles_per_Gallon": 17.7,
          "Name": "buick regal sport coupe (turbo)",
          "Origin": "USA",
          "Weight_in_lbs": 3445,
          "Year": "1978-01-01"
         },
         {
          "Acceleration": 11.2,
          "Cylinders": 8,
          "Displacement": 302,
          "Horsepower": 139,
          "Miles_per_Gallon": 18.1,
          "Name": "ford futura",
          "Origin": "USA",
          "Weight_in_lbs": 3205,
          "Year": "1978-01-01"
         },
         {
          "Acceleration": 13.7,
          "Cylinders": 8,
          "Displacement": 318,
          "Horsepower": 140,
          "Miles_per_Gallon": 17.5,
          "Name": "dodge magnum xe",
          "Origin": "USA",
          "Weight_in_lbs": 4080,
          "Year": "1978-01-01"
         },
         {
          "Acceleration": 16.5,
          "Cylinders": 4,
          "Displacement": 98,
          "Horsepower": 68,
          "Miles_per_Gallon": 30,
          "Name": "chevrolet chevette",
          "Origin": "USA",
          "Weight_in_lbs": 2155,
          "Year": "1978-01-01"
         },
         {
          "Acceleration": 14.2,
          "Cylinders": 4,
          "Displacement": 134,
          "Horsepower": 95,
          "Miles_per_Gallon": 27.5,
          "Name": "toyota corona",
          "Origin": "Japan",
          "Weight_in_lbs": 2560,
          "Year": "1978-01-01"
         },
         {
          "Acceleration": 14.7,
          "Cylinders": 4,
          "Displacement": 119,
          "Horsepower": 97,
          "Miles_per_Gallon": 27.2,
          "Name": "datsun 510",
          "Origin": "Japan",
          "Weight_in_lbs": 2300,
          "Year": "1978-01-01"
         },
         {
          "Acceleration": 14.5,
          "Cylinders": 4,
          "Displacement": 105,
          "Horsepower": 75,
          "Miles_per_Gallon": 30.9,
          "Name": "dodge omni",
          "Origin": "USA",
          "Weight_in_lbs": 2230,
          "Year": "1978-01-01"
         },
         {
          "Acceleration": 14.8,
          "Cylinders": 4,
          "Displacement": 134,
          "Horsepower": 95,
          "Miles_per_Gallon": 21.1,
          "Name": "toyota celica gt liftback",
          "Origin": "Japan",
          "Weight_in_lbs": 2515,
          "Year": "1978-01-01"
         },
         {
          "Acceleration": 16.7,
          "Cylinders": 4,
          "Displacement": 156,
          "Horsepower": 105,
          "Miles_per_Gallon": 23.2,
          "Name": "plymouth sapporo",
          "Origin": "USA",
          "Weight_in_lbs": 2745,
          "Year": "1978-01-01"
         },
         {
          "Acceleration": 17.6,
          "Cylinders": 4,
          "Displacement": 151,
          "Horsepower": 85,
          "Miles_per_Gallon": 23.8,
          "Name": "oldsmobile starfire sx",
          "Origin": "USA",
          "Weight_in_lbs": 2855,
          "Year": "1978-01-01"
         },
         {
          "Acceleration": 14.9,
          "Cylinders": 4,
          "Displacement": 119,
          "Horsepower": 97,
          "Miles_per_Gallon": 23.9,
          "Name": "datsun 200-sx",
          "Origin": "Japan",
          "Weight_in_lbs": 2405,
          "Year": "1978-01-01"
         },
         {
          "Acceleration": 15.9,
          "Cylinders": 5,
          "Displacement": 131,
          "Horsepower": 103,
          "Miles_per_Gallon": 20.3,
          "Name": "audi 5000",
          "Origin": "Europe",
          "Weight_in_lbs": 2830,
          "Year": "1978-01-01"
         },
         {
          "Acceleration": 13.6,
          "Cylinders": 6,
          "Displacement": 163,
          "Horsepower": 125,
          "Miles_per_Gallon": 17,
          "Name": "volvo 264gl",
          "Origin": "Europe",
          "Weight_in_lbs": 3140,
          "Year": "1978-01-01"
         },
         {
          "Acceleration": 15.7,
          "Cylinders": 4,
          "Displacement": 121,
          "Horsepower": 115,
          "Miles_per_Gallon": 21.6,
          "Name": "saab 99gle",
          "Origin": "Europe",
          "Weight_in_lbs": 2795,
          "Year": "1978-01-01"
         },
         {
          "Acceleration": 15.8,
          "Cylinders": 6,
          "Displacement": 163,
          "Horsepower": 133,
          "Miles_per_Gallon": 16.2,
          "Name": "peugeot 604sl",
          "Origin": "Europe",
          "Weight_in_lbs": 3410,
          "Year": "1978-01-01"
         },
         {
          "Acceleration": 14.9,
          "Cylinders": 4,
          "Displacement": 89,
          "Horsepower": 71,
          "Miles_per_Gallon": 31.5,
          "Name": "volkswagen scirocco",
          "Origin": "Europe",
          "Weight_in_lbs": 1990,
          "Year": "1978-01-01"
         },
         {
          "Acceleration": 16.6,
          "Cylinders": 4,
          "Displacement": 98,
          "Horsepower": 68,
          "Miles_per_Gallon": 29.5,
          "Name": "honda Accelerationord lx",
          "Origin": "Japan",
          "Weight_in_lbs": 2135,
          "Year": "1978-01-01"
         },
         {
          "Acceleration": 15.4,
          "Cylinders": 6,
          "Displacement": 231,
          "Horsepower": 115,
          "Miles_per_Gallon": 21.5,
          "Name": "pontiac lemans v6",
          "Origin": "USA",
          "Weight_in_lbs": 3245,
          "Year": "1979-01-01"
         },
         {
          "Acceleration": 18.2,
          "Cylinders": 6,
          "Displacement": 200,
          "Horsepower": 85,
          "Miles_per_Gallon": 19.8,
          "Name": "mercury zephyr 6",
          "Origin": "USA",
          "Weight_in_lbs": 2990,
          "Year": "1979-01-01"
         },
         {
          "Acceleration": 17.3,
          "Cylinders": 4,
          "Displacement": 140,
          "Horsepower": 88,
          "Miles_per_Gallon": 22.3,
          "Name": "ford fairmont 4",
          "Origin": "USA",
          "Weight_in_lbs": 2890,
          "Year": "1979-01-01"
         },
         {
          "Acceleration": 18.2,
          "Cylinders": 6,
          "Displacement": 232,
          "Horsepower": 90,
          "Miles_per_Gallon": 20.2,
          "Name": "amc concord dl 6",
          "Origin": "USA",
          "Weight_in_lbs": 3265,
          "Year": "1979-01-01"
         },
         {
          "Acceleration": 16.6,
          "Cylinders": 6,
          "Displacement": 225,
          "Horsepower": 110,
          "Miles_per_Gallon": 20.6,
          "Name": "dodge aspen 6",
          "Origin": "USA",
          "Weight_in_lbs": 3360,
          "Year": "1979-01-01"
         },
         {
          "Acceleration": 15.4,
          "Cylinders": 8,
          "Displacement": 305,
          "Horsepower": 130,
          "Miles_per_Gallon": 17,
          "Name": "chevrolet caprice classic",
          "Origin": "USA",
          "Weight_in_lbs": 3840,
          "Year": "1979-01-01"
         },
         {
          "Acceleration": 13.4,
          "Cylinders": 8,
          "Displacement": 302,
          "Horsepower": 129,
          "Miles_per_Gallon": 17.6,
          "Name": "ford ltd landau",
          "Origin": "USA",
          "Weight_in_lbs": 3725,
          "Year": "1979-01-01"
         },
         {
          "Acceleration": 13.2,
          "Cylinders": 8,
          "Displacement": 351,
          "Horsepower": 138,
          "Miles_per_Gallon": 16.5,
          "Name": "mercury grand marquis",
          "Origin": "USA",
          "Weight_in_lbs": 3955,
          "Year": "1979-01-01"
         },
         {
          "Acceleration": 15.2,
          "Cylinders": 8,
          "Displacement": 318,
          "Horsepower": 135,
          "Miles_per_Gallon": 18.2,
          "Name": "dodge st. regis",
          "Origin": "USA",
          "Weight_in_lbs": 3830,
          "Year": "1979-01-01"
         },
         {
          "Acceleration": 14.9,
          "Cylinders": 8,
          "Displacement": 350,
          "Horsepower": 155,
          "Miles_per_Gallon": 16.9,
          "Name": "buick estate wagon (sw)",
          "Origin": "USA",
          "Weight_in_lbs": 4360,
          "Year": "1979-01-01"
         },
         {
          "Acceleration": 14.3,
          "Cylinders": 8,
          "Displacement": 351,
          "Horsepower": 142,
          "Miles_per_Gallon": 15.5,
          "Name": "ford country squire (sw)",
          "Origin": "USA",
          "Weight_in_lbs": 4054,
          "Year": "1979-01-01"
         },
         {
          "Acceleration": 15,
          "Cylinders": 8,
          "Displacement": 267,
          "Horsepower": 125,
          "Miles_per_Gallon": 19.2,
          "Name": "chevrolet malibu classic (sw)",
          "Origin": "USA",
          "Weight_in_lbs": 3605,
          "Year": "1979-01-01"
         },
         {
          "Acceleration": 13,
          "Cylinders": 8,
          "Displacement": 360,
          "Horsepower": 150,
          "Miles_per_Gallon": 18.5,
          "Name": "chrysler lebaron town @ country (sw)",
          "Origin": "USA",
          "Weight_in_lbs": 3940,
          "Year": "1979-01-01"
         },
         {
          "Acceleration": 14,
          "Cylinders": 4,
          "Displacement": 89,
          "Horsepower": 71,
          "Miles_per_Gallon": 31.9,
          "Name": "vw rabbit custom",
          "Origin": "Europe",
          "Weight_in_lbs": 1925,
          "Year": "1979-01-01"
         },
         {
          "Acceleration": 15.2,
          "Cylinders": 4,
          "Displacement": 86,
          "Horsepower": 65,
          "Miles_per_Gallon": 34.1,
          "Name": "maxda glc deluxe",
          "Origin": "Japan",
          "Weight_in_lbs": 1975,
          "Year": "1979-01-01"
         },
         {
          "Acceleration": 14.4,
          "Cylinders": 4,
          "Displacement": 98,
          "Horsepower": 80,
          "Miles_per_Gallon": 35.7,
          "Name": "dodge colt hatchback custom",
          "Origin": "USA",
          "Weight_in_lbs": 1915,
          "Year": "1979-01-01"
         },
         {
          "Acceleration": 15,
          "Cylinders": 4,
          "Displacement": 121,
          "Horsepower": 80,
          "Miles_per_Gallon": 27.4,
          "Name": "amc spirit dl",
          "Origin": "USA",
          "Weight_in_lbs": 2670,
          "Year": "1979-01-01"
         },
         {
          "Acceleration": 20.1,
          "Cylinders": 5,
          "Displacement": 183,
          "Horsepower": 77,
          "Miles_per_Gallon": 25.4,
          "Name": "mercedes benz 300d",
          "Origin": "Europe",
          "Weight_in_lbs": 3530,
          "Year": "1979-01-01"
         },
         {
          "Acceleration": 17.4,
          "Cylinders": 8,
          "Displacement": 350,
          "Horsepower": 125,
          "Miles_per_Gallon": 23,
          "Name": "cadillac eldorado",
          "Origin": "USA",
          "Weight_in_lbs": 3900,
          "Year": "1979-01-01"
         },
         {
          "Acceleration": 24.8,
          "Cylinders": 4,
          "Displacement": 141,
          "Horsepower": 71,
          "Miles_per_Gallon": 27.2,
          "Name": "peugeot 504",
          "Origin": "Europe",
          "Weight_in_lbs": 3190,
          "Year": "1979-01-01"
         },
         {
          "Acceleration": 22.2,
          "Cylinders": 8,
          "Displacement": 260,
          "Horsepower": 90,
          "Miles_per_Gallon": 23.9,
          "Name": "oldsmobile cutlass salon brougham",
          "Origin": "USA",
          "Weight_in_lbs": 3420,
          "Year": "1979-01-01"
         },
         {
          "Acceleration": 13.2,
          "Cylinders": 4,
          "Displacement": 105,
          "Horsepower": 70,
          "Miles_per_Gallon": 34.2,
          "Name": "plymouth horizon",
          "Origin": "USA",
          "Weight_in_lbs": 2200,
          "Year": "1979-01-01"
         },
         {
          "Acceleration": 14.9,
          "Cylinders": 4,
          "Displacement": 105,
          "Horsepower": 70,
          "Miles_per_Gallon": 34.5,
          "Name": "plymouth horizon tc3",
          "Origin": "USA",
          "Weight_in_lbs": 2150,
          "Year": "1979-01-01"
         },
         {
          "Acceleration": 19.2,
          "Cylinders": 4,
          "Displacement": 85,
          "Horsepower": 65,
          "Miles_per_Gallon": 31.8,
          "Name": "datsun 210",
          "Origin": "Japan",
          "Weight_in_lbs": 2020,
          "Year": "1979-01-01"
         },
         {
          "Acceleration": 14.7,
          "Cylinders": 4,
          "Displacement": 91,
          "Horsepower": 69,
          "Miles_per_Gallon": 37.3,
          "Name": "fiat strada custom",
          "Origin": "Europe",
          "Weight_in_lbs": 2130,
          "Year": "1979-01-01"
         },
         {
          "Acceleration": 16,
          "Cylinders": 4,
          "Displacement": 151,
          "Horsepower": 90,
          "Miles_per_Gallon": 28.4,
          "Name": "buick skylark limited",
          "Origin": "USA",
          "Weight_in_lbs": 2670,
          "Year": "1979-01-01"
         },
         {
          "Acceleration": 11.3,
          "Cylinders": 6,
          "Displacement": 173,
          "Horsepower": 115,
          "Miles_per_Gallon": 28.8,
          "Name": "chevrolet citation",
          "Origin": "USA",
          "Weight_in_lbs": 2595,
          "Year": "1979-01-01"
         },
         {
          "Acceleration": 12.9,
          "Cylinders": 6,
          "Displacement": 173,
          "Horsepower": 115,
          "Miles_per_Gallon": 26.8,
          "Name": "oldsmobile omega brougham",
          "Origin": "USA",
          "Weight_in_lbs": 2700,
          "Year": "1979-01-01"
         },
         {
          "Acceleration": 13.2,
          "Cylinders": 4,
          "Displacement": 151,
          "Horsepower": 90,
          "Miles_per_Gallon": 33.5,
          "Name": "pontiac phoenix",
          "Origin": "USA",
          "Weight_in_lbs": 2556,
          "Year": "1979-01-01"
         },
         {
          "Acceleration": 14.7,
          "Cylinders": 4,
          "Displacement": 98,
          "Horsepower": 76,
          "Miles_per_Gallon": 41.5,
          "Name": "vw rabbit",
          "Origin": "Europe",
          "Weight_in_lbs": 2144,
          "Year": "1980-01-01"
         },
         {
          "Acceleration": 18.8,
          "Cylinders": 4,
          "Displacement": 89,
          "Horsepower": 60,
          "Miles_per_Gallon": 38.1,
          "Name": "toyota corolla tercel",
          "Origin": "Japan",
          "Weight_in_lbs": 1968,
          "Year": "1980-01-01"
         },
         {
          "Acceleration": 15.5,
          "Cylinders": 4,
          "Displacement": 98,
          "Horsepower": 70,
          "Miles_per_Gallon": 32.1,
          "Name": "chevrolet chevette",
          "Origin": "USA",
          "Weight_in_lbs": 2120,
          "Year": "1980-01-01"
         },
         {
          "Acceleration": 16.4,
          "Cylinders": 4,
          "Displacement": 86,
          "Horsepower": 65,
          "Miles_per_Gallon": 37.2,
          "Name": "datsun 310",
          "Origin": "Japan",
          "Weight_in_lbs": 2019,
          "Year": "1980-01-01"
         },
         {
          "Acceleration": 16.5,
          "Cylinders": 4,
          "Displacement": 151,
          "Horsepower": 90,
          "Miles_per_Gallon": 28,
          "Name": "chevrolet citation",
          "Origin": "USA",
          "Weight_in_lbs": 2678,
          "Year": "1980-01-01"
         },
         {
          "Acceleration": 18.1,
          "Cylinders": 4,
          "Displacement": 140,
          "Horsepower": 88,
          "Miles_per_Gallon": 26.4,
          "Name": "ford fairmont",
          "Origin": "USA",
          "Weight_in_lbs": 2870,
          "Year": "1980-01-01"
         },
         {
          "Acceleration": 20.1,
          "Cylinders": 4,
          "Displacement": 151,
          "Horsepower": 90,
          "Miles_per_Gallon": 24.3,
          "Name": "amc concord",
          "Origin": "USA",
          "Weight_in_lbs": 3003,
          "Year": "1980-01-01"
         },
         {
          "Acceleration": 18.7,
          "Cylinders": 6,
          "Displacement": 225,
          "Horsepower": 90,
          "Miles_per_Gallon": 19.1,
          "Name": "dodge aspen",
          "Origin": "USA",
          "Weight_in_lbs": 3381,
          "Year": "1980-01-01"
         },
         {
          "Acceleration": 15.8,
          "Cylinders": 4,
          "Displacement": 97,
          "Horsepower": 78,
          "Miles_per_Gallon": 34.3,
          "Name": "audi 4000",
          "Origin": "Europe",
          "Weight_in_lbs": 2188,
          "Year": "1980-01-01"
         },
         {
          "Acceleration": 15.5,
          "Cylinders": 4,
          "Displacement": 134,
          "Horsepower": 90,
          "Miles_per_Gallon": 29.8,
          "Name": "toyota corona liftback",
          "Origin": "Japan",
          "Weight_in_lbs": 2711,
          "Year": "1980-01-01"
         },
         {
          "Acceleration": 17.5,
          "Cylinders": 4,
          "Displacement": 120,
          "Horsepower": 75,
          "Miles_per_Gallon": 31.3,
          "Name": "mazda 626",
          "Origin": "Japan",
          "Weight_in_lbs": 2542,
          "Year": "1980-01-01"
         },
         {
          "Acceleration": 15,
          "Cylinders": 4,
          "Displacement": 119,
          "Horsepower": 92,
          "Miles_per_Gallon": 37,
          "Name": "datsun 510 hatchback",
          "Origin": "Japan",
          "Weight_in_lbs": 2434,
          "Year": "1980-01-01"
         },
         {
          "Acceleration": 15.2,
          "Cylinders": 4,
          "Displacement": 108,
          "Horsepower": 75,
          "Miles_per_Gallon": 32.2,
          "Name": "toyota corolla",
          "Origin": "Japan",
          "Weight_in_lbs": 2265,
          "Year": "1980-01-01"
         },
         {
          "Acceleration": 17.9,
          "Cylinders": 4,
          "Displacement": 86,
          "Horsepower": 65,
          "Miles_per_Gallon": 46.6,
          "Name": "mazda glc",
          "Origin": "Japan",
          "Weight_in_lbs": 2110,
          "Year": "1980-01-01"
         },
         {
          "Acceleration": 14.4,
          "Cylinders": 4,
          "Displacement": 156,
          "Horsepower": 105,
          "Miles_per_Gallon": 27.9,
          "Name": "dodge colt",
          "Origin": "USA",
          "Weight_in_lbs": 2800,
          "Year": "1980-01-01"
         },
         {
          "Acceleration": 19.2,
          "Cylinders": 4,
          "Displacement": 85,
          "Horsepower": 65,
          "Miles_per_Gallon": 40.8,
          "Name": "datsun 210",
          "Origin": "Japan",
          "Weight_in_lbs": 2110,
          "Year": "1980-01-01"
         },
         {
          "Acceleration": 21.7,
          "Cylinders": 4,
          "Displacement": 90,
          "Horsepower": 48,
          "Miles_per_Gallon": 44.3,
          "Name": "vw rabbit c (diesel)",
          "Origin": "Europe",
          "Weight_in_lbs": 2085,
          "Year": "1980-01-01"
         },
         {
          "Acceleration": 23.7,
          "Cylinders": 4,
          "Displacement": 90,
          "Horsepower": 48,
          "Miles_per_Gallon": 43.4,
          "Name": "vw dasher (diesel)",
          "Origin": "Europe",
          "Weight_in_lbs": 2335,
          "Year": "1980-01-01"
         },
         {
          "Acceleration": 19.9,
          "Cylinders": 5,
          "Displacement": 121,
          "Horsepower": 67,
          "Miles_per_Gallon": 36.4,
          "Name": "audi 5000s (diesel)",
          "Origin": "Europe",
          "Weight_in_lbs": 2950,
          "Year": "1980-01-01"
         },
         {
          "Acceleration": 21.8,
          "Cylinders": 4,
          "Displacement": 146,
          "Horsepower": 67,
          "Miles_per_Gallon": 30,
          "Name": "mercedes-benz 240d",
          "Origin": "Europe",
          "Weight_in_lbs": 3250,
          "Year": "1980-01-01"
         },
         {
          "Acceleration": 13.8,
          "Cylinders": 4,
          "Displacement": 91,
          "Horsepower": 67,
          "Miles_per_Gallon": 44.6,
          "Name": "honda civic 1500 gl",
          "Origin": "Japan",
          "Weight_in_lbs": 1850,
          "Year": "1980-01-01"
         },
         {
          "Acceleration": 17.3,
          "Cylinders": 4,
          "Displacement": 85,
          "Horsepower": null,
          "Miles_per_Gallon": 40.9,
          "Name": "renault lecar deluxe",
          "Origin": "Europe",
          "Weight_in_lbs": 1835,
          "Year": "1980-01-01"
         },
         {
          "Acceleration": 18,
          "Cylinders": 4,
          "Displacement": 97,
          "Horsepower": 67,
          "Miles_per_Gallon": 33.8,
          "Name": "subaru dl",
          "Origin": "Japan",
          "Weight_in_lbs": 2145,
          "Year": "1980-01-01"
         },
         {
          "Acceleration": 15.3,
          "Cylinders": 4,
          "Displacement": 89,
          "Horsepower": 62,
          "Miles_per_Gallon": 29.8,
          "Name": "vokswagen rabbit",
          "Origin": "Europe",
          "Weight_in_lbs": 1845,
          "Year": "1980-01-01"
         },
         {
          "Acceleration": 11.4,
          "Cylinders": 6,
          "Displacement": 168,
          "Horsepower": 132,
          "Miles_per_Gallon": 32.7,
          "Name": "datsun 280-zx",
          "Origin": "Japan",
          "Weight_in_lbs": 2910,
          "Year": "1980-01-01"
         },
         {
          "Acceleration": 12.5,
          "Cylinders": 3,
          "Displacement": 70,
          "Horsepower": 100,
          "Miles_per_Gallon": 23.7,
          "Name": "mazda rx-7 gs",
          "Origin": "Japan",
          "Weight_in_lbs": 2420,
          "Year": "1980-01-01"
         },
         {
          "Acceleration": 15.1,
          "Cylinders": 4,
          "Displacement": 122,
          "Horsepower": 88,
          "Miles_per_Gallon": 35,
          "Name": "triumph tr7 coupe",
          "Origin": "Europe",
          "Weight_in_lbs": 2500,
          "Year": "1980-01-01"
         },
         {
          "Acceleration": 14.3,
          "Cylinders": 4,
          "Displacement": 140,
          "Horsepower": null,
          "Miles_per_Gallon": 23.6,
          "Name": "ford mustang cobra",
          "Origin": "USA",
          "Weight_in_lbs": 2905,
          "Year": "1980-01-01"
         },
         {
          "Acceleration": 17,
          "Cylinders": 4,
          "Displacement": 107,
          "Horsepower": 72,
          "Miles_per_Gallon": 32.4,
          "Name": "honda Accelerationord",
          "Origin": "Japan",
          "Weight_in_lbs": 2290,
          "Year": "1980-01-01"
         },
         {
          "Acceleration": 15.7,
          "Cylinders": 4,
          "Displacement": 135,
          "Horsepower": 84,
          "Miles_per_Gallon": 27.2,
          "Name": "plymouth reliant",
          "Origin": "USA",
          "Weight_in_lbs": 2490,
          "Year": "1982-01-01"
         },
         {
          "Acceleration": 16.4,
          "Cylinders": 4,
          "Displacement": 151,
          "Horsepower": 84,
          "Miles_per_Gallon": 26.6,
          "Name": "buick skylark",
          "Origin": "USA",
          "Weight_in_lbs": 2635,
          "Year": "1982-01-01"
         },
         {
          "Acceleration": 14.4,
          "Cylinders": 4,
          "Displacement": 156,
          "Horsepower": 92,
          "Miles_per_Gallon": 25.8,
          "Name": "dodge aries wagon (sw)",
          "Origin": "USA",
          "Weight_in_lbs": 2620,
          "Year": "1982-01-01"
         },
         {
          "Acceleration": 12.6,
          "Cylinders": 6,
          "Displacement": 173,
          "Horsepower": 110,
          "Miles_per_Gallon": 23.5,
          "Name": "chevrolet citation",
          "Origin": "USA",
          "Weight_in_lbs": 2725,
          "Year": "1982-01-01"
         },
         {
          "Acceleration": 12.9,
          "Cylinders": 4,
          "Displacement": 135,
          "Horsepower": 84,
          "Miles_per_Gallon": 30,
          "Name": "plymouth reliant",
          "Origin": "USA",
          "Weight_in_lbs": 2385,
          "Year": "1982-01-01"
         },
         {
          "Acceleration": 16.9,
          "Cylinders": 4,
          "Displacement": 79,
          "Horsepower": 58,
          "Miles_per_Gallon": 39.1,
          "Name": "toyota starlet",
          "Origin": "Japan",
          "Weight_in_lbs": 1755,
          "Year": "1982-01-01"
         },
         {
          "Acceleration": 16.4,
          "Cylinders": 4,
          "Displacement": 86,
          "Horsepower": 64,
          "Miles_per_Gallon": 39,
          "Name": "plymouth champ",
          "Origin": "USA",
          "Weight_in_lbs": 1875,
          "Year": "1982-01-01"
         },
         {
          "Acceleration": 16.1,
          "Cylinders": 4,
          "Displacement": 81,
          "Horsepower": 60,
          "Miles_per_Gallon": 35.1,
          "Name": "honda civic 1300",
          "Origin": "Japan",
          "Weight_in_lbs": 1760,
          "Year": "1982-01-01"
         },
         {
          "Acceleration": 17.8,
          "Cylinders": 4,
          "Displacement": 97,
          "Horsepower": 67,
          "Miles_per_Gallon": 32.3,
          "Name": "subaru",
          "Origin": "Japan",
          "Weight_in_lbs": 2065,
          "Year": "1982-01-01"
         },
         {
          "Acceleration": 19.4,
          "Cylinders": 4,
          "Displacement": 85,
          "Horsepower": 65,
          "Miles_per_Gallon": 37,
          "Name": "datsun 210",
          "Origin": "Japan",
          "Weight_in_lbs": 1975,
          "Year": "1982-01-01"
         },
         {
          "Acceleration": 17.3,
          "Cylinders": 4,
          "Displacement": 89,
          "Horsepower": 62,
          "Miles_per_Gallon": 37.7,
          "Name": "toyota tercel",
          "Origin": "Japan",
          "Weight_in_lbs": 2050,
          "Year": "1982-01-01"
         },
         {
          "Acceleration": 16,
          "Cylinders": 4,
          "Displacement": 91,
          "Horsepower": 68,
          "Miles_per_Gallon": 34.1,
          "Name": "mazda glc 4",
          "Origin": "Japan",
          "Weight_in_lbs": 1985,
          "Year": "1982-01-01"
         },
         {
          "Acceleration": 14.9,
          "Cylinders": 4,
          "Displacement": 105,
          "Horsepower": 63,
          "Miles_per_Gallon": 34.7,
          "Name": "plymouth horizon 4",
          "Origin": "USA",
          "Weight_in_lbs": 2215,
          "Year": "1982-01-01"
         },
         {
          "Acceleration": 16.2,
          "Cylinders": 4,
          "Displacement": 98,
          "Horsepower": 65,
          "Miles_per_Gallon": 34.4,
          "Name": "ford escort 4w",
          "Origin": "USA",
          "Weight_in_lbs": 2045,
          "Year": "1982-01-01"
         },
         {
          "Acceleration": 20.7,
          "Cylinders": 4,
          "Displacement": 98,
          "Horsepower": 65,
          "Miles_per_Gallon": 29.9,
          "Name": "ford escort 2h",
          "Origin": "USA",
          "Weight_in_lbs": 2380,
          "Year": "1982-01-01"
         },
         {
          "Acceleration": 14.2,
          "Cylinders": 4,
          "Displacement": 105,
          "Horsepower": 74,
          "Miles_per_Gallon": 33,
          "Name": "volkswagen jetta",
          "Origin": "Europe",
          "Weight_in_lbs": 2190,
          "Year": "1982-01-01"
         },
         {
          "Acceleration": 15.8,
          "Cylinders": 4,
          "Displacement": 100,
          "Horsepower": null,
          "Miles_per_Gallon": 34.5,
          "Name": "renault 18i",
          "Origin": "Europe",
          "Weight_in_lbs": 2320,
          "Year": "1982-01-01"
         },
         {
          "Acceleration": 14.4,
          "Cylinders": 4,
          "Displacement": 107,
          "Horsepower": 75,
          "Miles_per_Gallon": 33.7,
          "Name": "honda prelude",
          "Origin": "Japan",
          "Weight_in_lbs": 2210,
          "Year": "1982-01-01"
         },
         {
          "Acceleration": 16.8,
          "Cylinders": 4,
          "Displacement": 108,
          "Horsepower": 75,
          "Miles_per_Gallon": 32.4,
          "Name": "toyota corolla",
          "Origin": "Japan",
          "Weight_in_lbs": 2350,
          "Year": "1982-01-01"
         },
         {
          "Acceleration": 14.8,
          "Cylinders": 4,
          "Displacement": 119,
          "Horsepower": 100,
          "Miles_per_Gallon": 32.9,
          "Name": "datsun 200sx",
          "Origin": "Japan",
          "Weight_in_lbs": 2615,
          "Year": "1982-01-01"
         },
         {
          "Acceleration": 18.3,
          "Cylinders": 4,
          "Displacement": 120,
          "Horsepower": 74,
          "Miles_per_Gallon": 31.6,
          "Name": "mazda 626",
          "Origin": "Japan",
          "Weight_in_lbs": 2635,
          "Year": "1982-01-01"
         },
         {
          "Acceleration": 20.4,
          "Cylinders": 4,
          "Displacement": 141,
          "Horsepower": 80,
          "Miles_per_Gallon": 28.1,
          "Name": "peugeot 505s turbo diesel",
          "Origin": "Europe",
          "Weight_in_lbs": 3230,
          "Year": "1982-01-01"
         },
         {
          "Acceleration": 15.4,
          "Cylinders": 4,
          "Displacement": 121,
          "Horsepower": 110,
          "Miles_per_Gallon": null,
          "Name": "saab 900s",
          "Origin": "Europe",
          "Weight_in_lbs": 2800,
          "Year": "1982-01-01"
         },
         {
          "Acceleration": 19.6,
          "Cylinders": 6,
          "Displacement": 145,
          "Horsepower": 76,
          "Miles_per_Gallon": 30.7,
          "Name": "volvo diesel",
          "Origin": "Europe",
          "Weight_in_lbs": 3160,
          "Year": "1982-01-01"
         },
         {
          "Acceleration": 12.6,
          "Cylinders": 6,
          "Displacement": 168,
          "Horsepower": 116,
          "Miles_per_Gallon": 25.4,
          "Name": "toyota cressida",
          "Origin": "Japan",
          "Weight_in_lbs": 2900,
          "Year": "1982-01-01"
         },
         {
          "Acceleration": 13.8,
          "Cylinders": 6,
          "Displacement": 146,
          "Horsepower": 120,
          "Miles_per_Gallon": 24.2,
          "Name": "datsun 810 maxima",
          "Origin": "Japan",
          "Weight_in_lbs": 2930,
          "Year": "1982-01-01"
         },
         {
          "Acceleration": 15.8,
          "Cylinders": 6,
          "Displacement": 231,
          "Horsepower": 110,
          "Miles_per_Gallon": 22.4,
          "Name": "buick century",
          "Origin": "USA",
          "Weight_in_lbs": 3415,
          "Year": "1982-01-01"
         },
         {
          "Acceleration": 19,
          "Cylinders": 8,
          "Displacement": 350,
          "Horsepower": 105,
          "Miles_per_Gallon": 26.6,
          "Name": "oldsmobile cutlass ls",
          "Origin": "USA",
          "Weight_in_lbs": 3725,
          "Year": "1982-01-01"
         },
         {
          "Acceleration": 17.1,
          "Cylinders": 6,
          "Displacement": 200,
          "Horsepower": 88,
          "Miles_per_Gallon": 20.2,
          "Name": "ford granada gl",
          "Origin": "USA",
          "Weight_in_lbs": 3060,
          "Year": "1982-01-01"
         },
         {
          "Acceleration": 16.6,
          "Cylinders": 6,
          "Displacement": 225,
          "Horsepower": 85,
          "Miles_per_Gallon": 17.6,
          "Name": "chrysler lebaron salon",
          "Origin": "USA",
          "Weight_in_lbs": 3465,
          "Year": "1982-01-01"
         },
         {
          "Acceleration": 19.6,
          "Cylinders": 4,
          "Displacement": 112,
          "Horsepower": 88,
          "Miles_per_Gallon": 28,
          "Name": "chevrolet cavalier",
          "Origin": "USA",
          "Weight_in_lbs": 2605,
          "Year": "1982-01-01"
         },
         {
          "Acceleration": 18.6,
          "Cylinders": 4,
          "Displacement": 112,
          "Horsepower": 88,
          "Miles_per_Gallon": 27,
          "Name": "chevrolet cavalier wagon",
          "Origin": "USA",
          "Weight_in_lbs": 2640,
          "Year": "1982-01-01"
         },
         {
          "Acceleration": 18,
          "Cylinders": 4,
          "Displacement": 112,
          "Horsepower": 88,
          "Miles_per_Gallon": 34,
          "Name": "chevrolet cavalier 2-door",
          "Origin": "USA",
          "Weight_in_lbs": 2395,
          "Year": "1982-01-01"
         },
         {
          "Acceleration": 16.2,
          "Cylinders": 4,
          "Displacement": 112,
          "Horsepower": 85,
          "Miles_per_Gallon": 31,
          "Name": "pontiac j2000 se hatchback",
          "Origin": "USA",
          "Weight_in_lbs": 2575,
          "Year": "1982-01-01"
         },
         {
          "Acceleration": 16,
          "Cylinders": 4,
          "Displacement": 135,
          "Horsepower": 84,
          "Miles_per_Gallon": 29,
          "Name": "dodge aries se",
          "Origin": "USA",
          "Weight_in_lbs": 2525,
          "Year": "1982-01-01"
         },
         {
          "Acceleration": 18,
          "Cylinders": 4,
          "Displacement": 151,
          "Horsepower": 90,
          "Miles_per_Gallon": 27,
          "Name": "pontiac phoenix",
          "Origin": "USA",
          "Weight_in_lbs": 2735,
          "Year": "1982-01-01"
         },
         {
          "Acceleration": 16.4,
          "Cylinders": 4,
          "Displacement": 140,
          "Horsepower": 92,
          "Miles_per_Gallon": 24,
          "Name": "ford fairmont futura",
          "Origin": "USA",
          "Weight_in_lbs": 2865,
          "Year": "1982-01-01"
         },
         {
          "Acceleration": 20.5,
          "Cylinders": 4,
          "Displacement": 151,
          "Horsepower": null,
          "Miles_per_Gallon": 23,
          "Name": "amc concord dl",
          "Origin": "USA",
          "Weight_in_lbs": 3035,
          "Year": "1982-01-01"
         },
         {
          "Acceleration": 15.3,
          "Cylinders": 4,
          "Displacement": 105,
          "Horsepower": 74,
          "Miles_per_Gallon": 36,
          "Name": "volkswagen rabbit l",
          "Origin": "Europe",
          "Weight_in_lbs": 1980,
          "Year": "1982-01-01"
         },
         {
          "Acceleration": 18.2,
          "Cylinders": 4,
          "Displacement": 91,
          "Horsepower": 68,
          "Miles_per_Gallon": 37,
          "Name": "mazda glc custom l",
          "Origin": "Japan",
          "Weight_in_lbs": 2025,
          "Year": "1982-01-01"
         },
         {
          "Acceleration": 17.6,
          "Cylinders": 4,
          "Displacement": 91,
          "Horsepower": 68,
          "Miles_per_Gallon": 31,
          "Name": "mazda glc custom",
          "Origin": "Japan",
          "Weight_in_lbs": 1970,
          "Year": "1982-01-01"
         },
         {
          "Acceleration": 14.7,
          "Cylinders": 4,
          "Displacement": 105,
          "Horsepower": 63,
          "Miles_per_Gallon": 38,
          "Name": "plymouth horizon miser",
          "Origin": "USA",
          "Weight_in_lbs": 2125,
          "Year": "1982-01-01"
         },
         {
          "Acceleration": 17.3,
          "Cylinders": 4,
          "Displacement": 98,
          "Horsepower": 70,
          "Miles_per_Gallon": 36,
          "Name": "mercury lynx l",
          "Origin": "USA",
          "Weight_in_lbs": 2125,
          "Year": "1982-01-01"
         },
         {
          "Acceleration": 14.5,
          "Cylinders": 4,
          "Displacement": 120,
          "Horsepower": 88,
          "Miles_per_Gallon": 36,
          "Name": "nissan stanza xe",
          "Origin": "Japan",
          "Weight_in_lbs": 2160,
          "Year": "1982-01-01"
         },
         {
          "Acceleration": 14.5,
          "Cylinders": 4,
          "Displacement": 107,
          "Horsepower": 75,
          "Miles_per_Gallon": 36,
          "Name": "honda Accelerationord",
          "Origin": "Japan",
          "Weight_in_lbs": 2205,
          "Year": "1982-01-01"
         },
         {
          "Acceleration": 16.9,
          "Cylinders": 4,
          "Displacement": 108,
          "Horsepower": 70,
          "Miles_per_Gallon": 34,
          "Name": "toyota corolla",
          "Origin": "Japan",
          "Weight_in_lbs": 2245,
          "Year": "1982-01-01"
         },
         {
          "Acceleration": 15,
          "Cylinders": 4,
          "Displacement": 91,
          "Horsepower": 67,
          "Miles_per_Gallon": 38,
          "Name": "honda civic",
          "Origin": "Japan",
          "Weight_in_lbs": 1965,
          "Year": "1982-01-01"
         },
         {
          "Acceleration": 15.7,
          "Cylinders": 4,
          "Displacement": 91,
          "Horsepower": 67,
          "Miles_per_Gallon": 32,
          "Name": "honda civic (auto)",
          "Origin": "Japan",
          "Weight_in_lbs": 1965,
          "Year": "1982-01-01"
         },
         {
          "Acceleration": 16.2,
          "Cylinders": 4,
          "Displacement": 91,
          "Horsepower": 67,
          "Miles_per_Gallon": 38,
          "Name": "datsun 310 gx",
          "Origin": "Japan",
          "Weight_in_lbs": 1995,
          "Year": "1982-01-01"
         },
         {
          "Acceleration": 16.4,
          "Cylinders": 6,
          "Displacement": 181,
          "Horsepower": 110,
          "Miles_per_Gallon": 25,
          "Name": "buick century limited",
          "Origin": "USA",
          "Weight_in_lbs": 2945,
          "Year": "1982-01-01"
         },
         {
          "Acceleration": 17,
          "Cylinders": 6,
          "Displacement": 262,
          "Horsepower": 85,
          "Miles_per_Gallon": 38,
          "Name": "oldsmobile cutlass ciera (diesel)",
          "Origin": "USA",
          "Weight_in_lbs": 3015,
          "Year": "1982-01-01"
         },
         {
          "Acceleration": 14.5,
          "Cylinders": 4,
          "Displacement": 156,
          "Horsepower": 92,
          "Miles_per_Gallon": 26,
          "Name": "chrysler lebaron medallion",
          "Origin": "USA",
          "Weight_in_lbs": 2585,
          "Year": "1982-01-01"
         },
         {
          "Acceleration": 14.7,
          "Cylinders": 6,
          "Displacement": 232,
          "Horsepower": 112,
          "Miles_per_Gallon": 22,
          "Name": "ford granada l",
          "Origin": "USA",
          "Weight_in_lbs": 2835,
          "Year": "1982-01-01"
         },
         {
          "Acceleration": 13.9,
          "Cylinders": 4,
          "Displacement": 144,
          "Horsepower": 96,
          "Miles_per_Gallon": 32,
          "Name": "toyota celica gt",
          "Origin": "Japan",
          "Weight_in_lbs": 2665,
          "Year": "1982-01-01"
         },
         {
          "Acceleration": 13,
          "Cylinders": 4,
          "Displacement": 135,
          "Horsepower": 84,
          "Miles_per_Gallon": 36,
          "Name": "dodge charger 2.2",
          "Origin": "USA",
          "Weight_in_lbs": 2370,
          "Year": "1982-01-01"
         },
         {
          "Acceleration": 17.3,
          "Cylinders": 4,
          "Displacement": 151,
          "Horsepower": 90,
          "Miles_per_Gallon": 27,
          "Name": "chevrolet camaro",
          "Origin": "USA",
          "Weight_in_lbs": 2950,
          "Year": "1982-01-01"
         },
         {
          "Acceleration": 15.6,
          "Cylinders": 4,
          "Displacement": 140,
          "Horsepower": 86,
          "Miles_per_Gallon": 27,
          "Name": "ford mustang gl",
          "Origin": "USA",
          "Weight_in_lbs": 2790,
          "Year": "1982-01-01"
         },
         {
          "Acceleration": 24.6,
          "Cylinders": 4,
          "Displacement": 97,
          "Horsepower": 52,
          "Miles_per_Gallon": 44,
          "Name": "vw pickup",
          "Origin": "Europe",
          "Weight_in_lbs": 2130,
          "Year": "1982-01-01"
         },
         {
          "Acceleration": 11.6,
          "Cylinders": 4,
          "Displacement": 135,
          "Horsepower": 84,
          "Miles_per_Gallon": 32,
          "Name": "dodge rampage",
          "Origin": "USA",
          "Weight_in_lbs": 2295,
          "Year": "1982-01-01"
         },
         {
          "Acceleration": 18.6,
          "Cylinders": 4,
          "Displacement": 120,
          "Horsepower": 79,
          "Miles_per_Gallon": 28,
          "Name": "ford ranger",
          "Origin": "USA",
          "Weight_in_lbs": 2625,
          "Year": "1982-01-01"
         },
         {
          "Acceleration": 19.4,
          "Cylinders": 4,
          "Displacement": 119,
          "Horsepower": 82,
          "Miles_per_Gallon": 31,
          "Name": "chevy s-10",
          "Origin": "USA",
          "Weight_in_lbs": 2720,
          "Year": "1982-01-01"
         }
        ]
       },
       "encoding": {
        "color": {
         "field": "Origin",
         "type": "nominal"
        },
        "x": {
         "field": "Horsepower",
         "type": "quantitative"
        },
        "y": {
         "field": "Miles_per_Gallon",
         "type": "quantitative"
        }
       },
       "height": 400,
       "mark": "point",
       "width": 400
      },
      "image/png": "[encoded data removed]",
      "image/svg+xml": [
       "<svg xmlns=\"http://www.w3.org/2000/svg\" xmlns:xlink=\"http://www.w3.org/1999/xlink\" version=\"1.1\" class=\"marks\" width=\"511\" height=\"447\" viewBox=\"0 0 511 447\"><rect width=\"511\" height=\"447\" fill=\"white\"/><g fill=\"none\" stroke-miterlimit=\"10\" transform=\"translate(39,10)\"><g class=\"mark-group role-frame root\" role=\"graphics-object\" aria-roledescription=\"group mark container\"><g transform=\"translate(0,0)\"><path class=\"background\" aria-hidden=\"true\" d=\"M0.5,0.5h400v400h-400Z\" stroke=\"#ddd\"/><g><g class=\"mark-group role-axis\" aria-hidden=\"true\"><g transform=\"translate(0.5,400.5)\"><path class=\"background\" aria-hidden=\"true\" d=\"M0,0h0v0h0Z\" pointer-events=\"none\"/><g><g class=\"mark-rule role-axis-grid\" pointer-events=\"none\"><line transform=\"translate(0,-400)\" x2=\"0\" y2=\"400\" stroke=\"#ddd\" stroke-width=\"1\" opacity=\"1\"/><line transform=\"translate(33,-400)\" x2=\"0\" y2=\"400\" stroke=\"#ddd\" stroke-width=\"1\" opacity=\"1\"/><line transform=\"translate(67,-400)\" x2=\"0\" y2=\"400\" stroke=\"#ddd\" stroke-width=\"1\" opacity=\"1\"/><line transform=\"translate(100,-400)\" x2=\"0\" y2=\"400\" stroke=\"#ddd\" stroke-width=\"1\" opacity=\"1\"/><line transform=\"translate(133,-400)\" x2=\"0\" y2=\"400\" stroke=\"#ddd\" stroke-width=\"1\" opacity=\"1\"/><line transform=\"translate(167,-400)\" x2=\"0\" y2=\"400\" stroke=\"#ddd\" stroke-width=\"1\" opacity=\"1\"/><line transform=\"translate(200,-400)\" x2=\"0\" y2=\"400\" stroke=\"#ddd\" stroke-width=\"1\" opacity=\"1\"/><line transform=\"translate(233,-400)\" x2=\"0\" y2=\"400\" stroke=\"#ddd\" stroke-width=\"1\" opacity=\"1\"/><line transform=\"translate(267,-400)\" x2=\"0\" y2=\"400\" stroke=\"#ddd\" stroke-width=\"1\" opacity=\"1\"/><line transform=\"translate(300,-400)\" x2=\"0\" y2=\"400\" stroke=\"#ddd\" stroke-width=\"1\" opacity=\"1\"/><line transform=\"translate(333,-400)\" x2=\"0\" y2=\"400\" stroke=\"#ddd\" stroke-width=\"1\" opacity=\"1\"/><line transform=\"translate(367,-400)\" x2=\"0\" y2=\"400\" stroke=\"#ddd\" stroke-width=\"1\" opacity=\"1\"/><line transform=\"translate(400,-400)\" x2=\"0\" y2=\"400\" stroke=\"#ddd\" stroke-width=\"1\" opacity=\"1\"/></g></g><path class=\"foreground\" aria-hidden=\"true\" d=\"\" pointer-events=\"none\" display=\"none\"/></g></g><g class=\"mark-group role-axis\" aria-hidden=\"true\"><g transform=\"translate(0.5,0.5)\"><path class=\"background\" aria-hidden=\"true\" d=\"M0,0h0v0h0Z\" pointer-events=\"none\"/><g><g class=\"mark-rule role-axis-grid\" pointer-events=\"none\"><line transform=\"translate(0,400)\" x2=\"400\" y2=\"0\" stroke=\"#ddd\" stroke-width=\"1\" opacity=\"1\"/><line transform=\"translate(0,360)\" x2=\"400\" y2=\"0\" stroke=\"#ddd\" stroke-width=\"1\" opacity=\"1\"/><line transform=\"translate(0,320)\" x2=\"400\" y2=\"0\" stroke=\"#ddd\" stroke-width=\"1\" opacity=\"1\"/><line transform=\"translate(0,280)\" x2=\"400\" y2=\"0\" stroke=\"#ddd\" stroke-width=\"1\" opacity=\"1\"/><line transform=\"translate(0,240)\" x2=\"400\" y2=\"0\" stroke=\"#ddd\" stroke-width=\"1\" opacity=\"1\"/><line transform=\"translate(0,200)\" x2=\"400\" y2=\"0\" stroke=\"#ddd\" stroke-width=\"1\" opacity=\"1\"/><line transform=\"translate(0,160)\" x2=\"400\" y2=\"0\" stroke=\"#ddd\" stroke-width=\"1\" opacity=\"1\"/><line transform=\"translate(0,120)\" x2=\"400\" y2=\"0\" stroke=\"#ddd\" stroke-width=\"1\" opacity=\"1\"/><line transform=\"translate(0,80)\" x2=\"400\" y2=\"0\" stroke=\"#ddd\" stroke-width=\"1\" opacity=\"1\"/><line transform=\"translate(0,40)\" x2=\"400\" y2=\"0\" stroke=\"#ddd\" stroke-width=\"1\" opacity=\"1\"/><line transform=\"translate(0,0)\" x2=\"400\" y2=\"0\" stroke=\"#ddd\" stroke-width=\"1\" opacity=\"1\"/></g></g><path class=\"foreground\" aria-hidden=\"true\" d=\"\" pointer-events=\"none\" display=\"none\"/></g></g><g class=\"mark-group role-axis\" role=\"graphics-symbol\" aria-roledescription=\"axis\" aria-label=\"X-axis titled 'Horsepower' for a linear scale with values from 0 to 240\"><g transform=\"translate(0.5,400.5)\"><path class=\"background\" aria-hidden=\"true\" d=\"M0,0h0v0h0Z\" pointer-events=\"none\"/><g><g class=\"mark-rule role-axis-tick\" pointer-events=\"none\"><line transform=\"translate(0,0)\" x2=\"0\" y2=\"5\" stroke=\"#888\" stroke-width=\"1\" opacity=\"1\"/><line transform=\"translate(33,0)\" x2=\"0\" y2=\"5\" stroke=\"#888\" stroke-width=\"1\" opacity=\"1\"/><line transform=\"translate(67,0)\" x2=\"0\" y2=\"5\" stroke=\"#888\" stroke-width=\"1\" opacity=\"1\"/><line transform=\"translate(100,0)\" x2=\"0\" y2=\"5\" stroke=\"#888\" stroke-width=\"1\" opacity=\"1\"/><line transform=\"translate(133,0)\" x2=\"0\" y2=\"5\" stroke=\"#888\" stroke-width=\"1\" opacity=\"1\"/><line transform=\"translate(167,0)\" x2=\"0\" y2=\"5\" stroke=\"#888\" stroke-width=\"1\" opacity=\"1\"/><line transform=\"translate(200,0)\" x2=\"0\" y2=\"5\" stroke=\"#888\" stroke-width=\"1\" opacity=\"1\"/><line transform=\"translate(233,0)\" x2=\"0\" y2=\"5\" stroke=\"#888\" stroke-width=\"1\" opacity=\"1\"/><line transform=\"translate(267,0)\" x2=\"0\" y2=\"5\" stroke=\"#888\" stroke-width=\"1\" opacity=\"1\"/><line transform=\"translate(300,0)\" x2=\"0\" y2=\"5\" stroke=\"#888\" stroke-width=\"1\" opacity=\"1\"/><line transform=\"translate(333,0)\" x2=\"0\" y2=\"5\" stroke=\"#888\" stroke-width=\"1\" opacity=\"1\"/><line transform=\"translate(367,0)\" x2=\"0\" y2=\"5\" stroke=\"#888\" stroke-width=\"1\" opacity=\"1\"/><line transform=\"translate(400,0)\" x2=\"0\" y2=\"5\" stroke=\"#888\" stroke-width=\"1\" opacity=\"1\"/></g><g class=\"mark-text role-axis-label\" pointer-events=\"none\"><text text-anchor=\"start\" transform=\"translate(0,15)\" font-family=\"sans-serif\" font-size=\"10px\" fill=\"#000\" opacity=\"1\">0</text><text text-anchor=\"middle\" transform=\"translate(33.33333333333333,15)\" font-family=\"sans-serif\" font-size=\"10px\" fill=\"#000\" opacity=\"1\">20</text><text text-anchor=\"middle\" transform=\"translate(66.66666666666666,15)\" font-family=\"sans-serif\" font-size=\"10px\" fill=\"#000\" opacity=\"1\">40</text><text text-anchor=\"middle\" transform=\"translate(100,15)\" font-family=\"sans-serif\" font-size=\"10px\" fill=\"#000\" opacity=\"1\">60</text><text text-anchor=\"middle\" transform=\"translate(133.33333333333331,15)\" font-family=\"sans-serif\" font-size=\"10px\" fill=\"#000\" opacity=\"1\">80</text><text text-anchor=\"middle\" transform=\"translate(166.66666666666669,15)\" font-family=\"sans-serif\" font-size=\"10px\" fill=\"#000\" opacity=\"1\">100</text><text text-anchor=\"middle\" transform=\"translate(200,15)\" font-family=\"sans-serif\" font-size=\"10px\" fill=\"#000\" opacity=\"1\">120</text><text text-anchor=\"middle\" transform=\"translate(233.33333333333334,15)\" font-family=\"sans-serif\" font-size=\"10px\" fill=\"#000\" opacity=\"1\">140</text><text text-anchor=\"middle\" transform=\"translate(266.66666666666663,15)\" font-family=\"sans-serif\" font-size=\"10px\" fill=\"#000\" opacity=\"1\">160</text><text text-anchor=\"middle\" transform=\"translate(300,15)\" font-family=\"sans-serif\" font-size=\"10px\" fill=\"#000\" opacity=\"1\">180</text><text text-anchor=\"middle\" transform=\"translate(333.33333333333337,15)\" font-family=\"sans-serif\" font-size=\"10px\" fill=\"#000\" opacity=\"1\">200</text><text text-anchor=\"middle\" transform=\"translate(366.66666666666663,15)\" font-family=\"sans-serif\" font-size=\"10px\" fill=\"#000\" opacity=\"1\">220</text><text text-anchor=\"end\" transform=\"translate(400,15)\" font-family=\"sans-serif\" font-size=\"10px\" fill=\"#000\" opacity=\"1\">240</text></g><g class=\"mark-rule role-axis-domain\" pointer-events=\"none\"><line transform=\"translate(0,0)\" x2=\"400\" y2=\"0\" stroke=\"#888\" stroke-width=\"1\" opacity=\"1\"/></g><g class=\"mark-text role-axis-title\" pointer-events=\"none\"><text text-anchor=\"middle\" transform=\"translate(200,30)\" font-family=\"sans-serif\" font-size=\"11px\" font-weight=\"bold\" fill=\"#000\" opacity=\"1\">Horsepower</text></g></g><path class=\"foreground\" aria-hidden=\"true\" d=\"\" pointer-events=\"none\" display=\"none\"/></g></g><g class=\"mark-group role-axis\" role=\"graphics-symbol\" aria-roledescription=\"axis\" aria-label=\"Y-axis titled 'Miles_per_Gallon' for a linear scale with values from 0 to 50\"><g transform=\"translate(0.5,0.5)\"><path class=\"background\" aria-hidden=\"true\" d=\"M0,0h0v0h0Z\" pointer-events=\"none\"/><g><g class=\"mark-rule role-axis-tick\" pointer-events=\"none\"><line transform=\"translate(0,400)\" x2=\"-5\" y2=\"0\" stroke=\"#888\" stroke-width=\"1\" opacity=\"1\"/><line transform=\"translate(0,360)\" x2=\"-5\" y2=\"0\" stroke=\"#888\" stroke-width=\"1\" opacity=\"1\"/><line transform=\"translate(0,320)\" x2=\"-5\" y2=\"0\" stroke=\"#888\" stroke-width=\"1\" opacity=\"1\"/><line transform=\"translate(0,280)\" x2=\"-5\" y2=\"0\" stroke=\"#888\" stroke-width=\"1\" opacity=\"1\"/><line transform=\"translate(0,240)\" x2=\"-5\" y2=\"0\" stroke=\"#888\" stroke-width=\"1\" opacity=\"1\"/><line transform=\"translate(0,200)\" x2=\"-5\" y2=\"0\" stroke=\"#888\" stroke-width=\"1\" opacity=\"1\"/><line transform=\"translate(0,160)\" x2=\"-5\" y2=\"0\" stroke=\"#888\" stroke-width=\"1\" opacity=\"1\"/><line transform=\"translate(0,120)\" x2=\"-5\" y2=\"0\" stroke=\"#888\" stroke-width=\"1\" opacity=\"1\"/><line transform=\"translate(0,80)\" x2=\"-5\" y2=\"0\" stroke=\"#888\" stroke-width=\"1\" opacity=\"1\"/><line transform=\"translate(0,40)\" x2=\"-5\" y2=\"0\" stroke=\"#888\" stroke-width=\"1\" opacity=\"1\"/><line transform=\"translate(0,0)\" x2=\"-5\" y2=\"0\" stroke=\"#888\" stroke-width=\"1\" opacity=\"1\"/></g><g class=\"mark-text role-axis-label\" pointer-events=\"none\"><text text-anchor=\"end\" transform=\"translate(-7,403)\" font-family=\"sans-serif\" font-size=\"10px\" fill=\"#000\" opacity=\"1\">0</text><text text-anchor=\"end\" transform=\"translate(-7,363)\" font-family=\"sans-serif\" font-size=\"10px\" fill=\"#000\" opacity=\"1\">5</text><text text-anchor=\"end\" transform=\"translate(-7,323)\" font-family=\"sans-serif\" font-size=\"10px\" fill=\"#000\" opacity=\"1\">10</text><text text-anchor=\"end\" transform=\"translate(-7,283)\" font-family=\"sans-serif\" font-size=\"10px\" fill=\"#000\" opacity=\"1\">15</text><text text-anchor=\"end\" transform=\"translate(-7,243)\" font-family=\"sans-serif\" font-size=\"10px\" fill=\"#000\" opacity=\"1\">20</text><text text-anchor=\"end\" transform=\"translate(-7,203)\" font-family=\"sans-serif\" font-size=\"10px\" fill=\"#000\" opacity=\"1\">25</text><text text-anchor=\"end\" transform=\"translate(-7,163)\" font-family=\"sans-serif\" font-size=\"10px\" fill=\"#000\" opacity=\"1\">30</text><text text-anchor=\"end\" transform=\"translate(-7,123.00000000000001)\" font-family=\"sans-serif\" font-size=\"10px\" fill=\"#000\" opacity=\"1\">35</text><text text-anchor=\"end\" transform=\"translate(-7,82.99999999999999)\" font-family=\"sans-serif\" font-size=\"10px\" fill=\"#000\" opacity=\"1\">40</text><text text-anchor=\"end\" transform=\"translate(-7,42.99999999999999)\" font-family=\"sans-serif\" font-size=\"10px\" fill=\"#000\" opacity=\"1\">45</text><text text-anchor=\"end\" transform=\"translate(-7,3)\" font-family=\"sans-serif\" font-size=\"10px\" fill=\"#000\" opacity=\"1\">50</text></g><g class=\"mark-rule role-axis-domain\" pointer-events=\"none\"><line transform=\"translate(0,400)\" x2=\"0\" y2=\"-400\" stroke=\"#888\" stroke-width=\"1\" opacity=\"1\"/></g><g class=\"mark-text role-axis-title\" pointer-events=\"none\"><text text-anchor=\"middle\" transform=\"translate(-22.123046875,200) rotate(-90) translate(0,-2)\" font-family=\"sans-serif\" font-size=\"11px\" font-weight=\"bold\" fill=\"#000\" opacity=\"1\">Miles_per_Gallon</text></g></g><path class=\"foreground\" aria-hidden=\"true\" d=\"\" pointer-events=\"none\" display=\"none\"/></g></g><g class=\"mark-symbol role-mark marks\" role=\"graphics-object\" aria-roledescription=\"symbol mark container\"><path aria-label=\"Horsepower: 130; Miles_per_Gallon: 18; Origin: USA\" role=\"graphics-symbol\" aria-roledescription=\"point\" transform=\"translate(216.66666666666666,256)\" d=\"M2.739,0A2.739,2.739,0,1,1,-2.739,0A2.739,2.739,0,1,1,2.739,0\" stroke=\"#e45756\" stroke-width=\"2\" opacity=\"0.7\"/><path aria-label=\"Horsepower: 165; Miles_per_Gallon: 15; Origin: USA\" role=\"graphics-symbol\" aria-roledescription=\"point\" transform=\"translate(275,280)\" d=\"M2.739,0A2.739,2.739,0,1,1,-2.739,0A2.739,2.739,0,1,1,2.739,0\" stroke=\"#e45756\" stroke-width=\"2\" opacity=\"0.7\"/><path aria-label=\"Horsepower: 150; Miles_per_Gallon: 18; Origin: USA\" role=\"graphics-symbol\" aria-roledescription=\"point\" transform=\"translate(250,256)\" d=\"M2.739,0A2.739,2.739,0,1,1,-2.739,0A2.739,2.739,0,1,1,2.739,0\" stroke=\"#e45756\" stroke-width=\"2\" opacity=\"0.7\"/><path aria-label=\"Horsepower: 150; Miles_per_Gallon: 16; Origin: USA\" role=\"graphics-symbol\" aria-roledescription=\"point\" transform=\"translate(250,272)\" d=\"M2.739,0A2.739,2.739,0,1,1,-2.739,0A2.739,2.739,0,1,1,2.739,0\" stroke=\"#e45756\" stroke-width=\"2\" opacity=\"0.7\"/><path aria-label=\"Horsepower: 140; Miles_per_Gallon: 17; Origin: USA\" role=\"graphics-symbol\" aria-roledescription=\"point\" transform=\"translate(233.33333333333334,263.99999999999994)\" d=\"M2.739,0A2.739,2.739,0,1,1,-2.739,0A2.739,2.739,0,1,1,2.739,0\" stroke=\"#e45756\" stroke-width=\"2\" opacity=\"0.7\"/><path aria-label=\"Horsepower: 198; Miles_per_Gallon: 15; Origin: USA\" role=\"graphics-symbol\" aria-roledescription=\"point\" transform=\"translate(330,280)\" d=\"M2.739,0A2.739,2.739,0,1,1,-2.739,0A2.739,2.739,0,1,1,2.739,0\" stroke=\"#e45756\" stroke-width=\"2\" opacity=\"0.7\"/><path aria-label=\"Horsepower: 220; Miles_per_Gallon: 14; Origin: USA\" role=\"graphics-symbol\" aria-roledescription=\"point\" transform=\"translate(366.66666666666663,288)\" d=\"M2.739,0A2.739,2.739,0,1,1,-2.739,0A2.739,2.739,0,1,1,2.739,0\" stroke=\"#e45756\" stroke-width=\"2\" opacity=\"0.7\"/><path aria-label=\"Horsepower: 215; Miles_per_Gallon: 14; Origin: USA\" role=\"graphics-symbol\" aria-roledescription=\"point\" transform=\"translate(358.33333333333337,288)\" d=\"M2.739,0A2.739,2.739,0,1,1,-2.739,0A2.739,2.739,0,1,1,2.739,0\" stroke=\"#e45756\" stroke-width=\"2\" opacity=\"0.7\"/><path aria-label=\"Horsepower: 225; Miles_per_Gallon: 14; Origin: USA\" role=\"graphics-symbol\" aria-roledescription=\"point\" transform=\"translate(375,288)\" d=\"M2.739,0A2.739,2.739,0,1,1,-2.739,0A2.739,2.739,0,1,1,2.739,0\" stroke=\"#e45756\" stroke-width=\"2\" opacity=\"0.7\"/><path aria-label=\"Horsepower: 190; Miles_per_Gallon: 15; Origin: USA\" role=\"graphics-symbol\" aria-roledescription=\"point\" transform=\"translate(316.66666666666663,280)\" d=\"M2.739,0A2.739,2.739,0,1,1,-2.739,0A2.739,2.739,0,1,1,2.739,0\" stroke=\"#e45756\" stroke-width=\"2\" opacity=\"0.7\"/><path aria-label=\"Horsepower: 170; Miles_per_Gallon: 15; Origin: USA\" role=\"graphics-symbol\" aria-roledescription=\"point\" transform=\"translate(283.33333333333337,280)\" d=\"M2.739,0A2.739,2.739,0,1,1,-2.739,0A2.739,2.739,0,1,1,2.739,0\" stroke=\"#e45756\" stroke-width=\"2\" opacity=\"0.7\"/><path aria-label=\"Horsepower: 160; Miles_per_Gallon: 14; Origin: USA\" role=\"graphics-symbol\" aria-roledescription=\"point\" transform=\"translate(266.66666666666663,288)\" d=\"M2.739,0A2.739,2.739,0,1,1,-2.739,0A2.739,2.739,0,1,1,2.739,0\" stroke=\"#e45756\" stroke-width=\"2\" opacity=\"0.7\"/><path aria-label=\"Horsepower: 150; Miles_per_Gallon: 15; Origin: USA\" role=\"graphics-symbol\" aria-roledescription=\"point\" transform=\"translate(250,280)\" d=\"M2.739,0A2.739,2.739,0,1,1,-2.739,0A2.739,2.739,0,1,1,2.739,0\" stroke=\"#e45756\" stroke-width=\"2\" opacity=\"0.7\"/><path aria-label=\"Horsepower: 225; Miles_per_Gallon: 14; Origin: USA\" role=\"graphics-symbol\" aria-roledescription=\"point\" transform=\"translate(375,288)\" d=\"M2.739,0A2.739,2.739,0,1,1,-2.739,0A2.739,2.739,0,1,1,2.739,0\" stroke=\"#e45756\" stroke-width=\"2\" opacity=\"0.7\"/><path aria-label=\"Horsepower: 95; Miles_per_Gallon: 24; Origin: Japan\" role=\"graphics-symbol\" aria-roledescription=\"point\" transform=\"translate(158.33333333333331,208)\" d=\"M2.739,0A2.739,2.739,0,1,1,-2.739,0A2.739,2.739,0,1,1,2.739,0\" stroke=\"#f58518\" stroke-width=\"2\" opacity=\"0.7\"/><path aria-label=\"Horsepower: 95; Miles_per_Gallon: 22; Origin: USA\" role=\"graphics-symbol\" aria-roledescription=\"point\" transform=\"translate(158.33333333333331,224.00000000000003)\" d=\"M2.739,0A2.739,2.739,0,1,1,-2.739,0A2.739,2.739,0,1,1,2.739,0\" stroke=\"#e45756\" stroke-width=\"2\" opacity=\"0.7\"/><path aria-label=\"Horsepower: 97; Miles_per_Gallon: 18; Origin: USA\" role=\"graphics-symbol\" aria-roledescription=\"point\" transform=\"translate(161.66666666666666,256)\" d=\"M2.739,0A2.739,2.739,0,1,1,-2.739,0A2.739,2.739,0,1,1,2.739,0\" stroke=\"#e45756\" stroke-width=\"2\" opacity=\"0.7\"/><path aria-label=\"Horsepower: 85; Miles_per_Gallon: 21; Origin: USA\" role=\"graphics-symbol\" aria-roledescription=\"point\" transform=\"translate(141.66666666666669,232.00000000000003)\" d=\"M2.739,0A2.739,2.739,0,1,1,-2.739,0A2.739,2.739,0,1,1,2.739,0\" stroke=\"#e45756\" stroke-width=\"2\" opacity=\"0.7\"/><path aria-label=\"Horsepower: 88; Miles_per_Gallon: 27; Origin: Japan\" role=\"graphics-symbol\" aria-roledescription=\"point\" transform=\"translate(146.66666666666666,184)\" d=\"M2.739,0A2.739,2.739,0,1,1,-2.739,0A2.739,2.739,0,1,1,2.739,0\" stroke=\"#f58518\" stroke-width=\"2\" opacity=\"0.7\"/><path aria-label=\"Horsepower: 46; Miles_per_Gallon: 26; Origin: Europe\" role=\"graphics-symbol\" aria-roledescription=\"point\" transform=\"translate(76.66666666666667,192)\" d=\"M2.739,0A2.739,2.739,0,1,1,-2.739,0A2.739,2.739,0,1,1,2.739,0\" stroke=\"#4c78a8\" stroke-width=\"2\" opacity=\"0.7\"/><path aria-label=\"Horsepower: 87; Miles_per_Gallon: 25; Origin: Europe\" role=\"graphics-symbol\" aria-roledescription=\"point\" transform=\"translate(145,200)\" d=\"M2.739,0A2.739,2.739,0,1,1,-2.739,0A2.739,2.739,0,1,1,2.739,0\" stroke=\"#4c78a8\" stroke-width=\"2\" opacity=\"0.7\"/><path aria-label=\"Horsepower: 90; Miles_per_Gallon: 24; Origin: Europe\" role=\"graphics-symbol\" aria-roledescription=\"point\" transform=\"translate(150,208)\" d=\"M2.739,0A2.739,2.739,0,1,1,-2.739,0A2.739,2.739,0,1,1,2.739,0\" stroke=\"#4c78a8\" stroke-width=\"2\" opacity=\"0.7\"/><path aria-label=\"Horsepower: 95; Miles_per_Gallon: 25; Origin: Europe\" role=\"graphics-symbol\" aria-roledescription=\"point\" transform=\"translate(158.33333333333331,200)\" d=\"M2.739,0A2.739,2.739,0,1,1,-2.739,0A2.739,2.739,0,1,1,2.739,0\" stroke=\"#4c78a8\" stroke-width=\"2\" opacity=\"0.7\"/><path aria-label=\"Horsepower: 113; Miles_per_Gallon: 26; Origin: Europe\" role=\"graphics-symbol\" aria-roledescription=\"point\" transform=\"translate(188.33333333333334,192)\" d=\"M2.739,0A2.739,2.739,0,1,1,-2.739,0A2.739,2.739,0,1,1,2.739,0\" stroke=\"#4c78a8\" stroke-width=\"2\" opacity=\"0.7\"/><path aria-label=\"Horsepower: 90; Miles_per_Gallon: 21; Origin: USA\" role=\"graphics-symbol\" aria-roledescription=\"point\" transform=\"translate(150,232.00000000000003)\" d=\"M2.739,0A2.739,2.739,0,1,1,-2.739,0A2.739,2.739,0,1,1,2.739,0\" stroke=\"#e45756\" stroke-width=\"2\" opacity=\"0.7\"/><path aria-label=\"Horsepower: 215; Miles_per_Gallon: 10; Origin: USA\" role=\"graphics-symbol\" aria-roledescription=\"point\" transform=\"translate(358.33333333333337,320)\" d=\"M2.739,0A2.739,2.739,0,1,1,-2.739,0A2.739,2.739,0,1,1,2.739,0\" stroke=\"#e45756\" stroke-width=\"2\" opacity=\"0.7\"/><path aria-label=\"Horsepower: 200; Miles_per_Gallon: 10; Origin: USA\" role=\"graphics-symbol\" aria-roledescription=\"point\" transform=\"translate(333.33333333333337,320)\" d=\"M2.739,0A2.739,2.739,0,1,1,-2.739,0A2.739,2.739,0,1,1,2.739,0\" stroke=\"#e45756\" stroke-width=\"2\" opacity=\"0.7\"/><path aria-label=\"Horsepower: 210; Miles_per_Gallon: 11; Origin: USA\" role=\"graphics-symbol\" aria-roledescription=\"point\" transform=\"translate(350,312)\" d=\"M2.739,0A2.739,2.739,0,1,1,-2.739,0A2.739,2.739,0,1,1,2.739,0\" stroke=\"#e45756\" stroke-width=\"2\" opacity=\"0.7\"/><path aria-label=\"Horsepower: 193; Miles_per_Gallon: 9; Origin: USA\" role=\"graphics-symbol\" aria-roledescription=\"point\" transform=\"translate(321.6666666666667,328)\" d=\"M2.739,0A2.739,2.739,0,1,1,-2.739,0A2.739,2.739,0,1,1,2.739,0\" stroke=\"#e45756\" stroke-width=\"2\" opacity=\"0.7\"/><path aria-label=\"Horsepower: 88; Miles_per_Gallon: 27; Origin: Japan\" role=\"graphics-symbol\" aria-roledescription=\"point\" transform=\"translate(146.66666666666666,184)\" d=\"M2.739,0A2.739,2.739,0,1,1,-2.739,0A2.739,2.739,0,1,1,2.739,0\" stroke=\"#f58518\" stroke-width=\"2\" opacity=\"0.7\"/><path aria-label=\"Horsepower: 90; Miles_per_Gallon: 28; Origin: USA\" role=\"graphics-symbol\" aria-roledescription=\"point\" transform=\"translate(150,175.99999999999997)\" d=\"M2.739,0A2.739,2.739,0,1,1,-2.739,0A2.739,2.739,0,1,1,2.739,0\" stroke=\"#e45756\" stroke-width=\"2\" opacity=\"0.7\"/><path aria-label=\"Horsepower: 95; Miles_per_Gallon: 25; Origin: Japan\" role=\"graphics-symbol\" aria-roledescription=\"point\" transform=\"translate(158.33333333333331,200)\" d=\"M2.739,0A2.739,2.739,0,1,1,-2.739,0A2.739,2.739,0,1,1,2.739,0\" stroke=\"#f58518\" stroke-width=\"2\" opacity=\"0.7\"/><path aria-label=\"Horsepower: 100; Miles_per_Gallon: 19; Origin: USA\" role=\"graphics-symbol\" aria-roledescription=\"point\" transform=\"translate(166.66666666666669,248)\" d=\"M2.739,0A2.739,2.739,0,1,1,-2.739,0A2.739,2.739,0,1,1,2.739,0\" stroke=\"#e45756\" stroke-width=\"2\" opacity=\"0.7\"/><path aria-label=\"Horsepower: 105; Miles_per_Gallon: 16; Origin: USA\" role=\"graphics-symbol\" aria-roledescription=\"point\" transform=\"translate(175,272)\" d=\"M2.739,0A2.739,2.739,0,1,1,-2.739,0A2.739,2.739,0,1,1,2.739,0\" stroke=\"#e45756\" stroke-width=\"2\" opacity=\"0.7\"/><path aria-label=\"Horsepower: 100; Miles_per_Gallon: 17; Origin: USA\" role=\"graphics-symbol\" aria-roledescription=\"point\" transform=\"translate(166.66666666666669,263.99999999999994)\" d=\"M2.739,0A2.739,2.739,0,1,1,-2.739,0A2.739,2.739,0,1,1,2.739,0\" stroke=\"#e45756\" stroke-width=\"2\" opacity=\"0.7\"/><path aria-label=\"Horsepower: 88; Miles_per_Gallon: 19; Origin: USA\" role=\"graphics-symbol\" aria-roledescription=\"point\" transform=\"translate(146.66666666666666,248)\" d=\"M2.739,0A2.739,2.739,0,1,1,-2.739,0A2.739,2.739,0,1,1,2.739,0\" stroke=\"#e45756\" stroke-width=\"2\" opacity=\"0.7\"/><path aria-label=\"Horsepower: 100; Miles_per_Gallon: 18; Origin: USA\" role=\"graphics-symbol\" aria-roledescription=\"point\" transform=\"translate(166.66666666666669,256)\" d=\"M2.739,0A2.739,2.739,0,1,1,-2.739,0A2.739,2.739,0,1,1,2.739,0\" stroke=\"#e45756\" stroke-width=\"2\" opacity=\"0.7\"/><path aria-label=\"Horsepower: 165; Miles_per_Gallon: 14; Origin: USA\" role=\"graphics-symbol\" aria-roledescription=\"point\" transform=\"translate(275,288)\" d=\"M2.739,0A2.739,2.739,0,1,1,-2.739,0A2.739,2.739,0,1,1,2.739,0\" stroke=\"#e45756\" stroke-width=\"2\" opacity=\"0.7\"/><path aria-label=\"Horsepower: 175; Miles_per_Gallon: 14; Origin: USA\" role=\"graphics-symbol\" aria-roledescription=\"point\" transform=\"translate(291.66666666666663,288)\" d=\"M2.739,0A2.739,2.739,0,1,1,-2.739,0A2.739,2.739,0,1,1,2.739,0\" stroke=\"#e45756\" stroke-width=\"2\" opacity=\"0.7\"/><path aria-label=\"Horsepower: 153; Miles_per_Gallon: 14; Origin: USA\" role=\"graphics-symbol\" aria-roledescription=\"point\" transform=\"translate(254.99999999999997,288)\" d=\"M2.739,0A2.739,2.739,0,1,1,-2.739,0A2.739,2.739,0,1,1,2.739,0\" stroke=\"#e45756\" stroke-width=\"2\" opacity=\"0.7\"/><path aria-label=\"Horsepower: 150; Miles_per_Gallon: 14; Origin: USA\" role=\"graphics-symbol\" aria-roledescription=\"point\" transform=\"translate(250,288)\" d=\"M2.739,0A2.739,2.739,0,1,1,-2.739,0A2.739,2.739,0,1,1,2.739,0\" stroke=\"#e45756\" stroke-width=\"2\" opacity=\"0.7\"/><path aria-label=\"Horsepower: 180; Miles_per_Gallon: 12; Origin: USA\" role=\"graphics-symbol\" aria-roledescription=\"point\" transform=\"translate(300,304)\" d=\"M2.739,0A2.739,2.739,0,1,1,-2.739,0A2.739,2.739,0,1,1,2.739,0\" stroke=\"#e45756\" stroke-width=\"2\" opacity=\"0.7\"/><path aria-label=\"Horsepower: 170; Miles_per_Gallon: 13; Origin: USA\" role=\"graphics-symbol\" aria-roledescription=\"point\" transform=\"translate(283.33333333333337,296)\" d=\"M2.739,0A2.739,2.739,0,1,1,-2.739,0A2.739,2.739,0,1,1,2.739,0\" stroke=\"#e45756\" stroke-width=\"2\" opacity=\"0.7\"/><path aria-label=\"Horsepower: 175; Miles_per_Gallon: 13; Origin: USA\" role=\"graphics-symbol\" aria-roledescription=\"point\" transform=\"translate(291.66666666666663,296)\" d=\"M2.739,0A2.739,2.739,0,1,1,-2.739,0A2.739,2.739,0,1,1,2.739,0\" stroke=\"#e45756\" stroke-width=\"2\" opacity=\"0.7\"/><path aria-label=\"Horsepower: 110; Miles_per_Gallon: 18; Origin: USA\" role=\"graphics-symbol\" aria-roledescription=\"point\" transform=\"translate(183.33333333333331,256)\" d=\"M2.739,0A2.739,2.739,0,1,1,-2.739,0A2.739,2.739,0,1,1,2.739,0\" stroke=\"#e45756\" stroke-width=\"2\" opacity=\"0.7\"/><path aria-label=\"Horsepower: 72; Miles_per_Gallon: 22; Origin: USA\" role=\"graphics-symbol\" aria-roledescription=\"point\" transform=\"translate(120,224.00000000000003)\" d=\"M2.739,0A2.739,2.739,0,1,1,-2.739,0A2.739,2.739,0,1,1,2.739,0\" stroke=\"#e45756\" stroke-width=\"2\" opacity=\"0.7\"/><path aria-label=\"Horsepower: 100; Miles_per_Gallon: 19; Origin: USA\" role=\"graphics-symbol\" aria-roledescription=\"point\" transform=\"translate(166.66666666666669,248)\" d=\"M2.739,0A2.739,2.739,0,1,1,-2.739,0A2.739,2.739,0,1,1,2.739,0\" stroke=\"#e45756\" stroke-width=\"2\" opacity=\"0.7\"/><path aria-label=\"Horsepower: 88; Miles_per_Gallon: 18; Origin: USA\" role=\"graphics-symbol\" aria-roledescription=\"point\" transform=\"translate(146.66666666666666,256)\" d=\"M2.739,0A2.739,2.739,0,1,1,-2.739,0A2.739,2.739,0,1,1,2.739,0\" stroke=\"#e45756\" stroke-width=\"2\" opacity=\"0.7\"/><path aria-label=\"Horsepower: 86; Miles_per_Gallon: 23; Origin: USA\" role=\"graphics-symbol\" aria-roledescription=\"point\" transform=\"translate(143.33333333333334,216)\" d=\"M2.739,0A2.739,2.739,0,1,1,-2.739,0A2.739,2.739,0,1,1,2.739,0\" stroke=\"#e45756\" stroke-width=\"2\" opacity=\"0.7\"/><path aria-label=\"Horsepower: 90; Miles_per_Gallon: 28; Origin: Europe\" role=\"graphics-symbol\" aria-roledescription=\"point\" transform=\"translate(150,175.99999999999997)\" d=\"M2.739,0A2.739,2.739,0,1,1,-2.739,0A2.739,2.739,0,1,1,2.739,0\" stroke=\"#4c78a8\" stroke-width=\"2\" opacity=\"0.7\"/><path aria-label=\"Horsepower: 70; Miles_per_Gallon: 30; Origin: Europe\" role=\"graphics-symbol\" aria-roledescription=\"point\" transform=\"translate(116.66666666666667,160)\" d=\"M2.739,0A2.739,2.739,0,1,1,-2.739,0A2.739,2.739,0,1,1,2.739,0\" stroke=\"#4c78a8\" stroke-width=\"2\" opacity=\"0.7\"/><path aria-label=\"Horsepower: 76; Miles_per_Gallon: 30; Origin: Europe\" role=\"graphics-symbol\" aria-roledescription=\"point\" transform=\"translate(126.66666666666666,160)\" d=\"M2.739,0A2.739,2.739,0,1,1,-2.739,0A2.739,2.739,0,1,1,2.739,0\" stroke=\"#4c78a8\" stroke-width=\"2\" opacity=\"0.7\"/><path aria-label=\"Horsepower: 65; Miles_per_Gallon: 31; Origin: Japan\" role=\"graphics-symbol\" aria-roledescription=\"point\" transform=\"translate(108.33333333333333,152)\" d=\"M2.739,0A2.739,2.739,0,1,1,-2.739,0A2.739,2.739,0,1,1,2.739,0\" stroke=\"#f58518\" stroke-width=\"2\" opacity=\"0.7\"/><path aria-label=\"Horsepower: 69; Miles_per_Gallon: 35; Origin: Japan\" role=\"graphics-symbol\" aria-roledescription=\"point\" transform=\"translate(114.99999999999999,120.00000000000001)\" d=\"M2.739,0A2.739,2.739,0,1,1,-2.739,0A2.739,2.739,0,1,1,2.739,0\" stroke=\"#f58518\" stroke-width=\"2\" opacity=\"0.7\"/><path aria-label=\"Horsepower: 60; Miles_per_Gallon: 27; Origin: Europe\" role=\"graphics-symbol\" aria-roledescription=\"point\" transform=\"translate(100,184)\" d=\"M2.739,0A2.739,2.739,0,1,1,-2.739,0A2.739,2.739,0,1,1,2.739,0\" stroke=\"#4c78a8\" stroke-width=\"2\" opacity=\"0.7\"/><path aria-label=\"Horsepower: 70; Miles_per_Gallon: 26; Origin: USA\" role=\"graphics-symbol\" aria-roledescription=\"point\" transform=\"translate(116.66666666666667,192)\" d=\"M2.739,0A2.739,2.739,0,1,1,-2.739,0A2.739,2.739,0,1,1,2.739,0\" stroke=\"#e45756\" stroke-width=\"2\" opacity=\"0.7\"/><path aria-label=\"Horsepower: 95; Miles_per_Gallon: 24; Origin: Japan\" role=\"graphics-symbol\" aria-roledescription=\"point\" transform=\"translate(158.33333333333331,208)\" d=\"M2.739,0A2.739,2.739,0,1,1,-2.739,0A2.739,2.739,0,1,1,2.739,0\" stroke=\"#f58518\" stroke-width=\"2\" opacity=\"0.7\"/><path aria-label=\"Horsepower: 80; Miles_per_Gallon: 25; Origin: USA\" role=\"graphics-symbol\" aria-roledescription=\"point\" transform=\"translate(133.33333333333331,200)\" d=\"M2.739,0A2.739,2.739,0,1,1,-2.739,0A2.739,2.739,0,1,1,2.739,0\" stroke=\"#e45756\" stroke-width=\"2\" opacity=\"0.7\"/><path aria-label=\"Horsepower: 54; Miles_per_Gallon: 23; Origin: Europe\" role=\"graphics-symbol\" aria-roledescription=\"point\" transform=\"translate(90,216)\" d=\"M2.739,0A2.739,2.739,0,1,1,-2.739,0A2.739,2.739,0,1,1,2.739,0\" stroke=\"#4c78a8\" stroke-width=\"2\" opacity=\"0.7\"/><path aria-label=\"Horsepower: 90; Miles_per_Gallon: 20; Origin: USA\" role=\"graphics-symbol\" aria-roledescription=\"point\" transform=\"translate(150,240)\" d=\"M2.739,0A2.739,2.739,0,1,1,-2.739,0A2.739,2.739,0,1,1,2.739,0\" stroke=\"#e45756\" stroke-width=\"2\" opacity=\"0.7\"/><path aria-label=\"Horsepower: 86; Miles_per_Gallon: 21; Origin: USA\" role=\"graphics-symbol\" aria-roledescription=\"point\" transform=\"translate(143.33333333333334,232.00000000000003)\" d=\"M2.739,0A2.739,2.739,0,1,1,-2.739,0A2.739,2.739,0,1,1,2.739,0\" stroke=\"#e45756\" stroke-width=\"2\" opacity=\"0.7\"/><path aria-label=\"Horsepower: 165; Miles_per_Gallon: 13; Origin: USA\" role=\"graphics-symbol\" aria-roledescription=\"point\" transform=\"translate(275,296)\" d=\"M2.739,0A2.739,2.739,0,1,1,-2.739,0A2.739,2.739,0,1,1,2.739,0\" stroke=\"#e45756\" stroke-width=\"2\" opacity=\"0.7\"/><path aria-label=\"Horsepower: 175; Miles_per_Gallon: 14; Origin: USA\" role=\"graphics-symbol\" aria-roledescription=\"point\" transform=\"translate(291.66666666666663,288)\" d=\"M2.739,0A2.739,2.739,0,1,1,-2.739,0A2.739,2.739,0,1,1,2.739,0\" stroke=\"#e45756\" stroke-width=\"2\" opacity=\"0.7\"/><path aria-label=\"Horsepower: 150; Miles_per_Gallon: 15; Origin: USA\" role=\"graphics-symbol\" aria-roledescription=\"point\" transform=\"translate(250,280)\" d=\"M2.739,0A2.739,2.739,0,1,1,-2.739,0A2.739,2.739,0,1,1,2.739,0\" stroke=\"#e45756\" stroke-width=\"2\" opacity=\"0.7\"/><path aria-label=\"Horsepower: 153; Miles_per_Gallon: 14; Origin: USA\" role=\"graphics-symbol\" aria-roledescription=\"point\" transform=\"translate(254.99999999999997,288)\" d=\"M2.739,0A2.739,2.739,0,1,1,-2.739,0A2.739,2.739,0,1,1,2.739,0\" stroke=\"#e45756\" stroke-width=\"2\" opacity=\"0.7\"/><path aria-label=\"Horsepower: 150; Miles_per_Gallon: 17; Origin: USA\" role=\"graphics-symbol\" aria-roledescription=\"point\" transform=\"translate(250,263.99999999999994)\" d=\"M2.739,0A2.739,2.739,0,1,1,-2.739,0A2.739,2.739,0,1,1,2.739,0\" stroke=\"#e45756\" stroke-width=\"2\" opacity=\"0.7\"/><path aria-label=\"Horsepower: 208; Miles_per_Gallon: 11; Origin: USA\" role=\"graphics-symbol\" aria-roledescription=\"point\" transform=\"translate(346.6666666666667,312)\" d=\"M2.739,0A2.739,2.739,0,1,1,-2.739,0A2.739,2.739,0,1,1,2.739,0\" stroke=\"#e45756\" stroke-width=\"2\" opacity=\"0.7\"/><path aria-label=\"Horsepower: 155; Miles_per_Gallon: 13; Origin: USA\" role=\"graphics-symbol\" aria-roledescription=\"point\" transform=\"translate(258.33333333333337,296)\" d=\"M2.739,0A2.739,2.739,0,1,1,-2.739,0A2.739,2.739,0,1,1,2.739,0\" stroke=\"#e45756\" stroke-width=\"2\" opacity=\"0.7\"/><path aria-label=\"Horsepower: 160; Miles_per_Gallon: 12; Origin: USA\" role=\"graphics-symbol\" aria-roledescription=\"point\" transform=\"translate(266.66666666666663,304)\" d=\"M2.739,0A2.739,2.739,0,1,1,-2.739,0A2.739,2.739,0,1,1,2.739,0\" stroke=\"#e45756\" stroke-width=\"2\" opacity=\"0.7\"/><path aria-label=\"Horsepower: 190; Miles_per_Gallon: 13; Origin: USA\" role=\"graphics-symbol\" aria-roledescription=\"point\" transform=\"translate(316.66666666666663,296)\" d=\"M2.739,0A2.739,2.739,0,1,1,-2.739,0A2.739,2.739,0,1,1,2.739,0\" stroke=\"#e45756\" stroke-width=\"2\" opacity=\"0.7\"/><path aria-label=\"Horsepower: 97; Miles_per_Gallon: 19; Origin: Japan\" role=\"graphics-symbol\" aria-roledescription=\"point\" transform=\"translate(161.66666666666666,248)\" d=\"M2.739,0A2.739,2.739,0,1,1,-2.739,0A2.739,2.739,0,1,1,2.739,0\" stroke=\"#f58518\" stroke-width=\"2\" opacity=\"0.7\"/><path aria-label=\"Horsepower: 150; Miles_per_Gallon: 15; Origin: USA\" role=\"graphics-symbol\" aria-roledescription=\"point\" transform=\"translate(250,280)\" d=\"M2.739,0A2.739,2.739,0,1,1,-2.739,0A2.739,2.739,0,1,1,2.739,0\" stroke=\"#e45756\" stroke-width=\"2\" opacity=\"0.7\"/><path aria-label=\"Horsepower: 130; Miles_per_Gallon: 13; Origin: USA\" role=\"graphics-symbol\" aria-roledescription=\"point\" transform=\"translate(216.66666666666666,296)\" d=\"M2.739,0A2.739,2.739,0,1,1,-2.739,0A2.739,2.739,0,1,1,2.739,0\" stroke=\"#e45756\" stroke-width=\"2\" opacity=\"0.7\"/><path aria-label=\"Horsepower: 140; Miles_per_Gallon: 13; Origin: USA\" role=\"graphics-symbol\" aria-roledescription=\"point\" transform=\"translate(233.33333333333334,296)\" d=\"M2.739,0A2.739,2.739,0,1,1,-2.739,0A2.739,2.739,0,1,1,2.739,0\" stroke=\"#e45756\" stroke-width=\"2\" opacity=\"0.7\"/><path aria-label=\"Horsepower: 150; Miles_per_Gallon: 14; Origin: USA\" role=\"graphics-symbol\" aria-roledescription=\"point\" transform=\"translate(250,288)\" d=\"M2.739,0A2.739,2.739,0,1,1,-2.739,0A2.739,2.739,0,1,1,2.739,0\" stroke=\"#e45756\" stroke-width=\"2\" opacity=\"0.7\"/><path aria-label=\"Horsepower: 112; Miles_per_Gallon: 18; Origin: Europe\" role=\"graphics-symbol\" aria-roledescription=\"point\" transform=\"translate(186.66666666666666,256)\" d=\"M2.739,0A2.739,2.739,0,1,1,-2.739,0A2.739,2.739,0,1,1,2.739,0\" stroke=\"#4c78a8\" stroke-width=\"2\" opacity=\"0.7\"/><path aria-label=\"Horsepower: 76; Miles_per_Gallon: 22; Origin: Europe\" role=\"graphics-symbol\" aria-roledescription=\"point\" transform=\"translate(126.66666666666666,224.00000000000003)\" d=\"M2.739,0A2.739,2.739,0,1,1,-2.739,0A2.739,2.739,0,1,1,2.739,0\" stroke=\"#4c78a8\" stroke-width=\"2\" opacity=\"0.7\"/><path aria-label=\"Horsepower: 87; Miles_per_Gallon: 21; Origin: Europe\" role=\"graphics-symbol\" aria-roledescription=\"point\" transform=\"translate(145,232.00000000000003)\" d=\"M2.739,0A2.739,2.739,0,1,1,-2.739,0A2.739,2.739,0,1,1,2.739,0\" stroke=\"#4c78a8\" stroke-width=\"2\" opacity=\"0.7\"/><path aria-label=\"Horsepower: 69; Miles_per_Gallon: 26; Origin: Europe\" role=\"graphics-symbol\" aria-roledescription=\"point\" transform=\"translate(114.99999999999999,192)\" d=\"M2.739,0A2.739,2.739,0,1,1,-2.739,0A2.739,2.739,0,1,1,2.739,0\" stroke=\"#4c78a8\" stroke-width=\"2\" opacity=\"0.7\"/><path aria-label=\"Horsepower: 86; Miles_per_Gallon: 22; Origin: USA\" role=\"graphics-symbol\" aria-roledescription=\"point\" transform=\"translate(143.33333333333334,224.00000000000003)\" d=\"M2.739,0A2.739,2.739,0,1,1,-2.739,0A2.739,2.739,0,1,1,2.739,0\" stroke=\"#e45756\" stroke-width=\"2\" opacity=\"0.7\"/><path aria-label=\"Horsepower: 92; Miles_per_Gallon: 28; Origin: Japan\" role=\"graphics-symbol\" aria-roledescription=\"point\" transform=\"translate(153.33333333333334,175.99999999999997)\" d=\"M2.739,0A2.739,2.739,0,1,1,-2.739,0A2.739,2.739,0,1,1,2.739,0\" stroke=\"#f58518\" stroke-width=\"2\" opacity=\"0.7\"/><path aria-label=\"Horsepower: 97; Miles_per_Gallon: 23; Origin: Japan\" role=\"graphics-symbol\" aria-roledescription=\"point\" transform=\"translate(161.66666666666666,216)\" d=\"M2.739,0A2.739,2.739,0,1,1,-2.739,0A2.739,2.739,0,1,1,2.739,0\" stroke=\"#f58518\" stroke-width=\"2\" opacity=\"0.7\"/><path aria-label=\"Horsepower: 80; Miles_per_Gallon: 28; Origin: USA\" role=\"graphics-symbol\" aria-roledescription=\"point\" transform=\"translate(133.33333333333331,175.99999999999997)\" d=\"M2.739,0A2.739,2.739,0,1,1,-2.739,0A2.739,2.739,0,1,1,2.739,0\" stroke=\"#e45756\" stroke-width=\"2\" opacity=\"0.7\"/><path aria-label=\"Horsepower: 88; Miles_per_Gallon: 27; Origin: Japan\" role=\"graphics-symbol\" aria-roledescription=\"point\" transform=\"translate(146.66666666666666,184)\" d=\"M2.739,0A2.739,2.739,0,1,1,-2.739,0A2.739,2.739,0,1,1,2.739,0\" stroke=\"#f58518\" stroke-width=\"2\" opacity=\"0.7\"/><path aria-label=\"Horsepower: 175; Miles_per_Gallon: 13; Origin: USA\" role=\"graphics-symbol\" aria-roledescription=\"point\" transform=\"translate(291.66666666666663,296)\" d=\"M2.739,0A2.739,2.739,0,1,1,-2.739,0A2.739,2.739,0,1,1,2.739,0\" stroke=\"#e45756\" stroke-width=\"2\" opacity=\"0.7\"/><path aria-label=\"Horsepower: 150; Miles_per_Gallon: 14; Origin: USA\" role=\"graphics-symbol\" aria-roledescription=\"point\" transform=\"translate(250,288)\" d=\"M2.739,0A2.739,2.739,0,1,1,-2.739,0A2.739,2.739,0,1,1,2.739,0\" stroke=\"#e45756\" stroke-width=\"2\" opacity=\"0.7\"/><path aria-label=\"Horsepower: 145; Miles_per_Gallon: 13; Origin: USA\" role=\"graphics-symbol\" aria-roledescription=\"point\" transform=\"translate(241.66666666666666,296)\" d=\"M2.739,0A2.739,2.739,0,1,1,-2.739,0A2.739,2.739,0,1,1,2.739,0\" stroke=\"#e45756\" stroke-width=\"2\" opacity=\"0.7\"/><path aria-label=\"Horsepower: 137; Miles_per_Gallon: 14; Origin: USA\" role=\"graphics-symbol\" aria-roledescription=\"point\" transform=\"translate(228.33333333333331,288)\" d=\"M2.739,0A2.739,2.739,0,1,1,-2.739,0A2.739,2.739,0,1,1,2.739,0\" stroke=\"#e45756\" stroke-width=\"2\" opacity=\"0.7\"/><path aria-label=\"Horsepower: 150; Miles_per_Gallon: 15; Origin: USA\" role=\"graphics-symbol\" aria-roledescription=\"point\" transform=\"translate(250,280)\" d=\"M2.739,0A2.739,2.739,0,1,1,-2.739,0A2.739,2.739,0,1,1,2.739,0\" stroke=\"#e45756\" stroke-width=\"2\" opacity=\"0.7\"/><path aria-label=\"Horsepower: 198; Miles_per_Gallon: 12; Origin: USA\" role=\"graphics-symbol\" aria-roledescription=\"point\" transform=\"translate(330,304)\" d=\"M2.739,0A2.739,2.739,0,1,1,-2.739,0A2.739,2.739,0,1,1,2.739,0\" stroke=\"#e45756\" stroke-width=\"2\" opacity=\"0.7\"/><path aria-label=\"Horsepower: 150; Miles_per_Gallon: 13; Origin: USA\" role=\"graphics-symbol\" aria-roledescription=\"point\" transform=\"translate(250,296)\" d=\"M2.739,0A2.739,2.739,0,1,1,-2.739,0A2.739,2.739,0,1,1,2.739,0\" stroke=\"#e45756\" stroke-width=\"2\" opacity=\"0.7\"/><path aria-label=\"Horsepower: 158; Miles_per_Gallon: 13; Origin: USA\" role=\"graphics-symbol\" aria-roledescription=\"point\" transform=\"translate(263.3333333333333,296)\" d=\"M2.739,0A2.739,2.739,0,1,1,-2.739,0A2.739,2.739,0,1,1,2.739,0\" stroke=\"#e45756\" stroke-width=\"2\" opacity=\"0.7\"/><path aria-label=\"Horsepower: 150; Miles_per_Gallon: 14; Origin: USA\" role=\"graphics-symbol\" aria-roledescription=\"point\" transform=\"translate(250,288)\" d=\"M2.739,0A2.739,2.739,0,1,1,-2.739,0A2.739,2.739,0,1,1,2.739,0\" stroke=\"#e45756\" stroke-width=\"2\" opacity=\"0.7\"/><path aria-label=\"Horsepower: 215; Miles_per_Gallon: 13; Origin: USA\" role=\"graphics-symbol\" aria-roledescription=\"point\" transform=\"translate(358.33333333333337,296)\" d=\"M2.739,0A2.739,2.739,0,1,1,-2.739,0A2.739,2.739,0,1,1,2.739,0\" stroke=\"#e45756\" stroke-width=\"2\" opacity=\"0.7\"/><path aria-label=\"Horsepower: 225; Miles_per_Gallon: 12; Origin: USA\" role=\"graphics-symbol\" aria-roledescription=\"point\" transform=\"translate(375,304)\" d=\"M2.739,0A2.739,2.739,0,1,1,-2.739,0A2.739,2.739,0,1,1,2.739,0\" stroke=\"#e45756\" stroke-width=\"2\" opacity=\"0.7\"/><path aria-label=\"Horsepower: 175; Miles_per_Gallon: 13; Origin: USA\" role=\"graphics-symbol\" aria-roledescription=\"point\" transform=\"translate(291.66666666666663,296)\" d=\"M2.739,0A2.739,2.739,0,1,1,-2.739,0A2.739,2.739,0,1,1,2.739,0\" stroke=\"#e45756\" stroke-width=\"2\" opacity=\"0.7\"/><path aria-label=\"Horsepower: 105; Miles_per_Gallon: 18; Origin: USA\" role=\"graphics-symbol\" aria-roledescription=\"point\" transform=\"translate(175,256)\" d=\"M2.739,0A2.739,2.739,0,1,1,-2.739,0A2.739,2.739,0,1,1,2.739,0\" stroke=\"#e45756\" stroke-width=\"2\" opacity=\"0.7\"/><path aria-label=\"Horsepower: 100; Miles_per_Gallon: 16; Origin: USA\" role=\"graphics-symbol\" aria-roledescription=\"point\" transform=\"translate(166.66666666666669,272)\" d=\"M2.739,0A2.739,2.739,0,1,1,-2.739,0A2.739,2.739,0,1,1,2.739,0\" stroke=\"#e45756\" stroke-width=\"2\" opacity=\"0.7\"/><path aria-label=\"Horsepower: 100; Miles_per_Gallon: 18; Origin: USA\" role=\"graphics-symbol\" aria-roledescription=\"point\" transform=\"translate(166.66666666666669,256)\" d=\"M2.739,0A2.739,2.739,0,1,1,-2.739,0A2.739,2.739,0,1,1,2.739,0\" stroke=\"#e45756\" stroke-width=\"2\" opacity=\"0.7\"/><path aria-label=\"Horsepower: 88; Miles_per_Gallon: 18; Origin: USA\" role=\"graphics-symbol\" aria-roledescription=\"point\" transform=\"translate(146.66666666666666,256)\" d=\"M2.739,0A2.739,2.739,0,1,1,-2.739,0A2.739,2.739,0,1,1,2.739,0\" stroke=\"#e45756\" stroke-width=\"2\" opacity=\"0.7\"/><path aria-label=\"Horsepower: 95; Miles_per_Gallon: 23; Origin: USA\" role=\"graphics-symbol\" aria-roledescription=\"point\" transform=\"translate(158.33333333333331,216)\" d=\"M2.739,0A2.739,2.739,0,1,1,-2.739,0A2.739,2.739,0,1,1,2.739,0\" stroke=\"#e45756\" stroke-width=\"2\" opacity=\"0.7\"/><path aria-label=\"Horsepower: 46; Miles_per_Gallon: 26; Origin: Europe\" role=\"graphics-symbol\" aria-roledescription=\"point\" transform=\"translate(76.66666666666667,192)\" d=\"M2.739,0A2.739,2.739,0,1,1,-2.739,0A2.739,2.739,0,1,1,2.739,0\" stroke=\"#4c78a8\" stroke-width=\"2\" opacity=\"0.7\"/><path aria-label=\"Horsepower: 150; Miles_per_Gallon: 11; Origin: USA\" role=\"graphics-symbol\" aria-roledescription=\"point\" transform=\"translate(250,312)\" d=\"M2.739,0A2.739,2.739,0,1,1,-2.739,0A2.739,2.739,0,1,1,2.739,0\" stroke=\"#e45756\" stroke-width=\"2\" opacity=\"0.7\"/><path aria-label=\"Horsepower: 167; Miles_per_Gallon: 12; Origin: USA\" role=\"graphics-symbol\" aria-roledescription=\"point\" transform=\"translate(278.3333333333333,304)\" d=\"M2.739,0A2.739,2.739,0,1,1,-2.739,0A2.739,2.739,0,1,1,2.739,0\" stroke=\"#e45756\" stroke-width=\"2\" opacity=\"0.7\"/><path aria-label=\"Horsepower: 170; Miles_per_Gallon: 13; Origin: USA\" role=\"graphics-symbol\" aria-roledescription=\"point\" transform=\"translate(283.33333333333337,296)\" d=\"M2.739,0A2.739,2.739,0,1,1,-2.739,0A2.739,2.739,0,1,1,2.739,0\" stroke=\"#e45756\" stroke-width=\"2\" opacity=\"0.7\"/><path aria-label=\"Horsepower: 180; Miles_per_Gallon: 12; Origin: USA\" role=\"graphics-symbol\" aria-roledescription=\"point\" transform=\"translate(300,304)\" d=\"M2.739,0A2.739,2.739,0,1,1,-2.739,0A2.739,2.739,0,1,1,2.739,0\" stroke=\"#e45756\" stroke-width=\"2\" opacity=\"0.7\"/><path aria-label=\"Horsepower: 100; Miles_per_Gallon: 18; Origin: USA\" role=\"graphics-symbol\" aria-roledescription=\"point\" transform=\"translate(166.66666666666669,256)\" d=\"M2.739,0A2.739,2.739,0,1,1,-2.739,0A2.739,2.739,0,1,1,2.739,0\" stroke=\"#e45756\" stroke-width=\"2\" opacity=\"0.7\"/><path aria-label=\"Horsepower: 88; Miles_per_Gallon: 20; Origin: Japan\" role=\"graphics-symbol\" aria-roledescription=\"point\" transform=\"translate(146.66666666666666,240)\" d=\"M2.739,0A2.739,2.739,0,1,1,-2.739,0A2.739,2.739,0,1,1,2.739,0\" stroke=\"#f58518\" stroke-width=\"2\" opacity=\"0.7\"/><path aria-label=\"Horsepower: 72; Miles_per_Gallon: 21; Origin: USA\" role=\"graphics-symbol\" aria-roledescription=\"point\" transform=\"translate(120,232.00000000000003)\" d=\"M2.739,0A2.739,2.739,0,1,1,-2.739,0A2.739,2.739,0,1,1,2.739,0\" stroke=\"#e45756\" stroke-width=\"2\" opacity=\"0.7\"/><path aria-label=\"Horsepower: 94; Miles_per_Gallon: 22; Origin: Japan\" role=\"graphics-symbol\" aria-roledescription=\"point\" transform=\"translate(156.66666666666666,224.00000000000003)\" d=\"M2.739,0A2.739,2.739,0,1,1,-2.739,0A2.739,2.739,0,1,1,2.739,0\" stroke=\"#f58518\" stroke-width=\"2\" opacity=\"0.7\"/><path aria-label=\"Horsepower: 90; Miles_per_Gallon: 18; Origin: Japan\" role=\"graphics-symbol\" aria-roledescription=\"point\" transform=\"translate(150,256)\" d=\"M2.739,0A2.739,2.739,0,1,1,-2.739,0A2.739,2.739,0,1,1,2.739,0\" stroke=\"#f58518\" stroke-width=\"2\" opacity=\"0.7\"/><path aria-label=\"Horsepower: 85; Miles_per_Gallon: 19; Origin: USA\" role=\"graphics-symbol\" aria-roledescription=\"point\" transform=\"translate(141.66666666666669,248)\" d=\"M2.739,0A2.739,2.739,0,1,1,-2.739,0A2.739,2.739,0,1,1,2.739,0\" stroke=\"#e45756\" stroke-width=\"2\" opacity=\"0.7\"/><path aria-label=\"Horsepower: 107; Miles_per_Gallon: 21; Origin: USA\" role=\"graphics-symbol\" aria-roledescription=\"point\" transform=\"translate(178.33333333333334,232.00000000000003)\" d=\"M2.739,0A2.739,2.739,0,1,1,-2.739,0A2.739,2.739,0,1,1,2.739,0\" stroke=\"#e45756\" stroke-width=\"2\" opacity=\"0.7\"/><path aria-label=\"Horsepower: 90; Miles_per_Gallon: 26; Origin: Europe\" role=\"graphics-symbol\" aria-roledescription=\"point\" transform=\"translate(150,192)\" d=\"M2.739,0A2.739,2.739,0,1,1,-2.739,0A2.739,2.739,0,1,1,2.739,0\" stroke=\"#4c78a8\" stroke-width=\"2\" opacity=\"0.7\"/><path aria-label=\"Horsepower: 145; Miles_per_Gallon: 15; Origin: USA\" role=\"graphics-symbol\" aria-roledescription=\"point\" transform=\"translate(241.66666666666666,280)\" d=\"M2.739,0A2.739,2.739,0,1,1,-2.739,0A2.739,2.739,0,1,1,2.739,0\" stroke=\"#e45756\" stroke-width=\"2\" opacity=\"0.7\"/><path aria-label=\"Horsepower: 230; Miles_per_Gallon: 16; Origin: USA\" role=\"graphics-symbol\" aria-roledescription=\"point\" transform=\"translate(383.33333333333337,272)\" d=\"M2.739,0A2.739,2.739,0,1,1,-2.739,0A2.739,2.739,0,1,1,2.739,0\" stroke=\"#e45756\" stroke-width=\"2\" opacity=\"0.7\"/><path aria-label=\"Horsepower: 49; Miles_per_Gallon: 29; Origin: Europe\" role=\"graphics-symbol\" aria-roledescription=\"point\" transform=\"translate(81.66666666666667,168.00000000000003)\" d=\"M2.739,0A2.739,2.739,0,1,1,-2.739,0A2.739,2.739,0,1,1,2.739,0\" stroke=\"#4c78a8\" stroke-width=\"2\" opacity=\"0.7\"/><path aria-label=\"Horsepower: 75; Miles_per_Gallon: 24; Origin: Europe\" role=\"graphics-symbol\" aria-roledescription=\"point\" transform=\"translate(125,208)\" d=\"M2.739,0A2.739,2.739,0,1,1,-2.739,0A2.739,2.739,0,1,1,2.739,0\" stroke=\"#4c78a8\" stroke-width=\"2\" opacity=\"0.7\"/><path aria-label=\"Horsepower: 91; Miles_per_Gallon: 20; Origin: Europe\" role=\"graphics-symbol\" aria-roledescription=\"point\" transform=\"translate(151.66666666666666,240)\" d=\"M2.739,0A2.739,2.739,0,1,1,-2.739,0A2.739,2.739,0,1,1,2.739,0\" stroke=\"#4c78a8\" stroke-width=\"2\" opacity=\"0.7\"/><path aria-label=\"Horsepower: 112; Miles_per_Gallon: 19; Origin: Europe\" role=\"graphics-symbol\" aria-roledescription=\"point\" transform=\"translate(186.66666666666666,248)\" d=\"M2.739,0A2.739,2.739,0,1,1,-2.739,0A2.739,2.739,0,1,1,2.739,0\" stroke=\"#4c78a8\" stroke-width=\"2\" opacity=\"0.7\"/><path aria-label=\"Horsepower: 150; Miles_per_Gallon: 15; Origin: USA\" role=\"graphics-symbol\" aria-roledescription=\"point\" transform=\"translate(250,280)\" d=\"M2.739,0A2.739,2.739,0,1,1,-2.739,0A2.739,2.739,0,1,1,2.739,0\" stroke=\"#e45756\" stroke-width=\"2\" opacity=\"0.7\"/><path aria-label=\"Horsepower: 110; Miles_per_Gallon: 24; Origin: Europe\" role=\"graphics-symbol\" aria-roledescription=\"point\" transform=\"translate(183.33333333333331,208)\" d=\"M2.739,0A2.739,2.739,0,1,1,-2.739,0A2.739,2.739,0,1,1,2.739,0\" stroke=\"#4c78a8\" stroke-width=\"2\" opacity=\"0.7\"/><path aria-label=\"Horsepower: 122; Miles_per_Gallon: 20; Origin: Japan\" role=\"graphics-symbol\" aria-roledescription=\"point\" transform=\"translate(203.33333333333331,240)\" d=\"M2.739,0A2.739,2.739,0,1,1,-2.739,0A2.739,2.739,0,1,1,2.739,0\" stroke=\"#f58518\" stroke-width=\"2\" opacity=\"0.7\"/><path aria-label=\"Horsepower: 180; Miles_per_Gallon: 11; Origin: USA\" role=\"graphics-symbol\" aria-roledescription=\"point\" transform=\"translate(300,312)\" d=\"M2.739,0A2.739,2.739,0,1,1,-2.739,0A2.739,2.739,0,1,1,2.739,0\" stroke=\"#e45756\" stroke-width=\"2\" opacity=\"0.7\"/><path aria-label=\"Horsepower: 95; Miles_per_Gallon: 20; Origin: USA\" role=\"graphics-symbol\" aria-roledescription=\"point\" transform=\"translate(158.33333333333331,240)\" d=\"M2.739,0A2.739,2.739,0,1,1,-2.739,0A2.739,2.739,0,1,1,2.739,0\" stroke=\"#e45756\" stroke-width=\"2\" opacity=\"0.7\"/><path aria-label=\"Horsepower: 100; Miles_per_Gallon: 19; Origin: USA\" role=\"graphics-symbol\" aria-roledescription=\"point\" transform=\"translate(166.66666666666669,248)\" d=\"M2.739,0A2.739,2.739,0,1,1,-2.739,0A2.739,2.739,0,1,1,2.739,0\" stroke=\"#e45756\" stroke-width=\"2\" opacity=\"0.7\"/><path aria-label=\"Horsepower: 100; Miles_per_Gallon: 15; Origin: USA\" role=\"graphics-symbol\" aria-roledescription=\"point\" transform=\"translate(166.66666666666669,280)\" d=\"M2.739,0A2.739,2.739,0,1,1,-2.739,0A2.739,2.739,0,1,1,2.739,0\" stroke=\"#e45756\" stroke-width=\"2\" opacity=\"0.7\"/><path aria-label=\"Horsepower: 67; Miles_per_Gallon: 31; Origin: Japan\" role=\"graphics-symbol\" aria-roledescription=\"point\" transform=\"translate(111.66666666666667,152)\" d=\"M2.739,0A2.739,2.739,0,1,1,-2.739,0A2.739,2.739,0,1,1,2.739,0\" stroke=\"#f58518\" stroke-width=\"2\" opacity=\"0.7\"/><path aria-label=\"Horsepower: 80; Miles_per_Gallon: 26; Origin: USA\" role=\"graphics-symbol\" aria-roledescription=\"point\" transform=\"translate(133.33333333333331,192)\" d=\"M2.739,0A2.739,2.739,0,1,1,-2.739,0A2.739,2.739,0,1,1,2.739,0\" stroke=\"#e45756\" stroke-width=\"2\" opacity=\"0.7\"/><path aria-label=\"Horsepower: 65; Miles_per_Gallon: 32; Origin: Japan\" role=\"graphics-symbol\" aria-roledescription=\"point\" transform=\"translate(108.33333333333333,144)\" d=\"M2.739,0A2.739,2.739,0,1,1,-2.739,0A2.739,2.739,0,1,1,2.739,0\" stroke=\"#f58518\" stroke-width=\"2\" opacity=\"0.7\"/><path aria-label=\"Horsepower: 75; Miles_per_Gallon: 25; Origin: USA\" role=\"graphics-symbol\" aria-roledescription=\"point\" transform=\"translate(125,200)\" d=\"M2.739,0A2.739,2.739,0,1,1,-2.739,0A2.739,2.739,0,1,1,2.739,0\" stroke=\"#e45756\" stroke-width=\"2\" opacity=\"0.7\"/><path aria-label=\"Horsepower: 100; Miles_per_Gallon: 16; Origin: USA\" role=\"graphics-symbol\" aria-roledescription=\"point\" transform=\"translate(166.66666666666669,272)\" d=\"M2.739,0A2.739,2.739,0,1,1,-2.739,0A2.739,2.739,0,1,1,2.739,0\" stroke=\"#e45756\" stroke-width=\"2\" opacity=\"0.7\"/><path aria-label=\"Horsepower: 110; Miles_per_Gallon: 16; Origin: USA\" role=\"graphics-symbol\" aria-roledescription=\"point\" transform=\"translate(183.33333333333331,272)\" d=\"M2.739,0A2.739,2.739,0,1,1,-2.739,0A2.739,2.739,0,1,1,2.739,0\" stroke=\"#e45756\" stroke-width=\"2\" opacity=\"0.7\"/><path aria-label=\"Horsepower: 105; Miles_per_Gallon: 18; Origin: USA\" role=\"graphics-symbol\" aria-roledescription=\"point\" transform=\"translate(175,256)\" d=\"M2.739,0A2.739,2.739,0,1,1,-2.739,0A2.739,2.739,0,1,1,2.739,0\" stroke=\"#e45756\" stroke-width=\"2\" opacity=\"0.7\"/><path aria-label=\"Horsepower: 140; Miles_per_Gallon: 16; Origin: USA\" role=\"graphics-symbol\" aria-roledescription=\"point\" transform=\"translate(233.33333333333334,272)\" d=\"M2.739,0A2.739,2.739,0,1,1,-2.739,0A2.739,2.739,0,1,1,2.739,0\" stroke=\"#e45756\" stroke-width=\"2\" opacity=\"0.7\"/><path aria-label=\"Horsepower: 150; Miles_per_Gallon: 13; Origin: USA\" role=\"graphics-symbol\" aria-roledescription=\"point\" transform=\"translate(250,296)\" d=\"M2.739,0A2.739,2.739,0,1,1,-2.739,0A2.739,2.739,0,1,1,2.739,0\" stroke=\"#e45756\" stroke-width=\"2\" opacity=\"0.7\"/><path aria-label=\"Horsepower: 150; Miles_per_Gallon: 14; Origin: USA\" role=\"graphics-symbol\" aria-roledescription=\"point\" transform=\"translate(250,288)\" d=\"M2.739,0A2.739,2.739,0,1,1,-2.739,0A2.739,2.739,0,1,1,2.739,0\" stroke=\"#e45756\" stroke-width=\"2\" opacity=\"0.7\"/><path aria-label=\"Horsepower: 140; Miles_per_Gallon: 14; Origin: USA\" role=\"graphics-symbol\" aria-roledescription=\"point\" transform=\"translate(233.33333333333334,288)\" d=\"M2.739,0A2.739,2.739,0,1,1,-2.739,0A2.739,2.739,0,1,1,2.739,0\" stroke=\"#e45756\" stroke-width=\"2\" opacity=\"0.7\"/><path aria-label=\"Horsepower: 150; Miles_per_Gallon: 14; Origin: USA\" role=\"graphics-symbol\" aria-roledescription=\"point\" transform=\"translate(250,288)\" d=\"M2.739,0A2.739,2.739,0,1,1,-2.739,0A2.739,2.739,0,1,1,2.739,0\" stroke=\"#e45756\" stroke-width=\"2\" opacity=\"0.7\"/><path aria-label=\"Horsepower: 83; Miles_per_Gallon: 29; Origin: Europe\" role=\"graphics-symbol\" aria-roledescription=\"point\" transform=\"translate(138.33333333333334,168.00000000000003)\" d=\"M2.739,0A2.739,2.739,0,1,1,-2.739,0A2.739,2.739,0,1,1,2.739,0\" stroke=\"#4c78a8\" stroke-width=\"2\" opacity=\"0.7\"/><path aria-label=\"Horsepower: 67; Miles_per_Gallon: 26; Origin: Europe\" role=\"graphics-symbol\" aria-roledescription=\"point\" transform=\"translate(111.66666666666667,192)\" d=\"M2.739,0A2.739,2.739,0,1,1,-2.739,0A2.739,2.739,0,1,1,2.739,0\" stroke=\"#4c78a8\" stroke-width=\"2\" opacity=\"0.7\"/><path aria-label=\"Horsepower: 78; Miles_per_Gallon: 26; Origin: Europe\" role=\"graphics-symbol\" aria-roledescription=\"point\" transform=\"translate(130,192)\" d=\"M2.739,0A2.739,2.739,0,1,1,-2.739,0A2.739,2.739,0,1,1,2.739,0\" stroke=\"#4c78a8\" stroke-width=\"2\" opacity=\"0.7\"/><path aria-label=\"Horsepower: 52; Miles_per_Gallon: 31; Origin: Japan\" role=\"graphics-symbol\" aria-roledescription=\"point\" transform=\"translate(86.66666666666667,152)\" d=\"M2.739,0A2.739,2.739,0,1,1,-2.739,0A2.739,2.739,0,1,1,2.739,0\" stroke=\"#f58518\" stroke-width=\"2\" opacity=\"0.7\"/><path aria-label=\"Horsepower: 61; Miles_per_Gallon: 32; Origin: Japan\" role=\"graphics-symbol\" aria-roledescription=\"point\" transform=\"translate(101.66666666666666,144)\" d=\"M2.739,0A2.739,2.739,0,1,1,-2.739,0A2.739,2.739,0,1,1,2.739,0\" stroke=\"#f58518\" stroke-width=\"2\" opacity=\"0.7\"/><path aria-label=\"Horsepower: 75; Miles_per_Gallon: 28; Origin: USA\" role=\"graphics-symbol\" aria-roledescription=\"point\" transform=\"translate(125,175.99999999999997)\" d=\"M2.739,0A2.739,2.739,0,1,1,-2.739,0A2.739,2.739,0,1,1,2.739,0\" stroke=\"#e45756\" stroke-width=\"2\" opacity=\"0.7\"/><path aria-label=\"Horsepower: 75; Miles_per_Gallon: 24; Origin: Europe\" role=\"graphics-symbol\" aria-roledescription=\"point\" transform=\"translate(125,208)\" d=\"M2.739,0A2.739,2.739,0,1,1,-2.739,0A2.739,2.739,0,1,1,2.739,0\" stroke=\"#4c78a8\" stroke-width=\"2\" opacity=\"0.7\"/><path aria-label=\"Horsepower: 75; Miles_per_Gallon: 26; Origin: Europe\" role=\"graphics-symbol\" aria-roledescription=\"point\" transform=\"translate(125,192)\" d=\"M2.739,0A2.739,2.739,0,1,1,-2.739,0A2.739,2.739,0,1,1,2.739,0\" stroke=\"#4c78a8\" stroke-width=\"2\" opacity=\"0.7\"/><path aria-label=\"Horsepower: 97; Miles_per_Gallon: 24; Origin: Japan\" role=\"graphics-symbol\" aria-roledescription=\"point\" transform=\"translate(161.66666666666666,208)\" d=\"M2.739,0A2.739,2.739,0,1,1,-2.739,0A2.739,2.739,0,1,1,2.739,0\" stroke=\"#f58518\" stroke-width=\"2\" opacity=\"0.7\"/><path aria-label=\"Horsepower: 93; Miles_per_Gallon: 26; Origin: Japan\" role=\"graphics-symbol\" aria-roledescription=\"point\" transform=\"translate(155,192)\" d=\"M2.739,0A2.739,2.739,0,1,1,-2.739,0A2.739,2.739,0,1,1,2.739,0\" stroke=\"#f58518\" stroke-width=\"2\" opacity=\"0.7\"/><path aria-label=\"Horsepower: 67; Miles_per_Gallon: 31; Origin: Europe\" role=\"graphics-symbol\" aria-roledescription=\"point\" transform=\"translate(111.66666666666667,152)\" d=\"M2.739,0A2.739,2.739,0,1,1,-2.739,0A2.739,2.739,0,1,1,2.739,0\" stroke=\"#4c78a8\" stroke-width=\"2\" opacity=\"0.7\"/><path aria-label=\"Horsepower: 95; Miles_per_Gallon: 19; Origin: USA\" role=\"graphics-symbol\" aria-roledescription=\"point\" transform=\"translate(158.33333333333331,248)\" d=\"M2.739,0A2.739,2.739,0,1,1,-2.739,0A2.739,2.739,0,1,1,2.739,0\" stroke=\"#e45756\" stroke-width=\"2\" opacity=\"0.7\"/><path aria-label=\"Horsepower: 105; Miles_per_Gallon: 18; Origin: USA\" role=\"graphics-symbol\" aria-roledescription=\"point\" transform=\"translate(175,256)\" d=\"M2.739,0A2.739,2.739,0,1,1,-2.739,0A2.739,2.739,0,1,1,2.739,0\" stroke=\"#e45756\" stroke-width=\"2\" opacity=\"0.7\"/><path aria-label=\"Horsepower: 72; Miles_per_Gallon: 15; Origin: USA\" role=\"graphics-symbol\" aria-roledescription=\"point\" transform=\"translate(120,280)\" d=\"M2.739,0A2.739,2.739,0,1,1,-2.739,0A2.739,2.739,0,1,1,2.739,0\" stroke=\"#e45756\" stroke-width=\"2\" opacity=\"0.7\"/><path aria-label=\"Horsepower: 72; Miles_per_Gallon: 15; Origin: USA\" role=\"graphics-symbol\" aria-roledescription=\"point\" transform=\"translate(120,280)\" d=\"M2.739,0A2.739,2.739,0,1,1,-2.739,0A2.739,2.739,0,1,1,2.739,0\" stroke=\"#e45756\" stroke-width=\"2\" opacity=\"0.7\"/><path aria-label=\"Horsepower: 170; Miles_per_Gallon: 16; Origin: USA\" role=\"graphics-symbol\" aria-roledescription=\"point\" transform=\"translate(283.33333333333337,272)\" d=\"M2.739,0A2.739,2.739,0,1,1,-2.739,0A2.739,2.739,0,1,1,2.739,0\" stroke=\"#e45756\" stroke-width=\"2\" opacity=\"0.7\"/><path aria-label=\"Horsepower: 145; Miles_per_Gallon: 15; Origin: USA\" role=\"graphics-symbol\" aria-roledescription=\"point\" transform=\"translate(241.66666666666666,280)\" d=\"M2.739,0A2.739,2.739,0,1,1,-2.739,0A2.739,2.739,0,1,1,2.739,0\" stroke=\"#e45756\" stroke-width=\"2\" opacity=\"0.7\"/><path aria-label=\"Horsepower: 150; Miles_per_Gallon: 16; Origin: USA\" role=\"graphics-symbol\" aria-roledescription=\"point\" transform=\"translate(250,272)\" d=\"M2.739,0A2.739,2.739,0,1,1,-2.739,0A2.739,2.739,0,1,1,2.739,0\" stroke=\"#e45756\" stroke-width=\"2\" opacity=\"0.7\"/><path aria-label=\"Horsepower: 148; Miles_per_Gallon: 14; Origin: USA\" role=\"graphics-symbol\" aria-roledescription=\"point\" transform=\"translate(246.66666666666669,288)\" d=\"M2.739,0A2.739,2.739,0,1,1,-2.739,0A2.739,2.739,0,1,1,2.739,0\" stroke=\"#e45756\" stroke-width=\"2\" opacity=\"0.7\"/><path aria-label=\"Horsepower: 110; Miles_per_Gallon: 17; Origin: USA\" role=\"graphics-symbol\" aria-roledescription=\"point\" transform=\"translate(183.33333333333331,263.99999999999994)\" d=\"M2.739,0A2.739,2.739,0,1,1,-2.739,0A2.739,2.739,0,1,1,2.739,0\" stroke=\"#e45756\" stroke-width=\"2\" opacity=\"0.7\"/><path aria-label=\"Horsepower: 105; Miles_per_Gallon: 16; Origin: USA\" role=\"graphics-symbol\" aria-roledescription=\"point\" transform=\"translate(175,272)\" d=\"M2.739,0A2.739,2.739,0,1,1,-2.739,0A2.739,2.739,0,1,1,2.739,0\" stroke=\"#e45756\" stroke-width=\"2\" opacity=\"0.7\"/><path aria-label=\"Horsepower: 110; Miles_per_Gallon: 15; Origin: USA\" role=\"graphics-symbol\" aria-roledescription=\"point\" transform=\"translate(183.33333333333331,280)\" d=\"M2.739,0A2.739,2.739,0,1,1,-2.739,0A2.739,2.739,0,1,1,2.739,0\" stroke=\"#e45756\" stroke-width=\"2\" opacity=\"0.7\"/><path aria-label=\"Horsepower: 95; Miles_per_Gallon: 18; Origin: USA\" role=\"graphics-symbol\" aria-roledescription=\"point\" transform=\"translate(158.33333333333331,256)\" d=\"M2.739,0A2.739,2.739,0,1,1,-2.739,0A2.739,2.739,0,1,1,2.739,0\" stroke=\"#e45756\" stroke-width=\"2\" opacity=\"0.7\"/><path aria-label=\"Horsepower: 110; Miles_per_Gallon: 21; Origin: USA\" role=\"graphics-symbol\" aria-roledescription=\"point\" transform=\"translate(183.33333333333331,232.00000000000003)\" d=\"M2.739,0A2.739,2.739,0,1,1,-2.739,0A2.739,2.739,0,1,1,2.739,0\" stroke=\"#e45756\" stroke-width=\"2\" opacity=\"0.7\"/><path aria-label=\"Horsepower: 110; Miles_per_Gallon: 20; Origin: USA\" role=\"graphics-symbol\" aria-roledescription=\"point\" transform=\"translate(183.33333333333331,240)\" d=\"M2.739,0A2.739,2.739,0,1,1,-2.739,0A2.739,2.739,0,1,1,2.739,0\" stroke=\"#e45756\" stroke-width=\"2\" opacity=\"0.7\"/><path aria-label=\"Horsepower: 129; Miles_per_Gallon: 13; Origin: USA\" role=\"graphics-symbol\" aria-roledescription=\"point\" transform=\"translate(215,296)\" d=\"M2.739,0A2.739,2.739,0,1,1,-2.739,0A2.739,2.739,0,1,1,2.739,0\" stroke=\"#e45756\" stroke-width=\"2\" opacity=\"0.7\"/><path aria-label=\"Horsepower: 75; Miles_per_Gallon: 29; Origin: Japan\" role=\"graphics-symbol\" aria-roledescription=\"point\" transform=\"translate(125,168.00000000000003)\" d=\"M2.739,0A2.739,2.739,0,1,1,-2.739,0A2.739,2.739,0,1,1,2.739,0\" stroke=\"#f58518\" stroke-width=\"2\" opacity=\"0.7\"/><path aria-label=\"Horsepower: 83; Miles_per_Gallon: 23; Origin: USA\" role=\"graphics-symbol\" aria-roledescription=\"point\" transform=\"translate(138.33333333333334,216)\" d=\"M2.739,0A2.739,2.739,0,1,1,-2.739,0A2.739,2.739,0,1,1,2.739,0\" stroke=\"#e45756\" stroke-width=\"2\" opacity=\"0.7\"/><path aria-label=\"Horsepower: 100; Miles_per_Gallon: 20; Origin: USA\" role=\"graphics-symbol\" aria-roledescription=\"point\" transform=\"translate(166.66666666666669,240)\" d=\"M2.739,0A2.739,2.739,0,1,1,-2.739,0A2.739,2.739,0,1,1,2.739,0\" stroke=\"#e45756\" stroke-width=\"2\" opacity=\"0.7\"/><path aria-label=\"Horsepower: 78; Miles_per_Gallon: 23; Origin: USA\" role=\"graphics-symbol\" aria-roledescription=\"point\" transform=\"translate(130,216)\" d=\"M2.739,0A2.739,2.739,0,1,1,-2.739,0A2.739,2.739,0,1,1,2.739,0\" stroke=\"#e45756\" stroke-width=\"2\" opacity=\"0.7\"/><path aria-label=\"Horsepower: 96; Miles_per_Gallon: 24; Origin: Japan\" role=\"graphics-symbol\" aria-roledescription=\"point\" transform=\"translate(160,208)\" d=\"M2.739,0A2.739,2.739,0,1,1,-2.739,0A2.739,2.739,0,1,1,2.739,0\" stroke=\"#f58518\" stroke-width=\"2\" opacity=\"0.7\"/><path aria-label=\"Horsepower: 71; Miles_per_Gallon: 25; Origin: Europe\" role=\"graphics-symbol\" aria-roledescription=\"point\" transform=\"translate(118.33333333333333,200)\" d=\"M2.739,0A2.739,2.739,0,1,1,-2.739,0A2.739,2.739,0,1,1,2.739,0\" stroke=\"#4c78a8\" stroke-width=\"2\" opacity=\"0.7\"/><path aria-label=\"Horsepower: 97; Miles_per_Gallon: 24; Origin: Japan\" role=\"graphics-symbol\" aria-roledescription=\"point\" transform=\"translate(161.66666666666666,208)\" d=\"M2.739,0A2.739,2.739,0,1,1,-2.739,0A2.739,2.739,0,1,1,2.739,0\" stroke=\"#f58518\" stroke-width=\"2\" opacity=\"0.7\"/><path aria-label=\"Horsepower: 97; Miles_per_Gallon: 18; Origin: USA\" role=\"graphics-symbol\" aria-roledescription=\"point\" transform=\"translate(161.66666666666666,256)\" d=\"M2.739,0A2.739,2.739,0,1,1,-2.739,0A2.739,2.739,0,1,1,2.739,0\" stroke=\"#e45756\" stroke-width=\"2\" opacity=\"0.7\"/><path aria-label=\"Horsepower: 70; Miles_per_Gallon: 29; Origin: Europe\" role=\"graphics-symbol\" aria-roledescription=\"point\" transform=\"translate(116.66666666666667,168.00000000000003)\" d=\"M2.739,0A2.739,2.739,0,1,1,-2.739,0A2.739,2.739,0,1,1,2.739,0\" stroke=\"#4c78a8\" stroke-width=\"2\" opacity=\"0.7\"/><path aria-label=\"Horsepower: 90; Miles_per_Gallon: 19; Origin: USA\" role=\"graphics-symbol\" aria-roledescription=\"point\" transform=\"translate(150,248)\" d=\"M2.739,0A2.739,2.739,0,1,1,-2.739,0A2.739,2.739,0,1,1,2.739,0\" stroke=\"#e45756\" stroke-width=\"2\" opacity=\"0.7\"/><path aria-label=\"Horsepower: 95; Miles_per_Gallon: 23; Origin: Europe\" role=\"graphics-symbol\" aria-roledescription=\"point\" transform=\"translate(158.33333333333331,216)\" d=\"M2.739,0A2.739,2.739,0,1,1,-2.739,0A2.739,2.739,0,1,1,2.739,0\" stroke=\"#4c78a8\" stroke-width=\"2\" opacity=\"0.7\"/><path aria-label=\"Horsepower: 88; Miles_per_Gallon: 23; Origin: Europe\" role=\"graphics-symbol\" aria-roledescription=\"point\" transform=\"translate(146.66666666666666,216)\" d=\"M2.739,0A2.739,2.739,0,1,1,-2.739,0A2.739,2.739,0,1,1,2.739,0\" stroke=\"#4c78a8\" stroke-width=\"2\" opacity=\"0.7\"/><path aria-label=\"Horsepower: 98; Miles_per_Gallon: 22; Origin: Europe\" role=\"graphics-symbol\" aria-roledescription=\"point\" transform=\"translate(163.33333333333334,224.00000000000003)\" d=\"M2.739,0A2.739,2.739,0,1,1,-2.739,0A2.739,2.739,0,1,1,2.739,0\" stroke=\"#4c78a8\" stroke-width=\"2\" opacity=\"0.7\"/><path aria-label=\"Horsepower: 115; Miles_per_Gallon: 25; Origin: Europe\" role=\"graphics-symbol\" aria-roledescription=\"point\" transform=\"translate(191.66666666666669,200)\" d=\"M2.739,0A2.739,2.739,0,1,1,-2.739,0A2.739,2.739,0,1,1,2.739,0\" stroke=\"#4c78a8\" stroke-width=\"2\" opacity=\"0.7\"/><path aria-label=\"Horsepower: 53; Miles_per_Gallon: 33; Origin: Japan\" role=\"graphics-symbol\" aria-roledescription=\"point\" transform=\"translate(88.33333333333333,136)\" d=\"M2.739,0A2.739,2.739,0,1,1,-2.739,0A2.739,2.739,0,1,1,2.739,0\" stroke=\"#f58518\" stroke-width=\"2\" opacity=\"0.7\"/><path aria-label=\"Horsepower: 86; Miles_per_Gallon: 28; Origin: Europe\" role=\"graphics-symbol\" aria-roledescription=\"point\" transform=\"translate(143.33333333333334,175.99999999999997)\" d=\"M2.739,0A2.739,2.739,0,1,1,-2.739,0A2.739,2.739,0,1,1,2.739,0\" stroke=\"#4c78a8\" stroke-width=\"2\" opacity=\"0.7\"/><path aria-label=\"Horsepower: 81; Miles_per_Gallon: 25; Origin: Europe\" role=\"graphics-symbol\" aria-roledescription=\"point\" transform=\"translate(135,200)\" d=\"M2.739,0A2.739,2.739,0,1,1,-2.739,0A2.739,2.739,0,1,1,2.739,0\" stroke=\"#4c78a8\" stroke-width=\"2\" opacity=\"0.7\"/><path aria-label=\"Horsepower: 92; Miles_per_Gallon: 25; Origin: USA\" role=\"graphics-symbol\" aria-roledescription=\"point\" transform=\"translate(153.33333333333334,200)\" d=\"M2.739,0A2.739,2.739,0,1,1,-2.739,0A2.739,2.739,0,1,1,2.739,0\" stroke=\"#e45756\" stroke-width=\"2\" opacity=\"0.7\"/><path aria-label=\"Horsepower: 79; Miles_per_Gallon: 26; Origin: USA\" role=\"graphics-symbol\" aria-roledescription=\"point\" transform=\"translate(131.66666666666666,192)\" d=\"M2.739,0A2.739,2.739,0,1,1,-2.739,0A2.739,2.739,0,1,1,2.739,0\" stroke=\"#e45756\" stroke-width=\"2\" opacity=\"0.7\"/><path aria-label=\"Horsepower: 83; Miles_per_Gallon: 27; Origin: Europe\" role=\"graphics-symbol\" aria-roledescription=\"point\" transform=\"translate(138.33333333333334,184)\" d=\"M2.739,0A2.739,2.739,0,1,1,-2.739,0A2.739,2.739,0,1,1,2.739,0\" stroke=\"#4c78a8\" stroke-width=\"2\" opacity=\"0.7\"/><path aria-label=\"Horsepower: 140; Miles_per_Gallon: 17.5; Origin: USA\" role=\"graphics-symbol\" aria-roledescription=\"point\" transform=\"translate(233.33333333333334,260)\" d=\"M2.739,0A2.739,2.739,0,1,1,-2.739,0A2.739,2.739,0,1,1,2.739,0\" stroke=\"#e45756\" stroke-width=\"2\" opacity=\"0.7\"/><path aria-label=\"Horsepower: 150; Miles_per_Gallon: 16; Origin: USA\" role=\"graphics-symbol\" aria-roledescription=\"point\" transform=\"translate(250,272)\" d=\"M2.739,0A2.739,2.739,0,1,1,-2.739,0A2.739,2.739,0,1,1,2.739,0\" stroke=\"#e45756\" stroke-width=\"2\" opacity=\"0.7\"/><path aria-label=\"Horsepower: 120; Miles_per_Gallon: 15.5; Origin: USA\" role=\"graphics-symbol\" aria-roledescription=\"point\" transform=\"translate(200,276)\" d=\"M2.739,0A2.739,2.739,0,1,1,-2.739,0A2.739,2.739,0,1,1,2.739,0\" stroke=\"#e45756\" stroke-width=\"2\" opacity=\"0.7\"/><path aria-label=\"Horsepower: 152; Miles_per_Gallon: 14.5; Origin: USA\" role=\"graphics-symbol\" aria-roledescription=\"point\" transform=\"translate(253.33333333333331,284)\" d=\"M2.739,0A2.739,2.739,0,1,1,-2.739,0A2.739,2.739,0,1,1,2.739,0\" stroke=\"#e45756\" stroke-width=\"2\" opacity=\"0.7\"/><path aria-label=\"Horsepower: 100; Miles_per_Gallon: 22; Origin: USA\" role=\"graphics-symbol\" aria-roledescription=\"point\" transform=\"translate(166.66666666666669,224.00000000000003)\" d=\"M2.739,0A2.739,2.739,0,1,1,-2.739,0A2.739,2.739,0,1,1,2.739,0\" stroke=\"#e45756\" stroke-width=\"2\" opacity=\"0.7\"/><path aria-label=\"Horsepower: 105; Miles_per_Gallon: 22; Origin: USA\" role=\"graphics-symbol\" aria-roledescription=\"point\" transform=\"translate(175,224.00000000000003)\" d=\"M2.739,0A2.739,2.739,0,1,1,-2.739,0A2.739,2.739,0,1,1,2.739,0\" stroke=\"#e45756\" stroke-width=\"2\" opacity=\"0.7\"/><path aria-label=\"Horsepower: 81; Miles_per_Gallon: 24; Origin: USA\" role=\"graphics-symbol\" aria-roledescription=\"point\" transform=\"translate(135,208)\" d=\"M2.739,0A2.739,2.739,0,1,1,-2.739,0A2.739,2.739,0,1,1,2.739,0\" stroke=\"#e45756\" stroke-width=\"2\" opacity=\"0.7\"/><path aria-label=\"Horsepower: 90; Miles_per_Gallon: 22.5; Origin: USA\" role=\"graphics-symbol\" aria-roledescription=\"point\" transform=\"translate(150,220.00000000000003)\" d=\"M2.739,0A2.739,2.739,0,1,1,-2.739,0A2.739,2.739,0,1,1,2.739,0\" stroke=\"#e45756\" stroke-width=\"2\" opacity=\"0.7\"/><path aria-label=\"Horsepower: 52; Miles_per_Gallon: 29; Origin: USA\" role=\"graphics-symbol\" aria-roledescription=\"point\" transform=\"translate(86.66666666666667,168.00000000000003)\" d=\"M2.739,0A2.739,2.739,0,1,1,-2.739,0A2.739,2.739,0,1,1,2.739,0\" stroke=\"#e45756\" stroke-width=\"2\" opacity=\"0.7\"/><path aria-label=\"Horsepower: 60; Miles_per_Gallon: 24.5; Origin: USA\" role=\"graphics-symbol\" aria-roledescription=\"point\" transform=\"translate(100,204)\" d=\"M2.739,0A2.739,2.739,0,1,1,-2.739,0A2.739,2.739,0,1,1,2.739,0\" stroke=\"#e45756\" stroke-width=\"2\" opacity=\"0.7\"/><path aria-label=\"Horsepower: 70; Miles_per_Gallon: 29; Origin: Europe\" role=\"graphics-symbol\" aria-roledescription=\"point\" transform=\"translate(116.66666666666667,168.00000000000003)\" d=\"M2.739,0A2.739,2.739,0,1,1,-2.739,0A2.739,2.739,0,1,1,2.739,0\" stroke=\"#4c78a8\" stroke-width=\"2\" opacity=\"0.7\"/><path aria-label=\"Horsepower: 53; Miles_per_Gallon: 33; Origin: Japan\" role=\"graphics-symbol\" aria-roledescription=\"point\" transform=\"translate(88.33333333333333,136)\" d=\"M2.739,0A2.739,2.739,0,1,1,-2.739,0A2.739,2.739,0,1,1,2.739,0\" stroke=\"#f58518\" stroke-width=\"2\" opacity=\"0.7\"/><path aria-label=\"Horsepower: 100; Miles_per_Gallon: 20; Origin: USA\" role=\"graphics-symbol\" aria-roledescription=\"point\" transform=\"translate(166.66666666666669,240)\" d=\"M2.739,0A2.739,2.739,0,1,1,-2.739,0A2.739,2.739,0,1,1,2.739,0\" stroke=\"#e45756\" stroke-width=\"2\" opacity=\"0.7\"/><path aria-label=\"Horsepower: 78; Miles_per_Gallon: 18; Origin: USA\" role=\"graphics-symbol\" aria-roledescription=\"point\" transform=\"translate(130,256)\" d=\"M2.739,0A2.739,2.739,0,1,1,-2.739,0A2.739,2.739,0,1,1,2.739,0\" stroke=\"#e45756\" stroke-width=\"2\" opacity=\"0.7\"/><path aria-label=\"Horsepower: 110; Miles_per_Gallon: 18.5; Origin: USA\" role=\"graphics-symbol\" aria-roledescription=\"point\" transform=\"translate(183.33333333333331,252)\" d=\"M2.739,0A2.739,2.739,0,1,1,-2.739,0A2.739,2.739,0,1,1,2.739,0\" stroke=\"#e45756\" stroke-width=\"2\" opacity=\"0.7\"/><path aria-label=\"Horsepower: 95; Miles_per_Gallon: 17.5; Origin: USA\" role=\"graphics-symbol\" aria-roledescription=\"point\" transform=\"translate(158.33333333333331,260)\" d=\"M2.739,0A2.739,2.739,0,1,1,-2.739,0A2.739,2.739,0,1,1,2.739,0\" stroke=\"#e45756\" stroke-width=\"2\" opacity=\"0.7\"/><path aria-label=\"Horsepower: 71; Miles_per_Gallon: 29.5; Origin: Europe\" role=\"graphics-symbol\" aria-roledescription=\"point\" transform=\"translate(118.33333333333333,164)\" d=\"M2.739,0A2.739,2.739,0,1,1,-2.739,0A2.739,2.739,0,1,1,2.739,0\" stroke=\"#4c78a8\" stroke-width=\"2\" opacity=\"0.7\"/><path aria-label=\"Horsepower: 70; Miles_per_Gallon: 32; Origin: Japan\" role=\"graphics-symbol\" aria-roledescription=\"point\" transform=\"translate(116.66666666666667,144)\" d=\"M2.739,0A2.739,2.739,0,1,1,-2.739,0A2.739,2.739,0,1,1,2.739,0\" stroke=\"#f58518\" stroke-width=\"2\" opacity=\"0.7\"/><path aria-label=\"Horsepower: 75; Miles_per_Gallon: 28; Origin: Japan\" role=\"graphics-symbol\" aria-roledescription=\"point\" transform=\"translate(125,175.99999999999997)\" d=\"M2.739,0A2.739,2.739,0,1,1,-2.739,0A2.739,2.739,0,1,1,2.739,0\" stroke=\"#f58518\" stroke-width=\"2\" opacity=\"0.7\"/><path aria-label=\"Horsepower: 72; Miles_per_Gallon: 26.5; Origin: USA\" role=\"graphics-symbol\" aria-roledescription=\"point\" transform=\"translate(120,188)\" d=\"M2.739,0A2.739,2.739,0,1,1,-2.739,0A2.739,2.739,0,1,1,2.739,0\" stroke=\"#e45756\" stroke-width=\"2\" opacity=\"0.7\"/><path aria-label=\"Horsepower: 102; Miles_per_Gallon: 20; Origin: Europe\" role=\"graphics-symbol\" aria-roledescription=\"point\" transform=\"translate(170,240)\" d=\"M2.739,0A2.739,2.739,0,1,1,-2.739,0A2.739,2.739,0,1,1,2.739,0\" stroke=\"#4c78a8\" stroke-width=\"2\" opacity=\"0.7\"/><path aria-label=\"Horsepower: 150; Miles_per_Gallon: 13; Origin: USA\" role=\"graphics-symbol\" aria-roledescription=\"point\" transform=\"translate(250,296)\" d=\"M2.739,0A2.739,2.739,0,1,1,-2.739,0A2.739,2.739,0,1,1,2.739,0\" stroke=\"#e45756\" stroke-width=\"2\" opacity=\"0.7\"/><path aria-label=\"Horsepower: 88; Miles_per_Gallon: 19; Origin: Europe\" role=\"graphics-symbol\" aria-roledescription=\"point\" transform=\"translate(146.66666666666666,248)\" d=\"M2.739,0A2.739,2.739,0,1,1,-2.739,0A2.739,2.739,0,1,1,2.739,0\" stroke=\"#4c78a8\" stroke-width=\"2\" opacity=\"0.7\"/><path aria-label=\"Horsepower: 108; Miles_per_Gallon: 19; Origin: Japan\" role=\"graphics-symbol\" aria-roledescription=\"point\" transform=\"translate(180,248)\" d=\"M2.739,0A2.739,2.739,0,1,1,-2.739,0A2.739,2.739,0,1,1,2.739,0\" stroke=\"#f58518\" stroke-width=\"2\" opacity=\"0.7\"/><path aria-label=\"Horsepower: 120; Miles_per_Gallon: 16.5; Origin: Europe\" role=\"graphics-symbol\" aria-roledescription=\"point\" transform=\"translate(200,268)\" d=\"M2.739,0A2.739,2.739,0,1,1,-2.739,0A2.739,2.739,0,1,1,2.739,0\" stroke=\"#4c78a8\" stroke-width=\"2\" opacity=\"0.7\"/><path aria-label=\"Horsepower: 180; Miles_per_Gallon: 16.5; Origin: USA\" role=\"graphics-symbol\" aria-roledescription=\"point\" transform=\"translate(300,268)\" d=\"M2.739,0A2.739,2.739,0,1,1,-2.739,0A2.739,2.739,0,1,1,2.739,0\" stroke=\"#e45756\" stroke-width=\"2\" opacity=\"0.7\"/><path aria-label=\"Horsepower: 145; Miles_per_Gallon: 13; Origin: USA\" role=\"graphics-symbol\" aria-roledescription=\"point\" transform=\"translate(241.66666666666666,296)\" d=\"M2.739,0A2.739,2.739,0,1,1,-2.739,0A2.739,2.739,0,1,1,2.739,0\" stroke=\"#e45756\" stroke-width=\"2\" opacity=\"0.7\"/><path aria-label=\"Horsepower: 130; Miles_per_Gallon: 13; Origin: USA\" role=\"graphics-symbol\" aria-roledescription=\"point\" transform=\"translate(216.66666666666666,296)\" d=\"M2.739,0A2.739,2.739,0,1,1,-2.739,0A2.739,2.739,0,1,1,2.739,0\" stroke=\"#e45756\" stroke-width=\"2\" opacity=\"0.7\"/><path aria-label=\"Horsepower: 150; Miles_per_Gallon: 13; Origin: USA\" role=\"graphics-symbol\" aria-roledescription=\"point\" transform=\"translate(250,296)\" d=\"M2.739,0A2.739,2.739,0,1,1,-2.739,0A2.739,2.739,0,1,1,2.739,0\" stroke=\"#e45756\" stroke-width=\"2\" opacity=\"0.7\"/><path aria-label=\"Horsepower: 68; Miles_per_Gallon: 31.5; Origin: Japan\" role=\"graphics-symbol\" aria-roledescription=\"point\" transform=\"translate(113.33333333333333,148)\" d=\"M2.739,0A2.739,2.739,0,1,1,-2.739,0A2.739,2.739,0,1,1,2.739,0\" stroke=\"#f58518\" stroke-width=\"2\" opacity=\"0.7\"/><path aria-label=\"Horsepower: 80; Miles_per_Gallon: 30; Origin: USA\" role=\"graphics-symbol\" aria-roledescription=\"point\" transform=\"translate(133.33333333333331,160)\" d=\"M2.739,0A2.739,2.739,0,1,1,-2.739,0A2.739,2.739,0,1,1,2.739,0\" stroke=\"#e45756\" stroke-width=\"2\" opacity=\"0.7\"/><path aria-label=\"Horsepower: 58; Miles_per_Gallon: 36; Origin: Europe\" role=\"graphics-symbol\" aria-roledescription=\"point\" transform=\"translate(96.66666666666667,112.00000000000001)\" d=\"M2.739,0A2.739,2.739,0,1,1,-2.739,0A2.739,2.739,0,1,1,2.739,0\" stroke=\"#4c78a8\" stroke-width=\"2\" opacity=\"0.7\"/><path aria-label=\"Horsepower: 96; Miles_per_Gallon: 25.5; Origin: USA\" role=\"graphics-symbol\" aria-roledescription=\"point\" transform=\"translate(160,196)\" d=\"M2.739,0A2.739,2.739,0,1,1,-2.739,0A2.739,2.739,0,1,1,2.739,0\" stroke=\"#e45756\" stroke-width=\"2\" opacity=\"0.7\"/><path aria-label=\"Horsepower: 70; Miles_per_Gallon: 33.5; Origin: Japan\" role=\"graphics-symbol\" aria-roledescription=\"point\" transform=\"translate(116.66666666666667,131.99999999999997)\" d=\"M2.739,0A2.739,2.739,0,1,1,-2.739,0A2.739,2.739,0,1,1,2.739,0\" stroke=\"#f58518\" stroke-width=\"2\" opacity=\"0.7\"/><path aria-label=\"Horsepower: 145; Miles_per_Gallon: 17.5; Origin: USA\" role=\"graphics-symbol\" aria-roledescription=\"point\" transform=\"translate(241.66666666666666,260)\" d=\"M2.739,0A2.739,2.739,0,1,1,-2.739,0A2.739,2.739,0,1,1,2.739,0\" stroke=\"#e45756\" stroke-width=\"2\" opacity=\"0.7\"/><path aria-label=\"Horsepower: 110; Miles_per_Gallon: 17; Origin: USA\" role=\"graphics-symbol\" aria-roledescription=\"point\" transform=\"translate(183.33333333333331,263.99999999999994)\" d=\"M2.739,0A2.739,2.739,0,1,1,-2.739,0A2.739,2.739,0,1,1,2.739,0\" stroke=\"#e45756\" stroke-width=\"2\" opacity=\"0.7\"/><path aria-label=\"Horsepower: 145; Miles_per_Gallon: 15.5; Origin: USA\" role=\"graphics-symbol\" aria-roledescription=\"point\" transform=\"translate(241.66666666666666,276)\" d=\"M2.739,0A2.739,2.739,0,1,1,-2.739,0A2.739,2.739,0,1,1,2.739,0\" stroke=\"#e45756\" stroke-width=\"2\" opacity=\"0.7\"/><path aria-label=\"Horsepower: 130; Miles_per_Gallon: 15; Origin: USA\" role=\"graphics-symbol\" aria-roledescription=\"point\" transform=\"translate(216.66666666666666,280)\" d=\"M2.739,0A2.739,2.739,0,1,1,-2.739,0A2.739,2.739,0,1,1,2.739,0\" stroke=\"#e45756\" stroke-width=\"2\" opacity=\"0.7\"/><path aria-label=\"Horsepower: 110; Miles_per_Gallon: 17.5; Origin: USA\" role=\"graphics-symbol\" aria-roledescription=\"point\" transform=\"translate(183.33333333333331,260)\" d=\"M2.739,0A2.739,2.739,0,1,1,-2.739,0A2.739,2.739,0,1,1,2.739,0\" stroke=\"#e45756\" stroke-width=\"2\" opacity=\"0.7\"/><path aria-label=\"Horsepower: 105; Miles_per_Gallon: 20.5; Origin: USA\" role=\"graphics-symbol\" aria-roledescription=\"point\" transform=\"translate(175,236.00000000000003)\" d=\"M2.739,0A2.739,2.739,0,1,1,-2.739,0A2.739,2.739,0,1,1,2.739,0\" stroke=\"#e45756\" stroke-width=\"2\" opacity=\"0.7\"/><path aria-label=\"Horsepower: 100; Miles_per_Gallon: 19; Origin: USA\" role=\"graphics-symbol\" aria-roledescription=\"point\" transform=\"translate(166.66666666666669,248)\" d=\"M2.739,0A2.739,2.739,0,1,1,-2.739,0A2.739,2.739,0,1,1,2.739,0\" stroke=\"#e45756\" stroke-width=\"2\" opacity=\"0.7\"/><path aria-label=\"Horsepower: 98; Miles_per_Gallon: 18.5; Origin: USA\" role=\"graphics-symbol\" aria-roledescription=\"point\" transform=\"translate(163.33333333333334,252)\" d=\"M2.739,0A2.739,2.739,0,1,1,-2.739,0A2.739,2.739,0,1,1,2.739,0\" stroke=\"#e45756\" stroke-width=\"2\" opacity=\"0.7\"/><path aria-label=\"Horsepower: 180; Miles_per_Gallon: 16; Origin: USA\" role=\"graphics-symbol\" aria-roledescription=\"point\" transform=\"translate(300,272)\" d=\"M2.739,0A2.739,2.739,0,1,1,-2.739,0A2.739,2.739,0,1,1,2.739,0\" stroke=\"#e45756\" stroke-width=\"2\" opacity=\"0.7\"/><path aria-label=\"Horsepower: 170; Miles_per_Gallon: 15.5; Origin: USA\" role=\"graphics-symbol\" aria-roledescription=\"point\" transform=\"translate(283.33333333333337,276)\" d=\"M2.739,0A2.739,2.739,0,1,1,-2.739,0A2.739,2.739,0,1,1,2.739,0\" stroke=\"#e45756\" stroke-width=\"2\" opacity=\"0.7\"/><path aria-label=\"Horsepower: 190; Miles_per_Gallon: 15.5; Origin: USA\" role=\"graphics-symbol\" aria-roledescription=\"point\" transform=\"translate(316.66666666666663,276)\" d=\"M2.739,0A2.739,2.739,0,1,1,-2.739,0A2.739,2.739,0,1,1,2.739,0\" stroke=\"#e45756\" stroke-width=\"2\" opacity=\"0.7\"/><path aria-label=\"Horsepower: 149; Miles_per_Gallon: 16; Origin: USA\" role=\"graphics-symbol\" aria-roledescription=\"point\" transform=\"translate(248.33333333333334,272)\" d=\"M2.739,0A2.739,2.739,0,1,1,-2.739,0A2.739,2.739,0,1,1,2.739,0\" stroke=\"#e45756\" stroke-width=\"2\" opacity=\"0.7\"/><path aria-label=\"Horsepower: 78; Miles_per_Gallon: 29; Origin: Europe\" role=\"graphics-symbol\" aria-roledescription=\"point\" transform=\"translate(130,168.00000000000003)\" d=\"M2.739,0A2.739,2.739,0,1,1,-2.739,0A2.739,2.739,0,1,1,2.739,0\" stroke=\"#4c78a8\" stroke-width=\"2\" opacity=\"0.7\"/><path aria-label=\"Horsepower: 88; Miles_per_Gallon: 24.5; Origin: USA\" role=\"graphics-symbol\" aria-roledescription=\"point\" transform=\"translate(146.66666666666666,204)\" d=\"M2.739,0A2.739,2.739,0,1,1,-2.739,0A2.739,2.739,0,1,1,2.739,0\" stroke=\"#e45756\" stroke-width=\"2\" opacity=\"0.7\"/><path aria-label=\"Horsepower: 75; Miles_per_Gallon: 26; Origin: Japan\" role=\"graphics-symbol\" aria-roledescription=\"point\" transform=\"translate(125,192)\" d=\"M2.739,0A2.739,2.739,0,1,1,-2.739,0A2.739,2.739,0,1,1,2.739,0\" stroke=\"#f58518\" stroke-width=\"2\" opacity=\"0.7\"/><path aria-label=\"Horsepower: 89; Miles_per_Gallon: 25.5; Origin: USA\" role=\"graphics-symbol\" aria-roledescription=\"point\" transform=\"translate(148.33333333333334,196)\" d=\"M2.739,0A2.739,2.739,0,1,1,-2.739,0A2.739,2.739,0,1,1,2.739,0\" stroke=\"#e45756\" stroke-width=\"2\" opacity=\"0.7\"/><path aria-label=\"Horsepower: 63; Miles_per_Gallon: 30.5; Origin: USA\" role=\"graphics-symbol\" aria-roledescription=\"point\" transform=\"translate(105,156)\" d=\"M2.739,0A2.739,2.739,0,1,1,-2.739,0A2.739,2.739,0,1,1,2.739,0\" stroke=\"#e45756\" stroke-width=\"2\" opacity=\"0.7\"/><path aria-label=\"Horsepower: 83; Miles_per_Gallon: 33.5; Origin: USA\" role=\"graphics-symbol\" aria-roledescription=\"point\" transform=\"translate(138.33333333333334,131.99999999999997)\" d=\"M2.739,0A2.739,2.739,0,1,1,-2.739,0A2.739,2.739,0,1,1,2.739,0\" stroke=\"#e45756\" stroke-width=\"2\" opacity=\"0.7\"/><path aria-label=\"Horsepower: 67; Miles_per_Gallon: 30; Origin: Japan\" role=\"graphics-symbol\" aria-roledescription=\"point\" transform=\"translate(111.66666666666667,160)\" d=\"M2.739,0A2.739,2.739,0,1,1,-2.739,0A2.739,2.739,0,1,1,2.739,0\" stroke=\"#f58518\" stroke-width=\"2\" opacity=\"0.7\"/><path aria-label=\"Horsepower: 78; Miles_per_Gallon: 30.5; Origin: Europe\" role=\"graphics-symbol\" aria-roledescription=\"point\" transform=\"translate(130,156)\" d=\"M2.739,0A2.739,2.739,0,1,1,-2.739,0A2.739,2.739,0,1,1,2.739,0\" stroke=\"#4c78a8\" stroke-width=\"2\" opacity=\"0.7\"/><path aria-label=\"Horsepower: 97; Miles_per_Gallon: 22; Origin: Japan\" role=\"graphics-symbol\" aria-roledescription=\"point\" transform=\"translate(161.66666666666666,224.00000000000003)\" d=\"M2.739,0A2.739,2.739,0,1,1,-2.739,0A2.739,2.739,0,1,1,2.739,0\" stroke=\"#f58518\" stroke-width=\"2\" opacity=\"0.7\"/><path aria-label=\"Horsepower: 110; Miles_per_Gallon: 21.5; Origin: Europe\" role=\"graphics-symbol\" aria-roledescription=\"point\" transform=\"translate(183.33333333333331,228.00000000000003)\" d=\"M2.739,0A2.739,2.739,0,1,1,-2.739,0A2.739,2.739,0,1,1,2.739,0\" stroke=\"#4c78a8\" stroke-width=\"2\" opacity=\"0.7\"/><path aria-label=\"Horsepower: 110; Miles_per_Gallon: 21.5; Origin: Japan\" role=\"graphics-symbol\" aria-roledescription=\"point\" transform=\"translate(183.33333333333331,228.00000000000003)\" d=\"M2.739,0A2.739,2.739,0,1,1,-2.739,0A2.739,2.739,0,1,1,2.739,0\" stroke=\"#f58518\" stroke-width=\"2\" opacity=\"0.7\"/><path aria-label=\"Horsepower: 48; Miles_per_Gallon: 43.1; Origin: Europe\" role=\"graphics-symbol\" aria-roledescription=\"point\" transform=\"translate(80,55.2)\" d=\"M2.739,0A2.739,2.739,0,1,1,-2.739,0A2.739,2.739,0,1,1,2.739,0\" stroke=\"#4c78a8\" stroke-width=\"2\" opacity=\"0.7\"/><path aria-label=\"Horsepower: 66; Miles_per_Gallon: 36.1; Origin: USA\" role=\"graphics-symbol\" aria-roledescription=\"point\" transform=\"translate(110.00000000000001,111.20000000000002)\" d=\"M2.739,0A2.739,2.739,0,1,1,-2.739,0A2.739,2.739,0,1,1,2.739,0\" stroke=\"#e45756\" stroke-width=\"2\" opacity=\"0.7\"/><path aria-label=\"Horsepower: 52; Miles_per_Gallon: 32.8; Origin: Japan\" role=\"graphics-symbol\" aria-roledescription=\"point\" transform=\"translate(86.66666666666667,137.60000000000002)\" d=\"M2.739,0A2.739,2.739,0,1,1,-2.739,0A2.739,2.739,0,1,1,2.739,0\" stroke=\"#f58518\" stroke-width=\"2\" opacity=\"0.7\"/><path aria-label=\"Horsepower: 70; Miles_per_Gallon: 39.4; Origin: Japan\" role=\"graphics-symbol\" aria-roledescription=\"point\" transform=\"translate(116.66666666666667,84.80000000000003)\" d=\"M2.739,0A2.739,2.739,0,1,1,-2.739,0A2.739,2.739,0,1,1,2.739,0\" stroke=\"#f58518\" stroke-width=\"2\" opacity=\"0.7\"/><path aria-label=\"Horsepower: 60; Miles_per_Gallon: 36.1; Origin: Japan\" role=\"graphics-symbol\" aria-roledescription=\"point\" transform=\"translate(100,111.20000000000002)\" d=\"M2.739,0A2.739,2.739,0,1,1,-2.739,0A2.739,2.739,0,1,1,2.739,0\" stroke=\"#f58518\" stroke-width=\"2\" opacity=\"0.7\"/><path aria-label=\"Horsepower: 110; Miles_per_Gallon: 19.9; Origin: USA\" role=\"graphics-symbol\" aria-roledescription=\"point\" transform=\"translate(183.33333333333331,240.80000000000004)\" d=\"M2.739,0A2.739,2.739,0,1,1,-2.739,0A2.739,2.739,0,1,1,2.739,0\" stroke=\"#e45756\" stroke-width=\"2\" opacity=\"0.7\"/><path aria-label=\"Horsepower: 140; Miles_per_Gallon: 19.4; Origin: USA\" role=\"graphics-symbol\" aria-roledescription=\"point\" transform=\"translate(233.33333333333334,244.80000000000004)\" d=\"M2.739,0A2.739,2.739,0,1,1,-2.739,0A2.739,2.739,0,1,1,2.739,0\" stroke=\"#e45756\" stroke-width=\"2\" opacity=\"0.7\"/><path aria-label=\"Horsepower: 139; Miles_per_Gallon: 20.2; Origin: USA\" role=\"graphics-symbol\" aria-roledescription=\"point\" transform=\"translate(231.66666666666669,238.40000000000003)\" d=\"M2.739,0A2.739,2.739,0,1,1,-2.739,0A2.739,2.739,0,1,1,2.739,0\" stroke=\"#e45756\" stroke-width=\"2\" opacity=\"0.7\"/><path aria-label=\"Horsepower: 105; Miles_per_Gallon: 19.2; Origin: USA\" role=\"graphics-symbol\" aria-roledescription=\"point\" transform=\"translate(175,246.4)\" d=\"M2.739,0A2.739,2.739,0,1,1,-2.739,0A2.739,2.739,0,1,1,2.739,0\" stroke=\"#e45756\" stroke-width=\"2\" opacity=\"0.7\"/><path aria-label=\"Horsepower: 95; Miles_per_Gallon: 20.5; Origin: USA\" role=\"graphics-symbol\" aria-roledescription=\"point\" transform=\"translate(158.33333333333331,236.00000000000003)\" d=\"M2.739,0A2.739,2.739,0,1,1,-2.739,0A2.739,2.739,0,1,1,2.739,0\" stroke=\"#e45756\" stroke-width=\"2\" opacity=\"0.7\"/><path aria-label=\"Horsepower: 85; Miles_per_Gallon: 20.2; Origin: USA\" role=\"graphics-symbol\" aria-roledescription=\"point\" transform=\"translate(141.66666666666669,238.40000000000003)\" d=\"M2.739,0A2.739,2.739,0,1,1,-2.739,0A2.739,2.739,0,1,1,2.739,0\" stroke=\"#e45756\" stroke-width=\"2\" opacity=\"0.7\"/><path aria-label=\"Horsepower: 88; Miles_per_Gallon: 25.1; Origin: USA\" role=\"graphics-symbol\" aria-roledescription=\"point\" transform=\"translate(146.66666666666666,199.2)\" d=\"M2.739,0A2.739,2.739,0,1,1,-2.739,0A2.739,2.739,0,1,1,2.739,0\" stroke=\"#e45756\" stroke-width=\"2\" opacity=\"0.7\"/><path aria-label=\"Horsepower: 100; Miles_per_Gallon: 20.5; Origin: USA\" role=\"graphics-symbol\" aria-roledescription=\"point\" transform=\"translate(166.66666666666669,236.00000000000003)\" d=\"M2.739,0A2.739,2.739,0,1,1,-2.739,0A2.739,2.739,0,1,1,2.739,0\" stroke=\"#e45756\" stroke-width=\"2\" opacity=\"0.7\"/><path aria-label=\"Horsepower: 90; Miles_per_Gallon: 19.4; Origin: USA\" role=\"graphics-symbol\" aria-roledescription=\"point\" transform=\"translate(150,244.80000000000004)\" d=\"M2.739,0A2.739,2.739,0,1,1,-2.739,0A2.739,2.739,0,1,1,2.739,0\" stroke=\"#e45756\" stroke-width=\"2\" opacity=\"0.7\"/><path aria-label=\"Horsepower: 105; Miles_per_Gallon: 20.6; Origin: USA\" role=\"graphics-symbol\" aria-roledescription=\"point\" transform=\"translate(175,235.2)\" d=\"M2.739,0A2.739,2.739,0,1,1,-2.739,0A2.739,2.739,0,1,1,2.739,0\" stroke=\"#e45756\" stroke-width=\"2\" opacity=\"0.7\"/><path aria-label=\"Horsepower: 85; Miles_per_Gallon: 20.8; Origin: USA\" role=\"graphics-symbol\" aria-roledescription=\"point\" transform=\"translate(141.66666666666669,233.6)\" d=\"M2.739,0A2.739,2.739,0,1,1,-2.739,0A2.739,2.739,0,1,1,2.739,0\" stroke=\"#e45756\" stroke-width=\"2\" opacity=\"0.7\"/><path aria-label=\"Horsepower: 110; Miles_per_Gallon: 18.6; Origin: USA\" role=\"graphics-symbol\" aria-roledescription=\"point\" transform=\"translate(183.33333333333331,251.19999999999996)\" d=\"M2.739,0A2.739,2.739,0,1,1,-2.739,0A2.739,2.739,0,1,1,2.739,0\" stroke=\"#e45756\" stroke-width=\"2\" opacity=\"0.7\"/><path aria-label=\"Horsepower: 120; Miles_per_Gallon: 18.1; Origin: USA\" role=\"graphics-symbol\" aria-roledescription=\"point\" transform=\"translate(200,255.19999999999996)\" d=\"M2.739,0A2.739,2.739,0,1,1,-2.739,0A2.739,2.739,0,1,1,2.739,0\" stroke=\"#e45756\" stroke-width=\"2\" opacity=\"0.7\"/><path aria-label=\"Horsepower: 145; Miles_per_Gallon: 19.2; Origin: USA\" role=\"graphics-symbol\" aria-roledescription=\"point\" transform=\"translate(241.66666666666666,246.4)\" d=\"M2.739,0A2.739,2.739,0,1,1,-2.739,0A2.739,2.739,0,1,1,2.739,0\" stroke=\"#e45756\" stroke-width=\"2\" opacity=\"0.7\"/><path aria-label=\"Horsepower: 165; Miles_per_Gallon: 17.7; Origin: USA\" role=\"graphics-symbol\" aria-roledescription=\"point\" transform=\"translate(275,258.40000000000003)\" d=\"M2.739,0A2.739,2.739,0,1,1,-2.739,0A2.739,2.739,0,1,1,2.739,0\" stroke=\"#e45756\" stroke-width=\"2\" opacity=\"0.7\"/><path aria-label=\"Horsepower: 139; Miles_per_Gallon: 18.1; Origin: USA\" role=\"graphics-symbol\" aria-roledescription=\"point\" transform=\"translate(231.66666666666669,255.19999999999996)\" d=\"M2.739,0A2.739,2.739,0,1,1,-2.739,0A2.739,2.739,0,1,1,2.739,0\" stroke=\"#e45756\" stroke-width=\"2\" opacity=\"0.7\"/><path aria-label=\"Horsepower: 140; Miles_per_Gallon: 17.5; Origin: USA\" role=\"graphics-symbol\" aria-roledescription=\"point\" transform=\"translate(233.33333333333334,260)\" d=\"M2.739,0A2.739,2.739,0,1,1,-2.739,0A2.739,2.739,0,1,1,2.739,0\" stroke=\"#e45756\" stroke-width=\"2\" opacity=\"0.7\"/><path aria-label=\"Horsepower: 68; Miles_per_Gallon: 30; Origin: USA\" role=\"graphics-symbol\" aria-roledescription=\"point\" transform=\"translate(113.33333333333333,160)\" d=\"M2.739,0A2.739,2.739,0,1,1,-2.739,0A2.739,2.739,0,1,1,2.739,0\" stroke=\"#e45756\" stroke-width=\"2\" opacity=\"0.7\"/><path aria-label=\"Horsepower: 95; Miles_per_Gallon: 27.5; Origin: Japan\" role=\"graphics-symbol\" aria-roledescription=\"point\" transform=\"translate(158.33333333333331,179.99999999999997)\" d=\"M2.739,0A2.739,2.739,0,1,1,-2.739,0A2.739,2.739,0,1,1,2.739,0\" stroke=\"#f58518\" stroke-width=\"2\" opacity=\"0.7\"/><path aria-label=\"Horsepower: 97; Miles_per_Gallon: 27.2; Origin: Japan\" role=\"graphics-symbol\" aria-roledescription=\"point\" transform=\"translate(161.66666666666666,182.39999999999998)\" d=\"M2.739,0A2.739,2.739,0,1,1,-2.739,0A2.739,2.739,0,1,1,2.739,0\" stroke=\"#f58518\" stroke-width=\"2\" opacity=\"0.7\"/><path aria-label=\"Horsepower: 75; Miles_per_Gallon: 30.9; Origin: USA\" role=\"graphics-symbol\" aria-roledescription=\"point\" transform=\"translate(125,152.8)\" d=\"M2.739,0A2.739,2.739,0,1,1,-2.739,0A2.739,2.739,0,1,1,2.739,0\" stroke=\"#e45756\" stroke-width=\"2\" opacity=\"0.7\"/><path aria-label=\"Horsepower: 95; Miles_per_Gallon: 21.1; Origin: Japan\" role=\"graphics-symbol\" aria-roledescription=\"point\" transform=\"translate(158.33333333333331,231.2)\" d=\"M2.739,0A2.739,2.739,0,1,1,-2.739,0A2.739,2.739,0,1,1,2.739,0\" stroke=\"#f58518\" stroke-width=\"2\" opacity=\"0.7\"/><path aria-label=\"Horsepower: 105; Miles_per_Gallon: 23.2; Origin: USA\" role=\"graphics-symbol\" aria-roledescription=\"point\" transform=\"translate(175,214.4)\" d=\"M2.739,0A2.739,2.739,0,1,1,-2.739,0A2.739,2.739,0,1,1,2.739,0\" stroke=\"#e45756\" stroke-width=\"2\" opacity=\"0.7\"/><path aria-label=\"Horsepower: 85; Miles_per_Gallon: 23.8; Origin: USA\" role=\"graphics-symbol\" aria-roledescription=\"point\" transform=\"translate(141.66666666666669,209.60000000000002)\" d=\"M2.739,0A2.739,2.739,0,1,1,-2.739,0A2.739,2.739,0,1,1,2.739,0\" stroke=\"#e45756\" stroke-width=\"2\" opacity=\"0.7\"/><path aria-label=\"Horsepower: 97; Miles_per_Gallon: 23.9; Origin: Japan\" role=\"graphics-symbol\" aria-roledescription=\"point\" transform=\"translate(161.66666666666666,208.8)\" d=\"M2.739,0A2.739,2.739,0,1,1,-2.739,0A2.739,2.739,0,1,1,2.739,0\" stroke=\"#f58518\" stroke-width=\"2\" opacity=\"0.7\"/><path aria-label=\"Horsepower: 103; Miles_per_Gallon: 20.3; Origin: Europe\" role=\"graphics-symbol\" aria-roledescription=\"point\" transform=\"translate(171.66666666666666,237.6)\" d=\"M2.739,0A2.739,2.739,0,1,1,-2.739,0A2.739,2.739,0,1,1,2.739,0\" stroke=\"#4c78a8\" stroke-width=\"2\" opacity=\"0.7\"/><path aria-label=\"Horsepower: 125; Miles_per_Gallon: 17; Origin: Europe\" role=\"graphics-symbol\" aria-roledescription=\"point\" transform=\"translate(208.33333333333334,263.99999999999994)\" d=\"M2.739,0A2.739,2.739,0,1,1,-2.739,0A2.739,2.739,0,1,1,2.739,0\" stroke=\"#4c78a8\" stroke-width=\"2\" opacity=\"0.7\"/><path aria-label=\"Horsepower: 115; Miles_per_Gallon: 21.6; Origin: Europe\" role=\"graphics-symbol\" aria-roledescription=\"point\" transform=\"translate(191.66666666666669,227.2)\" d=\"M2.739,0A2.739,2.739,0,1,1,-2.739,0A2.739,2.739,0,1,1,2.739,0\" stroke=\"#4c78a8\" stroke-width=\"2\" opacity=\"0.7\"/><path aria-label=\"Horsepower: 133; Miles_per_Gallon: 16.2; Origin: Europe\" role=\"graphics-symbol\" aria-roledescription=\"point\" transform=\"translate(221.66666666666669,270.4)\" d=\"M2.739,0A2.739,2.739,0,1,1,-2.739,0A2.739,2.739,0,1,1,2.739,0\" stroke=\"#4c78a8\" stroke-width=\"2\" opacity=\"0.7\"/><path aria-label=\"Horsepower: 71; Miles_per_Gallon: 31.5; Origin: Europe\" role=\"graphics-symbol\" aria-roledescription=\"point\" transform=\"translate(118.33333333333333,148)\" d=\"M2.739,0A2.739,2.739,0,1,1,-2.739,0A2.739,2.739,0,1,1,2.739,0\" stroke=\"#4c78a8\" stroke-width=\"2\" opacity=\"0.7\"/><path aria-label=\"Horsepower: 68; Miles_per_Gallon: 29.5; Origin: Japan\" role=\"graphics-symbol\" aria-roledescription=\"point\" transform=\"translate(113.33333333333333,164)\" d=\"M2.739,0A2.739,2.739,0,1,1,-2.739,0A2.739,2.739,0,1,1,2.739,0\" stroke=\"#f58518\" stroke-width=\"2\" opacity=\"0.7\"/><path aria-label=\"Horsepower: 115; Miles_per_Gallon: 21.5; Origin: USA\" role=\"graphics-symbol\" aria-roledescription=\"point\" transform=\"translate(191.66666666666669,228.00000000000003)\" d=\"M2.739,0A2.739,2.739,0,1,1,-2.739,0A2.739,2.739,0,1,1,2.739,0\" stroke=\"#e45756\" stroke-width=\"2\" opacity=\"0.7\"/><path aria-label=\"Horsepower: 85; Miles_per_Gallon: 19.8; Origin: USA\" role=\"graphics-symbol\" aria-roledescription=\"point\" transform=\"translate(141.66666666666669,241.6)\" d=\"M2.739,0A2.739,2.739,0,1,1,-2.739,0A2.739,2.739,0,1,1,2.739,0\" stroke=\"#e45756\" stroke-width=\"2\" opacity=\"0.7\"/><path aria-label=\"Horsepower: 88; Miles_per_Gallon: 22.3; Origin: USA\" role=\"graphics-symbol\" aria-roledescription=\"point\" transform=\"translate(146.66666666666666,221.60000000000002)\" d=\"M2.739,0A2.739,2.739,0,1,1,-2.739,0A2.739,2.739,0,1,1,2.739,0\" stroke=\"#e45756\" stroke-width=\"2\" opacity=\"0.7\"/><path aria-label=\"Horsepower: 90; Miles_per_Gallon: 20.2; Origin: USA\" role=\"graphics-symbol\" aria-roledescription=\"point\" transform=\"translate(150,238.40000000000003)\" d=\"M2.739,0A2.739,2.739,0,1,1,-2.739,0A2.739,2.739,0,1,1,2.739,0\" stroke=\"#e45756\" stroke-width=\"2\" opacity=\"0.7\"/><path aria-label=\"Horsepower: 110; Miles_per_Gallon: 20.6; Origin: USA\" role=\"graphics-symbol\" aria-roledescription=\"point\" transform=\"translate(183.33333333333331,235.2)\" d=\"M2.739,0A2.739,2.739,0,1,1,-2.739,0A2.739,2.739,0,1,1,2.739,0\" stroke=\"#e45756\" stroke-width=\"2\" opacity=\"0.7\"/><path aria-label=\"Horsepower: 130; Miles_per_Gallon: 17; Origin: USA\" role=\"graphics-symbol\" aria-roledescription=\"point\" transform=\"translate(216.66666666666666,263.99999999999994)\" d=\"M2.739,0A2.739,2.739,0,1,1,-2.739,0A2.739,2.739,0,1,1,2.739,0\" stroke=\"#e45756\" stroke-width=\"2\" opacity=\"0.7\"/><path aria-label=\"Horsepower: 129; Miles_per_Gallon: 17.6; Origin: USA\" role=\"graphics-symbol\" aria-roledescription=\"point\" transform=\"translate(215,259.2)\" d=\"M2.739,0A2.739,2.739,0,1,1,-2.739,0A2.739,2.739,0,1,1,2.739,0\" stroke=\"#e45756\" stroke-width=\"2\" opacity=\"0.7\"/><path aria-label=\"Horsepower: 138; Miles_per_Gallon: 16.5; Origin: USA\" role=\"graphics-symbol\" aria-roledescription=\"point\" transform=\"translate(229.99999999999997,268)\" d=\"M2.739,0A2.739,2.739,0,1,1,-2.739,0A2.739,2.739,0,1,1,2.739,0\" stroke=\"#e45756\" stroke-width=\"2\" opacity=\"0.7\"/><path aria-label=\"Horsepower: 135; Miles_per_Gallon: 18.2; Origin: USA\" role=\"graphics-symbol\" aria-roledescription=\"point\" transform=\"translate(225,254.4)\" d=\"M2.739,0A2.739,2.739,0,1,1,-2.739,0A2.739,2.739,0,1,1,2.739,0\" stroke=\"#e45756\" stroke-width=\"2\" opacity=\"0.7\"/><path aria-label=\"Horsepower: 155; Miles_per_Gallon: 16.9; Origin: USA\" role=\"graphics-symbol\" aria-roledescription=\"point\" transform=\"translate(258.33333333333337,264.8)\" d=\"M2.739,0A2.739,2.739,0,1,1,-2.739,0A2.739,2.739,0,1,1,2.739,0\" stroke=\"#e45756\" stroke-width=\"2\" opacity=\"0.7\"/><path aria-label=\"Horsepower: 142; Miles_per_Gallon: 15.5; Origin: USA\" role=\"graphics-symbol\" aria-roledescription=\"point\" transform=\"translate(236.66666666666666,276)\" d=\"M2.739,0A2.739,2.739,0,1,1,-2.739,0A2.739,2.739,0,1,1,2.739,0\" stroke=\"#e45756\" stroke-width=\"2\" opacity=\"0.7\"/><path aria-label=\"Horsepower: 125; Miles_per_Gallon: 19.2; Origin: USA\" role=\"graphics-symbol\" aria-roledescription=\"point\" transform=\"translate(208.33333333333334,246.4)\" d=\"M2.739,0A2.739,2.739,0,1,1,-2.739,0A2.739,2.739,0,1,1,2.739,0\" stroke=\"#e45756\" stroke-width=\"2\" opacity=\"0.7\"/><path aria-label=\"Horsepower: 150; Miles_per_Gallon: 18.5; Origin: USA\" role=\"graphics-symbol\" aria-roledescription=\"point\" transform=\"translate(250,252)\" d=\"M2.739,0A2.739,2.739,0,1,1,-2.739,0A2.739,2.739,0,1,1,2.739,0\" stroke=\"#e45756\" stroke-width=\"2\" opacity=\"0.7\"/><path aria-label=\"Horsepower: 71; Miles_per_Gallon: 31.9; Origin: Europe\" role=\"graphics-symbol\" aria-roledescription=\"point\" transform=\"translate(118.33333333333333,144.79999999999998)\" d=\"M2.739,0A2.739,2.739,0,1,1,-2.739,0A2.739,2.739,0,1,1,2.739,0\" stroke=\"#4c78a8\" stroke-width=\"2\" opacity=\"0.7\"/><path aria-label=\"Horsepower: 65; Miles_per_Gallon: 34.1; Origin: Japan\" role=\"graphics-symbol\" aria-roledescription=\"point\" transform=\"translate(108.33333333333333,127.19999999999997)\" d=\"M2.739,0A2.739,2.739,0,1,1,-2.739,0A2.739,2.739,0,1,1,2.739,0\" stroke=\"#f58518\" stroke-width=\"2\" opacity=\"0.7\"/><path aria-label=\"Horsepower: 80; Miles_per_Gallon: 35.7; Origin: USA\" role=\"graphics-symbol\" aria-roledescription=\"point\" transform=\"translate(133.33333333333331,114.39999999999996)\" d=\"M2.739,0A2.739,2.739,0,1,1,-2.739,0A2.739,2.739,0,1,1,2.739,0\" stroke=\"#e45756\" stroke-width=\"2\" opacity=\"0.7\"/><path aria-label=\"Horsepower: 80; Miles_per_Gallon: 27.4; Origin: USA\" role=\"graphics-symbol\" aria-roledescription=\"point\" transform=\"translate(133.33333333333331,180.80000000000004)\" d=\"M2.739,0A2.739,2.739,0,1,1,-2.739,0A2.739,2.739,0,1,1,2.739,0\" stroke=\"#e45756\" stroke-width=\"2\" opacity=\"0.7\"/><path aria-label=\"Horsepower: 77; Miles_per_Gallon: 25.4; Origin: Europe\" role=\"graphics-symbol\" aria-roledescription=\"point\" transform=\"translate(128.33333333333334,196.8)\" d=\"M2.739,0A2.739,2.739,0,1,1,-2.739,0A2.739,2.739,0,1,1,2.739,0\" stroke=\"#4c78a8\" stroke-width=\"2\" opacity=\"0.7\"/><path aria-label=\"Horsepower: 125; Miles_per_Gallon: 23; Origin: USA\" role=\"graphics-symbol\" aria-roledescription=\"point\" transform=\"translate(208.33333333333334,216)\" d=\"M2.739,0A2.739,2.739,0,1,1,-2.739,0A2.739,2.739,0,1,1,2.739,0\" stroke=\"#e45756\" stroke-width=\"2\" opacity=\"0.7\"/><path aria-label=\"Horsepower: 71; Miles_per_Gallon: 27.2; Origin: Europe\" role=\"graphics-symbol\" aria-roledescription=\"point\" transform=\"translate(118.33333333333333,182.39999999999998)\" d=\"M2.739,0A2.739,2.739,0,1,1,-2.739,0A2.739,2.739,0,1,1,2.739,0\" stroke=\"#4c78a8\" stroke-width=\"2\" opacity=\"0.7\"/><path aria-label=\"Horsepower: 90; Miles_per_Gallon: 23.9; Origin: USA\" role=\"graphics-symbol\" aria-roledescription=\"point\" transform=\"translate(150,208.8)\" d=\"M2.739,0A2.739,2.739,0,1,1,-2.739,0A2.739,2.739,0,1,1,2.739,0\" stroke=\"#e45756\" stroke-width=\"2\" opacity=\"0.7\"/><path aria-label=\"Horsepower: 70; Miles_per_Gallon: 34.2; Origin: USA\" role=\"graphics-symbol\" aria-roledescription=\"point\" transform=\"translate(116.66666666666667,126.39999999999998)\" d=\"M2.739,0A2.739,2.739,0,1,1,-2.739,0A2.739,2.739,0,1,1,2.739,0\" stroke=\"#e45756\" stroke-width=\"2\" opacity=\"0.7\"/><path aria-label=\"Horsepower: 70; Miles_per_Gallon: 34.5; Origin: USA\" role=\"graphics-symbol\" aria-roledescription=\"point\" transform=\"translate(116.66666666666667,124.00000000000003)\" d=\"M2.739,0A2.739,2.739,0,1,1,-2.739,0A2.739,2.739,0,1,1,2.739,0\" stroke=\"#e45756\" stroke-width=\"2\" opacity=\"0.7\"/><path aria-label=\"Horsepower: 65; Miles_per_Gallon: 31.8; Origin: Japan\" role=\"graphics-symbol\" aria-roledescription=\"point\" transform=\"translate(108.33333333333333,145.6)\" d=\"M2.739,0A2.739,2.739,0,1,1,-2.739,0A2.739,2.739,0,1,1,2.739,0\" stroke=\"#f58518\" stroke-width=\"2\" opacity=\"0.7\"/><path aria-label=\"Horsepower: 69; Miles_per_Gallon: 37.3; Origin: Europe\" role=\"graphics-symbol\" aria-roledescription=\"point\" transform=\"translate(114.99999999999999,101.6)\" d=\"M2.739,0A2.739,2.739,0,1,1,-2.739,0A2.739,2.739,0,1,1,2.739,0\" stroke=\"#4c78a8\" stroke-width=\"2\" opacity=\"0.7\"/><path aria-label=\"Horsepower: 90; Miles_per_Gallon: 28.4; Origin: USA\" role=\"graphics-symbol\" aria-roledescription=\"point\" transform=\"translate(150,172.8)\" d=\"M2.739,0A2.739,2.739,0,1,1,-2.739,0A2.739,2.739,0,1,1,2.739,0\" stroke=\"#e45756\" stroke-width=\"2\" opacity=\"0.7\"/><path aria-label=\"Horsepower: 115; Miles_per_Gallon: 28.8; Origin: USA\" role=\"graphics-symbol\" aria-roledescription=\"point\" transform=\"translate(191.66666666666669,169.59999999999997)\" d=\"M2.739,0A2.739,2.739,0,1,1,-2.739,0A2.739,2.739,0,1,1,2.739,0\" stroke=\"#e45756\" stroke-width=\"2\" opacity=\"0.7\"/><path aria-label=\"Horsepower: 115; Miles_per_Gallon: 26.8; Origin: USA\" role=\"graphics-symbol\" aria-roledescription=\"point\" transform=\"translate(191.66666666666669,185.6)\" d=\"M2.739,0A2.739,2.739,0,1,1,-2.739,0A2.739,2.739,0,1,1,2.739,0\" stroke=\"#e45756\" stroke-width=\"2\" opacity=\"0.7\"/><path aria-label=\"Horsepower: 90; Miles_per_Gallon: 33.5; Origin: USA\" role=\"graphics-symbol\" aria-roledescription=\"point\" transform=\"translate(150,131.99999999999997)\" d=\"M2.739,0A2.739,2.739,0,1,1,-2.739,0A2.739,2.739,0,1,1,2.739,0\" stroke=\"#e45756\" stroke-width=\"2\" opacity=\"0.7\"/><path aria-label=\"Horsepower: 76; Miles_per_Gallon: 41.5; Origin: Europe\" role=\"graphics-symbol\" aria-roledescription=\"point\" transform=\"translate(126.66666666666666,68.00000000000001)\" d=\"M2.739,0A2.739,2.739,0,1,1,-2.739,0A2.739,2.739,0,1,1,2.739,0\" stroke=\"#4c78a8\" stroke-width=\"2\" opacity=\"0.7\"/><path aria-label=\"Horsepower: 60; Miles_per_Gallon: 38.1; Origin: Japan\" role=\"graphics-symbol\" aria-roledescription=\"point\" transform=\"translate(100,95.19999999999999)\" d=\"M2.739,0A2.739,2.739,0,1,1,-2.739,0A2.739,2.739,0,1,1,2.739,0\" stroke=\"#f58518\" stroke-width=\"2\" opacity=\"0.7\"/><path aria-label=\"Horsepower: 70; Miles_per_Gallon: 32.1; Origin: USA\" role=\"graphics-symbol\" aria-roledescription=\"point\" transform=\"translate(116.66666666666667,143.2)\" d=\"M2.739,0A2.739,2.739,0,1,1,-2.739,0A2.739,2.739,0,1,1,2.739,0\" stroke=\"#e45756\" stroke-width=\"2\" opacity=\"0.7\"/><path aria-label=\"Horsepower: 65; Miles_per_Gallon: 37.2; Origin: Japan\" role=\"graphics-symbol\" aria-roledescription=\"point\" transform=\"translate(108.33333333333333,102.39999999999996)\" d=\"M2.739,0A2.739,2.739,0,1,1,-2.739,0A2.739,2.739,0,1,1,2.739,0\" stroke=\"#f58518\" stroke-width=\"2\" opacity=\"0.7\"/><path aria-label=\"Horsepower: 90; Miles_per_Gallon: 28; Origin: USA\" role=\"graphics-symbol\" aria-roledescription=\"point\" transform=\"translate(150,175.99999999999997)\" d=\"M2.739,0A2.739,2.739,0,1,1,-2.739,0A2.739,2.739,0,1,1,2.739,0\" stroke=\"#e45756\" stroke-width=\"2\" opacity=\"0.7\"/><path aria-label=\"Horsepower: 88; Miles_per_Gallon: 26.4; Origin: USA\" role=\"graphics-symbol\" aria-roledescription=\"point\" transform=\"translate(146.66666666666666,188.79999999999998)\" d=\"M2.739,0A2.739,2.739,0,1,1,-2.739,0A2.739,2.739,0,1,1,2.739,0\" stroke=\"#e45756\" stroke-width=\"2\" opacity=\"0.7\"/><path aria-label=\"Horsepower: 90; Miles_per_Gallon: 24.3; Origin: USA\" role=\"graphics-symbol\" aria-roledescription=\"point\" transform=\"translate(150,205.6)\" d=\"M2.739,0A2.739,2.739,0,1,1,-2.739,0A2.739,2.739,0,1,1,2.739,0\" stroke=\"#e45756\" stroke-width=\"2\" opacity=\"0.7\"/><path aria-label=\"Horsepower: 90; Miles_per_Gallon: 19.1; Origin: USA\" role=\"graphics-symbol\" aria-roledescription=\"point\" transform=\"translate(150,247.2)\" d=\"M2.739,0A2.739,2.739,0,1,1,-2.739,0A2.739,2.739,0,1,1,2.739,0\" stroke=\"#e45756\" stroke-width=\"2\" opacity=\"0.7\"/><path aria-label=\"Horsepower: 78; Miles_per_Gallon: 34.3; Origin: Europe\" role=\"graphics-symbol\" aria-roledescription=\"point\" transform=\"translate(130,125.60000000000002)\" d=\"M2.739,0A2.739,2.739,0,1,1,-2.739,0A2.739,2.739,0,1,1,2.739,0\" stroke=\"#4c78a8\" stroke-width=\"2\" opacity=\"0.7\"/><path aria-label=\"Horsepower: 90; Miles_per_Gallon: 29.8; Origin: Japan\" role=\"graphics-symbol\" aria-roledescription=\"point\" transform=\"translate(150,161.60000000000002)\" d=\"M2.739,0A2.739,2.739,0,1,1,-2.739,0A2.739,2.739,0,1,1,2.739,0\" stroke=\"#f58518\" stroke-width=\"2\" opacity=\"0.7\"/><path aria-label=\"Horsepower: 75; Miles_per_Gallon: 31.3; Origin: Japan\" role=\"graphics-symbol\" aria-roledescription=\"point\" transform=\"translate(125,149.6)\" d=\"M2.739,0A2.739,2.739,0,1,1,-2.739,0A2.739,2.739,0,1,1,2.739,0\" stroke=\"#f58518\" stroke-width=\"2\" opacity=\"0.7\"/><path aria-label=\"Horsepower: 92; Miles_per_Gallon: 37; Origin: Japan\" role=\"graphics-symbol\" aria-roledescription=\"point\" transform=\"translate(153.33333333333334,104)\" d=\"M2.739,0A2.739,2.739,0,1,1,-2.739,0A2.739,2.739,0,1,1,2.739,0\" stroke=\"#f58518\" stroke-width=\"2\" opacity=\"0.7\"/><path aria-label=\"Horsepower: 75; Miles_per_Gallon: 32.2; Origin: Japan\" role=\"graphics-symbol\" aria-roledescription=\"point\" transform=\"translate(125,142.4)\" d=\"M2.739,0A2.739,2.739,0,1,1,-2.739,0A2.739,2.739,0,1,1,2.739,0\" stroke=\"#f58518\" stroke-width=\"2\" opacity=\"0.7\"/><path aria-label=\"Horsepower: 65; Miles_per_Gallon: 46.6; Origin: Japan\" role=\"graphics-symbol\" aria-roledescription=\"point\" transform=\"translate(108.33333333333333,27.19999999999998)\" d=\"M2.739,0A2.739,2.739,0,1,1,-2.739,0A2.739,2.739,0,1,1,2.739,0\" stroke=\"#f58518\" stroke-width=\"2\" opacity=\"0.7\"/><path aria-label=\"Horsepower: 105; Miles_per_Gallon: 27.9; Origin: USA\" role=\"graphics-symbol\" aria-roledescription=\"point\" transform=\"translate(175,176.8)\" d=\"M2.739,0A2.739,2.739,0,1,1,-2.739,0A2.739,2.739,0,1,1,2.739,0\" stroke=\"#e45756\" stroke-width=\"2\" opacity=\"0.7\"/><path aria-label=\"Horsepower: 65; Miles_per_Gallon: 40.8; Origin: Japan\" role=\"graphics-symbol\" aria-roledescription=\"point\" transform=\"translate(108.33333333333333,73.60000000000002)\" d=\"M2.739,0A2.739,2.739,0,1,1,-2.739,0A2.739,2.739,0,1,1,2.739,0\" stroke=\"#f58518\" stroke-width=\"2\" opacity=\"0.7\"/><path aria-label=\"Horsepower: 48; Miles_per_Gallon: 44.3; Origin: Europe\" role=\"graphics-symbol\" aria-roledescription=\"point\" transform=\"translate(80,45.60000000000004)\" d=\"M2.739,0A2.739,2.739,0,1,1,-2.739,0A2.739,2.739,0,1,1,2.739,0\" stroke=\"#4c78a8\" stroke-width=\"2\" opacity=\"0.7\"/><path aria-label=\"Horsepower: 48; Miles_per_Gallon: 43.4; Origin: Europe\" role=\"graphics-symbol\" aria-roledescription=\"point\" transform=\"translate(80,52.800000000000004)\" d=\"M2.739,0A2.739,2.739,0,1,1,-2.739,0A2.739,2.739,0,1,1,2.739,0\" stroke=\"#4c78a8\" stroke-width=\"2\" opacity=\"0.7\"/><path aria-label=\"Horsepower: 67; Miles_per_Gallon: 36.4; Origin: Europe\" role=\"graphics-symbol\" aria-roledescription=\"point\" transform=\"translate(111.66666666666667,108.80000000000001)\" d=\"M2.739,0A2.739,2.739,0,1,1,-2.739,0A2.739,2.739,0,1,1,2.739,0\" stroke=\"#4c78a8\" stroke-width=\"2\" opacity=\"0.7\"/><path aria-label=\"Horsepower: 67; Miles_per_Gallon: 30; Origin: Europe\" role=\"graphics-symbol\" aria-roledescription=\"point\" transform=\"translate(111.66666666666667,160)\" d=\"M2.739,0A2.739,2.739,0,1,1,-2.739,0A2.739,2.739,0,1,1,2.739,0\" stroke=\"#4c78a8\" stroke-width=\"2\" opacity=\"0.7\"/><path aria-label=\"Horsepower: 67; Miles_per_Gallon: 44.6; Origin: Japan\" role=\"graphics-symbol\" aria-roledescription=\"point\" transform=\"translate(111.66666666666667,43.199999999999996)\" d=\"M2.739,0A2.739,2.739,0,1,1,-2.739,0A2.739,2.739,0,1,1,2.739,0\" stroke=\"#f58518\" stroke-width=\"2\" opacity=\"0.7\"/><path aria-label=\"Horsepower: 67; Miles_per_Gallon: 33.8; Origin: Japan\" role=\"graphics-symbol\" aria-roledescription=\"point\" transform=\"translate(111.66666666666667,129.60000000000002)\" d=\"M2.739,0A2.739,2.739,0,1,1,-2.739,0A2.739,2.739,0,1,1,2.739,0\" stroke=\"#f58518\" stroke-width=\"2\" opacity=\"0.7\"/><path aria-label=\"Horsepower: 62; Miles_per_Gallon: 29.8; Origin: Europe\" role=\"graphics-symbol\" aria-roledescription=\"point\" transform=\"translate(103.33333333333334,161.60000000000002)\" d=\"M2.739,0A2.739,2.739,0,1,1,-2.739,0A2.739,2.739,0,1,1,2.739,0\" stroke=\"#4c78a8\" stroke-width=\"2\" opacity=\"0.7\"/><path aria-label=\"Horsepower: 132; Miles_per_Gallon: 32.7; Origin: Japan\" role=\"graphics-symbol\" aria-roledescription=\"point\" transform=\"translate(220.00000000000003,138.39999999999998)\" d=\"M2.739,0A2.739,2.739,0,1,1,-2.739,0A2.739,2.739,0,1,1,2.739,0\" stroke=\"#f58518\" stroke-width=\"2\" opacity=\"0.7\"/><path aria-label=\"Horsepower: 100; Miles_per_Gallon: 23.7; Origin: Japan\" role=\"graphics-symbol\" aria-roledescription=\"point\" transform=\"translate(166.66666666666669,210.4)\" d=\"M2.739,0A2.739,2.739,0,1,1,-2.739,0A2.739,2.739,0,1,1,2.739,0\" stroke=\"#f58518\" stroke-width=\"2\" opacity=\"0.7\"/><path aria-label=\"Horsepower: 88; Miles_per_Gallon: 35; Origin: Europe\" role=\"graphics-symbol\" aria-roledescription=\"point\" transform=\"translate(146.66666666666666,120.00000000000001)\" d=\"M2.739,0A2.739,2.739,0,1,1,-2.739,0A2.739,2.739,0,1,1,2.739,0\" stroke=\"#4c78a8\" stroke-width=\"2\" opacity=\"0.7\"/><path aria-label=\"Horsepower: 72; Miles_per_Gallon: 32.4; Origin: Japan\" role=\"graphics-symbol\" aria-roledescription=\"point\" transform=\"translate(120,140.79999999999998)\" d=\"M2.739,0A2.739,2.739,0,1,1,-2.739,0A2.739,2.739,0,1,1,2.739,0\" stroke=\"#f58518\" stroke-width=\"2\" opacity=\"0.7\"/><path aria-label=\"Horsepower: 84; Miles_per_Gallon: 27.2; Origin: USA\" role=\"graphics-symbol\" aria-roledescription=\"point\" transform=\"translate(140,182.39999999999998)\" d=\"M2.739,0A2.739,2.739,0,1,1,-2.739,0A2.739,2.739,0,1,1,2.739,0\" stroke=\"#e45756\" stroke-width=\"2\" opacity=\"0.7\"/><path aria-label=\"Horsepower: 84; Miles_per_Gallon: 26.6; Origin: USA\" role=\"graphics-symbol\" aria-roledescription=\"point\" transform=\"translate(140,187.2)\" d=\"M2.739,0A2.739,2.739,0,1,1,-2.739,0A2.739,2.739,0,1,1,2.739,0\" stroke=\"#e45756\" stroke-width=\"2\" opacity=\"0.7\"/><path aria-label=\"Horsepower: 92; Miles_per_Gallon: 25.8; Origin: USA\" role=\"graphics-symbol\" aria-roledescription=\"point\" transform=\"translate(153.33333333333334,193.6)\" d=\"M2.739,0A2.739,2.739,0,1,1,-2.739,0A2.739,2.739,0,1,1,2.739,0\" stroke=\"#e45756\" stroke-width=\"2\" opacity=\"0.7\"/><path aria-label=\"Horsepower: 110; Miles_per_Gallon: 23.5; Origin: USA\" role=\"graphics-symbol\" aria-roledescription=\"point\" transform=\"translate(183.33333333333331,212)\" d=\"M2.739,0A2.739,2.739,0,1,1,-2.739,0A2.739,2.739,0,1,1,2.739,0\" stroke=\"#e45756\" stroke-width=\"2\" opacity=\"0.7\"/><path aria-label=\"Horsepower: 84; Miles_per_Gallon: 30; Origin: USA\" role=\"graphics-symbol\" aria-roledescription=\"point\" transform=\"translate(140,160)\" d=\"M2.739,0A2.739,2.739,0,1,1,-2.739,0A2.739,2.739,0,1,1,2.739,0\" stroke=\"#e45756\" stroke-width=\"2\" opacity=\"0.7\"/><path aria-label=\"Horsepower: 58; Miles_per_Gallon: 39.1; Origin: Japan\" role=\"graphics-symbol\" aria-roledescription=\"point\" transform=\"translate(96.66666666666667,87.19999999999999)\" d=\"M2.739,0A2.739,2.739,0,1,1,-2.739,0A2.739,2.739,0,1,1,2.739,0\" stroke=\"#f58518\" stroke-width=\"2\" opacity=\"0.7\"/><path aria-label=\"Horsepower: 64; Miles_per_Gallon: 39; Origin: USA\" role=\"graphics-symbol\" aria-roledescription=\"point\" transform=\"translate(106.66666666666667,87.99999999999999)\" d=\"M2.739,0A2.739,2.739,0,1,1,-2.739,0A2.739,2.739,0,1,1,2.739,0\" stroke=\"#e45756\" stroke-width=\"2\" opacity=\"0.7\"/><path aria-label=\"Horsepower: 60; Miles_per_Gallon: 35.1; Origin: Japan\" role=\"graphics-symbol\" aria-roledescription=\"point\" transform=\"translate(100,119.19999999999997)\" d=\"M2.739,0A2.739,2.739,0,1,1,-2.739,0A2.739,2.739,0,1,1,2.739,0\" stroke=\"#f58518\" stroke-width=\"2\" opacity=\"0.7\"/><path aria-label=\"Horsepower: 67; Miles_per_Gallon: 32.3; Origin: Japan\" role=\"graphics-symbol\" aria-roledescription=\"point\" transform=\"translate(111.66666666666667,141.60000000000002)\" d=\"M2.739,0A2.739,2.739,0,1,1,-2.739,0A2.739,2.739,0,1,1,2.739,0\" stroke=\"#f58518\" stroke-width=\"2\" opacity=\"0.7\"/><path aria-label=\"Horsepower: 65; Miles_per_Gallon: 37; Origin: Japan\" role=\"graphics-symbol\" aria-roledescription=\"point\" transform=\"translate(108.33333333333333,104)\" d=\"M2.739,0A2.739,2.739,0,1,1,-2.739,0A2.739,2.739,0,1,1,2.739,0\" stroke=\"#f58518\" stroke-width=\"2\" opacity=\"0.7\"/><path aria-label=\"Horsepower: 62; Miles_per_Gallon: 37.7; Origin: Japan\" role=\"graphics-symbol\" aria-roledescription=\"point\" transform=\"translate(103.33333333333334,98.4)\" d=\"M2.739,0A2.739,2.739,0,1,1,-2.739,0A2.739,2.739,0,1,1,2.739,0\" stroke=\"#f58518\" stroke-width=\"2\" opacity=\"0.7\"/><path aria-label=\"Horsepower: 68; Miles_per_Gallon: 34.1; Origin: Japan\" role=\"graphics-symbol\" aria-roledescription=\"point\" transform=\"translate(113.33333333333333,127.19999999999997)\" d=\"M2.739,0A2.739,2.739,0,1,1,-2.739,0A2.739,2.739,0,1,1,2.739,0\" stroke=\"#f58518\" stroke-width=\"2\" opacity=\"0.7\"/><path aria-label=\"Horsepower: 63; Miles_per_Gallon: 34.7; Origin: USA\" role=\"graphics-symbol\" aria-roledescription=\"point\" transform=\"translate(105,122.39999999999998)\" d=\"M2.739,0A2.739,2.739,0,1,1,-2.739,0A2.739,2.739,0,1,1,2.739,0\" stroke=\"#e45756\" stroke-width=\"2\" opacity=\"0.7\"/><path aria-label=\"Horsepower: 65; Miles_per_Gallon: 34.4; Origin: USA\" role=\"graphics-symbol\" aria-roledescription=\"point\" transform=\"translate(108.33333333333333,124.80000000000003)\" d=\"M2.739,0A2.739,2.739,0,1,1,-2.739,0A2.739,2.739,0,1,1,2.739,0\" stroke=\"#e45756\" stroke-width=\"2\" opacity=\"0.7\"/><path aria-label=\"Horsepower: 65; Miles_per_Gallon: 29.9; Origin: USA\" role=\"graphics-symbol\" aria-roledescription=\"point\" transform=\"translate(108.33333333333333,160.8)\" d=\"M2.739,0A2.739,2.739,0,1,1,-2.739,0A2.739,2.739,0,1,1,2.739,0\" stroke=\"#e45756\" stroke-width=\"2\" opacity=\"0.7\"/><path aria-label=\"Horsepower: 74; Miles_per_Gallon: 33; Origin: Europe\" role=\"graphics-symbol\" aria-roledescription=\"point\" transform=\"translate(123.33333333333334,136)\" d=\"M2.739,0A2.739,2.739,0,1,1,-2.739,0A2.739,2.739,0,1,1,2.739,0\" stroke=\"#4c78a8\" stroke-width=\"2\" opacity=\"0.7\"/><path aria-label=\"Horsepower: 75; Miles_per_Gallon: 33.7; Origin: Japan\" role=\"graphics-symbol\" aria-roledescription=\"point\" transform=\"translate(125,130.39999999999998)\" d=\"M2.739,0A2.739,2.739,0,1,1,-2.739,0A2.739,2.739,0,1,1,2.739,0\" stroke=\"#f58518\" stroke-width=\"2\" opacity=\"0.7\"/><path aria-label=\"Horsepower: 75; Miles_per_Gallon: 32.4; Origin: Japan\" role=\"graphics-symbol\" aria-roledescription=\"point\" transform=\"translate(125,140.79999999999998)\" d=\"M2.739,0A2.739,2.739,0,1,1,-2.739,0A2.739,2.739,0,1,1,2.739,0\" stroke=\"#f58518\" stroke-width=\"2\" opacity=\"0.7\"/><path aria-label=\"Horsepower: 100; Miles_per_Gallon: 32.9; Origin: Japan\" role=\"graphics-symbol\" aria-roledescription=\"point\" transform=\"translate(166.66666666666669,136.80000000000004)\" d=\"M2.739,0A2.739,2.739,0,1,1,-2.739,0A2.739,2.739,0,1,1,2.739,0\" stroke=\"#f58518\" stroke-width=\"2\" opacity=\"0.7\"/><path aria-label=\"Horsepower: 74; Miles_per_Gallon: 31.6; Origin: Japan\" role=\"graphics-symbol\" aria-roledescription=\"point\" transform=\"translate(123.33333333333334,147.2)\" d=\"M2.739,0A2.739,2.739,0,1,1,-2.739,0A2.739,2.739,0,1,1,2.739,0\" stroke=\"#f58518\" stroke-width=\"2\" opacity=\"0.7\"/><path aria-label=\"Horsepower: 80; Miles_per_Gallon: 28.1; Origin: Europe\" role=\"graphics-symbol\" aria-roledescription=\"point\" transform=\"translate(133.33333333333331,175.2)\" d=\"M2.739,0A2.739,2.739,0,1,1,-2.739,0A2.739,2.739,0,1,1,2.739,0\" stroke=\"#4c78a8\" stroke-width=\"2\" opacity=\"0.7\"/><path aria-label=\"Horsepower: 76; Miles_per_Gallon: 30.7; Origin: Europe\" role=\"graphics-symbol\" aria-roledescription=\"point\" transform=\"translate(126.66666666666666,154.4)\" d=\"M2.739,0A2.739,2.739,0,1,1,-2.739,0A2.739,2.739,0,1,1,2.739,0\" stroke=\"#4c78a8\" stroke-width=\"2\" opacity=\"0.7\"/><path aria-label=\"Horsepower: 116; Miles_per_Gallon: 25.4; Origin: Japan\" role=\"graphics-symbol\" aria-roledescription=\"point\" transform=\"translate(193.33333333333334,196.8)\" d=\"M2.739,0A2.739,2.739,0,1,1,-2.739,0A2.739,2.739,0,1,1,2.739,0\" stroke=\"#f58518\" stroke-width=\"2\" opacity=\"0.7\"/><path aria-label=\"Horsepower: 120; Miles_per_Gallon: 24.2; Origin: Japan\" role=\"graphics-symbol\" aria-roledescription=\"point\" transform=\"translate(200,206.4)\" d=\"M2.739,0A2.739,2.739,0,1,1,-2.739,0A2.739,2.739,0,1,1,2.739,0\" stroke=\"#f58518\" stroke-width=\"2\" opacity=\"0.7\"/><path aria-label=\"Horsepower: 110; Miles_per_Gallon: 22.4; Origin: USA\" role=\"graphics-symbol\" aria-roledescription=\"point\" transform=\"translate(183.33333333333331,220.8)\" d=\"M2.739,0A2.739,2.739,0,1,1,-2.739,0A2.739,2.739,0,1,1,2.739,0\" stroke=\"#e45756\" stroke-width=\"2\" opacity=\"0.7\"/><path aria-label=\"Horsepower: 105; Miles_per_Gallon: 26.6; Origin: USA\" role=\"graphics-symbol\" aria-roledescription=\"point\" transform=\"translate(175,187.2)\" d=\"M2.739,0A2.739,2.739,0,1,1,-2.739,0A2.739,2.739,0,1,1,2.739,0\" stroke=\"#e45756\" stroke-width=\"2\" opacity=\"0.7\"/><path aria-label=\"Horsepower: 88; Miles_per_Gallon: 20.2; Origin: USA\" role=\"graphics-symbol\" aria-roledescription=\"point\" transform=\"translate(146.66666666666666,238.40000000000003)\" d=\"M2.739,0A2.739,2.739,0,1,1,-2.739,0A2.739,2.739,0,1,1,2.739,0\" stroke=\"#e45756\" stroke-width=\"2\" opacity=\"0.7\"/><path aria-label=\"Horsepower: 85; Miles_per_Gallon: 17.6; Origin: USA\" role=\"graphics-symbol\" aria-roledescription=\"point\" transform=\"translate(141.66666666666669,259.2)\" d=\"M2.739,0A2.739,2.739,0,1,1,-2.739,0A2.739,2.739,0,1,1,2.739,0\" stroke=\"#e45756\" stroke-width=\"2\" opacity=\"0.7\"/><path aria-label=\"Horsepower: 88; Miles_per_Gallon: 28; Origin: USA\" role=\"graphics-symbol\" aria-roledescription=\"point\" transform=\"translate(146.66666666666666,175.99999999999997)\" d=\"M2.739,0A2.739,2.739,0,1,1,-2.739,0A2.739,2.739,0,1,1,2.739,0\" stroke=\"#e45756\" stroke-width=\"2\" opacity=\"0.7\"/><path aria-label=\"Horsepower: 88; Miles_per_Gallon: 27; Origin: USA\" role=\"graphics-symbol\" aria-roledescription=\"point\" transform=\"translate(146.66666666666666,184)\" d=\"M2.739,0A2.739,2.739,0,1,1,-2.739,0A2.739,2.739,0,1,1,2.739,0\" stroke=\"#e45756\" stroke-width=\"2\" opacity=\"0.7\"/><path aria-label=\"Horsepower: 88; Miles_per_Gallon: 34; Origin: USA\" role=\"graphics-symbol\" aria-roledescription=\"point\" transform=\"translate(146.66666666666666,127.99999999999999)\" d=\"M2.739,0A2.739,2.739,0,1,1,-2.739,0A2.739,2.739,0,1,1,2.739,0\" stroke=\"#e45756\" stroke-width=\"2\" opacity=\"0.7\"/><path aria-label=\"Horsepower: 85; Miles_per_Gallon: 31; Origin: USA\" role=\"graphics-symbol\" aria-roledescription=\"point\" transform=\"translate(141.66666666666669,152)\" d=\"M2.739,0A2.739,2.739,0,1,1,-2.739,0A2.739,2.739,0,1,1,2.739,0\" stroke=\"#e45756\" stroke-width=\"2\" opacity=\"0.7\"/><path aria-label=\"Horsepower: 84; Miles_per_Gallon: 29; Origin: USA\" role=\"graphics-symbol\" aria-roledescription=\"point\" transform=\"translate(140,168.00000000000003)\" d=\"M2.739,0A2.739,2.739,0,1,1,-2.739,0A2.739,2.739,0,1,1,2.739,0\" stroke=\"#e45756\" stroke-width=\"2\" opacity=\"0.7\"/><path aria-label=\"Horsepower: 90; Miles_per_Gallon: 27; Origin: USA\" role=\"graphics-symbol\" aria-roledescription=\"point\" transform=\"translate(150,184)\" d=\"M2.739,0A2.739,2.739,0,1,1,-2.739,0A2.739,2.739,0,1,1,2.739,0\" stroke=\"#e45756\" stroke-width=\"2\" opacity=\"0.7\"/><path aria-label=\"Horsepower: 92; Miles_per_Gallon: 24; Origin: USA\" role=\"graphics-symbol\" aria-roledescription=\"point\" transform=\"translate(153.33333333333334,208)\" d=\"M2.739,0A2.739,2.739,0,1,1,-2.739,0A2.739,2.739,0,1,1,2.739,0\" stroke=\"#e45756\" stroke-width=\"2\" opacity=\"0.7\"/><path aria-label=\"Horsepower: 74; Miles_per_Gallon: 36; Origin: Europe\" role=\"graphics-symbol\" aria-roledescription=\"point\" transform=\"translate(123.33333333333334,112.00000000000001)\" d=\"M2.739,0A2.739,2.739,0,1,1,-2.739,0A2.739,2.739,0,1,1,2.739,0\" stroke=\"#4c78a8\" stroke-width=\"2\" opacity=\"0.7\"/><path aria-label=\"Horsepower: 68; Miles_per_Gallon: 37; Origin: Japan\" role=\"graphics-symbol\" aria-roledescription=\"point\" transform=\"translate(113.33333333333333,104)\" d=\"M2.739,0A2.739,2.739,0,1,1,-2.739,0A2.739,2.739,0,1,1,2.739,0\" stroke=\"#f58518\" stroke-width=\"2\" opacity=\"0.7\"/><path aria-label=\"Horsepower: 68; Miles_per_Gallon: 31; Origin: Japan\" role=\"graphics-symbol\" aria-roledescription=\"point\" transform=\"translate(113.33333333333333,152)\" d=\"M2.739,0A2.739,2.739,0,1,1,-2.739,0A2.739,2.739,0,1,1,2.739,0\" stroke=\"#f58518\" stroke-width=\"2\" opacity=\"0.7\"/><path aria-label=\"Horsepower: 63; Miles_per_Gallon: 38; Origin: USA\" role=\"graphics-symbol\" aria-roledescription=\"point\" transform=\"translate(105,96)\" d=\"M2.739,0A2.739,2.739,0,1,1,-2.739,0A2.739,2.739,0,1,1,2.739,0\" stroke=\"#e45756\" stroke-width=\"2\" opacity=\"0.7\"/><path aria-label=\"Horsepower: 70; Miles_per_Gallon: 36; Origin: USA\" role=\"graphics-symbol\" aria-roledescription=\"point\" transform=\"translate(116.66666666666667,112.00000000000001)\" d=\"M2.739,0A2.739,2.739,0,1,1,-2.739,0A2.739,2.739,0,1,1,2.739,0\" stroke=\"#e45756\" stroke-width=\"2\" opacity=\"0.7\"/><path aria-label=\"Horsepower: 88; Miles_per_Gallon: 36; Origin: Japan\" role=\"graphics-symbol\" aria-roledescription=\"point\" transform=\"translate(146.66666666666666,112.00000000000001)\" d=\"M2.739,0A2.739,2.739,0,1,1,-2.739,0A2.739,2.739,0,1,1,2.739,0\" stroke=\"#f58518\" stroke-width=\"2\" opacity=\"0.7\"/><path aria-label=\"Horsepower: 75; Miles_per_Gallon: 36; Origin: Japan\" role=\"graphics-symbol\" aria-roledescription=\"point\" transform=\"translate(125,112.00000000000001)\" d=\"M2.739,0A2.739,2.739,0,1,1,-2.739,0A2.739,2.739,0,1,1,2.739,0\" stroke=\"#f58518\" stroke-width=\"2\" opacity=\"0.7\"/><path aria-label=\"Horsepower: 70; Miles_per_Gallon: 34; Origin: Japan\" role=\"graphics-symbol\" aria-roledescription=\"point\" transform=\"translate(116.66666666666667,127.99999999999999)\" d=\"M2.739,0A2.739,2.739,0,1,1,-2.739,0A2.739,2.739,0,1,1,2.739,0\" stroke=\"#f58518\" stroke-width=\"2\" opacity=\"0.7\"/><path aria-label=\"Horsepower: 67; Miles_per_Gallon: 38; Origin: Japan\" role=\"graphics-symbol\" aria-roledescription=\"point\" transform=\"translate(111.66666666666667,96)\" d=\"M2.739,0A2.739,2.739,0,1,1,-2.739,0A2.739,2.739,0,1,1,2.739,0\" stroke=\"#f58518\" stroke-width=\"2\" opacity=\"0.7\"/><path aria-label=\"Horsepower: 67; Miles_per_Gallon: 32; Origin: Japan\" role=\"graphics-symbol\" aria-roledescription=\"point\" transform=\"translate(111.66666666666667,144)\" d=\"M2.739,0A2.739,2.739,0,1,1,-2.739,0A2.739,2.739,0,1,1,2.739,0\" stroke=\"#f58518\" stroke-width=\"2\" opacity=\"0.7\"/><path aria-label=\"Horsepower: 67; Miles_per_Gallon: 38; Origin: Japan\" role=\"graphics-symbol\" aria-roledescription=\"point\" transform=\"translate(111.66666666666667,96)\" d=\"M2.739,0A2.739,2.739,0,1,1,-2.739,0A2.739,2.739,0,1,1,2.739,0\" stroke=\"#f58518\" stroke-width=\"2\" opacity=\"0.7\"/><path aria-label=\"Horsepower: 110; Miles_per_Gallon: 25; Origin: USA\" role=\"graphics-symbol\" aria-roledescription=\"point\" transform=\"translate(183.33333333333331,200)\" d=\"M2.739,0A2.739,2.739,0,1,1,-2.739,0A2.739,2.739,0,1,1,2.739,0\" stroke=\"#e45756\" stroke-width=\"2\" opacity=\"0.7\"/><path aria-label=\"Horsepower: 85; Miles_per_Gallon: 38; Origin: USA\" role=\"graphics-symbol\" aria-roledescription=\"point\" transform=\"translate(141.66666666666669,96)\" d=\"M2.739,0A2.739,2.739,0,1,1,-2.739,0A2.739,2.739,0,1,1,2.739,0\" stroke=\"#e45756\" stroke-width=\"2\" opacity=\"0.7\"/><path aria-label=\"Horsepower: 92; Miles_per_Gallon: 26; Origin: USA\" role=\"graphics-symbol\" aria-roledescription=\"point\" transform=\"translate(153.33333333333334,192)\" d=\"M2.739,0A2.739,2.739,0,1,1,-2.739,0A2.739,2.739,0,1,1,2.739,0\" stroke=\"#e45756\" stroke-width=\"2\" opacity=\"0.7\"/><path aria-label=\"Horsepower: 112; Miles_per_Gallon: 22; Origin: USA\" role=\"graphics-symbol\" aria-roledescription=\"point\" transform=\"translate(186.66666666666666,224.00000000000003)\" d=\"M2.739,0A2.739,2.739,0,1,1,-2.739,0A2.739,2.739,0,1,1,2.739,0\" stroke=\"#e45756\" stroke-width=\"2\" opacity=\"0.7\"/><path aria-label=\"Horsepower: 96; Miles_per_Gallon: 32; Origin: Japan\" role=\"graphics-symbol\" aria-roledescription=\"point\" transform=\"translate(160,144)\" d=\"M2.739,0A2.739,2.739,0,1,1,-2.739,0A2.739,2.739,0,1,1,2.739,0\" stroke=\"#f58518\" stroke-width=\"2\" opacity=\"0.7\"/><path aria-label=\"Horsepower: 84; Miles_per_Gallon: 36; Origin: USA\" role=\"graphics-symbol\" aria-roledescription=\"point\" transform=\"translate(140,112.00000000000001)\" d=\"M2.739,0A2.739,2.739,0,1,1,-2.739,0A2.739,2.739,0,1,1,2.739,0\" stroke=\"#e45756\" stroke-width=\"2\" opacity=\"0.7\"/><path aria-label=\"Horsepower: 90; Miles_per_Gallon: 27; Origin: USA\" role=\"graphics-symbol\" aria-roledescription=\"point\" transform=\"translate(150,184)\" d=\"M2.739,0A2.739,2.739,0,1,1,-2.739,0A2.739,2.739,0,1,1,2.739,0\" stroke=\"#e45756\" stroke-width=\"2\" opacity=\"0.7\"/><path aria-label=\"Horsepower: 86; Miles_per_Gallon: 27; Origin: USA\" role=\"graphics-symbol\" aria-roledescription=\"point\" transform=\"translate(143.33333333333334,184)\" d=\"M2.739,0A2.739,2.739,0,1,1,-2.739,0A2.739,2.739,0,1,1,2.739,0\" stroke=\"#e45756\" stroke-width=\"2\" opacity=\"0.7\"/><path aria-label=\"Horsepower: 52; Miles_per_Gallon: 44; Origin: Europe\" role=\"graphics-symbol\" aria-roledescription=\"point\" transform=\"translate(86.66666666666667,48)\" d=\"M2.739,0A2.739,2.739,0,1,1,-2.739,0A2.739,2.739,0,1,1,2.739,0\" stroke=\"#4c78a8\" stroke-width=\"2\" opacity=\"0.7\"/><path aria-label=\"Horsepower: 84; Miles_per_Gallon: 32; Origin: USA\" role=\"graphics-symbol\" aria-roledescription=\"point\" transform=\"translate(140,144)\" d=\"M2.739,0A2.739,2.739,0,1,1,-2.739,0A2.739,2.739,0,1,1,2.739,0\" stroke=\"#e45756\" stroke-width=\"2\" opacity=\"0.7\"/><path aria-label=\"Horsepower: 79; Miles_per_Gallon: 28; Origin: USA\" role=\"graphics-symbol\" aria-roledescription=\"point\" transform=\"translate(131.66666666666666,175.99999999999997)\" d=\"M2.739,0A2.739,2.739,0,1,1,-2.739,0A2.739,2.739,0,1,1,2.739,0\" stroke=\"#e45756\" stroke-width=\"2\" opacity=\"0.7\"/><path aria-label=\"Horsepower: 82; Miles_per_Gallon: 31; Origin: USA\" role=\"graphics-symbol\" aria-roledescription=\"point\" transform=\"translate(136.66666666666666,152)\" d=\"M2.739,0A2.739,2.739,0,1,1,-2.739,0A2.739,2.739,0,1,1,2.739,0\" stroke=\"#e45756\" stroke-width=\"2\" opacity=\"0.7\"/></g><g class=\"mark-group role-legend\" role=\"graphics-symbol\" aria-roledescription=\"legend\" aria-label=\"Symbol legend titled 'Origin' for stroke color with 3 values: Europe, Japan, USA\"><g transform=\"translate(418,0)\"><path class=\"background\" aria-hidden=\"true\" d=\"M0,0h49v61h-49Z\" pointer-events=\"none\"/><g><g class=\"mark-group role-legend-entry\"><g transform=\"translate(0,16)\"><path class=\"background\" aria-hidden=\"true\" d=\"M0,0h0v0h0Z\" pointer-events=\"none\"/><g><g class=\"mark-group role-scope\" role=\"graphics-object\" aria-roledescription=\"group mark container\"><g transform=\"translate(0,0)\"><path class=\"background\" aria-hidden=\"true\" d=\"M0,0h48.24609375v12.5h-48.24609375Z\" pointer-events=\"none\" opacity=\"1\"/><g><g class=\"mark-symbol role-legend-symbol\" pointer-events=\"none\"><path transform=\"translate(6,6)\" d=\"M5,0A5,5,0,1,1,-5,0A5,5,0,1,1,5,0\" stroke=\"#4c78a8\" stroke-width=\"1.5\" opacity=\"0.7\"/></g><g class=\"mark-text role-legend-label\" pointer-events=\"none\"><text text-anchor=\"start\" transform=\"translate(16,9)\" font-family=\"sans-serif\" font-size=\"10px\" fill=\"#000\" opacity=\"1\">Europe</text></g></g><path class=\"foreground\" aria-hidden=\"true\" d=\"\" pointer-events=\"none\" display=\"none\"/></g><g transform=\"translate(0,16)\"><path class=\"background\" aria-hidden=\"true\" d=\"M0,0h48.24609375v12.5h-48.24609375Z\" pointer-events=\"none\" opacity=\"1\"/><g><g class=\"mark-symbol role-legend-symbol\" pointer-events=\"none\"><path transform=\"translate(6,6)\" d=\"M5,0A5,5,0,1,1,-5,0A5,5,0,1,1,5,0\" stroke=\"#f58518\" stroke-width=\"1.5\" opacity=\"0.7\"/></g><g class=\"mark-text role-legend-label\" pointer-events=\"none\"><text text-anchor=\"start\" transform=\"translate(16,9)\" font-family=\"sans-serif\" font-size=\"10px\" fill=\"#000\" opacity=\"1\">Japan</text></g></g><path class=\"foreground\" aria-hidden=\"true\" d=\"\" pointer-events=\"none\" display=\"none\"/></g><g transform=\"translate(0,32)\"><path class=\"background\" aria-hidden=\"true\" d=\"M0,0h48.24609375v12.5h-48.24609375Z\" pointer-events=\"none\" opacity=\"1\"/><g><g class=\"mark-symbol role-legend-symbol\" pointer-events=\"none\"><path transform=\"translate(6,6)\" d=\"M5,0A5,5,0,1,1,-5,0A5,5,0,1,1,5,0\" stroke=\"#e45756\" stroke-width=\"1.5\" opacity=\"0.7\"/></g><g class=\"mark-text role-legend-label\" pointer-events=\"none\"><text text-anchor=\"start\" transform=\"translate(16,9)\" font-family=\"sans-serif\" font-size=\"10px\" fill=\"#000\" opacity=\"1\">USA</text></g></g><path class=\"foreground\" aria-hidden=\"true\" d=\"\" pointer-events=\"none\" display=\"none\"/></g></g></g><path class=\"foreground\" aria-hidden=\"true\" d=\"\" pointer-events=\"none\" display=\"none\"/></g></g><g class=\"mark-text role-legend-title\" pointer-events=\"none\"><text text-anchor=\"start\" transform=\"translate(0,9)\" font-family=\"sans-serif\" font-size=\"11px\" font-weight=\"bold\" fill=\"#000\" opacity=\"1\">Origin</text></g></g><path class=\"foreground\" aria-hidden=\"true\" d=\"\" pointer-events=\"none\" display=\"none\"/></g></g></g><path class=\"foreground\" aria-hidden=\"true\" d=\"\" display=\"none\"/></g></g></g></svg>"
      ],
      "text/plain": [
       "@vlplot(\n",
       "    width=400,\n",
       "    height=400,\n",
       "    mark=\"point\",\n",
       "    encoding={\n",
       "        x={\n",
       "            field=\"Horsepower\"\n",
       "        },\n",
       "        y={\n",
       "            field=\"Miles_per_Gallon\"\n",
       "        },\n",
       "        color={\n",
       "            field=\"Origin\"\n",
       "        }\n",
       "    },\n",
       "    data={\n",
       "        values=...\n",
       "    }\n",
       ")"
      ]
     },
     "metadata": {},
     "output_type": "display_data"
    }
   ],
   "source": [
    "using VegaLite, VegaDatasets\n",
    "\n",
    "dataset(\"cars\") |>\n",
    "@vlplot(\n",
    "    :point,\n",
    "    x=:Horsepower,\n",
    "    y=:Miles_per_Gallon,\n",
    "    color=:Origin,\n",
    "    width=400,\n",
    "    height=400\n",
    ")"
   ]
  },
  {
   "cell_type": "markdown",
   "id": "7654b55a",
   "metadata": {
    "slideshow": {
     "slide_type": "subslide"
    }
   },
   "source": [
    "### Package.toml\n",
    "\n",
    "* Julia environments are managed and described using in a format called TOML (Tom's obvious markup language) in a file Project.toml\n",
    "* This file will be created and updated as needed by `Pkg` as we run `Pkg` commands\n",
    "* Let's see what our new Project.toml looks like:"
   ]
  },
  {
   "cell_type": "code",
   "execution_count": 34,
   "id": "7ab61498",
   "metadata": {
    "slideshow": {
     "slide_type": "fragment"
    }
   },
   "outputs": [
    {
     "name": "stdout",
     "output_type": "stream",
     "text": [
      "[deps]\n",
      "VegaDatasets = \"0ae4a718-28b7-58ec-9efb-cded64d6d5b4\"\n",
      "VegaLite = \"112f6efa-9a02-5b7d-90c0-432ed331239a\"\n",
      "\n"
     ]
    }
   ],
   "source": [
    "println(String(read(\"Project.toml\")))"
   ]
  },
  {
   "cell_type": "markdown",
   "id": "e6b93368",
   "metadata": {},
   "source": [
    "* This shows us we have a `[deps]` section with entries for the three packages we installed\n",
    "* Each package line has the `NAME = UUID` syntax\n",
    "* There can be other top level items (not in a section) and other sections\n",
    "* We'll discuss these as they come up"
   ]
  },
  {
   "cell_type": "markdown",
   "id": "6d90a066",
   "metadata": {
    "slideshow": {
     "slide_type": "subslide"
    }
   },
   "source": [
    "### Manifest.toml\n",
    "\n",
    "* Notice that the Project.toml file does not have any information about the version of our installed packages\n",
    "* There is a companion file called Manifest.toml that does have this information\n",
    "* Let's take a look:"
   ]
  },
  {
   "cell_type": "code",
   "execution_count": 35,
   "id": "f4c4b8e1",
   "metadata": {},
   "outputs": [
    {
     "name": "stdout",
     "output_type": "stream",
     "text": [
      "# This file is machine-generated - editing it directly is not advised\n",
      "\n",
      "julia_version = \"1.11.6\"\n",
      "manifest_format = \"2.0\"\n",
      "project_hash = \"933e48d381787bff6d1dc3c57ff3487e8924b34d\"\n",
      "\n",
      "[[deps.ArgTools]]\n",
      "uuid = \"0dad84c5-d112-42e6-8d28-ef12dabb789f\"\n",
      "version = \"1.1.2\"\n",
      "\n",
      "[[deps.Artifacts]]\n",
      "uuid = \"56f22d72-fd6d-98f1-02f0-08ddc0907c33\"\n",
      "version = \"1.11.0\"\n",
      "\n",
      "[[deps.Base64]]\n",
      "uuid = \"2a0f44e3-6c83-55bd-87e4-b1978d98bd5f\"\n",
      "version = \"1.11.0\"\n",
      "\n",
      "[[deps.BufferedStreams]]\n",
      "git-tree-sha1 = \"6863c5b7fc997eadcabdbaf6c5f201dc30032643\"\n",
      "uuid = \"e1450e63-4bb3-523b-b2a4-4ffa8c0fd77d\"\n",
      "version = \"1.2.2\"\n",
      "\n",
      "[[deps.CodecZlib]]\n",
      "deps = [\"TranscodingStreams\", \"Zlib_jll\"]\n",
      "git-tree-sha1 = \"962834c22b66e32aa10f7611c08c8ca4e20749a9\"\n",
      "uuid = \"944b1d66-785c-5afd-91f1-9de20f533193\"\n",
      "version = \"0.7.8\"\n",
      "\n",
      "[[deps.Compat]]\n",
      "deps = [\"TOML\", \"UUIDs\"]\n",
      "git-tree-sha1 = \"0037835448781bb46feb39866934e243886d756a\"\n",
      "uuid = \"34da2185-b29b-5c13-b0c7-acf172513d20\"\n",
      "version = \"4.18.0\"\n",
      "weakdeps = [\"Dates\", \"LinearAlgebra\"]\n",
      "\n",
      "    [deps.Compat.extensions]\n",
      "    CompatLinearAlgebraExt = \"LinearAlgebra\"\n",
      "\n",
      "[[deps.CompilerSupportLibraries_jll]]\n",
      "deps = [\"Artifacts\", \"Libdl\"]\n",
      "uuid = \"e66e0078-7015-5450-92f7-15fbd957f2ae\"\n",
      "version = \"1.1.1+0\"\n",
      "\n",
      "[[deps.ConstructionBase]]\n",
      "git-tree-sha1 = \"b4b092499347b18a015186eae3042f72267106cb\"\n",
      "uuid = \"187b0558-2788-49d3-abe0-74a17ed4e7c9\"\n",
      "version = \"1.6.0\"\n",
      "\n",
      "    [deps.ConstructionBase.extensions]\n",
      "    ConstructionBaseIntervalSetsExt = \"IntervalSets\"\n",
      "    ConstructionBaseLinearAlgebraExt = \"LinearAlgebra\"\n",
      "    ConstructionBaseStaticArraysExt = \"StaticArrays\"\n",
      "\n",
      "    [deps.ConstructionBase.weakdeps]\n",
      "    IntervalSets = \"8197267c-284f-5f27-9208-e0e47529a953\"\n",
      "    LinearAlgebra = \"37e2e46d-f89d-539d-b4ee-838fcccc9c8e\"\n",
      "    StaticArrays = \"90137ffa-7385-5640-81b9-e52037218182\"\n",
      "\n",
      "[[deps.DataAPI]]\n",
      "git-tree-sha1 = \"abe83f3a2f1b857aac70ef8b269080af17764bbe\"\n",
      "uuid = \"9a962f9c-6df0-11e9-0e5d-c546b8b5ee8a\"\n",
      "version = \"1.16.0\"\n",
      "\n",
      "[[deps.DataStructures]]\n",
      "deps = [\"Compat\", \"InteractiveUtils\", \"OrderedCollections\"]\n",
      "git-tree-sha1 = \"4e1fe97fdaed23e9dc21d4d664bea76b65fc50a0\"\n",
      "uuid = \"864edb3b-99cc-5e75-8d2d-829cb0a9cfe8\"\n",
      "version = \"0.18.22\"\n",
      "\n",
      "[[deps.DataValueInterfaces]]\n",
      "git-tree-sha1 = \"bfc1187b79289637fa0ef6d4436ebdfe6905cbd6\"\n",
      "uuid = \"e2d170a0-9d28-54be-80f0-106bbe20a464\"\n",
      "version = \"1.0.0\"\n",
      "\n",
      "[[deps.DataValues]]\n",
      "deps = [\"DataValueInterfaces\", \"Dates\"]\n",
      "git-tree-sha1 = \"d88a19299eba280a6d062e135a43f00323ae70bf\"\n",
      "uuid = \"e7dc6d0d-1eca-5fa6-8ad6-5aecde8b7ea5\"\n",
      "version = \"0.4.13\"\n",
      "\n",
      "[[deps.Dates]]\n",
      "deps = [\"Printf\"]\n",
      "uuid = \"ade2ca70-3891-5945-98fb-dc099432e06a\"\n",
      "version = \"1.11.0\"\n",
      "\n",
      "[[deps.DocStringExtensions]]\n",
      "git-tree-sha1 = \"7442a5dfe1ebb773c29cc2962a8980f47221d76c\"\n",
      "uuid = \"ffbed154-4ef7-542d-bbb7-c09d3a79fcae\"\n",
      "version = \"0.9.5\"\n",
      "\n",
      "[[deps.DoubleFloats]]\n",
      "deps = [\"GenericLinearAlgebra\", \"LinearAlgebra\", \"Polynomials\", \"Printf\", \"Quadmath\", \"Random\", \"Requires\", \"SpecialFunctions\"]\n",
      "git-tree-sha1 = \"1ee9bc92a6b862a5ad556c52a3037249209bec1a\"\n",
      "uuid = \"497a8b3b-efae-58df-a0af-a86822472b78\"\n",
      "version = \"1.4.3\"\n",
      "\n",
      "[[deps.Downloads]]\n",
      "deps = [\"ArgTools\", \"FileWatching\", \"LibCURL\", \"NetworkOptions\"]\n",
      "uuid = \"f43a241f-c20a-4ad4-852c-f6b1247861c6\"\n",
      "version = \"1.6.0\"\n",
      "\n",
      "[[deps.FileIO]]\n",
      "deps = [\"Pkg\", \"Requires\", \"UUIDs\"]\n",
      "git-tree-sha1 = \"b66970a70db13f45b7e57fbda1736e1cf72174ea\"\n",
      "uuid = \"5789e2e9-d7fb-5bc7-8068-2c6fae9b9549\"\n",
      "version = \"1.17.0\"\n",
      "\n",
      "    [deps.FileIO.extensions]\n",
      "    HTTPExt = \"HTTP\"\n",
      "\n",
      "    [deps.FileIO.weakdeps]\n",
      "    HTTP = \"cd3eb016-35fb-5094-929b-558a96fad6f3\"\n",
      "\n",
      "[[deps.FilePaths]]\n",
      "deps = [\"FilePathsBase\", \"MacroTools\", \"Reexport\", \"Requires\"]\n",
      "git-tree-sha1 = \"919d9412dbf53a2e6fe74af62a73ceed0bce0629\"\n",
      "uuid = \"8fc22ac5-c921-52a6-82fd-178b2807b824\"\n",
      "version = \"0.8.3\"\n",
      "\n",
      "[[deps.FilePathsBase]]\n",
      "deps = [\"Compat\", \"Dates\"]\n",
      "git-tree-sha1 = \"3bab2c5aa25e7840a4b065805c0cdfc01f3068d2\"\n",
      "uuid = \"48062228-2e41-5def-b9a4-89aafe57970f\"\n",
      "version = \"0.9.24\"\n",
      "\n",
      "    [deps.FilePathsBase.extensions]\n",
      "    FilePathsBaseMmapExt = \"Mmap\"\n",
      "    FilePathsBaseTestExt = \"Test\"\n",
      "\n",
      "    [deps.FilePathsBase.weakdeps]\n",
      "    Mmap = \"a63ad114-7e13-5084-954f-fe012c677804\"\n",
      "    Test = \"8dfed614-e22c-5e08-85e1-65c5234f0b40\"\n",
      "\n",
      "[[deps.FileWatching]]\n",
      "uuid = \"7b1f6079-737a-58dc-b8bc-7a2ca5c1b5ee\"\n",
      "version = \"1.11.0\"\n",
      "\n",
      "[[deps.Future]]\n",
      "deps = [\"Random\"]\n",
      "uuid = \"9fa8497b-333b-5362-9e8d-4d0656e87820\"\n",
      "version = \"1.11.0\"\n",
      "\n",
      "[[deps.GenericLinearAlgebra]]\n",
      "deps = [\"LinearAlgebra\", \"Printf\", \"Random\", \"libblastrampoline_jll\"]\n",
      "git-tree-sha1 = \"37cef077b50d28b2542c1adb4c5427871a759d12\"\n",
      "uuid = \"14197337-ba66-59df-a3e3-ca00e7dcff7a\"\n",
      "version = \"0.3.18\"\n",
      "\n",
      "[[deps.InlineStrings]]\n",
      "git-tree-sha1 = \"8594fac023c5ce1ef78260f24d1ad18b4327b420\"\n",
      "uuid = \"842dd82b-1e85-43dc-bf29-5d0ee9dffc48\"\n",
      "version = \"1.4.4\"\n",
      "\n",
      "    [deps.InlineStrings.extensions]\n",
      "    ArrowTypesExt = \"ArrowTypes\"\n",
      "    ParsersExt = \"Parsers\"\n",
      "\n",
      "    [deps.InlineStrings.weakdeps]\n",
      "    ArrowTypes = \"31f734f8-188a-4ce0-8406-c8a06bd891cd\"\n",
      "    Parsers = \"69de0a69-1ddd-5017-9359-2bf0b02dc9f0\"\n",
      "\n",
      "[[deps.InteractiveUtils]]\n",
      "deps = [\"Markdown\"]\n",
      "uuid = \"b77e0a4c-d291-57a0-90e8-8db25a27a240\"\n",
      "version = \"1.11.0\"\n",
      "\n",
      "[[deps.IrrationalConstants]]\n",
      "git-tree-sha1 = \"e2222959fbc6c19554dc15174c81bf7bf3aa691c\"\n",
      "uuid = \"92d709cd-6900-40b7-9082-c6be49f344b6\"\n",
      "version = \"0.2.4\"\n",
      "\n",
      "[[deps.IterableTables]]\n",
      "deps = [\"DataValues\", \"IteratorInterfaceExtensions\", \"Requires\", \"TableTraits\", \"TableTraitsUtils\"]\n",
      "git-tree-sha1 = \"70300b876b2cebde43ebc0df42bc8c94a144e1b4\"\n",
      "uuid = \"1c8ee90f-4401-5389-894e-7a04a3dc0f4d\"\n",
      "version = \"1.0.0\"\n",
      "\n",
      "[[deps.IteratorInterfaceExtensions]]\n",
      "git-tree-sha1 = \"a3f24677c21f5bbe9d2a714f95dcd58337fb2856\"\n",
      "uuid = \"82899510-4779-5014-852e-03e436cf321d\"\n",
      "version = \"1.0.0\"\n",
      "\n",
      "[[deps.JLLWrappers]]\n",
      "deps = [\"Artifacts\", \"Preferences\"]\n",
      "git-tree-sha1 = \"0533e564aae234aff59ab625543145446d8b6ec2\"\n",
      "uuid = \"692b3bcd-3c85-4b1f-b108-f13ce0eb3210\"\n",
      "version = \"1.7.1\"\n",
      "\n",
      "[[deps.JSON]]\n",
      "deps = [\"Dates\", \"Mmap\", \"Parsers\", \"Unicode\"]\n",
      "git-tree-sha1 = \"31e996f0a15c7b280ba9f76636b3ff9e2ae58c9a\"\n",
      "uuid = \"682c06a0-de6a-54ab-a142-c8b1cf79cde6\"\n",
      "version = \"0.21.4\"\n",
      "\n",
      "[[deps.JSON3]]\n",
      "deps = [\"Dates\", \"Mmap\", \"Parsers\", \"PrecompileTools\", \"StructTypes\", \"UUIDs\"]\n",
      "git-tree-sha1 = \"411eccfe8aba0814ffa0fdf4860913ed09c34975\"\n",
      "uuid = \"0f8b85d8-7281-11e9-16c2-39a750bddbf1\"\n",
      "version = \"1.14.3\"\n",
      "\n",
      "    [deps.JSON3.extensions]\n",
      "    JSON3ArrowExt = [\"ArrowTypes\"]\n",
      "\n",
      "    [deps.JSON3.weakdeps]\n",
      "    ArrowTypes = \"31f734f8-188a-4ce0-8406-c8a06bd891cd\"\n",
      "\n",
      "[[deps.JSONSchema]]\n",
      "deps = [\"Downloads\", \"JSON\", \"JSON3\", \"URIs\"]\n",
      "git-tree-sha1 = \"243f1cdb476835d7c249deb9f29ad6b7827da7d3\"\n",
      "uuid = \"7d188eb4-7ad8-530c-ae41-71a32a6d4692\"\n",
      "version = \"1.4.1\"\n",
      "\n",
      "[[deps.LibCURL]]\n",
      "deps = [\"LibCURL_jll\", \"MozillaCACerts_jll\"]\n",
      "uuid = \"b27032c2-a3e7-50c8-80cd-2d36dbcbfd21\"\n",
      "version = \"0.6.4\"\n",
      "\n",
      "[[deps.LibCURL_jll]]\n",
      "deps = [\"Artifacts\", \"LibSSH2_jll\", \"Libdl\", \"MbedTLS_jll\", \"Zlib_jll\", \"nghttp2_jll\"]\n",
      "uuid = \"deac9b47-8bc7-5906-a0fe-35ac56dc84c0\"\n",
      "version = \"8.6.0+0\"\n",
      "\n",
      "[[deps.LibGit2]]\n",
      "deps = [\"Base64\", \"LibGit2_jll\", \"NetworkOptions\", \"Printf\", \"SHA\"]\n",
      "uuid = \"76f85450-5226-5b5a-8eaa-529ad045b433\"\n",
      "version = \"1.11.0\"\n",
      "\n",
      "[[deps.LibGit2_jll]]\n",
      "deps = [\"Artifacts\", \"LibSSH2_jll\", \"Libdl\", \"MbedTLS_jll\"]\n",
      "uuid = \"e37daf67-58a4-590a-8e99-b0245dd2ffc5\"\n",
      "version = \"1.7.2+0\"\n",
      "\n",
      "[[deps.LibSSH2_jll]]\n",
      "deps = [\"Artifacts\", \"Libdl\", \"MbedTLS_jll\"]\n",
      "uuid = \"29816b5a-b9ab-546f-933c-edad1886dfa8\"\n",
      "version = \"1.11.0+1\"\n",
      "\n",
      "[[deps.Libdl]]\n",
      "uuid = \"8f399da3-3557-5675-b5ff-fb832c97cbdb\"\n",
      "version = \"1.11.0\"\n",
      "\n",
      "[[deps.LinearAlgebra]]\n",
      "deps = [\"Libdl\", \"OpenBLAS_jll\", \"libblastrampoline_jll\"]\n",
      "uuid = \"37e2e46d-f89d-539d-b4ee-838fcccc9c8e\"\n",
      "version = \"1.11.0\"\n",
      "\n",
      "[[deps.LogExpFunctions]]\n",
      "deps = [\"DocStringExtensions\", \"IrrationalConstants\", \"LinearAlgebra\"]\n",
      "git-tree-sha1 = \"13ca9e2586b89836fd20cccf56e57e2b9ae7f38f\"\n",
      "uuid = \"2ab3a3ac-af41-5b50-aa03-7779005ae688\"\n",
      "version = \"0.3.29\"\n",
      "\n",
      "    [deps.LogExpFunctions.extensions]\n",
      "    LogExpFunctionsChainRulesCoreExt = \"ChainRulesCore\"\n",
      "    LogExpFunctionsChangesOfVariablesExt = \"ChangesOfVariables\"\n",
      "    LogExpFunctionsInverseFunctionsExt = \"InverseFunctions\"\n",
      "\n",
      "    [deps.LogExpFunctions.weakdeps]\n",
      "    ChainRulesCore = \"d360d2e6-b24c-11e9-a2a3-2a2ae2dbcce4\"\n",
      "    ChangesOfVariables = \"9e997f8a-9a97-42d5-a9f1-ce6bfc15e2c0\"\n",
      "    InverseFunctions = \"3587e190-3f89-42d0-90ee-14403ec27112\"\n",
      "\n",
      "[[deps.Logging]]\n",
      "uuid = \"56ddb016-857b-54e1-b83d-db4d58db5568\"\n",
      "version = \"1.11.0\"\n",
      "\n",
      "[[deps.MacroTools]]\n",
      "git-tree-sha1 = \"1e0228a030642014fe5cfe68c2c0a818f9e3f522\"\n",
      "uuid = \"1914dd2f-81c6-5fcd-8719-6d5c9610ff09\"\n",
      "version = \"0.5.16\"\n",
      "\n",
      "[[deps.Markdown]]\n",
      "deps = [\"Base64\"]\n",
      "uuid = \"d6f4376e-aef5-505a-96c1-9c027394607a\"\n",
      "version = \"1.11.0\"\n",
      "\n",
      "[[deps.MbedTLS_jll]]\n",
      "deps = [\"Artifacts\", \"Libdl\"]\n",
      "uuid = \"c8ffd9c3-330d-5841-b78e-0817d7145fa1\"\n",
      "version = \"2.28.6+0\"\n",
      "\n",
      "[[deps.Missings]]\n",
      "deps = [\"DataAPI\"]\n",
      "git-tree-sha1 = \"ec4f7fbeab05d7747bdf98eb74d130a2a2ed298d\"\n",
      "uuid = \"e1d29d7a-bbdc-5cf2-9ac0-f12de2c33e28\"\n",
      "version = \"1.2.0\"\n",
      "\n",
      "[[deps.Mmap]]\n",
      "uuid = \"a63ad114-7e13-5084-954f-fe012c677804\"\n",
      "version = \"1.11.0\"\n",
      "\n",
      "[[deps.MozillaCACerts_jll]]\n",
      "uuid = \"14a3606d-f60d-562e-9121-12d972cd8159\"\n",
      "version = \"2023.12.12\"\n",
      "\n",
      "[[deps.NetworkOptions]]\n",
      "uuid = \"ca575930-c2e3-43a9-ace4-1e988b2c1908\"\n",
      "version = \"1.2.0\"\n",
      "\n",
      "[[deps.NodeJS]]\n",
      "deps = [\"Pkg\"]\n",
      "git-tree-sha1 = \"bf1f49fd62754064bc42490a8ddc2aa3694a8e7a\"\n",
      "uuid = \"2bd173c7-0d6d-553b-b6af-13a54713934c\"\n",
      "version = \"2.0.0\"\n",
      "\n",
      "[[deps.Nullables]]\n",
      "git-tree-sha1 = \"8f87854cc8f3685a60689d8edecaa29d2251979b\"\n",
      "uuid = \"4d1e1d77-625e-5b40-9113-a560ec7a8ecd\"\n",
      "version = \"1.0.0\"\n",
      "\n",
      "[[deps.OpenBLAS_jll]]\n",
      "deps = [\"Artifacts\", \"CompilerSupportLibraries_jll\", \"Libdl\"]\n",
      "uuid = \"4536629a-c528-5b80-bd46-f80d51c5b363\"\n",
      "version = \"0.3.27+1\"\n",
      "\n",
      "[[deps.OpenLibm_jll]]\n",
      "deps = [\"Artifacts\", \"Libdl\"]\n",
      "uuid = \"05823500-19ac-5b8b-9628-191a04bc5112\"\n",
      "version = \"0.8.5+0\"\n",
      "\n",
      "[[deps.OpenSpecFun_jll]]\n",
      "deps = [\"Artifacts\", \"CompilerSupportLibraries_jll\", \"JLLWrappers\", \"Libdl\"]\n",
      "git-tree-sha1 = \"1346c9208249809840c91b26703912dff463d335\"\n",
      "uuid = \"efe28fd5-8261-553b-a9e1-b2916fc3738e\"\n",
      "version = \"0.5.6+0\"\n",
      "\n",
      "[[deps.OrderedCollections]]\n",
      "git-tree-sha1 = \"05868e21324cede2207c6f0f466b4bfef6d5e7ee\"\n",
      "uuid = \"bac558e1-5e72-5ebc-8fee-abe8a469f55d\"\n",
      "version = \"1.8.1\"\n",
      "\n",
      "[[deps.Parsers]]\n",
      "deps = [\"Dates\", \"PrecompileTools\", \"UUIDs\"]\n",
      "git-tree-sha1 = \"7d2f8f21da5db6a806faf7b9b292296da42b2810\"\n",
      "uuid = \"69de0a69-1ddd-5017-9359-2bf0b02dc9f0\"\n",
      "version = \"2.8.3\"\n",
      "\n",
      "[[deps.Pkg]]\n",
      "deps = [\"Artifacts\", \"Dates\", \"Downloads\", \"FileWatching\", \"LibGit2\", \"Libdl\", \"Logging\", \"Markdown\", \"Printf\", \"Random\", \"SHA\", \"TOML\", \"Tar\", \"UUIDs\", \"p7zip_jll\"]\n",
      "uuid = \"44cfe95a-1eb2-52ea-b672-e2afdf69b78f\"\n",
      "version = \"1.11.0\"\n",
      "weakdeps = [\"REPL\"]\n",
      "\n",
      "    [deps.Pkg.extensions]\n",
      "    REPLExt = \"REPL\"\n",
      "\n",
      "[[deps.Polynomials]]\n",
      "deps = [\"LinearAlgebra\", \"OrderedCollections\", \"RecipesBase\", \"Requires\", \"Setfield\", \"SparseArrays\"]\n",
      "git-tree-sha1 = \"972089912ba299fba87671b025cd0da74f5f54f7\"\n",
      "uuid = \"f27b6e38-b328-58d1-80ce-0feddd5e7a45\"\n",
      "version = \"4.1.0\"\n",
      "\n",
      "    [deps.Polynomials.extensions]\n",
      "    PolynomialsChainRulesCoreExt = \"ChainRulesCore\"\n",
      "    PolynomialsFFTWExt = \"FFTW\"\n",
      "    PolynomialsMakieExt = \"Makie\"\n",
      "    PolynomialsMutableArithmeticsExt = \"MutableArithmetics\"\n",
      "\n",
      "    [deps.Polynomials.weakdeps]\n",
      "    ChainRulesCore = \"d360d2e6-b24c-11e9-a2a3-2a2ae2dbcce4\"\n",
      "    FFTW = \"7a1cc6ca-52ef-59f5-83cd-3a7055c09341\"\n",
      "    Makie = \"ee78f7c6-11fb-53f2-987a-cfe4a2b5a57a\"\n",
      "    MutableArithmetics = \"d8a4904e-b15c-11e9-3269-09a3773c0cb0\"\n",
      "\n",
      "[[deps.PrecompileTools]]\n",
      "deps = [\"Preferences\"]\n",
      "git-tree-sha1 = \"5aa36f7049a63a1528fe8f7c3f2113413ffd4e1f\"\n",
      "uuid = \"aea7be01-6a6a-4083-8856-8a6e6704d82a\"\n",
      "version = \"1.2.1\"\n",
      "\n",
      "[[deps.Preferences]]\n",
      "deps = [\"TOML\"]\n",
      "git-tree-sha1 = \"0f27480397253da18fe2c12a4ba4eb9eb208bf3d\"\n",
      "uuid = \"21216c6a-2e73-6563-6e65-726566657250\"\n",
      "version = \"1.5.0\"\n",
      "\n",
      "[[deps.Printf]]\n",
      "deps = [\"Unicode\"]\n",
      "uuid = \"de0858da-6303-5e67-8744-51eddeeeb8d7\"\n",
      "version = \"1.11.0\"\n",
      "\n",
      "[[deps.Quadmath]]\n",
      "deps = [\"Compat\", \"Printf\", \"Random\", \"Requires\"]\n",
      "git-tree-sha1 = \"6bc924717c495f24de85867aa94da4de0e6cd1a1\"\n",
      "uuid = \"be4d8f0f-7fa4-5f49-b795-2f01399ab2dd\"\n",
      "version = \"0.5.13\"\n",
      "\n",
      "[[deps.REPL]]\n",
      "deps = [\"InteractiveUtils\", \"Markdown\", \"Sockets\", \"StyledStrings\", \"Unicode\"]\n",
      "uuid = \"3fa0cd96-eef1-5676-8a61-b3b8758bbffb\"\n",
      "version = \"1.11.0\"\n",
      "\n",
      "[[deps.Random]]\n",
      "deps = [\"SHA\"]\n",
      "uuid = \"9a3f8284-a2c9-5f02-9a11-845980a1fd5c\"\n",
      "version = \"1.11.0\"\n",
      "\n",
      "[[deps.RecipesBase]]\n",
      "deps = [\"PrecompileTools\"]\n",
      "git-tree-sha1 = \"5c3d09cc4f31f5fc6af001c250bf1278733100ff\"\n",
      "uuid = \"3cdcf5f2-1ef4-517c-9805-6587b60abb01\"\n",
      "version = \"1.3.4\"\n",
      "\n",
      "[[deps.Reexport]]\n",
      "git-tree-sha1 = \"45e428421666073eab6f2da5c9d310d99bb12f9b\"\n",
      "uuid = \"189a3867-3050-52da-a836-e630ba90ab69\"\n",
      "version = \"1.2.2\"\n",
      "\n",
      "[[deps.Requires]]\n",
      "deps = [\"UUIDs\"]\n",
      "git-tree-sha1 = \"62389eeff14780bfe55195b7204c0d8738436d64\"\n",
      "uuid = \"ae029012-a4dd-5104-9daa-d747884805df\"\n",
      "version = \"1.3.1\"\n",
      "\n",
      "[[deps.SHA]]\n",
      "uuid = \"ea8e919c-243c-51af-8825-aaa63cd721ce\"\n",
      "version = \"0.7.0\"\n",
      "\n",
      "[[deps.Serialization]]\n",
      "uuid = \"9e88b42a-f829-5b0c-bbe9-9e923198166b\"\n",
      "version = \"1.11.0\"\n",
      "\n",
      "[[deps.Setfield]]\n",
      "deps = [\"ConstructionBase\", \"Future\", \"MacroTools\", \"StaticArraysCore\"]\n",
      "git-tree-sha1 = \"c5391c6ace3bc430ca630251d02ea9687169ca68\"\n",
      "uuid = \"efcf1570-3423-57d1-acb7-fd33fddbac46\"\n",
      "version = \"1.1.2\"\n",
      "\n",
      "[[deps.Sockets]]\n",
      "uuid = \"6462fe0b-24de-5631-8697-dd941f90decc\"\n",
      "version = \"1.11.0\"\n",
      "\n",
      "[[deps.SparseArrays]]\n",
      "deps = [\"Libdl\", \"LinearAlgebra\", \"Random\", \"Serialization\", \"SuiteSparse_jll\"]\n",
      "uuid = \"2f01184e-e22b-5df5-ae63-d93ebab69eaf\"\n",
      "version = \"1.11.0\"\n",
      "\n",
      "[[deps.SpecialFunctions]]\n",
      "deps = [\"IrrationalConstants\", \"LogExpFunctions\", \"OpenLibm_jll\", \"OpenSpecFun_jll\"]\n",
      "git-tree-sha1 = \"41852b8679f78c8d8961eeadc8f62cef861a52e3\"\n",
      "uuid = \"276daf66-3868-5448-9aa4-cd146d93841b\"\n",
      "version = \"2.5.1\"\n",
      "\n",
      "    [deps.SpecialFunctions.extensions]\n",
      "    SpecialFunctionsChainRulesCoreExt = \"ChainRulesCore\"\n",
      "\n",
      "    [deps.SpecialFunctions.weakdeps]\n",
      "    ChainRulesCore = \"d360d2e6-b24c-11e9-a2a3-2a2ae2dbcce4\"\n",
      "\n",
      "[[deps.StaticArraysCore]]\n",
      "git-tree-sha1 = \"192954ef1208c7019899fbf8049e717f92959682\"\n",
      "uuid = \"1e83bf80-4336-4d27-bf5d-d5a4f845583c\"\n",
      "version = \"1.4.3\"\n",
      "\n",
      "[[deps.StructTypes]]\n",
      "deps = [\"Dates\", \"UUIDs\"]\n",
      "git-tree-sha1 = \"159331b30e94d7b11379037feeb9b690950cace8\"\n",
      "uuid = \"856f2bd8-1eba-4b0a-8007-ebc267875bd4\"\n",
      "version = \"1.11.0\"\n",
      "\n",
      "[[deps.StyledStrings]]\n",
      "uuid = \"f489334b-da3d-4c2e-b8f0-e476e12c162b\"\n",
      "version = \"1.11.0\"\n",
      "\n",
      "[[deps.SuiteSparse_jll]]\n",
      "deps = [\"Artifacts\", \"Libdl\", \"libblastrampoline_jll\"]\n",
      "uuid = \"bea87d4a-7f5b-5778-9afe-8cc45184846c\"\n",
      "version = \"7.7.0+0\"\n",
      "\n",
      "[[deps.TOML]]\n",
      "deps = [\"Dates\"]\n",
      "uuid = \"fa267f1f-6049-4f14-aa54-33bafae1ed76\"\n",
      "version = \"1.0.3\"\n",
      "\n",
      "[[deps.TableShowUtils]]\n",
      "deps = [\"DataValues\", \"Dates\", \"JSON\", \"Markdown\", \"Unicode\"]\n",
      "git-tree-sha1 = \"2a41a3dedda21ed1184a47caab56ed9304e9a038\"\n",
      "uuid = \"5e66a065-1f0a-5976-b372-e0b8c017ca10\"\n",
      "version = \"0.2.6\"\n",
      "\n",
      "[[deps.TableTraits]]\n",
      "deps = [\"IteratorInterfaceExtensions\"]\n",
      "git-tree-sha1 = \"c06b2f539df1c6efa794486abfb6ed2022561a39\"\n",
      "uuid = \"3783bdb8-4a98-5b6b-af9a-565f29a5fe9c\"\n",
      "version = \"1.0.1\"\n",
      "\n",
      "[[deps.TableTraitsUtils]]\n",
      "deps = [\"DataValues\", \"IteratorInterfaceExtensions\", \"Missings\", \"TableTraits\"]\n",
      "git-tree-sha1 = \"78fecfe140d7abb480b53a44f3f85b6aa373c293\"\n",
      "uuid = \"382cd787-c1b6-5bf2-a167-d5b971a19bda\"\n",
      "version = \"1.0.2\"\n",
      "\n",
      "[[deps.Tar]]\n",
      "deps = [\"ArgTools\", \"SHA\"]\n",
      "uuid = \"a4e569a6-e804-4fa4-b0f3-eef7a1d5b13e\"\n",
      "version = \"1.10.0\"\n",
      "\n",
      "[[deps.TextParse]]\n",
      "deps = [\"CodecZlib\", \"DataStructures\", \"Dates\", \"DoubleFloats\", \"Mmap\", \"Nullables\", \"WeakRefStrings\"]\n",
      "git-tree-sha1 = \"43eddc3c0d788ebfc8a72bde108825ac65e66b11\"\n",
      "uuid = \"e0df1984-e451-5cb5-8b61-797a481e67e3\"\n",
      "version = \"1.0.3\"\n",
      "\n",
      "[[deps.TranscodingStreams]]\n",
      "git-tree-sha1 = \"0c45878dcfdcfa8480052b6ab162cdd138781742\"\n",
      "uuid = \"3bb67fe8-82b1-5028-8e26-92a6c54297fa\"\n",
      "version = \"0.11.3\"\n",
      "\n",
      "[[deps.URIParser]]\n",
      "deps = [\"Unicode\"]\n",
      "git-tree-sha1 = \"53a9f49546b8d2dd2e688d216421d050c9a31d0d\"\n",
      "uuid = \"30578b45-9adc-5946-b283-645ec420af67\"\n",
      "version = \"0.4.1\"\n",
      "\n",
      "[[deps.URIs]]\n",
      "git-tree-sha1 = \"bef26fb046d031353ef97a82e3fdb6afe7f21b1a\"\n",
      "uuid = \"5c2747f8-b7ea-4ff2-ba2e-563bfd36b1d4\"\n",
      "version = \"1.6.1\"\n",
      "\n",
      "[[deps.UUIDs]]\n",
      "deps = [\"Random\", \"SHA\"]\n",
      "uuid = \"cf7118a7-6976-5b1a-9a39-7adc72f591a4\"\n",
      "version = \"1.11.0\"\n",
      "\n",
      "[[deps.Unicode]]\n",
      "uuid = \"4ec0a83e-493e-50e2-b9ac-8f72acf5a8f5\"\n",
      "version = \"1.11.0\"\n",
      "\n",
      "[[deps.Vega]]\n",
      "deps = [\"BufferedStreams\", \"DataStructures\", \"DataValues\", \"Dates\", \"FileIO\", \"FilePaths\", \"IteratorInterfaceExtensions\", \"JSON\", \"JSONSchema\", \"MacroTools\", \"NodeJS\", \"Pkg\", \"REPL\", \"Random\", \"Setfield\", \"TableTraits\", \"TableTraitsUtils\", \"URIParser\"]\n",
      "git-tree-sha1 = \"0efd71a3df864e86d24236c99aaae3970e6f0ed0\"\n",
      "uuid = \"239c3e63-733f-47ad-beb7-a12fde22c578\"\n",
      "version = \"2.7.0\"\n",
      "\n",
      "[[deps.VegaDatasets]]\n",
      "deps = [\"DataStructures\", \"DataValues\", \"FilePaths\", \"IterableTables\", \"IteratorInterfaceExtensions\", \"JSON\", \"TableShowUtils\", \"TableTraits\", \"TableTraitsUtils\", \"TextParse\"]\n",
      "git-tree-sha1 = \"c997c7217f37205c5795de8c797f8f8531890f1d\"\n",
      "uuid = \"0ae4a718-28b7-58ec-9efb-cded64d6d5b4\"\n",
      "version = \"2.1.1\"\n",
      "\n",
      "[[deps.VegaLite]]\n",
      "deps = [\"Base64\", \"BufferedStreams\", \"DataStructures\", \"DataValues\", \"Dates\", \"FileIO\", \"FilePaths\", \"IteratorInterfaceExtensions\", \"JSON\", \"MacroTools\", \"NodeJS\", \"Pkg\", \"REPL\", \"Random\", \"TableTraits\", \"TableTraitsUtils\", \"URIParser\", \"Vega\"]\n",
      "git-tree-sha1 = \"79115432a0a40955f071bccc6e5574ae5567a7b0\"\n",
      "uuid = \"112f6efa-9a02-5b7d-90c0-432ed331239a\"\n",
      "version = \"3.3.0\"\n",
      "\n",
      "[[deps.WeakRefStrings]]\n",
      "deps = [\"DataAPI\", \"InlineStrings\", \"Parsers\"]\n",
      "git-tree-sha1 = \"b1be2855ed9ed8eac54e5caff2afcdb442d52c23\"\n",
      "uuid = \"ea10d353-3f73-51f8-a26c-33c1cb351aa5\"\n",
      "version = \"1.4.2\"\n",
      "\n",
      "[[deps.Zlib_jll]]\n",
      "deps = [\"Libdl\"]\n",
      "uuid = \"83775a58-1f1d-513f-b197-d71354ab007a\"\n",
      "version = \"1.2.13+1\"\n",
      "\n",
      "[[deps.libblastrampoline_jll]]\n",
      "deps = [\"Artifacts\", \"Libdl\"]\n",
      "uuid = \"8e850b90-86db-534c-a0d3-1478176c7d93\"\n",
      "version = \"5.11.0+0\"\n",
      "\n",
      "[[deps.nghttp2_jll]]\n",
      "deps = [\"Artifacts\", \"Libdl\"]\n",
      "uuid = \"8e850ede-7688-5339-a07c-302acd2aaf8d\"\n",
      "version = \"1.59.0+0\"\n",
      "\n",
      "[[deps.p7zip_jll]]\n",
      "deps = [\"Artifacts\", \"Libdl\"]\n",
      "uuid = \"3f19e933-33d8-53b3-aaab-bd5110c3b7a0\"\n",
      "version = \"17.4.0+2\"\n",
      "\n"
     ]
    }
   ],
   "source": [
    "println(String(read(\"Manifest.toml\")))"
   ]
  },
  {
   "cell_type": "markdown",
   "id": "e2d37d47",
   "metadata": {},
   "source": [
    "* The `Manifest.toml` file is a very comprehensive overview of ALL details about a Julia environment\n",
    "* This file is rarely (if ever) touched by humans\n",
    "* It can be used to reproduce an exact replica of the Julia version, packages, and package versions on any machine"
   ]
  },
  {
   "cell_type": "markdown",
   "id": "fde24a2f",
   "metadata": {},
   "source": [
    "### Set up environment on new machine\n",
    "\n",
    "* If you are given a Project.toml/Manifest.toml combo, you can easily create a duplicate of teh author's Julia environment\n",
    "* To do this follow these two steps:\n",
    "    1. Call `Pkg.activate(\".\")`  (or `pkg> activate`) from the directory containing the .toml files\n",
    "    2. Call `Pkg.instantiate()` (or `pkg> instantiate`)\n",
    "* This will first activate the Project's environment in your current Julia session and then install all dependencies\n"
   ]
  },
  {
   "cell_type": "code",
   "execution_count": 2,
   "id": "f12d3650",
   "metadata": {},
   "outputs": [
    {
     "name": "stderr",
     "output_type": "stream",
     "text": [
      "\u001b[32m\u001b[1m  Activating\u001b[22m\u001b[39m project at `~/Teaching/UCF/CAP-6318/book-myst/week02`\n"
     ]
    }
   ],
   "source": [
    "using Pkg\n",
    "Pkg.activate(\".\")\n",
    "Pkg.instantiate()"
   ]
  },
  {
   "cell_type": "markdown",
   "id": "9d03f8f8",
   "metadata": {},
   "source": [
    "## Package Development\n",
    "\n",
    "* The vast majority of Julia itself -- including the packages in its standard library -- are written in Julia\n",
    "* This means that to be a package author you really only need to know Julia\n",
    "* Since you know Julia, you can author packages!\n",
    "* The `Pkg` module has a [`generate`](https://pkgdocs.julialang.org/v1/creating-packages/) function to help us develop packages, however Julia authors reccomend using the first party `PkgTemplates.jl` package to start a new package\n",
    "* So, we'll start by installing `PkgTemplates`\n"
   ]
  },
  {
   "cell_type": "code",
   "execution_count": 18,
   "id": "dd27cb00",
   "metadata": {},
   "outputs": [
    {
     "name": "stderr",
     "output_type": "stream",
     "text": [
      "\u001b[32m\u001b[1m   Resolving\u001b[22m\u001b[39m package versions...\n",
      "\u001b[32m\u001b[1m   Installed\u001b[22m\u001b[39m PkgTemplates ─ v0.7.56\n",
      "\u001b[32m\u001b[1m    Updating\u001b[22m\u001b[39m `~/Teaching/UCF/CAP-6318/book-myst/week02/Project.toml`\n",
      "  \u001b[90m[14b8a8f1] \u001b[39m\u001b[92m+ PkgTemplates v0.7.56\u001b[39m\n",
      "\u001b[32m\u001b[1m    Updating\u001b[22m\u001b[39m `~/Teaching/UCF/CAP-6318/book-myst/week02/Manifest.toml`\n",
      "  \u001b[90m[e2ba6199] \u001b[39m\u001b[92m+ ExprTools v0.1.10\u001b[39m\n",
      "  \u001b[90m[78c3b35d] \u001b[39m\u001b[92m+ Mocking v0.8.1\u001b[39m\n",
      "  \u001b[90m[ffc61752] \u001b[39m\u001b[92m+ Mustache v1.0.21\u001b[39m\n",
      "  \u001b[90m[d96e819e] \u001b[39m\u001b[92m+ Parameters v0.12.3\u001b[39m\n",
      "  \u001b[90m[14b8a8f1] \u001b[39m\u001b[92m+ PkgTemplates v0.7.56\u001b[39m\n",
      "  \u001b[90m[bd369af6] \u001b[39m\u001b[92m+ Tables v1.12.1\u001b[39m\n",
      "  \u001b[90m[3a884ed6] \u001b[39m\u001b[92m+ UnPack v1.0.2\u001b[39m\n",
      "\u001b[92m\u001b[1mPrecompiling\u001b[22m\u001b[39m project...\n",
      "   1669.1 ms\u001b[32m  ✓ \u001b[39mPkgTemplates\n",
      "  1 dependency successfully precompiled in 2 seconds. 96 already precompiled.\n"
     ]
    }
   ],
   "source": [
    "using Pkg\n",
    "Pkg.add(\"PkgTemplates\")\n",
    "\n",
    "using PkgTemplates"
   ]
  },
  {
   "cell_type": "markdown",
   "id": "b61f4ddb",
   "metadata": {},
   "source": [
    "### CAP6318\n",
    "\n",
    "* As we progress throughout the semseter we will build up a toolbox of useful types and functions\n",
    "* Let's organize these into a helpful package called `CAP6318`\n",
    "* We can also use this package as a way to specify dependencies specifically required for the course\n",
    "* To create our package we will need to follow the [PkgTemplates.jl documentation](https://juliaci.github.io/PkgTemplates.jl/stable/user/) to (1) establish the template for our project and (2) run the template on our project name"
   ]
  },
  {
   "cell_type": "code",
   "execution_count": 25,
   "id": "23edc572",
   "metadata": {},
   "outputs": [
    {
     "name": "stderr",
     "output_type": "stream",
     "text": [
      "┌ Info: Running prehooks\n",
      "└ @ PkgTemplates /Users/sglyon/.julia/packages/PkgTemplates/5mBnk/src/template.jl:137\n",
      "┌ Info: Running hooks\n",
      "└ @ PkgTemplates /Users/sglyon/.julia/packages/PkgTemplates/5mBnk/src/template.jl:137\n",
      "\u001b[32m\u001b[1m  Activating\u001b[22m\u001b[39m project at `~/.julia/dev/CAP6318`\n",
      "\u001b[32m\u001b[1m    Updating\u001b[22m\u001b[39m registry at `~/.julia/registries/General.toml`\n",
      "\u001b[32m\u001b[1m  No Changes\u001b[22m\u001b[39m to `~/.julia/dev/CAP6318/Project.toml`\n",
      "\u001b[32m\u001b[1m  No Changes\u001b[22m\u001b[39m to `~/.julia/dev/CAP6318/Manifest.toml`\n",
      "\u001b[92m\u001b[1mPrecompiling\u001b[22m\u001b[39m project...\n",
      "    199.5 ms\u001b[32m  ✓ \u001b[39mCAP6318\n",
      "  1 dependency successfully precompiled in 0 seconds\n",
      "\u001b[32m\u001b[1m  Activating\u001b[22m\u001b[39m project at `~/Teaching/UCF/CAP-6318/book-myst/week02`\n",
      "┌ Info: Running posthooks\n",
      "└ @ PkgTemplates /Users/sglyon/.julia/packages/PkgTemplates/5mBnk/src/template.jl:137\n",
      "\u001b[32m\u001b[1m   Resolving\u001b[22m\u001b[39m package versions...\n",
      "\u001b[32m\u001b[1m    Updating\u001b[22m\u001b[39m `~/Teaching/UCF/CAP-6318/book-myst/week02/Project.toml`\n",
      "  \u001b[90m[8b4527b1] \u001b[39m\u001b[92m+ CAP6318 v1.0.0-DEV `~/.julia/dev/CAP6318`\u001b[39m\n",
      "\u001b[32m\u001b[1m    Updating\u001b[22m\u001b[39m `~/Teaching/UCF/CAP-6318/book-myst/week02/Manifest.toml`\n",
      "  \u001b[90m[8b4527b1] \u001b[39m\u001b[92m+ CAP6318 v1.0.0-DEV `~/.julia/dev/CAP6318`\u001b[39m\n",
      "┌ Info: New package is at /Users/sglyon/.julia/dev/CAP6318\n",
      "└ @ PkgTemplates /Users/sglyon/.julia/packages/PkgTemplates/5mBnk/src/template.jl:147\n"
     ]
    },
    {
     "data": {
      "text/plain": [
       "\"/Users/sglyon/.julia/dev/CAP6318\""
      ]
     },
     "metadata": {},
     "output_type": "display_data"
    }
   ],
   "source": [
    "t = Template(;\n",
    "    user=\"sglyon\", # TODO: you change this!\n",
    "    plugins=[PkgTemplates.Develop(), ]\n",
    ")\n",
    "\n",
    "package_dir = t(\"CAP6318\")"
   ]
  },
  {
   "cell_type": "markdown",
   "id": "3ae944f4",
   "metadata": {},
   "source": [
    "* Notice that the code generated a new project in `~/.julia/dev/CAP6318`\n",
    "* Let's take a look at was created for us"
   ]
  },
  {
   "cell_type": "markdown",
   "id": "7c4e7604",
   "metadata": {},
   "source": [
    "* Let's see what was created for us"
   ]
  },
  {
   "cell_type": "code",
   "execution_count": 26,
   "id": "786cf65c",
   "metadata": {},
   "outputs": [
    {
     "name": "stdout",
     "output_type": "stream",
     "text": [
      "About to run: `tree /Users/sglyon/.julia/dev/CAP6318`\n",
      "/Users/sglyon/.julia/dev/CAP6318\n",
      "├── LICENSE\n",
      "├── Manifest.toml\n",
      "├── Project.toml\n",
      "├── README.md\n",
      "├── src\n",
      "│   └── CAP6318.jl\n",
      "└── test\n",
      "    └── runtests.jl\n",
      "\n",
      "3 directories, 6 files\n"
     ]
    }
   ],
   "source": [
    "cmd =`tree $package_dir`\n",
    "println(\"About to run: $cmd\")\n",
    "run(cmd);"
   ]
  },
  {
   "cell_type": "markdown",
   "id": "b4c479bf",
   "metadata": {},
   "source": [
    "* Here we see a LICENSE, Manifest.toml/Project.toml pair, and a README.md (for usage instructions) in the top folder\n",
    "* Then inside `src/` we have a module file `CAP6318.jl`\n",
    "* Inside `test/` we have a `runtests.jl` file\n",
    "* Let's peek inside the files"
   ]
  },
  {
   "cell_type": "code",
   "execution_count": 39,
   "id": "f71e07df",
   "metadata": {},
   "outputs": [
    {
     "name": "stdout",
     "output_type": "stream",
     "text": [
      "name = \"CAP6318\"\n",
      "uuid = \"8b4527b1-c17c-4ce8-a82d-b872f04552bb\"\n",
      "authors = [\"Spencer Lyon <spencerlyon2@gmail.com> and contributors\"]\n",
      "version = \"1.0.0-DEV\"\n",
      "\n",
      "[compat]\n",
      "julia = \"1.6.7\"\n",
      "\n",
      "[extras]\n",
      "Test = \"8dfed614-e22c-5e08-85e1-65c5234f0b40\"\n",
      "\n",
      "[targets]\n",
      "test = [\"Test\"]\n",
      "\n"
     ]
    }
   ],
   "source": [
    "print_pkg_file(parts::String...) = println(String(read(joinpath(package_dir, parts...))))\n",
    "print_pkg_file(\"Project.toml\")"
   ]
  },
  {
   "cell_type": "code",
   "execution_count": 40,
   "id": "5bf8eb39",
   "metadata": {},
   "outputs": [
    {
     "name": "stdout",
     "output_type": "stream",
     "text": [
      "module CAP6318\n",
      "\n",
      "# Write your package code here.\n",
      "\n",
      "end\n",
      "\n"
     ]
    }
   ],
   "source": [
    "print_pkg_file(\"src\", \"CAP6318.jl\")"
   ]
  },
  {
   "cell_type": "code",
   "execution_count": 41,
   "id": "af6e66e1",
   "metadata": {},
   "outputs": [
    {
     "name": "stdout",
     "output_type": "stream",
     "text": [
      "using CAP6318\n",
      "using Test\n",
      "\n",
      "@testset \"CAP6318.jl\" begin\n",
      "    # Write your tests here.\n",
      "end\n",
      "\n"
     ]
    }
   ],
   "source": [
    "print_pkg_file(\"test\", \"runtests.jl\")"
   ]
  },
  {
   "cell_type": "markdown",
   "id": "aa536b72",
   "metadata": {},
   "source": [
    "* Ok, we have a nicely structured starting point\n",
    "* We will add to this throughout the course"
   ]
  },
  {
   "cell_type": "markdown",
   "id": "eab328f3",
   "metadata": {},
   "source": [
    "### Exercise\n",
    "\n",
    "Perform the following tasks\n",
    "\n",
    "1. Activate the project by doing `activate CAP6318`. Because we specified `Develop()` in our template and this is the package name we do not need to be in the same directory or pass the directory path\n",
    "2. Install `CSV, DataFrames, VegaLite, Graphs` in the CAP6318 project. We'll use them later\n",
    "3. Ensure that you installed these correctly by using the `print_pkg_file` function above and looking for the `[deps]` section\n",
    "4. Create a new function `greet() = println(\"Hello from CAP6318\")` in your `src/CAP6318.jl` module file. Note you will have to open this file in your text editor\n",
    "5. Call `using CAP6318` then run `greet()` to see your message"
   ]
  },
  {
   "cell_type": "code",
   "execution_count": null,
   "id": "444cacfe",
   "metadata": {},
   "outputs": [],
   "source": []
  }
 ],
 "metadata": {
  "kernelspec": {
   "display_name": "Julia 1.11.6",
   "language": "julia",
   "name": "julia-1.11"
  },
  "language_info": {
   "file_extension": ".jl",
   "mimetype": "application/julia",
   "name": "julia",
   "version": "1.11.6"
  }
 },
 "nbformat": 4,
 "nbformat_minor": 5
}

{
 "cells": [
  {
   "cell_type": "markdown",
   "id": "52c6d94f-eb96-487e-9619-931c487df0d1",
   "metadata": {
    "slideshow": {
     "slide_type": "slide"
    },
    "tags": []
   },
   "source": [
    "# Welcome\n",
    "\n",
    "> Computational Analysis of Social Complexity\n",
    ">\n",
    "> Fall 2025, Spencer Lyon\n",
    "\n",
    "Welcome to week 1!\n",
    "\n",
    "This week we will get to know eachother and get on the same page with respect to what this class is all about.\n",
    "\n",
    "We will also dive right in to the computational infrastructure we will need by installing the Julia programming langauge and learning a bit about how to use it.\n",
    "\n",
    "Each week lecture notes will be distributed as a collection of Jupyter notebooks. The notebooks will follow a strict naming convention, where each notebook has a name such as `L@@.##_XXX.ipynb` where `@@` is a two digit lecture number and `##` is a two digit file number and `XXX` is one or more words describing the content of the notebook. We will work through the notebooks in the order indicated by the `##`. The `XXX` are to provide easier access when reviewing notes after class."
   ]
  },
  {
   "cell_type": "markdown",
   "id": "b3ad18f1-3846-4ef9-a1a1-b2d957d40535",
   "metadata": {
    "slideshow": {
     "slide_type": "slide"
    },
    "tags": []
   },
   "source": [
    "## About Me\n",
    "\n",
    "-   Spencer Lyon (spencer.lyon@ucf.edu)\n",
    "-   Economics PhD from NYU (2018)\n",
    "-   Love to teach: mostly economics, data science, AI/ML – all have\n",
    "    programming/computational element\n",
    "-   Moved to Orlando in July 2018 with wife and 5 (yes!) kids\n",
    "-   Run consulting (training/projects) business:   Valorum Data\n",
    "-   Working on a couple startups"
   ]
  },
  {
   "cell_type": "markdown",
   "id": "20c20c5d-64d1-4399-b56f-239ee23bec5a",
   "metadata": {
    "slideshow": {
     "slide_type": "subslide"
    },
    "tags": []
   },
   "source": [
    "## About you\n",
    "\n",
    "-   Background?\n",
    "-   Progress in program?\n",
    "-   Areas of interest? (meaningful answers here! they matter…)\n",
    "-   Rumors about the course?"
   ]
  },
  {
   "cell_type": "markdown",
   "id": "e0270c76-76b7-40bd-99b3-f390471aed5a",
   "metadata": {
    "slideshow": {
     "slide_type": "subslide"
    },
    "tags": []
   },
   "source": [
    "## About the course\n",
    "\n",
    "-   Interdisciplinary by nature\n",
    "-   \"Living course\": only been taught a handful of times, content is flexible\n",
    "    -   More ideas/topics than time!\n",
    "    -   Has been altered fairly significantly over the past few years (but the heart/soul of the course remains the same)\n",
    "    -   No required topics or standard textbook, so we get to pick!"
   ]
  },
  {
   "cell_type": "markdown",
   "id": "a361e90b-c0be-4686-9538-7ac2c23c6615",
   "metadata": {
    "slideshow": {
     "slide_type": "subslide"
    },
    "tags": []
   },
   "source": [
    "-   Theoretical concepts\n",
    "    -   Graphs: less detail than network science course, but more algorithms\n",
    "    -   Game Theory: strategic interaction/competition\n",
    "    -   Agent Based Models: simulation of rule based systems\n",
    "    -   Auction theory: Game theory at scale in bidding markets\n",
    "    -   Blockchain: cryptographically secure, public, distributed ledger\n",
    "    -   Social, information, financial networks"
   ]
  },
  {
   "cell_type": "markdown",
   "id": "3c56ad76-e085-416b-b6b6-4b557b682941",
   "metadata": {
    "slideshow": {
     "slide_type": "subslide"
    },
    "tags": []
   },
   "source": [
    "-   Applications\n",
    "    -   Twitter\n",
    "    - Economic markets and trade\n",
    "        network\n",
    "    - More..."
   ]
  },
  {
   "cell_type": "markdown",
   "id": "8c19a26d-3724-4d83-85a1-ff8d34fc94b9",
   "metadata": {
    "slideshow": {
     "slide_type": "subslide"
    },
    "tags": []
   },
   "source": [
    "## Expectations\n",
    "\n",
    "-   Take the time in the first 2 weeks to learn Julia\n",
    "    - You'll be glad you did\n",
    "    - Content moves quick and you don't want syntax/programming to distract you or hold you back\n",
    "-   Study reading assignments **before class**\n",
    "-   Complete assignments on time -- no exceptions\n",
    "-   Participate in in-class *discussions*\n",
    "-   Spend ~3-6 hours outside of class per week\n",
    "-   Communication\n",
    "    - Post **all** content related questions to class discussion forum\n",
    "    - Respond to peers' questions and engage in discussions\n",
    "    - Personal questions should go directly to me via email\n",
    "    - I do not use email on Sunday. Other days I will respond within 48 hours.\n",
    "-   Deliverables\n",
    "    -   Homework (~8 – 30%)\n",
    "    -   Exam (2 – 30%)\n",
    "    -   Projects (2 – 30%)\n",
    "    -   Citizenship (throughout - 10%)\n",
    "        - First best: attend class in person, actively participate\n",
    "        - Acceptable: attend virtually, but keep video on and be ready to speak up when called on\n",
    "        - Unacceptable: attend virtually, but keep video off and/or don't participate in discussions"
   ]
  },
  {
   "cell_type": "markdown",
   "id": "7f6de3d6-10c9-40ed-a25f-507b123842de",
   "metadata": {
    "slideshow": {
     "slide_type": "slide"
    },
    "tags": []
   },
   "source": [
    "## Tools/Resources\n",
    "\n",
    "- Core textbooks\n",
    "    1. [Networks, Crowds, and Markets](https://www.cs.cornell.edu/home/kleinber/networks-book/) by David Easley and Jon Kleinberg\n",
    "    2. [Economics Networks](https://networks.quantecon.org/) by John Stachurski and Thomas Sargent\n",
    "    - Will be supplemented by lecture notes for more computational content\n",
    "- [Julia](https://julialang.org/) Programming language\n",
    "- Lecture notes are accessible via the [course website](https://ucf-cap-6318.spencerlyon.com/)\n",
    "- Lecture notes AND assignments in Jupyter notebooks\n",
    "- All course administration will happen through webcourses (Canvas)\n",
    "    - Assignments `me <-> you`\n",
    "    - Feedback on assignments `me -> you`\n",
    "    - Discussion `me + you <-> me + you`\n",
    "- Official grades will be visible on canvas"
   ]
  },
  {
   "cell_type": "markdown",
   "id": "3580569e",
   "metadata": {},
   "source": []
  }
 ],
 "metadata": {
  "kernelspec": {
   "display_name": "Julia 1.10.4",
   "language": "julia",
   "name": "julia-1.10"
  },
  "language_info": {
   "file_extension": ".jl",
   "mimetype": "application/julia",
   "name": "julia",
   "version": "1.10.4"
  },
  "toc-showtags": false
 },
 "nbformat": 4,
 "nbformat_minor": 5
}

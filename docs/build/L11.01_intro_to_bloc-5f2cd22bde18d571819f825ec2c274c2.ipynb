{
 "cells": [
  {
   "cell_type": "markdown",
   "id": "b13f98fc",
   "metadata": {
    "slideshow": {
     "slide_type": "slide"
    },
    "tags": []
   },
   "source": [
    "# Intro to Blockchains\n",
    "\n",
    "> Computational Analysis of Social Complexity\n",
    ">\n",
    "> Fall 2024, Spencer Lyon\n",
    "\n",
    "**Prerequisites**\n",
    "\n",
    "- None!\n",
    "\n",
    "**Outcomes**\n",
    "\n",
    "- Create and utilize a ledger for recording financial transactions \n",
    "- Compare the difference between current payment systems (credit cards) and blockchain based systems\n",
    "- Understand the use of private/public key pairs in cryptographic security\n",
    "- Learn the core ideas behind the proof of work consensus mechanism\n",
    "\n",
    "**References**\n",
    "\n",
    "- https://www.forbes.com/advisor/credit-cards/credit-card-processing-how-it-works/\n",
    "- https://www.youtube.com/watch?v=bBC-nXj3Ng4\n",
    "- https://medium.com/certik/the-blockchain-trilemma-decentralized-scalable-and-secure-e9d8c41a87b3"
   ]
  },
  {
   "cell_type": "markdown",
   "id": "2803d23c",
   "metadata": {
    "slideshow": {
     "slide_type": "slide"
    },
    "tags": []
   },
   "source": [
    "## Intro\n",
    "\n",
    "- We now begin studying blockchains\n",
    "- This is an exciting new technology that combines aspects of computer science, cryptography, and economics to build a new set of \"financial rails\" for the 21st century\n",
    "- We will learn about the following concepts:\n",
    "  - Financial ledgers\n",
    "  - Public/private keys\n",
    "  - Decentralized ledgers and consensus\n",
    "  - The Bitcoin network"
   ]
  },
  {
   "cell_type": "markdown",
   "id": "31f5d1c0",
   "metadata": {
    "slideshow": {
     "slide_type": "slide"
    },
    "tags": []
   },
   "source": [
    "## Ledgers\n",
    "\n",
    "- A financial ledger is a log or record of financial transactions\n",
    "- Ledgers are typically used by accountants to record the transaction of a business and produce financial statements\n",
    "  - Balance sheet: assets and liabilities of a company (stocks)\n",
    "  - Income statement: revenues and expenses for a company in a given time frame (flows)\n",
    "  - Cash flow statement: summary of cash (or cash equivalents) entering or leaving a company in a given time frame\n",
    "- There are rules that govern how every transaction should be recorded on a company's general ledger\n",
    "- They are known as the generally accepted accounting principles (GAAP)"
   ]
  },
  {
   "cell_type": "markdown",
   "id": "492c6324",
   "metadata": {
    "slideshow": {
     "slide_type": "subslide"
    },
    "tags": []
   },
   "source": [
    "### Simple Example\n",
    "\n",
    "- We won't teach the rules of double entry book keeping or worry about categorizing transactions as credits or debits here\n",
    "- Instead we'll consider a simplified ledger that illustrates the main idea\n",
    "- Suppose there are 4 friends: Alice, Bob, Charlie, and Darla\n",
    "  - These friends frequently do things together, like go out for meals, attend concerts or movies, etc.\n",
    "  - To simplify paying for all these excursions, they often \"cover\" one another with the expectation that the costs will be repayed\n",
    "  - Instead of immediately repaying with cash, the friends instead decide to use a ledger..."
   ]
  },
  {
   "cell_type": "markdown",
   "id": "e598ac82",
   "metadata": {
    "slideshow": {
     "slide_type": "subslide"
    },
    "tags": []
   },
   "source": [
    "### ... Example continued\n",
    "\n",
    "- Suppose Alice and Bob go out for lunch, and Bob pays for Alice's meal\n",
    "  - Ledger entry: `Alice owes Bob 20 USD`\n",
    "- Then Bob and Charlie go to a concert and Charlie buys the tickets\n",
    "  - Ledger entry: `Bob owes Charlie 40 USD`\n",
    "- Then Darla and Charlie go out to dinner and Darla buys Charlie's meal:\n",
    "  - Leger Entry: `Charlie owes Darla 30 USD`\n",
    "- Finally Darla and Alice see a movie and Alice buys the tickets\n",
    "  - Ledger Entry: `Darla owes Alice 10 USD`"
   ]
  },
  {
   "cell_type": "markdown",
   "id": "a81862c8",
   "metadata": {
    "slideshow": {
     "slide_type": "subslide"
    },
    "tags": []
   },
   "source": [
    "### ... Example continued\n",
    "\n",
    "- Then at the end of the month, the friends get together and add up how much each person paid compared to how much each person owes:\n",
    "  - Alice owes 10 USD\n",
    "  - Bob owes 20 USD\n",
    "  - Charlie gets 10 USD\n",
    "  - Darla gets 20 USD\n",
    "- Once this tally has been computed, everyone who owes money puts their owed amount into the pot and everyone who should gets money takes it"
   ]
  },
  {
   "cell_type": "markdown",
   "id": "44d428a8",
   "metadata": {
    "slideshow": {
     "slide_type": "subslide"
    },
    "tags": []
   },
   "source": [
    "### Comments\n",
    "\n",
    "- Two comments\n",
    "  1.  While we don't always think about ledgers, they are active all around us in our everday purchases\n",
    "  2. In this example, we used a communal ledger\n",
    "     - Anyone, at any time, can add an entry\n",
    "     - This works well for a group of close friends where there is mutual **trust**\n",
    "     - But what if there isn't trust?...\n",
    "- We will discuss each of these in turn"
   ]
  },
  {
   "cell_type": "markdown",
   "id": "f81859d2",
   "metadata": {
    "slideshow": {
     "slide_type": "slide"
    },
    "tags": []
   },
   "source": [
    "## Everyday Ledgers\n",
    "\n",
    "- What happens when you use your credit card to purchase Mickey Ears from the World of Disney store in Disney Springs?\n",
    "- A lot! \n",
    "- There are a few key players involved:\n",
    "  - You\n",
    "  - Disney\n",
    "  - Disney's bank (the \"acquiring bank\")\n",
    "  - The credit card network (Visa, Mastercard, Discover, or Amex)\n",
    "  - Your bank (who issued you the credit card, also called \"issuing bank\")\n",
    "- There are two main steps\n",
    "  1. The approval phase: involves all 5 key players\n",
    "  2. The settlment phase: involves everyone except you\n"
   ]
  },
  {
   "cell_type": "markdown",
   "id": "7e32e9ec",
   "metadata": {
    "slideshow": {
     "slide_type": "subslide"
    },
    "tags": []
   },
   "source": [
    "### Approval phase\n",
    "\n",
    "Here are the steps for the approval phase\n",
    "\n",
    "1. You swipe (or tap/insert) credit card into store terminal\n",
    "2. Disney sends card information and transaction details to acquiring bank via internet\n",
    "3. Acquiring bank receives information and sends details to card network\n",
    "4. Card network routes information to cardholder’s bank\n",
    "5. The issuing bank receives the information and checks the card details (like card number and CVV code) to make sure the transaction is not fraudulent. The bank also ensures the cardholder is in good standing and has enough remaining credit to cover the purchase (or has sufficient funds to cover the transaction if using a debit card)\n",
    "6. The issuing bank sends a response back via the card network to the acquiring bank indicating success or failure\n",
    "7.  The response is received at the Disney’s credit card machine or terminal. If all the credentials in Step 5 check out, the transaction will be approved. Otherwise, it will show a message like “denied” on the machine. The cardholder sees this information right away and finishes the transaction while the response code is stored on the Disney’s machine for stage two of processing.\n",
    "\n",
    "> NOTE: ledgers are kept at each intermediary: disney records transaction response and details, issuing bank records how much you owe them for purchase, merchant bank records how much they need to collect on Disney's behalf..."
   ]
  },
  {
   "cell_type": "markdown",
   "id": "83944f42",
   "metadata": {
    "slideshow": {
     "slide_type": "subslide"
    },
    "tags": []
   },
   "source": [
    "### Settlement Phase\n",
    "\n",
    "* Typically at store close (or on a schedule) Disney will send all transactions from that day to their bank \n",
    "* Acquiring bank will confirm each authorization (using transaction response code provided by Disney) and use the card network to request funds from cardholders’ issuing banks\n",
    "* Issuing bank pays acquiring bank via card network. Card network debits issuing bank and credits acquiring bank — purely middle man\n",
    "* Issuing bank keeps track of transaction on your statement and collects from you at the end of the month"
   ]
  },
  {
   "cell_type": "markdown",
   "id": "32f7ab04",
   "metadata": {
    "slideshow": {
     "slide_type": "subslide"
    },
    "tags": []
   },
   "source": [
    "### Comments\n",
    "\n",
    "- There is a lot of complexity here:\n",
    "  - Many counterparties and intermediaries\n",
    "  - Delayed finality\n",
    "  - Record keeping for amount of credit used/remaining\n",
    "  - Reporting at many levels\n",
    "- Provides a great service\n",
    "  - We don't always need to carry cash\n",
    "  - We can spend based on credit\n",
    "  - Can spend in digital places like online ordering (how would you send cash to amazon?)\n",
    "- Not that efficient\n",
    "  - Each intermediary typically takes a fee"
   ]
  },
  {
   "cell_type": "markdown",
   "id": "5c5c4c2f",
   "metadata": {
    "slideshow": {
     "slide_type": "slide"
    },
    "tags": []
   },
   "source": [
    "## Trust in Ledgers\n",
    "\n",
    "- Let's return to the example  with Alice, Bob, Charlie, and Darla\n",
    "- Suppose there is a falling out between Alice and Bob and Bob decides to add an entry to the leger: `Alice owes Bob 100 USD`\n",
    "- Given what we described so far, there is nothing in our ledger system that prevents this\n",
    "- When settling the tally in the ledger at the end of the month, Bob would get 100 USD  and Alice would have to pay 100 USD\n",
    "- How can we avoid this? **Digital signatures**\n"
   ]
  },
  {
   "cell_type": "markdown",
   "id": "d0940929",
   "metadata": {
    "slideshow": {
     "slide_type": "subslide"
    },
    "tags": []
   },
   "source": [
    "### Signatures\n",
    "\n",
    "- In the existing monetary system, signatures are often required on checks or other forms of payment\n",
    "- They are (supposedly) unique to each individual, but never change\n",
    "- There are also forms of digital signatures with the following properties\n",
    "  - They cannot easily be forged\n",
    "  - They vary based on the document being signed\n",
    "  - It can be easily and unambiguously verified or proven that a specific entity signed the transaction"
   ]
  },
  {
   "cell_type": "markdown",
   "id": "fbb97afb",
   "metadata": {
    "slideshow": {
     "slide_type": "subslide"
    },
    "tags": []
   },
   "source": [
    "### Public/Private keys\n",
    "\n",
    "- How does this digital signature work?\n",
    "- Each participant in our digital, communal ledger will need to have a public/private key pair\n",
    "- All participants know the public 1/2 of everyone's key\n",
    "- However, the private part is kept secret and is only known to the specific person\n",
    "- When a transaction or message is added to the ledger, it must be signed by the counterparty\n",
    "  - `sign(::Transaction, ::PrivateKey)::Signature`\n",
    "- All other participants on the ledger can use the signer's public key to verify that the message did indeed come from the signer:\n",
    "  - `verify(::Signature, ::PublicKey)::Bool`\n",
    "- In the example where Bob creates a fraudulent transaction, he would have to use Alice's private key before other ledger members accept it\n",
    "  - Because Bob doesn't have Alice's private key, he cannot do this, so the faulty transaction would be rejected"
   ]
  },
  {
   "cell_type": "markdown",
   "id": "f0cf03da",
   "metadata": {
    "slideshow": {
     "slide_type": "subslide"
    },
    "tags": []
   },
   "source": [
    "### Comment\n",
    "\n",
    "- Now we have found a workaround for the fradulent transaction issue, greatly lowering the need for **trust**\n",
    "- However, we still trust that everyone will actually pay cash when it is time to settle up\n",
    "- Can we get rid of that too?"
   ]
  },
  {
   "cell_type": "markdown",
   "id": "2e85ce93",
   "metadata": {
    "slideshow": {
     "slide_type": "slide"
    },
    "tags": []
   },
   "source": [
    "## Trustless ledgers\n",
    "\n",
    "- Suppose now that we extend the ledger in the following way\n",
    "  - All participants must \"deposit\" funds before they can participate\n",
    "  - For a transaction to be valid it must be signed/verified **and** must require that the users running balance is not less than their total \"deposits\"\n",
    "  - At any time users can withdraw their funds to get back the dollars equal to their running balance (may be different from depoits)\n",
    "- Example:\n",
    "  - Ledger entries\n",
    "    - `Charlie deposits 100 USD`: accepted (balance 100 USD)\n",
    "    - `Charlie owes Bob 50 USD`: accepted (balance 50 USD)\n",
    "    - `Charlie owes Alice 50 USD`: accepted (balance 0 USD)\n",
    "    - `Charlie owes Darla 20 USD`: **rejected**  (balance already 0 USD, would be negative if accepted)\n",
    "- Now we no longer need to trust anyone -- would be willing to let anyone in the world use this system"
   ]
  },
  {
   "cell_type": "markdown",
   "id": "97983430",
   "metadata": {
    "slideshow": {
     "slide_type": "slide"
    },
    "tags": []
   },
   "source": [
    "## Cryptocurrencies\n",
    "\n",
    "- If everyone in the world was using this ledger system to record earnings, borrowing, and spending -- we wouldn't need dollars\n",
    "- If we don't need dollars, we might as well call the values something different\n",
    "- Let's use `LD` (ledger dollars) insead of `USD` for entries in the ledger\n",
    "  - We'll talk about how new `LD` enter the system later, but for now assume we can convert USD to LD before depositing\n",
    "\n",
    "> NOTE: as an economist I'm obligated to say that (1) I don't believe we necessarily want a system without dollars and (2) it is not the intention of (most) cryptocurrency projects to replace the dollar"
   ]
  },
  {
   "cell_type": "markdown",
   "id": "c2f351d8",
   "metadata": {
    "slideshow": {
     "slide_type": "subslide"
    },
    "tags": []
   },
   "source": [
    "### Ledger Dollars\n",
    "\n",
    "- Now our ledger dollars exist only on our digital ledger\n",
    "- But, because everyone we know is using them, they are every bit as real as USD backed by the US government\n",
    "- The value of one LD is entirely determined by the ledger itself\n",
    "- We can say that *the cryptocurrency **is** the ledger*"
   ]
  },
  {
   "cell_type": "markdown",
   "id": "d29a8968",
   "metadata": {
    "slideshow": {
     "slide_type": "slide"
    },
    "tags": []
   },
   "source": [
    "## Centralization\n",
    "\n",
    "- We now have a cryptocurrency -- the ledger dollar (LD)\n",
    "- The LD has value based on the ledger\n",
    "- But how to people add entries to the ledger\n",
    "- So far we have just called it public and said anyone can add an entry\n",
    "- An obvious choice would be a website or app\n",
    "- ... but that requires all users of the system to trust the servers/company providing the app!\n",
    "- We can do better..."
   ]
  },
  {
   "cell_type": "markdown",
   "id": "f9e7a4d0",
   "metadata": {
    "slideshow": {
     "slide_type": "subslide"
    },
    "tags": []
   },
   "source": [
    "### Decentralization <==> Trustless public ledger\n",
    "\n",
    "- In order to have a completely trustless peer-to-peer payment system (what Bitcoin was designed to be) we need to remove the centralized ledger operator\n",
    "- How do we do this?\n",
    "- This is a pretty technical question, explained beautifully in a [YouTube video](https://www.youtube.com/watch?v=bBC-nXj3Ng4) by 3blue1brown\n",
    "- We'll watch that video together and then discuss"
   ]
  },
  {
   "cell_type": "code",
   "execution_count": null,
   "id": "5c86c95e",
   "metadata": {},
   "outputs": [],
   "source": []
  },
  {
   "cell_type": "markdown",
   "id": "cd0adab8",
   "metadata": {
    "slideshow": {
     "slide_type": "slide"
    },
    "tags": []
   },
   "source": [
    "### Blockchains: key components\n",
    "\n",
    "There are a few other key components that were mentioned in the video, but should be written here also\n",
    "\n",
    "- Why \"blockchain\"?\n",
    "  - Transactions are bundled together and submitted as a block\n",
    "  - The ledger is a sequence of blocks\n",
    "  - To validate a block, miners have to compute the hash of (1) the transactions in the block AND (2) the hash of the previous block\n",
    "  - This dependence on the previous block gives the notion of a chain of blocks\n",
    "- Consensus mechanism\n",
    "  - For Bitcoin it is called \"proof of work\"\n",
    "    - Exchanges physical resources (hardware and energy) for security\n",
    "    - Most popular modern alternative is \"proof of stake\" -- provides security through economic constraints and incentives. We'll study this next time\n",
    "- Blockchain trilemma: \n",
    "  - Hypothesis is blockchains can have at most 2 of the following\n",
    "    1. Decentralization: no central points of trust or failure\n",
    "    2. Security: ability to operate as intended in the face of attacks\n",
    "    3. Scalability: ability to handle large volume of transactions\n",
    "  - Bitcoin chose security and decentralization, but suffers in area of scalability\n",
    "  - Being challenged by new technologies/blockchains including Solana, Avalanche, Cardano, Algorand, etc...\n"
   ]
  },
  {
   "cell_type": "markdown",
   "id": "fff4e452",
   "metadata": {
    "slideshow": {
     "slide_type": "slide"
    },
    "tags": []
   },
   "source": [
    "## Blockchain Properties\n",
    "\n",
    "- Global: blockchains are not limited geographically. If you can connect, you can use them wherever you happen to be in the world\n",
    "- Trustless: users of the blockchain don't have to trust any single person or entity in order to use the blockchain\n",
    "- Permissionless: nobody can grant or deny access to the blockchain. If you have an internet connection and are able to connect to any node on the chain, you can use it exactly like all other users"
   ]
  },
  {
   "cell_type": "markdown",
   "id": "022029da",
   "metadata": {
    "slideshow": {
     "slide_type": "slide"
    },
    "tags": []
   },
   "source": [
    "\n",
    "## Blockchain Applications\n",
    "\n",
    "- [Peer-to-peer payments](https://bitcoin.org/bitcoin.pdf): original use case and purpose of bitcoin blockchain\n",
    "- [Digital art via NFTs](https://opensea.io/)\n",
    "- [Gloabal healthcare records](https://consensys.net/blockchain-use-cases/healthcare-and-the-life-sciences/)\n",
    "- [ractionalized real-estate via tokenization](https://realt.co/)\n",
    "- [Video games and pay to earn](https://axieinfinity.com/)\n",
    "- [Infrastructure](https://www.helium.com/)\n",
    "- [Decentralized Finance](https://defipulse.com/)\n",
    "- [Cloud computing](https://dfinity.org/) and [file storage](https://filecoin.io/)\n",
    "- ... many, many others"
   ]
  },
  {
   "cell_type": "markdown",
   "id": "e20117e2",
   "metadata": {
    "slideshow": {
     "slide_type": "slide"
    },
    "tags": []
   },
   "source": [
    "## Summary\n",
    "\n",
    "- Today we started by talking about the importance of financial ledgers\n",
    "- We discussed how ledgers are used in the current financial system\n",
    "- We then talked about the key components of a blockchain (distributed ledger) including public/private key cryptography, decentralization, consensus mechanisms\n",
    "- We then spent a few minutes talking about key properties of blockchains and some current applications of blockchain technology\n",
    "- Next week we will learn about blockchain 2.0\n",
    "  - Key idea is what if we could store more than just transactions in the ledger\n",
    "  - What if we could store and execute computer programs?"
   ]
  },
  {
   "cell_type": "markdown",
   "id": "cd7e098d",
   "metadata": {},
   "source": []
  }
 ],
 "metadata": {
  "kernelspec": {
   "display_name": "Julia 1.10.4",
   "language": "julia",
   "name": "julia-1.10"
  },
  "language_info": {
   "file_extension": ".jl",
   "mimetype": "application/julia",
   "name": "julia",
   "version": "1.10.4"
  }
 },
 "nbformat": 4,
 "nbformat_minor": 5
}

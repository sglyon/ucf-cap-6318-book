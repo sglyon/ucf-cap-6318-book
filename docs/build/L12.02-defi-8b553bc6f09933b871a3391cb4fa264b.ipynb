{
 "cells": [
  {
   "cell_type": "markdown",
   "id": "b13f98fc",
   "metadata": {
    "slideshow": {
     "slide_type": "slide"
    },
    "tags": []
   },
   "source": [
    "# Defi: Money Legos\n",
    "\n",
    "> Computational Analysis of Social Complexity\n",
    "\n",
    "**Prerequisites**\n",
    "\n",
    "- Intro to Blockchain\n",
    "- Ethereum: Blockchain 2.0\n",
    "\n",
    "**Outcomes**\n",
    "\n",
    "- Be familiar with most popular Defi protocols\n",
    "- Understand how the ERC-20 token standard is central to Defi\n",
    "- Understand how Uniswap enables decentralized liquidity and token swapping\n",
    "- See example of data that can be analyzed for Uniswap\n",
    "\n",
    "\n",
    "**References**\n",
    "\n",
    "- https://ethereum.org/en/developers/docs/standards/tokens/erc-20/\n",
    "- https://defipulse.com\n",
    "- https://github.com/OpenZeppelin/openzeppelin-contracts/blob/master/contracts/token/ERC20/IERC20.sol\n",
    "- https://ethereum.org/en/developers/docs/web2-vs-web3/\n",
    "- https://www.freecodecamp.org/news/what-is-web3/\n",
    "- https://coinsul.io/learn/liquidity\n",
    "- https://coinsul.io/learn/erc20\n",
    "- https://coinsul.io/learn/amm"
   ]
  },
  {
   "cell_type": "markdown",
   "id": "780840c5",
   "metadata": {
    "slideshow": {
     "slide_type": "slide"
    },
    "tags": []
   },
   "source": [
    "## Decenralized Finance\n",
    "\n",
    "- One of the largest and growing applications of the Smart Contract system is known as Decentralized Finance, or Defi\n",
    "- Decentralized Finance (Defi) is\n",
    "    - Definition: Financial primitives built on a decentralized blockchain\n",
    "    - One of the key applications of blockchain technology to date\n",
    "    - Over $40B in funds locked in Defi smart contracts ([source](https://defillama.com/))"
   ]
  },
  {
   "cell_type": "markdown",
   "id": "79a836c5",
   "metadata": {
    "slideshow": {
     "slide_type": "subslide"
    },
    "tags": []
   },
   "source": [
    "### Defi Primitives\n",
    "\n",
    "- Some of the primitives offered by Defi applications include:\n",
    "    - Collateralized borrowing and lending: [Compound](https://compound.finance/markets) and [AAVE](https://aave.com)\n",
    "    - Swapping or exchanging tokens: [Uniswap](https://uniswap.org), [SushiSwap](https://sushi.com), and [Curve](https://curve.fi)\n",
    "    - Market making or liquidity providing: same list as swapping/exchanging\n",
    "    - Insurance: [Nexus Mutual](https://nexusmutual.io)\n",
    "    - Index Funds: [TokenSets](https://www.tokensets.com) and [Balancer](https://balancer.fi)"
   ]
  },
  {
   "cell_type": "markdown",
   "id": "338434aa",
   "metadata": {
    "slideshow": {
     "slide_type": "subslide"
    },
    "tags": []
   },
   "source": [
    "### Money Legos\n",
    "\n",
    "- Defi inherits the primary features of a blockchain: trustless, permisionless, censorship-resistant\n",
    "- Defi protocols also have additional features:\n",
    "    - \"Blind\" interoperability\n",
    "    - Loosely coupled, but tightly integrated\n",
    "- These are possible because of the ERC-20 token standard"
   ]
  },
  {
   "cell_type": "markdown",
   "id": "7ca3388c",
   "metadata": {
    "slideshow": {
     "slide_type": "subslide"
    },
    "tags": []
   },
   "source": [
    "### ERC-20\n",
    "\n",
    "- The ERC-20 token standard is an `interface` describing functionality (methods) and data (events) that make a smart contract a \"token\"\n",
    "- The Methods that are required include:\n",
    "\n",
    "```solidity\n",
    "// Info\n",
    "function name() public view returns (string)\n",
    "function symbol() public view returns (string)\n",
    "function decimals() public view returns (uint8)\n",
    "function totalSupply() public view returns (uint256)\n",
    "\n",
    "// functionality\n",
    "function balanceOf(address _owner) public view returns (uint256 balance)\n",
    "function transfer(address _to, uint256 _value) public returns (bool success)\n",
    "function transferFrom(address _from, address _to, uint256 _value) public returns (bool success)\n",
    "function approve(address _spender, uint256 _value) public returns (bool success)\n",
    "function allowance(address _owner, address _spender) public view returns (uint256 remaining)\n",
    "```\n",
    "\n",
    "- The events are\n",
    "\n",
    "```solidity\n",
    "event Transfer(address indexed _from, address indexed _to, uint256 _value)\n",
    "event Approval(address indexed _owner, address indexed _spender, uint256 _value)\n",
    "```"
   ]
  },
  {
   "cell_type": "markdown",
   "id": "6fa6eb17",
   "metadata": {
    "slideshow": {
     "slide_type": "subslide"
    },
    "tags": []
   },
   "source": [
    "### Why ERC-20?\n",
    "\n",
    "- Applications can be built against the ERC-20 standard instead of specific tokens\n",
    "- Allows applications to work for **all** tokens that implement the standard\n",
    "    - Extends to tokens that don't even exist when the application is created\n",
    "- Allows using outputs of one application as input for another\n",
    "    - Example: Deposit [USDC](0xa0b86991c6218b36c1d19d4a2e9eb0ce3606eb48) on AAVE as a lender --> receive [aUSDC](https://etherscan.io/token/0x9bA00D6856a4eDF4665BcA2C2309936572473B7E)\n",
    "    - Deposit aUSDC to [Curve](https://curve.fi/aave) as a liquidity provider --> receive [Curve LP tokens](https://etherscan.io/address/0xFd2a8fA60Abd58Efe3EeE34dd494cD491dC14900)\n",
    "    - Deposit Curve LP tokens into [ConvexFinance](https://www.convexfinance.com/) to increase LP revenues --> receive Convex Reward tokens"
   ]
  },
  {
   "cell_type": "markdown",
   "id": "b568a3e8",
   "metadata": {
    "slideshow": {
     "slide_type": "slide"
    },
    "tags": []
   },
   "source": [
    "## Web3\n",
    "\n",
    "- A common term you will hear in the ethereum space is \"Web3\"\n",
    "- What is Web3?\n",
    "- Web3 means applications with a web-based frontend, backed at least in part by blockchain on the backend\n",
    "- Key components to web3\n",
    "    - User wallet for authentication/authorization (public/private key pair)\n",
    "    - Storage of application assets on decentralized file system like IPFS\n",
    "    - Key logic and payment settling happens on chain\n"
   ]
  },
  {
   "cell_type": "markdown",
   "id": "cdf96e88-7909-41b0-8e5f-efa0c03993b3",
   "metadata": {
    "slideshow": {
     "slide_type": "subslide"
    },
    "tags": []
   },
   "source": [
    "### Why Web3?\n",
    "\n",
    "- Inherit benefits of blockchain: global, permissionless, trustless, etc.\n",
    "- Avoid the \"middle man\" of the internet: companies like Google, FaceBook, Amazon tracking your activity and making money on it\n",
    "- Enables content creators to truly **own** their content (see next week's discussion on NFTs)"
   ]
  },
  {
   "cell_type": "markdown",
   "id": "afa6ce12",
   "metadata": {
    "slideshow": {
     "slide_type": "slide"
    },
    "tags": []
   },
   "source": [
    "### Dapps\n",
    "\n",
    "- Another common piece of jargon is \"Dapp\"\n",
    "- Dapp stands for \"decentralized app\"\n",
    "- A Dapp is a system of coordinating smart contracts and web3 enabled user interface tied together to create an application like experience\n",
    "- To build a Dapp you need a frontend (web) talent and backend talent just like building an app...\n",
    "- Additionally Dapp builders also need to be able to create smart contracts\n"
   ]
  },
  {
   "cell_type": "markdown",
   "id": "daa09b15-76d3-46eb-ad32-c67cee0fb306",
   "metadata": {
    "slideshow": {
     "slide_type": "subslide"
    },
    "tags": []
   },
   "source": [
    "### Popular Dapps\n",
    "\n",
    "- There are many popular Dapps\n",
    "- All the examples listed earlier in the lecture as examples of Defi platforms are examples of Dapps\n",
    "- There are other, non Defi dapps also:\n",
    "    - NFTS: [OpenSea](https://opensea.io), [Rarible](https://rarible.com/), [LooksRare](https://looksrare.org/)\n",
    "    - Cloud services: [Filecoin](https://filecoin.io/), [Dfinity](https://dfinity.org/)\n",
    "    - Gaming: [Sandbox](https://www.sandbox.game/en/), [AxieInfinity](https://axieinfinity.com/), [Gala](https://gala.games/)"
   ]
  },
  {
   "cell_type": "markdown",
   "id": "501f1302",
   "metadata": {
    "slideshow": {
     "slide_type": "slide"
    },
    "tags": []
   },
   "source": [
    "## Example: Uniswap V2\n",
    "\n",
    "- Let's dive in to see in a bit more detail how the Uniswap Platform works\n",
    "- Two types of users:\n",
    "    - Traders: go to site, input token they want to sell (token A) + amount to sell + token to buy (token B) ==> platform figures out trade and gives quote for amount of token B user will receive\n",
    "    - Liquidity Providers: supply a pair of assets they own to a **liquidity pool**. These assets allow users to trade from one asset in the pool to the other"
   ]
  },
  {
   "cell_type": "markdown",
   "id": "2bbf6e37-08d8-4ab8-9db5-591dc34b40be",
   "metadata": {
    "slideshow": {
     "slide_type": "subslide"
    },
    "tags": []
   },
   "source": [
    "### How Trading Works\n",
    "\n",
    "- In a traditional exchange (not Uniswap), trades are executed based off an order book\n",
    "    - Sellers of an asset post a sale price and amount\n",
    "    - Buyers post a purchase price and amount\n",
    "    - Whenever there is \"overlap\" on seller and buyer orders, a trade happens\n",
    "- Uniswap takes a different approach and is called an Automated Market Maker (AMM)\n",
    "    - Liqudity providers deposit 2 tokens into a pool (anyone can deposit into any pool)\n",
    "    - A **bonding curve** is used to quote prices of one token in terms of the other (e.g. tokenA/tokenB or tokenB/tokenA)\n",
    "    - Traders interact directly with the pool\n",
    "        - Tokens they are selling are deposited into pool\n",
    "        - Tokens they are buying are withdrawn\n",
    "    - A logic layer called the \"router\" allows one token to be swapped for any other one, even if there is not a pool between the two tokens \n",
    "        - e.g. CRV -> GRT might go through path CRV -> ETH -> USDC -> GRT\n",
    "        - Three pools are used CRV - ETH, ETH - USDC, USDC - GRT\n",
    "- Term AMM comes from fact that smart contract + mathematical equation execute trades automatically without any central entity needing to organize order book or execute trades"
   ]
  },
  {
   "cell_type": "markdown",
   "id": "e7a72363-cd7a-407f-87ff-5bf4b4aec4d9",
   "metadata": {
    "slideshow": {
     "slide_type": "subslide"
    },
    "tags": []
   },
   "source": [
    "### Constant Product AMM: x * y = k\n",
    "\n",
    "- We spoke of a **bonding curve** that is used by the pool's smart contract to quote prices\n",
    "- This is a key mathematical equation that dictates how reserves enter or leave the pool\n",
    "- The bonding curve used in Uniswap (and others like SushiSwap) is called the constant product rule: x * y = k\n",
    "- From the [uniswap V2 docs](https://docs.uniswap.org/protocol/V2/concepts/protocol-overview/how-uniswap-works)\n",
    "> Pairs act as automated market makers, standing ready to accept one token for the other as long as the “constant product” formula is preserved. This formula, most simply expressed as `x * y = k`, states that trades must not change the product (`k`) of a pair’s reserve balances (`x` and `y`). Because `k` remains unchanged from the reference frame of a trade, it is often referred to as the invariant. This formula has the desirable property that larger trades (relative to reserves) execute at exponentially worse rates than smaller ones.\n",
    "\n",
    "- More reading: https://coinsul.io/learn/amm"
   ]
  },
  {
   "cell_type": "markdown",
   "id": "42949caf-614e-4db3-9afb-4faf51313f76",
   "metadata": {
    "slideshow": {
     "slide_type": "subslide"
    },
    "tags": []
   },
   "source": [
    "### Exercise\n",
    "\n",
    "- Consider a liquidity pool between assets WBTC and USDC\n",
    "- We'll refer to reserves of WBTC as `x`\n",
    "- USDC reserves are `y`\n",
    "- Suppose that before a trade we have `x = 25` and `y=600_000`\n",
    "- This implies that `k = x * y =  6_000_000`\n",
    "- A trader comes and wants to sell 0.5 WBTC\n",
    "- After the trade we have `x1 = x0 + 0.5 = 25.5` units of WBTC in the pool\n",
    "- Question: What amount of USDC will the trader get out of the pool? Use the code cell below to figure it out..."
   ]
  },
  {
   "cell_type": "code",
   "execution_count": null,
   "id": "ccf97cdb-9bb2-4eef-ba67-5de9e638300a",
   "metadata": {},
   "outputs": [],
   "source": [
    "# TODO: your code here\n"
   ]
  },
  {
   "cell_type": "markdown",
   "id": "b6d6d882-737c-4f26-a38b-4bb6d7eb1892",
   "metadata": {
    "slideshow": {
     "slide_type": "subslide"
    },
    "tags": []
   },
   "source": [
    "### Comment\n",
    "\n",
    "- See how the `x * y = k` bonding curve was used to quote prices\n",
    "- In our example we were able to say that the price of 0.5 WBTC (in terms of USDC) was the answer you computed"
   ]
  },
  {
   "cell_type": "code",
   "execution_count": null,
   "id": "15a9df54-b53c-484d-8430-0a2c72e05915",
   "metadata": {},
   "outputs": [],
   "source": []
  },
  {
   "cell_type": "markdown",
   "id": "b96bc4c7-9490-447b-98ce-fd6a04a8583d",
   "metadata": {
    "slideshow": {
     "slide_type": "subslide"
    },
    "tags": []
   },
   "source": [
    "### Adding/Removing Liquidity\n",
    "\n",
    "- The constant product rule states that x * y = k before and after each trade\n",
    "- What about when liquidity is added or removed from the pool?\n",
    "- In order to add liquidity a liquidity provider must deposit equal *value* of both tokens \n",
    "    - Value is computed in terms of the current reserves: for each unit of token B that is deposited, a user must have `x/y` units of token A\n",
    "- When liquidity is added, `k` is increased\n",
    "- When liquidity is removed the liquidity provider gets their share of the current reserves and `k` decreases"
   ]
  },
  {
   "cell_type": "markdown",
   "id": "860be9fa-68bd-4f39-9a50-e32e51b770c8",
   "metadata": {
    "slideshow": {
     "slide_type": "slide"
    },
    "tags": []
   },
   "source": [
    "### Example: Analyzing Uniswap Pools\n",
    "\n",
    "- Let's do some data analysis on Uniswap Pools\n",
    "- Below I have some code that will read in data on all pools with at least $75,000 total value\n",
    "    - The data come from a service called \"The Graph\"\n",
    "- I also have some helper functions that you might find helpful for your analysis\n",
    "- We'll seek to answer some questions:\n",
    "    1. How many pools have at least 1/2 million in asssets?\n",
    "    2. Which token appears in the most pools?\n",
    "    3. Is it possible to swap from any token in these pools to any other token? (i.e. is the graph connected)?\n",
    "    4. What's the cheapest possible way to trade from one token to another?"
   ]
  },
  {
   "cell_type": "markdown",
   "id": "cb9171d8-f2a4-41b9-8775-f102b00775d1",
   "metadata": {
    "slideshow": {
     "slide_type": "subslide"
    },
    "tags": []
   },
   "source": [
    "### Data\n",
    "\n",
    "- Let's first gather some data"
   ]
  },
  {
   "cell_type": "code",
   "execution_count": null,
   "id": "8299638b-5a77-4203-bdc1-ac422cd505e6",
   "metadata": {},
   "outputs": [],
   "source": [
    "# import Pkg\n",
    "# Pkg.activate(\".\")\n",
    "# Pkg.add([\"HTTP\", \"JSON3\", \"StructTypes\", \"Graphs\", \"DataFrames\", \"GraphPlot\"])\n",
    "# Pkg.instantiate()"
   ]
  },
  {
   "cell_type": "code",
   "execution_count": 2,
   "id": "4b5669ed-8343-4e38-a0e8-64d61605602d",
   "metadata": {},
   "outputs": [],
   "source": [
    "using HTTP, JSON3, StructTypes"
   ]
  },
  {
   "cell_type": "code",
   "execution_count": 3,
   "id": "30049cd9-eb68-467f-8c11-d7c89f8bb858",
   "metadata": {},
   "outputs": [],
   "source": [
    "struct Token\n",
    "    id::String\n",
    "    name::String\n",
    "    symbol::String\n",
    "    decimals::Int\n",
    "end\n",
    "\n",
    "\n",
    "struct Pool\n",
    "    id::String\n",
    "    inputTokens::Vector{Token}\n",
    "    inputTokenBalances::Vector{String}\n",
    "    totalValueLockedUSD::Float64\n",
    "    inputTokenWeights::Vector{String}\n",
    "end\n",
    "\n",
    "struct Pairs\n",
    "    liquidityPools::Vector{Pool}\n",
    "end\n",
    "\n",
    "struct Response\n",
    "    data::Pairs\n",
    "end\n",
    "\n",
    "# Set up JSON3 to unpack API results into our structs\n",
    "StructTypes.StructType(::Union{Type{Pool},Type{Token},Type{Response},Type{Pairs}}) = StructTypes.Struct()"
   ]
  },
  {
   "cell_type": "code",
   "execution_count": 26,
   "id": "20233319-a1af-4351-a013-71bf61c984ff",
   "metadata": {},
   "outputs": [
    {
     "data": {
      "text/plain": [
       "request_uniswap_pool_data (generic function with 6 methods)"
      ]
     },
     "execution_count": 26,
     "metadata": {},
     "output_type": "execute_result"
    }
   ],
   "source": [
    "function request_uniswap_pool_data(api_key, first::Int=1000, skip::Int=0)\n",
    "    query = \"\"\"\n",
    "    {\n",
    "      liquidityPools(\n",
    "        first: $first\n",
    "        skip: $skip\n",
    "        orderBy: id\n",
    "        orderDirection: desc\n",
    "        where: {totalValueLockedUSD_gt: 75000}\n",
    "      ) {\n",
    "        id\n",
    "        inputTokens {\n",
    "          id\n",
    "          name\n",
    "          symbol\n",
    "          decimals\n",
    "        }\n",
    "        inputTokenBalances\n",
    "        totalValueLockedUSD\n",
    "        inputTokenWeights\n",
    "      }\n",
    "    }\n",
    "    \"\"\"\n",
    "    url = \"https://gateway.thegraph.com/api/$(api_key)/subgraphs/id/77jZ9KWeyi3CJ96zkkj5s1CojKPHt6XJKjLFzsDCd8Fd\"\n",
    "    # url = \"https://api.thegraph.com/subgraphs/name/uniswap/uniswap-v2\"\n",
    "    headers = Dict(\"content-type\" => \"application/json\")\n",
    "    body = Dict(\"query\" => query)\n",
    "    res = HTTP.post(url, headers, JSON3.write(body))\n",
    "    data = JSON3.read(String(res.body), Response, parsequoted=true)\n",
    "    return data.data.liquidityPools\n",
    "end\n"
   ]
  },
  {
   "cell_type": "code",
   "execution_count": 27,
   "id": "ae83fde9-e03a-4c6e-be04-fbe2235173d2",
   "metadata": {},
   "outputs": [],
   "source": [
    "using JLD2\n",
    "\n",
    "function load_pool_data(api_key)\n",
    "    if isfile(\"all_pools.jld2\")\n",
    "        return jldopen(\"all_pools.jld2\") do file\n",
    "           file[\"all_pools\"]\n",
    "        end\n",
    "    end\n",
    "\n",
    "    # we are limited to 1000 pools per request, so we will\n",
    "    # paginate through the request until we have collected\n",
    "    # all pools with at least 50k in holdings\n",
    "    done = false\n",
    "    n = 0\n",
    "    all_pools = Pool[]\n",
    "    while !done\n",
    "        new_pools = request_uniswap_pool_data(api_key, 1000, n)\n",
    "        @show n += length(new_pools)\n",
    "        if length(new_pools) < 1000\n",
    "            done = true\n",
    "        end\n",
    "        all_pools = vcat(all_pools, new_pools)\n",
    "    end\n",
    "\n",
    "    jldsave(\"all_pools.jld2\"; all_pools)\n",
    "\n",
    "    all_pools\n",
    "end\n",
    "\n",
    "\n",
    "all_pools = load_pool_data(\"MISSING_API_KEY\");"
   ]
  },
  {
   "cell_type": "code",
   "execution_count": 10,
   "id": "f4e0492e-884b-444d-a202-92f633e77cfe",
   "metadata": {},
   "outputs": [],
   "source": [
    "## the code below constructs `tokens`, which is a Vector of unique tokens\n",
    "tokens_set = Set{Token}()\n",
    "for p in all_pools, t in p.inputTokens\n",
    "    push!(tokens_set, t)\n",
    "end\n",
    "tokens = collect(tokens_set);"
   ]
  },
  {
   "cell_type": "code",
   "execution_count": 11,
   "id": "7189eb9c-0455-4cef-b6ac-233cd466572c",
   "metadata": {},
   "outputs": [],
   "source": [
    "## the code below constructs `token_ids` which maps from\n",
    "# a `Token` to a\n",
    "token_ids = Dict(zip(tokens, 1:length(tokens)));"
   ]
  },
  {
   "cell_type": "code",
   "execution_count": 13,
   "id": "58f7cadd",
   "metadata": {},
   "outputs": [
    {
     "data": {
      "text/plain": [
       "Dict{Token, Int64} with 119 entries:\n",
       "  Token(\"0x4c2e59d098df7b6cbae0848d66de2f8a4889b9c3\", \"Fodl\", \"FODL\", 18)  => 1\n",
       "  Token(\"0xe76c6c83af64e4c60245d8c7de953df673a7a33d\", \"Rail\", \"RAIL\", 18)  => 2\n",
       "  Token(\"0x6fc2f1044a3b9bb3e43a43ec8f840843ed753061\", \"Robo Token\", \"ROBO… => 3\n",
       "  Token(\"0x5c147e74d63b1d31aa3fd78eb229b65161983b2b\", \"Wrapped Flow\", \"WF… => 4\n",
       "  Token(\"0xf17e65822b568b3903685a7c9f496cf7656cc6c2\", \"Biconomy Token\", \"… => 5\n",
       "  Token(\"0xa1faa113cbe53436df28ff0aee54275c13b40975\", \"AlphaToken\", \"ALPH… => 6\n",
       "  Token(\"0xff20817765cb7f73d4bde2e66e067e58d11095c2\", \"Amp\", \"AMP\", 18)    => 7\n",
       "  Token(\"0x16c52ceece2ed57dad87319d91b5e3637d50afa4\", \"TCAP Token\", \"TCAP… => 8\n",
       "  Token(\"0xd084944d3c05cd115c09d072b9f44ba3e0e45921\", \"Manifold Finance\",… => 9\n",
       "  Token(\"0x1f9840a85d5af5bf1d1762f925bdaddc4201f984\", \"Uniswap\", \"UNI\", 1… => 10\n",
       "  Token(\"0xba5bde662c17e2adff1075610382b9b691296350\", \"SuperRare\", \"RARE\"… => 11\n",
       "  Token(\"0x967da4048cd07ab37855c090aaf366e4ce1b9f48\", \"Ocean Token\", \"OCE… => 12\n",
       "  Token(\"0x9f8f72aa9304c8b593d555f12ef6589cc3a579a2\", \"\", \"\", 18)          => 13\n",
       "  Token(\"0x4bee0504a440474f1acff4a2e739aaa83d705695\", \"Solrise\", \"SOLR\", … => 14\n",
       "  Token(\"0xc4e15973e6ff2a35cc804c2cf9d2a1b817a8b40f\", \"Interest-Bearing B… => 15\n",
       "  Token(\"0xe00639a1f59b52773b7d39d9f9bef07f6248dbae\", \"The DAOX Index\", \"… => 16\n",
       "  Token(\"0x1a4b46696b2bb4794eb3d4c26f1c55f9170fa4c5\", \"BitDAO\", \"BIT\", 18) => 17\n",
       "  Token(\"0x2260fac5e5542a773aa44fbcfedf7c193bc2c599\", \"Wrapped BTC\", \"WBT… => 18\n",
       "  Token(\"0x85f17cf997934a597031b2e18a9ab6ebd4b9f6a4\", \"NEAR\", \"NEAR\", 24)  => 19\n",
       "  Token(\"0xe80c0cd204d654cebe8dd64a4857cab6be8345a3\", \"JPEG’d Governance … => 20\n",
       "  Token(\"0x50d1c9771902476076ecfc8b2a83ad6b9355a4c9\", \"FTT\", \"FTX Token\",… => 21\n",
       "  Token(\"0x6fb3e0a217407efff7ca062d46c26e5d60a14d69\", \"IoTeX Network\", \"I… => 22\n",
       "  Token(\"0x429881672b9ae42b8eba0e26cd9c73711b891ca5\", \"PickleToken\", \"PIC… => 23\n",
       "  Token(\"0x44709a920fccf795fbc57baa433cc3dd53c44dbe\", \"DappRadar\", \"RADAR… => 24\n",
       "  Token(\"0x3e828ac5c480069d4765654fb4b8733b910b13b2\", \"Colony Network Tok… => 25\n",
       "  ⋮                                                                        => ⋮"
      ]
     },
     "execution_count": 13,
     "metadata": {},
     "output_type": "execute_result"
    }
   ],
   "source": [
    "token_ids"
   ]
  },
  {
   "cell_type": "code",
   "execution_count": 14,
   "id": "6237a286-9d58-4a14-9c84-0a07e40448fa",
   "metadata": {},
   "outputs": [
    {
     "data": {
      "text/plain": [
       "pools_for_token (generic function with 2 methods)"
      ]
     },
     "execution_count": 14,
     "metadata": {},
     "output_type": "execute_result"
    }
   ],
   "source": [
    "function pools_for_token(t::Token)\n",
    "    bools = [t in p.inputTokens for p in all_pools]\n",
    "    return all_pools[bools]\n",
    "end\n",
    "\n",
    "function pools_for_token(sym::String)\n",
    "    bools = [t.symbol == sym for t in tokens]\n",
    "    token = tokens[bools]\n",
    "    @assert length(token) == 1 \"More than one token for this symbol\"\n",
    "    return pools_for_token(token[1])\n",
    "end"
   ]
  },
  {
   "cell_type": "code",
   "execution_count": 20,
   "id": "3c184a4f",
   "metadata": {},
   "outputs": [
    {
     "data": {
      "text/plain": [
       "6-element Vector{Pool}:\n",
       " Pool(\"0xd227083b6feb1a40a975d74575311fb907fb960f\", Token[Token(\"0x2260fac5e5542a773aa44fbcfedf7c193bc2c599\", \"Wrapped BTC\", \"WBTC\", 8), Token(\"0xc88f47067db2e25851317a2fdae73a22c0777c37\", \"oneBTC\", \"oneBTC\", 9)], [\"216244495\", \"128976651862421\"], 129061.81033489635, [\"50\", \"50\"])\n",
       " Pool(\"0xceff51756c56ceffca006cd410b03ffc46dd3a58\", Token[Token(\"0x2260fac5e5542a773aa44fbcfedf7c193bc2c599\", \"Wrapped BTC\", \"WBTC\", 8), Token(\"0xc02aaa39b223fe8d0a0e5c4f27ead9083c756cc2\", \"Wrapped Ether\", \"WETH\", 18)], [\"26843159106\", \"6004308443707625906700\"], 3.1986916944566853e7, [\"50\", \"50\"])\n",
       " Pool(\"0x69d4f0e72a9de650dd3fe1f185ed3bf1e9e7e3ed\", Token[Token(\"0x2260fac5e5542a773aa44fbcfedf7c193bc2c599\", \"Wrapped BTC\", \"WBTC\", 8), Token(\"0x6fc2f1044a3b9bb3e43a43ec8f840843ed753061\", \"Robo Token\", \"ROBO\", 18)], [\"352282330\", \"10871076558001882391968128\"], 215508.9162822856, [\"50\", \"50\"])\n",
       " Pool(\"0x18d98d452072ac2eb7b74ce3db723374360539f1\", Token[Token(\"0x2260fac5e5542a773aa44fbcfedf7c193bc2c599\", \"Wrapped BTC\", \"WBTC\", 8), Token(\"0xc4e15973e6ff2a35cc804c2cf9d2a1b817a8b40f\", \"Interest-Bearing BTC\", \"ibBTC\", 18)], [\"191649090\", \"1912470997615767188\"], 106596.2647463434, [\"50\", \"50\"])\n",
       " Pool(\"0x164fe0239d703379bddde3c80e4d4800a1cd452b\", Token[Token(\"0x0b498ff89709d3838a063f1dfa463091f9801c2b\", \"BTC 2x Flexible Leverage Index\", \"BTC2x-FLI\", 18), Token(\"0x2260fac5e5542a773aa44fbcfedf7c193bc2c599\", \"Wrapped BTC\", \"WBTC\", 8)], [\"7307918293774608814456\", \"253529578\"], 154228.15038042216, [\"50\", \"50\"])\n",
       " Pool(\"0x110492b31c59716ac47337e616804e3e3adc0b4a\", Token[Token(\"0x2260fac5e5542a773aa44fbcfedf7c193bc2c599\", \"Wrapped BTC\", \"WBTC\", 8), Token(\"0x3472a5a71965499acd81997a54bba8d852c6e53d\", \"Badger\", \"BADGER\", 18)], [\"600439689\", \"135711203957553315622500\"], 365866.14280301303, [\"50\", \"50\"])"
      ]
     },
     "execution_count": 20,
     "metadata": {},
     "output_type": "execute_result"
    }
   ],
   "source": [
    "pools_for_token(\"WBTC\")"
   ]
  },
  {
   "cell_type": "markdown",
   "id": "1b192413-5b1d-4d2b-b3db-748bdc1b5582",
   "metadata": {
    "slideshow": {
     "slide_type": "subslide"
    },
    "tags": []
   },
   "source": [
    "## Exercise 1\n",
    "\n",
    "Using the routines above, construct a Simple (un-weighted, undirected) graph of tokens.\n",
    "\n",
    "The number of nodes should be the number of tokens\n",
    "\n",
    "The number of edges should be the number of pools\n",
    "\n",
    "An edge should form between two nodes if we have a pool for those two tokens"
   ]
  },
  {
   "cell_type": "code",
   "execution_count": null,
   "id": "4e0bbf3a-e0f8-4abd-8340-a3a0195d5dff",
   "metadata": {},
   "outputs": [],
   "source": [
    "# Your code here\n",
    "using Graphs"
   ]
  },
  {
   "cell_type": "markdown",
   "id": "523c587c-cc18-4214-8889-54340e74fd95",
   "metadata": {},
   "source": [
    "### Exercise 2\n",
    "\n",
    "Using `GraphPlot` package, visualize the graph.\n",
    "\n",
    "See if you can add node labels, perhaps only to the few nodes with the most edges."
   ]
  },
  {
   "cell_type": "code",
   "execution_count": null,
   "id": "8864d5f6-f651-4af5-b5a9-f78106e4be14",
   "metadata": {},
   "outputs": [],
   "source": [
    "# your code here\n",
    "using GraphPlot"
   ]
  },
  {
   "cell_type": "markdown",
   "id": "0e0f74c0-0125-461c-9d8b-4610b6649cf1",
   "metadata": {
    "slideshow": {
     "slide_type": "subslide"
    },
    "tags": []
   },
   "source": [
    "### Exercise 3\n",
    "\n",
    "Using the graph you just constructed, answer the following questions\n",
    "\n",
    "- Is is possible to trade from any token to any other token?\n",
    "- What is the overall clustering coefficient?\n",
    "- Which token is part of the most pools? What is the local clustering coefficient for this pool?"
   ]
  },
  {
   "cell_type": "code",
   "execution_count": null,
   "id": "866d9d00-814d-4809-8ec4-53764602413f",
   "metadata": {},
   "outputs": [],
   "source": [
    "# Your code here"
   ]
  },
  {
   "cell_type": "markdown",
   "id": "c1f8a284-f760-42ce-a7dc-571ceed9e79f",
   "metadata": {
    "slideshow": {
     "slide_type": "subslide"
    },
    "tags": []
   },
   "source": [
    "### Exercise 4\n",
    "\n",
    "- We mentioned above that trades can take place between any two assets, even if there isn't a pool for that pair\n",
    "- This happens through order routing\n",
    "- In practice, this is implemented as a smart contract called the router\n",
    "- Because we have studied network theory, we could implement a router by solving a shortest path problem...\n",
    "\n",
    "Your task here is to use the graph you formed before to compute the cheapest path possible to trade from the `MKR` token to the `SAND` token. \n",
    "\n",
    "Meaning, assuming we sell 10 MKR, which path through these pools gives the most possible units of `SAND`?\n",
    "\n",
    "A few tips:\n",
    "\n",
    "- You will have to use the x*y=k rule we learned earlier at each pool\n",
    "- You should never visit any pool more than once -- that would be a cycle and would be wasteful"
   ]
  },
  {
   "cell_type": "code",
   "execution_count": null,
   "id": "f211b569-4409-41da-8c0d-a9ca018f6668",
   "metadata": {},
   "outputs": [],
   "source": [
    "# Your code here"
   ]
  }
 ],
 "metadata": {
  "kernelspec": {
   "display_name": "Julia 1.10.4",
   "language": "julia",
   "name": "julia-1.10"
  },
  "language_info": {
   "file_extension": ".jl",
   "mimetype": "application/julia",
   "name": "julia",
   "version": "1.10.4"
  }
 },
 "nbformat": 4,
 "nbformat_minor": 5
}

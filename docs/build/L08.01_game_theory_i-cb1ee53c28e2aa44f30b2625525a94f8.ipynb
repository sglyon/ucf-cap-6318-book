{
    "cells": [
        {
            "cell_type": "markdown",
            "metadata": {
                "slideshow": {
                    "slide_type": "slide"
                }
            },
            "source": [
                "# Game Theory 1\n",
                "\n",
                "> Computational Analysis of Social Complexity\n",
                ">\n",
                "> Fall 2025, Spencer Lyon\n",
                "\n",
                "**Prerequisites**\n",
                "\n",
                "- Julia basics\n",
                "\n",
                "**Outcomes**\n",
                "\n",
                "- Understand the basic structure of a Game\n",
                "- Be able to identify any Nash Equilibria in pure strategies for a normal form game\n",
                "- Understand how normal form and extensive form games are related\n",
                "\n",
                "**References**\n",
                "\n",
                "- [Easley and Kleinberg](https://www.cs.cornell.edu/home/kleinber/networks-book/) chapter 6 "
            ]
        },
        {
            "cell_type": "markdown",
            "metadata": {
                "slideshow": {
                    "slide_type": "slide"
                }
            },
            "source": [
                "## Introduction\n",
                "\n",
                "- Computational social science analyzes the connectedness of natural, social, and technological systems\n",
                "- **Graph theory** (networks) has helped us understand how the *structure* of relationships influence outcomes\n",
                "- We now turn to how behaviors, incentives, and strategies influence choices (and thus outcomes)\n",
                "- The study of how entities make strategic choices in settings where outcomes depend on individual choices and the choices of others is called **game theory**\n",
                "- Game theory is a very rich topic at the intersection of mathematics and economics\n",
                "- We will study key concepts, but will not cover them in detail or exhaustively"
            ]
        },
        {
            "cell_type": "markdown",
            "metadata": {
                "slideshow": {
                    "slide_type": "subslide"
                }
            },
            "source": [
                "## What is a Game?\n",
                "\n",
                "- A game is a description of a strategic environment composed of three elements:\n",
                "  1. A finite set of $N$ players\n",
                "  2. For each player $i$, a set of feasible actions $S_i$\n",
                "     - Define $\\Sigma = \\times_i S_i$ as action space  and $\\sigma$ as typical element\n",
                "  3. For each player $i$, a payoff function $p_i:\\Sigma \\rightarrow \\mathbb{R}$\n",
                "- To help with notation we'll focus on two player games (N=2)\n",
                "- We'll also start by considering that each player has a discrete set of actions (WLOG call them $1 \\dots M_i$ for player $i$)\n",
                "- Basic concepts and definitions can be naturally extended to cases where $N>2$"
            ]
        },
        {
            "cell_type": "markdown",
            "metadata": {
                "slideshow": {
                    "slide_type": "subslide"
                }
            },
            "source": [
                "## Example: Prisoner's Dilemma\n",
                "\n",
                "- A very famous example of a game is called the prisoner's dilemma\n",
                "- Story: two robbery suspects brought in for questioning\n",
                "- Investigator immediately separates them and gives both the same deal\n",
                "> If you confess and your partner doesn't, you go free and he gets 10 years. If you both confess you each get 4 years, and if neither confesses you each get 1 year.\n",
                "- The payoffs for this game can be summarized as follows:\n",
                "![https://compsosci-resources.s3.amazonaws.com/game_theory_lectures/prisoners_dilemma.png](https://compsosci-resources.s3.amazonaws.com/game_theory_lectures/prisoners_dilemma.png)"
            ]
        },
        {
            "cell_type": "markdown",
            "metadata": {
                "slideshow": {
                    "slide_type": "fragment"
                }
            },
            "source": [
                "- Each table entry has two items \n",
                "- In terms of our definition of a game we have...\n",
                "  - N = 2 players\n",
                "  - Strategys: $S_i = \\{\\text{not confess}, \\text{ confess} \\}$ for both players\n",
                "  - Payoffs $p_i$ as specified in the table"
            ]
        },
        {
            "cell_type": "markdown",
            "metadata": {
                "slideshow": {
                    "slide_type": "subslide"
                }
            },
            "source": [
                "### Payoffs as matrices\n",
                "\n",
                "- A common representation of payoffs for a single player is a matrix called the **payoff** matrix $P_i \\in \\mathbb{R}^{M_1 \\times M_2}$ \n",
                "- The row i, column j element gives the payoff when player i chooses the $i$th action in $S_1$ and player j chooses the $j$th action in $S_2$\n",
                "- For the Prisoner's Dilemma game above, we have"
            ]
        },
        {
            "cell_type": "code",
            "execution_count": 1,
            "metadata": {},
            "outputs": [
                {
                    "data": {
                        "text/plain": [
                            "2×2 Matrix{Int64}:\n",
                            "  -1   0\n",
                            " -10  -4"
                        ]
                    },
                    "execution_count": 1,
                    "metadata": {},
                    "output_type": "execute_result"
                }
            ],
            "source": [
                "pd_p1 = [-1 -10; 0 -4]\n",
                "pd_p2 = [-1 0 ;-10 -4]"
            ]
        },
        {
            "cell_type": "markdown",
            "metadata": {
                "slideshow": {
                    "slide_type": "subslide"
                }
            },
            "source": [
                "### Best Responses\n",
                "\n",
                "- What would happen in the Prisoner's dilemma game?\n",
                "- You may think that these partners in crime would like to stick together and get a total of 1 year each by not confessing\n",
                "- However, that doesn't happen\n",
                "- The investigator knows game theory and rigged the game against them..."
            ]
        },
        {
            "cell_type": "markdown",
            "metadata": {
                "slideshow": {
                    "slide_type": "subslide"
                }
            },
            "source": [
                "#### What should Suspect 1 Do?\n",
                "\n",
                "- Let's consider suspect 1\n"
            ]
        },
        {
            "cell_type": "code",
            "execution_count": 2,
            "metadata": {},
            "outputs": [
                {
                    "data": {
                        "text/plain": [
                            "2×2 Matrix{Int64}:\n",
                            " -1  -10\n",
                            "  0   -4"
                        ]
                    },
                    "execution_count": 2,
                    "metadata": {},
                    "output_type": "execute_result"
                }
            ],
            "source": [
                "pd_p1"
            ]
        },
        {
            "cell_type": "markdown",
            "metadata": {},
            "source": [
                "- Suppose suspect 1 believes suspect 2 will not confess\n",
                "  - Suspect 1 now faces the first column of `pd_p1` and sees he's better of confessing and getting 0 years instead of -1\n",
                "- What if supsect 1 believes suspect 2 will confess?\n",
                "  - 1 now faces second column and prefers -4 to a -10, so he still chooses to confess\n",
                "- In either case, suspect 1's **best response** is to confess\n",
                "- Because confess is always a best response, we call it a dominating strategy (in this strictly dominating because it is always strictly better than not confess)\n"
            ]
        },
        {
            "cell_type": "markdown",
            "metadata": {
                "slideshow": {
                    "slide_type": "subslide"
                }
            },
            "source": [
                "#### How about Suspect 2?\n",
                "\n",
                "- If we look closely as supsect 2's payoffs we see his game is symmetric to suspect 1's:\n"
            ]
        },
        {
            "cell_type": "code",
            "execution_count": 3,
            "metadata": {},
            "outputs": [
                {
                    "data": {
                        "text/plain": [
                            "2×2 Matrix{Int64}:\n",
                            "  -1   0\n",
                            " -10  -4"
                        ]
                    },
                    "execution_count": 3,
                    "metadata": {},
                    "output_type": "execute_result"
                }
            ],
            "source": [
                "pd_p2"
            ]
        },
        {
            "cell_type": "markdown",
            "metadata": {},
            "source": [
                "- No matter what suspect 1 chooses, suspect 2's best response is to confess\n",
                "- The rational outcome is that both players confess and spend 4 years together in prison"
            ]
        },
        {
            "cell_type": "markdown",
            "metadata": {
                "slideshow": {
                    "slide_type": "slide"
                }
            },
            "source": [
                "## Nash Equilibrium\n",
                "\n",
                "- How did this happen? How is it a *rational* outcome i.e. an *equilibrium*?\n",
                "- A famous concept in game theory is called Nash equilbirum (after famous economist John Nash)\n",
                "- Definition: A strategy $\\sigma$ is a Nash equilibrium if $\\sigma_i$ is a best response to $\\sigma_{-i}$ (everyone else's actions)\n",
                "- Intuition: A strategy is an Nash equilibrium if *after* taking into account every one else's strategies, each player does not want to change their own"
            ]
        },
        {
            "cell_type": "markdown",
            "metadata": {
                "slideshow": {
                    "slide_type": "subslide"
                }
            },
            "source": [
                "### Computing Nash Equilibria\n",
                "\n",
                "- There are various algorithms that we can use for computing Nash equilibria\n",
                "- Fow now we will utilize the implementation of these algorithms in the GameTheory.jl package\n",
                "- Let's load it up and create a version of our prisoner's dilemma game:"
            ]
        },
        {
            "cell_type": "code",
            "execution_count": 4,
            "metadata": {},
            "outputs": [],
            "source": [
                "# import Pkg; Pkg.add(\"GameTheory\")"
            ]
        },
        {
            "cell_type": "code",
            "execution_count": 5,
            "metadata": {},
            "outputs": [],
            "source": [
                "using GameTheory"
            ]
        },
        {
            "cell_type": "code",
            "execution_count": 6,
            "metadata": {},
            "outputs": [
                {
                    "data": {
                        "text/plain": [
                            "2×2 Player{2, Int64}:\n",
                            " -1  -10\n",
                            "  0   -4"
                        ]
                    },
                    "execution_count": 6,
                    "metadata": {},
                    "output_type": "execute_result"
                }
            ],
            "source": [
                "p1 = Player(pd_p1)"
            ]
        },
        {
            "cell_type": "markdown",
            "metadata": {
                "slideshow": {
                    "slide_type": "subslide"
                }
            },
            "source": [
                "- GameTheory.jl requires that payoff matrices are always specified from the perspective of the current player\n",
                "- This means that we need to \"reorient\" suspect 2's payoffs such that his actions are noted on the rows\n",
                "- Becuase this is a symmetric game, suspect 2's payoffs from suspect 2's perspective looks exactly the same as suspect 1's payoffs from suspect 1's perspective\n",
                "- We can construct our `NormalFormGame` with two copies of the `p1` player above"
            ]
        },
        {
            "cell_type": "code",
            "execution_count": 7,
            "metadata": {},
            "outputs": [
                {
                    "data": {
                        "text/plain": [
                            "2×2 NormalFormGame{2, Int64}"
                        ]
                    },
                    "execution_count": 7,
                    "metadata": {},
                    "output_type": "execute_result"
                }
            ],
            "source": [
                "pd_g = NormalFormGame([p1, p1])"
            ]
        },
        {
            "cell_type": "markdown",
            "metadata": {
                "slideshow": {
                    "slide_type": "subslide"
                }
            },
            "source": [
                "- We can now ask GameTheory.jl to compute the nash Equilibria for us\n",
                "- We'll use the `pure_nash` function to do this (we'll talk about what \"pure\" means soon)"
            ]
        },
        {
            "cell_type": "code",
            "execution_count": 8,
            "metadata": {},
            "outputs": [
                {
                    "data": {
                        "text/plain": [
                            "1-element Vector{Tuple{Int64, Int64}}:\n",
                            " (2, 2)"
                        ]
                    },
                    "execution_count": 8,
                    "metadata": {},
                    "output_type": "execute_result"
                }
            ],
            "source": [
                "pd_eq = pure_nash(pd_g)"
            ]
        },
        {
            "cell_type": "markdown",
            "metadata": {},
            "source": [
                "- As we said before, the only equilibrium outcome to this game is that they both confess\n",
                "- We can see the payoffs each player gets in equilibrium by \"indexing\" into the game using the strategy array\n",
                "- The two expressions below are equivalent in this case"
            ]
        },
        {
            "cell_type": "code",
            "execution_count": 9,
            "metadata": {},
            "outputs": [
                {
                    "data": {
                        "text/plain": [
                            "2-element Vector{Int64}:\n",
                            " -4\n",
                            " -4"
                        ]
                    },
                    "execution_count": 9,
                    "metadata": {},
                    "output_type": "execute_result"
                }
            ],
            "source": [
                "pd_g[pd_eq[1]...]"
            ]
        },
        {
            "cell_type": "code",
            "execution_count": 10,
            "metadata": {},
            "outputs": [
                {
                    "data": {
                        "text/plain": [
                            "2-element Vector{Int64}:\n",
                            " -4\n",
                            " -4"
                        ]
                    },
                    "execution_count": 10,
                    "metadata": {},
                    "output_type": "execute_result"
                }
            ],
            "source": [
                "# ↑ Equivalent to ↓\n",
                "pd_g[2, 2]"
            ]
        },
        {
            "cell_type": "markdown",
            "metadata": {
                "slideshow": {
                    "slide_type": "slide"
                }
            },
            "source": [
                "## Non symmetric games\n",
                "\n",
                "- Not all games are symmetric like the prisoner's dilemma\n",
                "- Consider the following game\n",
                "  - Two players (firms) and two strategies each (sell low price or upscale goods)\n",
                "  - 60% of total spending comes from people who prefer low prices\n",
                "  - Firm 1 more popular, so when they compete in same segment, firm 1 gets 80% of market\n",
                "- Below you find the payoff matrix in units of \"% of total possible profit\"\n",
                "![https://compsosci-resources.s3.amazonaws.com/game_theory_lectures/marketing_game.png](https://compsosci-resources.s3.amazonaws.com/game_theory_lectures/marketing_game.png)"
            ]
        },
        {
            "cell_type": "markdown",
            "metadata": {
                "slideshow": {
                    "slide_type": "subslide"
                }
            },
            "source": [
                "### Strategies\n",
                "\n",
                "- Firm 1 has a dominant strategy: low-priced. They will always play this strategy\n",
                "- Firm 2 is less clear:\n",
                "  - If firm 1 were to choose the upscale market, they would be better off choosing low-priced\n",
                "  - however, when firm 1 chooses low-priced, firm 2 best response is upscale\n",
                "- How to find equilbirum?"
            ]
        },
        {
            "cell_type": "markdown",
            "metadata": {
                "slideshow": {
                    "slide_type": "subslide"
                }
            },
            "source": [
                "#### Iterated Deletion of Dominated Strategies\n",
                "\n",
                "- An algorithm that can help find the solution to this game is called *iterated deletion of dominated strategies*\n",
                "- The algorithm proceeds as follows:\n",
                "  - Set iteration $n = 0$\n",
                "  - Let $S_i^n$ be set of remaining actions for player $i$ on iteration $n$. Start $S_i^0 = S_i$\n",
                "  - On iteration $n$, for each player $i$ remove from $S_i^n$ any strategies that are dominated by other strategies in $S_i^n$ (taking into account $S_{-i}^n$). Call surviving strategies $S_i^{n+1}$\n",
                "  - Repeat for all players $i$\n",
                "  - Repeat until one of two conditions is met:\n",
                "\n",
                "1. Each player has only one remaining strategy: $|S_i^{n+1}| = 1 \\forall i$ -- this is NE\n",
                "2. One or more players has an empty strategy set"
            ]
        },
        {
            "cell_type": "markdown",
            "metadata": {
                "slideshow": {
                    "slide_type": "subslide"
                }
            },
            "source": [
                "#### Application to Marketing Game\n",
                "\n",
                "- Applying this algorithm we start with $S_1^0 = \\{1, 2\\} \\; S_2^0 = \\{1, 2\\}$\n",
                "- We see form firm 1 it is optimal to play strategy `1` for any choice of firm 2, which causes us to delete `2`. Now we have $S_1^1 = \\{1 \\} \\; S_2^1 = \\{1, 2\\}$\n",
                "- Now firm 2 takes into account that 1 will play `1` -- only best response is to play `2` and we get $S_1^2 = \\{1 \\} \\; S_2^2 = \\{2\\}$\n",
                "- We are done!\n",
                "- The unique Nash Equilibrium is for firm 1 to take the low-price segment and firm 2 to take the upscale segment\n",
                "\"\"\""
            ]
        },
        {
            "cell_type": "markdown",
            "metadata": {
                "slideshow": {
                    "slide_type": "subslide"
                }
            },
            "source": [
                "#### Exercise\n",
                "\n",
                "- Construct the Marketing Game using GameTheory.jl\n",
                "- Verify that the only pure strategy nash equilibrium is [1, 2]\n",
                "- HINT: don't forget to write player 2's payoffs from player 2's perspective!"
            ]
        },
        {
            "cell_type": "code",
            "execution_count": 11,
            "metadata": {},
            "outputs": [
                {
                    "data": {
                        "text/plain": [
                            "2×2 NormalFormGame{2, Float64}"
                        ]
                    },
                    "execution_count": 11,
                    "metadata": {},
                    "output_type": "execute_result"
                }
            ],
            "source": [
                "p1_market = Player([0.0 0; 0 0])\n",
                "p2_market = Player([0.0 0; 0 0])\n",
                "g_market = NormalFormGame([p1_market, p2_market])"
            ]
        },
        {
            "cell_type": "markdown",
            "metadata": {
                "slideshow": {
                    "slide_type": "slide"
                }
            },
            "source": [
                "## Matching Pennies\n",
                "\n",
                "- Consider the payoff matrices for another famous game called Matching Pennies "
            ]
        },
        {
            "cell_type": "code",
            "execution_count": 12,
            "metadata": {},
            "outputs": [
                {
                    "data": {
                        "text/plain": [
                            "([-1 1; 1 -1], [1 -1; -1 1])"
                        ]
                    },
                    "execution_count": 12,
                    "metadata": {},
                    "output_type": "execute_result"
                }
            ],
            "source": [
                "pennies_p1 = [-1 1; 1 -1]\n",
                "pennies_p2 = [1 -1; -1 1]\n",
                "\n",
                "pennies_p1, pennies_p2"
            ]
        },
        {
            "cell_type": "markdown",
            "metadata": {},
            "source": [
                "- Question: how many players are there?\n",
                "- How many strategies does player 1 have? Player 2?"
            ]
        },
        {
            "cell_type": "markdown",
            "metadata": {
                "slideshow": {
                    "slide_type": "subslide"
                }
            },
            "source": [
                "### More Questions\n",
                "\n",
                "- Does player 1 have a dominating strategy?\n",
                "- How about player 2?\n",
                "- What is player 1's best response when 2 chooses `T`? What about when 2 chooses `H`?"
            ]
        },
        {
            "cell_type": "markdown",
            "metadata": {
                "slideshow": {
                    "slide_type": "subslide"
                }
            },
            "source": [
                "### Pure Strategies\n",
                "\n",
                "- Choosing a strategy outright is called playing a **pure strategy**\n",
                "- Neither player will always choose `H` or `T` no matter what the other player does\n",
                "- We can say that there is no Nash Equilibrium in pure strategies \n",
                "- However, for all games we will consider (and most games in general) there is always a Nash equilibrium..."
            ]
        },
        {
            "cell_type": "markdown",
            "metadata": {
                "slideshow": {
                    "slide_type": "subslide"
                }
            },
            "source": [
                "### Mixed Strategies\n",
                "\n",
                "- Sometimes players will not be able to play pure strategies in eqiulibrium\n",
                "- In these cases they will need to *randomize* their behavior\n",
                "- A **mixed strategy** is a probability distribution over strategies\n",
                "- For example, in the matching pennies game, a mixed strategy is to play `H` with probabilty 0.5 and `T` with probability 0.5\n",
                "- It turns out that both players playing this mixed strategy is the unique Nash Equilibrium of the matching pennies game"
            ]
        },
        {
            "cell_type": "markdown",
            "metadata": {
                "slideshow": {
                    "slide_type": "subslide"
                }
            },
            "source": [
                "## Mixed Strategies with GameTheory.jl\n",
                "\n",
                "- GameTheory.jl can compute mixed strategy nash equilibria for us\n",
                "- To do that we'll use the `support_enumeration` method (support enumeration is the name of an algorithm for computing **all** NE of a game, in pure or mixed strategies)"
            ]
        },
        {
            "cell_type": "markdown",
            "metadata": {
                "slideshow": {
                    "slide_type": "subslide"
                }
            },
            "source": [
                "### Bimatrix\n",
                "\n",
                "- Before we have GameTheory compute our mixed strategy NE, we'll show one other way to create a `NormalFormGame` -- with a payoff **bimatrix**\n",
                "- For an $N$ player game with $N_i$ strategies for each player, a bimatrix is an $N_1 \\times N_2 \\times \\cdots \\times N_N \\times N$ array of payoffs\n",
                "- For our game, we need a 2x2x2 array\n",
                "  - last 2 represents 2 players\n",
                "  - first two 2's represent 2 actions per player"
            ]
        },
        {
            "cell_type": "code",
            "execution_count": 13,
            "metadata": {},
            "outputs": [
                {
                    "data": {
                        "text/plain": [
                            "2×2 NormalFormGame{2, Float64}"
                        ]
                    },
                    "execution_count": 13,
                    "metadata": {},
                    "output_type": "execute_result"
                }
            ],
            "source": [
                "pennies_bimatrix = zeros(2, 2, 2)\n",
                "pennies_bimatrix[1, 1, :] = [-1, 1]\n",
                "pennies_bimatrix[1, 2, :]  = [1, -1]\n",
                "pennies_bimatrix[2, 1, :] = [1, -1]\n",
                "pennies_bimatrix[2, 2, :] = [-1, 1]\n",
                "pennies_g = NormalFormGame(pennies_bimatrix)"
            ]
        },
        {
            "cell_type": "markdown",
            "metadata": {},
            "source": [
                "- Notice how when using a bimatrix we can directly read the cells of the normal form game\n",
                "  - The (H,H) cell is in position [1,1] and has payoffs [-1, 1]\n",
                "  - The (T, H) cell is in position [2, 1] and has payoffs [1, -1]\n",
                "  - etc.\n",
                "- This can make it easier to specify payoffs because we don't have to worry about \"player N payoffs from player N's perspective\""
            ]
        },
        {
            "cell_type": "code",
            "execution_count": 14,
            "metadata": {},
            "outputs": [
                {
                    "data": {
                        "text/plain": [
                            "1-element Vector{Tuple{Vector{Float64}, Vector{Float64}}}:\n",
                            " ([0.5, 0.5], [0.5, 0.5])"
                        ]
                    },
                    "execution_count": 14,
                    "metadata": {},
                    "output_type": "execute_result"
                }
            ],
            "source": [
                "support_enumeration(pennies_g)"
            ]
        },
        {
            "cell_type": "markdown",
            "metadata": {
                "slideshow": {
                    "slide_type": "subslide"
                }
            },
            "source": [
                "### Exercise\n",
                "\n",
                "- Try `support_enumeration` with the other two games we've worked with\n",
                "  - What does it give you with the prisoner's dilemma?\n",
                "  - What does it give you with the marketing game?"
            ]
        },
        {
            "cell_type": "code",
            "execution_count": 15,
            "metadata": {},
            "outputs": [],
            "source": [
                "# TODO: your code AND explanation here"
            ]
        },
        {
            "cell_type": "code",
            "execution_count": null,
            "metadata": {},
            "outputs": [],
            "source": []
        }
    ],
    "metadata": {
        "celltoolbar": "Slideshow",
        "kernelspec": {
            "display_name": "Julia 1.10.4",
            "language": "julia",
            "name": "julia-1.10"
        },
        "language_info": {
            "file_extension": ".jl",
            "mimetype": "application/julia",
            "name": "julia",
            "version": "1.10.4"
        },
        "rise": {
            "enable_chalkboard": true,
            "scroll": true
        }
    },
    "nbformat": 4,
    "nbformat_minor": 4
}

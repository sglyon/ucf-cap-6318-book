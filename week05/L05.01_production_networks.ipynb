{
 "cells": [
  {
   "cell_type": "markdown",
   "id": "f5cd93d3-70e4-4c09-b391-d5965d0ceceb",
   "metadata": {
    "editable": true,
    "slideshow": {
     "slide_type": "slide"
    },
    "tags": []
   },
   "source": [
    "# Production Networks\n",
    "\n",
    "**Prerequisites**\n",
    "\n",
    "- Introduction to Graphs\n",
    "- Weighted Graphs\n",
    "\n",
    "**Outcomes**\n",
    "\n",
    "- Recall the key concepts of spectral theory from Linear Algebra\n",
    "- Desribe the key proprties of the Leintief family of production models\n",
    "- Explain the difference between \"in\"-based centrality and \"out\"-based centrality\n",
    "- Analyze the impact of sector specific shocks on other sectors of the US economy\n",
    "\n",
    "**References**\n",
    "\n",
    "- [QuantEcon Networks](https://networks.quantecon.org/) chapters 1-2  (especially section 1.2)"
   ]
  },
  {
   "cell_type": "markdown",
   "id": "7aca1e94-0ccc-4765-9c6e-9a75b87b5858",
   "metadata": {
    "editable": true,
    "slideshow": {
     "slide_type": "slide"
    },
    "tags": []
   },
   "source": [
    "## Linear Algebra\n",
    "\n",
    "- Linear algebra is the backbone of modern computational algorithms\n",
    "    - Graphics\n",
    "    - Statistics\n",
    "    - Data analysis\n",
    "    - Optimization\n",
    "    - Machine Learning\n",
    "- Workhorse for accelerated computing\n",
    "  - GPUs work on matrices to efficiently parallellize common computations\n",
    "  - Specialty hardware like the TPU (tensor processing unit) take this even further"
   ]
  },
  {
   "cell_type": "markdown",
   "id": "8d5079dd-cc23-48c7-82da-052c58910441",
   "metadata": {
    "editable": true,
    "slideshow": {
     "slide_type": "subslide"
    },
    "tags": []
   },
   "source": [
    "### Building Blocks\n",
    "\n",
    "- Vectors: arrays of numbers representing pionts in multi-dimensional space\n",
    "- Matrices\n",
    "    - Rectangular arrays that transform vectors\n",
    "    - Also used to represent certain datasets/relationships: e.g. adjacency matrix in Graph Theory\n",
    "- Tensors: higher dimensional collections of numbers that allow high-dimensional\n",
    "    - Vectors are 1d tensors, matrices 2d tensors, etc.\n",
    "    - Implemented in numpy as `np.array`"
   ]
  },
  {
   "cell_type": "markdown",
   "id": "b23e7b42-7fce-4607-856a-5b8aae0895d8",
   "metadata": {
    "editable": true,
    "slideshow": {
     "slide_type": "subslide"
    },
    "tags": []
   },
   "source": [
    "### Some Key Theories\n",
    "\n",
    "1. Linear systems of equations\n",
    "2. Inner product spaces (length, distance, and angles)\n",
    "3. Eigenvalues and eigen vectors (spectral theory)"
   ]
  },
  {
   "cell_type": "markdown",
   "id": "7906df04-91ea-49d5-8820-a449d2b116bf",
   "metadata": {
    "editable": true,
    "slideshow": {
     "slide_type": ""
    },
    "tags": []
   },
   "source": [
    "### Spectral Theory\n",
    "\n",
    "- Let's dig into eigenvalues and eigenvectors\n",
    "- Let $A \\in \\mathbb{R}^{n \\times n}$\n",
    "- A scalar $\\lambda \\in \\mathbb{C}$ is an **eigenvalue** of $A$ if there exists a nonzero vector $e \\in \\mathbb{C}^n$ such that $A e = \\lambda e$\n",
    "- A vector $e$ satisfying this equality is called an **eigenvector** corresponding to the eigenvalue $\\lambda$\n",
    "- A vector $\\epsilon$ sastifying $A ' \\epsilon = \\lambda \\epsilon$ is a **left-eigenvector** of $A$"
   ]
  },
  {
   "cell_type": "code",
   "execution_count": 1,
   "id": "10dd7c5d-dc7b-469e-a755-cbd049ce182d",
   "metadata": {
    "editable": true,
    "slideshow": {
     "slide_type": ""
    },
    "tags": []
   },
   "outputs": [],
   "source": [
    "using LinearAlgebra"
   ]
  },
  {
   "cell_type": "code",
   "execution_count": 2,
   "id": "097ce71e-5890-45fc-929c-04cf7545e09b",
   "metadata": {
    "editable": true,
    "slideshow": {
     "slide_type": ""
    },
    "tags": []
   },
   "outputs": [
    {
     "data": {
      "text/plain": [
       "2-element Vector{ComplexF64}:\n",
       " 0.0 - 1.0im\n",
       " 0.0 + 1.0im"
      ]
     },
     "execution_count": 2,
     "metadata": {},
     "output_type": "execute_result"
    }
   ],
   "source": [
    "A = [\n",
    "    0 -1\n",
    "    1 0\n",
    "]\n",
    "eigvals(A)"
   ]
  },
  {
   "cell_type": "markdown",
   "id": "35d4c271-8061-40ae-8ec1-044328b3b4c0",
   "metadata": {
    "editable": true,
    "slideshow": {
     "slide_type": ""
    },
    "tags": []
   },
   "source": [
    "#### Definitions\n",
    "\n",
    "- The set of all eigenvalues of $A$ is called the **spectrum** of $A$ and is written $\\sigma(A)$\n",
    "- The **spectral radius** of $A$ is written $r(A) \\equiv \\max \\{ | \\lambda | : \\lambda \\in \\sigma(A) \\}$\n",
    "    - The spectral radius important when considering the convergence of a dynamic system driven by $A$\n",
    "    - If $x_{t+1} = A x_t$ and $r(A)< 1$ then the sequence $\\{x\\}_t$ is finite and will converge\n",
    "- Some facts (not proven here)\n",
    "    - $A$ will have *at most* $n$ distinct eigenvalues\n",
    "    - Eigenvectors are only unique to a scalar multiple: if $(\\lambda, e)$ is an eigenpair, then so is $(\\lambda, \\alpha e)$ for any $\\alpha \\in \\mathbb{R}, \\alpha \\ne 0$\n",
    "- Sometimes a matrix will have a repeated eigenvalue (the same value works with multiple distinct\n",
    "- The **algebraic multiplicity** of an eigenvalue is the number of times it is repeated with distinct eigenvectors\n",
    "- An eigenvalue with an algebraic multiplicity of one is called **simple**"
   ]
  },
  {
   "cell_type": "markdown",
   "id": "316a205f-695f-44c0-a416-4d7da3f4c309",
   "metadata": {
    "editable": true,
    "slideshow": {
     "slide_type": ""
    },
    "tags": []
   },
   "source": [
    "#### Diagonalization\n",
    "\n",
    "- A matrix $A \\in \\mathbb{R}^{n \\times n}$ is diagonalizable if $A = PDP^{-1}$\n",
    "    - $D = \\text{diag}(\\lambda_1, \\dots, \\lambda_n)$, $P$ is some invertible matrix\n",
    "- The decomposition is called the **eigen decomposition** or **spectral decomposition** of $A$\n",
    "- The asymptotic properties of $m \\mapsto A^m$ are determined by $\\sigma(A)$\n",
    "    - Can be seen when $A$ is diagonalizable\n",
    "    - If $A = P \\text{diag}(\\lambda) P^{-1} \\Longrightarrow A^m = P \\text{diag}(\\lambda_i^m) P^{-1}$"
   ]
  },
  {
   "cell_type": "markdown",
   "id": "6e0bb13f-1f4d-45c4-b1d8-f3b967662fdb",
   "metadata": {
    "editable": true,
    "slideshow": {
     "slide_type": ""
    },
    "tags": []
   },
   "source": [
    "### Example: Worker Dynamics\n",
    "\n",
    "- Consider a continuum of workers (large number, not counted discretely)\n",
    "- Workers can be in one of two states: (1) employed and (2) unemployed\n",
    "- Each month workers are hired at a rate $\\alpha$ and fired at a rate $\\beta$\n",
    "- We express these dynamics as a Graph with adjacency matrix:\n",
    "\n",
    "$$P_w = \\begin{bmatrix}1-\\alpha & \\alpha \\\\ \\beta & 1-\\beta \\end{bmatrix} \\; \\alpha, \\beta \\in [0, 1]$$\n",
    "\n",
    "- Row $1$ gives the probabilities of employment and unemployement for an employed worker\n",
    "- Row $2$ gives the probabilities of employment and unemployement for an unemployed worker"
   ]
  },
  {
   "cell_type": "markdown",
   "id": "20446e39-d78a-4fd8-92ef-7cbad2222040",
   "metadata": {
    "editable": true,
    "slideshow": {
     "slide_type": ""
    },
    "tags": []
   },
   "source": [
    "#### Transitions\n",
    "\n",
    "- Suppose we have a vector $x \\in [0, 1]^2$ representing current fraction of workers thare are employed and unemployed\n",
    "- Question... What matrix operation between $P_w$ and $x$ will give the fraction of workers that start next month as employed and unemployed?"
   ]
  },
  {
   "cell_type": "code",
   "execution_count": 3,
   "id": "ec7cfd3d-0b70-479d-91a6-0fce24d1905b",
   "metadata": {
    "editable": true,
    "slideshow": {
     "slide_type": ""
    },
    "tags": []
   },
   "outputs": [
    {
     "data": {
      "text/plain": [
       "2×2 Matrix{Float64}:\n",
       " 0.7  0.3\n",
       " 0.1  0.9"
      ]
     },
     "execution_count": 3,
     "metadata": {},
     "output_type": "execute_result"
    }
   ],
   "source": [
    "alpha = 0.3\n",
    "beta = 0.1\n",
    "\n",
    "P = [1-alpha alpha; beta 1-beta]"
   ]
  },
  {
   "cell_type": "code",
   "execution_count": 4,
   "id": "9acd64dc-26de-4037-a3c7-7aed1e9bd411",
   "metadata": {
    "editable": true,
    "slideshow": {
     "slide_type": ""
    },
    "tags": []
   },
   "outputs": [
    {
     "data": {
      "text/plain": [
       "2-element Vector{Float64}:\n",
       " 0.9\n",
       " 0.1"
      ]
     },
     "execution_count": 4,
     "metadata": {},
     "output_type": "execute_result"
    }
   ],
   "source": [
    "x = [0.9, 0.1]"
   ]
  },
  {
   "cell_type": "code",
   "execution_count": 5,
   "id": "8621b3de-f659-4302-aabf-e08cd008e9dc",
   "metadata": {
    "editable": true,
    "slideshow": {
     "slide_type": ""
    },
    "tags": []
   },
   "outputs": [],
   "source": [
    "# TODO: simulate for many periods"
   ]
  },
  {
   "cell_type": "code",
   "execution_count": 6,
   "id": "447f016a-475f-4a11-9b1d-e38130dfe0e8",
   "metadata": {
    "editable": true,
    "slideshow": {
     "slide_type": ""
    },
    "tags": []
   },
   "outputs": [],
   "source": [
    "# TODO: compare to largest left eigenvector"
   ]
  },
  {
   "cell_type": "markdown",
   "id": "dd288f6d-7444-4e9e-9ce9-2bf219db7382",
   "metadata": {},
   "source": [
    "### Neumann Series Lemma\n",
    "\n",
    "- We need one more linear alegbra result...\n",
    "- If $A \\in \\mathbb{R}^{n \\times n}$ and $r(A) < 1$, then $I-A$ is non-singular and $$(I-A)^{-1} = \\sum_{m=0}^{\\infty} A^m$$\n",
    "- This is known as the Neumann series lemma"
   ]
  },
  {
   "cell_type": "markdown",
   "id": "52bf0db7-36ac-4bd8-9a93-ebe8ff7bf3a1",
   "metadata": {
    "editable": true,
    "slideshow": {
     "slide_type": ""
    },
    "tags": []
   },
   "source": [
    "## Production Networks\n",
    "\n",
    "- We will now study a family of economic models that allow us to analyze the economy as a collection of sectors\n",
    "- These models were proposed by nobel prize winner Wassily Leontief in 1941 and are still commonly used today\n",
    "- The key idea behind a Leontief model is the input-output table"
   ]
  },
  {
   "cell_type": "markdown",
   "id": "5a6d2cff-9ed5-41e5-89c5-35cea4c90033",
   "metadata": {
    "editable": true,
    "slideshow": {
     "slide_type": ""
    },
    "tags": []
   },
   "source": [
    "### Input-output tables\n",
    "\n",
    "- Firms (companies) are categorized into $n$ distinct sectors\n",
    "- Firms use materials produced by other sectors as part of their production process\n",
    "- The relationship of flows of *value* are organized into an input/output table\n",
    "\n",
    "| | sector 1 | sector 2 | sector 3|\n",
    "|-| -------- | -------- | ------- | \n",
    "| sector 1 | $a_{11}$ | $a_{12}$ | $a_{13}$ |\n",
    "| sector 2 | $a_{21}$ | $a_{22}$ | $a_{23}$ |\n",
    "| sector 3 | $a_{31}$ | $a_{32}$ | $a_{33}$ |\n",
    "\n",
    "- $a_{ij}$ is called an **input-output coefficient** and is equal to:\n",
    "\n",
    "$$a_{ij} = \\frac{\\text{value of sector j inputs purchased from sector i}}{\\text{total sales of sector j}}$$\n",
    "\n",
    "- If $a_{ij}$ is large, sector $i$ is an important **supplier** of intermediate goods to sector $j$\n",
    "- The sum of column $j$ is the value of all inputs to sector $j$\n",
    "- Row $i$ shows how intensively each sector uses good $i$ as an intermediate good\n",
    "- The input output table can be directly used as the adjacency matrix for a weighted directed graph"
   ]
  },
  {
   "cell_type": "markdown",
   "id": "01da282b-ceae-4163-84d5-54f08da32a6c",
   "metadata": {
    "editable": true,
    "slideshow": {
     "slide_type": ""
    },
    "tags": []
   },
   "source": [
    "### Input-output data\n",
    "\n",
    "- In the United States, the Bureau of Economic Analysis is responsible for compiling input-output tables for sectors\n",
    "- We'll be studying the [Input-Output Accounts Data](https://www.bea.gov/industry/input-output-accounts-data)\n",
    "- The main set of tables we'll be using are called the `Make-Use` tables\n",
    "- The `Make` table shows the value of final goods produced by each sector\n",
    "    - Note this is predominately a diagonal matrix as each sector primarily produces and sells final goods within their sector\n",
    "    - Sometimes a firm will have secondary outputs as part of their production process\n",
    "    - \"Which industries produce which commodities?\"\n",
    "- The `Use` tables show the intermediate and final use of commodities across sectors\n",
    "    - \"Who uses or consumes the commodities produced?\""
   ]
  },
  {
   "cell_type": "code",
   "execution_count": 7,
   "id": "a8993b00-f41e-4d2a-9c42-46b7f6cfb473",
   "metadata": {
    "editable": true,
    "slideshow": {
     "slide_type": ""
    },
    "tags": []
   },
   "outputs": [],
   "source": [
    "using CSV, DataFrames, Graphs, SimpleWeightedGraphs, GraphPlot, ColorSchemes, Colors, Downloads, PlotlyBase"
   ]
  },
  {
   "cell_type": "code",
   "execution_count": 8,
   "id": "337dc3b6-3b04-47ef-8118-cd0cb653b1da",
   "metadata": {
    "editable": true,
    "slideshow": {
     "slide_type": ""
    },
    "tags": []
   },
   "outputs": [],
   "source": [
    "using Downloads\n",
    "\n",
    "function read_remote_csv(url)\n",
    "    bn = basename(url)\n",
    "    if !isfile(bn)\n",
    "        Downloads.download(url, bn)\n",
    "    end\n",
    "    CSV.read(bn, DataFrame)\n",
    "end\n",
    "\n",
    "make_15 = read_remote_csv(\"https://compsosci-resources.s3.amazonaws.com/graph-theory-lectures/data/QE-networks/make_15.csv\");\n",
    "use_15 = read_remote_csv(\"https://compsosci-resources.s3.amazonaws.com/graph-theory-lectures/data/QE-networks/use_15.csv\");\n",
    "codes = read_remote_csv(\"https://compsosci-resources.s3.amazonaws.com/graph-theory-lectures/data/QE-networks/codes.csv\");"
   ]
  },
  {
   "cell_type": "markdown",
   "id": "112cc620-34f4-425e-b027-7da62b0027d4",
   "metadata": {
    "editable": true,
    "slideshow": {
     "slide_type": ""
    },
    "tags": []
   },
   "source": [
    "### Example: US 15 sector data\n",
    "\n",
    "![Input-Output Graph](https://compsosci-resources.s3.amazonaws.com/graph-theory-lectures/images/QE-networks/15-sector-graph.png)\n",
    "\n",
    "- Color of nodes is according to their hub-based eigenvector centrality (see below)\n",
    "- Size of nodes is according to their total outputs (make table)\n",
    "- Thickness of edges is according to amount of goods\n",
    "- Represent $a_{ij}$ and point from sector creating the intermediate good (sector $i$) to sector  using intermediate good (sector $j$)"
   ]
  },
  {
   "cell_type": "code",
   "execution_count": null,
   "id": "e4f58bd2-bb99-4774-aa24-78818b7e1c65",
   "metadata": {
    "editable": true,
    "slideshow": {
     "slide_type": ""
    },
    "tags": []
   },
   "outputs": [],
   "source": []
  },
  {
   "cell_type": "markdown",
   "id": "2b4af2c6-5117-44fc-9e98-7b639d4e46fe",
   "metadata": {
    "editable": true,
    "slideshow": {
     "slide_type": ""
    },
    "tags": []
   },
   "source": [
    "#### Eigenvector Centrality\n",
    "\n",
    "- The node size above shows the hub-based eigenvector centrality\n",
    "- This is equal to the dominant eigenvector of the adjacency matrix (eigenvector associated with largest eigenvalue)\n",
    "- This measure of centrality measures the influence of a node in a network\n",
    "    - When computing this statistic for a node `N`, the value will be higher if it is connected to other \"influential\" nodes\n",
    "    - https://youtu.be/LYyZqlyDEL4?si=x2kYhe3phZxQtQvV&t=202"
   ]
  },
  {
   "cell_type": "markdown",
   "id": "c8604521-5660-4fba-9103-e98956cf2008",
   "metadata": {
    "editable": true,
    "slideshow": {
     "slide_type": ""
    },
    "tags": []
   },
   "source": [
    "#### Example\n",
    "\n",
    "- Let's compute the eigenvector centrality for the data in the image above\n",
    "- I have some code to import the make/use files into a helpful struct\n",
    "- We'll see what all the fields are as we progress through the lecture"
   ]
  },
  {
   "cell_type": "code",
   "execution_count": 9,
   "id": "231d4b66-bb04-4efa-aacf-1b09b467ccc8",
   "metadata": {
    "editable": true,
    "slideshow": {
     "slide_type": ""
    },
    "tags": []
   },
   "outputs": [
    {
     "data": {
      "text/plain": [
       "load_sector (generic function with 1 method)"
      ]
     },
     "execution_count": 9,
     "metadata": {},
     "output_type": "execute_result"
    }
   ],
   "source": [
    "to_int(x) = parse(Int, x)\n",
    "to_int(x::Integer) = Int(x)\n",
    "\n",
    "struct SectorData\n",
    "    Z::Matrix{Int}\n",
    "    X::Vector{Int}\n",
    "    A::Matrix{Float64}\n",
    "    F::Matrix{Float64}\n",
    "    Z_df::DataFrame\n",
    "    names::Vector{String}\n",
    "    codes::Vector{String}\n",
    "    N::Int\n",
    "    G::SimpleWeightedDiGraph{Int64, Float64}\n",
    "end\n",
    "\n",
    "const CODES = let\n",
    "    df = read_remote_csv(\"codes.csv\")\n",
    "    Dict(zip(df.name, df.code))\n",
    "end\n",
    "\n",
    "function load_sector(N)\n",
    "    # read csv\n",
    "    df = CSV.read(\"use_$(N).csv\", DataFrame)\n",
    "\n",
    "    # replace `---` with `0`\n",
    "    df .= ifelse.(df .== \"---\", \"0\", df)\n",
    "\n",
    "    # conver to int\n",
    "    df[!, 2:end] .= to_int.(df[!, 2:end])\n",
    "\n",
    "    # first column is industry name, next columns are sector values\n",
    "    # first N rows are values\n",
    "    Z = Array(df[1:N, 2:(N+1)])\n",
    "    names = df[1:N, 1]\n",
    "    codes = [CODES[n] for n in names]\n",
    "\n",
    "    # total industry outputs come from teh `make_N.csv` file\n",
    "    X = CSV.read(\"make_$(N).csv\", DataFrame)[1:N, \"Total Industry Output\"]\n",
    "\n",
    "    # value of sector j's inputs purchased from i / sales of `j` \n",
    "    # or ...\n",
    "    A = Z ./ X'\n",
    "\n",
    "    F = Z ./ X\n",
    "\n",
    "    # make copy of A where small values are set to zero to make plotting clearer\n",
    "    A_copy = copy(A)\n",
    "    A_copy[A .<= 0.01] .= 0;\n",
    "    G = SimpleWeightedDiGraph(A_copy)\n",
    "\n",
    "    SectorData(Z, X, A, F, df, names, codes, N, G)\n",
    "end"
   ]
  },
  {
   "cell_type": "code",
   "execution_count": 10,
   "id": "f3aa4008-29bf-40ae-a5ad-d57fd36f77b9",
   "metadata": {
    "editable": true,
    "slideshow": {
     "slide_type": ""
    },
    "tags": []
   },
   "outputs": [],
   "source": [
    "data15 = load_sector(15);"
   ]
  },
  {
   "cell_type": "code",
   "execution_count": 11,
   "id": "e66c0fc9-152b-44a5-994a-0995ea2f9622",
   "metadata": {
    "editable": true,
    "slideshow": {
     "slide_type": ""
    },
    "tags": []
   },
   "outputs": [
    {
     "data": {
      "text/plain": [
       "15-element Vector{Float64}:\n",
       " 0.20015876206170186\n",
       " 0.15938537489092003\n",
       " 0.024488792126254755\n",
       " 0.01655605810501688\n",
       " 0.863307958233566\n",
       " 4.7179251777605e-17\n",
       " 9.919510282578063e-17\n",
       " 0.0160904862243379\n",
       " 0.03706307448992309\n",
       " 0.2744196179986345\n",
       " 0.33276423164786867\n",
       " 1.5167914026463714e-5\n",
       " 0.026176029930141512\n",
       " 0.0014956985704648131\n",
       " 0.00042398130095220904"
      ]
     },
     "execution_count": 11,
     "metadata": {},
     "output_type": "execute_result"
    }
   ],
   "source": [
    "lambda15 = eigenvector_centrality(data15.G)"
   ]
  },
  {
   "cell_type": "code",
   "execution_count": 12,
   "id": "150f8ede-29aa-470a-988c-5096b6b286e9",
   "metadata": {
    "editable": true,
    "slideshow": {
     "slide_type": ""
    },
    "tags": []
   },
   "outputs": [
    {
     "data": {
      "application/vnd.plotly.v1+json": {
       "config": {
        "editable": false,
        "responsive": true,
        "scrollZoom": true,
        "showLink": false,
        "staticPlot": false
       },
       "data": [
        {
         "type": "bar",
         "x": [
          "ag",
          "mi",
          "ut",
          "co",
          "ma",
          "wh",
          "re",
          "tr",
          "in",
          "fi",
          "pr",
          "ed",
          "ar",
          "ot",
          "go"
         ],
         "y": [
          0.20015876206170186,
          0.15938537489092003,
          0.024488792126254755,
          0.01655605810501688,
          0.863307958233566,
          4.7179251777605e-17,
          9.919510282578063e-17,
          0.0160904862243379,
          0.03706307448992309,
          0.2744196179986345,
          0.33276423164786867,
          1.5167914026463714e-05,
          0.026176029930141512,
          0.0014956985704648131,
          0.00042398130095220904
         ]
        }
       ],
       "frames": [],
       "layout": {
        "margin": {
         "b": 50,
         "l": 50,
         "r": 50,
         "t": 60
        },
        "template": {
         "data": {
          "bar": [
           {
            "error_x": {
             "color": "#2a3f5f"
            },
            "error_y": {
             "color": "#2a3f5f"
            },
            "marker": {
             "line": {
              "color": "#E5ECF6",
              "width": 0.5
             }
            },
            "type": "bar"
           }
          ],
          "barpolar": [
           {
            "marker": {
             "line": {
              "color": "#E5ECF6",
              "width": 0.5
             }
            },
            "type": "barpolar"
           }
          ],
          "carpet": [
           {
            "aaxis": {
             "endlinecolor": "#2a3f5f",
             "gridcolor": "white",
             "linecolor": "white",
             "minorgridcolor": "white",
             "startlinecolor": "#2a3f5f"
            },
            "baxis": {
             "endlinecolor": "#2a3f5f",
             "gridcolor": "white",
             "linecolor": "white",
             "minorgridcolor": "white",
             "startlinecolor": "#2a3f5f"
            },
            "type": "carpet"
           }
          ],
          "choropleth": [
           {
            "colorbar": {
             "outlinewidth": 0,
             "ticks": ""
            },
            "type": "choropleth"
           }
          ],
          "contour": [
           {
            "colorbar": {
             "outlinewidth": 0,
             "ticks": ""
            },
            "colorscale": [
             [
              0,
              "#0d0887"
             ],
             [
              0.1111111111111111,
              "#46039f"
             ],
             [
              0.2222222222222222,
              "#7201a8"
             ],
             [
              0.3333333333333333,
              "#9c179e"
             ],
             [
              0.4444444444444444,
              "#bd3786"
             ],
             [
              0.5555555555555556,
              "#d8576b"
             ],
             [
              0.6666666666666666,
              "#ed7953"
             ],
             [
              0.7777777777777778,
              "#fb9f3a"
             ],
             [
              0.8888888888888888,
              "#fdca26"
             ],
             [
              1,
              "#f0f921"
             ]
            ],
            "type": "contour"
           }
          ],
          "contourcarpet": [
           {
            "colorbar": {
             "outlinewidth": 0,
             "ticks": ""
            },
            "type": "contourcarpet"
           }
          ],
          "heatmap": [
           {
            "colorbar": {
             "outlinewidth": 0,
             "ticks": ""
            },
            "colorscale": [
             [
              0,
              "#0d0887"
             ],
             [
              0.1111111111111111,
              "#46039f"
             ],
             [
              0.2222222222222222,
              "#7201a8"
             ],
             [
              0.3333333333333333,
              "#9c179e"
             ],
             [
              0.4444444444444444,
              "#bd3786"
             ],
             [
              0.5555555555555556,
              "#d8576b"
             ],
             [
              0.6666666666666666,
              "#ed7953"
             ],
             [
              0.7777777777777778,
              "#fb9f3a"
             ],
             [
              0.8888888888888888,
              "#fdca26"
             ],
             [
              1,
              "#f0f921"
             ]
            ],
            "type": "heatmap"
           }
          ],
          "heatmapgl": [
           {
            "colorbar": {
             "outlinewidth": 0,
             "ticks": ""
            },
            "colorscale": [
             [
              0,
              "#0d0887"
             ],
             [
              0.1111111111111111,
              "#46039f"
             ],
             [
              0.2222222222222222,
              "#7201a8"
             ],
             [
              0.3333333333333333,
              "#9c179e"
             ],
             [
              0.4444444444444444,
              "#bd3786"
             ],
             [
              0.5555555555555556,
              "#d8576b"
             ],
             [
              0.6666666666666666,
              "#ed7953"
             ],
             [
              0.7777777777777778,
              "#fb9f3a"
             ],
             [
              0.8888888888888888,
              "#fdca26"
             ],
             [
              1,
              "#f0f921"
             ]
            ],
            "type": "heatmapgl"
           }
          ],
          "histogram": [
           {
            "marker": {
             "colorbar": {
              "outlinewidth": 0,
              "ticks": ""
             }
            },
            "type": "histogram"
           }
          ],
          "histogram2d": [
           {
            "colorbar": {
             "outlinewidth": 0,
             "ticks": ""
            },
            "colorscale": [
             [
              0,
              "#0d0887"
             ],
             [
              0.1111111111111111,
              "#46039f"
             ],
             [
              0.2222222222222222,
              "#7201a8"
             ],
             [
              0.3333333333333333,
              "#9c179e"
             ],
             [
              0.4444444444444444,
              "#bd3786"
             ],
             [
              0.5555555555555556,
              "#d8576b"
             ],
             [
              0.6666666666666666,
              "#ed7953"
             ],
             [
              0.7777777777777778,
              "#fb9f3a"
             ],
             [
              0.8888888888888888,
              "#fdca26"
             ],
             [
              1,
              "#f0f921"
             ]
            ],
            "type": "histogram2d"
           }
          ],
          "histogram2dcontour": [
           {
            "colorbar": {
             "outlinewidth": 0,
             "ticks": ""
            },
            "colorscale": [
             [
              0,
              "#0d0887"
             ],
             [
              0.1111111111111111,
              "#46039f"
             ],
             [
              0.2222222222222222,
              "#7201a8"
             ],
             [
              0.3333333333333333,
              "#9c179e"
             ],
             [
              0.4444444444444444,
              "#bd3786"
             ],
             [
              0.5555555555555556,
              "#d8576b"
             ],
             [
              0.6666666666666666,
              "#ed7953"
             ],
             [
              0.7777777777777778,
              "#fb9f3a"
             ],
             [
              0.8888888888888888,
              "#fdca26"
             ],
             [
              1,
              "#f0f921"
             ]
            ],
            "type": "histogram2dcontour"
           }
          ],
          "mesh3d": [
           {
            "colorbar": {
             "outlinewidth": 0,
             "ticks": ""
            },
            "type": "mesh3d"
           }
          ],
          "parcoords": [
           {
            "line": {
             "colorbar": {
              "outlinewidth": 0,
              "ticks": ""
             }
            },
            "type": "parcoords"
           }
          ],
          "pie": [
           {
            "automargin": true,
            "type": "pie"
           }
          ],
          "scatter": [
           {
            "marker": {
             "colorbar": {
              "outlinewidth": 0,
              "ticks": ""
             }
            },
            "type": "scatter"
           }
          ],
          "scatter3d": [
           {
            "line": {
             "colorbar": {
              "outlinewidth": 0,
              "ticks": ""
             }
            },
            "marker": {
             "colorbar": {
              "outlinewidth": 0,
              "ticks": ""
             }
            },
            "type": "scatter3d"
           }
          ],
          "scattercarpet": [
           {
            "marker": {
             "colorbar": {
              "outlinewidth": 0,
              "ticks": ""
             }
            },
            "type": "scattercarpet"
           }
          ],
          "scattergeo": [
           {
            "marker": {
             "colorbar": {
              "outlinewidth": 0,
              "ticks": ""
             }
            },
            "type": "scattergeo"
           }
          ],
          "scattergl": [
           {
            "marker": {
             "colorbar": {
              "outlinewidth": 0,
              "ticks": ""
             }
            },
            "type": "scattergl"
           }
          ],
          "scattermapbox": [
           {
            "marker": {
             "colorbar": {
              "outlinewidth": 0,
              "ticks": ""
             }
            },
            "type": "scattermapbox"
           }
          ],
          "scatterpolar": [
           {
            "marker": {
             "colorbar": {
              "outlinewidth": 0,
              "ticks": ""
             }
            },
            "type": "scatterpolar"
           }
          ],
          "scatterpolargl": [
           {
            "marker": {
             "colorbar": {
              "outlinewidth": 0,
              "ticks": ""
             }
            },
            "type": "scatterpolargl"
           }
          ],
          "scatterternary": [
           {
            "marker": {
             "colorbar": {
              "outlinewidth": 0,
              "ticks": ""
             }
            },
            "type": "scatterternary"
           }
          ],
          "surface": [
           {
            "colorbar": {
             "outlinewidth": 0,
             "ticks": ""
            },
            "colorscale": [
             [
              0,
              "#0d0887"
             ],
             [
              0.1111111111111111,
              "#46039f"
             ],
             [
              0.2222222222222222,
              "#7201a8"
             ],
             [
              0.3333333333333333,
              "#9c179e"
             ],
             [
              0.4444444444444444,
              "#bd3786"
             ],
             [
              0.5555555555555556,
              "#d8576b"
             ],
             [
              0.6666666666666666,
              "#ed7953"
             ],
             [
              0.7777777777777778,
              "#fb9f3a"
             ],
             [
              0.8888888888888888,
              "#fdca26"
             ],
             [
              1,
              "#f0f921"
             ]
            ],
            "type": "surface"
           }
          ],
          "table": [
           {
            "cells": {
             "fill": {
              "color": "#EBF0F8"
             },
             "line": {
              "color": "white"
             }
            },
            "header": {
             "fill": {
              "color": "#C8D4E3"
             },
             "line": {
              "color": "white"
             }
            },
            "type": "table"
           }
          ]
         },
         "layout": {
          "annotationdefaults": {
           "arrowcolor": "#2a3f5f",
           "arrowhead": 0,
           "arrowwidth": 1
          },
          "autotypenumbers": "strict",
          "coloraxis": {
           "colorbar": {
            "outlinewidth": 0,
            "ticks": ""
           }
          },
          "colorscale": {
           "diverging": [
            [
             0,
             "#8e0152"
            ],
            [
             0.1,
             "#c51b7d"
            ],
            [
             0.2,
             "#de77ae"
            ],
            [
             0.3,
             "#f1b6da"
            ],
            [
             0.4,
             "#fde0ef"
            ],
            [
             0.5,
             "#f7f7f7"
            ],
            [
             0.6,
             "#e6f5d0"
            ],
            [
             0.7,
             "#b8e186"
            ],
            [
             0.8,
             "#7fbc41"
            ],
            [
             0.9,
             "#4d9221"
            ],
            [
             1,
             "#276419"
            ]
           ],
           "sequential": [
            [
             0,
             "#0d0887"
            ],
            [
             0.1111111111111111,
             "#46039f"
            ],
            [
             0.2222222222222222,
             "#7201a8"
            ],
            [
             0.3333333333333333,
             "#9c179e"
            ],
            [
             0.4444444444444444,
             "#bd3786"
            ],
            [
             0.5555555555555556,
             "#d8576b"
            ],
            [
             0.6666666666666666,
             "#ed7953"
            ],
            [
             0.7777777777777778,
             "#fb9f3a"
            ],
            [
             0.8888888888888888,
             "#fdca26"
            ],
            [
             1,
             "#f0f921"
            ]
           ],
           "sequentialminus": [
            [
             0,
             "#0d0887"
            ],
            [
             0.1111111111111111,
             "#46039f"
            ],
            [
             0.2222222222222222,
             "#7201a8"
            ],
            [
             0.3333333333333333,
             "#9c179e"
            ],
            [
             0.4444444444444444,
             "#bd3786"
            ],
            [
             0.5555555555555556,
             "#d8576b"
            ],
            [
             0.6666666666666666,
             "#ed7953"
            ],
            [
             0.7777777777777778,
             "#fb9f3a"
            ],
            [
             0.8888888888888888,
             "#fdca26"
            ],
            [
             1,
             "#f0f921"
            ]
           ]
          },
          "colorway": [
           "#636efa",
           "#EF553B",
           "#00cc96",
           "#ab63fa",
           "#FFA15A",
           "#19d3f3",
           "#FF6692",
           "#B6E880",
           "#FF97FF",
           "#FECB52"
          ],
          "font": {
           "color": "#2a3f5f"
          },
          "geo": {
           "bgcolor": "white",
           "lakecolor": "white",
           "landcolor": "#E5ECF6",
           "showlakes": true,
           "showland": true,
           "subunitcolor": "white"
          },
          "hoverlabel": {
           "align": "left"
          },
          "hovermode": "closest",
          "mapbox": {
           "style": "light"
          },
          "paper_bgcolor": "white",
          "plot_bgcolor": "#E5ECF6",
          "polar": {
           "angularaxis": {
            "gridcolor": "white",
            "linecolor": "white",
            "ticks": ""
           },
           "bgcolor": "#E5ECF6",
           "radialaxis": {
            "gridcolor": "white",
            "linecolor": "white",
            "ticks": ""
           }
          },
          "scene": {
           "xaxis": {
            "backgroundcolor": "#E5ECF6",
            "gridcolor": "white",
            "gridwidth": 2,
            "linecolor": "white",
            "showbackground": true,
            "ticks": "",
            "zerolinecolor": "white"
           },
           "yaxis": {
            "backgroundcolor": "#E5ECF6",
            "gridcolor": "white",
            "gridwidth": 2,
            "linecolor": "white",
            "showbackground": true,
            "ticks": "",
            "zerolinecolor": "white"
           },
           "zaxis": {
            "backgroundcolor": "#E5ECF6",
            "gridcolor": "white",
            "gridwidth": 2,
            "linecolor": "white",
            "showbackground": true,
            "ticks": "",
            "zerolinecolor": "white"
           }
          },
          "shapedefaults": {
           "line": {
            "color": "#2a3f5f"
           }
          },
          "ternary": {
           "aaxis": {
            "gridcolor": "white",
            "linecolor": "white",
            "ticks": ""
           },
           "baxis": {
            "gridcolor": "white",
            "linecolor": "white",
            "ticks": ""
           },
           "bgcolor": "#E5ECF6",
           "caxis": {
            "gridcolor": "white",
            "linecolor": "white",
            "ticks": ""
           }
          },
          "title": {
           "x": 0.05
          },
          "xaxis": {
           "automargin": true,
           "gridcolor": "white",
           "linecolor": "white",
           "ticks": "",
           "title": {
            "standoff": 15
           },
           "zerolinecolor": "white",
           "zerolinewidth": 2
          },
          "yaxis": {
           "automargin": true,
           "gridcolor": "white",
           "linecolor": "white",
           "ticks": "",
           "title": {
            "standoff": 15
           },
           "zerolinecolor": "white",
           "zerolinewidth": 2
          }
         }
        }
       }
      },
      "text/html": [
       "<html>\n",
       "<head><meta charset=\"utf-8\" /></head>\n",
       "<body>\n",
       "<div>\n",
       "    <script src=\"https://cdnjs.cloudflare.com/ajax/libs/mathjax/2.7.5/MathJax.js?config=TeX-AMS-MML_SVG\"></script>\n",
       "    <script type=\"text/javascript\">\n",
       "window.PlotlyConfig = {MathJaxConfig: 'local'};\n",
       "</script>\n",
       "<script type=\"text/javascript\">\n",
       "if (window.MathJax) {MathJax.Hub.Config({SVG: {font: \"STIX-Web\"}});}\n",
       "</script>\n",
       "<script type=\"text/javascript\">\n",
       "    if (typeof require !== 'undefined') {\n",
       "        require.undef(\"plotly\");\n",
       "        requirejs.config({\n",
       "            paths: {\n",
       "                'plotly': ['https://cdn.plot.ly/plotly-2.3.0.min']\n",
       "            }\n",
       "        });\n",
       "        require(['plotly'], function(Plotly) {\n",
       "            window._Plotly = Plotly;\n",
       "        });\n",
       "    }\n",
       "</script>\n",
       "\n",
       "    <div\n",
       "        id=4eb1a182-e24f-42da-9303-b3e8a424f8a1\n",
       "        class=\"plotly-graph-div\"\n",
       "        style=\"height:100%; width:100%;\">\n",
       "    </div>\n",
       "    <script type=\"text/javascript\">\n",
       "        require([\"plotly\"], function(Plotly) {\n",
       "        window.PLOTLYENV = window.PLOTLYENV || {}\n",
       "        \n",
       "        if (document.getElementById('4eb1a182-e24f-42da-9303-b3e8a424f8a1')) {\n",
       "    Plotly.newPlot(\n",
       "        '4eb1a182-e24f-42da-9303-b3e8a424f8a1',\n",
       "        [{\"y\":[0.20015876206170186,0.15938537489092003,0.024488792126254755,0.01655605810501688,0.863307958233566,4.7179251777605e-17,9.919510282578063e-17,0.0160904862243379,0.03706307448992309,0.2744196179986345,0.33276423164786867,1.5167914026463714e-5,0.026176029930141512,0.0014956985704648131,0.00042398130095220904],\"type\":\"bar\",\"x\":[\"ag\",\"mi\",\"ut\",\"co\",\"ma\",\"wh\",\"re\",\"tr\",\"in\",\"fi\",\"pr\",\"ed\",\"ar\",\"ot\",\"go\"]}],\n",
       "        {\"template\":{\"layout\":{\"coloraxis\":{\"colorbar\":{\"ticks\":\"\",\"outlinewidth\":0}},\"xaxis\":{\"gridcolor\":\"white\",\"zerolinewidth\":2,\"title\":{\"standoff\":15},\"ticks\":\"\",\"zerolinecolor\":\"white\",\"automargin\":true,\"linecolor\":\"white\"},\"hovermode\":\"closest\",\"paper_bgcolor\":\"white\",\"geo\":{\"showlakes\":true,\"showland\":true,\"landcolor\":\"#E5ECF6\",\"bgcolor\":\"white\",\"subunitcolor\":\"white\",\"lakecolor\":\"white\"},\"colorscale\":{\"sequential\":[[0.0,\"#0d0887\"],[0.1111111111111111,\"#46039f\"],[0.2222222222222222,\"#7201a8\"],[0.3333333333333333,\"#9c179e\"],[0.4444444444444444,\"#bd3786\"],[0.5555555555555556,\"#d8576b\"],[0.6666666666666666,\"#ed7953\"],[0.7777777777777778,\"#fb9f3a\"],[0.8888888888888888,\"#fdca26\"],[1.0,\"#f0f921\"]],\"diverging\":[[0,\"#8e0152\"],[0.1,\"#c51b7d\"],[0.2,\"#de77ae\"],[0.3,\"#f1b6da\"],[0.4,\"#fde0ef\"],[0.5,\"#f7f7f7\"],[0.6,\"#e6f5d0\"],[0.7,\"#b8e186\"],[0.8,\"#7fbc41\"],[0.9,\"#4d9221\"],[1,\"#276419\"]],\"sequentialminus\":[[0.0,\"#0d0887\"],[0.1111111111111111,\"#46039f\"],[0.2222222222222222,\"#7201a8\"],[0.3333333333333333,\"#9c179e\"],[0.4444444444444444,\"#bd3786\"],[0.5555555555555556,\"#d8576b\"],[0.6666666666666666,\"#ed7953\"],[0.7777777777777778,\"#fb9f3a\"],[0.8888888888888888,\"#fdca26\"],[1.0,\"#f0f921\"]]},\"yaxis\":{\"gridcolor\":\"white\",\"zerolinewidth\":2,\"title\":{\"standoff\":15},\"ticks\":\"\",\"zerolinecolor\":\"white\",\"automargin\":true,\"linecolor\":\"white\"},\"shapedefaults\":{\"line\":{\"color\":\"#2a3f5f\"}},\"hoverlabel\":{\"align\":\"left\"},\"mapbox\":{\"style\":\"light\"},\"polar\":{\"angularaxis\":{\"gridcolor\":\"white\",\"ticks\":\"\",\"linecolor\":\"white\"},\"bgcolor\":\"#E5ECF6\",\"radialaxis\":{\"gridcolor\":\"white\",\"ticks\":\"\",\"linecolor\":\"white\"}},\"autotypenumbers\":\"strict\",\"font\":{\"color\":\"#2a3f5f\"},\"ternary\":{\"baxis\":{\"gridcolor\":\"white\",\"ticks\":\"\",\"linecolor\":\"white\"},\"bgcolor\":\"#E5ECF6\",\"caxis\":{\"gridcolor\":\"white\",\"ticks\":\"\",\"linecolor\":\"white\"},\"aaxis\":{\"gridcolor\":\"white\",\"ticks\":\"\",\"linecolor\":\"white\"}},\"annotationdefaults\":{\"arrowhead\":0,\"arrowwidth\":1,\"arrowcolor\":\"#2a3f5f\"},\"plot_bgcolor\":\"#E5ECF6\",\"title\":{\"x\":0.05},\"scene\":{\"xaxis\":{\"gridcolor\":\"white\",\"gridwidth\":2,\"backgroundcolor\":\"#E5ECF6\",\"ticks\":\"\",\"showbackground\":true,\"zerolinecolor\":\"white\",\"linecolor\":\"white\"},\"zaxis\":{\"gridcolor\":\"white\",\"gridwidth\":2,\"backgroundcolor\":\"#E5ECF6\",\"ticks\":\"\",\"showbackground\":true,\"zerolinecolor\":\"white\",\"linecolor\":\"white\"},\"yaxis\":{\"gridcolor\":\"white\",\"gridwidth\":2,\"backgroundcolor\":\"#E5ECF6\",\"ticks\":\"\",\"showbackground\":true,\"zerolinecolor\":\"white\",\"linecolor\":\"white\"}},\"colorway\":[\"#636efa\",\"#EF553B\",\"#00cc96\",\"#ab63fa\",\"#FFA15A\",\"#19d3f3\",\"#FF6692\",\"#B6E880\",\"#FF97FF\",\"#FECB52\"]},\"data\":{\"barpolar\":[{\"type\":\"barpolar\",\"marker\":{\"line\":{\"color\":\"#E5ECF6\",\"width\":0.5}}}],\"carpet\":[{\"aaxis\":{\"gridcolor\":\"white\",\"endlinecolor\":\"#2a3f5f\",\"minorgridcolor\":\"white\",\"startlinecolor\":\"#2a3f5f\",\"linecolor\":\"white\"},\"type\":\"carpet\",\"baxis\":{\"gridcolor\":\"white\",\"endlinecolor\":\"#2a3f5f\",\"minorgridcolor\":\"white\",\"startlinecolor\":\"#2a3f5f\",\"linecolor\":\"white\"}}],\"scatterpolar\":[{\"type\":\"scatterpolar\",\"marker\":{\"colorbar\":{\"ticks\":\"\",\"outlinewidth\":0}}}],\"parcoords\":[{\"line\":{\"colorbar\":{\"ticks\":\"\",\"outlinewidth\":0}},\"type\":\"parcoords\"}],\"scatter\":[{\"type\":\"scatter\",\"marker\":{\"colorbar\":{\"ticks\":\"\",\"outlinewidth\":0}}}],\"histogram2dcontour\":[{\"colorbar\":{\"ticks\":\"\",\"outlinewidth\":0},\"type\":\"histogram2dcontour\",\"colorscale\":[[0.0,\"#0d0887\"],[0.1111111111111111,\"#46039f\"],[0.2222222222222222,\"#7201a8\"],[0.3333333333333333,\"#9c179e\"],[0.4444444444444444,\"#bd3786\"],[0.5555555555555556,\"#d8576b\"],[0.6666666666666666,\"#ed7953\"],[0.7777777777777778,\"#fb9f3a\"],[0.8888888888888888,\"#fdca26\"],[1.0,\"#f0f921\"]]}],\"contour\":[{\"colorbar\":{\"ticks\":\"\",\"outlinewidth\":0},\"type\":\"contour\",\"colorscale\":[[0.0,\"#0d0887\"],[0.1111111111111111,\"#46039f\"],[0.2222222222222222,\"#7201a8\"],[0.3333333333333333,\"#9c179e\"],[0.4444444444444444,\"#bd3786\"],[0.5555555555555556,\"#d8576b\"],[0.6666666666666666,\"#ed7953\"],[0.7777777777777778,\"#fb9f3a\"],[0.8888888888888888,\"#fdca26\"],[1.0,\"#f0f921\"]]}],\"scattercarpet\":[{\"type\":\"scattercarpet\",\"marker\":{\"colorbar\":{\"ticks\":\"\",\"outlinewidth\":0}}}],\"mesh3d\":[{\"colorbar\":{\"ticks\":\"\",\"outlinewidth\":0},\"type\":\"mesh3d\"}],\"surface\":[{\"colorbar\":{\"ticks\":\"\",\"outlinewidth\":0},\"type\":\"surface\",\"colorscale\":[[0.0,\"#0d0887\"],[0.1111111111111111,\"#46039f\"],[0.2222222222222222,\"#7201a8\"],[0.3333333333333333,\"#9c179e\"],[0.4444444444444444,\"#bd3786\"],[0.5555555555555556,\"#d8576b\"],[0.6666666666666666,\"#ed7953\"],[0.7777777777777778,\"#fb9f3a\"],[0.8888888888888888,\"#fdca26\"],[1.0,\"#f0f921\"]]}],\"scattermapbox\":[{\"type\":\"scattermapbox\",\"marker\":{\"colorbar\":{\"ticks\":\"\",\"outlinewidth\":0}}}],\"scattergeo\":[{\"type\":\"scattergeo\",\"marker\":{\"colorbar\":{\"ticks\":\"\",\"outlinewidth\":0}}}],\"histogram\":[{\"type\":\"histogram\",\"marker\":{\"colorbar\":{\"ticks\":\"\",\"outlinewidth\":0}}}],\"pie\":[{\"type\":\"pie\",\"automargin\":true}],\"choropleth\":[{\"colorbar\":{\"ticks\":\"\",\"outlinewidth\":0},\"type\":\"choropleth\"}],\"heatmapgl\":[{\"colorbar\":{\"ticks\":\"\",\"outlinewidth\":0},\"type\":\"heatmapgl\",\"colorscale\":[[0.0,\"#0d0887\"],[0.1111111111111111,\"#46039f\"],[0.2222222222222222,\"#7201a8\"],[0.3333333333333333,\"#9c179e\"],[0.4444444444444444,\"#bd3786\"],[0.5555555555555556,\"#d8576b\"],[0.6666666666666666,\"#ed7953\"],[0.7777777777777778,\"#fb9f3a\"],[0.8888888888888888,\"#fdca26\"],[1.0,\"#f0f921\"]]}],\"bar\":[{\"type\":\"bar\",\"error_y\":{\"color\":\"#2a3f5f\"},\"error_x\":{\"color\":\"#2a3f5f\"},\"marker\":{\"line\":{\"color\":\"#E5ECF6\",\"width\":0.5}}}],\"heatmap\":[{\"colorbar\":{\"ticks\":\"\",\"outlinewidth\":0},\"type\":\"heatmap\",\"colorscale\":[[0.0,\"#0d0887\"],[0.1111111111111111,\"#46039f\"],[0.2222222222222222,\"#7201a8\"],[0.3333333333333333,\"#9c179e\"],[0.4444444444444444,\"#bd3786\"],[0.5555555555555556,\"#d8576b\"],[0.6666666666666666,\"#ed7953\"],[0.7777777777777778,\"#fb9f3a\"],[0.8888888888888888,\"#fdca26\"],[1.0,\"#f0f921\"]]}],\"contourcarpet\":[{\"colorbar\":{\"ticks\":\"\",\"outlinewidth\":0},\"type\":\"contourcarpet\"}],\"table\":[{\"type\":\"table\",\"header\":{\"line\":{\"color\":\"white\"},\"fill\":{\"color\":\"#C8D4E3\"}},\"cells\":{\"line\":{\"color\":\"white\"},\"fill\":{\"color\":\"#EBF0F8\"}}}],\"scatter3d\":[{\"line\":{\"colorbar\":{\"ticks\":\"\",\"outlinewidth\":0}},\"type\":\"scatter3d\",\"marker\":{\"colorbar\":{\"ticks\":\"\",\"outlinewidth\":0}}}],\"scattergl\":[{\"type\":\"scattergl\",\"marker\":{\"colorbar\":{\"ticks\":\"\",\"outlinewidth\":0}}}],\"histogram2d\":[{\"colorbar\":{\"ticks\":\"\",\"outlinewidth\":0},\"type\":\"histogram2d\",\"colorscale\":[[0.0,\"#0d0887\"],[0.1111111111111111,\"#46039f\"],[0.2222222222222222,\"#7201a8\"],[0.3333333333333333,\"#9c179e\"],[0.4444444444444444,\"#bd3786\"],[0.5555555555555556,\"#d8576b\"],[0.6666666666666666,\"#ed7953\"],[0.7777777777777778,\"#fb9f3a\"],[0.8888888888888888,\"#fdca26\"],[1.0,\"#f0f921\"]]}],\"scatterternary\":[{\"type\":\"scatterternary\",\"marker\":{\"colorbar\":{\"ticks\":\"\",\"outlinewidth\":0}}}],\"scatterpolargl\":[{\"type\":\"scatterpolargl\",\"marker\":{\"colorbar\":{\"ticks\":\"\",\"outlinewidth\":0}}}]}},\"margin\":{\"l\":50,\"b\":50,\"r\":50,\"t\":60}},\n",
       "        {\"editable\":false,\"responsive\":true,\"staticPlot\":false,\"scrollZoom\":true},\n",
       "    )\n",
       "}\n",
       "\n",
       "        });\n",
       "    </script>\n",
       "</div>\n",
       "\n",
       "</body>\n",
       "</html>"
      ],
      "text/plain": [
       "data: [\n",
       "  \"bar with fields type, x, and y\"\n",
       "]\n",
       "\n",
       "layout: \"layout with fields margin and template\"\n",
       "\n"
      ]
     },
     "execution_count": 12,
     "metadata": {},
     "output_type": "execute_result"
    }
   ],
   "source": [
    "Plot(bar(x=data15.codes, y=lambda15))"
   ]
  },
  {
   "cell_type": "markdown",
   "id": "8148c9c4-72dd-47d9-baa8-5b63bfdc247c",
   "metadata": {
    "editable": true,
    "slideshow": {
     "slide_type": ""
    },
    "tags": []
   },
   "source": [
    "### Accounting\n",
    "\n",
    "- Let...\n",
    "    - $d_i$ be the final consumer demand for good $i$\n",
    "    - $x_i$ be total sales of sector $i$\n",
    "    - $z_{ij}$ be inter-industry sales from sector $i$ to sector $j$\n",
    "- For accounts to add up we must have $$x_i = \\sum_{i=1}^n z_{ij} + d_i$$\n",
    "- Notice that $$\\frac{z_{ij}}{z_j} = a_{ij} = \\text{dollar value of inputs from $i$ per dollar output from $j$}$$\n",
    "- This means $$x_i = \\sum_{j=1} a_{ij} x_j + d_i$$\n",
    "- Which can be written $x = Ax + d$"
   ]
  },
  {
   "cell_type": "markdown",
   "id": "bc4cca8e-b607-47de-a371-d8c2b7344aea",
   "metadata": {},
   "source": [
    "### Equilibrium\n",
    "\n",
    "- An equilibrium in a Leonteif model with input-output coefficient matrix $A$ and a vector $d \\in \\mathbb{R}^n$ of final consumer demands for each sector is a vector $x$ for sector-specific output such that $x = Ax + d$ is satisfied\n",
    "    - Note that $d$ and $A$ are treated as given\n",
    "- To find this vector requires that we trace the impact of final demand on the intermediate linkages through $A$\n",
    "- Example:\n",
    "\n",
    "![Simple production network](https://compsosci-resources.s3.amazonaws.com/graph-theory-lectures/images/QE-networks/simple-production-network.png)\n",
    "\n",
    "- Example\n",
    "    - Suppose $d_3 \\uparrow$\n",
    "    - Will cause $3$ to consume more from its suppliers ($2$ and $4$)\n",
    "    - Which will cause 2 to demand more from $1$\n",
    "    - Which will cause $1$ to demand more from $2$ and $4$\n",
    "    - ... and so on\n",
    "- Computing an equilibrium is not entirely straight forward..."
   ]
  },
  {
   "cell_type": "markdown",
   "id": "f76fa896-edc3-4781-8b5a-623ae17ffebb",
   "metadata": {},
   "source": [
    "### Computing an Equilibrium\n",
    "\n",
    "- Define $v_j \\equiv x_j - \\sum_{i=1}^n z_{ij}$ as the value added by sector $j$\n",
    "- **Assumption**: The input-output adjacency matrix $A$ satisfies $$\\eta_{ij} \\equiv \\sum_{i=1}^n a_{ij} < 1 \\; \\forall j \\in [n]$$\n",
    "    - This holds whenever $v_j > 0 \\forall j$\n",
    "- When this assumption holds, for each $d \\ge 0$ there is a unique, nonnegative output solution given by $$x^* = Ld \\qquad \\text{where } L \\equiv (I-A)^{-1}$$\n",
    "- The matrix $L$ is called the Leontief inverse associated with the coefficient matrix $A$"
   ]
  },
  {
   "cell_type": "code",
   "execution_count": 13,
   "id": "f32b7913-a057-4b32-875f-449a50dcb04c",
   "metadata": {},
   "outputs": [
    {
     "data": {
      "text/plain": [
       "15-element Vector{Float64}:\n",
       "  529.5876385695651\n",
       "  539.6471159147281\n",
       "  504.4562459246958\n",
       "  213.10961424757355\n",
       " 1684.102232985288\n",
       "  490.039956568086\n",
       "  363.5297064550896\n",
       "  418.5497166984117\n",
       "  443.79727522648716\n",
       "  750.0649628686189\n",
       " 1149.3512051482644\n",
       "  303.1862869553239\n",
       "  192.75063112958023\n",
       "  476.7757695206679\n",
       "  337.41500397173866"
      ]
     },
     "execution_count": 13,
     "metadata": {},
     "output_type": "execute_result"
    }
   ],
   "source": [
    "L15 = inv(I - data15.A)\n",
    "\n",
    "# propose a demand vector where each element is between [100, 600]\n",
    "d = rand(15).* 500 .+ 100\n",
    "\n",
    "L15 * d"
   ]
  },
  {
   "cell_type": "markdown",
   "id": "cf7b3c4c-a563-477c-a314-ff9f25acf11d",
   "metadata": {},
   "source": [
    "**Question**\n",
    "\n",
    "We don't have a field for `d` in our `SectorData` struct.\n",
    "\n",
    "How could we compute/derive `d` given the fields we do have?"
   ]
  },
  {
   "cell_type": "code",
   "execution_count": 14,
   "id": "58d0d1b0-e9c2-47b7-8d58-6ebd72b4950a",
   "metadata": {},
   "outputs": [
    {
     "data": {
      "text/plain": [
       "(:Z, :X, :A, :F, :Z_df, :names, :codes, :N, :G)"
      ]
     },
     "execution_count": 14,
     "metadata": {},
     "output_type": "execute_result"
    }
   ],
   "source": [
    "fieldnames(SectorData)"
   ]
  },
  {
   "cell_type": "markdown",
   "id": "6a9bb857-436c-48b9-96d0-4a331c9f2e5b",
   "metadata": {},
   "source": [
    "### Demand Shocks\n",
    "\n",
    "- A common form of economic analysis is to consider the impact of external \"shocks\"\n",
    "- Often, these are modeled as a one time change in the value of a variable\n",
    "- Let's consider a demand shock of size $\\Delta d$ such that demand moves from $d_0$ to $d_1 = \\Delta d + d_0$\n",
    "- The equilibrium vector shifts from $x_0 = L d_0$ to $x_1 = L d_1$\n",
    "- Define $\\Delta x = L (d_1 - d_0) = L \\delta d$"
   ]
  },
  {
   "cell_type": "markdown",
   "id": "c8796355-67e6-42a9-be46-b59339471789",
   "metadata": {},
   "source": [
    "### NSL\n",
    "\n",
    "- We will further assume that $r(A)<1$ so that we can write the expression for $\\Delta x$ as an infinite sum using the Neumann Series Lemma: $$\\Delta x = \\Delta d + A (\\Delta d) + A^2 (\\Delta d) + \\cdots$$\n",
    "    1. $\\Delta d$ is the initial response in each sector,\n",
    "    2. $A (\\Delta d)$ is the response generated by the first round of backward linkages,\n",
    "    3. $A^2 (\\Delta d)$ is the response generated by the second round, and so on.\n",
    "- The total response is the sum of the responses at each round\n",
    "- The typical element $l_{ij}$ of $L = \\sum_{m=0}^{\\infty} A^m$ shows total impact on sector *i* of a unit change in the demand for good $j$"
   ]
  },
  {
   "cell_type": "code",
   "execution_count": 15,
   "id": "0671221a-8903-40db-9e60-d82520f84244",
   "metadata": {},
   "outputs": [
    {
     "data": {
      "text/plain": [
       "15×15 Matrix{Float64}:\n",
       " 1.29184      0.013976     …  0.021353    0.0081746    0.0192996\n",
       " 0.0298015    1.14899         0.0146944   0.00990947   0.0300173\n",
       " 0.0172818    0.0233041       0.0316325   0.00965223   0.0183746\n",
       " 0.0070151    0.00826026      0.00638848  0.00764268   0.0342044\n",
       " 0.406849     0.24425         0.190964    0.136599     0.286737\n",
       " 0.0044889    0.0013509    …  0.00111709  0.000775398  0.00129499\n",
       " 7.51567e-8   7.41503e-8      3.39839e-7  2.05879e-5   3.82796e-7\n",
       " 0.00610972   0.00983046      0.0116882   0.00995762   0.0189601\n",
       " 0.00518775   0.00943438      0.0271543   0.0277547    0.0459451\n",
       " 0.107845     0.0933879       0.147118    0.131159     0.120384\n",
       " 0.0462756    0.134203     …  0.201764    0.114416     0.159921\n",
       " 0.000123414  0.000127331     0.00356867  0.00797317   0.0142819\n",
       " 0.00422839   0.00511009      1.03468     0.0154229    0.0140417\n",
       " 0.00369676   0.00364725      0.0167158   1.01266      0.0188287\n",
       " 0.000730455  0.000825878     0.00497073  0.00307743   1.00398"
      ]
     },
     "execution_count": 15,
     "metadata": {},
     "output_type": "execute_result"
    }
   ],
   "source": [
    "L15"
   ]
  },
  {
   "cell_type": "code",
   "execution_count": 16,
   "id": "e8da6229-e820-40e3-b401-f833e55e467f",
   "metadata": {},
   "outputs": [
    {
     "data": {
      "application/vnd.plotly.v1+json": {
       "config": {
        "editable": false,
        "responsive": true,
        "scrollZoom": true,
        "showLink": false,
        "staticPlot": false
       },
       "data": [
        {
         "transpose": true,
         "type": "heatmap",
         "z": [
          [
           1.2918422688733675,
           0.029801480119549445,
           0.0172817831915659,
           0.007015103326421929,
           0.40684859984441957,
           0.00448890060558851,
           7.515670865822437e-08,
           0.006109718705562347,
           0.005187748520707027,
           0.10784458727683968,
           0.04627564888635022,
           0.00012341373176530745,
           0.004228391515724309,
           0.0036967562612321373,
           0.0007304548101219836
          ],
          [
           0.013976040848336105,
           1.148992391373831,
           0.023304066739385308,
           0.008260263642192215,
           0.24425040851420043,
           0.0013509016860932602,
           7.415031308114958e-08,
           0.009830461611813225,
           0.009434376784889053,
           0.09338791171666788,
           0.1342027070157068,
           0.00012733135147922418,
           0.005110086305794873,
           0.0036472543708853146,
           0.0008258781804173186
          ],
          [
           0.007585556597570371,
           0.09185447393696008,
           1.0627285302404341,
           0.01354923645887107,
           0.13341954331461764,
           0.002893190352511117,
           6.927167361471827e-08,
           0.026362929828618438,
           0.012876481280147494,
           0.06049786068476421,
           0.11048692233994792,
           0.00045656604536916165,
           0.009584177331519204,
           0.00340728722336374,
           0.007122847430118913
          ],
          [
           0.032523187131801634,
           0.049675285469121366,
           0.01108048476785809,
           1.0030398598621961,
           0.5349764751813522,
           0.0019960588911114483,
           1.744241762245273e-07,
           0.006705956522410726,
           0.012368597676888766,
           0.0656556907818742,
           0.12440377057042974,
           0.00016129114053848624,
           0.004729490213111163,
           0.008579455873999591,
           0.0007689291366520204
          ],
          [
           0.07959821476708173,
           0.08307169313021415,
           0.014190784762465432,
           0.0040156833733842314,
           1.4507590380557558,
           0.004923410727884183,
           9.985409510682519e-08,
           0.01250632099033362,
           0.007968971169965188,
           0.04086125262930527,
           0.08382218581996682,
           0.00012528870273876075,
           0.004110937287794027,
           0.004911554242941571,
           0.001074205364841204
          ],
          [
           0.008586979365285992,
           0.009199162506905008,
           0.018781322994177053,
           0.006059633410513758,
           0.1281339680069952,
           1.0281336764593179,
           4.937055694967997e-07,
           0.060347292424282266,
           0.027707122378763868,
           0.15834310278060984,
           0.2603245000323021,
           0.0013502628326451259,
           0.014641556828280375,
           0.024284048461224776,
           0.008508838291439561
          ],
          [
           0.011063158609807267,
           0.011331755459963838,
           0.03673833487387849,
           0.009042302036084459,
           0.14031809310445356,
           0.01755006675455727,
           1.0020956367581775,
           0.07031099252776074,
           0.03365887461058039,
           0.20548391942034508,
           0.24731742268554935,
           0.004376483728014325,
           0.016959860491345978,
           0.019432218737138157,
           0.006075753813390329
          ],
          [
           0.012868307247339398,
           0.015288492445272979,
           0.02456760608050924,
           0.011008563171117517,
           0.2229896710171304,
           0.0013686873458662288,
           4.2095947875715125e-07,
           1.1564989486049815,
           0.02765135900811422,
           0.17056804490038419,
           0.17819038561035302,
           0.0007319238842299446,
           0.027014533725722732,
           0.020705864008724432,
           0.0132859079277222
          ],
          [
           0.009352719233087094,
           0.01169395745474638,
           0.011940907029863126,
           0.005703000823067012,
           0.15967791675177917,
           0.0029462214375473687,
           2.548969293810038e-07,
           0.022721077475236197,
           1.1939291722010996,
           0.1265082061756547,
           0.3203670213801106,
           0.0005768304038744139,
           0.03396983760954638,
           0.012537694059264222,
           0.0033963973933527018
          ],
          [
           0.0037247794471295566,
           0.006376773413889403,
           0.02682719436583806,
           0.029684196037592096,
           0.06093308257152371,
           0.0021418563498828615,
           1.644165484656479e-07,
           0.007647801268543017,
           0.017343384139521325,
           1.2574030915278778,
           0.137882085481151,
           0.00025027146328558534,
           0.017792688524382,
           0.008087207593863265,
           0.003428030699733071
          ],
          [
           0.006226598313629211,
           0.006837994988947812,
           0.008640097336503396,
           0.0032799310194179206,
           0.09422561815782579,
           0.0006297313672638212,
           2.076021935104408e-07,
           0.01615439713310411,
           0.03836825151495066,
           0.0993089006461956,
           1.2041917195189837,
           0.0007332199161064085,
           0.023187385810309383,
           0.010211393266238588,
           0.0026645979657073143
          ],
          [
           0.008236008076826895,
           0.009416421411886674,
           0.011993351834502373,
           0.004427507984897768,
           0.14154980522581911,
           0.0009436110059898712,
           2.3938806242161286e-07,
           0.010173361146266791,
           0.02261420186365034,
           0.14241379408187788,
           0.14605376123458697,
           1.014326969592142,
           0.024067974512787325,
           0.011774854626027936,
           0.003329415556424465
          ],
          [
           0.021353041388286503,
           0.014694432612634834,
           0.03163251162112644,
           0.006388477014916671,
           0.19096410653185716,
           0.001117086318599877,
           3.398393014448587e-07,
           0.011688182554494289,
           0.027154330748707517,
           0.1471176136664572,
           0.2017643412855706,
           0.0035686727490980377,
           1.0346829993001059,
           0.01671578077137576,
           0.004970727794003744
          ],
          [
           0.008174603017108666,
           0.009909467449048665,
           0.009652231356584658,
           0.007642680140519171,
           0.13659862241834791,
           0.0007753978050644551,
           2.058790362171201e-05,
           0.009957623966527624,
           0.027754656776499378,
           0.13115903204365684,
           0.11441580532933693,
           0.007973173174519234,
           0.015422944772054142,
           1.0126635795789223,
           0.0030774341481861027
          ],
          [
           0.019299619711356773,
           0.03001731146433584,
           0.0183746364345848,
           0.034204393334721715,
           0.2867368525987054,
           0.0012949870153486241,
           3.827961684142648e-07,
           0.018960110688294944,
           0.045945093512402835,
           0.12038372906345203,
           0.15992088826558132,
           0.014281896017351475,
           0.01404169251078281,
           0.018828713465837102,
           1.0039784693590683
          ]
         ]
        }
       ],
       "frames": [],
       "layout": {
        "margin": {
         "b": 50,
         "l": 50,
         "r": 50,
         "t": 60
        },
        "template": {
         "data": {
          "bar": [
           {
            "error_x": {
             "color": "#2a3f5f"
            },
            "error_y": {
             "color": "#2a3f5f"
            },
            "marker": {
             "line": {
              "color": "#E5ECF6",
              "width": 0.5
             }
            },
            "type": "bar"
           }
          ],
          "barpolar": [
           {
            "marker": {
             "line": {
              "color": "#E5ECF6",
              "width": 0.5
             }
            },
            "type": "barpolar"
           }
          ],
          "carpet": [
           {
            "aaxis": {
             "endlinecolor": "#2a3f5f",
             "gridcolor": "white",
             "linecolor": "white",
             "minorgridcolor": "white",
             "startlinecolor": "#2a3f5f"
            },
            "baxis": {
             "endlinecolor": "#2a3f5f",
             "gridcolor": "white",
             "linecolor": "white",
             "minorgridcolor": "white",
             "startlinecolor": "#2a3f5f"
            },
            "type": "carpet"
           }
          ],
          "choropleth": [
           {
            "colorbar": {
             "outlinewidth": 0,
             "ticks": ""
            },
            "type": "choropleth"
           }
          ],
          "contour": [
           {
            "colorbar": {
             "outlinewidth": 0,
             "ticks": ""
            },
            "colorscale": [
             [
              0,
              "#0d0887"
             ],
             [
              0.1111111111111111,
              "#46039f"
             ],
             [
              0.2222222222222222,
              "#7201a8"
             ],
             [
              0.3333333333333333,
              "#9c179e"
             ],
             [
              0.4444444444444444,
              "#bd3786"
             ],
             [
              0.5555555555555556,
              "#d8576b"
             ],
             [
              0.6666666666666666,
              "#ed7953"
             ],
             [
              0.7777777777777778,
              "#fb9f3a"
             ],
             [
              0.8888888888888888,
              "#fdca26"
             ],
             [
              1,
              "#f0f921"
             ]
            ],
            "type": "contour"
           }
          ],
          "contourcarpet": [
           {
            "colorbar": {
             "outlinewidth": 0,
             "ticks": ""
            },
            "type": "contourcarpet"
           }
          ],
          "heatmap": [
           {
            "colorbar": {
             "outlinewidth": 0,
             "ticks": ""
            },
            "colorscale": [
             [
              0,
              "#0d0887"
             ],
             [
              0.1111111111111111,
              "#46039f"
             ],
             [
              0.2222222222222222,
              "#7201a8"
             ],
             [
              0.3333333333333333,
              "#9c179e"
             ],
             [
              0.4444444444444444,
              "#bd3786"
             ],
             [
              0.5555555555555556,
              "#d8576b"
             ],
             [
              0.6666666666666666,
              "#ed7953"
             ],
             [
              0.7777777777777778,
              "#fb9f3a"
             ],
             [
              0.8888888888888888,
              "#fdca26"
             ],
             [
              1,
              "#f0f921"
             ]
            ],
            "type": "heatmap"
           }
          ],
          "heatmapgl": [
           {
            "colorbar": {
             "outlinewidth": 0,
             "ticks": ""
            },
            "colorscale": [
             [
              0,
              "#0d0887"
             ],
             [
              0.1111111111111111,
              "#46039f"
             ],
             [
              0.2222222222222222,
              "#7201a8"
             ],
             [
              0.3333333333333333,
              "#9c179e"
             ],
             [
              0.4444444444444444,
              "#bd3786"
             ],
             [
              0.5555555555555556,
              "#d8576b"
             ],
             [
              0.6666666666666666,
              "#ed7953"
             ],
             [
              0.7777777777777778,
              "#fb9f3a"
             ],
             [
              0.8888888888888888,
              "#fdca26"
             ],
             [
              1,
              "#f0f921"
             ]
            ],
            "type": "heatmapgl"
           }
          ],
          "histogram": [
           {
            "marker": {
             "colorbar": {
              "outlinewidth": 0,
              "ticks": ""
             }
            },
            "type": "histogram"
           }
          ],
          "histogram2d": [
           {
            "colorbar": {
             "outlinewidth": 0,
             "ticks": ""
            },
            "colorscale": [
             [
              0,
              "#0d0887"
             ],
             [
              0.1111111111111111,
              "#46039f"
             ],
             [
              0.2222222222222222,
              "#7201a8"
             ],
             [
              0.3333333333333333,
              "#9c179e"
             ],
             [
              0.4444444444444444,
              "#bd3786"
             ],
             [
              0.5555555555555556,
              "#d8576b"
             ],
             [
              0.6666666666666666,
              "#ed7953"
             ],
             [
              0.7777777777777778,
              "#fb9f3a"
             ],
             [
              0.8888888888888888,
              "#fdca26"
             ],
             [
              1,
              "#f0f921"
             ]
            ],
            "type": "histogram2d"
           }
          ],
          "histogram2dcontour": [
           {
            "colorbar": {
             "outlinewidth": 0,
             "ticks": ""
            },
            "colorscale": [
             [
              0,
              "#0d0887"
             ],
             [
              0.1111111111111111,
              "#46039f"
             ],
             [
              0.2222222222222222,
              "#7201a8"
             ],
             [
              0.3333333333333333,
              "#9c179e"
             ],
             [
              0.4444444444444444,
              "#bd3786"
             ],
             [
              0.5555555555555556,
              "#d8576b"
             ],
             [
              0.6666666666666666,
              "#ed7953"
             ],
             [
              0.7777777777777778,
              "#fb9f3a"
             ],
             [
              0.8888888888888888,
              "#fdca26"
             ],
             [
              1,
              "#f0f921"
             ]
            ],
            "type": "histogram2dcontour"
           }
          ],
          "mesh3d": [
           {
            "colorbar": {
             "outlinewidth": 0,
             "ticks": ""
            },
            "type": "mesh3d"
           }
          ],
          "parcoords": [
           {
            "line": {
             "colorbar": {
              "outlinewidth": 0,
              "ticks": ""
             }
            },
            "type": "parcoords"
           }
          ],
          "pie": [
           {
            "automargin": true,
            "type": "pie"
           }
          ],
          "scatter": [
           {
            "marker": {
             "colorbar": {
              "outlinewidth": 0,
              "ticks": ""
             }
            },
            "type": "scatter"
           }
          ],
          "scatter3d": [
           {
            "line": {
             "colorbar": {
              "outlinewidth": 0,
              "ticks": ""
             }
            },
            "marker": {
             "colorbar": {
              "outlinewidth": 0,
              "ticks": ""
             }
            },
            "type": "scatter3d"
           }
          ],
          "scattercarpet": [
           {
            "marker": {
             "colorbar": {
              "outlinewidth": 0,
              "ticks": ""
             }
            },
            "type": "scattercarpet"
           }
          ],
          "scattergeo": [
           {
            "marker": {
             "colorbar": {
              "outlinewidth": 0,
              "ticks": ""
             }
            },
            "type": "scattergeo"
           }
          ],
          "scattergl": [
           {
            "marker": {
             "colorbar": {
              "outlinewidth": 0,
              "ticks": ""
             }
            },
            "type": "scattergl"
           }
          ],
          "scattermapbox": [
           {
            "marker": {
             "colorbar": {
              "outlinewidth": 0,
              "ticks": ""
             }
            },
            "type": "scattermapbox"
           }
          ],
          "scatterpolar": [
           {
            "marker": {
             "colorbar": {
              "outlinewidth": 0,
              "ticks": ""
             }
            },
            "type": "scatterpolar"
           }
          ],
          "scatterpolargl": [
           {
            "marker": {
             "colorbar": {
              "outlinewidth": 0,
              "ticks": ""
             }
            },
            "type": "scatterpolargl"
           }
          ],
          "scatterternary": [
           {
            "marker": {
             "colorbar": {
              "outlinewidth": 0,
              "ticks": ""
             }
            },
            "type": "scatterternary"
           }
          ],
          "surface": [
           {
            "colorbar": {
             "outlinewidth": 0,
             "ticks": ""
            },
            "colorscale": [
             [
              0,
              "#0d0887"
             ],
             [
              0.1111111111111111,
              "#46039f"
             ],
             [
              0.2222222222222222,
              "#7201a8"
             ],
             [
              0.3333333333333333,
              "#9c179e"
             ],
             [
              0.4444444444444444,
              "#bd3786"
             ],
             [
              0.5555555555555556,
              "#d8576b"
             ],
             [
              0.6666666666666666,
              "#ed7953"
             ],
             [
              0.7777777777777778,
              "#fb9f3a"
             ],
             [
              0.8888888888888888,
              "#fdca26"
             ],
             [
              1,
              "#f0f921"
             ]
            ],
            "type": "surface"
           }
          ],
          "table": [
           {
            "cells": {
             "fill": {
              "color": "#EBF0F8"
             },
             "line": {
              "color": "white"
             }
            },
            "header": {
             "fill": {
              "color": "#C8D4E3"
             },
             "line": {
              "color": "white"
             }
            },
            "type": "table"
           }
          ]
         },
         "layout": {
          "annotationdefaults": {
           "arrowcolor": "#2a3f5f",
           "arrowhead": 0,
           "arrowwidth": 1
          },
          "autotypenumbers": "strict",
          "coloraxis": {
           "colorbar": {
            "outlinewidth": 0,
            "ticks": ""
           }
          },
          "colorscale": {
           "diverging": [
            [
             0,
             "#8e0152"
            ],
            [
             0.1,
             "#c51b7d"
            ],
            [
             0.2,
             "#de77ae"
            ],
            [
             0.3,
             "#f1b6da"
            ],
            [
             0.4,
             "#fde0ef"
            ],
            [
             0.5,
             "#f7f7f7"
            ],
            [
             0.6,
             "#e6f5d0"
            ],
            [
             0.7,
             "#b8e186"
            ],
            [
             0.8,
             "#7fbc41"
            ],
            [
             0.9,
             "#4d9221"
            ],
            [
             1,
             "#276419"
            ]
           ],
           "sequential": [
            [
             0,
             "#0d0887"
            ],
            [
             0.1111111111111111,
             "#46039f"
            ],
            [
             0.2222222222222222,
             "#7201a8"
            ],
            [
             0.3333333333333333,
             "#9c179e"
            ],
            [
             0.4444444444444444,
             "#bd3786"
            ],
            [
             0.5555555555555556,
             "#d8576b"
            ],
            [
             0.6666666666666666,
             "#ed7953"
            ],
            [
             0.7777777777777778,
             "#fb9f3a"
            ],
            [
             0.8888888888888888,
             "#fdca26"
            ],
            [
             1,
             "#f0f921"
            ]
           ],
           "sequentialminus": [
            [
             0,
             "#0d0887"
            ],
            [
             0.1111111111111111,
             "#46039f"
            ],
            [
             0.2222222222222222,
             "#7201a8"
            ],
            [
             0.3333333333333333,
             "#9c179e"
            ],
            [
             0.4444444444444444,
             "#bd3786"
            ],
            [
             0.5555555555555556,
             "#d8576b"
            ],
            [
             0.6666666666666666,
             "#ed7953"
            ],
            [
             0.7777777777777778,
             "#fb9f3a"
            ],
            [
             0.8888888888888888,
             "#fdca26"
            ],
            [
             1,
             "#f0f921"
            ]
           ]
          },
          "colorway": [
           "#636efa",
           "#EF553B",
           "#00cc96",
           "#ab63fa",
           "#FFA15A",
           "#19d3f3",
           "#FF6692",
           "#B6E880",
           "#FF97FF",
           "#FECB52"
          ],
          "font": {
           "color": "#2a3f5f"
          },
          "geo": {
           "bgcolor": "white",
           "lakecolor": "white",
           "landcolor": "#E5ECF6",
           "showlakes": true,
           "showland": true,
           "subunitcolor": "white"
          },
          "hoverlabel": {
           "align": "left"
          },
          "hovermode": "closest",
          "mapbox": {
           "style": "light"
          },
          "paper_bgcolor": "white",
          "plot_bgcolor": "#E5ECF6",
          "polar": {
           "angularaxis": {
            "gridcolor": "white",
            "linecolor": "white",
            "ticks": ""
           },
           "bgcolor": "#E5ECF6",
           "radialaxis": {
            "gridcolor": "white",
            "linecolor": "white",
            "ticks": ""
           }
          },
          "scene": {
           "xaxis": {
            "backgroundcolor": "#E5ECF6",
            "gridcolor": "white",
            "gridwidth": 2,
            "linecolor": "white",
            "showbackground": true,
            "ticks": "",
            "zerolinecolor": "white"
           },
           "yaxis": {
            "backgroundcolor": "#E5ECF6",
            "gridcolor": "white",
            "gridwidth": 2,
            "linecolor": "white",
            "showbackground": true,
            "ticks": "",
            "zerolinecolor": "white"
           },
           "zaxis": {
            "backgroundcolor": "#E5ECF6",
            "gridcolor": "white",
            "gridwidth": 2,
            "linecolor": "white",
            "showbackground": true,
            "ticks": "",
            "zerolinecolor": "white"
           }
          },
          "shapedefaults": {
           "line": {
            "color": "#2a3f5f"
           }
          },
          "ternary": {
           "aaxis": {
            "gridcolor": "white",
            "linecolor": "white",
            "ticks": ""
           },
           "baxis": {
            "gridcolor": "white",
            "linecolor": "white",
            "ticks": ""
           },
           "bgcolor": "#E5ECF6",
           "caxis": {
            "gridcolor": "white",
            "linecolor": "white",
            "ticks": ""
           }
          },
          "title": {
           "x": 0.05
          },
          "xaxis": {
           "automargin": true,
           "gridcolor": "white",
           "linecolor": "white",
           "ticks": "",
           "title": {
            "standoff": 15
           },
           "zerolinecolor": "white",
           "zerolinewidth": 2
          },
          "yaxis": {
           "automargin": true,
           "gridcolor": "white",
           "linecolor": "white",
           "ticks": "",
           "title": {
            "standoff": 15
           },
           "zerolinecolor": "white",
           "zerolinewidth": 2
          }
         }
        }
       }
      },
      "text/html": [
       "<html>\n",
       "<head><meta charset=\"utf-8\" /></head>\n",
       "<body>\n",
       "<div>\n",
       "    <script src=\"https://cdnjs.cloudflare.com/ajax/libs/mathjax/2.7.5/MathJax.js?config=TeX-AMS-MML_SVG\"></script>\n",
       "    <script type=\"text/javascript\">\n",
       "window.PlotlyConfig = {MathJaxConfig: 'local'};\n",
       "</script>\n",
       "<script type=\"text/javascript\">\n",
       "if (window.MathJax) {MathJax.Hub.Config({SVG: {font: \"STIX-Web\"}});}\n",
       "</script>\n",
       "<script type=\"text/javascript\">\n",
       "    if (typeof require !== 'undefined') {\n",
       "        require.undef(\"plotly\");\n",
       "        requirejs.config({\n",
       "            paths: {\n",
       "                'plotly': ['https://cdn.plot.ly/plotly-2.3.0.min']\n",
       "            }\n",
       "        });\n",
       "        require(['plotly'], function(Plotly) {\n",
       "            window._Plotly = Plotly;\n",
       "        });\n",
       "    }\n",
       "</script>\n",
       "\n",
       "    <div\n",
       "        id=0e6d466d-b8f2-4907-b39e-31ce1e6b29e4\n",
       "        class=\"plotly-graph-div\"\n",
       "        style=\"height:100%; width:100%;\">\n",
       "    </div>\n",
       "    <script type=\"text/javascript\">\n",
       "        require([\"plotly\"], function(Plotly) {\n",
       "        window.PLOTLYENV = window.PLOTLYENV || {}\n",
       "        \n",
       "        if (document.getElementById('0e6d466d-b8f2-4907-b39e-31ce1e6b29e4')) {\n",
       "    Plotly.newPlot(\n",
       "        '0e6d466d-b8f2-4907-b39e-31ce1e6b29e4',\n",
       "        [{\"type\":\"heatmap\",\"z\":[[1.2918422688733675,0.029801480119549445,0.0172817831915659,0.007015103326421929,0.40684859984441957,0.00448890060558851,7.515670865822437e-8,0.006109718705562347,0.005187748520707027,0.10784458727683968,0.04627564888635022,0.00012341373176530745,0.004228391515724309,0.0036967562612321373,0.0007304548101219836],[0.013976040848336105,1.148992391373831,0.023304066739385308,0.008260263642192215,0.24425040851420043,0.0013509016860932602,7.415031308114958e-8,0.009830461611813225,0.009434376784889053,0.09338791171666788,0.1342027070157068,0.00012733135147922418,0.005110086305794873,0.0036472543708853146,0.0008258781804173186],[0.007585556597570371,0.09185447393696008,1.0627285302404341,0.01354923645887107,0.13341954331461764,0.002893190352511117,6.927167361471827e-8,0.026362929828618438,0.012876481280147494,0.06049786068476421,0.11048692233994792,0.00045656604536916165,0.009584177331519204,0.00340728722336374,0.007122847430118913],[0.032523187131801634,0.049675285469121366,0.01108048476785809,1.0030398598621961,0.5349764751813522,0.0019960588911114483,1.744241762245273e-7,0.006705956522410726,0.012368597676888766,0.0656556907818742,0.12440377057042974,0.00016129114053848624,0.004729490213111163,0.008579455873999591,0.0007689291366520204],[0.07959821476708173,0.08307169313021415,0.014190784762465432,0.0040156833733842314,1.4507590380557558,0.004923410727884183,9.985409510682519e-8,0.01250632099033362,0.007968971169965188,0.04086125262930527,0.08382218581996682,0.00012528870273876075,0.004110937287794027,0.004911554242941571,0.001074205364841204],[0.008586979365285992,0.009199162506905008,0.018781322994177053,0.006059633410513758,0.1281339680069952,1.0281336764593179,4.937055694967997e-7,0.060347292424282266,0.027707122378763868,0.15834310278060984,0.2603245000323021,0.0013502628326451259,0.014641556828280375,0.024284048461224776,0.008508838291439561],[0.011063158609807267,0.011331755459963838,0.03673833487387849,0.009042302036084459,0.14031809310445356,0.01755006675455727,1.0020956367581775,0.07031099252776074,0.03365887461058039,0.20548391942034508,0.24731742268554935,0.004376483728014325,0.016959860491345978,0.019432218737138157,0.006075753813390329],[0.012868307247339398,0.015288492445272979,0.02456760608050924,0.011008563171117517,0.2229896710171304,0.0013686873458662288,4.2095947875715125e-7,1.1564989486049815,0.02765135900811422,0.17056804490038419,0.17819038561035302,0.0007319238842299446,0.027014533725722732,0.020705864008724432,0.0132859079277222],[0.009352719233087094,0.01169395745474638,0.011940907029863126,0.005703000823067012,0.15967791675177917,0.0029462214375473687,2.548969293810038e-7,0.022721077475236197,1.1939291722010996,0.1265082061756547,0.3203670213801106,0.0005768304038744139,0.03396983760954638,0.012537694059264222,0.0033963973933527018],[0.0037247794471295566,0.006376773413889403,0.02682719436583806,0.029684196037592096,0.06093308257152371,0.0021418563498828615,1.644165484656479e-7,0.007647801268543017,0.017343384139521325,1.2574030915278778,0.137882085481151,0.00025027146328558534,0.017792688524382,0.008087207593863265,0.003428030699733071],[0.006226598313629211,0.006837994988947812,0.008640097336503396,0.0032799310194179206,0.09422561815782579,0.0006297313672638212,2.076021935104408e-7,0.01615439713310411,0.03836825151495066,0.0993089006461956,1.2041917195189837,0.0007332199161064085,0.023187385810309383,0.010211393266238588,0.0026645979657073143],[0.008236008076826895,0.009416421411886674,0.011993351834502373,0.004427507984897768,0.14154980522581911,0.0009436110059898712,2.3938806242161286e-7,0.010173361146266791,0.02261420186365034,0.14241379408187788,0.14605376123458697,1.014326969592142,0.024067974512787325,0.011774854626027936,0.003329415556424465],[0.021353041388286503,0.014694432612634834,0.03163251162112644,0.006388477014916671,0.19096410653185716,0.001117086318599877,3.398393014448587e-7,0.011688182554494289,0.027154330748707517,0.1471176136664572,0.2017643412855706,0.0035686727490980377,1.0346829993001059,0.01671578077137576,0.004970727794003744],[0.008174603017108666,0.009909467449048665,0.009652231356584658,0.007642680140519171,0.13659862241834791,0.0007753978050644551,2.058790362171201e-5,0.009957623966527624,0.027754656776499378,0.13115903204365684,0.11441580532933693,0.007973173174519234,0.015422944772054142,1.0126635795789223,0.0030774341481861027],[0.019299619711356773,0.03001731146433584,0.0183746364345848,0.034204393334721715,0.2867368525987054,0.0012949870153486241,3.827961684142648e-7,0.018960110688294944,0.045945093512402835,0.12038372906345203,0.15992088826558132,0.014281896017351475,0.01404169251078281,0.018828713465837102,1.0039784693590683]],\"transpose\":true}],\n",
       "        {\"template\":{\"layout\":{\"coloraxis\":{\"colorbar\":{\"ticks\":\"\",\"outlinewidth\":0}},\"xaxis\":{\"gridcolor\":\"white\",\"zerolinewidth\":2,\"title\":{\"standoff\":15},\"ticks\":\"\",\"zerolinecolor\":\"white\",\"automargin\":true,\"linecolor\":\"white\"},\"hovermode\":\"closest\",\"paper_bgcolor\":\"white\",\"geo\":{\"showlakes\":true,\"showland\":true,\"landcolor\":\"#E5ECF6\",\"bgcolor\":\"white\",\"subunitcolor\":\"white\",\"lakecolor\":\"white\"},\"colorscale\":{\"sequential\":[[0.0,\"#0d0887\"],[0.1111111111111111,\"#46039f\"],[0.2222222222222222,\"#7201a8\"],[0.3333333333333333,\"#9c179e\"],[0.4444444444444444,\"#bd3786\"],[0.5555555555555556,\"#d8576b\"],[0.6666666666666666,\"#ed7953\"],[0.7777777777777778,\"#fb9f3a\"],[0.8888888888888888,\"#fdca26\"],[1.0,\"#f0f921\"]],\"diverging\":[[0,\"#8e0152\"],[0.1,\"#c51b7d\"],[0.2,\"#de77ae\"],[0.3,\"#f1b6da\"],[0.4,\"#fde0ef\"],[0.5,\"#f7f7f7\"],[0.6,\"#e6f5d0\"],[0.7,\"#b8e186\"],[0.8,\"#7fbc41\"],[0.9,\"#4d9221\"],[1,\"#276419\"]],\"sequentialminus\":[[0.0,\"#0d0887\"],[0.1111111111111111,\"#46039f\"],[0.2222222222222222,\"#7201a8\"],[0.3333333333333333,\"#9c179e\"],[0.4444444444444444,\"#bd3786\"],[0.5555555555555556,\"#d8576b\"],[0.6666666666666666,\"#ed7953\"],[0.7777777777777778,\"#fb9f3a\"],[0.8888888888888888,\"#fdca26\"],[1.0,\"#f0f921\"]]},\"yaxis\":{\"gridcolor\":\"white\",\"zerolinewidth\":2,\"title\":{\"standoff\":15},\"ticks\":\"\",\"zerolinecolor\":\"white\",\"automargin\":true,\"linecolor\":\"white\"},\"shapedefaults\":{\"line\":{\"color\":\"#2a3f5f\"}},\"hoverlabel\":{\"align\":\"left\"},\"mapbox\":{\"style\":\"light\"},\"polar\":{\"angularaxis\":{\"gridcolor\":\"white\",\"ticks\":\"\",\"linecolor\":\"white\"},\"bgcolor\":\"#E5ECF6\",\"radialaxis\":{\"gridcolor\":\"white\",\"ticks\":\"\",\"linecolor\":\"white\"}},\"autotypenumbers\":\"strict\",\"font\":{\"color\":\"#2a3f5f\"},\"ternary\":{\"baxis\":{\"gridcolor\":\"white\",\"ticks\":\"\",\"linecolor\":\"white\"},\"bgcolor\":\"#E5ECF6\",\"caxis\":{\"gridcolor\":\"white\",\"ticks\":\"\",\"linecolor\":\"white\"},\"aaxis\":{\"gridcolor\":\"white\",\"ticks\":\"\",\"linecolor\":\"white\"}},\"annotationdefaults\":{\"arrowhead\":0,\"arrowwidth\":1,\"arrowcolor\":\"#2a3f5f\"},\"plot_bgcolor\":\"#E5ECF6\",\"title\":{\"x\":0.05},\"scene\":{\"xaxis\":{\"gridcolor\":\"white\",\"gridwidth\":2,\"backgroundcolor\":\"#E5ECF6\",\"ticks\":\"\",\"showbackground\":true,\"zerolinecolor\":\"white\",\"linecolor\":\"white\"},\"zaxis\":{\"gridcolor\":\"white\",\"gridwidth\":2,\"backgroundcolor\":\"#E5ECF6\",\"ticks\":\"\",\"showbackground\":true,\"zerolinecolor\":\"white\",\"linecolor\":\"white\"},\"yaxis\":{\"gridcolor\":\"white\",\"gridwidth\":2,\"backgroundcolor\":\"#E5ECF6\",\"ticks\":\"\",\"showbackground\":true,\"zerolinecolor\":\"white\",\"linecolor\":\"white\"}},\"colorway\":[\"#636efa\",\"#EF553B\",\"#00cc96\",\"#ab63fa\",\"#FFA15A\",\"#19d3f3\",\"#FF6692\",\"#B6E880\",\"#FF97FF\",\"#FECB52\"]},\"data\":{\"barpolar\":[{\"type\":\"barpolar\",\"marker\":{\"line\":{\"color\":\"#E5ECF6\",\"width\":0.5}}}],\"carpet\":[{\"aaxis\":{\"gridcolor\":\"white\",\"endlinecolor\":\"#2a3f5f\",\"minorgridcolor\":\"white\",\"startlinecolor\":\"#2a3f5f\",\"linecolor\":\"white\"},\"type\":\"carpet\",\"baxis\":{\"gridcolor\":\"white\",\"endlinecolor\":\"#2a3f5f\",\"minorgridcolor\":\"white\",\"startlinecolor\":\"#2a3f5f\",\"linecolor\":\"white\"}}],\"scatterpolar\":[{\"type\":\"scatterpolar\",\"marker\":{\"colorbar\":{\"ticks\":\"\",\"outlinewidth\":0}}}],\"parcoords\":[{\"line\":{\"colorbar\":{\"ticks\":\"\",\"outlinewidth\":0}},\"type\":\"parcoords\"}],\"scatter\":[{\"type\":\"scatter\",\"marker\":{\"colorbar\":{\"ticks\":\"\",\"outlinewidth\":0}}}],\"histogram2dcontour\":[{\"colorbar\":{\"ticks\":\"\",\"outlinewidth\":0},\"type\":\"histogram2dcontour\",\"colorscale\":[[0.0,\"#0d0887\"],[0.1111111111111111,\"#46039f\"],[0.2222222222222222,\"#7201a8\"],[0.3333333333333333,\"#9c179e\"],[0.4444444444444444,\"#bd3786\"],[0.5555555555555556,\"#d8576b\"],[0.6666666666666666,\"#ed7953\"],[0.7777777777777778,\"#fb9f3a\"],[0.8888888888888888,\"#fdca26\"],[1.0,\"#f0f921\"]]}],\"contour\":[{\"colorbar\":{\"ticks\":\"\",\"outlinewidth\":0},\"type\":\"contour\",\"colorscale\":[[0.0,\"#0d0887\"],[0.1111111111111111,\"#46039f\"],[0.2222222222222222,\"#7201a8\"],[0.3333333333333333,\"#9c179e\"],[0.4444444444444444,\"#bd3786\"],[0.5555555555555556,\"#d8576b\"],[0.6666666666666666,\"#ed7953\"],[0.7777777777777778,\"#fb9f3a\"],[0.8888888888888888,\"#fdca26\"],[1.0,\"#f0f921\"]]}],\"scattercarpet\":[{\"type\":\"scattercarpet\",\"marker\":{\"colorbar\":{\"ticks\":\"\",\"outlinewidth\":0}}}],\"mesh3d\":[{\"colorbar\":{\"ticks\":\"\",\"outlinewidth\":0},\"type\":\"mesh3d\"}],\"surface\":[{\"colorbar\":{\"ticks\":\"\",\"outlinewidth\":0},\"type\":\"surface\",\"colorscale\":[[0.0,\"#0d0887\"],[0.1111111111111111,\"#46039f\"],[0.2222222222222222,\"#7201a8\"],[0.3333333333333333,\"#9c179e\"],[0.4444444444444444,\"#bd3786\"],[0.5555555555555556,\"#d8576b\"],[0.6666666666666666,\"#ed7953\"],[0.7777777777777778,\"#fb9f3a\"],[0.8888888888888888,\"#fdca26\"],[1.0,\"#f0f921\"]]}],\"scattermapbox\":[{\"type\":\"scattermapbox\",\"marker\":{\"colorbar\":{\"ticks\":\"\",\"outlinewidth\":0}}}],\"scattergeo\":[{\"type\":\"scattergeo\",\"marker\":{\"colorbar\":{\"ticks\":\"\",\"outlinewidth\":0}}}],\"histogram\":[{\"type\":\"histogram\",\"marker\":{\"colorbar\":{\"ticks\":\"\",\"outlinewidth\":0}}}],\"pie\":[{\"type\":\"pie\",\"automargin\":true}],\"choropleth\":[{\"colorbar\":{\"ticks\":\"\",\"outlinewidth\":0},\"type\":\"choropleth\"}],\"heatmapgl\":[{\"colorbar\":{\"ticks\":\"\",\"outlinewidth\":0},\"type\":\"heatmapgl\",\"colorscale\":[[0.0,\"#0d0887\"],[0.1111111111111111,\"#46039f\"],[0.2222222222222222,\"#7201a8\"],[0.3333333333333333,\"#9c179e\"],[0.4444444444444444,\"#bd3786\"],[0.5555555555555556,\"#d8576b\"],[0.6666666666666666,\"#ed7953\"],[0.7777777777777778,\"#fb9f3a\"],[0.8888888888888888,\"#fdca26\"],[1.0,\"#f0f921\"]]}],\"bar\":[{\"type\":\"bar\",\"error_y\":{\"color\":\"#2a3f5f\"},\"error_x\":{\"color\":\"#2a3f5f\"},\"marker\":{\"line\":{\"color\":\"#E5ECF6\",\"width\":0.5}}}],\"heatmap\":[{\"colorbar\":{\"ticks\":\"\",\"outlinewidth\":0},\"type\":\"heatmap\",\"colorscale\":[[0.0,\"#0d0887\"],[0.1111111111111111,\"#46039f\"],[0.2222222222222222,\"#7201a8\"],[0.3333333333333333,\"#9c179e\"],[0.4444444444444444,\"#bd3786\"],[0.5555555555555556,\"#d8576b\"],[0.6666666666666666,\"#ed7953\"],[0.7777777777777778,\"#fb9f3a\"],[0.8888888888888888,\"#fdca26\"],[1.0,\"#f0f921\"]]}],\"contourcarpet\":[{\"colorbar\":{\"ticks\":\"\",\"outlinewidth\":0},\"type\":\"contourcarpet\"}],\"table\":[{\"type\":\"table\",\"header\":{\"line\":{\"color\":\"white\"},\"fill\":{\"color\":\"#C8D4E3\"}},\"cells\":{\"line\":{\"color\":\"white\"},\"fill\":{\"color\":\"#EBF0F8\"}}}],\"scatter3d\":[{\"line\":{\"colorbar\":{\"ticks\":\"\",\"outlinewidth\":0}},\"type\":\"scatter3d\",\"marker\":{\"colorbar\":{\"ticks\":\"\",\"outlinewidth\":0}}}],\"scattergl\":[{\"type\":\"scattergl\",\"marker\":{\"colorbar\":{\"ticks\":\"\",\"outlinewidth\":0}}}],\"histogram2d\":[{\"colorbar\":{\"ticks\":\"\",\"outlinewidth\":0},\"type\":\"histogram2d\",\"colorscale\":[[0.0,\"#0d0887\"],[0.1111111111111111,\"#46039f\"],[0.2222222222222222,\"#7201a8\"],[0.3333333333333333,\"#9c179e\"],[0.4444444444444444,\"#bd3786\"],[0.5555555555555556,\"#d8576b\"],[0.6666666666666666,\"#ed7953\"],[0.7777777777777778,\"#fb9f3a\"],[0.8888888888888888,\"#fdca26\"],[1.0,\"#f0f921\"]]}],\"scatterternary\":[{\"type\":\"scatterternary\",\"marker\":{\"colorbar\":{\"ticks\":\"\",\"outlinewidth\":0}}}],\"scatterpolargl\":[{\"type\":\"scatterpolargl\",\"marker\":{\"colorbar\":{\"ticks\":\"\",\"outlinewidth\":0}}}]}},\"margin\":{\"l\":50,\"b\":50,\"r\":50,\"t\":60}},\n",
       "        {\"editable\":false,\"responsive\":true,\"staticPlot\":false,\"scrollZoom\":true},\n",
       "    )\n",
       "}\n",
       "\n",
       "        });\n",
       "    </script>\n",
       "</div>\n",
       "\n",
       "</body>\n",
       "</html>"
      ],
      "text/plain": [
       "data: [\n",
       "  \"heatmap with fields transpose, type, and z\"\n",
       "]\n",
       "\n",
       "layout: \"layout with fields margin and template\"\n",
       "\n"
      ]
     },
     "execution_count": 16,
     "metadata": {},
     "output_type": "execute_result"
    }
   ],
   "source": [
    "Plot(heatmap(z=L15))"
   ]
  },
  {
   "cell_type": "code",
   "execution_count": null,
   "id": "4a4c17d9-7344-407b-a0b6-a2acc7ce1d9f",
   "metadata": {},
   "outputs": [],
   "source": []
  }
 ],
 "metadata": {
  "kernelspec": {
   "display_name": "Julia 1.10.4",
   "language": "julia",
   "name": "julia-1.10"
  },
  "language_info": {
   "file_extension": ".jl",
   "mimetype": "application/julia",
   "name": "julia",
   "version": "1.10.4"
  }
 },
 "nbformat": 4,
 "nbformat_minor": 5
}
